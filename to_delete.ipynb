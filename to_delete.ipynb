{
  "nbformat": 4,
  "nbformat_minor": 0,
  "metadata": {
    "colab": {
      "name": "to-delete.ipynb",
      "provenance": [],
      "collapsed_sections": [],
      "mount_file_id": "15EGE1FFL7VbXoP-y-H5NjAtahgTmgoUt",
      "authorship_tag": "ABX9TyOVxhvZR1uDCZq4NqJn/yxy",
      "include_colab_link": true
    },
    "kernelspec": {
      "name": "python3",
      "display_name": "Python 3"
    },
    "language_info": {
      "name": "python"
    }
  },
  "cells": [
    {
      "cell_type": "markdown",
      "metadata": {
        "id": "view-in-github",
        "colab_type": "text"
      },
      "source": [
        "<a href=\"https://colab.research.google.com/github/dgoppenheimer/Molecular-Dynamics/blob/main/to_delete.ipynb\" target=\"_parent\"><img src=\"https://colab.research.google.com/assets/colab-badge.svg\" alt=\"Open In Colab\"/></a>"
      ]
    },
    {
      "cell_type": "code",
      "execution_count": 1,
      "metadata": {
        "colab": {
          "base_uri": "https://localhost:8080/"
        },
        "id": "XfXOFdt6Srtc",
        "outputId": "bda7995d-fa36-4ee9-9c86-b3344728b7c1"
      },
      "outputs": [
        {
          "output_type": "stream",
          "name": "stdout",
          "text": [
            "/content\n"
          ]
        }
      ],
      "source": [
        "! pwd"
      ]
    },
    {
      "cell_type": "code",
      "source": [
        "%cd drive/MyDrive"
      ],
      "metadata": {
        "colab": {
          "base_uri": "https://localhost:8080/"
        },
        "id": "jz5gbfwcS9QF",
        "outputId": "0f987845-81b6-47b4-8ee4-3b68c50b4c36"
      },
      "execution_count": 3,
      "outputs": [
        {
          "output_type": "stream",
          "name": "stdout",
          "text": [
            "/content/drive/MyDrive\n"
          ]
        }
      ]
    },
    {
      "cell_type": "code",
      "source": [
        "! git clone https://github.com/dgoppenheimer/rama8000.git"
      ],
      "metadata": {
        "colab": {
          "base_uri": "https://localhost:8080/"
        },
        "id": "HtGo-scHTCG9",
        "outputId": "39676589-5f7e-47e0-fe48-b720531e3c61"
      },
      "execution_count": 4,
      "outputs": [
        {
          "output_type": "stream",
          "name": "stdout",
          "text": [
            "Cloning into 'rama8000'...\n",
            "remote: Enumerating objects: 60, done.\u001b[K\n",
            "remote: Counting objects: 100% (60/60), done.\u001b[K\n",
            "remote: Compressing objects: 100% (58/58), done.\u001b[K\n",
            "remote: Total 60 (delta 1), reused 56 (delta 0), pack-reused 0\u001b[K\n",
            "Unpacking objects: 100% (60/60), done.\n"
          ]
        }
      ]
    },
    {
      "cell_type": "markdown",
      "source": [
        "# Ramachandran Plotter\n",
        "\n",
        "[Ramachandran Plotter (v2.0.2)](https://github.com/Joseph-Ellaway/Ramachandran_Plotter)"
      ],
      "metadata": {
        "id": "6wUzskX4q1iW"
      }
    },
    {
      "cell_type": "code",
      "source": [
        "!pip install numpy pandas matplotlib scipy biopython matplotlib argparse opencv-python"
      ],
      "metadata": {
        "colab": {
          "base_uri": "https://localhost:8080/",
          "height": 436
        },
        "id": "xI3nI1zcp_1A",
        "outputId": "01a7c042-a014-4087-b07a-2504884f35a4"
      },
      "execution_count": 1,
      "outputs": [
        {
          "output_type": "stream",
          "name": "stdout",
          "text": [
            "Requirement already satisfied: numpy in /usr/local/lib/python3.7/dist-packages (1.21.5)\n",
            "Requirement already satisfied: pandas in /usr/local/lib/python3.7/dist-packages (1.3.5)\n",
            "Requirement already satisfied: matplotlib in /usr/local/lib/python3.7/dist-packages (3.2.2)\n",
            "Requirement already satisfied: scipy in /usr/local/lib/python3.7/dist-packages (1.4.1)\n",
            "Collecting biopython\n",
            "  Downloading biopython-1.79-cp37-cp37m-manylinux_2_5_x86_64.manylinux1_x86_64.whl (2.3 MB)\n",
            "\u001b[K     |████████████████████████████████| 2.3 MB 7.7 MB/s \n",
            "\u001b[?25hCollecting argparse\n",
            "  Downloading argparse-1.4.0-py2.py3-none-any.whl (23 kB)\n",
            "Requirement already satisfied: opencv-python in /usr/local/lib/python3.7/dist-packages (4.1.2.30)\n",
            "Requirement already satisfied: python-dateutil>=2.7.3 in /usr/local/lib/python3.7/dist-packages (from pandas) (2.8.2)\n",
            "Requirement already satisfied: pytz>=2017.3 in /usr/local/lib/python3.7/dist-packages (from pandas) (2018.9)\n",
            "Requirement already satisfied: six>=1.5 in /usr/local/lib/python3.7/dist-packages (from python-dateutil>=2.7.3->pandas) (1.15.0)\n",
            "Requirement already satisfied: kiwisolver>=1.0.1 in /usr/local/lib/python3.7/dist-packages (from matplotlib) (1.3.2)\n",
            "Requirement already satisfied: cycler>=0.10 in /usr/local/lib/python3.7/dist-packages (from matplotlib) (0.11.0)\n",
            "Requirement already satisfied: pyparsing!=2.0.4,!=2.1.2,!=2.1.6,>=2.0.1 in /usr/local/lib/python3.7/dist-packages (from matplotlib) (3.0.7)\n",
            "Installing collected packages: biopython, argparse\n",
            "Successfully installed argparse-1.4.0 biopython-1.79\n"
          ]
        },
        {
          "output_type": "display_data",
          "data": {
            "application/vnd.colab-display-data+json": {
              "pip_warning": {
                "packages": [
                  "argparse"
                ]
              }
            }
          },
          "metadata": {}
        }
      ]
    },
    {
      "cell_type": "code",
      "source": [
        "!wget https://files.rcsb.org/download/6GVE.pdb"
      ],
      "metadata": {
        "colab": {
          "base_uri": "https://localhost:8080/"
        },
        "id": "jQNYIUH4rcD6",
        "outputId": "faa71826-cee0-4111-f712-cfcc4c478dec"
      },
      "execution_count": 1,
      "outputs": [
        {
          "output_type": "stream",
          "name": "stdout",
          "text": [
            "--2022-03-11 15:51:55--  https://files.rcsb.org/download/6GVE.pdb\n",
            "Resolving files.rcsb.org (files.rcsb.org)... 132.249.210.222\n",
            "Connecting to files.rcsb.org (files.rcsb.org)|132.249.210.222|:443... connected.\n",
            "HTTP request sent, awaiting response... 200 OK\n",
            "Length: unspecified [application/octet-stream]\n",
            "Saving to: ‘6GVE.pdb’\n",
            "\n",
            "6GVE.pdb                [               <=>  ]   2.71M   301KB/s    in 10s     \n",
            "\n",
            "2022-03-11 15:52:07 (265 KB/s) - ‘6GVE.pdb’ saved [2839698]\n",
            "\n"
          ]
        }
      ]
    },
    {
      "cell_type": "code",
      "source": [
        "!git clone https://github.com/Joseph-Ellaway/Ramachandran_Plotter.git"
      ],
      "metadata": {
        "colab": {
          "base_uri": "https://localhost:8080/"
        },
        "id": "1v-oWkxXsZNe",
        "outputId": "e0439386-331c-459f-879c-703d6924bd45"
      },
      "execution_count": 4,
      "outputs": [
        {
          "output_type": "stream",
          "name": "stdout",
          "text": [
            "Cloning into 'Ramachandran_Plotter'...\n",
            "remote: Enumerating objects: 157, done.\u001b[K\n",
            "remote: Counting objects: 100% (157/157), done.\u001b[K\n",
            "remote: Compressing objects: 100% (133/133), done.\u001b[K\n",
            "remote: Total 157 (delta 72), reused 61 (delta 19), pack-reused 0\u001b[K\n",
            "Receiving objects: 100% (157/157), 77.41 MiB | 23.75 MiB/s, done.\n",
            "Resolving deltas: 100% (72/72), done.\n"
          ]
        }
      ]
    },
    {
      "cell_type": "code",
      "source": [
        "%cd Ramachandran_Plotter"
      ],
      "metadata": {
        "colab": {
          "base_uri": "https://localhost:8080/"
        },
        "id": "PgZksHdXsmLh",
        "outputId": "e1d3cac2-015b-4929-c366-eeaf8647355b"
      },
      "execution_count": 6,
      "outputs": [
        {
          "output_type": "stream",
          "name": "stdout",
          "text": [
            "/content/Ramachandran_Plotter\n"
          ]
        }
      ]
    },
    {
      "cell_type": "code",
      "source": [
        "!python RamachandranPlotter.py --pdb 6GVE.pdb --plot_type 0"
      ],
      "metadata": {
        "colab": {
          "base_uri": "https://localhost:8080/"
        },
        "id": "vcFwksn-rkla",
        "outputId": "de716204-094c-4bd8-ff1d-6ba735a4a4ad"
      },
      "execution_count": 8,
      "outputs": [
        {
          "output_type": "stream",
          "name": "stdout",
          "text": [
            "Traceback (most recent call last):\n",
            "  File \"/usr/local/lib/python3.7/dist-packages/matplotlib/texmanager.py\", line 306, in _run_checked_subprocess\n",
            "    stderr=subprocess.STDOUT)\n",
            "  File \"/usr/lib/python3.7/subprocess.py\", line 411, in check_output\n",
            "    **kwargs).stdout\n",
            "  File \"/usr/lib/python3.7/subprocess.py\", line 488, in run\n",
            "    with Popen(*popenargs, **kwargs) as process:\n",
            "  File \"/usr/lib/python3.7/subprocess.py\", line 800, in __init__\n",
            "    restore_signals, start_new_session)\n",
            "  File \"/usr/lib/python3.7/subprocess.py\", line 1551, in _execute_child\n",
            "    raise child_exception_type(errno_num, err_msg, err_filename)\n",
            "FileNotFoundError: [Errno 2] No such file or directory: 'latex': 'latex'\n",
            "\n",
            "The above exception was the direct cause of the following exception:\n",
            "\n",
            "Traceback (most recent call last):\n",
            "  File \"RamachandranPlotter.py\", line 163, in <module>\n",
            "    main(pdb, itmod, model_num, itchain, chain_num, plot_type, out_dir, verb, save, file_type)\n",
            "  File \"RamachandranPlotter.py\", line 136, in main\n",
            "    plt.savefig(str(plot_name[:-4] + '.png'), dpi=out_resolution, bbox_inches=0, pad_inches=None)\n",
            "  File \"/usr/local/lib/python3.7/dist-packages/matplotlib/pyplot.py\", line 723, in savefig\n",
            "    res = fig.savefig(*args, **kwargs)\n",
            "  File \"/usr/local/lib/python3.7/dist-packages/matplotlib/figure.py\", line 2203, in savefig\n",
            "    self.canvas.print_figure(fname, **kwargs)\n",
            "  File \"/usr/local/lib/python3.7/dist-packages/matplotlib/backend_bases.py\", line 2126, in print_figure\n",
            "    **kwargs)\n",
            "  File \"/usr/local/lib/python3.7/dist-packages/matplotlib/backends/backend_agg.py\", line 514, in print_png\n",
            "    FigureCanvasAgg.draw(self)\n",
            "  File \"/usr/local/lib/python3.7/dist-packages/matplotlib/backends/backend_agg.py\", line 393, in draw\n",
            "    self.figure.draw(self.renderer)\n",
            "  File \"/usr/local/lib/python3.7/dist-packages/matplotlib/artist.py\", line 38, in draw_wrapper\n",
            "    return draw(artist, renderer, *args, **kwargs)\n",
            "  File \"/usr/local/lib/python3.7/dist-packages/matplotlib/figure.py\", line 1729, in draw\n",
            "    self.tight_layout(**self._tight_parameters)\n",
            "  File \"/usr/local/lib/python3.7/dist-packages/matplotlib/cbook/deprecation.py\", line 358, in wrapper\n",
            "    return func(*args, **kwargs)\n",
            "  File \"/usr/local/lib/python3.7/dist-packages/matplotlib/figure.py\", line 2496, in tight_layout\n",
            "    pad=pad, h_pad=h_pad, w_pad=w_pad, rect=rect)\n",
            "  File \"/usr/local/lib/python3.7/dist-packages/matplotlib/tight_layout.py\", line 360, in get_tight_layout_figure\n",
            "    pad=pad, h_pad=h_pad, w_pad=w_pad)\n",
            "  File \"/usr/local/lib/python3.7/dist-packages/matplotlib/tight_layout.py\", line 109, in auto_adjust_subplotpars\n",
            "    tight_bbox_raw = union([ax.get_tightbbox(renderer) for ax in subplots\n",
            "  File \"/usr/local/lib/python3.7/dist-packages/matplotlib/tight_layout.py\", line 110, in <listcomp>\n",
            "    if ax.get_visible()])\n",
            "  File \"/usr/local/lib/python3.7/dist-packages/matplotlib/axes/_base.py\", line 4323, in get_tightbbox\n",
            "    bb_xaxis = self.xaxis.get_tightbbox(renderer)\n",
            "  File \"/usr/local/lib/python3.7/dist-packages/matplotlib/axis.py\", line 1188, in get_tightbbox\n",
            "    self._update_label_position(renderer)\n",
            "  File \"/usr/local/lib/python3.7/dist-packages/matplotlib/axis.py\", line 2021, in _update_label_position\n",
            "    bboxes, bboxes2 = self._get_tick_boxes_siblings(renderer=renderer)\n",
            "  File \"/usr/local/lib/python3.7/dist-packages/matplotlib/axis.py\", line 2006, in _get_tick_boxes_siblings\n",
            "    tlb, tlb2 = axx.xaxis._get_tick_bboxes(ticks_to_draw, renderer)\n",
            "  File \"/usr/local/lib/python3.7/dist-packages/matplotlib/axis.py\", line 1174, in _get_tick_bboxes\n",
            "    for tick in ticks if tick.label1.get_visible()],\n",
            "  File \"/usr/local/lib/python3.7/dist-packages/matplotlib/axis.py\", line 1174, in <listcomp>\n",
            "    for tick in ticks if tick.label1.get_visible()],\n",
            "  File \"/usr/local/lib/python3.7/dist-packages/matplotlib/text.py\", line 905, in get_window_extent\n",
            "    bbox, info, descent = self._get_layout(self._renderer)\n",
            "  File \"/usr/local/lib/python3.7/dist-packages/matplotlib/text.py\", line 293, in _get_layout\n",
            "    ismath=\"TeX\" if self.get_usetex() else False)\n",
            "  File \"/usr/local/lib/python3.7/dist-packages/matplotlib/backends/backend_agg.py\", line 204, in get_text_width_height_descent\n",
            "    s, fontsize, renderer=self)\n",
            "  File \"/usr/local/lib/python3.7/dist-packages/matplotlib/texmanager.py\", line 458, in get_text_width_height_descent\n",
            "    dvifile = self.make_dvi(tex, fontsize)\n",
            "  File \"/usr/local/lib/python3.7/dist-packages/matplotlib/texmanager.py\", line 340, in make_dvi\n",
            "    texfile], tex)\n",
            "  File \"/usr/local/lib/python3.7/dist-packages/matplotlib/texmanager.py\", line 310, in _run_checked_subprocess\n",
            "    'found'.format(command[0])) from exc\n",
            "RuntimeError: Failed to process string with tex because latex could not be found\n"
          ]
        }
      ]
    },
    {
      "cell_type": "markdown",
      "source": [
        "## RamachanDraw\n",
        "\n",
        "Note: this uses BioPython, which returns angles in radians. These values need to be converted to degrees before plotting. "
      ],
      "metadata": {
        "id": "0Q54UIMO7gfv"
      }
    },
    {
      "cell_type": "code",
      "source": [
        "!!pip install biopython RamachanDraw"
      ],
      "metadata": {
        "colab": {
          "base_uri": "https://localhost:8080/"
        },
        "id": "BtSoOM3w7iIk",
        "outputId": "4ce18c0e-ac6d-4317-fda4-06bc735f06f2"
      },
      "execution_count": 9,
      "outputs": [
        {
          "output_type": "execute_result",
          "data": {
            "text/plain": [
              "['Requirement already satisfied: biopython in /usr/local/lib/python3.7/dist-packages (1.79)',\n",
              " 'Collecting RamachanDraw',\n",
              " '  Downloading RamachanDraw-0.2.3-py3-none-any.whl (82 kB)',\n",
              " '\\x1b[?25l',\n",
              " '\\x1b[K     |████                            | 10 kB 15.8 MB/s eta 0:00:01',\n",
              " '\\x1b[K     |████████                        | 20 kB 21.6 MB/s eta 0:00:01',\n",
              " '\\x1b[K     |████████████                    | 30 kB 20.0 MB/s eta 0:00:01',\n",
              " '\\x1b[K     |███████████████▉                | 40 kB 9.5 MB/s eta 0:00:01',\n",
              " '\\x1b[K     |███████████████████▉            | 51 kB 9.2 MB/s eta 0:00:01',\n",
              " '\\x1b[K     |███████████████████████▉        | 61 kB 10.7 MB/s eta 0:00:01',\n",
              " '\\x1b[K     |███████████████████████████▊    | 71 kB 9.9 MB/s eta 0:00:01',\n",
              " '\\x1b[K     |███████████████████████████████▊| 81 kB 10.8 MB/s eta 0:00:01',\n",
              " '\\x1b[K     |████████████████████████████████| 82 kB 793 kB/s ',\n",
              " '\\x1b[?25hRequirement already satisfied: numpy in /usr/local/lib/python3.7/dist-packages (from biopython) (1.21.5)',\n",
              " 'Collecting rich>=9.3',\n",
              " '  Downloading rich-12.0.0-py3-none-any.whl (224 kB)',\n",
              " '\\x1b[?25l',\n",
              " '\\x1b[K     |█▌                              | 10 kB 21.6 MB/s eta 0:00:01',\n",
              " '\\x1b[K     |███                             | 20 kB 28.6 MB/s eta 0:00:01',\n",
              " '\\x1b[K     |████▍                           | 30 kB 37.0 MB/s eta 0:00:01',\n",
              " '\\x1b[K     |█████▉                          | 40 kB 43.4 MB/s eta 0:00:01',\n",
              " '\\x1b[K     |███████▎                        | 51 kB 47.0 MB/s eta 0:00:01',\n",
              " '\\x1b[K     |████████▊                       | 61 kB 49.7 MB/s eta 0:00:01',\n",
              " '\\x1b[K     |██████████▎                     | 71 kB 52.6 MB/s eta 0:00:01',\n",
              " '\\x1b[K     |███████████▊                    | 81 kB 55.3 MB/s eta 0:00:01',\n",
              " '\\x1b[K     |█████████████▏                  | 92 kB 58.8 MB/s eta 0:00:01',\n",
              " '\\x1b[K     |██████████████▋                 | 102 kB 22.9 MB/s eta 0:00:01',\n",
              " '\\x1b[K     |████████████████                | 112 kB 22.9 MB/s eta 0:00:01',\n",
              " '\\x1b[K     |█████████████████▌              | 122 kB 22.9 MB/s eta 0:00:01',\n",
              " '\\x1b[K     |███████████████████             | 133 kB 22.9 MB/s eta 0:00:01',\n",
              " '\\x1b[K     |████████████████████▌           | 143 kB 22.9 MB/s eta 0:00:01',\n",
              " '\\x1b[K     |██████████████████████          | 153 kB 22.9 MB/s eta 0:00:01',\n",
              " '\\x1b[K     |███████████████████████▍        | 163 kB 22.9 MB/s eta 0:00:01',\n",
              " '\\x1b[K     |████████████████████████▉       | 174 kB 22.9 MB/s eta 0:00:01',\n",
              " '\\x1b[K     |██████████████████████████▎     | 184 kB 22.9 MB/s eta 0:00:01',\n",
              " '\\x1b[K     |███████████████████████████▉    | 194 kB 22.9 MB/s eta 0:00:01',\n",
              " '\\x1b[K     |█████████████████████████████▎  | 204 kB 22.9 MB/s eta 0:00:01',\n",
              " '\\x1b[K     |██████████████████████████████▊ | 215 kB 22.9 MB/s eta 0:00:01',\n",
              " '\\x1b[K     |████████████████████████████████| 224 kB 22.9 MB/s ',\n",
              " '\\x1b[?25hRequirement already satisfied: matplotlib>=3.1.2 in /usr/local/lib/python3.7/dist-packages (from RamachanDraw) (3.2.2)',\n",
              " 'Requirement already satisfied: python-dateutil>=2.1 in /usr/local/lib/python3.7/dist-packages (from matplotlib>=3.1.2->RamachanDraw) (2.8.2)',\n",
              " 'Requirement already satisfied: kiwisolver>=1.0.1 in /usr/local/lib/python3.7/dist-packages (from matplotlib>=3.1.2->RamachanDraw) (1.3.2)',\n",
              " 'Requirement already satisfied: pyparsing!=2.0.4,!=2.1.2,!=2.1.6,>=2.0.1 in /usr/local/lib/python3.7/dist-packages (from matplotlib>=3.1.2->RamachanDraw) (3.0.7)',\n",
              " 'Requirement already satisfied: cycler>=0.10 in /usr/local/lib/python3.7/dist-packages (from matplotlib>=3.1.2->RamachanDraw) (0.11.0)',\n",
              " 'Requirement already satisfied: six>=1.5 in /usr/local/lib/python3.7/dist-packages (from python-dateutil>=2.1->matplotlib>=3.1.2->RamachanDraw) (1.15.0)',\n",
              " 'Requirement already satisfied: pygments<3.0.0,>=2.6.0 in /usr/local/lib/python3.7/dist-packages (from rich>=9.3->RamachanDraw) (2.6.1)',\n",
              " 'Collecting commonmark<0.10.0,>=0.9.0',\n",
              " '  Downloading commonmark-0.9.1-py2.py3-none-any.whl (51 kB)',\n",
              " '\\x1b[?25l',\n",
              " '\\x1b[K     |██████▍                         | 10 kB 23.9 MB/s eta 0:00:01',\n",
              " '\\x1b[K     |████████████▉                   | 20 kB 30.8 MB/s eta 0:00:01',\n",
              " '\\x1b[K     |███████████████████▎            | 30 kB 39.5 MB/s eta 0:00:01',\n",
              " '\\x1b[K     |█████████████████████████▋      | 40 kB 46.1 MB/s eta 0:00:01',\n",
              " '\\x1b[K     |████████████████████████████████| 51 kB 5.3 MB/s ',\n",
              " '\\x1b[?25hRequirement already satisfied: typing-extensions<5.0,>=3.7.4 in /usr/local/lib/python3.7/dist-packages (from rich>=9.3->RamachanDraw) (3.10.0.2)',\n",
              " 'Installing collected packages: commonmark, rich, RamachanDraw',\n",
              " 'Successfully installed RamachanDraw-0.2.3 commonmark-0.9.1 rich-12.0.0']"
            ]
          },
          "metadata": {},
          "execution_count": 9
        }
      ]
    },
    {
      "cell_type": "code",
      "source": [
        "from RamachanDraw import fetch, phi_psi, plot\n",
        "# PDB id to be downloaded\n",
        "PDB_id = '1MBN'\n",
        "# Drawing the Ramachandran plot\n",
        "plot(fetch(PDB_id))\n",
        "\n",
        "# Generating a dictionary to store the phi and psi angles\n",
        "# And returning the ignored aminoacid residues\n",
        "phi_psi_dict, ignored_res = phi_psi(fetch(PDB_id), return_ignored=True)"
      ],
      "metadata": {
        "colab": {
          "base_uri": "https://localhost:8080/",
          "height": 646
        },
        "id": "0wEQhjIv71bm",
        "outputId": "28d129fa-bee6-43fb-eb3c-982d0b6ddab7"
      },
      "execution_count": 10,
      "outputs": [
        {
          "output_type": "stream",
          "name": "stdout",
          "text": [
            "Downloading PDB structure '1MBN'...\n",
            "Structure exists: 'PDB/pdb1mbn.ent' \n"
          ]
        },
        {
          "output_type": "display_data",
          "data": {
            "text/html": [
              "<pre style=\"white-space:pre;overflow-x:auto;line-height:normal;font-family:Menlo,'DejaVu Sans Mono',consolas,'Courier New',monospace\"><span style=\"font-style: italic\">             Ignored residues              </span>\n",
              "┏━━━━━━━━━━━┳━━━━━━━━━━━━━━━━━━━━━━━━━━━━━┓\n",
              "┃<span style=\"font-weight: bold\"> Aminoacid </span>┃<span style=\"font-weight: bold\">             φ-ψ             </span>┃\n",
              "┃<span style=\"font-weight: bold\"> residue   </span>┃<span style=\"font-weight: bold\">           angles            </span>┃\n",
              "┡━━━━━━━━━━━╇━━━━━━━━━━━━━━━━━━━━━━━━━━━━━┩\n",
              "│<span style=\"color: #800000; text-decoration-color: #800000\"> VAL1      </span>│ (None, -0.9957294083533922) │\n",
              "│<span style=\"color: #800000; text-decoration-color: #800000\"> GLY153    </span>│ (-0.9869091918795888, None) │\n",
              "└───────────┴─────────────────────────────┘\n",
              "</pre>\n"
            ],
            "text/plain": [
              "\u001b[3m             Ignored residues              \u001b[0m\n",
              "┏━━━━━━━━━━━┳━━━━━━━━━━━━━━━━━━━━━━━━━━━━━┓\n",
              "┃\u001b[1m \u001b[0m\u001b[1mAminoacid\u001b[0m\u001b[1m \u001b[0m┃\u001b[1m \u001b[0m\u001b[1m            φ-ψ            \u001b[0m\u001b[1m \u001b[0m┃\n",
              "┃\u001b[1m \u001b[0m\u001b[1mresidue  \u001b[0m\u001b[1m \u001b[0m┃\u001b[1m \u001b[0m\u001b[1m          angles           \u001b[0m\u001b[1m \u001b[0m┃\n",
              "┡━━━━━━━━━━━╇━━━━━━━━━━━━━━━━━━━━━━━━━━━━━┩\n",
              "│\u001b[31m \u001b[0m\u001b[31mVAL1     \u001b[0m\u001b[31m \u001b[0m│ (None, -0.9957294083533922) │\n",
              "│\u001b[31m \u001b[0m\u001b[31mGLY153   \u001b[0m\u001b[31m \u001b[0m│ (-0.9869091918795888, None) │\n",
              "└───────────┴─────────────────────────────┘\n"
            ]
          },
          "metadata": {}
        },
        {
          "output_type": "display_data",
          "data": {
            "image/png": "[encoded data removed]",
            "text/plain": [
              "<Figure size 550x500 with 1 Axes>"
            ]
          },
          "metadata": {
            "needs_background": "light"
          }
        }
      ]
    },
    {
      "cell_type": "code",
      "source": [
        "phi_psi_dict"
      ],
      "metadata": {
        "colab": {
          "base_uri": "https://localhost:8080/"
        },
        "id": "AJIhPfYq-NsP",
        "outputId": "c1456e23-462d-47aa-db78-7958b04c3f49"
      },
      "execution_count": 11,
      "outputs": [
        {
          "output_type": "execute_result",
          "data": {
            "text/plain": [
              "{'ALA110': (-0.6273022324854546, -0.7579713320160087),\n",
              " 'ALA125': (-0.8988741962494499, -0.7140536658720922),\n",
              " 'ALA127': (-1.1561457723471134, -0.7969274168962844),\n",
              " 'ALA130': (-0.8679305144197629, -1.1100131406811382),\n",
              " 'ALA134': (-0.7153797157327023, -0.9221166703517172),\n",
              " 'ALA143': (-1.012289461356022, -0.9014442743860962),\n",
              " 'ALA144': (-0.8728962076882008, -0.9744445785371159),\n",
              " 'ALA15': (-0.6926123264883218, -0.6185782391921386),\n",
              " 'ALA19': (-1.1751487422733826, -0.6383486979277195),\n",
              " 'ALA22': (-1.0012580223485477, -0.6708274210837253),\n",
              " 'ALA53': (-0.9430046239717251, -1.0742152420027387),\n",
              " 'ALA57': (-1.1042119204386784, -0.8831745638001569),\n",
              " 'ALA71': (-0.9974497430128219, -0.8221825832668451),\n",
              " 'ALA74': (-0.820738617191227, -0.8492784394801335),\n",
              " 'ALA84': (-0.7120713487096739, -0.9815363160809619),\n",
              " 'ALA90': (-0.9598250423214364, -0.8456414554895575),\n",
              " 'ALA94': (-1.2930175548494864, -0.9043255340943098),\n",
              " 'ARG118': (-1.5484397107575067, -0.12833651865110124),\n",
              " 'ARG139': (-0.9865045918903222, -0.9635472658046778),\n",
              " 'ARG31': (-0.8318762484285998, -0.9631457223728467),\n",
              " 'ARG45': (-1.1197448223850237, -0.2164946988734361),\n",
              " 'ASN132': (-1.0104022539159259, -0.8015951850454608),\n",
              " 'ASP122': (-1.0470422220736526, -0.5213742378985067),\n",
              " 'ASP126': (-0.958607286476578, -0.8786986820842273),\n",
              " 'ASP141': (-1.0990573047428311, -0.7274849889226416),\n",
              " 'ASP20': (-2.5648858613083916, 1.251669068030798),\n",
              " 'ASP27': (-0.686228770633187, -1.3106938842162776),\n",
              " 'ASP44': (-1.0686961200587914, -0.7643788739834673),\n",
              " 'ASP60': (-1.207349971448911, -0.6443009294010176),\n",
              " 'GLN128': (-0.8781924356869087, -0.8256323381899372),\n",
              " 'GLN152': (1.527519990083956, 1.355878818994415),\n",
              " 'GLN26': (-0.8508294148952286, -1.0011047488610743),\n",
              " 'GLN8': (-0.6358912538282976, -1.0588515351650265),\n",
              " 'GLN91': (-1.020336014502944, -0.9790645109113186),\n",
              " 'GLU105': (-1.2186096129307673, -0.9856571468641238),\n",
              " 'GLU109': (-1.1749421627781533, -1.247063702907893),\n",
              " 'GLU136': (-1.0154264676164773, -0.5758224457400574),\n",
              " 'GLU148': (-0.4711635449047379, -1.0808810939758642),\n",
              " 'GLU18': (-1.163901915280563, -0.28359266319279863),\n",
              " 'GLU38': (-0.9972426203027414, -0.816719211984773),\n",
              " 'GLU4': (-0.7925565740424724, -1.046381972557746),\n",
              " 'GLU41': (-0.780383955297622, -0.6563109947080487),\n",
              " 'GLU52': (-1.2389226996224878, -0.6157905059974326),\n",
              " 'GLU54': (-0.7498535746496716, -1.0096225641254168),\n",
              " 'GLU59': (-1.3183878093019117, -0.4949333694563543),\n",
              " 'GLU6': (-0.980362063302108, -0.6896096330495),\n",
              " 'GLU83': (-0.6612575130022896, -0.8825723616978388),\n",
              " 'GLU85': (-1.3515907027031078, -0.7367886429926627),\n",
              " 'GLY121': (-1.2742789891380804, -0.801863192250977),\n",
              " 'GLY124': (-1.2772374783638794, -2.9468902765044866),\n",
              " 'GLY129': (-1.2227312972404358, -0.8048391968395904),\n",
              " 'GLY150': (1.6659164244914124, 0.49043706374166773),\n",
              " 'GLY153': (-0.9869091918795888, None),\n",
              " 'GLY23': (-0.9946678186881427, -1.1623946502205116),\n",
              " 'GLY25': (-0.9299237216135283, -0.9343119507703977),\n",
              " 'GLY5': (-0.8796635811649264, -0.9632433173107866),\n",
              " 'GLY65': (-0.9212780560090766, -0.7617633961830281),\n",
              " 'GLY73': (-0.9714417656524211, -0.8541101402611343),\n",
              " 'GLY80': (1.6680686039015096, -0.4394949742084001),\n",
              " 'HIS113': (-1.0779973178809001, -1.0155182798903861),\n",
              " 'HIS116': (-1.0731257785778834, -1.1930341738628134),\n",
              " 'HIS119': (-2.5042748243609605, 1.363819910166988),\n",
              " 'HIS12': (-1.1680406464184123, -0.6591736378845469),\n",
              " 'HIS24': (-0.8396121443698766, -0.886066795818875),\n",
              " 'HIS36': (-2.2966622716230973, 1.5330835041406217),\n",
              " 'HIS48': (-0.71369690968539, -0.6409709263570803),\n",
              " 'HIS64': (-0.9866487196814214, -0.9189184435016107),\n",
              " 'HIS81': (-1.5884470770587789, 1.006761091399266),\n",
              " 'HIS82': (-1.6437610173612072, 0.06809320434223194),\n",
              " 'HIS93': (-1.076277160722334, -0.7471445050281031),\n",
              " 'HIS97': (-0.933561957437702, -0.6794651891069535),\n",
              " 'ILE101': (-0.7798650129010217, -0.552508596923811),\n",
              " 'ILE107': (-0.6945639332396614, -0.9284576588771335),\n",
              " 'ILE111': (-0.8065929507494175, -1.105722402531959),\n",
              " 'ILE112': (-1.232695431411501, -0.573204509591698),\n",
              " 'ILE142': (-1.168017318265507, -0.6178145167498781),\n",
              " 'ILE28': (-0.7224716783012144, -0.9287901076448889),\n",
              " 'ILE30': (-0.9112458328120715, -0.8993090584408665),\n",
              " 'ILE75': (-1.118920865527748, -0.8334457606877755),\n",
              " 'ILE99': (-1.5687086417748781, 1.899610840765197),\n",
              " 'LEU104': (-0.9539889427611903, -0.7180600871917524),\n",
              " 'LEU11': (-1.1810485680131826, -0.7131168770974838),\n",
              " 'LEU115': (-0.9869673928263759, -0.7938859883198703),\n",
              " 'LEU135': (-0.9719888050574361, -0.8926209844804965),\n",
              " 'LEU137': (-1.031344690132501, -0.8818980487385771),\n",
              " 'LEU149': (-1.0271483066106855, -0.4278424488609492),\n",
              " 'LEU2': (-0.799235749696787, 2.3313452806370405),\n",
              " 'LEU29': (-0.7882186678558061, -1.1192019217724598),\n",
              " 'LEU32': (-1.005422619475112, -0.9495844798032841),\n",
              " 'LEU40': (-1.3738206109282571, -0.7125096368967371),\n",
              " 'LEU49': (-0.8864549841912317, 1.9132017168304378),\n",
              " 'LEU61': (-0.9228733340409144, -0.98782785079436),\n",
              " 'LEU69': (-0.912530744127999, -0.781805644801136),\n",
              " 'LEU72': (-0.8426270103796294, -1.0408226941252596),\n",
              " 'LEU76': (-0.8535845745669262, -1.2329538269866105),\n",
              " 'LEU86': (-0.9975642968338545, -0.7633346123351235),\n",
              " 'LEU89': (-1.2230228459796735, -0.836428114073012),\n",
              " 'LEU9': (-1.1114181141850508, -0.8975126287027947),\n",
              " 'LYS102': (-0.9722439115836502, -0.5699934139775127),\n",
              " 'LYS133': (-0.9254110505766493, -1.0902559850171079),\n",
              " 'LYS140': (-0.7625095677432426, -1.0311623989126473),\n",
              " 'LYS145': (-0.9481676390414415, -0.711864485667957),\n",
              " 'LYS147': (-0.7137550216472369, -1.2385746096854249),\n",
              " 'LYS16': (-1.3010185210805367, -0.8066985157055631),\n",
              " 'LYS34': (-1.1909696652500072, -0.8396525920874178),\n",
              " 'LYS42': (-1.2321014467702027, -0.31999147594017485),\n",
              " 'LYS47': (-0.7065956549636305, -0.8879917724969159),\n",
              " 'LYS50': (-1.6299859387149715, -0.7850269460037494),\n",
              " 'LYS56': (-1.0116756446411113, -0.543277636774332),\n",
              " 'LYS62': (-0.7276742339887358, -1.3364351881180967),\n",
              " 'LYS63': (-0.6120752996894004, -0.7619955881091686),\n",
              " 'LYS77': (-0.6808345700923267, -0.40503573033250784),\n",
              " 'LYS78': (-1.4602052235626906, 0.04476653144318092),\n",
              " 'LYS79': (0.6707368203178267, 0.8302555713484288),\n",
              " 'LYS87': (-0.781873784102178, -1.2534904533573477),\n",
              " 'LYS96': (-2.4084640761373173, -1.0914785309716524),\n",
              " 'LYS98': (1.1334126927021675, 0.6453806856147666),\n",
              " 'MET131': (-0.7650426213309978, -0.9425651510310751),\n",
              " 'MET55': (-0.8246720984016259, -1.1646063102840745),\n",
              " 'PHE106': (-0.7775893115831647, -1.2753157164790496),\n",
              " 'PHE123': (-2.0991447366488214, 1.1545856343047847),\n",
              " 'PHE138': (-1.0333301775746655, -0.7684822435450136),\n",
              " 'PHE33': (-0.9884143442049226, -0.7095804510618733),\n",
              " 'PHE43': (-1.7290337718800826, 1.924849664428563),\n",
              " 'PHE46': (-2.0846147029641586, -0.41199796042099557),\n",
              " 'PRO100': (-1.0602553385742393, 2.356876823786706),\n",
              " 'PRO120': (-0.9884368824060882, -1.0488795530975459),\n",
              " 'PRO37': (-0.9262324927999376, -0.47279365380678706),\n",
              " 'PRO88': (-0.7015551350906076, -0.7043476419992851),\n",
              " 'SER108': (-0.7108611999599039, -0.6636309515395042),\n",
              " 'SER117': (-0.5093297264022879, -0.9247265999767221),\n",
              " 'SER3': (-0.8651132187681491, 2.6190998316693728),\n",
              " 'SER35': (-1.2559821398265854, -0.6890950089480321),\n",
              " 'SER58': (-1.053056713569665, 2.1971283417378444),\n",
              " 'SER92': (-0.888033640033255, -1.0005327561090405),\n",
              " 'THR39': (-0.8892204730374399, -0.7131535337289567),\n",
              " 'THR51': (-2.052347898137186, 3.028466618734926),\n",
              " 'THR67': (-0.8374462815976017, -1.0557488670790423),\n",
              " 'THR70': (-0.9720672169210828, -0.9310813467053327),\n",
              " 'THR95': (-1.310202891847415, -0.25287277135037356),\n",
              " 'TRP14': (-0.8958174974803828, -1.1433170461509623),\n",
              " 'TRP7': (-1.1023120903925436, -0.7988390311490624),\n",
              " 'TYR103': (-1.2757435943037991, -0.7958495006618674),\n",
              " 'TYR146': (-0.9386399558619817, -1.1150562583762371),\n",
              " 'TYR151': (-1.9547473123055519, -3.1105849037160307),\n",
              " 'VAL1': (None, -0.9957294083533922),\n",
              " 'VAL10': (-0.9017662821328788, -0.7722244695645456),\n",
              " 'VAL114': (-0.8049388093090041, -0.906061192192025),\n",
              " 'VAL13': (-1.0721479130176856, -0.7868812088217884),\n",
              " 'VAL17': (-1.0409838685485693, -0.5236030818156246),\n",
              " 'VAL21': (-0.7864893753266332, -1.0454314824397348),\n",
              " 'VAL66': (-0.9412391642026069, -0.9995169522790223),\n",
              " 'VAL68': (-0.9328096596956927, -0.9501463801416651)}"
            ]
          },
          "metadata": {},
          "execution_count": 11
        }
      ]
    },
    {
      "cell_type": "code",
      "source": [
        "import csv\n",
        "\n",
        "with open('/content/1mbn-rama.csv', 'w') as csv_file:\n",
        "    writer = csv.writer(csv_file)\n",
        "    writer.writerow(('amino_acid', 'phi', 'psi'))\n",
        "    for key, value in phi_psi_dict.items():\n",
        "        writer.writerow([key, value[0], value[1]])"
      ],
      "metadata": {
        "id": "IaJr1EM7Mib7"
      },
      "execution_count": 48,
      "outputs": []
    },
    {
      "cell_type": "code",
      "source": [
        "import plotly.graph_objects as go\n",
        "import pandas as pd\n",
        "import plotly.express as px\n",
        "\n",
        "df = pd.read_csv('/content/1mbn-rama.csv')\n",
        "           \n",
        "df.columns"
      ],
      "metadata": {
        "colab": {
          "base_uri": "https://localhost:8080/"
        },
        "id": "uRam0ja-FuGz",
        "outputId": "f2467f2e-906d-42ef-970f-53fe6982c7ef"
      },
      "execution_count": 33,
      "outputs": [
        {
          "output_type": "execute_result",
          "data": {
            "text/plain": [
              "Index(['amino acid', 'phi', 'psi'], dtype='object')"
            ]
          },
          "metadata": {},
          "execution_count": 33
        }
      ]
    },
    {
      "cell_type": "code",
      "source": [
        "df.psi # gets the data in the specified column"
      ],
      "metadata": {
        "colab": {
          "base_uri": "https://localhost:8080/"
        },
        "id": "SdCAFX24OzbR",
        "outputId": "919dde52-c7c9-4ef2-b356-e770bcde1325"
      },
      "execution_count": 34,
      "outputs": [
        {
          "output_type": "execute_result",
          "data": {
            "text/plain": [
              "0     -0.995729\n",
              "1      2.331345\n",
              "2      2.619100\n",
              "3     -1.046382\n",
              "4     -0.963243\n",
              "         ...   \n",
              "148   -0.427842\n",
              "149    0.490437\n",
              "150   -3.110585\n",
              "151    1.355879\n",
              "152         NaN\n",
              "Name: psi, Length: 153, dtype: float64"
            ]
          },
          "metadata": {},
          "execution_count": 34
        }
      ]
    },
    {
      "cell_type": "code",
      "source": [
        "df = pd.read_csv('/content/1mbn-rama.csv')\n",
        "print(df.head())"
      ],
      "metadata": {
        "colab": {
          "base_uri": "https://localhost:8080/"
        },
        "id": "f7mFE5ZAVjbs",
        "outputId": "804c8e3e-b504-4aea-e8d7-bb8fc059a4be"
      },
      "execution_count": 42,
      "outputs": [
        {
          "output_type": "stream",
          "name": "stdout",
          "text": [
            "  amino acid       phi       psi\n",
            "0       VAL1       NaN -0.995729\n",
            "1       LEU2 -0.799236  2.331345\n",
            "2       SER3 -0.865113  2.619100\n",
            "3       GLU4 -0.792557 -1.046382\n",
            "4       GLY5 -0.879664 -0.963243\n"
          ]
        }
      ]
    },
    {
      "cell_type": "code",
      "source": [
        "import plotly.graph_objects as go\n",
        "import pandas as pd\n",
        "import plotly.express as px\n",
        "\n",
        "df = pd.read_csv('/content/1mbn-rama.csv')\n",
        "\n",
        "# The above code creates a dataframe (df) from reading a csv file.\n",
        "\n",
        "fig = go.Figure(data=[go.Table(\n",
        "    header=dict(values=list(df.columns),\n",
        "                fill_color='paleturquoise',\n",
        "                align='center'),\n",
        "    cells=dict(values=[df.amino_acid, df.phi, df.psi],\n",
        "                fill_color='lavender',\n",
        "                align='left'))\n",
        "])\n",
        "\n",
        "# The above code creates a figure from the dataframe,\n",
        "# and styles the header and the cells of the table.\n",
        "\n",
        "fig.update_layout(width=500) # limits the table to a width of 500px\n",
        "fig.show() # shows the figure\n",
        "# fig.write_image(\"rmsd-core.dat.png\") # make a png of the figure"
      ],
      "metadata": {
        "colab": {
          "base_uri": "https://localhost:8080/",
          "height": 542
        },
        "id": "MIOdUgL69dk4",
        "outputId": "a455db75-d0e5-433d-af79-f7e1eefb1775"
      },
      "execution_count": 49,
      "outputs": [
        {
          "output_type": "display_data",
          "data": {
            "text/html": [
              "<html>\n",
              "<head><meta charset=\"utf-8\" /></head>\n",
              "<body>\n",
              "    <div>            <script src=\"https://cdnjs.cloudflare.com/ajax/libs/mathjax/2.7.5/MathJax.js?config=TeX-AMS-MML_SVG\"></script><script type=\"text/javascript\">if (window.MathJax) {MathJax.Hub.Config({SVG: {font: \"STIX-Web\"}});}</script>                <script type=\"text/javascript\">window.PlotlyConfig = {MathJaxConfig: 'local'};</script>\n",
              "        <script src=\"https://cdn.plot.ly/plotly-2.8.3.min.js\"></script>                <div id=\"86d9bfcc-a8c7-4385-a99f-ef77c98dbacb\" class=\"plotly-graph-div\" style=\"height:525px; width:500px;\"></div>            <script type=\"text/javascript\">                                    window.PLOTLYENV=window.PLOTLYENV || {};                                    if (document.getElementById(\"86d9bfcc-a8c7-4385-a99f-ef77c98dbacb\")) {                    Plotly.newPlot(                        \"86d9bfcc-a8c7-4385-a99f-ef77c98dbacb\",                        [{\"cells\":{\"align\":\"left\",\"fill\":{\"color\":\"lavender\"},\"values\":[[\"VAL1\",\"LEU2\",\"SER3\",\"GLU4\",\"GLY5\",\"GLU6\",\"TRP7\",\"GLN8\",\"LEU9\",\"VAL10\",\"LEU11\",\"HIS12\",\"VAL13\",\"TRP14\",\"ALA15\",\"LYS16\",\"VAL17\",\"GLU18\",\"ALA19\",\"ASP20\",\"VAL21\",\"ALA22\",\"GLY23\",\"HIS24\",\"GLY25\",\"GLN26\",\"ASP27\",\"ILE28\",\"LEU29\",\"ILE30\",\"ARG31\",\"LEU32\",\"PHE33\",\"LYS34\",\"SER35\",\"HIS36\",\"PRO37\",\"GLU38\",\"THR39\",\"LEU40\",\"GLU41\",\"LYS42\",\"PHE43\",\"ASP44\",\"ARG45\",\"PHE46\",\"LYS47\",\"HIS48\",\"LEU49\",\"LYS50\",\"THR51\",\"GLU52\",\"ALA53\",\"GLU54\",\"MET55\",\"LYS56\",\"ALA57\",\"SER58\",\"GLU59\",\"ASP60\",\"LEU61\",\"LYS62\",\"LYS63\",\"HIS64\",\"GLY65\",\"VAL66\",\"THR67\",\"VAL68\",\"LEU69\",\"THR70\",\"ALA71\",\"LEU72\",\"GLY73\",\"ALA74\",\"ILE75\",\"LEU76\",\"LYS77\",\"LYS78\",\"LYS79\",\"GLY80\",\"HIS81\",\"HIS82\",\"GLU83\",\"ALA84\",\"GLU85\",\"LEU86\",\"LYS87\",\"PRO88\",\"LEU89\",\"ALA90\",\"GLN91\",\"SER92\",\"HIS93\",\"ALA94\",\"THR95\",\"LYS96\",\"HIS97\",\"LYS98\",\"ILE99\",\"PRO100\",\"ILE101\",\"LYS102\",\"TYR103\",\"LEU104\",\"GLU105\",\"PHE106\",\"ILE107\",\"SER108\",\"GLU109\",\"ALA110\",\"ILE111\",\"ILE112\",\"HIS113\",\"VAL114\",\"LEU115\",\"HIS116\",\"SER117\",\"ARG118\",\"HIS119\",\"PRO120\",\"GLY121\",\"ASP122\",\"PHE123\",\"GLY124\",\"ALA125\",\"ASP126\",\"ALA127\",\"GLN128\",\"GLY129\",\"ALA130\",\"MET131\",\"ASN132\",\"LYS133\",\"ALA134\",\"LEU135\",\"GLU136\",\"LEU137\",\"PHE138\",\"ARG139\",\"LYS140\",\"ASP141\",\"ILE142\",\"ALA143\",\"ALA144\",\"LYS145\",\"TYR146\",\"LYS147\",\"GLU148\",\"LEU149\",\"GLY150\",\"TYR151\",\"GLN152\",\"GLY153\"],[null,-0.799235749696787,-0.8651132187681491,-0.7925565740424724,-0.8796635811649264,-0.980362063302108,-1.1023120903925436,-0.6358912538282976,-1.1114181141850508,-0.9017662821328788,-1.1810485680131826,-1.1680406464184123,-1.0721479130176856,-0.8958174974803828,-0.6926123264883218,-1.3010185210805367,-1.0409838685485693,-1.163901915280563,-1.1751487422733826,-2.564885861308392,-0.7864893753266332,-1.0012580223485477,-0.9946678186881428,-0.8396121443698766,-0.9299237216135284,-0.8508294148952286,-0.686228770633187,-0.7224716783012144,-0.7882186678558061,-0.9112458328120716,-0.8318762484285998,-1.005422619475112,-0.9884143442049226,-1.1909696652500072,-1.2559821398265854,-2.2966622716230973,-0.9262324927999376,-0.9972426203027414,-0.8892204730374399,-1.3738206109282571,-0.780383955297622,-1.2321014467702027,-1.7290337718800826,-1.0686961200587914,-1.1197448223850237,-2.084614702964158,-0.7065956549636305,-0.71369690968539,-0.8864549841912317,-1.6299859387149715,-2.052347898137186,-1.2389226996224878,-0.9430046239717252,-0.7498535746496716,-0.8246720984016259,-1.0116756446411113,-1.1042119204386784,-1.053056713569665,-1.3183878093019117,-1.207349971448911,-0.9228733340409144,-0.7276742339887358,-0.6120752996894004,-0.9866487196814214,-0.9212780560090766,-0.9412391642026068,-0.8374462815976017,-0.9328096596956928,-0.912530744127999,-0.9720672169210828,-0.997449743012822,-0.8426270103796294,-0.9714417656524212,-0.820738617191227,-1.118920865527748,-0.8535845745669262,-0.6808345700923267,-1.4602052235626906,0.6707368203178267,1.6680686039015096,-1.5884470770587789,-1.6437610173612072,-0.6612575130022896,-0.7120713487096739,-1.3515907027031078,-0.9975642968338544,-0.781873784102178,-0.7015551350906076,-1.2230228459796737,-0.9598250423214364,-1.020336014502944,-0.888033640033255,-1.076277160722334,-1.2930175548494864,-1.310202891847415,-2.4084640761373173,-0.933561957437702,1.1334126927021675,-1.568708641774878,-1.0602553385742393,-0.7798650129010217,-0.9722439115836502,-1.2757435943037991,-0.9539889427611904,-1.2186096129307673,-0.7775893115831647,-0.6945639332396614,-0.7108611999599039,-1.174942162778153,-0.6273022324854546,-0.8065929507494175,-1.232695431411501,-1.0779973178809,-0.8049388093090041,-0.986967392826376,-1.0731257785778834,-0.5093297264022879,-1.5484397107575067,-2.5042748243609605,-0.9884368824060882,-1.2742789891380804,-1.0470422220736526,-2.0991447366488214,-1.2772374783638794,-0.8988741962494499,-0.958607286476578,-1.1561457723471134,-0.8781924356869087,-1.2227312972404358,-0.8679305144197629,-0.7650426213309978,-1.010402253915926,-0.9254110505766492,-0.7153797157327023,-0.971988805057436,-1.0154264676164773,-1.031344690132501,-1.0333301775746655,-0.9865045918903222,-0.7625095677432426,-1.0990573047428311,-1.168017318265507,-1.012289461356022,-0.8728962076882008,-0.9481676390414416,-0.9386399558619816,-0.7137550216472369,-0.4711635449047379,-1.0271483066106857,1.6659164244914124,-1.954747312305552,1.527519990083956,-0.9869091918795888],[-0.9957294083533922,2.3313452806370405,2.6190998316693728,-1.046381972557746,-0.9632433173107866,-0.6896096330495,-0.7988390311490624,-1.0588515351650265,-0.8975126287027947,-0.7722244695645456,-0.7131168770974838,-0.6591736378845469,-0.7868812088217884,-1.1433170461509623,-0.6185782391921386,-0.8066985157055631,-0.5236030818156246,-0.2835926631927986,-0.6383486979277195,1.251669068030798,-1.0454314824397348,-0.6708274210837253,-1.1623946502205116,-0.886066795818875,-0.9343119507703976,-1.0011047488610745,-1.3106938842162776,-0.9287901076448888,-1.1192019217724598,-0.8993090584408665,-0.9631457223728468,-0.949584479803284,-0.7095804510618733,-0.8396525920874178,-0.6890950089480321,1.5330835041406217,-0.472793653806787,-0.816719211984773,-0.7131535337289567,-0.7125096368967371,-0.6563109947080487,-0.3199914759401748,1.924849664428563,-0.7643788739834673,-0.2164946988734361,-0.4119979604209955,-0.8879917724969159,-0.6409709263570803,1.9132017168304376,-0.7850269460037494,3.028466618734926,-0.6157905059974326,-1.0742152420027389,-1.0096225641254168,-1.1646063102840745,-0.543277636774332,-0.8831745638001569,2.1971283417378444,-0.4949333694563543,-0.6443009294010176,-0.98782785079436,-1.3364351881180967,-0.7619955881091686,-0.9189184435016108,-0.7617633961830281,-0.9995169522790224,-1.0557488670790425,-0.9501463801416652,-0.781805644801136,-0.9310813467053328,-0.8221825832668451,-1.0408226941252596,-0.8541101402611343,-0.8492784394801335,-0.8334457606877755,-1.2329538269866105,-0.4050357303325078,0.0447665314431809,0.8302555713484288,-0.4394949742084001,1.006761091399266,0.0680932043422319,-0.8825723616978388,-0.981536316080962,-0.7367886429926627,-0.7633346123351235,-1.2534904533573477,-0.7043476419992851,-0.836428114073012,-0.8456414554895575,-0.9790645109113186,-1.0005327561090405,-0.7471445050281031,-0.9043255340943098,-0.2528727713503735,-1.0914785309716524,-0.6794651891069535,0.6453806856147666,1.899610840765197,2.356876823786706,-0.552508596923811,-0.5699934139775127,-0.7958495006618674,-0.7180600871917524,-0.9856571468641238,-1.2753157164790496,-0.9284576588771336,-0.6636309515395042,-1.247063702907893,-0.7579713320160087,-1.105722402531959,-0.573204509591698,-1.015518279890386,-0.906061192192025,-0.7938859883198703,-1.1930341738628134,-0.924726599976722,-0.1283365186511012,1.363819910166988,-1.048879553097546,-0.801863192250977,-0.5213742378985067,1.154585634304785,-2.946890276504486,-0.7140536658720922,-0.8786986820842273,-0.7969274168962844,-0.8256323381899372,-0.8048391968395904,-1.1100131406811382,-0.9425651510310752,-0.8015951850454608,-1.090255985017108,-0.9221166703517172,-0.8926209844804965,-0.5758224457400574,-0.8818980487385771,-0.7684822435450136,-0.9635472658046778,-1.0311623989126473,-0.7274849889226416,-0.6178145167498781,-0.9014442743860962,-0.974444578537116,-0.711864485667957,-1.1150562583762371,-1.2385746096854249,-1.0808810939758642,-0.4278424488609492,0.4904370637416677,-3.1105849037160307,1.355878818994415,null]]},\"header\":{\"align\":\"center\",\"fill\":{\"color\":\"paleturquoise\"},\"values\":[\"amino_acid\",\"phi\",\"psi\"]},\"type\":\"table\"}],                        {\"template\":{\"data\":{\"bar\":[{\"error_x\":{\"color\":\"#2a3f5f\"},\"error_y\":{\"color\":\"#2a3f5f\"},\"marker\":{\"line\":{\"color\":\"#E5ECF6\",\"width\":0.5},\"pattern\":{\"fillmode\":\"overlay\",\"size\":10,\"solidity\":0.2}},\"type\":\"bar\"}],\"barpolar\":[{\"marker\":{\"line\":{\"color\":\"#E5ECF6\",\"width\":0.5},\"pattern\":{\"fillmode\":\"overlay\",\"size\":10,\"solidity\":0.2}},\"type\":\"barpolar\"}],\"carpet\":[{\"aaxis\":{\"endlinecolor\":\"#2a3f5f\",\"gridcolor\":\"white\",\"linecolor\":\"white\",\"minorgridcolor\":\"white\",\"startlinecolor\":\"#2a3f5f\"},\"baxis\":{\"endlinecolor\":\"#2a3f5f\",\"gridcolor\":\"white\",\"linecolor\":\"white\",\"minorgridcolor\":\"white\",\"startlinecolor\":\"#2a3f5f\"},\"type\":\"carpet\"}],\"choropleth\":[{\"colorbar\":{\"outlinewidth\":0,\"ticks\":\"\"},\"type\":\"choropleth\"}],\"contour\":[{\"colorbar\":{\"outlinewidth\":0,\"ticks\":\"\"},\"colorscale\":[[0.0,\"#0d0887\"],[0.1111111111111111,\"#46039f\"],[0.2222222222222222,\"#7201a8\"],[0.3333333333333333,\"#9c179e\"],[0.4444444444444444,\"#bd3786\"],[0.5555555555555556,\"#d8576b\"],[0.6666666666666666,\"#ed7953\"],[0.7777777777777778,\"#fb9f3a\"],[0.8888888888888888,\"#fdca26\"],[1.0,\"#f0f921\"]],\"type\":\"contour\"}],\"contourcarpet\":[{\"colorbar\":{\"outlinewidth\":0,\"ticks\":\"\"},\"type\":\"contourcarpet\"}],\"heatmap\":[{\"colorbar\":{\"outlinewidth\":0,\"ticks\":\"\"},\"colorscale\":[[0.0,\"#0d0887\"],[0.1111111111111111,\"#46039f\"],[0.2222222222222222,\"#7201a8\"],[0.3333333333333333,\"#9c179e\"],[0.4444444444444444,\"#bd3786\"],[0.5555555555555556,\"#d8576b\"],[0.6666666666666666,\"#ed7953\"],[0.7777777777777778,\"#fb9f3a\"],[0.8888888888888888,\"#fdca26\"],[1.0,\"#f0f921\"]],\"type\":\"heatmap\"}],\"heatmapgl\":[{\"colorbar\":{\"outlinewidth\":0,\"ticks\":\"\"},\"colorscale\":[[0.0,\"#0d0887\"],[0.1111111111111111,\"#46039f\"],[0.2222222222222222,\"#7201a8\"],[0.3333333333333333,\"#9c179e\"],[0.4444444444444444,\"#bd3786\"],[0.5555555555555556,\"#d8576b\"],[0.6666666666666666,\"#ed7953\"],[0.7777777777777778,\"#fb9f3a\"],[0.8888888888888888,\"#fdca26\"],[1.0,\"#f0f921\"]],\"type\":\"heatmapgl\"}],\"histogram\":[{\"marker\":{\"pattern\":{\"fillmode\":\"overlay\",\"size\":10,\"solidity\":0.2}},\"type\":\"histogram\"}],\"histogram2d\":[{\"colorbar\":{\"outlinewidth\":0,\"ticks\":\"\"},\"colorscale\":[[0.0,\"#0d0887\"],[0.1111111111111111,\"#46039f\"],[0.2222222222222222,\"#7201a8\"],[0.3333333333333333,\"#9c179e\"],[0.4444444444444444,\"#bd3786\"],[0.5555555555555556,\"#d8576b\"],[0.6666666666666666,\"#ed7953\"],[0.7777777777777778,\"#fb9f3a\"],[0.8888888888888888,\"#fdca26\"],[1.0,\"#f0f921\"]],\"type\":\"histogram2d\"}],\"histogram2dcontour\":[{\"colorbar\":{\"outlinewidth\":0,\"ticks\":\"\"},\"colorscale\":[[0.0,\"#0d0887\"],[0.1111111111111111,\"#46039f\"],[0.2222222222222222,\"#7201a8\"],[0.3333333333333333,\"#9c179e\"],[0.4444444444444444,\"#bd3786\"],[0.5555555555555556,\"#d8576b\"],[0.6666666666666666,\"#ed7953\"],[0.7777777777777778,\"#fb9f3a\"],[0.8888888888888888,\"#fdca26\"],[1.0,\"#f0f921\"]],\"type\":\"histogram2dcontour\"}],\"mesh3d\":[{\"colorbar\":{\"outlinewidth\":0,\"ticks\":\"\"},\"type\":\"mesh3d\"}],\"parcoords\":[{\"line\":{\"colorbar\":{\"outlinewidth\":0,\"ticks\":\"\"}},\"type\":\"parcoords\"}],\"pie\":[{\"automargin\":true,\"type\":\"pie\"}],\"scatter\":[{\"marker\":{\"colorbar\":{\"outlinewidth\":0,\"ticks\":\"\"}},\"type\":\"scatter\"}],\"scatter3d\":[{\"line\":{\"colorbar\":{\"outlinewidth\":0,\"ticks\":\"\"}},\"marker\":{\"colorbar\":{\"outlinewidth\":0,\"ticks\":\"\"}},\"type\":\"scatter3d\"}],\"scattercarpet\":[{\"marker\":{\"colorbar\":{\"outlinewidth\":0,\"ticks\":\"\"}},\"type\":\"scattercarpet\"}],\"scattergeo\":[{\"marker\":{\"colorbar\":{\"outlinewidth\":0,\"ticks\":\"\"}},\"type\":\"scattergeo\"}],\"scattergl\":[{\"marker\":{\"colorbar\":{\"outlinewidth\":0,\"ticks\":\"\"}},\"type\":\"scattergl\"}],\"scattermapbox\":[{\"marker\":{\"colorbar\":{\"outlinewidth\":0,\"ticks\":\"\"}},\"type\":\"scattermapbox\"}],\"scatterpolar\":[{\"marker\":{\"colorbar\":{\"outlinewidth\":0,\"ticks\":\"\"}},\"type\":\"scatterpolar\"}],\"scatterpolargl\":[{\"marker\":{\"colorbar\":{\"outlinewidth\":0,\"ticks\":\"\"}},\"type\":\"scatterpolargl\"}],\"scatterternary\":[{\"marker\":{\"colorbar\":{\"outlinewidth\":0,\"ticks\":\"\"}},\"type\":\"scatterternary\"}],\"surface\":[{\"colorbar\":{\"outlinewidth\":0,\"ticks\":\"\"},\"colorscale\":[[0.0,\"#0d0887\"],[0.1111111111111111,\"#46039f\"],[0.2222222222222222,\"#7201a8\"],[0.3333333333333333,\"#9c179e\"],[0.4444444444444444,\"#bd3786\"],[0.5555555555555556,\"#d8576b\"],[0.6666666666666666,\"#ed7953\"],[0.7777777777777778,\"#fb9f3a\"],[0.8888888888888888,\"#fdca26\"],[1.0,\"#f0f921\"]],\"type\":\"surface\"}],\"table\":[{\"cells\":{\"fill\":{\"color\":\"#EBF0F8\"},\"line\":{\"color\":\"white\"}},\"header\":{\"fill\":{\"color\":\"#C8D4E3\"},\"line\":{\"color\":\"white\"}},\"type\":\"table\"}]},\"layout\":{\"annotationdefaults\":{\"arrowcolor\":\"#2a3f5f\",\"arrowhead\":0,\"arrowwidth\":1},\"autotypenumbers\":\"strict\",\"coloraxis\":{\"colorbar\":{\"outlinewidth\":0,\"ticks\":\"\"}},\"colorscale\":{\"diverging\":[[0,\"#8e0152\"],[0.1,\"#c51b7d\"],[0.2,\"#de77ae\"],[0.3,\"#f1b6da\"],[0.4,\"#fde0ef\"],[0.5,\"#f7f7f7\"],[0.6,\"#e6f5d0\"],[0.7,\"#b8e186\"],[0.8,\"#7fbc41\"],[0.9,\"#4d9221\"],[1,\"#276419\"]],\"sequential\":[[0.0,\"#0d0887\"],[0.1111111111111111,\"#46039f\"],[0.2222222222222222,\"#7201a8\"],[0.3333333333333333,\"#9c179e\"],[0.4444444444444444,\"#bd3786\"],[0.5555555555555556,\"#d8576b\"],[0.6666666666666666,\"#ed7953\"],[0.7777777777777778,\"#fb9f3a\"],[0.8888888888888888,\"#fdca26\"],[1.0,\"#f0f921\"]],\"sequentialminus\":[[0.0,\"#0d0887\"],[0.1111111111111111,\"#46039f\"],[0.2222222222222222,\"#7201a8\"],[0.3333333333333333,\"#9c179e\"],[0.4444444444444444,\"#bd3786\"],[0.5555555555555556,\"#d8576b\"],[0.6666666666666666,\"#ed7953\"],[0.7777777777777778,\"#fb9f3a\"],[0.8888888888888888,\"#fdca26\"],[1.0,\"#f0f921\"]]},\"colorway\":[\"#636efa\",\"#EF553B\",\"#00cc96\",\"#ab63fa\",\"#FFA15A\",\"#19d3f3\",\"#FF6692\",\"#B6E880\",\"#FF97FF\",\"#FECB52\"],\"font\":{\"color\":\"#2a3f5f\"},\"geo\":{\"bgcolor\":\"white\",\"lakecolor\":\"white\",\"landcolor\":\"#E5ECF6\",\"showlakes\":true,\"showland\":true,\"subunitcolor\":\"white\"},\"hoverlabel\":{\"align\":\"left\"},\"hovermode\":\"closest\",\"mapbox\":{\"style\":\"light\"},\"paper_bgcolor\":\"white\",\"plot_bgcolor\":\"#E5ECF6\",\"polar\":{\"angularaxis\":{\"gridcolor\":\"white\",\"linecolor\":\"white\",\"ticks\":\"\"},\"bgcolor\":\"#E5ECF6\",\"radialaxis\":{\"gridcolor\":\"white\",\"linecolor\":\"white\",\"ticks\":\"\"}},\"scene\":{\"xaxis\":{\"backgroundcolor\":\"#E5ECF6\",\"gridcolor\":\"white\",\"gridwidth\":2,\"linecolor\":\"white\",\"showbackground\":true,\"ticks\":\"\",\"zerolinecolor\":\"white\"},\"yaxis\":{\"backgroundcolor\":\"#E5ECF6\",\"gridcolor\":\"white\",\"gridwidth\":2,\"linecolor\":\"white\",\"showbackground\":true,\"ticks\":\"\",\"zerolinecolor\":\"white\"},\"zaxis\":{\"backgroundcolor\":\"#E5ECF6\",\"gridcolor\":\"white\",\"gridwidth\":2,\"linecolor\":\"white\",\"showbackground\":true,\"ticks\":\"\",\"zerolinecolor\":\"white\"}},\"shapedefaults\":{\"line\":{\"color\":\"#2a3f5f\"}},\"ternary\":{\"aaxis\":{\"gridcolor\":\"white\",\"linecolor\":\"white\",\"ticks\":\"\"},\"baxis\":{\"gridcolor\":\"white\",\"linecolor\":\"white\",\"ticks\":\"\"},\"bgcolor\":\"#E5ECF6\",\"caxis\":{\"gridcolor\":\"white\",\"linecolor\":\"white\",\"ticks\":\"\"}},\"title\":{\"x\":0.05},\"xaxis\":{\"automargin\":true,\"gridcolor\":\"white\",\"linecolor\":\"white\",\"ticks\":\"\",\"title\":{\"standoff\":15},\"zerolinecolor\":\"white\",\"zerolinewidth\":2},\"yaxis\":{\"automargin\":true,\"gridcolor\":\"white\",\"linecolor\":\"white\",\"ticks\":\"\",\"title\":{\"standoff\":15},\"zerolinecolor\":\"white\",\"zerolinewidth\":2}}},\"width\":500},                        {\"responsive\": true}                    ).then(function(){\n",
              "                            \n",
              "var gd = document.getElementById('86d9bfcc-a8c7-4385-a99f-ef77c98dbacb');\n",
              "var x = new MutationObserver(function (mutations, observer) {{\n",
              "        var display = window.getComputedStyle(gd).display;\n",
              "        if (!display || display === 'none') {{\n",
              "            console.log([gd, 'removed!']);\n",
              "            Plotly.purge(gd);\n",
              "            observer.disconnect();\n",
              "        }}\n",
              "}});\n",
              "\n",
              "// Listen for the removal of the full notebook cells\n",
              "var notebookContainer = gd.closest('#notebook-container');\n",
              "if (notebookContainer) {{\n",
              "    x.observe(notebookContainer, {childList: true});\n",
              "}}\n",
              "\n",
              "// Listen for the clearing of the current output cell\n",
              "var outputEl = gd.closest('.output');\n",
              "if (outputEl) {{\n",
              "    x.observe(outputEl, {childList: true});\n",
              "}}\n",
              "\n",
              "                        })                };                            </script>        </div>\n",
              "</body>\n",
              "</html>"
            ]
          },
          "metadata": {}
        }
      ]
    },
    {
      "cell_type": "code",
      "source": [
        "figscattertest = px.scatter(df, x=\"phi\", y=\"psi\",\n",
        "                 hover_name=\"amino_acid\" \n",
        "                 ) # x and y are the column names\n",
        "figscattertest.update_traces(marker=dict(color='white'))"
      ],
      "metadata": {
        "colab": {
          "base_uri": "https://localhost:8080/",
          "height": 542
        },
        "id": "Suxm1JU7U3_A",
        "outputId": "121f8276-2165-4bdd-e865-72fc47fa10a7"
      },
      "execution_count": 50,
      "outputs": [
        {
          "output_type": "display_data",
          "data": {
            "text/html": [
              "<html>\n",
              "<head><meta charset=\"utf-8\" /></head>\n",
              "<body>\n",
              "    <div>            <script src=\"https://cdnjs.cloudflare.com/ajax/libs/mathjax/2.7.5/MathJax.js?config=TeX-AMS-MML_SVG\"></script><script type=\"text/javascript\">if (window.MathJax) {MathJax.Hub.Config({SVG: {font: \"STIX-Web\"}});}</script>                <script type=\"text/javascript\">window.PlotlyConfig = {MathJaxConfig: 'local'};</script>\n",
              "        <script src=\"https://cdn.plot.ly/plotly-2.8.3.min.js\"></script>                <div id=\"a22ea4d5-de57-437b-b877-f37e19bc46d3\" class=\"plotly-graph-div\" style=\"height:525px; width:100%;\"></div>            <script type=\"text/javascript\">                                    window.PLOTLYENV=window.PLOTLYENV || {};                                    if (document.getElementById(\"a22ea4d5-de57-437b-b877-f37e19bc46d3\")) {                    Plotly.newPlot(                        \"a22ea4d5-de57-437b-b877-f37e19bc46d3\",                        [{\"hovertemplate\":\"<b>%{hovertext}</b><br><br>phi=%{x}<br>psi=%{y}<extra></extra>\",\"hovertext\":[\"VAL1\",\"LEU2\",\"SER3\",\"GLU4\",\"GLY5\",\"GLU6\",\"TRP7\",\"GLN8\",\"LEU9\",\"VAL10\",\"LEU11\",\"HIS12\",\"VAL13\",\"TRP14\",\"ALA15\",\"LYS16\",\"VAL17\",\"GLU18\",\"ALA19\",\"ASP20\",\"VAL21\",\"ALA22\",\"GLY23\",\"HIS24\",\"GLY25\",\"GLN26\",\"ASP27\",\"ILE28\",\"LEU29\",\"ILE30\",\"ARG31\",\"LEU32\",\"PHE33\",\"LYS34\",\"SER35\",\"HIS36\",\"PRO37\",\"GLU38\",\"THR39\",\"LEU40\",\"GLU41\",\"LYS42\",\"PHE43\",\"ASP44\",\"ARG45\",\"PHE46\",\"LYS47\",\"HIS48\",\"LEU49\",\"LYS50\",\"THR51\",\"GLU52\",\"ALA53\",\"GLU54\",\"MET55\",\"LYS56\",\"ALA57\",\"SER58\",\"GLU59\",\"ASP60\",\"LEU61\",\"LYS62\",\"LYS63\",\"HIS64\",\"GLY65\",\"VAL66\",\"THR67\",\"VAL68\",\"LEU69\",\"THR70\",\"ALA71\",\"LEU72\",\"GLY73\",\"ALA74\",\"ILE75\",\"LEU76\",\"LYS77\",\"LYS78\",\"LYS79\",\"GLY80\",\"HIS81\",\"HIS82\",\"GLU83\",\"ALA84\",\"GLU85\",\"LEU86\",\"LYS87\",\"PRO88\",\"LEU89\",\"ALA90\",\"GLN91\",\"SER92\",\"HIS93\",\"ALA94\",\"THR95\",\"LYS96\",\"HIS97\",\"LYS98\",\"ILE99\",\"PRO100\",\"ILE101\",\"LYS102\",\"TYR103\",\"LEU104\",\"GLU105\",\"PHE106\",\"ILE107\",\"SER108\",\"GLU109\",\"ALA110\",\"ILE111\",\"ILE112\",\"HIS113\",\"VAL114\",\"LEU115\",\"HIS116\",\"SER117\",\"ARG118\",\"HIS119\",\"PRO120\",\"GLY121\",\"ASP122\",\"PHE123\",\"GLY124\",\"ALA125\",\"ASP126\",\"ALA127\",\"GLN128\",\"GLY129\",\"ALA130\",\"MET131\",\"ASN132\",\"LYS133\",\"ALA134\",\"LEU135\",\"GLU136\",\"LEU137\",\"PHE138\",\"ARG139\",\"LYS140\",\"ASP141\",\"ILE142\",\"ALA143\",\"ALA144\",\"LYS145\",\"TYR146\",\"LYS147\",\"GLU148\",\"LEU149\",\"GLY150\",\"TYR151\",\"GLN152\",\"GLY153\"],\"legendgroup\":\"\",\"marker\":{\"color\":\"white\",\"symbol\":\"circle\"},\"mode\":\"markers\",\"name\":\"\",\"orientation\":\"v\",\"showlegend\":false,\"x\":[null,-0.799235749696787,-0.8651132187681491,-0.7925565740424724,-0.8796635811649264,-0.980362063302108,-1.1023120903925436,-0.6358912538282976,-1.1114181141850508,-0.9017662821328788,-1.1810485680131826,-1.1680406464184123,-1.0721479130176856,-0.8958174974803828,-0.6926123264883218,-1.3010185210805367,-1.0409838685485693,-1.163901915280563,-1.1751487422733826,-2.564885861308392,-0.7864893753266332,-1.0012580223485477,-0.9946678186881428,-0.8396121443698766,-0.9299237216135284,-0.8508294148952286,-0.686228770633187,-0.7224716783012144,-0.7882186678558061,-0.9112458328120716,-0.8318762484285998,-1.005422619475112,-0.9884143442049226,-1.1909696652500072,-1.2559821398265854,-2.2966622716230973,-0.9262324927999376,-0.9972426203027414,-0.8892204730374399,-1.3738206109282571,-0.780383955297622,-1.2321014467702027,-1.7290337718800826,-1.0686961200587914,-1.1197448223850237,-2.084614702964158,-0.7065956549636305,-0.71369690968539,-0.8864549841912317,-1.6299859387149715,-2.052347898137186,-1.2389226996224878,-0.9430046239717252,-0.7498535746496716,-0.8246720984016259,-1.0116756446411113,-1.1042119204386784,-1.053056713569665,-1.3183878093019117,-1.207349971448911,-0.9228733340409144,-0.7276742339887358,-0.6120752996894004,-0.9866487196814214,-0.9212780560090766,-0.9412391642026068,-0.8374462815976017,-0.9328096596956928,-0.912530744127999,-0.9720672169210828,-0.997449743012822,-0.8426270103796294,-0.9714417656524212,-0.820738617191227,-1.118920865527748,-0.8535845745669262,-0.6808345700923267,-1.4602052235626906,0.6707368203178267,1.6680686039015096,-1.5884470770587789,-1.6437610173612072,-0.6612575130022896,-0.7120713487096739,-1.3515907027031078,-0.9975642968338544,-0.781873784102178,-0.7015551350906076,-1.2230228459796737,-0.9598250423214364,-1.020336014502944,-0.888033640033255,-1.076277160722334,-1.2930175548494864,-1.310202891847415,-2.4084640761373173,-0.933561957437702,1.1334126927021675,-1.568708641774878,-1.0602553385742393,-0.7798650129010217,-0.9722439115836502,-1.2757435943037991,-0.9539889427611904,-1.2186096129307673,-0.7775893115831647,-0.6945639332396614,-0.7108611999599039,-1.174942162778153,-0.6273022324854546,-0.8065929507494175,-1.232695431411501,-1.0779973178809,-0.8049388093090041,-0.986967392826376,-1.0731257785778834,-0.5093297264022879,-1.5484397107575067,-2.5042748243609605,-0.9884368824060882,-1.2742789891380804,-1.0470422220736526,-2.0991447366488214,-1.2772374783638794,-0.8988741962494499,-0.958607286476578,-1.1561457723471134,-0.8781924356869087,-1.2227312972404358,-0.8679305144197629,-0.7650426213309978,-1.010402253915926,-0.9254110505766492,-0.7153797157327023,-0.971988805057436,-1.0154264676164773,-1.031344690132501,-1.0333301775746655,-0.9865045918903222,-0.7625095677432426,-1.0990573047428311,-1.168017318265507,-1.012289461356022,-0.8728962076882008,-0.9481676390414416,-0.9386399558619816,-0.7137550216472369,-0.4711635449047379,-1.0271483066106857,1.6659164244914124,-1.954747312305552,1.527519990083956,-0.9869091918795888],\"xaxis\":\"x\",\"y\":[-0.9957294083533922,2.3313452806370405,2.6190998316693728,-1.046381972557746,-0.9632433173107866,-0.6896096330495,-0.7988390311490624,-1.0588515351650265,-0.8975126287027947,-0.7722244695645456,-0.7131168770974838,-0.6591736378845469,-0.7868812088217884,-1.1433170461509623,-0.6185782391921386,-0.8066985157055631,-0.5236030818156246,-0.2835926631927986,-0.6383486979277195,1.251669068030798,-1.0454314824397348,-0.6708274210837253,-1.1623946502205116,-0.886066795818875,-0.9343119507703976,-1.0011047488610745,-1.3106938842162776,-0.9287901076448888,-1.1192019217724598,-0.8993090584408665,-0.9631457223728468,-0.949584479803284,-0.7095804510618733,-0.8396525920874178,-0.6890950089480321,1.5330835041406217,-0.472793653806787,-0.816719211984773,-0.7131535337289567,-0.7125096368967371,-0.6563109947080487,-0.3199914759401748,1.924849664428563,-0.7643788739834673,-0.2164946988734361,-0.4119979604209955,-0.8879917724969159,-0.6409709263570803,1.9132017168304376,-0.7850269460037494,3.028466618734926,-0.6157905059974326,-1.0742152420027389,-1.0096225641254168,-1.1646063102840745,-0.543277636774332,-0.8831745638001569,2.1971283417378444,-0.4949333694563543,-0.6443009294010176,-0.98782785079436,-1.3364351881180967,-0.7619955881091686,-0.9189184435016108,-0.7617633961830281,-0.9995169522790224,-1.0557488670790425,-0.9501463801416652,-0.781805644801136,-0.9310813467053328,-0.8221825832668451,-1.0408226941252596,-0.8541101402611343,-0.8492784394801335,-0.8334457606877755,-1.2329538269866105,-0.4050357303325078,0.0447665314431809,0.8302555713484288,-0.4394949742084001,1.006761091399266,0.0680932043422319,-0.8825723616978388,-0.981536316080962,-0.7367886429926627,-0.7633346123351235,-1.2534904533573477,-0.7043476419992851,-0.836428114073012,-0.8456414554895575,-0.9790645109113186,-1.0005327561090405,-0.7471445050281031,-0.9043255340943098,-0.2528727713503735,-1.0914785309716524,-0.6794651891069535,0.6453806856147666,1.899610840765197,2.356876823786706,-0.552508596923811,-0.5699934139775127,-0.7958495006618674,-0.7180600871917524,-0.9856571468641238,-1.2753157164790496,-0.9284576588771336,-0.6636309515395042,-1.247063702907893,-0.7579713320160087,-1.105722402531959,-0.573204509591698,-1.015518279890386,-0.906061192192025,-0.7938859883198703,-1.1930341738628134,-0.924726599976722,-0.1283365186511012,1.363819910166988,-1.048879553097546,-0.801863192250977,-0.5213742378985067,1.154585634304785,-2.946890276504486,-0.7140536658720922,-0.8786986820842273,-0.7969274168962844,-0.8256323381899372,-0.8048391968395904,-1.1100131406811382,-0.9425651510310752,-0.8015951850454608,-1.090255985017108,-0.9221166703517172,-0.8926209844804965,-0.5758224457400574,-0.8818980487385771,-0.7684822435450136,-0.9635472658046778,-1.0311623989126473,-0.7274849889226416,-0.6178145167498781,-0.9014442743860962,-0.974444578537116,-0.711864485667957,-1.1150562583762371,-1.2385746096854249,-1.0808810939758642,-0.4278424488609492,0.4904370637416677,-3.1105849037160307,1.355878818994415,null],\"yaxis\":\"y\",\"type\":\"scatter\"}],                        {\"template\":{\"data\":{\"bar\":[{\"error_x\":{\"color\":\"#2a3f5f\"},\"error_y\":{\"color\":\"#2a3f5f\"},\"marker\":{\"line\":{\"color\":\"#E5ECF6\",\"width\":0.5},\"pattern\":{\"fillmode\":\"overlay\",\"size\":10,\"solidity\":0.2}},\"type\":\"bar\"}],\"barpolar\":[{\"marker\":{\"line\":{\"color\":\"#E5ECF6\",\"width\":0.5},\"pattern\":{\"fillmode\":\"overlay\",\"size\":10,\"solidity\":0.2}},\"type\":\"barpolar\"}],\"carpet\":[{\"aaxis\":{\"endlinecolor\":\"#2a3f5f\",\"gridcolor\":\"white\",\"linecolor\":\"white\",\"minorgridcolor\":\"white\",\"startlinecolor\":\"#2a3f5f\"},\"baxis\":{\"endlinecolor\":\"#2a3f5f\",\"gridcolor\":\"white\",\"linecolor\":\"white\",\"minorgridcolor\":\"white\",\"startlinecolor\":\"#2a3f5f\"},\"type\":\"carpet\"}],\"choropleth\":[{\"colorbar\":{\"outlinewidth\":0,\"ticks\":\"\"},\"type\":\"choropleth\"}],\"contour\":[{\"colorbar\":{\"outlinewidth\":0,\"ticks\":\"\"},\"colorscale\":[[0.0,\"#0d0887\"],[0.1111111111111111,\"#46039f\"],[0.2222222222222222,\"#7201a8\"],[0.3333333333333333,\"#9c179e\"],[0.4444444444444444,\"#bd3786\"],[0.5555555555555556,\"#d8576b\"],[0.6666666666666666,\"#ed7953\"],[0.7777777777777778,\"#fb9f3a\"],[0.8888888888888888,\"#fdca26\"],[1.0,\"#f0f921\"]],\"type\":\"contour\"}],\"contourcarpet\":[{\"colorbar\":{\"outlinewidth\":0,\"ticks\":\"\"},\"type\":\"contourcarpet\"}],\"heatmap\":[{\"colorbar\":{\"outlinewidth\":0,\"ticks\":\"\"},\"colorscale\":[[0.0,\"#0d0887\"],[0.1111111111111111,\"#46039f\"],[0.2222222222222222,\"#7201a8\"],[0.3333333333333333,\"#9c179e\"],[0.4444444444444444,\"#bd3786\"],[0.5555555555555556,\"#d8576b\"],[0.6666666666666666,\"#ed7953\"],[0.7777777777777778,\"#fb9f3a\"],[0.8888888888888888,\"#fdca26\"],[1.0,\"#f0f921\"]],\"type\":\"heatmap\"}],\"heatmapgl\":[{\"colorbar\":{\"outlinewidth\":0,\"ticks\":\"\"},\"colorscale\":[[0.0,\"#0d0887\"],[0.1111111111111111,\"#46039f\"],[0.2222222222222222,\"#7201a8\"],[0.3333333333333333,\"#9c179e\"],[0.4444444444444444,\"#bd3786\"],[0.5555555555555556,\"#d8576b\"],[0.6666666666666666,\"#ed7953\"],[0.7777777777777778,\"#fb9f3a\"],[0.8888888888888888,\"#fdca26\"],[1.0,\"#f0f921\"]],\"type\":\"heatmapgl\"}],\"histogram\":[{\"marker\":{\"pattern\":{\"fillmode\":\"overlay\",\"size\":10,\"solidity\":0.2}},\"type\":\"histogram\"}],\"histogram2d\":[{\"colorbar\":{\"outlinewidth\":0,\"ticks\":\"\"},\"colorscale\":[[0.0,\"#0d0887\"],[0.1111111111111111,\"#46039f\"],[0.2222222222222222,\"#7201a8\"],[0.3333333333333333,\"#9c179e\"],[0.4444444444444444,\"#bd3786\"],[0.5555555555555556,\"#d8576b\"],[0.6666666666666666,\"#ed7953\"],[0.7777777777777778,\"#fb9f3a\"],[0.8888888888888888,\"#fdca26\"],[1.0,\"#f0f921\"]],\"type\":\"histogram2d\"}],\"histogram2dcontour\":[{\"colorbar\":{\"outlinewidth\":0,\"ticks\":\"\"},\"colorscale\":[[0.0,\"#0d0887\"],[0.1111111111111111,\"#46039f\"],[0.2222222222222222,\"#7201a8\"],[0.3333333333333333,\"#9c179e\"],[0.4444444444444444,\"#bd3786\"],[0.5555555555555556,\"#d8576b\"],[0.6666666666666666,\"#ed7953\"],[0.7777777777777778,\"#fb9f3a\"],[0.8888888888888888,\"#fdca26\"],[1.0,\"#f0f921\"]],\"type\":\"histogram2dcontour\"}],\"mesh3d\":[{\"colorbar\":{\"outlinewidth\":0,\"ticks\":\"\"},\"type\":\"mesh3d\"}],\"parcoords\":[{\"line\":{\"colorbar\":{\"outlinewidth\":0,\"ticks\":\"\"}},\"type\":\"parcoords\"}],\"pie\":[{\"automargin\":true,\"type\":\"pie\"}],\"scatter\":[{\"marker\":{\"colorbar\":{\"outlinewidth\":0,\"ticks\":\"\"}},\"type\":\"scatter\"}],\"scatter3d\":[{\"line\":{\"colorbar\":{\"outlinewidth\":0,\"ticks\":\"\"}},\"marker\":{\"colorbar\":{\"outlinewidth\":0,\"ticks\":\"\"}},\"type\":\"scatter3d\"}],\"scattercarpet\":[{\"marker\":{\"colorbar\":{\"outlinewidth\":0,\"ticks\":\"\"}},\"type\":\"scattercarpet\"}],\"scattergeo\":[{\"marker\":{\"colorbar\":{\"outlinewidth\":0,\"ticks\":\"\"}},\"type\":\"scattergeo\"}],\"scattergl\":[{\"marker\":{\"colorbar\":{\"outlinewidth\":0,\"ticks\":\"\"}},\"type\":\"scattergl\"}],\"scattermapbox\":[{\"marker\":{\"colorbar\":{\"outlinewidth\":0,\"ticks\":\"\"}},\"type\":\"scattermapbox\"}],\"scatterpolar\":[{\"marker\":{\"colorbar\":{\"outlinewidth\":0,\"ticks\":\"\"}},\"type\":\"scatterpolar\"}],\"scatterpolargl\":[{\"marker\":{\"colorbar\":{\"outlinewidth\":0,\"ticks\":\"\"}},\"type\":\"scatterpolargl\"}],\"scatterternary\":[{\"marker\":{\"colorbar\":{\"outlinewidth\":0,\"ticks\":\"\"}},\"type\":\"scatterternary\"}],\"surface\":[{\"colorbar\":{\"outlinewidth\":0,\"ticks\":\"\"},\"colorscale\":[[0.0,\"#0d0887\"],[0.1111111111111111,\"#46039f\"],[0.2222222222222222,\"#7201a8\"],[0.3333333333333333,\"#9c179e\"],[0.4444444444444444,\"#bd3786\"],[0.5555555555555556,\"#d8576b\"],[0.6666666666666666,\"#ed7953\"],[0.7777777777777778,\"#fb9f3a\"],[0.8888888888888888,\"#fdca26\"],[1.0,\"#f0f921\"]],\"type\":\"surface\"}],\"table\":[{\"cells\":{\"fill\":{\"color\":\"#EBF0F8\"},\"line\":{\"color\":\"white\"}},\"header\":{\"fill\":{\"color\":\"#C8D4E3\"},\"line\":{\"color\":\"white\"}},\"type\":\"table\"}]},\"layout\":{\"annotationdefaults\":{\"arrowcolor\":\"#2a3f5f\",\"arrowhead\":0,\"arrowwidth\":1},\"autotypenumbers\":\"strict\",\"coloraxis\":{\"colorbar\":{\"outlinewidth\":0,\"ticks\":\"\"}},\"colorscale\":{\"diverging\":[[0,\"#8e0152\"],[0.1,\"#c51b7d\"],[0.2,\"#de77ae\"],[0.3,\"#f1b6da\"],[0.4,\"#fde0ef\"],[0.5,\"#f7f7f7\"],[0.6,\"#e6f5d0\"],[0.7,\"#b8e186\"],[0.8,\"#7fbc41\"],[0.9,\"#4d9221\"],[1,\"#276419\"]],\"sequential\":[[0.0,\"#0d0887\"],[0.1111111111111111,\"#46039f\"],[0.2222222222222222,\"#7201a8\"],[0.3333333333333333,\"#9c179e\"],[0.4444444444444444,\"#bd3786\"],[0.5555555555555556,\"#d8576b\"],[0.6666666666666666,\"#ed7953\"],[0.7777777777777778,\"#fb9f3a\"],[0.8888888888888888,\"#fdca26\"],[1.0,\"#f0f921\"]],\"sequentialminus\":[[0.0,\"#0d0887\"],[0.1111111111111111,\"#46039f\"],[0.2222222222222222,\"#7201a8\"],[0.3333333333333333,\"#9c179e\"],[0.4444444444444444,\"#bd3786\"],[0.5555555555555556,\"#d8576b\"],[0.6666666666666666,\"#ed7953\"],[0.7777777777777778,\"#fb9f3a\"],[0.8888888888888888,\"#fdca26\"],[1.0,\"#f0f921\"]]},\"colorway\":[\"#636efa\",\"#EF553B\",\"#00cc96\",\"#ab63fa\",\"#FFA15A\",\"#19d3f3\",\"#FF6692\",\"#B6E880\",\"#FF97FF\",\"#FECB52\"],\"font\":{\"color\":\"#2a3f5f\"},\"geo\":{\"bgcolor\":\"white\",\"lakecolor\":\"white\",\"landcolor\":\"#E5ECF6\",\"showlakes\":true,\"showland\":true,\"subunitcolor\":\"white\"},\"hoverlabel\":{\"align\":\"left\"},\"hovermode\":\"closest\",\"mapbox\":{\"style\":\"light\"},\"paper_bgcolor\":\"white\",\"plot_bgcolor\":\"#E5ECF6\",\"polar\":{\"angularaxis\":{\"gridcolor\":\"white\",\"linecolor\":\"white\",\"ticks\":\"\"},\"bgcolor\":\"#E5ECF6\",\"radialaxis\":{\"gridcolor\":\"white\",\"linecolor\":\"white\",\"ticks\":\"\"}},\"scene\":{\"xaxis\":{\"backgroundcolor\":\"#E5ECF6\",\"gridcolor\":\"white\",\"gridwidth\":2,\"linecolor\":\"white\",\"showbackground\":true,\"ticks\":\"\",\"zerolinecolor\":\"white\"},\"yaxis\":{\"backgroundcolor\":\"#E5ECF6\",\"gridcolor\":\"white\",\"gridwidth\":2,\"linecolor\":\"white\",\"showbackground\":true,\"ticks\":\"\",\"zerolinecolor\":\"white\"},\"zaxis\":{\"backgroundcolor\":\"#E5ECF6\",\"gridcolor\":\"white\",\"gridwidth\":2,\"linecolor\":\"white\",\"showbackground\":true,\"ticks\":\"\",\"zerolinecolor\":\"white\"}},\"shapedefaults\":{\"line\":{\"color\":\"#2a3f5f\"}},\"ternary\":{\"aaxis\":{\"gridcolor\":\"white\",\"linecolor\":\"white\",\"ticks\":\"\"},\"baxis\":{\"gridcolor\":\"white\",\"linecolor\":\"white\",\"ticks\":\"\"},\"bgcolor\":\"#E5ECF6\",\"caxis\":{\"gridcolor\":\"white\",\"linecolor\":\"white\",\"ticks\":\"\"}},\"title\":{\"x\":0.05},\"xaxis\":{\"automargin\":true,\"gridcolor\":\"white\",\"linecolor\":\"white\",\"ticks\":\"\",\"title\":{\"standoff\":15},\"zerolinecolor\":\"white\",\"zerolinewidth\":2},\"yaxis\":{\"automargin\":true,\"gridcolor\":\"white\",\"linecolor\":\"white\",\"ticks\":\"\",\"title\":{\"standoff\":15},\"zerolinecolor\":\"white\",\"zerolinewidth\":2}}},\"xaxis\":{\"anchor\":\"y\",\"domain\":[0.0,1.0],\"title\":{\"text\":\"phi\"}},\"yaxis\":{\"anchor\":\"x\",\"domain\":[0.0,1.0],\"title\":{\"text\":\"psi\"}},\"legend\":{\"tracegroupgap\":0},\"margin\":{\"t\":60}},                        {\"responsive\": true}                    ).then(function(){\n",
              "                            \n",
              "var gd = document.getElementById('a22ea4d5-de57-437b-b877-f37e19bc46d3');\n",
              "var x = new MutationObserver(function (mutations, observer) {{\n",
              "        var display = window.getComputedStyle(gd).display;\n",
              "        if (!display || display === 'none') {{\n",
              "            console.log([gd, 'removed!']);\n",
              "            Plotly.purge(gd);\n",
              "            observer.disconnect();\n",
              "        }}\n",
              "}});\n",
              "\n",
              "// Listen for the removal of the full notebook cells\n",
              "var notebookContainer = gd.closest('#notebook-container');\n",
              "if (notebookContainer) {{\n",
              "    x.observe(notebookContainer, {childList: true});\n",
              "}}\n",
              "\n",
              "// Listen for the clearing of the current output cell\n",
              "var outputEl = gd.closest('.output');\n",
              "if (outputEl) {{\n",
              "    x.observe(outputEl, {childList: true});\n",
              "}}\n",
              "\n",
              "                        })                };                            </script>        </div>\n",
              "</body>\n",
              "</html>"
            ]
          },
          "metadata": {}
        }
      ]
    },
    {
      "cell_type": "code",
      "source": [
        "#@title General Plot\n",
        "import plotly.express as px\n",
        "import plotly.graph_objects as go\n",
        "import pandas as pd\n",
        "\n",
        "# Create dataframes for each file\n",
        "dfgenaLLowed1 = pd.read_csv('/content/drive/MyDrive/rama8000/generaL-aLLowed1.csv')\n",
        "dfgenaLLowed2 = pd.read_csv('/content/drive/MyDrive/rama8000/generaL-aLLowed2.csv')\n",
        "dfgenaLLowed3 = pd.read_csv('/content/drive/MyDrive/rama8000/generaL-aLLowed3.csv')\n",
        "dfgenaLLowed4 = pd.read_csv('/content/drive/MyDrive/rama8000/generaL-aLLowed4.csv')\n",
        "dfgenaLLowed5 = pd.read_csv('/content/drive/MyDrive/rama8000/generaL-aLLowed5.csv')\n",
        "dfgenaLLowed6 = pd.read_csv('/content/drive/MyDrive/rama8000/generaL-aLLowed6.csv')\n",
        "\n",
        "dfgenfavored1 = pd.read_csv('/content/drive/MyDrive/rama8000/generaL-favored1.csv')\n",
        "dfgenfavored2 = pd.read_csv('/content/drive/MyDrive/rama8000/generaL-favored2.csv')\n",
        "dfgenfavored3 = pd.read_csv('/content/drive/MyDrive/rama8000/generaL-favored3.csv')\n",
        "dfgenfavored4 = pd.read_csv('/content/drive/MyDrive/rama8000/generaL-favored4.csv')\n",
        "dfgenfavored5 = pd.read_csv('/content/drive/MyDrive/rama8000/generaL-favored5.csv')\n",
        "\n",
        "# ========== your dihedral data file here ==========\n",
        "# dftest = pd.read_csv('/content/drive/MyDrive/rama8000/gen-data-good.csv')\n",
        "# ==================================================\n",
        "\n",
        "\n",
        "# ===== create figures =====\n",
        "# x and y are the column names\n",
        "figgenaLLowed1 = px.line(dfgenaLLowed1, x=\"phi\", y=\"psi\",\n",
        "                 hover_name=\"number\"\n",
        "                ) \n",
        "# add line color\n",
        "figgenaLLowed1.update_traces(line=dict(\n",
        "    color = 'deepskyblue',\n",
        "    width=1))\n",
        "\n",
        "figgenaLLowed2 = px.line(dfgenaLLowed2, x=\"phi\", y=\"psi\",\n",
        "                 hover_name=\"number\" \n",
        "                 ) \n",
        "figgenaLLowed2.update_traces(line=dict(\n",
        "    color = 'deepskyblue',\n",
        "    width=1))\n",
        "\n",
        "figgenaLLowed3 = px.line(dfgenaLLowed3, x=\"phi\", y=\"psi\",\n",
        "                 hover_name=\"number\" \n",
        "                 ) \n",
        "figgenaLLowed3.update_traces(line=dict(\n",
        "    color = 'deepskyblue',\n",
        "    width=1))\n",
        "\n",
        "figgenaLLowed4 = px.line(dfgenaLLowed4, x=\"phi\", y=\"psi\",\n",
        "                 hover_name=\"number\" \n",
        "                 ) \n",
        "figgenaLLowed4.update_traces(line=dict(\n",
        "    color = 'deepskyblue',\n",
        "    width=1))\n",
        "\n",
        "figgenaLLowed5 = px.line(dfgenaLLowed5, x=\"phi\", y=\"psi\",\n",
        "                 hover_name=\"number\" \n",
        "                 )                \n",
        "figgenaLLowed5.update_traces(line=dict(\n",
        "    color = 'deepskyblue',\n",
        "    width=1))\n",
        "\n",
        "figgenaLLowed6 = px.line(dfgenaLLowed6, x=\"phi\", y=\"psi\",\n",
        "                 hover_name=\"number\") \n",
        "figgenaLLowed6.update_traces(line=dict(\n",
        "    color = 'deepskyblue',\n",
        "    width=1))\n",
        "\n",
        "figgenfavored1 = px.line(dfgenfavored1, x=\"phi\", y=\"psi\",\n",
        "                 hover_name=\"number\") \n",
        "figgenfavored1.update_traces(line=dict(\n",
        "    color = 'deepskyblue',\n",
        "    width=2))\n",
        "\n",
        "figgenfavored2 = px.line(dfgenfavored2, x=\"phi\", y=\"psi\",\n",
        "                 hover_name=\"number\")\n",
        "figgenfavored2.update_traces(line=dict(\n",
        "    color = 'deepskyblue',\n",
        "    width=2)) \n",
        "\n",
        "figgenfavored3 = px.line(dfgenfavored3, x=\"phi\", y=\"psi\",\n",
        "                 hover_name=\"number\") \n",
        "figgenfavored3.update_traces(line=dict(\n",
        "    color = 'deepskyblue',\n",
        "    width=2))\n",
        "\n",
        "figgenfavored4 = px.line(dfgenfavored4, x=\"phi\", y=\"psi\",\n",
        "                 hover_name=\"number\") \n",
        "figgenfavored4.update_traces(line=dict(\n",
        "    color = 'deepskyblue',\n",
        "    width=2))\n",
        "\n",
        "figgenfavored5 = px.line(dfgenfavored5, x=\"phi\", y=\"psi\",\n",
        "                 hover_name=\"number\") \n",
        "figgenfavored5.update_traces(line=dict(\n",
        "    color = 'deepskyblue',\n",
        "    width=2))\n",
        "\n",
        "# ======== your data as a scatter plot ========\n",
        "\n",
        "\n",
        "\n",
        "# =============================================\n",
        "\n",
        "# ======= construct a composite figure =======\n",
        "\n",
        "# don't forget your scatter plot data!\n",
        "figgeneral = go.Figure(data=\n",
        "                    figgenaLLowed1.data\n",
        "                  + figgenaLLowed2.data\n",
        "                  + figgenaLLowed3.data\n",
        "                  + figgenaLLowed4.data\n",
        "                  + figgenaLLowed5.data\n",
        "                  + figgenaLLowed6.data\n",
        "                  + figgenfavored1.data\n",
        "                  + figgenfavored2.data\n",
        "                  + figgenfavored3.data\n",
        "                  + figgenfavored4.data\n",
        "                  + figgenfavored5.data\n",
        "                  + figscattertest.data\n",
        "                  )               \n",
        "\n",
        "# turn off legend\n",
        "# set color and size for the data points\n",
        "figgeneral.update_traces(showlegend=False,\n",
        "                         marker=dict(color='white',\n",
        "                         size=4)\n",
        ")\n",
        "\n",
        "# change the graph width,\n",
        "# add a graph title,\n",
        "# add axes titles,\n",
        "# set background color\n",
        "figgeneral.update_layout(width=700, \n",
        "                         height=700, \n",
        "                         title_text=\"General\",\n",
        "                         # unicode for greek characters\n",
        "                         xaxis=dict(title=u\"\\u03A6\"),\n",
        "                         yaxis=dict(title=u\"\\u03A8\"),\n",
        "                         plot_bgcolor=\"black\"\n",
        "                         )\n",
        "\n",
        "# update the axes\n",
        "figgeneral.update_xaxes(showline=True,\n",
        "                  zeroline=True,\n",
        "                  showgrid=False, \n",
        "                  range=(-180,180),\n",
        "                  zerolinewidth=1,\n",
        "                  zerolinecolor='grey'\n",
        ")\n",
        "\n",
        "figgeneral.update_yaxes(showline=True,\n",
        "                   zeroline=True,\n",
        "                   showgrid=False, \n",
        "                   range=(-180,180),\n",
        "                   zerolinewidth=1,\n",
        "                   zerolinecolor='grey'\n",
        ")\n",
        "\n",
        "# save an image of the graph\n",
        "# fig.write_image(\"test1.png\")\n",
        "\n",
        "# show the graph\n",
        "figgeneral.show()\n"
      ],
      "metadata": {
        "colab": {
          "base_uri": "https://localhost:8080/",
          "height": 717
        },
        "id": "AFNQ_dQTAHQy",
        "outputId": "0e20d2b4-b46a-4aa9-c271-fbf895482603"
      },
      "execution_count": 51,
      "outputs": [
        {
          "output_type": "display_data",
          "data": {
            "text/html": [
              "<html>\n",
              "<head><meta charset=\"utf-8\" /></head>\n",
              "<body>\n",
              "    <div>            <script src=\"https://cdnjs.cloudflare.com/ajax/libs/mathjax/2.7.5/MathJax.js?config=TeX-AMS-MML_SVG\"></script><script type=\"text/javascript\">if (window.MathJax) {MathJax.Hub.Config({SVG: {font: \"STIX-Web\"}});}</script>                <script type=\"text/javascript\">window.PlotlyConfig = {MathJaxConfig: 'local'};</script>\n",
              "        <script src=\"https://cdn.plot.ly/plotly-2.8.3.min.js\"></script>                <div id=\"0b658313-803c-49f1-89aa-e927fdc0713b\" class=\"plotly-graph-div\" style=\"height:700px; width:700px;\"></div>            <script type=\"text/javascript\">                                    window.PLOTLYENV=window.PLOTLYENV || {};                                    if (document.getElementById(\"0b658313-803c-49f1-89aa-e927fdc0713b\")) {                    Plotly.newPlot(                        \"0b658313-803c-49f1-89aa-e927fdc0713b\",                        [{\"hovertemplate\":\"<b>%{hovertext}</b><br><br>phi=%{x}<br>psi=%{y}<extra></extra>\",\"hovertext\":[0.001,0.001,0.001,0.001,0.001,0.001,0.001,0.001,0.001,0.001,0.001,0.001,0.001,0.001,0.001,0.001,0.001,0.001,0.001,0.001,0.001,0.001,0.001,0.001,0.001,0.001,0.001,0.001,0.001,0.001,0.001,0.001,0.001,0.001,0.001,0.001,0.001,0.001,0.001,0.001,0.001,0.001,0.001,0.001,0.001,0.001,0.001,0.001,0.001,0.001,0.001,0.001,0.001,0.001,0.001,0.001,0.001,0.001,0.001,0.001,0.001,0.001,0.001,0.001,0.001,0.001,0.001,0.001,0.001,0.001,0.001,0.001,0.001,0.001,0.001,0.001,0.001,0.001,0.001,0.001,0.001,0.001,0.001,0.001,0.001,0.001,0.001,0.001,0.001,0.001,0.001,0.001,0.001,0.001,0.001,0.001,0.001,0.001,0.001,0.001,0.001,0.001,0.001,0.001,0.001,0.001,0.001,0.001,0.001,0.001,0.001,0.001,0.001,0.001,0.001,0.001,0.001,0.001,0.001,0.001,0.001,0.001,0.001,0.001,0.001,0.001,0.001,0.001,0.001,0.001,0.001,0.001,0.001,0.001,0.001,0.001,0.001,0.001,0.001,0.001,0.001,0.001,0.001,0.001,0.001,0.001,0.001,0.001,0.001,0.001,0.001,0.001,0.001,0.001,0.001,0.001,0.001,0.001,0.001,0.001,0.001,0.001,0.001,0.001,0.001,0.001,0.001,0.001,0.001,0.001,0.001,0.001,0.001,0.001,0.001,0.001,0.001,0.001,0.001,0.001,0.001,0.001,0.001,0.001,0.001,0.001,0.001,0.001,0.001,0.001,0.001,0.001,0.001,0.001,0.001,0.001,0.001,0.001,0.001,0.001,0.001,0.001,0.001,0.001,0.001,0.001,0.001,0.001,0.001,0.001,0.001,0.001,0.001,0.001,0.001,0.001,0.001,0.001,0.001,0.001,0.001,0.001,0.001,0.001,0.001,0.001,0.001,0.001,0.001,0.001,0.001,0.001,0.001,0.001,0.001,0.001,0.001,0.001,0.001,0.001,0.001,0.001,0.001,0.001,0.001,0.001,0.001,0.001,0.001,0.001,0.001,0.001,0.001,0.001,0.001,0.001,0.001,0.001,0.001,0.001,0.001,0.001,0.001,0.001,0.001,0.001,0.001,0.001,0.001,0.001,0.001,0.001,0.001,0.001,0.001,0.001,0.001,0.001,0.001,0.001,0.001,0.001,0.001,0.001,0.001,0.001,0.001,0.001,0.001,0.001,0.001,0.001,0.001,0.001,0.001,0.001,0.001,0.001,0.001,0.001,0.001,0.001,0.001,0.001,0.001,0.001,0.001,0.001,0.001,0.001,0.001],\"legendgroup\":\"\",\"line\":{\"color\":\"deepskyblue\",\"dash\":\"solid\",\"width\":1},\"marker\":{\"symbol\":\"circle\",\"color\":\"white\",\"size\":4},\"mode\":\"lines\",\"name\":\"\",\"orientation\":\"v\",\"showlegend\":false,\"x\":[57.094,56.934,56.907,56.753,56.552,56.155,56.103,56.074,56.0,55.424,55.245,54.907,54.842,54.575,54.381,54.0,53.687,53.566,53.232,53.075,52.769,52.481,52.0,51.773,51.672,51.367,51.104,50.783,50.494,50.0,49.834,49.757,49.543,49.159,48.866,48.571,48.115,48.068,48.048,48.0,47.332,47.099,46.734,46.546,46.349,46.231,46.0,45.439,45.204,44.747,44.537,44.317,44.2,44.0,43.391,43.118,42.682,42.406,42.235,42.149,42.0,41.344,41.053,40.658,40.343,40.199,40.124,40.0,39.28,38.95,38.577,38.046,38.024,38.014,38.0,37.07,36.633,36.389,36.0,35.586,35.355,34.79,34.563,34.301,34.205,34.0,33.392,33.12,32.79,32.643,32.428,32.326,32.0,31.806,31.742,31.683,31.428,31.332,31.25,31.187,31.105,31.109,31.115,31.119,31.203,31.29,31.376,31.468,31.89,31.915,31.935,32.0,32.462,32.69,33.054,33.191,33.593,33.732,34.0,34.58,35.08,35.439,36.0,36.422,36.887,37.376,38.0,38.474,39.11,39.535,40.0,40.692,41.714,41.854,42.0,42.97,43.003,44.0,44.201,44.483,45.256,46.0,46.446,47.064,47.507,48.0,48.681,49.712,49.851,50.0,50.549,51.108,52.0,52.462,53.442,53.773,54.0,54.434,55.307,56.0,56.999,57.001,58.0,58.89,59.115,60.0,60.946,61.091,62.0,62.557,63.551,63.853,64.0,64.716,65.063,66.0,66.166,66.279,67.055,67.238,67.741,67.862,68.0,68.677,68.963,69.297,69.645,69.791,69.864,70.0,70.486,70.63,70.892,70.949,71.178,71.406,71.64,71.75,71.815,72.0,72.369,72.466,72.612,72.796,72.953,73.064,73.072,73.17,73.256,73.286,73.36,73.369,73.367,73.376,73.332,73.3,73.254,73.147,73.126,73.005,72.853,72.74,72.584,72.457,72.0,71.895,71.867,71.813,71.498,71.334,71.161,71.12,70.908,70.83,70.781,70.703,70.705,70.695,70.697,70.777,70.829,70.91,71.061,71.082,71.225,71.383,71.602,71.698,71.758,72.0,72.191,72.234,72.293,72.583,72.686,72.841,72.9,73.049,73.227,73.29,73.427,73.554,73.858,73.894,73.916,74.0,74.424,74.519,74.659,74.806,74.953,75.134,75.177,75.33,75.469,75.67,75.745,75.791,76.0,76.242,76.296,76.39,76.676,76.813,77.012,77.017,77.204,77.404,77.711,77.8,77.852,78.0,78.51,78.683,79.051,79.092,79.395,79.599,80.0,80.319,80.45,80.803,80.933,81.271,81.538,82.0,82.261,82.379,82.675,82.889,83.212],\"xaxis\":\"x\",\"y\":[-180.0,-179.066,-178.907,-178.0,-177.448,-176.155,-176.0,-175.926,-175.718,-174.576,-174.0,-173.093,-172.842,-172.0,-171.619,-170.747,-170.313,-170.0,-169.232,-168.925,-168.0,-167.519,-166.499,-166.227,-166.0,-165.367,-164.896,-164.0,-163.506,-162.37,-162.166,-162.0,-161.543,-160.841,-160.0,-159.429,-158.115,-158.0,-157.952,-157.827,-156.668,-156.0,-155.266,-154.546,-154.0,-153.769,-153.267,-152.561,-152.0,-151.253,-150.537,-150.0,-149.8,-149.335,-148.609,-148.0,-147.318,-146.406,-146.0,-145.851,-145.468,-144.656,-144.0,-143.342,-142.343,-142.0,-141.876,-141.572,-140.72,-140.0,-139.423,-138.046,-138.0,-137.986,-137.957,-136.93,-136.0,-135.611,-134.812,-134.414,-134.0,-133.21,-132.563,-132.0,-131.795,-131.332,-130.608,-130.0,-129.21,-128.643,-128.0,-127.674,-126.544,-126.194,-126.0,-125.683,-124.572,-124.0,-123.25,-122.813,-122.0,-121.109,-120.885,-120.0,-119.203,-118.71,-118.0,-117.468,-116.11,-116.0,-115.935,-115.82,-114.462,-114.0,-113.054,-112.809,-112.0,-111.732,-111.469,-110.58,-110.0,-109.439,-108.958,-108.422,-108.0,-107.376,-106.933,-106.474,-106.0,-105.535,-105.265,-104.692,-104.0,-103.854,-103.774,-103.03,-103.004,-102.394,-102.201,-102.0,-101.256,-100.83,-100.446,-100.0,-99.507,-99.21,-98.681,-98.0,-97.851,-97.763,-97.451,-97.108,-96.697,-96.462,-96.0,-95.773,-95.682,-95.566,-95.307,-95.138,-95.001,-95.001,-94.871,-94.89,-94.885,-94.906,-95.054,-95.091,-95.259,-95.443,-96.0,-96.147,-96.235,-96.716,-96.937,-97.706,-97.834,-98.0,-98.945,-99.238,-100.0,-100.138,-100.37,-101.323,-102.0,-102.703,-103.645,-104.0,-104.136,-104.532,-105.514,-106.0,-106.892,-107.051,-108.0,-108.594,-109.64,-110.0,-110.185,-110.866,-111.631,-112.0,-112.612,-113.204,-114.0,-114.936,-115.072,-116.0,-116.744,-117.286,-118.0,-118.631,-119.367,-120.0,-120.668,-121.3,-122.0,-122.853,-123.126,-124.0,-124.853,-125.26,-126.0,-126.457,-127.472,-127.895,-128.0,-128.187,-129.498,-130.0,-130.839,-131.12,-132.0,-132.83,-133.219,-134.0,-134.705,-135.305,-136.0,-136.777,-137.171,-138.0,-138.939,-139.082,-140.0,-140.617,-141.602,-142.0,-142.242,-143.318,-143.809,-144.0,-144.293,-145.417,-146.0,-146.841,-147.1,-148.0,-148.773,-149.29,-150.0,-150.446,-151.858,-152.0,-152.084,-152.463,-153.576,-154.0,-154.659,-155.194,-156.0,-156.866,-157.177,-158.0,-158.531,-159.67,-160.0,-160.209,-161.138,-161.758,-162.0,-162.39,-163.324,-164.0,-164.988,-165.017,-166.0,-166.596,-167.711,-168.0,-168.148,-168.565,-169.49,-170.0,-170.949,-171.092,-172.0,-172.401,-173.253,-173.681,-174.0,-174.803,-175.067,-176.0,-176.462,-177.405,-177.739,-178.0,-178.675,-179.111,-180.0],\"yaxis\":\"y\",\"type\":\"scatter\"},{\"hovertemplate\":\"<b>%{hovertext}</b><br><br>phi=%{x}<br>psi=%{y}<extra></extra>\",\"hovertext\":[0.001,0.001,0.001,0.001,0.001,0.001,0.001,0.001,0.001,0.001,0.001,0.001,0.001,0.001,0.001,0.001,0.001,0.001,0.001,0.001,0.001,0.001,0.001,0.001,0.001,0.001,0.001,0.001,0.001,0.001,0.001,0.001,0.001,0.001,0.001,0.001,0.001,0.001,0.001,0.001,0.001,0.001,0.001,0.001,0.001,0.001,0.001,0.001,0.001,0.001,0.001,0.001,0.001,0.001,0.001,0.001,0.001,0.001,0.001,0.001,0.001,0.001,0.001,0.001,0.001,0.001,0.001,0.001,0.001,0.001,0.001,0.001,0.001,0.001,0.001,0.001,0.001,0.001,0.001,0.001,0.001,0.001,0.001,0.001,0.001,0.001,0.001,0.001,0.001,0.001,0.001,0.001,0.001,0.001,0.001,0.001,0.001,0.001,0.001,0.001,0.001,0.001,0.001,0.001,0.001,0.001,0.001,0.001,0.001,0.001,0.001,0.001,0.001,0.001,0.001,0.001,0.001,0.001,0.001,0.001,0.001,0.001,0.001,0.001,0.001,0.001,0.001,0.001,0.001,0.001,0.001,0.001,0.001,0.001,0.001,0.001,0.001,0.001,0.001,0.001,0.001,0.001,0.001,0.001,0.001,0.001,0.001,0.001,0.001,0.001,0.001,0.001,0.001,0.001,0.001,0.001,0.001,0.001,0.001,0.001,0.001,0.001,0.001,0.001,0.001,0.001,0.001,0.001,0.001,0.001,0.001,0.001,0.001,0.001,0.001,0.001,0.001,0.001,0.001,0.001,0.001,0.001,0.001,0.001,0.001,0.001,0.001,0.001,0.001,0.001,0.001,0.001,0.001,0.001,0.001,0.001,0.001,0.001,0.001,0.001,0.001,0.001,0.001,0.001,0.001,0.001,0.001,0.001,0.001,0.001,0.001,0.001,0.001,0.001,0.001,0.001,0.001,0.001,0.001,0.001,0.001,0.001,0.001,0.001,0.001,0.001,0.001,0.001,0.001,0.001,0.001,0.001,0.001,0.001,0.001,0.001,0.001,0.001,0.001,0.001,0.001,0.001,0.001,0.001,0.001,0.001,0.001,0.001,0.001,0.001,0.001,0.001,0.001,0.001,0.001,0.001,0.001,0.001,0.001,0.001,0.001,0.001,0.001,0.001,0.001,0.001,0.001,0.001,0.001,0.001,0.001,0.001,0.001,0.001,0.001,0.001,0.001,0.001,0.001,0.001,0.001,0.001,0.001,0.001,0.001,0.001,0.001,0.001,0.001,0.001,0.001,0.001,0.001,0.001,0.001,0.001,0.001,0.001,0.001,0.001,0.001,0.001,0.001,0.001,0.001,0.001,0.001,0.001,0.001,0.001,0.001,0.001,0.001,0.001,0.001,0.001,0.001,0.001,0.001,0.001,0.001,0.001,0.001,0.001,0.001,0.001,0.001,0.001,0.001,0.001,0.001,0.001,0.001,0.001,0.001,0.001,0.001,0.001,0.001,0.001,0.001,0.001,0.001,0.001,0.001,0.001,0.001,0.001,0.001,0.001,0.001,0.001,0.001,0.001,0.001,0.001,0.001,0.001,0.001,0.001,0.001,0.001,0.001,0.001,0.001,0.001,0.001,0.001,0.001,0.001,0.001,0.001,0.001,0.001,0.001,0.001,0.001,0.001,0.001,0.001,0.001,0.001,0.001,0.001,0.001,0.001,0.001,0.001,0.001,0.001,0.001,0.001,0.001,0.001,0.001,0.001,0.001,0.001,0.001,0.001,0.001,0.001,0.001,0.001,0.001,0.001,0.001,0.001,0.001,0.001,0.001,0.001,0.001,0.001,0.001,0.001,0.001,0.001,0.001,0.001,0.001,0.001,0.001,0.001,0.001,0.001,0.001,0.001,0.001,0.001,0.001,0.001,0.001,0.001,0.001,0.001,0.001,0.001,0.001,0.001,0.001,0.001,0.001,0.001,0.001,0.001,0.001,0.001,0.001,0.001,0.001,0.001,0.001,0.001,0.001,0.001,0.001],\"legendgroup\":\"\",\"line\":{\"color\":\"deepskyblue\",\"dash\":\"solid\",\"width\":1},\"marker\":{\"symbol\":\"circle\",\"color\":\"white\",\"size\":4},\"mode\":\"lines\",\"name\":\"\",\"orientation\":\"v\",\"showlegend\":false,\"x\":[-180.0,-179.298,-178.675,-178.458,-178.0,-177.666,-177.438,-177.098,-177.052,-176.611,-176.454,-176.0,-175.775,-175.652,-175.423,-175.206,-174.833,-174.613,-174.0,-173.882,-173.806,-173.621,-173.238,-172.8,-172.537,-172.0,-171.701,-171.466,-170.885,-170.0,-169.946,-169.891,-169.131,-169.01,-168.607,-168.0,-167.988,-167.972,-166.936,-166.0,-165.791,-165.524,-164.722,-164.0,-163.469,-162.664,-162.327,-162.0,-161.041,-160.877,-160.0,-159.737,-159.271,-158.545,-158.0,-157.22,-156.208,-156.0,-155.939,-155.825,-154.73,-154.0,-153.488,-152.814,-152.409,-152.0,-151.352,-150.804,-150.532,-150.0,-149.773,-149.679,-149.595,-149.385,-149.26,-149.184,-149.138,-149.066,-149.063,-149.061,-149.057,-149.106,-149.114,-149.161,-149.266,-149.336,-149.427,-149.517,-149.769,-149.813,-149.852,-150.0,-150.34,-150.411,-150.539,-150.739,-150.897,-151.149,-151.251,-151.459,-151.539,-151.825,-151.858,-151.88,-152.0,-152.242,-152.284,-152.317,-152.486,-152.531,-152.586,-152.647,-152.709,-152.739,-152.759,-152.789,-152.794,-152.794,-152.8,-152.794,-152.789,-152.783,-152.762,-152.738,-152.717,-152.707,-152.689,-152.679,-152.736,-152.762,-152.825,-153.031,-153.055,-153.279,-153.514,-154.0,-154.229,-154.331,-155.07,-155.47,-155.866,-155.931,-156.0,-156.898,-157.567,-157.76,-158.0,-158.681,-159.093,-159.444,-160.0,-160.26,-160.378,-160.659,-160.879,-161.193,-161.38,-161.774,-161.846,-161.884,-162.0,-162.346,-162.417,-162.463,-162.591,-162.646,-162.661,-162.68,-162.695,-162.678,-162.655,-162.638,-162.607,-162.525,-162.496,-162.44,-162.166,-162.142,-162.126,-162.0,-161.847,-161.818,-161.791,-161.603,-161.551,-161.509,-161.444,-161.395,-161.297,-161.246,-161.129,-160.999,-160.999,-160.871,-160.79,-160.733,-160.655,-160.585,-160.453,-160.397,-160.361,-160.175,-160.157,-160.15,-160.003,-160.003,-160.003,-160.035,-160.035,-160.037,-160.151,-160.155,-160.169,-160.343,-160.369,-160.412,-160.525,-160.58,-160.643,-160.722,-160.789,-160.877,-160.9,-160.989,-161.13,-161.167,-161.294,-161.358,-161.443,-161.499,-161.532,-161.594,-161.622,-161.646,-161.73,-161.748,-161.743,-161.684,-161.678,-161.658,-161.573,-161.548,-161.478,-161.34,-161.258,-161.147,-161.114,-160.997,-160.884,-160.852,-160.745,-160.707,-160.663,-160.626,-160.606,-160.584,-160.566,-160.566,-160.588,-160.588,-160.622,-160.668,-160.705,-160.791,-160.848,-160.931,-161.035,-161.042,-161.143,-161.262,-161.333,-161.433,-161.523,-161.716,-161.767,-161.806,-162.0,-162.17,-162.198,-162.228,-162.454,-162.509,-162.59,-162.708,-162.798,-162.971,-162.981,-163.142,-163.313,-163.43,-163.553,-163.649,-163.935,-163.951,-163.959,-164.0,-164.392,-164.457,-164.518,-164.655,-164.725,-164.809,-164.861,-164.941,-165.007,-165.007,-165.071,-165.148,-165.159,-165.228,-165.299,-165.343,-165.406,-165.449,-165.479,-165.517,-165.549,-165.6,-165.627,-165.642,-165.686,-165.698,-165.707,-165.755,-165.762,-165.77,-165.826,-165.832,-165.842,-165.977,-165.979,-165.981,-166.0,-166.304,-166.345,-166.395,-166.542,-166.608,-166.724,-166.815,-166.935,-167.057,-167.066,-167.176,-167.311,-167.381,-167.484,-167.566,-167.74,-167.784,-167.815,-168.0,-168.093,-168.107,-168.126,-168.429,-168.483,-168.549,-168.675,-168.749,-168.818,-168.852,-168.922,-168.992,-168.993,-169.064,-169.126,-169.145,-169.206,-169.265,-169.306,-169.361,-169.423,-169.539,-169.59,-169.638,-169.825,-169.848,-169.876,-170.0,-170.315,-170.376,-170.469,-170.682,-170.802,-171.005,-171.007,-171.186,-171.367,-171.497,-171.614,-171.69,-171.945,-171.957,-171.964,-172.0,-172.317,-172.355,-172.391,-172.53,-172.575,-172.658,-172.76,-172.845,-172.995,-172.997,-173.137,-173.346,-173.528,-173.656,-173.747,-174.0,-174.397,-174.539,-174.861,-174.948,-175.222,-175.431,-175.729,-175.814,-175.852,-176.0,-176.338,-176.421,-176.512,-176.693,-176.801,-176.874,-176.893,-176.968,-177.027,-177.031,-177.091,-177.141,-177.154,-177.201,-177.28,-177.32,-177.388,-177.493,-177.684,-177.745,-177.801,-178.0,-178.312,-178.394,-178.547,-178.785,-178.963,-179.164,-179.22,-179.381,-179.498,-179.693,-179.756,-179.79,-180.0],\"xaxis\":\"x\",\"y\":[-163.877,-162.702,-162.0,-161.542,-161.011,-160.334,-160.0,-159.098,-158.948,-158.0,-157.546,-156.8,-156.225,-156.0,-155.423,-154.794,-154.0,-153.387,-152.374,-152.118,-152.0,-151.621,-150.762,-150.0,-149.463,-148.776,-148.299,-148.0,-147.115,-146.122,-146.054,-146.0,-145.131,-144.99,-144.607,-144.027,-144.012,-144.0,-143.064,-142.408,-142.209,-142.0,-141.278,-140.881,-140.531,-140.0,-139.673,-139.492,-138.959,-138.877,-138.423,-138.263,-138.0,-137.455,-137.177,-136.78,-136.208,-136.094,-136.061,-136.0,-135.27,-134.823,-134.512,-134.0,-133.591,-133.273,-132.648,-132.0,-131.468,-130.614,-130.227,-130.0,-129.595,-128.615,-128.0,-127.184,-126.862,-126.0,-125.063,-124.939,-124.0,-123.106,-122.886,-122.0,-121.266,-120.664,-120.0,-119.517,-118.231,-118.0,-117.852,-117.375,-116.34,-116.0,-115.461,-114.739,-114.0,-113.149,-112.749,-112.0,-111.539,-110.175,-110.0,-109.88,-109.302,-108.242,-108.0,-107.683,-106.486,-106.0,-105.414,-104.647,-104.0,-103.261,-102.759,-102.0,-101.206,-100.794,-100.0,-99.206,-98.789,-98.0,-97.238,-96.738,-96.0,-95.293,-94.689,-94.0,-93.264,-92.762,-92.0,-91.031,-90.945,-90.0,-89.514,-88.606,-88.229,-88.0,-87.07,-86.53,-86.0,-85.931,-85.86,-84.898,-84.0,-83.76,-83.461,-82.681,-82.0,-81.444,-80.606,-80.26,-80.0,-79.341,-78.879,-78.0,-77.38,-76.226,-76.0,-75.884,-75.454,-74.346,-74.0,-73.537,-72.591,-72.0,-71.339,-70.68,-70.0,-69.322,-68.655,-68.0,-67.393,-66.525,-66.0,-65.56,-64.166,-64.0,-63.874,-63.186,-62.153,-62.0,-61.791,-60.397,-60.0,-59.509,-58.556,-58.0,-57.297,-56.754,-56.0,-55.001,-54.999,-54.0,-53.21,-52.733,-52.0,-51.415,-50.453,-50.0,-49.639,-48.175,-48.0,-47.85,-46.003,-46.0,-45.997,-44.035,-44.0,-43.963,-42.151,-42.0,-41.831,-40.343,-40.0,-39.588,-38.525,-38.0,-37.357,-36.722,-36.0,-35.123,-34.9,-34.0,-33.13,-32.833,-32.0,-31.358,-30.557,-30.0,-29.532,-28.406,-28.0,-27.646,-26.27,-26.0,-25.743,-24.316,-24.0,-23.658,-22.427,-22.0,-21.478,-20.66,-20.0,-19.147,-18.886,-18.0,-17.116,-16.852,-16.0,-15.293,-14.663,-14.0,-13.394,-12.584,-12.0,-11.434,-10.588,-10.0,-9.378,-8.668,-8.0,-7.209,-6.848,-6.0,-5.035,-4.958,-4.0,-3.262,-2.667,-2.0,-1.523,-0.284,0.0,0.194,1.258,1.83,2.0,2.228,3.546,4.0,4.59,5.292,6.0,6.971,7.019,8.0,8.687,9.43,10.0,10.351,11.935,12.0,12.041,12.279,13.608,14.0,14.518,15.345,16.0,16.809,17.139,18.0,18.993,19.007,20.0,20.852,21.159,22.0,22.701,23.343,24.0,24.551,25.479,26.0,26.451,27.6,28.0,28.358,29.686,30.0,30.293,31.755,32.0,32.23,33.826,34.0,34.158,35.977,36.0,36.019,36.178,37.696,38.0,38.395,39.458,40.0,40.724,41.185,42.0,42.943,43.066,44.0,44.689,45.381,46.0,46.434,47.74,48.0,48.185,49.553,49.907,50.0,50.126,51.571,52.0,52.549,53.325,54.0,54.818,55.148,56.0,56.992,57.007,58.0,58.874,59.145,60.0,60.735,61.306,62.0,62.577,63.539,64.0,64.362,65.825,66.0,66.124,66.718,67.685,68.0,68.469,69.318,70.0,70.995,71.007,72.0,72.633,73.497,74.0,74.31,75.945,76.0,76.036,76.319,77.683,78.0,78.391,79.47,80.0,80.658,81.24,82.0,82.995,83.003,84.0,84.654,85.528,86.0,86.253,86.981,87.603,88.0,88.861,89.052,90.0,90.569,91.729,92.0,92.148,92.796,93.662,94.0,94.512,95.307,96.0,96.874,97.107,98.0,98.973,99.031,100.0,100.859,101.154,102.0,102.72,103.32,104.0,104.507,105.684,106.0,106.199,106.996,107.688,108.0,108.547,109.215,110.0,110.836,111.22,112.0,112.502,113.693,114.0,114.21,115.633],\"yaxis\":\"y\",\"type\":\"scatter\"},{\"hovertemplate\":\"<b>%{hovertext}</b><br><br>phi=%{x}<br>psi=%{y}<extra></extra>\",\"hovertext\":[0.001,0.001,0.001,0.001,0.001,0.001,0.001,0.001,0.001,0.001,0.001,0.001,0.001,0.001,0.001,0.001,0.001,0.001,0.001,0.001,0.001,0.001,0.001,0.001,0.001,0.001,0.001,0.001,0.001,0.001,0.001,0.001,0.001,0.001,0.001,0.001,0.001,0.001,0.001,0.001,0.001,0.001,0.001,0.001,0.001,0.001,0.001,0.001,0.001,0.001,0.001,0.001,0.001,0.001,0.001,0.001,0.001,0.001,0.001,0.001,0.001,0.001,0.001,0.001,0.001,0.001,0.001,0.001,0.001,0.001,0.001,0.001,0.001,0.001,0.001,0.001,0.001,0.001,0.001,0.001,0.001,0.001,0.001,0.001,0.001,0.001,0.001,0.001,0.001,0.001,0.001,0.001,0.001,0.001,0.001,0.001,0.001,0.001,0.001,0.001,0.001,0.001,0.001,0.001,0.001,0.001,0.001,0.001,0.001,0.001,0.001,0.001,0.001,0.001,0.001,0.001,0.001,0.001,0.001,0.001,0.001,0.001,0.001,0.001,0.001,0.001,0.001,0.001,0.001,0.001,0.001,0.001,0.001,0.001,0.001,0.001,0.001,0.001,0.001,0.001,0.001,0.001,0.001,0.001,0.001,0.001,0.001,0.001,0.001,0.001,0.001,0.001,0.001,0.001,0.001,0.001,0.001,0.001,0.001,0.001,0.001,0.001,0.001,0.001,0.001,0.001,0.001,0.001,0.001,0.001,0.001,0.001,0.001,0.001,0.001,0.001,0.001,0.001,0.001,0.001,0.001,0.001,0.001,0.001,0.001,0.001,0.001,0.001,0.001,0.001,0.001,0.001,0.001,0.001,0.001,0.001,0.001,0.001,0.001,0.001,0.001,0.001,0.001,0.001,0.001,0.001,0.001,0.001,0.001,0.001,0.001,0.001,0.001,0.001,0.001,0.001,0.001,0.001,0.001,0.001,0.001,0.001,0.001,0.001,0.001,0.001,0.001,0.001,0.001,0.001,0.001,0.001,0.001,0.001,0.001,0.001,0.001,0.001,0.001,0.001,0.001,0.001,0.001,0.001,0.001,0.001,0.001,0.001,0.001,0.001,0.001,0.001,0.001,0.001,0.001,0.001,0.001,0.001,0.001,0.001,0.001,0.001,0.001,0.001,0.001,0.001,0.001,0.001,0.001,0.001,0.001,0.001,0.001,0.001,0.001,0.001,0.001,0.001,0.001,0.001,0.001,0.001,0.001,0.001,0.001,0.001,0.001,0.001,0.001,0.001,0.001,0.001,0.001,0.001,0.001,0.001,0.001,0.001,0.001,0.001,0.001,0.001,0.001,0.001,0.001,0.001,0.001,0.001,0.001,0.001,0.001,0.001,0.001,0.001,0.001,0.001,0.001,0.001,0.001,0.001,0.001,0.001,0.001,0.001,0.001,0.001,0.001,0.001,0.001,0.001,0.001,0.001,0.001,0.001,0.001,0.001,0.001,0.001,0.001,0.001,0.001,0.001,0.001,0.001,0.001,0.001,0.001,0.001,0.001,0.001,0.001,0.001,0.001,0.001,0.001,0.001,0.001,0.001,0.001,0.001,0.001,0.001,0.001,0.001,0.001,0.001,0.001,0.001,0.001,0.001,0.001,0.001,0.001,0.001,0.001,0.001,0.001,0.001,0.001,0.001,0.001,0.001,0.001,0.001,0.001,0.001,0.001,0.001,0.001,0.001,0.001,0.001,0.001,0.001,0.001,0.001,0.001,0.001,0.001,0.001,0.001,0.001,0.001,0.001,0.001,0.001,0.001,0.001,0.001,0.001,0.001,0.001,0.001,0.001,0.001,0.001,0.001,0.001,0.001,0.001,0.001,0.001,0.001,0.001,0.001,0.001,0.001,0.001,0.001,0.001,0.001,0.001,0.001,0.001,0.001,0.001,0.001,0.001,0.001,0.001,0.001,0.001,0.001,0.001,0.001,0.001,0.001,0.001,0.001,0.001,0.001,0.001,0.001,0.001,0.001,0.001,0.001,0.001,0.001,0.001,0.001,0.001,0.001,0.001,0.001,0.001,0.001,0.001,0.001,0.001,0.001,0.001,0.001,0.001,0.001,0.001,0.001,0.001,0.001,0.001,0.001,0.001,0.001,0.001,0.001,0.001,0.001,0.001,0.001,0.001,0.001,0.001,0.001,0.001,0.001,0.001,0.001,0.001,0.001,0.001,0.001,0.001,0.001,0.001,0.001,0.001,0.001,0.001,0.001,0.001,0.001,0.001,0.001,0.001,0.001,0.001,0.001,0.001,0.001,0.001,0.001,0.001,0.001,0.001,0.001,0.001,0.001,0.001,0.001,0.001,0.001,0.001,0.001,0.001,0.001,0.001,0.001,0.001,0.001,0.001,0.001,0.001,0.001,0.001,0.001,0.001,0.001,0.001,0.001,0.001,0.001,0.001,0.001,0.001,0.001,0.001,0.001,0.001,0.001,0.001,0.001,0.001,0.001,0.001,0.001,0.001,0.001,0.001,0.001,0.001,0.001,0.001,0.001,0.001,0.001,0.001,0.001,0.001,0.001,0.001,0.001,0.001,0.001,0.001,0.001,0.001,0.001,0.001,0.001,0.001,0.001,0.001,0.001,0.001,0.001,0.001,0.001,0.001,0.001,0.001,0.001,0.001,0.001,0.001,0.001,0.001,0.001,0.001,0.001,0.001,0.001,0.001,0.001,0.001,0.001,0.001,0.001,0.001,0.001,0.001,0.001,0.001,0.001,0.001,0.001,0.001,0.001,0.001,0.001,0.001,0.001,0.001,0.001,0.001,0.001,0.001,0.001,0.001,0.001,0.001,0.001,0.001,0.001,0.001,0.001,0.001,0.001,0.001,0.001,0.001,0.001,0.001,0.001,0.001,0.001,0.001,0.001,0.001,0.001,0.001,0.001,0.001,0.001,0.001,0.001,0.001,0.001,0.001,0.001,0.001,0.001,0.001,0.001,0.001,0.001,0.001,0.001,0.001,0.001,0.001,0.001,0.001,0.001,0.001,0.001,0.001,0.001,0.001,0.001,0.001,0.001,0.001,0.001,0.001,0.001,0.001,0.001,0.001,0.001,0.001,0.001,0.001,0.001,0.001,0.001,0.001,0.001,0.001,0.001,0.001,0.001,0.001,0.001,0.001,0.001],\"legendgroup\":\"\",\"line\":{\"color\":\"deepskyblue\",\"dash\":\"solid\",\"width\":1},\"marker\":{\"symbol\":\"circle\",\"color\":\"white\",\"size\":4},\"mode\":\"lines\",\"name\":\"\",\"orientation\":\"v\",\"showlegend\":false,\"x\":[81.167,81.642,82.0,82.637,83.031,83.376,84.0,84.153,84.206,84.337,84.714,84.984,85.14,85.195,85.337,85.373,85.402,85.435,85.396,85.342,85.301,85.156,85.104,84.961,84.738,84.498,84.345,84.249,84.0,83.537,83.305,82.898,82.777,82.461,82.336,82.0,81.614,81.427,81.189,81.094,80.858,80.702,80.569,80.451,80.403,80.303,80.269,80.263,80.263,80.256,80.258,80.342,80.344,80.346,80.42,80.423,80.412,80.418,80.408,80.376,80.242,80.221,80.189,80.0,79.858,79.84,79.805,79.55,79.472,79.345,79.233,79.084,78.938,78.91,78.76,78.646,78.406,78.324,78.26,78.0,77.777,77.716,77.609,77.387,77.197,76.975,76.955,76.715,76.605,76.339,76.269,76.225,76.0,75.875,75.864,75.866,75.819,75.82,75.831,75.88,75.887,75.895,76.0,76.043,76.047,76.052,76.306,76.333,76.375,76.52,76.575,76.722,76.832,76.984,77.304,77.542,77.707,77.809,78.0,78.626,78.891,79.328,79.699,79.836,79.893,80.0,80.679,80.938,81.299,81.491,81.674,81.762,82.0,82.425,82.579,82.93,82.975,83.248,83.436,83.668,83.76,83.809,84.0,84.368,84.489,84.737,84.887,85.135,85.399,85.694,85.8,85.852,86.0,86.489,86.649,86.945,86.975,87.232,87.431,87.711,87.797,87.845,88.0,88.374,88.475,88.645,88.822,89.001,89.224,89.3,89.461,89.587,89.923,89.944,89.956,90.0,90.525,90.657,90.961,90.984,91.218,91.457,91.706,91.8,91.86,92.0,92.617,92.851,93.261,93.449,93.659,93.767,94.0,94.58,94.837,95.241,95.47,95.684,95.777,96.0,96.514,96.724,97.071,97.116,97.387,97.554,98.0,98.064,98.086,98.112,98.523,98.627,98.73,98.814,98.918,98.933,98.934,98.949,98.884,98.853,98.784,98.683,98.496,98.412,98.327,98.0,97.772,97.675,97.451,97.21,96.837,96.572,96.0,95.722,95.484,94.861,94.0,93.847,93.659,92.872,92.0,91.774,91.47,90.736,90.0,89.55,88.931,88.521,88.0,87.495,87.002,86.651,86.0,85.807,85.7,85.596,85.338,85.177,85.131,85.112,85.067,85.105,85.103,85.137,85.237,85.246,85.327,85.429,85.496,85.571,85.64,85.83,85.859,85.879,86.0,86.266,86.311,86.369,86.598,86.679,86.761,86.82,86.902,87.017,87.019,87.12,87.146,87.149,87.174,87.149,87.143,87.117,87.022,87.02,86.915,86.827,86.758,86.668,86.564,86.183,86.141,86.111,86.0,85.686,85.609,85.463,85.33,85.089,84.843,84.544,84.328,84.229,84.0,83.516,83.19,82.832,82.0,81.971,81.947,81.838,81.194,80.44,80.273,80.0,79.221,78.11,78.062,78.0,77.707,76.873,76.0,75.463,74.109,74.0,73.933,73.407,72.214,72.0,71.788,70.801,70.108,70.0,69.79,68.638,68.0,67.291,66.514,66.2,66.0,65.136,64.471,64.224,64.0,63.314,63.003,62.599,62.0,61.955,61.937,61.889,61.268,61.048,60.757,60.653,60.468,60.363,60.0,59.959,59.948,59.935,59.557,59.484,59.408,59.278,59.198,59.104,59.077,58.99,58.914,58.908,58.839,58.789,58.781,58.735,58.687,58.665,58.621,58.584,58.546,58.512,58.472,58.401,58.368,58.342,58.195,58.18,58.172,58.051,58.049,58.048,58.0,57.916,57.91,57.91,57.935,57.935,57.942,58.0,58.137,58.154,58.183,58.377,58.44,58.573,58.683,58.88,59.097,59.207,59.439,59.572,60.0,60.207,60.301,60.469,60.718,61.022,61.245,61.665,61.793,61.842,62.0,62.374,62.508,62.613,62.721,62.847,62.878,62.888,62.919,62.866,62.857,62.807,62.656,62.547,62.439,62.324,62.0,61.837,61.791,61.661,61.243,61.02,60.67,60.408,60.252,60.172,60.0,59.45,59.257,58.862,58.8,58.55,58.382,58.0,57.78,57.699,57.416,57.109,56.819,56.575,56.363,56.251,56.155,56.0,55.439,55.231,54.752,54.575,54.345,54.177,54.0,53.25,52.868,52.463,52.0,51.77,51.651,50.918,50.849,50.466,50.265,50.0,49.484,49.247,48.753,48.591,48.357,48.204,48.0,47.437,47.203,46.768,46.646,46.416,46.243,46.0,45.605,45.446,44.914,44.875,44.569,44.326,44.0,43.775,43.675,42.899,42.817,42.444,42.225,42.0,41.272,40.863,40.457,40.0,39.836,39.758,38.999,38.999,38.604,38.384,38.0,37.977,37.968,37.909,37.132,36.816,36.494,36.254,36.161,36.093,36.0,35.216,34.879,34.582,34.358,34.235,34.144,34.0,33.299,32.973,32.588,32.151,32.083,32.046,32.0,31.027,30.503,30.29,30.0,29.446,29.137,28.686,28.346,28.189,28.123,28.0,27.309,26.981,26.643,26.297,26.177,26.137,26.0,25.431,25.215,25.001,25.0,24.804,24.723,24.664,24.592,24.629,24.626,24.668,24.771,24.792,24.921,25.138,25.317,25.532,25.666,26.0,26.416,26.701,27.206,28.0,28.19,28.411,29.184,30.0,30.357,30.979,31.549,32.0,32.898,33.234,34.0,34.275,35.042,35.665,36.0,36.619,37.175,38.0,38.766,39.368,40.0,40.339,41.58,41.861,42.0,42.285,43.276,44.0,44.742,45.554,46.0,46.167,46.487,47.317,48.0,48.552,49.41,49.692,50.0,50.784,51.852,51.918,52.0,52.914,53.939,54.0,54.004,54.011,55.0,56.0,56.085,56.194,57.094,58.0,58.191,58.418,59.174,60.0,60.286,60.659,61.32,62.0,62.45,62.997,63.458,64.0,64.549,65.076,65.448,66.0,66.375,66.631,67.004,67.008,67.325,67.397,67.508,67.567,67.614,67.788,67.814,67.833,68.0,68.06,68.066,68.083,68.422,68.505,68.659,68.79,68.973,69.213,69.395,69.578,69.696,70.0,70.457,70.715,71.178,71.666,71.858,71.908,72.0,72.865,73.545,73.741,74.0,74.832,75.805,75.901,76.0,76.314,77.287,78.0,78.916,79.104,80.0,80.525,81.167],\"xaxis\":\"x\",\"y\":[120.0,119.642,119.425,118.637,118.0,117.376,116.433,116.153,116.0,115.663,114.714,114.0,113.14,112.805,112.0,111.373,110.598,110.0,109.396,108.658,108.0,107.156,106.896,106.0,105.262,104.498,104.0,103.751,103.292,102.463,102.0,101.102,100.777,100.0,99.664,99.046,98.386,98.0,97.189,96.906,96.0,95.298,94.569,94.0,93.597,92.303,92.0,91.737,90.263,90.0,89.742,88.342,88.0,87.654,86.42,86.0,85.588,84.418,84.0,83.624,82.242,82.0,81.811,80.991,80.142,80.0,79.805,78.45,78.0,77.345,76.767,76.0,75.062,74.91,74.0,73.354,72.406,72.0,71.74,71.089,70.223,70.0,69.609,68.613,68.0,67.025,66.955,66.0,65.395,64.339,64.0,63.775,62.974,62.125,62.0,61.866,60.181,60.0,59.831,58.12,58.0,57.895,56.345,56.043,56.0,55.948,54.306,54.0,53.625,52.52,52.0,51.278,50.832,50.0,49.304,48.458,48.0,47.809,47.399,46.626,46.0,45.328,44.301,44.0,43.893,43.625,42.679,42.0,41.298,40.509,40.0,39.762,39.062,38.425,38.0,37.07,36.975,36.0,35.436,34.332,34.0,33.809,33.047,32.368,32.0,31.263,30.887,30.0,29.399,28.306,28.0,27.852,27.36,26.489,26.0,25.055,24.975,24.0,23.431,22.289,22.0,21.845,21.223,20.374,20.0,19.355,18.822,18.0,17.224,16.7,16.0,15.587,14.077,14.0,13.956,13.765,12.525,12.0,11.039,10.984,10.0,9.457,8.294,8.0,7.86,7.453,6.617,6.0,5.261,4.551,4.0,3.767,3.233,2.58,2.0,1.241,0.53,0.0,-0.223,-0.786,-1.486,-2.0,-2.929,-3.116,-4.0,-4.446,-5.831,-5.936,-6.0,-6.112,-7.477,-8.0,-8.73,-9.186,-10.0,-10.933,-11.066,-12.0,-12.884,-13.147,-14.0,-14.683,-15.504,-16.0,-16.327,-17.03,-17.772,-18.0,-18.549,-19.21,-20.0,-20.572,-21.267,-21.722,-22.0,-22.861,-23.655,-23.847,-24.0,-24.872,-25.528,-25.774,-26.0,-26.736,-27.161,-27.55,-28.0,-28.521,-28.909,-29.495,-30.0,-30.651,-31.46,-31.807,-32.0,-32.404,-33.338,-34.0,-34.869,-35.112,-36.0,-36.895,-37.103,-38.0,-38.763,-39.246,-40.0,-40.571,-41.496,-42.0,-42.36,-43.83,-44.0,-44.121,-44.887,-45.734,-46.0,-46.369,-47.402,-48.0,-48.761,-49.18,-50.0,-50.983,-51.019,-52.0,-52.854,-53.149,-54.0,-54.851,-55.143,-56.0,-56.978,-57.02,-58.0,-58.827,-59.242,-60.0,-60.564,-61.817,-62.0,-62.111,-62.34,-63.686,-64.0,-64.537,-65.33,-66.0,-66.843,-67.456,-68.0,-68.229,-68.512,-69.516,-70.0,-70.832,-71.925,-71.971,-72.0,-72.162,-73.194,-74.0,-74.273,-74.499,-75.221,-76.0,-76.062,-76.104,-76.293,-76.873,-77.295,-77.463,-77.891,-77.925,-77.933,-78.0,-78.214,-78.238,-78.212,-78.0,-77.892,-77.87,-77.79,-77.362,-77.108,-76.709,-76.0,-75.8,-75.615,-74.864,-74.0,-73.776,-73.486,-72.686,-72.0,-71.401,-70.101,-70.045,-70.0,-69.889,-68.732,-68.0,-67.243,-66.653,-66.0,-65.637,-64.129,-64.041,-64.0,-63.935,-62.443,-62.0,-61.408,-60.722,-60.0,-59.104,-58.923,-58.0,-57.086,-56.908,-56.0,-55.211,-54.781,-54.0,-53.313,-52.665,-52.0,-51.416,-50.546,-50.0,-49.528,-48.401,-48.0,-47.658,-46.195,-46.0,-45.828,-44.051,-44.0,-43.952,-42.97,-42.084,-42.0,-41.91,-40.065,-40.0,-39.942,-39.612,-38.137,-38.0,-37.817,-36.377,-36.0,-35.427,-34.683,-34.0,-33.097,-32.793,-32.0,-31.572,-30.793,-30.207,-30.0,-29.531,-28.718,-28.0,-27.245,-26.335,-26.0,-25.842,-25.536,-24.374,-24.0,-23.387,-22.721,-22.0,-21.122,-20.888,-20.0,-19.134,-18.857,-18.0,-17.344,-16.547,-16.0,-15.676,-14.477,-14.163,-14.0,-13.661,-12.757,-12.0,-11.33,-10.408,-10.0,-9.828,-9.391,-8.55,-8.0,-7.138,-6.8,-6.0,-5.618,-4.524,-4.22,-4.0,-3.416,-2.891,-2.0,-1.425,-0.363,0.0,0.155,0.674,1.439,2.0,2.752,3.425,4.0,4.177,4.548,5.25,6.0,6.463,7.552,7.77,8.0,8.918,9.151,10.0,10.265,10.948,11.484,12.0,12.753,13.409,14.0,14.204,14.807,15.437,16.0,16.768,17.354,18.0,18.243,19.131,19.605,20.0,20.914,21.125,22.0,22.326,23.532,23.775,24.0,24.899,25.183,26.0,26.225,26.707,27.272,28.0,28.457,29.678,29.836,30.0,30.999,31.001,32.0,32.384,33.949,33.977,34.0,34.091,35.132,36.0,36.494,37.746,38.0,38.093,38.42,39.216,40.0,40.582,41.642,42.0,42.144,42.555,43.299,44.0,44.588,45.849,46.0,46.046,46.137,47.027,48.0,48.29,48.93,49.446,50.0,50.686,51.654,52.0,52.123,52.449,53.309,54.0,54.643,55.703,56.0,56.137,56.532,57.431,58.0,58.999,59.0,60.0,60.723,61.336,62.0,62.629,63.374,64.0,64.771,65.208,66.0,66.862,67.317,68.0,68.334,68.784,69.584,70.0,70.794,71.586,71.81,72.0,72.816,73.362,73.643,74.0,74.451,74.654,75.102,75.234,75.565,75.725,76.0,76.335,76.44,76.619,76.825,77.014,77.234,77.368,77.532,77.661,78.0,78.139,78.18,78.285,78.724,78.936,79.258,79.554,79.729,79.833,80.0,80.683,81.021,81.448,82.0,82.308,82.496,83.216,84.0,84.082,84.14,85.086,85.939,85.991,85.996,86.0,87.0,87.826,87.915,88.0,88.906,89.616,89.809,90.0,90.826,91.47,91.714,92.0,92.68,93.192,93.55,94.0,94.542,95.011,95.451,96.0,96.552,97.228,97.625,98.0,98.996,99.008,100.0,100.603,101.508,102.0,102.386,103.788,104.0,104.167,105.491,105.94,106.0,106.083,107.578,108.0,108.659,109.21,110.0,110.787,111.395,112.0,112.304,112.831,113.543,114.0,114.822,115.666,116.0,116.092,116.208,117.135,118.0,118.259,118.551,119.168,120.0,120.099,120.192,120.314,120.713,120.972,120.916,120.896,120.837,120.525,120.0],\"yaxis\":\"y\",\"type\":\"scatter\"},{\"hovertemplate\":\"<b>%{hovertext}</b><br><br>phi=%{x}<br>psi=%{y}<extra></extra>\",\"hovertext\":[0.001,0.001,0.001,0.001,0.001,0.001,0.001,0.001,0.001,0.001,0.001,0.001,0.001,0.001,0.001,0.001,0.001,0.001,0.001,0.001,0.001,0.001,0.001,0.001,0.001,0.001,0.001,0.001,0.001,0.001,0.001,0.001,0.001,0.001,0.001,0.001,0.001,0.001,0.001,0.001,0.001,0.001,0.001,0.001,0.001,0.001,0.001,0.001,0.001,0.001,0.001,0.001,0.001,0.001,0.001,0.001,0.001,0.001,0.001,0.001,0.001,0.001,0.001,0.001,0.001,0.001,0.001,0.001,0.001,0.001,0.001,0.001,0.001,0.001,0.001,0.001,0.001,0.001,0.001,0.001,0.001,0.001,0.001,0.001,0.001,0.001,0.001,0.001,0.001,0.001,0.001,0.001,0.001,0.001,0.001,0.001,0.001,0.001,0.001,0.001,0.001,0.001,0.001,0.001,0.001],\"legendgroup\":\"\",\"line\":{\"color\":\"deepskyblue\",\"dash\":\"solid\",\"width\":1},\"marker\":{\"symbol\":\"circle\",\"color\":\"white\",\"size\":4},\"mode\":\"lines\",\"name\":\"\",\"orientation\":\"v\",\"showlegend\":false,\"x\":[180.0,179.92,179.905,179.888,179.588,179.533,179.482,179.364,179.307,179.206,179.145,179.047,178.898,178.879,178.752,178.599,178.41,178.316,178.256,178.0,177.787,177.73,177.639,177.338,177.195,176.985,176.978,176.779,176.619,176.403,176.305,176.245,176.0,175.841,175.805,175.759,175.482,175.391,175.301,175.216,175.123,174.988,174.985,174.858,174.686,174.553,174.431,174.291,174.0,173.667,173.558,173.2,173.064,172.736,172.46,172.0,171.759,171.658,171.435,171.16,170.896,170.63,170.325,170.211,170.155,170.0,169.581,169.471,169.357,169.215,169.098,169.051,169.045,168.999,169.015,169.016,169.032,169.071,169.079,169.118,169.192,169.259,169.335,169.365,169.422,169.451,169.463,169.48,169.492,169.494,169.498,169.501,169.511,169.548,169.558,169.599,169.831,169.85,169.872,170.0,170.206,170.256,170.353,170.58,170.77],\"xaxis\":\"x\",\"y\":[115.633,115.92,116.0,116.112,117.588,118.0,118.518,119.364,120.0,120.794,121.145,122.0,122.898,123.121,124.0,124.599,125.59,126.0,126.256,127.329,127.787,128.0,128.361,129.338,130.0,130.985,131.022,132.0,132.619,133.597,134.0,134.245,135.397,135.841,136.0,136.241,137.482,138.0,138.699,139.216,140.0,140.988,141.015,142.0,142.686,143.447,144.0,144.291,145.121,145.667,146.0,146.8,147.064,148.0,148.46,149.46,149.759,150.0,150.565,151.16,152.0,152.63,153.675,154.0,154.155,154.693,155.581,156.0,156.643,157.215,158.0,158.949,159.045,160.0,160.985,161.016,162.0,162.929,163.079,164.0,164.808,165.259,166.0,166.635,167.422,168.0,168.537,169.48,170.0,170.506,171.498,172.0,172.489,173.548,174.0,174.401,175.831,176.0,176.128,176.552,177.794,178.0,178.353,179.42,180.0],\"yaxis\":\"y\",\"type\":\"scatter\"},{\"hovertemplate\":\"<b>%{hovertext}</b><br><br>phi=%{x}<br>psi=%{y}<extra></extra>\",\"hovertext\":[0.001,0.001,0.001,0.001,0.001,0.001,0.001,0.001,0.001,0.001,0.001,0.001,0.001,0.001,0.001,0.001,0.001,0.001,0.001,0.001,0.001,0.001,0.001,0.001,0.001,0.001,0.001,0.001,0.001,0.001,0.001,0.001,0.001,0.001,0.001,0.001,0.001,0.001,0.001,0.001,0.001,0.001,0.001,0.001,0.001,0.001,0.001,0.001,0.001,0.001,0.001,0.001,0.001,0.001,0.001,0.001,0.001,0.001,0.001,0.001,0.001,0.001,0.001,0.001,0.001,0.001,0.001,0.001,0.001,0.001,0.001,0.001,0.001,0.001,0.001,0.001,0.001,0.001,0.001,0.001,0.001,0.001,0.001,0.001,0.001,0.001,0.001,0.001,0.001,0.001,0.001,0.001,0.001,0.001,0.001,0.001,0.001,0.001,0.001,0.001,0.001,0.001,0.001,0.001,0.001,0.001,0.001,0.001,0.001,0.001,0.001,0.001,0.001,0.001,0.001,0.001,0.001,0.001,0.001,0.001,0.001,0.001,0.001,0.001,0.001,0.001,0.001,0.001,0.001,0.001,0.001,0.001,0.001,0.001,0.001,0.001,0.001,0.001,0.001,0.001,0.001,0.001,0.001,0.001,0.001,0.001,0.001,0.001,0.001,0.001,0.001,0.001,0.001,0.001,0.001,0.001,0.001,0.001,0.001,0.001,0.001,0.001,0.001,0.001,0.001,0.001,0.001,0.001,0.001,0.001,0.001],\"legendgroup\":\"\",\"line\":{\"color\":\"deepskyblue\",\"dash\":\"solid\",\"width\":1},\"marker\":{\"symbol\":\"circle\",\"color\":\"white\",\"size\":4},\"mode\":\"lines\",\"name\":\"\",\"orientation\":\"v\",\"showlegend\":false,\"x\":[83.212,83.483,84.0,84.103,84.148,84.264,84.758,85.018,85.303,85.678,85.805,85.861,86.0,86.562,86.786,87.143,87.336,87.608,87.735,88.0,88.405,88.554,88.793,88.901,89.135,89.273,89.438,89.553,89.602,89.752,89.782,89.782,89.806,89.807,89.786,89.664,89.63,89.57,89.432,89.353,89.213,89.152,88.997,88.84,88.743,88.594,88.513,88.162,88.131,88.114,88.0,87.727,87.667,87.606,87.489,87.401,87.316,87.27,87.17,87.082,87.068,86.978,86.875,86.835,86.734,86.625,86.444,86.364,86.297,86.0,85.741,85.625,85.303,85.112,84.697,84.428,84.0,83.443,82.972,82.522,82.0,81.25,80.369,80.0,79.741,78.47,78.0,77.176,76.326,76.166,76.0,75.276,74.801,74.48,74.0,73.648,73.492,73.101,73.041,72.604,72.393,72.0,71.642,71.505,71.169,71.073,70.686,70.447,70.0,69.71,69.608,69.148,69.042,68.56,68.342,68.0,67.543,67.35,66.866,66.598,66.288,66.157,66.0,65.297,64.986,64.589,64.0,63.824,63.741,63.485,63.135,62.805,62.511,62.0,61.828,61.755,61.592,61.214,60.964,60.671,60.396,60.254,60.19,60.0,59.601,59.476,59.282,59.142,58.947,58.751,58.652,58.506,58.427,58.197,58.162,58.14,58.0,57.793,57.755,57.732,57.592,57.559,57.537,57.49,57.465,57.437,57.389,57.359,57.264,57.191,57.094],\"xaxis\":\"x\",\"y\":[180.0,179.483,178.247,178.103,178.0,177.736,176.758,176.0,175.303,174.322,174.0,173.861,173.518,172.562,172.0,171.143,170.664,170.0,169.735,169.115,168.405,168.0,167.207,166.901,166.0,165.273,164.562,164.0,163.602,162.248,162.0,161.782,160.194,160.0,159.786,158.336,158.0,157.57,156.568,156.0,155.213,154.848,154.0,153.16,152.743,152.0,151.487,150.162,150.0,149.886,149.46,148.273,148.0,147.606,146.511,146.0,145.316,144.73,144.0,143.082,142.932,142.0,141.125,140.835,140.0,139.375,138.444,138.0,137.703,136.847,136.259,136.0,135.303,134.888,134.0,133.572,133.046,132.557,132.0,131.478,131.028,130.75,130.369,130.22,130.259,130.47,130.539,131.176,132.0,132.166,132.29,133.276,134.0,134.48,135.063,135.648,136.0,136.899,137.041,138.0,138.393,138.994,139.642,140.0,140.831,141.073,142.0,142.447,143.178,143.71,144.0,144.852,145.042,146.0,146.342,146.87,147.543,148.0,148.866,149.402,150.0,150.157,150.378,151.297,152.0,152.589,153.62,153.824,154.0,154.515,155.135,156.0,156.511,157.592,157.828,158.0,158.408,159.214,160.0,160.671,161.604,162.0,162.19,162.793,163.601,164.0,164.718,165.142,166.0,166.751,167.348,168.0,168.427,169.803,170.0,170.14,171.028,171.793,172.0,172.268,173.592,174.0,174.463,175.49,176.0,176.563,177.389,178.0,178.736,179.191,180.0],\"yaxis\":\"y\",\"type\":\"scatter\"},{\"hovertemplate\":\"<b>%{hovertext}</b><br><br>phi=%{x}<br>psi=%{y}<extra></extra>\",\"hovertext\":[0.001,0.001,0.001,0.001,0.001,0.001,0.001,0.001,0.001,0.001,0.001,0.001,0.001,0.001,0.001,0.001,0.001,0.001,0.001,0.001,0.001,0.001,0.001,0.001,0.001,0.001,0.001,0.001,0.001,0.001,0.001,0.001,0.001,0.001,0.001,0.001,0.001,0.001,0.001,0.001,0.001,0.001,0.001,0.001,0.001,0.001,0.001,0.001,0.001,0.001,0.001,0.001,0.001,0.001,0.001,0.001,0.001,0.001,0.001,0.001,0.001,0.001,0.001,0.001,0.001,0.001,0.001,0.001,0.001,0.001,0.001,0.001,0.001,0.001,0.001,0.001,0.001,0.001,0.001,0.001,0.001,0.001,0.001,0.001,0.001,0.001,0.001,0.001,0.001,0.001,0.001,0.001,0.001,0.001,0.001,0.001,0.001,0.001,0.001,0.001,0.001,0.001,0.001,0.001,0.001,0.001,0.001,0.001,0.001,0.001,0.001,0.001,0.001,0.001,0.001,0.001,0.001,0.001,0.001,0.001,0.001,0.001,0.001,0.001,0.001,0.001,0.001,0.001,0.001,0.001,0.001,0.001,0.001,0.001,0.001,0.001,0.001,0.001,0.001,0.001,0.001,0.001,0.001,0.001,0.001,0.001,0.001,0.001,0.001,0.001,0.001,0.001,0.001,0.001,0.001,0.001,0.001,0.001,0.001,0.001,0.001,0.001,0.001,0.001,0.001,0.001,0.001,0.001,0.001,0.001,0.001,0.001,0.001,0.001,0.001,0.001,0.001,0.001,0.001,0.001,0.001,0.001,0.001,0.001,0.001,0.001,0.001,0.001,0.001,0.001,0.001,0.001,0.001,0.001,0.001,0.001,0.001,0.001,0.001,0.001,0.001,0.001,0.001,0.001,0.001,0.001,0.001,0.001,0.001,0.001,0.001,0.001,0.001,0.001,0.001,0.001,0.001,0.001,0.001,0.001,0.001,0.001,0.001,0.001,0.001,0.001,0.001,0.001,0.001,0.001,0.001,0.001,0.001,0.001,0.001,0.001,0.001,0.001,0.001,0.001,0.001,0.001,0.001,0.001,0.001,0.001,0.001,0.001,0.001,0.001,0.001,0.001,0.001,0.001,0.001,0.001,0.001,0.001,0.001,0.001,0.001,0.001,0.001,0.001,0.001,0.001,0.001,0.001,0.001,0.001,0.001,0.001,0.001,0.001,0.001,0.001,0.001,0.001,0.001,0.001,0.001,0.001,0.001,0.001,0.001,0.001,0.001,0.001,0.001,0.001,0.001,0.001,0.001,0.001,0.001,0.001,0.001,0.001,0.001,0.001,0.001,0.001,0.001,0.001,0.001,0.001,0.001,0.001,0.001,0.001,0.001,0.001,0.001,0.001,0.001,0.001,0.001,0.001,0.001,0.001,0.001,0.001,0.001,0.001,0.001,0.001,0.001,0.001,0.001,0.001,0.001,0.001,0.001,0.001,0.001,0.001,0.001,0.001,0.001,0.001,0.001,0.001,0.001,0.001,0.001,0.001,0.001,0.001,0.001,0.001,0.001,0.001,0.001,0.001,0.001,0.001,0.001,0.001,0.001,0.001,0.001,0.001,0.001,0.001,0.001,0.001,0.001,0.001,0.001,0.001,0.001,0.001,0.001,0.001,0.001,0.001,0.001,0.001,0.001,0.001,0.001,0.001,0.001,0.001,0.001,0.001,0.001,0.001,0.001,0.001,0.001,0.001,0.001,0.001,0.001,0.001,0.001,0.001,0.001,0.001,0.001,0.001,0.001,0.001,0.001,0.001,0.001,0.001,0.001,0.001,0.001,0.001,0.001,0.001,0.001,0.001,0.001,0.001,0.001,0.001,0.001,0.001,0.001,0.001,0.001,0.001,0.001,0.001,0.001,0.001,0.001,0.001,0.001,0.001,0.001,0.001,0.001,0.001,0.001,0.001,0.001,0.001,0.001,0.001,0.001,0.001,0.001,0.001,0.001,0.001,0.001,0.001,0.001,0.001,0.001,0.001,0.001,0.001,0.001,0.001,0.001,0.001,0.001,0.001,0.001,0.001,0.001,0.001,0.001,0.001,0.001,0.001,0.001,0.001,0.001,0.001,0.001,0.001,0.001,0.001,0.001,0.001,0.001,0.001,0.001,0.001,0.001,0.001,0.001,0.001,0.001,0.001,0.001,0.001,0.001,0.001,0.001,0.001,0.001,0.001,0.001,0.001,0.001,0.001,0.001,0.001,0.001,0.001,0.001,0.001,0.001,0.001,0.001,0.001,0.001,0.001,0.001,0.001,0.001,0.001,0.001,0.001,0.001,0.001,0.001,0.001,0.001,0.001,0.001,0.001,0.001,0.001,0.001,0.001,0.001,0.001,0.001,0.001,0.001,0.001,0.001,0.001,0.001,0.001,0.001,0.001,0.001,0.001,0.001,0.001,0.001,0.001,0.001,0.001,0.001,0.001,0.001,0.001,0.001,0.001,0.001,0.001,0.001,0.001,0.001,0.001,0.001,0.001,0.001,0.001,0.001,0.001,0.001,0.001,0.001,0.001,0.001,0.001,0.001,0.001,0.001,0.001,0.001,0.001,0.001,0.001,0.001,0.001,0.001,0.001,0.001,0.001,0.001,0.001,0.001,0.001,0.001,0.001,0.001,0.001,0.001,0.001,0.001,0.001,0.001,0.001,0.001,0.001,0.001,0.001,0.001,0.001,0.001,0.001,0.001,0.001,0.001,0.001,0.001,0.001,0.001,0.001,0.001,0.001,0.001,0.001,0.001,0.001,0.001,0.001,0.001,0.001,0.001,0.001,0.001,0.001,0.001,0.001,0.001,0.001,0.001,0.001,0.001,0.001,0.001,0.001,0.001,0.001,0.001,0.001,0.001,0.001,0.001,0.001,0.001,0.001,0.001,0.001,0.001,0.001,0.001,0.001,0.001,0.001,0.001,0.001,0.001,0.001,0.001,0.001,0.001,0.001,0.001,0.001,0.001,0.001,0.001,0.001,0.001,0.001,0.001,0.001,0.001,0.001,0.001,0.001,0.001,0.001,0.001,0.001,0.001,0.001,0.001,0.001,0.001,0.001,0.001,0.001,0.001,0.001,0.001,0.001,0.001,0.001,0.001],\"legendgroup\":\"\",\"line\":{\"color\":\"deepskyblue\",\"dash\":\"solid\",\"width\":1},\"marker\":{\"symbol\":\"circle\",\"color\":\"white\",\"size\":4},\"mode\":\"lines\",\"name\":\"\",\"orientation\":\"v\",\"showlegend\":false,\"x\":[-57.61,-56.811,-56.567,-56.265,-56.135,-56.0,-55.151,-54.716,-54.42,-54.0,-53.817,-53.728,-52.981,-52.969,-52.571,-52.343,-52.0,-51.633,-51.468,-50.846,-50.735,-50.425,-50.24,-50.0,-49.435,-49.143,-48.633,-48.221,-48.113,-48.054,-48.0,-47.045,-46.564,-46.316,-46.0,-45.511,-45.247,-44.746,-44.553,-44.324,-44.19,-44.0,-43.349,-43.008,-42.539,-42.0,-41.86,-41.79,-41.091,-41.008,-40.606,-40.39,-40.0,-39.81,-39.72,-39.2,-39.031,-38.642,-38.38,-38.0,-37.524,-37.24,-36.635,-36.0,-35.908,-35.856,-34.995,-34.99,-34.515,-34.304,-34.0,-33.484,-33.212,-32.722,-32.414,-32.223,-32.14,-32.0,-31.32,-31.002,-30.618,-30.169,-30.092,-30.06,-30.0,-29.213,-28.848,-28.511,-28.0,-27.798,-27.685,-27.2,-27.039,-26.629,-26.409,-26.0,-25.731,-25.608,-25.41,-25.176,-24.948,-24.795,-24.74,-24.615,-24.567,-24.476,-24.435,-24.484,-24.525,-24.585,-24.707,-24.77,-24.921,-25.178,-25.559,-25.748,-25.828,-26.0,-26.613,-27.118,-27.474,-28.0,-28.505,-29.175,-29.571,-30.0,-30.84,-31.366,-32.0,-32.217,-32.809,-33.56,-34.0,-34.76,-35.123,-36.0,-36.747,-37.341,-38.0,-38.414,-39.794,-40.0,-40.132,-40.806,-41.682,-42.0,-42.499,-43.259,-44.0,-44.885,-45.162,-46.0,-46.474,-47.85,-48.0,-48.076,-48.315,-49.417,-50.0,-50.919,-51.115,-52.0,-52.466,-53.915,-54.0,-54.041,-54.183,-55.353,-56.0,-56.692,-57.578,-58.0,-58.127,-58.316,-59.022,-60.0,-60.112,-60.207,-60.39,-60.718,-61.212,-61.457,-62.0,-62.205,-62.309,-62.458,-62.655,-62.942,-63.187,-63.523,-63.71,-63.789,-64.0,-64.296,-64.379,-64.448,-64.569,-64.664,-64.777,-64.813,-64.949,-64.998,-64.998,-65.049,-64.972,-64.971,-64.9,-64.84,-64.824,-64.767,-64.776,-64.772,-64.783,-64.884,-64.894,-65.015,-65.151,-65.265,-65.408,-65.506,-66.0,-66.027,-66.034,-66.042,-66.248,-66.309,-66.344,-66.431,-66.476,-66.524,-66.567,-66.624,-66.691,-66.718,-66.796,-66.864,-66.866,-66.945,-66.99,-66.99,-67.041,-67.031,-67.033,-67.023,-67.017,-67.017,-67.011,-67.067,-67.079,-67.137,-67.249,-67.392,-67.495,-67.597,-68.0,-68.125,-68.155,-68.218,-68.5,-68.675,-68.911,-68.935,-69.256,-69.409,-70.0,-70.043,-70.059,-70.08,-70.406,-70.532,-70.638,-70.693,-70.834,-70.901,-70.91,-70.982,-71.061,-71.079,-71.163,-71.254,-71.355,-71.441,-71.515,-71.859,-71.884,-71.9,-72.0,-72.184,-72.211,-72.218,-72.271,-72.279,-72.254,-72.208,-72.19,-72.15,-72.0,-71.727,-71.676,-71.529,-71.221,-71.038,-70.645,-70.303,-70.174,-70.095,-70.0,-69.141,-68.704,-68.334,-68.0,-67.335,-66.911,-66.411,-66.0,-65.443,-65.098,-64.526,-64.0,-63.715,-63.557,-62.802,-62.595,-62.298,-62.149,-62.0,-61.199,-60.806,-60.497,-60.068,-60.04,-60.021,-60.0,-59.082,-58.656,-58.34,-58.0,-57.544,-57.287,-56.64,-56.319,-56.163,-56.072,-56.0,-55.038,-54.518,-54.247,-54.0,-53.258,-52.822,-52.411,-52.0,-51.678,-51.505,-50.826,-50.708,-50.403,-50.232,-50.0,-49.466,-49.212,-48.717,-48.598,-48.379,-48.185,-48.0,-47.538,-47.373,-46.757,-46.705,-46.456,-46.228,-46.0,-45.595,-45.425,-44.695,-44.515,-44.284,-44.124,-44.0,-43.123,-42.669,-42.306,-42.0,-41.529,-41.295,-40.71,-40.545,-40.319,-40.191,-40.0,-39.443,-39.165,-38.624,-38.0,-37.999,-37.999,-36.944,-36.874,-36.399,-36.212,-36.0,-35.271,-34.891,-34.557,-34.214,-34.129,-34.081,-34.0,-33.193,-32.815,-32.514,-32.0,-31.896,-31.837,-31.193,-31.016,-30.554,-30.352,-30.0,-29.517,-29.264,-28.803,-28.655,-28.4,-28.272,-28.0,-27.484,-27.238,-26.83,-26.709,-26.453,-26.333,-26.0,-25.671,-25.527,-25.303,-25.137,-24.9,-24.715,-24.578,-24.443,-24.402,-24.223,-24.199,-24.206,-24.171,-24.178,-24.224,-24.395,-24.496,-24.735,-24.85,-25.168,-25.427,-26.0,-26.258,-26.489,-27.168,-28.0,-28.25,-28.615,-29.37,-30.0,-30.701,-31.654,-32.0,-32.135,-32.54,-33.524,-34.0,-34.751,-35.15,-36.0,-36.921,-37.086,-38.0,-38.793,-39.208,-40.0,-40.758,-41.234,-42.0,-42.836,-43.149,-44.0,-44.979,-45.027,-46.0,-46.785,-47.311,-48.0,-48.579,-49.497,-50.0,-50.511,-51.423,-52.0,-52.846,-53.08,-54.0,-54.541,-55.827,-55.924,-56.0,-56.248,-57.175,-58.0,-58.518,-59.635,-59.838,-60.0,-60.429,-61.187,-62.0,-62.616,-63.909,-64.0,-64.037,-64.138,-65.36,-66.0,-66.835,-67.348,-68.0,-68.275,-68.879,-69.556,-70.0,-70.897,-71.318,-72.0,-72.179,-72.414,-73.218,-74.0,-74.333,-74.657,-75.238,-76.0,-76.241,-76.461,-77.054,-77.313,-77.787,-77.862,-78.0,-78.681,-79.139,-79.427,-80.0,-80.256,-80.442,-80.9,-80.967,-81.482,-81.629,-82.0,-82.358,-82.538,-82.823,-82.914,-83.23,-83.365,-83.621,-83.708,-83.763,-84.0,-84.225,-84.277,-84.336,-84.561,-84.653,-84.82,-84.879,-85.062,-85.204,-85.302,-85.43,-85.54,-86.0,-86.053,-86.072,-86.101,-86.535,-86.672,-86.965,-86.98,-87.299,-87.442,-87.899,-87.929,-87.943,-88.0,-88.406,-88.507,-88.581,-88.699,-88.781,-88.787,-88.796,-88.802,-88.736,-88.673,-88.61,-88.475,-88.113,-88.082,-88.056,-88.0,-87.455,-87.292,-86.942,-86.888,-86.582,-86.383,-86.0,-85.69,-85.576,-85.344,-85.147,-84.886,-84.664,-84.375,-84.256,-84.178,-84.0,-83.541,-83.397,-83.132,-83.063,-82.813,-82.585,-82.122,-82.076,-82.055,-82.0,-81.448,-81.285,-80.991,-80.985,-80.717,-80.5,-80.0,-79.911,-79.879,-79.766,-79.224,-78.934,-78.613,-78.0,-77.932,-77.898,-77.727,-77.142,-76.723,-76.379,-76.0,-75.444,-75.138,-74.54,-74.0,-73.576,-73.329,-72.624,-72.0,-71.719,-71.558,-70.836,-70.633,-70.311,-70.179,-70.0,-69.305,-68.98,-68.54,-68.0,-67.877,-67.813,-66.935,-66.886,-66.479,-66.256,-66.0,-65.366,-65.039,-64.549,-64.0,-63.863,-63.794,-62.921,-62.83,-62.405,-62.208,-62.0,-61.212,-60.749,-60.38,-60.0,-59.489,-59.165,-58.575,-58.0,-57.758,-57.61],\"xaxis\":\"x\",\"y\":[180.0,179.189,178.567,178.0,177.865,177.613,176.849,176.0,175.58,174.365,174.183,174.0,173.019,172.969,172.0,171.657,170.746,170.367,170.0,169.154,168.735,168.0,167.76,167.125,166.565,166.0,165.367,164.221,164.0,163.946,163.833,162.955,162.0,161.684,160.932,160.489,160.0,159.254,158.553,158.0,157.81,157.311,156.651,156.0,155.461,154.282,154.14,154.0,153.091,152.992,152.0,151.61,150.404,150.19,150.0,149.2,148.969,148.0,147.62,146.874,146.476,146.0,145.365,144.179,144.092,144.0,143.005,142.99,142.0,141.696,141.031,140.516,140.0,139.278,138.414,138.0,137.86,137.522,136.68,136.0,135.382,134.169,134.0,133.94,133.796,132.787,132.0,131.489,130.404,130.202,130.0,129.2,128.961,128.0,127.591,126.597,126.269,126.0,125.41,124.824,124.0,123.205,122.74,122.0,121.433,120.476,120.0,119.516,118.525,118.0,117.293,116.77,116.0,115.178,114.441,114.0,113.828,113.643,112.613,112.0,111.474,111.062,110.505,110.0,109.571,109.339,108.84,108.634,108.342,108.217,108.0,107.56,107.428,107.24,107.123,106.945,106.747,106.659,106.514,106.414,106.206,106.163,106.132,106.0,105.682,105.619,105.501,105.259,105.118,104.885,104.838,104.648,104.474,104.15,104.105,104.076,104.0,103.417,103.25,102.919,102.885,102.644,102.466,102.085,102.057,102.041,102.0,101.353,101.132,100.692,100.422,100.244,100.127,100.0,99.022,98.285,98.112,98.0,97.61,96.718,96.0,95.457,94.77,94.205,94.0,93.542,92.655,92.0,91.187,90.477,90.0,89.789,89.475,88.296,88.0,87.552,86.569,86.0,85.223,84.813,84.0,83.002,82.998,82.0,81.028,80.971,80.0,79.16,78.824,78.0,77.224,76.772,76.0,75.116,74.894,74.0,73.151,72.735,72.0,71.506,70.21,70.027,70.0,69.958,68.248,68.0,67.656,66.431,66.0,65.476,64.567,64.0,63.309,62.718,62.0,61.136,60.866,60.0,59.01,58.99,58.0,57.031,56.967,56.0,55.017,54.983,54.0,53.067,52.921,52.0,51.249,50.608,50.0,49.597,48.67,48.125,48.0,47.782,46.5,46.0,45.089,44.935,44.0,43.409,42.188,42.043,42.0,41.92,40.406,40.0,39.362,38.693,38.0,37.099,36.91,36.0,35.061,34.921,34.0,33.254,32.645,32.0,31.515,30.141,30.0,29.9,29.491,28.184,28.0,27.782,26.271,26.0,25.746,24.208,24.0,23.85,23.052,22.273,22.0,21.529,20.779,20.0,19.355,18.303,18.0,17.905,17.731,16.859,16.0,15.666,15.191,14.665,14.0,13.589,13.001,12.557,12.0,11.474,10.543,10.285,10.0,9.198,8.595,8.0,7.851,7.55,6.801,6.0,5.503,4.068,4.0,3.979,3.92,2.918,2.0,1.66,0.841,0.456,0.0,-0.64,-1.681,-2.0,-2.072,-2.254,-3.038,-4.0,-4.247,-4.725,-5.258,-6.0,-6.411,-7.392,-7.678,-8.0,-8.826,-9.292,-10.0,-10.232,-10.932,-11.466,-12.0,-12.717,-13.402,-14.0,-14.185,-15.023,-15.538,-16.0,-16.757,-17.295,-18.0,-18.228,-19.221,-19.595,-20.0,-20.695,-21.485,-22.0,-22.124,-22.477,-23.123,-24.0,-24.306,-25.166,-25.529,-26.0,-26.71,-27.455,-28.0,-28.191,-28.897,-29.443,-30.0,-30.624,-31.999,-31.999,-32.0,-32.944,-33.126,-34.0,-34.212,-34.621,-35.271,-36.0,-36.557,-37.786,-38.0,-38.081,-38.297,-39.193,-40.0,-40.514,-41.795,-41.896,-42.0,-42.807,-43.016,-44.0,-44.352,-45.025,-45.517,-46.0,-46.803,-47.345,-48.0,-48.272,-48.879,-49.484,-50.0,-50.83,-51.291,-52.0,-52.333,-53.232,-53.671,-54.0,-54.697,-55.137,-56.0,-56.715,-57.422,-58.0,-58.402,-59.777,-60.0,-60.206,-61.829,-62.0,-62.224,-63.605,-64.0,-64.735,-65.15,-66.0,-66.573,-67.314,-67.742,-68.0,-68.832,-69.502,-69.75,-70.0,-70.63,-70.923,-71.299,-71.654,-71.804,-71.865,-72.0,-72.476,-72.605,-72.751,-72.85,-72.994,-73.079,-73.086,-73.163,-73.207,-73.208,-73.248,-73.242,-73.234,-73.228,-73.164,-73.149,-73.08,-72.979,-72.973,-72.867,-72.785,-72.689,-72.607,-72.579,-72.503,-72.477,-72.511,-72.577,-72.615,-72.846,-72.92,-73.144,-73.459,-74.0,-74.076,-74.11,-74.248,-74.825,-75.166,-75.482,-76.0,-76.162,-76.238,-76.429,-76.813,-77.104,-77.384,-77.909,-77.948,-77.963,-78.0,-78.64,-78.866,-79.165,-79.348,-79.581,-79.725,-80.0,-80.444,-80.639,-81.103,-81.318,-81.669,-81.821,-82.0,-82.782,-83.343,-83.667,-84.0,-84.762,-85.473,-85.759,-86.0,-86.946,-87.313,-88.0,-88.138,-88.291,-89.319,-90.0,-90.573,-91.337,-91.744,-92.0,-92.9,-93.033,-94.0,-94.371,-94.981,-95.642,-96.0,-96.823,-97.086,-98.0,-98.635,-99.621,-100.0,-100.237,-100.986,-101.775,-102.0,-102.336,-103.439,-104.0,-104.82,-105.121,-106.0,-106.796,-107.302,-108.0,-108.46,-109.784,-109.947,-110.0,-110.101,-111.465,-112.0,-112.965,-113.02,-114.0,-114.558,-115.899,-116.0,-116.057,-116.216,-117.594,-118.0,-118.581,-119.301,-120.0,-120.787,-121.204,-122.0,-122.736,-123.327,-124.0,-124.475,-125.887,-126.0,-126.056,-126.211,-127.455,-128.0,-128.942,-129.112,-130.0,-130.383,-131.2,-131.69,-132.0,-132.656,-133.147,-134.0,-134.664,-135.624,-136.0,-136.178,-136.663,-137.541,-138.0,-138.868,-139.063,-140.0,-140.585,-141.878,-142.0,-142.055,-142.22,-143.448,-144.0,-144.991,-145.015,-146.0,-146.5,-147.769,-147.911,-148.0,-148.234,-149.224,-150.0,-150.613,-151.85,-151.932,-152.0,-152.273,-153.142,-154.0,-154.379,-154.912,-155.444,-156.0,-156.54,-157.234,-157.576,-158.0,-158.624,-159.485,-159.719,-160.0,-160.836,-161.367,-162.0,-162.179,-162.536,-163.305,-164.0,-164.54,-165.752,-165.877,-166.0,-166.935,-167.114,-168.0,-168.256,-168.785,-169.366,-170.0,-170.549,-171.731,-171.863,-172.0,-172.921,-173.17,-174.0,-174.208,-174.575,-175.212,-176.0,-176.38,-177.071,-177.489,-178.0,-178.575,-179.55,-179.758,-180.0],\"yaxis\":\"y\",\"type\":\"scatter\"},{\"hovertemplate\":\"<b>%{hovertext}</b><br><br>phi=%{x}<br>psi=%{y}<extra></extra>\",\"hovertext\":[0.02,0.02,0.02,0.02,0.02,0.02,0.02,0.02,0.02,0.02,0.02,0.02,0.02,0.02,0.02,0.02,0.02,0.02,0.02,0.02,0.02,0.02,0.02,0.02,0.02,0.02,0.02,0.02,0.02,0.02,0.02,0.02,0.02,0.02,0.02,0.02,0.02,0.02,0.02,0.02,0.02,0.02,0.02,0.02,0.02,0.02,0.02,0.02,0.02,0.02,0.02,0.02,0.02,0.02,0.02,0.02,0.02,0.02,0.02,0.02,0.02,0.02,0.02,0.02,0.02,0.02,0.02,0.02,0.02,0.02,0.02,0.02,0.02,0.02,0.02,0.02,0.02,0.02,0.02,0.02,0.02,0.02,0.02,0.02,0.02,0.02,0.02,0.02,0.02,0.02,0.02,0.02,0.02,0.02,0.02,0.02,0.02,0.02,0.02,0.02,0.02,0.02,0.02,0.02,0.02,0.02,0.02,0.02,0.02,0.02,0.02,0.02,0.02,0.02,0.02,0.02,0.02,0.02,0.02,0.02,0.02,0.02,0.02,0.02,0.02,0.02,0.02,0.02,0.02,0.02,0.02,0.02,0.02,0.02,0.02,0.02,0.02,0.02,0.02,0.02,0.02,0.02,0.02,0.02,0.02,0.02,0.02,0.02,0.02,0.02,0.02,0.02,0.02,0.02,0.02,0.02,0.02,0.02,0.02,0.02,0.02,0.02,0.02,0.02,0.02,0.02,0.02,0.02,0.02,0.02,0.02,0.02,0.02,0.02,0.02,0.02,0.02,0.02,0.02,0.02],\"legendgroup\":\"\",\"line\":{\"color\":\"deepskyblue\",\"dash\":\"solid\",\"width\":2},\"marker\":{\"symbol\":\"circle\",\"color\":\"white\",\"size\":4},\"mode\":\"lines\",\"name\":\"\",\"orientation\":\"v\",\"showlegend\":false,\"x\":[-173.453,-172.887,-172.241,-172.067,-172.042,-172.0,-171.227,-170.548,-170.31,-170.0,-169.401,-168.773,-168.409,-168.0,-167.417,-166.689,-166.334,-166.0,-165.222,-164.007,-164.003,-164.0,-163.987,-162.791,-162.0,-161.542,-160.613,-160.233,-160.0,-159.154,-158.958,-158.0,-157.623,-156.66,-156.206,-156.0,-155.525,-154.772,-154.0,-153.226,-152.652,-152.0,-151.538,-150.367,-150.0,-149.661,-148.356,-148.0,-147.59,-146.505,-146.0,-145.315,-144.767,-144.0,-143.116,-142.798,-142.0,-141.522,-140.009,-140.002,-140.0,-139.996,-138.456,-138.0,-137.121,-136.927,-136.0,-135.378,-134.326,-134.0,-133.802,-132.991,-132.172,-132.0,-131.714,-130.547,-130.0,-129.157,-128.888,-128.0,-127.19,-126.739,-126.0,-125.468,-124.373,-124.0,-123.749,-122.555,-122.087,-122.0,-121.855,-120.506,-120.0,-119.164,-118.897,-118.0,-117.269,-116.585,-116.0,-115.627,-114.015,-114.0,-113.99,-113.92,-112.236,-112.0,-111.746,-110.286,-110.0,-109.736,-108.144,-108.0,-107.871,-106.018,-106.0,-105.984,-105.602,-104.084,-104.0,-103.893,-102.285,-102.0,-101.578,-100.66,-100.0,-99.107,-98.817,-98.0,-97.603,-96.283,-96.075,-96.0,-95.831,-94.706,-94.0,-93.248,-92.59,-92.0,-91.693,-90.017,-90.0,-89.989,-89.865,-88.175,-88.0,-87.829,-86.167,-86.0,-85.863,-84.783,-84.072,-84.0,-83.901,-82.429,-82.0,-81.105,-80.952,-80.0,-79.585,-78.957,-78.346,-78.0,-77.238,-76.475,-76.224,-76.0,-75.271,-74.714,-74.382,-74.0,-73.499,-73.13,-72.589,-72.0,-71.711,-71.513,-70.783,-70.0,-69.917,-69.862],\"xaxis\":\"x\",\"y\":[-180.0,-179.113,-178.241,-178.0,-177.958,-177.906,-176.773,-176.0,-175.69,-175.355,-174.599,-174.0,-173.591,-173.201,-172.583,-172.0,-171.666,-171.389,-170.778,-170.0,-169.997,-169.995,-169.987,-169.209,-168.719,-168.458,-168.0,-167.767,-167.623,-167.154,-167.042,-166.55,-166.377,-166.0,-165.794,-165.704,-165.525,-165.228,-164.951,-164.774,-164.652,-164.507,-164.462,-164.367,-164.332,-164.339,-164.356,-164.364,-164.41,-164.505,-164.565,-164.685,-164.767,-164.909,-165.116,-165.202,-165.401,-165.522,-166.0,-166.002,-166.003,-166.004,-166.456,-166.627,-166.879,-166.927,-167.222,-167.378,-167.674,-167.76,-167.802,-168.0,-168.172,-168.217,-168.286,-168.547,-168.685,-168.843,-168.888,-169.063,-169.19,-169.261,-169.376,-169.468,-169.627,-169.689,-169.749,-170.0,-170.087,-170.106,-170.145,-170.506,-170.642,-170.836,-170.897,-171.107,-171.269,-171.415,-171.543,-171.627,-171.985,-171.988,-171.99,-172.0,-172.236,-172.257,-172.254,-172.286,-172.283,-172.264,-172.144,-172.134,-172.129,-172.018,-172.017,-172.016,-172.0,-171.916,-171.907,-171.893,-171.715,-171.677,-171.578,-171.34,-171.194,-170.893,-170.817,-170.57,-170.397,-170.0,-169.925,-169.903,-169.831,-169.294,-169.045,-168.752,-168.59,-168.403,-168.307,-168.017,-168.013,-168.011,-168.0,-167.825,-167.82,-167.829,-167.833,-167.842,-167.863,-168.0,-168.072,-168.076,-168.099,-168.429,-168.532,-168.895,-168.952,-169.376,-169.585,-170.0,-170.346,-170.616,-171.238,-172.0,-172.224,-172.488,-173.271,-174.0,-174.382,-174.928,-175.499,-176.0,-176.589,-177.388,-177.711,-178.0,-178.783,-179.832,-179.917,-180.0],\"yaxis\":\"y\",\"type\":\"scatter\"},{\"hovertemplate\":\"<b>%{hovertext}</b><br><br>phi=%{x}<br>psi=%{y}<extra></extra>\",\"hovertext\":[0.02,0.02,0.02,0.02,0.02,0.02,0.02,0.02,0.02,0.02,0.02,0.02,0.02,0.02,0.02,0.02,0.02,0.02,0.02,0.02,0.02,0.02,0.02,0.02,0.02,0.02,0.02,0.02,0.02,0.02,0.02,0.02,0.02,0.02,0.02,0.02,0.02,0.02,0.02,0.02,0.02,0.02,0.02],\"legendgroup\":\"\",\"line\":{\"color\":\"deepskyblue\",\"dash\":\"solid\",\"width\":2},\"marker\":{\"symbol\":\"circle\",\"color\":\"white\",\"size\":4},\"mode\":\"lines\",\"name\":\"\",\"orientation\":\"v\",\"showlegend\":false,\"x\":[55.707,55.806,56.0,56.254,56.303,56.287,56.237,56.224,56.175,56.0,55.657,55.506,54.859,54.0,53.895,53.372,52.203,52.0,51.852,51.589,50.644,50.0,49.662,49.452,49.161,49.076,48.769,48.782,48.786,48.8,49.138,49.365,49.637,49.792,50.0,50.921,51.333,52.0,52.273,53.659,54.0,54.874,55.707],\"xaxis\":\"x\",\"y\":[-124.0,-124.194,-124.703,-125.746,-126.0,-126.287,-127.763,-128.0,-128.175,-128.822,-129.657,-130.0,-130.859,-131.87,-131.895,-132.0,-132.203,-132.232,-132.148,-132.0,-131.356,-130.871,-130.338,-130.0,-129.161,-128.924,-128.0,-127.218,-126.786,-126.0,-125.138,-124.635,-124.0,-123.792,-123.528,-122.921,-122.667,-122.248,-122.273,-122.341,-122.375,-123.126,-124.0],\"yaxis\":\"y\",\"type\":\"scatter\"},{\"hovertemplate\":\"<b>%{hovertext}</b><br><br>phi=%{x}<br>psi=%{y}<extra></extra>\",\"hovertext\":[0.02,0.02,0.02,0.02,0.02,0.02,0.02,0.02,0.02,0.02,0.02,0.02,0.02,0.02,0.02,0.02,0.02,0.02,0.02,0.02,0.02,0.02,0.02,0.02,0.02,0.02,0.02,0.02,0.02,0.02,0.02,0.02,0.02,0.02,0.02,0.02,0.02,0.02,0.02,0.02,0.02,0.02,0.02,0.02,0.02,0.02,0.02,0.02,0.02,0.02,0.02,0.02,0.02,0.02,0.02,0.02,0.02,0.02,0.02,0.02,0.02,0.02,0.02,0.02,0.02,0.02,0.02,0.02,0.02,0.02,0.02,0.02,0.02,0.02,0.02,0.02,0.02,0.02,0.02,0.02,0.02,0.02,0.02,0.02,0.02,0.02,0.02,0.02,0.02,0.02,0.02,0.02,0.02,0.02,0.02,0.02,0.02,0.02,0.02,0.02,0.02,0.02,0.02,0.02,0.02,0.02,0.02,0.02,0.02,0.02,0.02,0.02,0.02,0.02,0.02,0.02,0.02,0.02,0.02,0.02,0.02,0.02,0.02,0.02,0.02,0.02,0.02,0.02,0.02,0.02,0.02,0.02,0.02,0.02,0.02,0.02,0.02,0.02,0.02,0.02,0.02,0.02,0.02,0.02,0.02,0.02,0.02,0.02,0.02,0.02,0.02,0.02,0.02,0.02,0.02,0.02,0.02,0.02,0.02,0.02,0.02,0.02,0.02,0.02,0.02,0.02,0.02,0.02,0.02,0.02,0.02,0.02,0.02,0.02,0.02,0.02,0.02,0.02,0.02,0.02,0.02,0.02,0.02,0.02,0.02,0.02,0.02,0.02,0.02,0.02,0.02,0.02,0.02,0.02,0.02,0.02,0.02,0.02,0.02,0.02,0.02,0.02,0.02,0.02,0.02,0.02,0.02,0.02,0.02,0.02,0.02,0.02,0.02,0.02,0.02,0.02,0.02,0.02,0.02,0.02,0.02,0.02,0.02,0.02,0.02,0.02,0.02,0.02,0.02,0.02,0.02,0.02,0.02,0.02,0.02,0.02,0.02,0.02,0.02,0.02,0.02,0.02,0.02,0.02,0.02,0.02,0.02,0.02,0.02,0.02,0.02,0.02,0.02,0.02,0.02,0.02,0.02,0.02,0.02,0.02,0.02,0.02,0.02,0.02,0.02,0.02,0.02,0.02,0.02,0.02,0.02,0.02,0.02,0.02,0.02,0.02,0.02,0.02,0.02,0.02,0.02,0.02,0.02,0.02,0.02,0.02,0.02,0.02,0.02,0.02,0.02,0.02,0.02,0.02,0.02,0.02,0.02,0.02,0.02,0.02,0.02,0.02,0.02,0.02,0.02,0.02,0.02,0.02,0.02,0.02,0.02,0.02,0.02,0.02,0.02,0.02,0.02,0.02,0.02,0.02,0.02,0.02,0.02,0.02,0.02,0.02,0.02,0.02,0.02,0.02,0.02,0.02,0.02,0.02,0.02,0.02,0.02,0.02,0.02,0.02,0.02,0.02,0.02,0.02,0.02,0.02,0.02,0.02,0.02,0.02,0.02,0.02,0.02,0.02,0.02,0.02,0.02,0.02,0.02,0.02,0.02,0.02,0.02,0.02,0.02,0.02,0.02,0.02,0.02,0.02,0.02,0.02,0.02,0.02,0.02,0.02,0.02,0.02,0.02,0.02,0.02,0.02,0.02,0.02,0.02,0.02,0.02,0.02,0.02,0.02,0.02,0.02,0.02,0.02,0.02,0.02,0.02,0.02,0.02,0.02,0.02,0.02,0.02,0.02,0.02,0.02,0.02,0.02,0.02,0.02,0.02,0.02,0.02,0.02,0.02,0.02,0.02,0.02,0.02,0.02,0.02,0.02,0.02,0.02,0.02,0.02,0.02,0.02,0.02,0.02,0.02,0.02,0.02,0.02,0.02,0.02,0.02,0.02,0.02,0.02,0.02,0.02,0.02,0.02,0.02,0.02,0.02,0.02,0.02,0.02,0.02,0.02,0.02,0.02,0.02,0.02,0.02,0.02,0.02,0.02,0.02,0.02,0.02,0.02,0.02,0.02,0.02,0.02,0.02,0.02,0.02,0.02,0.02,0.02,0.02,0.02,0.02,0.02,0.02,0.02,0.02,0.02,0.02,0.02,0.02,0.02,0.02,0.02,0.02,0.02,0.02,0.02,0.02,0.02,0.02,0.02,0.02,0.02,0.02,0.02,0.02,0.02,0.02,0.02,0.02,0.02,0.02,0.02,0.02,0.02,0.02,0.02,0.02,0.02,0.02,0.02,0.02,0.02,0.02,0.02,0.02,0.02,0.02,0.02,0.02,0.02,0.02,0.02,0.02,0.02,0.02,0.02,0.02,0.02,0.02,0.02,0.02,0.02,0.02,0.02,0.02,0.02,0.02,0.02,0.02],\"legendgroup\":\"\",\"line\":{\"color\":\"deepskyblue\",\"dash\":\"solid\",\"width\":2},\"marker\":{\"symbol\":\"circle\",\"color\":\"white\",\"size\":4},\"mode\":\"lines\",\"name\":\"\",\"orientation\":\"v\",\"showlegend\":false,\"x\":[-129.271,-128.533,-128.0,-127.474,-126.969,-126.435,-126.0,-125.335,-124.451,-124.156,-124.0,-123.604,-122.764,-122.0,-121.323,-120.3,-120.0,-119.868,-119.564,-118.43,-118.0,-117.14,-116.246,-116.0,-115.952,-115.889,-114.779,-114.0,-113.658,-113.192,-112.469,-112.0,-111.241,-110.027,-110.0,-109.993,-109.976,-108.548,-108.0,-107.1,-106.771,-106.0,-105.651,-104.814,-104.195,-104.0,-103.524,-102.772,-102.0,-101.445,-100.609,-100.201,-100.0,-99.033,-98.039,-98.016,-98.0,-97.692,-96.956,-96.539,-96.082,-96.037,-96.0,-95.018,-94.19,-94.086,-94.0,-93.048,-92.184,-92.083,-92.0,-91.043,-90.191,-90.09,-90.0,-89.08,-88.302,-88.147,-88.0,-87.196,-86.58,-86.291,-86.0,-85.421,-85.052,-84.551,-84.0,-83.741,-83.59,-82.819,-82.0,-81.963,-81.939,-80.952,-80.556,-80.097,-80.045,-80.0,-79.012,-78.167,-78.071,-78.0,-77.358,-76.946,-76.0,-75.946,-75.899,-74.759,-74.0,-73.724,-73.497,-72.662,-72.0,-71.69,-71.46,-70.667,-70.0,-69.722,-69.519,-68.669,-68.0,-67.746,-67.581,-66.758,-66.012,-66.004,-66.002,-66.0,-65.043,-64.499,-64.245,-64.0,-63.35,-62.965,-62.476,-62.0,-61.656,-61.455,-60.733,-60.245,-60.102,-60.048,-60.0,-59.122,-58.664,-58.324,-58.0,-57.48,-57.183,-56.587,-56.0,-55.963,-55.945,-55.487,-55.02,-54.522,-54.253,-54.0,-53.426,-53.126,-52.612,-52.137,-52.068,-52.037,-52.0,-51.168,-50.802,-50.472,-50.0,-49.888,-49.835,-49.353,-49.039,-48.587,-48.345,-48.0,-47.711,-47.581,-46.963,-46.931,-46.539,-46.324,-46.0,-45.659,-45.517,-44.987,-44.977,-44.599,-44.401,-44.0,-43.832,-43.76,-43.476,-43.115,-42.761,-42.515,-42.072,-42.044,-42.032,-42.0,-41.394,-41.19,-40.866,-40.778,-40.536,-40.412,-40.109,-40.08,-40.066,-40.0,-39.647,-39.575,-39.502,-39.362,-39.271,-39.25,-39.26,-39.237,-39.301,-39.428,-39.489,-39.585,-40.0,-40.096,-40.142,-40.333,-40.78,-41.4,-41.656,-42.0,-42.694,-43.879,-43.95,-44.0,-44.127,-45.297,-46.0,-46.811,-47.27,-48.0,-48.459,-49.653,-50.0,-50.257,-51.818,-52.0,-52.159,-53.844,-54.0,-54.146,-55.896,-56.0,-56.088,-57.278,-57.914,-58.0,-58.098,-59.806,-60.0,-60.191,-61.989,-62.0,-62.009,-62.064,-63.837,-64.0,-64.232,-65.608,-66.0,-66.581,-67.341,-68.0,-68.91,-69.085,-70.0,-70.938,-71.075,-72.0,-72.988,-73.011,-74.0,-74.84,-75.211,-76.0,-76.643,-77.44,-78.0,-78.524,-79.474,-80.0,-80.636,-81.295,-82.0,-82.988,-83.022,-84.0,-84.661,-85.507,-86.0,-86.387,-87.724,-88.0,-88.243,-89.843,-90.0,-90.129,-90.985,-91.89,-92.0,-92.179,-93.501,-94.0,-94.899,-95.062,-96.0,-96.643,-97.602,-98.0,-98.273,-99.808,-99.976,-100.0,-100.035,-101.807,-102.0,-102.267,-103.692,-104.0,-104.361,-105.749,-106.0,-106.208,-107.064,-107.816,-108.0,-108.353,-109.312,-110.0,-110.854,-111.243,-112.0,-112.506,-113.635,-114.0,-114.388,-115.495,-116.0,-116.993,-117.024,-118.0,-118.307,-118.705,-119.386,-120.0,-120.286,-120.472,-120.929,-120.978,-121.391,-121.529,-121.897,-121.925,-121.942,-122.0,-122.389,-122.484,-122.723,-122.868,-123.136,-123.372,-123.767,-123.851,-123.889,-124.0,-124.389,-124.525,-124.9,-124.958,-125.363,-125.582,-126.0,-126.229,-126.323,-126.618,-126.873,-127.256,-127.49,-128.0,-128.042,-128.056,-128.086,-128.56,-128.751,-129.08,-129.159,-129.448,-129.588,-130.0,-130.096,-130.134,-130.24,-130.704,-131.016,-131.347,-131.871,-131.93,-131.952,-132.0,-132.526,-132.719,-133.045,-133.083,-133.376,-133.514,-133.841,-133.883,-133.909,-134.0,-134.279,-134.343,-134.474,-134.718,-134.902,-135.142,-135.231,-135.432,-135.54,-135.81,-135.852,-135.869,-136.0,-136.058,-136.066,-136.073,-136.215,-136.237,-136.268,-136.392,-136.44,-136.565,-136.717,-136.879,-137.178,-137.376,-137.601,-137.728,-138.0,-138.377,-138.564,-139.032,-139.086,-139.51,-139.641,-140.0,-140.141,-140.191,-140.272,-140.612,-140.793,-141.046,-141.076,-141.313,-141.437,-141.681,-141.751,-141.784,-142.0,-142.049,-142.058,-142.069,-142.282,-142.328,-142.372,-142.483,-142.543,-142.592,-142.637,-142.693,-142.711,-142.72,-142.738,-142.689,-142.646,-142.601,-142.486,-142.178,-142.137,-142.1,-142.0,-141.574,-141.43,-141.083,-141.037,-140.682,-140.525,-140.171,-140.122,-140.106,-140.0,-139.882,-139.864,-139.85,-139.737,-139.711,-139.707,-139.7,-139.695,-139.699,-139.746,-139.75,-139.748,-139.803,-139.802,-139.784,-139.758,-139.735,-139.672,-139.52,-139.411,-139.149,-139.092,-138.746,-138.559,-138.0,-137.977,-137.965,-137.942,-137.468,-137.212,-136.835,-136.368,-136.168,-136.113,-136.0,-135.058,-134.809,-134.0,-133.676,-132.429,-132.0,-131.133,-130.96,-130.0,-129.67,-129.271],\"xaxis\":\"x\",\"y\":[52.0,51.467,51.078,50.526,50.0,49.565,49.235,48.665,48.0,47.844,47.771,47.604,47.236,46.931,46.677,46.3,46.189,46.132,46.0,45.57,45.365,44.86,44.246,44.082,44.048,44.0,43.221,42.593,42.342,42.0,41.531,41.2,40.759,40.027,40.011,40.007,40.0,39.452,39.22,38.9,38.771,38.481,38.349,38.0,37.805,37.73,37.524,37.228,36.843,36.555,36.0,35.799,35.656,34.967,34.0,33.984,33.968,33.692,33.044,32.539,32.0,31.963,31.921,30.982,30.0,29.914,29.819,28.952,28.0,27.917,27.826,26.957,26.0,25.91,25.799,24.92,24.0,23.853,23.663,22.804,22.0,21.709,21.29,20.579,20.0,19.449,18.581,18.259,18.0,17.181,16.074,16.037,16.0,15.048,14.556,14.0,13.955,13.9,12.988,12.0,11.929,11.853,11.358,11.054,10.092,10.054,10.0,9.241,8.475,8.276,8.0,7.338,6.556,6.31,6.0,5.333,4.5,4.278,4.0,3.331,2.467,2.254,2.0,1.242,0.012,0.0,-0.002,-0.005,-1.043,-2.0,-2.245,-2.717,-3.35,-4.0,-4.476,-5.345,-5.656,-6.0,-6.733,-7.755,-8.0,-8.048,-8.164,-9.122,-10.0,-10.324,-11.013,-11.48,-12.0,-12.587,-13.924,-13.963,-14.0,-14.513,-15.02,-16.0,-16.253,-16.869,-17.426,-18.0,-18.612,-19.863,-20.0,-20.037,-20.152,-21.168,-22.0,-22.472,-23.763,-23.888,-24.0,-24.647,-25.039,-26.0,-26.345,-27.357,-27.711,-28.0,-28.963,-29.069,-30.0,-30.324,-31.227,-31.659,-32.0,-32.987,-33.023,-34.0,-34.401,-35.599,-35.832,-36.0,-36.524,-37.115,-38.0,-38.515,-39.928,-40.0,-40.032,-40.16,-41.394,-42.0,-42.866,-43.222,-44.0,-44.412,-45.891,-46.0,-46.066,-46.453,-47.647,-48.0,-48.498,-49.362,-50.0,-50.75,-51.26,-52.0,-52.699,-53.428,-54.0,-54.415,-55.554,-55.904,-56.0,-56.333,-57.22,-58.0,-58.344,-58.651,-59.306,-60.0,-60.05,-60.072,-60.127,-60.703,-60.949,-61.189,-61.27,-61.45,-61.541,-61.653,-61.711,-61.743,-61.818,-61.838,-61.841,-61.844,-61.848,-61.854,-61.896,-61.9,-61.912,-62.0,-62.086,-62.094,-62.098,-62.194,-62.203,-62.191,-62.011,-62.01,-62.009,-62.0,-61.837,-61.81,-61.768,-61.608,-61.523,-61.419,-61.341,-61.199,-61.09,-61.085,-60.95,-60.938,-60.925,-60.912,-60.988,-60.989,-61.069,-61.16,-61.211,-61.301,-61.357,-61.44,-61.491,-61.476,-61.474,-61.457,-61.364,-61.295,-61.181,-60.988,-60.978,-60.759,-60.661,-60.493,-60.413,-60.387,-60.276,-60.256,-60.243,-60.157,-60.148,-60.129,-60.0,-59.89,-59.871,-59.821,-59.501,-59.347,-59.101,-59.062,-58.779,-58.643,-58.398,-58.308,-58.273,-58.0,-57.976,-57.971,-57.965,-57.807,-57.769,-57.733,-57.692,-57.639,-57.639,-57.749,-57.749,-57.792,-58.0,-58.184,-58.235,-58.353,-58.688,-58.91,-59.146,-59.243,-59.444,-59.494,-59.635,-59.673,-59.612,-59.495,-59.405,-58.993,-58.976,-58.495,-58.307,-58.0,-57.386,-56.642,-56.286,-56.0,-55.071,-54.978,-54.0,-53.529,-52.103,-52.0,-51.942,-51.74,-50.389,-50.0,-49.277,-48.868,-48.0,-47.372,-46.233,-46.0,-45.889,-45.584,-44.389,-44.0,-43.1,-42.958,-42.0,-41.582,-40.762,-40.229,-40.0,-39.382,-38.873,-38.0,-37.49,-36.166,-36.042,-36.0,-35.914,-34.56,-34.0,-33.08,-32.841,-32.0,-31.588,-30.366,-30.096,-30.0,-29.76,-28.704,-28.0,-27.347,-26.129,-26.0,-25.952,-25.82,-24.526,-24.0,-23.045,-22.917,-22.0,-21.514,-20.159,-20.0,-19.909,-19.466,-18.279,-18.0,-17.526,-16.718,-16.0,-15.142,-14.769,-14.0,-13.54,-12.19,-12.0,-11.869,-10.535,-10.058,-10.0,-9.927,-8.215,-8.0,-7.732,-6.392,-6.0,-5.435,-4.717,-4.0,-3.178,-2.624,-2.0,-1.728,-1.122,-0.377,0.0,0.968,1.086,2.0,2.359,3.453,3.859,4.0,4.272,5.388,6.0,6.954,7.076,8.0,8.563,9.681,10.0,10.216,11.634,11.951,12.0,12.069,13.718,14.0,14.372,15.517,16.0,16.592,17.363,18.0,18.711,19.28,20.0,20.689,21.354,22.0,22.486,23.822,24.0,24.1,24.369,25.574,26.0,26.917,27.037,28.0,28.525,29.829,30.0,30.106,30.878,31.882,32.0,32.15,33.737,34.0,34.293,35.7,36.0,36.301,37.746,38.0,38.252,39.803,40.0,40.216,41.758,42.0,42.328,43.52,44.0,44.851,45.092,46.0,46.559,47.914,47.977,48.0,48.058,49.468,50.0,50.835,51.632,52.0,52.113,52.279,53.058,53.191,53.676,53.676,53.571,53.571,53.133,53.04,52.612,52.33,52.0],\"yaxis\":\"y\",\"type\":\"scatter\"},{\"hovertemplate\":\"<b>%{hovertext}</b><br><br>phi=%{x}<br>psi=%{y}<extra></extra>\",\"hovertext\":[0.02,0.02,0.02,0.02,0.02,0.02,0.02,0.02,0.02,0.02,0.02,0.02,0.02,0.02,0.02,0.02,0.02,0.02,0.02,0.02,0.02,0.02,0.02,0.02,0.02,0.02,0.02,0.02,0.02,0.02,0.02,0.02,0.02,0.02,0.02,0.02,0.02,0.02,0.02,0.02,0.02,0.02,0.02,0.02,0.02,0.02,0.02,0.02,0.02,0.02,0.02,0.02,0.02,0.02,0.02,0.02,0.02,0.02,0.02,0.02,0.02,0.02,0.02,0.02,0.02,0.02,0.02,0.02,0.02,0.02,0.02,0.02,0.02,0.02,0.02,0.02,0.02,0.02,0.02,0.02,0.02,0.02,0.02,0.02,0.02,0.02,0.02,0.02,0.02,0.02,0.02,0.02,0.02,0.02,0.02,0.02,0.02,0.02,0.02,0.02,0.02,0.02,0.02,0.02,0.02,0.02,0.02,0.02,0.02,0.02,0.02,0.02,0.02,0.02,0.02,0.02,0.02,0.02,0.02,0.02,0.02,0.02,0.02,0.02,0.02,0.02,0.02,0.02,0.02,0.02,0.02,0.02,0.02,0.02,0.02,0.02,0.02,0.02,0.02,0.02,0.02,0.02,0.02,0.02,0.02,0.02,0.02,0.02,0.02,0.02,0.02,0.02,0.02,0.02,0.02,0.02,0.02,0.02,0.02,0.02,0.02,0.02,0.02,0.02,0.02,0.02,0.02,0.02,0.02,0.02,0.02,0.02,0.02,0.02,0.02,0.02,0.02,0.02,0.02,0.02,0.02,0.02,0.02,0.02,0.02,0.02,0.02,0.02,0.02,0.02,0.02,0.02,0.02,0.02,0.02,0.02,0.02,0.02,0.02,0.02,0.02,0.02,0.02,0.02,0.02,0.02,0.02,0.02,0.02,0.02,0.02,0.02,0.02,0.02,0.02,0.02,0.02,0.02,0.02,0.02,0.02,0.02,0.02,0.02,0.02,0.02,0.02,0.02,0.02,0.02,0.02,0.02,0.02,0.02,0.02,0.02,0.02,0.02,0.02,0.02,0.02,0.02,0.02,0.02,0.02,0.02,0.02,0.02,0.02,0.02,0.02,0.02,0.02,0.02,0.02,0.02,0.02,0.02,0.02,0.02,0.02,0.02,0.02,0.02,0.02,0.02,0.02,0.02,0.02,0.02,0.02,0.02,0.02],\"legendgroup\":\"\",\"line\":{\"color\":\"deepskyblue\",\"dash\":\"solid\",\"width\":2},\"marker\":{\"symbol\":\"circle\",\"color\":\"white\",\"size\":4},\"mode\":\"lines\",\"name\":\"\",\"orientation\":\"v\",\"showlegend\":false,\"x\":[52.435,53.952,54.0,54.069,55.669,56.0,56.74,57.124,58.0,58.386,58.818,59.511,60.0,60.447,60.726,61.279,61.804,61.913,61.946,62.0,62.58,62.778,63.137,63.262,63.527,63.664,64.0,64.146,64.19,64.318,64.747,64.994,65.296,65.543,65.706,65.792,66.0,66.324,66.421,66.698,66.884,67.183,67.417,67.735,67.824,67.872,68.0,68.389,68.506,68.835,68.935,69.257,69.488,70.0,70.004,70.005,70.011,70.723,71.024,71.325,71.661,71.792,71.847,72.0,72.359,72.461,72.652,72.821,73.043,73.258,73.426,73.581,73.674,74.0,74.075,74.095,74.148,74.637,74.833,75.16,75.308,75.551,75.66,76.0,76.096,76.122,76.164,76.536,76.662,76.887,76.934,77.165,77.35,77.579,77.692,77.762,78.0,78.232,78.303,78.474,78.763,79.026,79.244,79.426,79.587,79.644,79.92,79.933,79.935,80.0,80.107,80.123,80.136,80.201,80.223,80.229,80.152,80.156,80.145,80.0,79.842,79.77,79.432,79.141,78.354,78.17,78.0,77.707,76.492,76.0,75.659,74.743,74.192,74.0,73.131,72.98,72.0,71.824,71.651,70.732,70.0,69.67,69.379,68.653,68.0,67.687,67.464,66.765,66.0,65.898,65.836,65.166,65.016,64.354,64.19,64.0,63.315,62.902,62.488,62.0,61.653,61.461,60.804,60.237,60.086,60.048,60.0,59.158,58.669,58.386,58.0,57.591,57.381,56.791,56.3,56.124,56.072,56.0,55.221,54.817,54.495,54.0,53.803,53.711,53.178,53.032,52.551,52.337,52.0,51.618,51.444,50.855,50.586,50.271,50.16,50.0,49.392,49.129,48.723,48.402,48.226,48.143,48.0,47.47,47.27,46.802,46.574,46.321,46.191,46.0,45.454,45.218,44.699,44.247,44.12,44.068,44.0,43.229,42.853,42.522,42.0,41.916,41.879,41.782,41.242,40.988,40.756,40.613,40.447,40.367,40.039,40.031,40.026,40.0,39.573,39.463,39.3,39.185,38.998,38.892,38.847,38.737,38.776,38.765,38.811,39.042,39.09,39.359,39.558,40.0,40.306,40.599,41.301,42.0,42.434,43.373,43.789,44.0,44.472,45.223,46.0,46.738,47.413,48.0,48.361,49.869,50.0,50.102,51.786,51.985,52.0,52.017,52.435],\"xaxis\":\"x\",\"y\":[64.0,63.952,63.947,63.931,63.669,63.574,63.26,63.124,62.652,62.386,62.0,61.511,60.971,60.447,60.0,59.279,58.196,58.0,57.946,57.808,56.58,56.0,55.137,54.738,54.0,53.664,52.494,52.146,52.0,51.682,50.747,50.0,49.296,48.457,48.0,47.792,47.069,46.324,46.0,45.302,44.884,44.0,43.417,42.265,42.0,41.872,41.343,40.389,40.0,39.165,38.935,38.0,37.488,36.01,36.004,36.0,35.989,34.723,34.0,33.325,32.339,32.0,31.847,31.284,30.359,30.0,29.348,28.821,28.0,27.258,26.574,26.0,25.674,24.296,24.075,24.0,23.852,22.637,22.0,21.16,20.692,20.0,19.66,18.357,18.096,18.0,17.836,16.536,16.0,15.113,14.934,14.0,13.35,12.421,12.0,11.762,10.888,10.232,10.0,9.526,8.763,8.0,7.244,6.574,6.0,5.644,4.08,4.0,3.935,3.173,2.107,2.0,1.864,0.201,0.0,-0.229,-1.848,-2.0,-2.145,-3.023,-3.842,-4.0,-4.568,-5.141,-6.0,-6.17,-6.281,-6.293,-6.492,-6.508,-6.341,-6.0,-5.808,-5.761,-5.131,-5.02,-4.349,-4.176,-4.0,-3.268,-2.658,-2.33,-2.0,-1.347,-0.647,-0.313,0.0,0.765,1.783,1.898,2.0,2.834,3.016,4.0,4.19,4.466,5.315,6.0,6.488,7.25,7.653,8.0,8.804,9.763,10.0,10.048,10.128,11.158,12.0,12.386,13.088,13.591,14.0,14.791,15.7,16.0,16.072,16.204,17.221,18.0,18.495,19.552,19.803,20.0,20.822,21.032,22.0,22.337,23.093,23.618,24.0,24.855,25.414,26.0,26.16,26.509,27.392,28.0,28.723,29.598,30.0,30.143,30.571,31.47,32.0,32.802,33.426,34.0,34.191,34.709,35.454,36.0,36.699,37.753,38.0,38.068,38.24,39.229,40.0,40.522,41.808,41.916,42.0,42.218,43.242,44.0,44.756,45.387,46.0,46.367,47.961,48.0,48.026,48.166,49.573,50.0,50.7,51.185,52.0,52.892,53.153,54.0,54.776,55.235,56.0,56.958,57.09,58.0,58.442,59.17,59.694,60.0,60.699,61.256,61.566,62.0,62.211,62.296,62.472,62.777,63.039,63.262,63.413,63.57,63.639,63.869,63.893,63.898,64.0,64.015,64.017,64.017,64.0],\"yaxis\":\"y\",\"type\":\"scatter\"},{\"hovertemplate\":\"<b>%{hovertext}</b><br><br>phi=%{x}<br>psi=%{y}<extra></extra>\",\"hovertext\":[0.02,0.02,0.02,0.02,0.02,0.02,0.02,0.02,0.02,0.02,0.02,0.02,0.02,0.02,0.02,0.02,0.02,0.02,0.02,0.02,0.02,0.02,0.02,0.02,0.02,0.02,0.02,0.02,0.02,0.02,0.02,0.02,0.02,0.02,0.02,0.02,0.02,0.02,0.02,0.02,0.02,0.02,0.02,0.02,0.02,0.02,0.02,0.02,0.02,0.02,0.02,0.02,0.02,0.02,0.02,0.02,0.02,0.02,0.02,0.02,0.02,0.02,0.02,0.02,0.02,0.02,0.02,0.02,0.02,0.02,0.02,0.02,0.02,0.02,0.02,0.02,0.02,0.02,0.02,0.02,0.02,0.02,0.02,0.02,0.02,0.02,0.02,0.02,0.02,0.02,0.02,0.02,0.02,0.02,0.02,0.02,0.02,0.02,0.02,0.02,0.02,0.02,0.02,0.02,0.02,0.02,0.02,0.02,0.02,0.02,0.02,0.02,0.02,0.02,0.02,0.02,0.02,0.02,0.02,0.02,0.02,0.02,0.02,0.02,0.02,0.02,0.02,0.02,0.02,0.02,0.02,0.02,0.02,0.02,0.02,0.02,0.02,0.02,0.02,0.02,0.02,0.02,0.02,0.02,0.02,0.02,0.02,0.02,0.02,0.02,0.02,0.02,0.02,0.02,0.02,0.02,0.02,0.02,0.02,0.02,0.02,0.02,0.02,0.02,0.02,0.02,0.02,0.02,0.02,0.02,0.02,0.02,0.02,0.02,0.02,0.02,0.02,0.02,0.02,0.02,0.02,0.02,0.02,0.02,0.02,0.02,0.02,0.02,0.02,0.02,0.02,0.02,0.02,0.02,0.02,0.02,0.02,0.02,0.02,0.02,0.02,0.02,0.02,0.02,0.02,0.02,0.02,0.02,0.02,0.02,0.02,0.02,0.02,0.02,0.02,0.02,0.02,0.02,0.02,0.02,0.02,0.02,0.02,0.02,0.02,0.02,0.02,0.02,0.02,0.02,0.02,0.02,0.02,0.02,0.02,0.02,0.02,0.02,0.02,0.02,0.02,0.02,0.02,0.02,0.02,0.02,0.02,0.02,0.02,0.02,0.02,0.02,0.02,0.02,0.02,0.02,0.02,0.02,0.02,0.02,0.02,0.02,0.02,0.02,0.02,0.02,0.02,0.02,0.02,0.02,0.02,0.02,0.02,0.02,0.02,0.02,0.02,0.02,0.02,0.02,0.02,0.02,0.02,0.02,0.02,0.02,0.02,0.02,0.02,0.02,0.02,0.02,0.02,0.02,0.02,0.02,0.02,0.02,0.02,0.02,0.02,0.02,0.02,0.02,0.02,0.02,0.02,0.02,0.02,0.02,0.02,0.02,0.02,0.02,0.02,0.02,0.02,0.02,0.02,0.02,0.02,0.02,0.02,0.02,0.02,0.02,0.02,0.02,0.02,0.02,0.02,0.02,0.02,0.02,0.02,0.02,0.02,0.02,0.02,0.02,0.02,0.02,0.02,0.02,0.02,0.02,0.02,0.02,0.02,0.02,0.02,0.02,0.02,0.02,0.02,0.02,0.02,0.02,0.02,0.02,0.02,0.02,0.02,0.02,0.02,0.02,0.02,0.02,0.02,0.02,0.02,0.02,0.02,0.02,0.02,0.02,0.02,0.02,0.02,0.02,0.02,0.02,0.02,0.02,0.02,0.02,0.02,0.02,0.02,0.02,0.02,0.02,0.02,0.02,0.02,0.02,0.02,0.02,0.02,0.02,0.02,0.02,0.02,0.02,0.02,0.02,0.02,0.02,0.02,0.02,0.02,0.02,0.02,0.02,0.02,0.02,0.02,0.02,0.02,0.02,0.02,0.02,0.02,0.02,0.02,0.02,0.02,0.02,0.02,0.02,0.02,0.02,0.02,0.02,0.02,0.02,0.02,0.02,0.02,0.02,0.02,0.02,0.02,0.02,0.02,0.02,0.02,0.02,0.02,0.02,0.02,0.02,0.02,0.02,0.02,0.02,0.02,0.02,0.02,0.02,0.02,0.02,0.02,0.02,0.02,0.02,0.02,0.02,0.02,0.02,0.02,0.02,0.02,0.02,0.02,0.02,0.02,0.02,0.02,0.02,0.02,0.02,0.02,0.02,0.02,0.02,0.02,0.02,0.02,0.02,0.02,0.02,0.02,0.02,0.02,0.02,0.02,0.02,0.02,0.02,0.02,0.02,0.02,0.02,0.02,0.02,0.02,0.02,0.02,0.02,0.02,0.02,0.02,0.02,0.02,0.02,0.02,0.02,0.02,0.02,0.02,0.02,0.02,0.02,0.02,0.02,0.02,0.02,0.02,0.02,0.02,0.02],\"legendgroup\":\"\",\"line\":{\"color\":\"deepskyblue\",\"dash\":\"solid\",\"width\":2},\"marker\":{\"symbol\":\"circle\",\"color\":\"white\",\"size\":4},\"mode\":\"lines\",\"name\":\"\",\"orientation\":\"v\",\"showlegend\":false,\"x\":[-69.862,-68.951,-68.646,-68.143,-68.07,-68.0,-67.105,-66.436,-66.215,-66.0,-65.284,-64.786,-64.384,-64.0,-63.452,-63.083,-62.54,-62.0,-61.653,-61.439,-60.775,-60.106,-60.037,-60.02,-60.0,-59.136,-58.643,-58.365,-58.0,-57.565,-57.332,-56.735,-56.019,-56.007,-56.004,-56.0,-55.129,-54.661,-54.413,-54.0,-53.765,-53.667,-53.166,-53.035,-52.587,-52.358,-52.0,-51.673,-51.523,-50.931,-50.832,-50.428,-50.266,-50.0,-49.587,-49.42,-48.848,-48.609,-48.299,-48.175,-48.0,-47.384,-47.098,-46.676,-46.197,-46.101,-46.061,-46.0,-45.25,-44.885,-44.536,-44.0,-43.852,-43.775,-43.335,-43.058,-42.579,-42.379,-42.0,-41.755,-41.653,-41.359,-41.12,-40.772,-40.583,-40.29,-40.205,-40.174,-40.0,-39.864,-39.838,-39.825,-39.732,-39.712,-39.733,-39.996,-39.997,-39.997,-40.0,-40.446,-40.685,-41.171,-42.0,-42.068,-42.14,-43.022,-44.0,-44.123,-44.316,-45.243,-46.0,-46.453,-47.456,-47.801,-48.0,-48.544,-49.135,-50.0,-50.559,-51.811,-52.0,-52.092,-52.423,-53.552,-54.0,-54.993,-55.017,-56.0,-56.404,-57.478,-57.825,-58.0,-58.516,-59.143,-60.0,-60.478,-61.539,-61.825,-62.0,-62.956,-63.355,-64.0,-64.066,-64.134,-64.856,-64.987,-65.916,-65.952,-66.0,-66.817,-67.537,-67.723,-68.0,-68.572,-69.032,-69.399,-70.0,-70.153,-70.237,-70.45,-70.792,-71.197,-71.43,-72.0,-72.057,-72.081,-72.127,-72.566,-72.788,-73.072,-73.138,-73.406,-73.513,-73.836,-73.874,-73.889,-74.0,-74.112,-74.124,-74.133,-74.257,-74.273,-74.286,-74.363,-74.38,-74.395,-74.448,-74.465,-74.481,-74.52,-74.537,-74.548,-74.575,-74.586,-74.584,-74.584,-74.582,-74.576,-74.564,-74.558,-74.556,-74.562,-74.561,-74.599,-74.653,-74.695,-74.809,-74.854,-74.978,-75.131,-75.201,-75.35,-75.46,-75.78,-75.829,-75.858,-76.0,-76.237,-76.3,-76.413,-76.629,-76.825,-77.096,-77.224,-77.495,-77.614,-78.0,-78.195,-78.297,-78.573,-78.826,-79.331,-79.55,-80.0,-80.34,-80.676,-81.267,-82.0,-82.28,-82.756,-83.468,-84.0,-84.822,-85.335,-86.0,-86.448,-87.574,-88.0,-88.62,-89.227,-90.0,-90.578,-91.296,-91.738,-92.0,-92.762,-93.348,-93.663,-94.0,-94.432,-94.645,-95.085,-95.176,-95.506,-95.628,-95.985,-95.989,-95.992,-96.0,-96.365,-96.44,-96.583,-96.761,-96.934,-97.153,-97.241,-97.427,-97.534,-97.806,-97.848,-97.871,-98.0,-98.187,-98.233,-98.285,-98.497,-98.59,-98.736,-98.819,-98.987,-99.178,-99.306,-99.476,-99.599,-100.0,-100.142,-100.223,-100.746,-100.955,-101.633,-101.796,-102.0,-102.701,-103.319,-103.663,-104.0,-104.73,-105.743,-105.901,-106.0,-106.233,-107.378,-108.0,-108.821,-109.156,-110.0,-110.785,-111.265,-112.0,-112.539,-113.729,-114.0,-114.175,-115.048,-115.832,-116.0,-116.25,-117.529,-118.0,-118.662,-119.258,-120.0,-120.956,-121.073,-122.0,-122.606,-123.765,-124.0,-124.155,-124.751,-125.7,-126.0,-126.639,-127.25,-128.0,-128.947,-129.07,-130.0,-130.581,-131.776,-131.937,-132.0,-132.134,-133.403,-134.0,-134.965,-135.056,-136.0,-136.596,-137.709,-138.0,-138.153,-138.434,-139.476,-140.0,-140.611,-141.22,-141.646,-142.0,-142.6,-143.065,-143.551,-144.0,-144.541,-145.062,-145.594,-146.0,-146.766,-147.863,-147.953,-148.0,-148.178,-149.223,-150.0,-150.418,-150.95,-151.571,-152.0,-152.645,-153.284,-153.636,-154.0,-154.539,-154.927,-155.339,-156.0,-156.026,-156.037,-156.057,-156.584,-156.773,-157.073,-157.123,-157.379,-157.532,-157.918,-157.942,-157.958,-158.0,-158.409,-158.517,-158.853,-158.939,-159.283,-159.51,-160.0,-160.074,-160.102,-160.165,-160.649,-160.875,-161.159,-161.288,-161.511,-161.627,-162.0,-162.008,-162.01,-162.015,-162.514,-162.667,-163.05,-163.098,-163.425,-163.605,-164.0,-164.154,-164.213,-164.379,-164.771,-165.082,-165.345,-165.648,-165.771,-165.837,-166.0,-166.335,-166.43,-166.699,-166.878,-167.179,-167.433,-167.847,-167.905,-167.932,-168.0,-168.467,-168.604,-168.913,-168.959,-169.262,-169.448,-169.789,-169.854,-169.891,-170.0,-170.396,-170.512,-170.797,-170.909,-171.21,-171.416,-171.722,-171.809,-171.851,-172.0,-172.283,-172.353,-172.493,-172.723,-172.923,-173.211,-173.406,-173.608,-173.729,-174.0,-174.309,-174.42,-174.753,-174.912,-175.272,-175.471,-175.841,-175.893,-175.916,-176.0,-176.346,-176.434,-176.623,-176.802,-177.038,-177.258,-177.443,-177.6,-177.67,-177.962,-177.97,-177.971,-178.0,-178.057,-178.059,-178.053,-178.0,-177.819,-177.786,-177.687,-177.393,-177.171,-176.848,-176.619,-176.366,-176.267,-176.0,-175.726,-175.609,-175.267,-175.106,-174.635,-174.418,-174.0,-173.679,-173.453],\"xaxis\":\"x\",\"y\":[180.0,179.049,178.646,178.0,177.93,177.842,176.895,176.0,175.785,175.488,174.716,174.0,173.616,173.087,172.548,172.0,171.46,170.681,170.347,170.0,169.225,168.106,168.0,167.98,167.943,166.864,166.0,165.635,164.957,164.435,164.0,163.265,162.019,162.0,161.996,161.988,160.871,160.0,159.587,158.585,158.235,158.0,157.166,156.965,156.0,155.642,154.778,154.327,154.0,153.069,152.832,152.0,151.734,151.053,150.413,150.0,149.152,148.609,148.0,147.825,147.434,146.616,146.0,145.324,144.197,144.0,143.939,143.79,142.75,142.0,141.464,140.32,140.148,140.0,139.335,138.942,138.0,137.621,136.64,136.245,136.0,135.359,134.88,134.0,133.417,132.29,132.0,131.826,130.721,130.136,130.0,129.825,128.268,128.0,127.733,126.004,126.0,125.997,125.99,124.446,124.0,123.171,122.173,122.068,122.0,121.022,120.242,120.123,120.0,119.243,118.776,118.453,118.0,117.801,117.722,117.456,117.135,116.793,116.559,116.189,116.122,116.092,116.0,115.552,115.409,114.993,114.983,114.588,114.404,114.0,113.825,113.753,113.484,113.143,112.735,112.478,112.0,111.825,111.731,110.956,110.645,110.14,110.066,110.0,109.144,108.987,108.0,107.952,107.903,106.817,106.0,105.723,105.388,104.572,104.0,103.399,102.462,102.153,102.0,101.55,100.792,100.0,99.43,98.208,98.057,98.0,97.873,96.566,96.0,95.072,94.862,94.0,93.513,92.164,92.0,91.889,91.091,90.112,90.0,89.867,88.257,88.0,87.714,86.363,86.0,85.605,84.448,84.0,83.519,82.52,82.0,81.452,80.575,80.0,79.416,78.584,78.0,77.424,76.564,76.0,75.444,74.562,74.0,73.401,72.653,72.0,71.191,70.854,70.0,69.131,68.799,68.0,67.46,66.22,66.0,65.858,65.373,64.237,64.0,63.587,62.629,62.0,61.096,60.776,60.0,59.614,58.732,58.195,58.0,57.427,56.826,56.0,55.55,54.845,54.34,54.0,53.267,52.5,52.28,52.0,51.468,51.107,50.822,50.665,50.448,50.448,50.426,50.426,50.62,50.773,51.063,51.421,52.0,52.262,52.491,53.238,54.0,54.337,54.884,55.568,56.0,56.915,57.176,58.0,58.372,59.985,60.0,60.008,60.059,61.635,62.0,62.583,63.239,64.0,64.847,65.241,66.0,66.466,67.806,68.0,68.129,68.967,69.813,70.0,70.285,71.503,72.0,72.736,73.181,74.0,74.822,75.306,76.0,76.401,77.572,77.858,78.0,78.746,79.045,80.0,80.204,80.482,81.299,82.0,82.337,82.685,83.27,84.0,84.099,84.162,84.233,84.622,84.791,84.821,84.844,84.873,84.785,84.735,84.653,84.539,84.271,84.213,84.175,84.0,83.832,83.796,83.75,83.529,83.441,83.338,83.258,83.137,82.956,82.927,82.733,82.606,82.235,82.176,82.155,82.0,81.7,81.538,81.361,81.25,80.98,81.053,81.07,81.15,81.419,82.0,82.063,82.087,82.134,82.597,82.804,83.035,83.056,83.28,83.404,83.709,83.777,83.847,84.0,84.524,84.863,85.389,86.0,86.354,86.705,87.4,88.0,88.449,88.889,89.459,90.0,90.406,90.693,91.234,92.0,92.047,92.072,92.178,92.777,93.288,93.582,94.0,94.429,94.785,95.355,96.0,96.364,96.809,97.461,98.0,98.661,99.925,99.974,100.0,100.057,101.416,102.0,102.927,103.123,104.0,104.468,105.918,106.0,106.042,106.192,107.591,108.0,108.853,109.061,110.0,110.49,111.744,111.926,112.0,112.165,113.351,114.0,114.841,115.288,116.0,116.373,117.959,117.992,118.0,118.015,119.486,120.0,120.95,121.098,122.0,122.395,123.494,123.846,124.0,124.379,125.229,126.0,126.655,127.648,128.0,128.163,128.715,129.665,130.0,130.699,131.122,132.0,132.567,133.847,134.0,134.068,134.292,135.533,136.0,136.913,137.041,138.0,138.552,139.789,140.0,140.109,140.498,141.604,142.0,142.797,143.091,144.0,144.584,145.722,146.0,146.149,146.798,147.717,148.0,148.493,149.277,150.0,150.789,151.406,152.0,152.271,153.042,153.691,154.0,154.753,155.088,156.0,156.529,157.841,158.0,158.084,158.473,159.654,160.0,160.623,161.198,162.0,162.742,163.443,164.0,164.33,165.962,166.0,166.029,166.773,167.943,168.0,168.053,168.399,169.819,170.0,170.313,171.393,172.0,172.848,173.381,174.0,174.267,174.91,175.726,176.0,176.733,177.106,178.0,178.418,179.086,179.679,180.0],\"yaxis\":\"y\",\"type\":\"scatter\"},{\"hovertemplate\":\"<b>%{hovertext}</b><br><br>phi=%{x}<br>psi=%{y}<extra></extra>\",\"hovertext\":[\"VAL1\",\"LEU2\",\"SER3\",\"GLU4\",\"GLY5\",\"GLU6\",\"TRP7\",\"GLN8\",\"LEU9\",\"VAL10\",\"LEU11\",\"HIS12\",\"VAL13\",\"TRP14\",\"ALA15\",\"LYS16\",\"VAL17\",\"GLU18\",\"ALA19\",\"ASP20\",\"VAL21\",\"ALA22\",\"GLY23\",\"HIS24\",\"GLY25\",\"GLN26\",\"ASP27\",\"ILE28\",\"LEU29\",\"ILE30\",\"ARG31\",\"LEU32\",\"PHE33\",\"LYS34\",\"SER35\",\"HIS36\",\"PRO37\",\"GLU38\",\"THR39\",\"LEU40\",\"GLU41\",\"LYS42\",\"PHE43\",\"ASP44\",\"ARG45\",\"PHE46\",\"LYS47\",\"HIS48\",\"LEU49\",\"LYS50\",\"THR51\",\"GLU52\",\"ALA53\",\"GLU54\",\"MET55\",\"LYS56\",\"ALA57\",\"SER58\",\"GLU59\",\"ASP60\",\"LEU61\",\"LYS62\",\"LYS63\",\"HIS64\",\"GLY65\",\"VAL66\",\"THR67\",\"VAL68\",\"LEU69\",\"THR70\",\"ALA71\",\"LEU72\",\"GLY73\",\"ALA74\",\"ILE75\",\"LEU76\",\"LYS77\",\"LYS78\",\"LYS79\",\"GLY80\",\"HIS81\",\"HIS82\",\"GLU83\",\"ALA84\",\"GLU85\",\"LEU86\",\"LYS87\",\"PRO88\",\"LEU89\",\"ALA90\",\"GLN91\",\"SER92\",\"HIS93\",\"ALA94\",\"THR95\",\"LYS96\",\"HIS97\",\"LYS98\",\"ILE99\",\"PRO100\",\"ILE101\",\"LYS102\",\"TYR103\",\"LEU104\",\"GLU105\",\"PHE106\",\"ILE107\",\"SER108\",\"GLU109\",\"ALA110\",\"ILE111\",\"ILE112\",\"HIS113\",\"VAL114\",\"LEU115\",\"HIS116\",\"SER117\",\"ARG118\",\"HIS119\",\"PRO120\",\"GLY121\",\"ASP122\",\"PHE123\",\"GLY124\",\"ALA125\",\"ASP126\",\"ALA127\",\"GLN128\",\"GLY129\",\"ALA130\",\"MET131\",\"ASN132\",\"LYS133\",\"ALA134\",\"LEU135\",\"GLU136\",\"LEU137\",\"PHE138\",\"ARG139\",\"LYS140\",\"ASP141\",\"ILE142\",\"ALA143\",\"ALA144\",\"LYS145\",\"TYR146\",\"LYS147\",\"GLU148\",\"LEU149\",\"GLY150\",\"TYR151\",\"GLN152\",\"GLY153\"],\"legendgroup\":\"\",\"marker\":{\"color\":\"white\",\"symbol\":\"circle\",\"size\":4},\"mode\":\"markers\",\"name\":\"\",\"orientation\":\"v\",\"showlegend\":false,\"x\":[null,-0.799235749696787,-0.8651132187681491,-0.7925565740424724,-0.8796635811649264,-0.980362063302108,-1.1023120903925436,-0.6358912538282976,-1.1114181141850508,-0.9017662821328788,-1.1810485680131826,-1.1680406464184123,-1.0721479130176856,-0.8958174974803828,-0.6926123264883218,-1.3010185210805367,-1.0409838685485693,-1.163901915280563,-1.1751487422733826,-2.564885861308392,-0.7864893753266332,-1.0012580223485477,-0.9946678186881428,-0.8396121443698766,-0.9299237216135284,-0.8508294148952286,-0.686228770633187,-0.7224716783012144,-0.7882186678558061,-0.9112458328120716,-0.8318762484285998,-1.005422619475112,-0.9884143442049226,-1.1909696652500072,-1.2559821398265854,-2.2966622716230973,-0.9262324927999376,-0.9972426203027414,-0.8892204730374399,-1.3738206109282571,-0.780383955297622,-1.2321014467702027,-1.7290337718800826,-1.0686961200587914,-1.1197448223850237,-2.084614702964158,-0.7065956549636305,-0.71369690968539,-0.8864549841912317,-1.6299859387149715,-2.052347898137186,-1.2389226996224878,-0.9430046239717252,-0.7498535746496716,-0.8246720984016259,-1.0116756446411113,-1.1042119204386784,-1.053056713569665,-1.3183878093019117,-1.207349971448911,-0.9228733340409144,-0.7276742339887358,-0.6120752996894004,-0.9866487196814214,-0.9212780560090766,-0.9412391642026068,-0.8374462815976017,-0.9328096596956928,-0.912530744127999,-0.9720672169210828,-0.997449743012822,-0.8426270103796294,-0.9714417656524212,-0.820738617191227,-1.118920865527748,-0.8535845745669262,-0.6808345700923267,-1.4602052235626906,0.6707368203178267,1.6680686039015096,-1.5884470770587789,-1.6437610173612072,-0.6612575130022896,-0.7120713487096739,-1.3515907027031078,-0.9975642968338544,-0.781873784102178,-0.7015551350906076,-1.2230228459796737,-0.9598250423214364,-1.020336014502944,-0.888033640033255,-1.076277160722334,-1.2930175548494864,-1.310202891847415,-2.4084640761373173,-0.933561957437702,1.1334126927021675,-1.568708641774878,-1.0602553385742393,-0.7798650129010217,-0.9722439115836502,-1.2757435943037991,-0.9539889427611904,-1.2186096129307673,-0.7775893115831647,-0.6945639332396614,-0.7108611999599039,-1.174942162778153,-0.6273022324854546,-0.8065929507494175,-1.232695431411501,-1.0779973178809,-0.8049388093090041,-0.986967392826376,-1.0731257785778834,-0.5093297264022879,-1.5484397107575067,-2.5042748243609605,-0.9884368824060882,-1.2742789891380804,-1.0470422220736526,-2.0991447366488214,-1.2772374783638794,-0.8988741962494499,-0.958607286476578,-1.1561457723471134,-0.8781924356869087,-1.2227312972404358,-0.8679305144197629,-0.7650426213309978,-1.010402253915926,-0.9254110505766492,-0.7153797157327023,-0.971988805057436,-1.0154264676164773,-1.031344690132501,-1.0333301775746655,-0.9865045918903222,-0.7625095677432426,-1.0990573047428311,-1.168017318265507,-1.012289461356022,-0.8728962076882008,-0.9481676390414416,-0.9386399558619816,-0.7137550216472369,-0.4711635449047379,-1.0271483066106857,1.6659164244914124,-1.954747312305552,1.527519990083956,-0.9869091918795888],\"xaxis\":\"x\",\"y\":[-0.9957294083533922,2.3313452806370405,2.6190998316693728,-1.046381972557746,-0.9632433173107866,-0.6896096330495,-0.7988390311490624,-1.0588515351650265,-0.8975126287027947,-0.7722244695645456,-0.7131168770974838,-0.6591736378845469,-0.7868812088217884,-1.1433170461509623,-0.6185782391921386,-0.8066985157055631,-0.5236030818156246,-0.2835926631927986,-0.6383486979277195,1.251669068030798,-1.0454314824397348,-0.6708274210837253,-1.1623946502205116,-0.886066795818875,-0.9343119507703976,-1.0011047488610745,-1.3106938842162776,-0.9287901076448888,-1.1192019217724598,-0.8993090584408665,-0.9631457223728468,-0.949584479803284,-0.7095804510618733,-0.8396525920874178,-0.6890950089480321,1.5330835041406217,-0.472793653806787,-0.816719211984773,-0.7131535337289567,-0.7125096368967371,-0.6563109947080487,-0.3199914759401748,1.924849664428563,-0.7643788739834673,-0.2164946988734361,-0.4119979604209955,-0.8879917724969159,-0.6409709263570803,1.9132017168304376,-0.7850269460037494,3.028466618734926,-0.6157905059974326,-1.0742152420027389,-1.0096225641254168,-1.1646063102840745,-0.543277636774332,-0.8831745638001569,2.1971283417378444,-0.4949333694563543,-0.6443009294010176,-0.98782785079436,-1.3364351881180967,-0.7619955881091686,-0.9189184435016108,-0.7617633961830281,-0.9995169522790224,-1.0557488670790425,-0.9501463801416652,-0.781805644801136,-0.9310813467053328,-0.8221825832668451,-1.0408226941252596,-0.8541101402611343,-0.8492784394801335,-0.8334457606877755,-1.2329538269866105,-0.4050357303325078,0.0447665314431809,0.8302555713484288,-0.4394949742084001,1.006761091399266,0.0680932043422319,-0.8825723616978388,-0.981536316080962,-0.7367886429926627,-0.7633346123351235,-1.2534904533573477,-0.7043476419992851,-0.836428114073012,-0.8456414554895575,-0.9790645109113186,-1.0005327561090405,-0.7471445050281031,-0.9043255340943098,-0.2528727713503735,-1.0914785309716524,-0.6794651891069535,0.6453806856147666,1.899610840765197,2.356876823786706,-0.552508596923811,-0.5699934139775127,-0.7958495006618674,-0.7180600871917524,-0.9856571468641238,-1.2753157164790496,-0.9284576588771336,-0.6636309515395042,-1.247063702907893,-0.7579713320160087,-1.105722402531959,-0.573204509591698,-1.015518279890386,-0.906061192192025,-0.7938859883198703,-1.1930341738628134,-0.924726599976722,-0.1283365186511012,1.363819910166988,-1.048879553097546,-0.801863192250977,-0.5213742378985067,1.154585634304785,-2.946890276504486,-0.7140536658720922,-0.8786986820842273,-0.7969274168962844,-0.8256323381899372,-0.8048391968395904,-1.1100131406811382,-0.9425651510310752,-0.8015951850454608,-1.090255985017108,-0.9221166703517172,-0.8926209844804965,-0.5758224457400574,-0.8818980487385771,-0.7684822435450136,-0.9635472658046778,-1.0311623989126473,-0.7274849889226416,-0.6178145167498781,-0.9014442743860962,-0.974444578537116,-0.711864485667957,-1.1150562583762371,-1.2385746096854249,-1.0808810939758642,-0.4278424488609492,0.4904370637416677,-3.1105849037160307,1.355878818994415,null],\"yaxis\":\"y\",\"type\":\"scatter\"}],                        {\"template\":{\"data\":{\"bar\":[{\"error_x\":{\"color\":\"#2a3f5f\"},\"error_y\":{\"color\":\"#2a3f5f\"},\"marker\":{\"line\":{\"color\":\"#E5ECF6\",\"width\":0.5},\"pattern\":{\"fillmode\":\"overlay\",\"size\":10,\"solidity\":0.2}},\"type\":\"bar\"}],\"barpolar\":[{\"marker\":{\"line\":{\"color\":\"#E5ECF6\",\"width\":0.5},\"pattern\":{\"fillmode\":\"overlay\",\"size\":10,\"solidity\":0.2}},\"type\":\"barpolar\"}],\"carpet\":[{\"aaxis\":{\"endlinecolor\":\"#2a3f5f\",\"gridcolor\":\"white\",\"linecolor\":\"white\",\"minorgridcolor\":\"white\",\"startlinecolor\":\"#2a3f5f\"},\"baxis\":{\"endlinecolor\":\"#2a3f5f\",\"gridcolor\":\"white\",\"linecolor\":\"white\",\"minorgridcolor\":\"white\",\"startlinecolor\":\"#2a3f5f\"},\"type\":\"carpet\"}],\"choropleth\":[{\"colorbar\":{\"outlinewidth\":0,\"ticks\":\"\"},\"type\":\"choropleth\"}],\"contour\":[{\"colorbar\":{\"outlinewidth\":0,\"ticks\":\"\"},\"colorscale\":[[0.0,\"#0d0887\"],[0.1111111111111111,\"#46039f\"],[0.2222222222222222,\"#7201a8\"],[0.3333333333333333,\"#9c179e\"],[0.4444444444444444,\"#bd3786\"],[0.5555555555555556,\"#d8576b\"],[0.6666666666666666,\"#ed7953\"],[0.7777777777777778,\"#fb9f3a\"],[0.8888888888888888,\"#fdca26\"],[1.0,\"#f0f921\"]],\"type\":\"contour\"}],\"contourcarpet\":[{\"colorbar\":{\"outlinewidth\":0,\"ticks\":\"\"},\"type\":\"contourcarpet\"}],\"heatmap\":[{\"colorbar\":{\"outlinewidth\":0,\"ticks\":\"\"},\"colorscale\":[[0.0,\"#0d0887\"],[0.1111111111111111,\"#46039f\"],[0.2222222222222222,\"#7201a8\"],[0.3333333333333333,\"#9c179e\"],[0.4444444444444444,\"#bd3786\"],[0.5555555555555556,\"#d8576b\"],[0.6666666666666666,\"#ed7953\"],[0.7777777777777778,\"#fb9f3a\"],[0.8888888888888888,\"#fdca26\"],[1.0,\"#f0f921\"]],\"type\":\"heatmap\"}],\"heatmapgl\":[{\"colorbar\":{\"outlinewidth\":0,\"ticks\":\"\"},\"colorscale\":[[0.0,\"#0d0887\"],[0.1111111111111111,\"#46039f\"],[0.2222222222222222,\"#7201a8\"],[0.3333333333333333,\"#9c179e\"],[0.4444444444444444,\"#bd3786\"],[0.5555555555555556,\"#d8576b\"],[0.6666666666666666,\"#ed7953\"],[0.7777777777777778,\"#fb9f3a\"],[0.8888888888888888,\"#fdca26\"],[1.0,\"#f0f921\"]],\"type\":\"heatmapgl\"}],\"histogram\":[{\"marker\":{\"pattern\":{\"fillmode\":\"overlay\",\"size\":10,\"solidity\":0.2}},\"type\":\"histogram\"}],\"histogram2d\":[{\"colorbar\":{\"outlinewidth\":0,\"ticks\":\"\"},\"colorscale\":[[0.0,\"#0d0887\"],[0.1111111111111111,\"#46039f\"],[0.2222222222222222,\"#7201a8\"],[0.3333333333333333,\"#9c179e\"],[0.4444444444444444,\"#bd3786\"],[0.5555555555555556,\"#d8576b\"],[0.6666666666666666,\"#ed7953\"],[0.7777777777777778,\"#fb9f3a\"],[0.8888888888888888,\"#fdca26\"],[1.0,\"#f0f921\"]],\"type\":\"histogram2d\"}],\"histogram2dcontour\":[{\"colorbar\":{\"outlinewidth\":0,\"ticks\":\"\"},\"colorscale\":[[0.0,\"#0d0887\"],[0.1111111111111111,\"#46039f\"],[0.2222222222222222,\"#7201a8\"],[0.3333333333333333,\"#9c179e\"],[0.4444444444444444,\"#bd3786\"],[0.5555555555555556,\"#d8576b\"],[0.6666666666666666,\"#ed7953\"],[0.7777777777777778,\"#fb9f3a\"],[0.8888888888888888,\"#fdca26\"],[1.0,\"#f0f921\"]],\"type\":\"histogram2dcontour\"}],\"mesh3d\":[{\"colorbar\":{\"outlinewidth\":0,\"ticks\":\"\"},\"type\":\"mesh3d\"}],\"parcoords\":[{\"line\":{\"colorbar\":{\"outlinewidth\":0,\"ticks\":\"\"}},\"type\":\"parcoords\"}],\"pie\":[{\"automargin\":true,\"type\":\"pie\"}],\"scatter\":[{\"marker\":{\"colorbar\":{\"outlinewidth\":0,\"ticks\":\"\"}},\"type\":\"scatter\"}],\"scatter3d\":[{\"line\":{\"colorbar\":{\"outlinewidth\":0,\"ticks\":\"\"}},\"marker\":{\"colorbar\":{\"outlinewidth\":0,\"ticks\":\"\"}},\"type\":\"scatter3d\"}],\"scattercarpet\":[{\"marker\":{\"colorbar\":{\"outlinewidth\":0,\"ticks\":\"\"}},\"type\":\"scattercarpet\"}],\"scattergeo\":[{\"marker\":{\"colorbar\":{\"outlinewidth\":0,\"ticks\":\"\"}},\"type\":\"scattergeo\"}],\"scattergl\":[{\"marker\":{\"colorbar\":{\"outlinewidth\":0,\"ticks\":\"\"}},\"type\":\"scattergl\"}],\"scattermapbox\":[{\"marker\":{\"colorbar\":{\"outlinewidth\":0,\"ticks\":\"\"}},\"type\":\"scattermapbox\"}],\"scatterpolar\":[{\"marker\":{\"colorbar\":{\"outlinewidth\":0,\"ticks\":\"\"}},\"type\":\"scatterpolar\"}],\"scatterpolargl\":[{\"marker\":{\"colorbar\":{\"outlinewidth\":0,\"ticks\":\"\"}},\"type\":\"scatterpolargl\"}],\"scatterternary\":[{\"marker\":{\"colorbar\":{\"outlinewidth\":0,\"ticks\":\"\"}},\"type\":\"scatterternary\"}],\"surface\":[{\"colorbar\":{\"outlinewidth\":0,\"ticks\":\"\"},\"colorscale\":[[0.0,\"#0d0887\"],[0.1111111111111111,\"#46039f\"],[0.2222222222222222,\"#7201a8\"],[0.3333333333333333,\"#9c179e\"],[0.4444444444444444,\"#bd3786\"],[0.5555555555555556,\"#d8576b\"],[0.6666666666666666,\"#ed7953\"],[0.7777777777777778,\"#fb9f3a\"],[0.8888888888888888,\"#fdca26\"],[1.0,\"#f0f921\"]],\"type\":\"surface\"}],\"table\":[{\"cells\":{\"fill\":{\"color\":\"#EBF0F8\"},\"line\":{\"color\":\"white\"}},\"header\":{\"fill\":{\"color\":\"#C8D4E3\"},\"line\":{\"color\":\"white\"}},\"type\":\"table\"}]},\"layout\":{\"annotationdefaults\":{\"arrowcolor\":\"#2a3f5f\",\"arrowhead\":0,\"arrowwidth\":1},\"autotypenumbers\":\"strict\",\"coloraxis\":{\"colorbar\":{\"outlinewidth\":0,\"ticks\":\"\"}},\"colorscale\":{\"diverging\":[[0,\"#8e0152\"],[0.1,\"#c51b7d\"],[0.2,\"#de77ae\"],[0.3,\"#f1b6da\"],[0.4,\"#fde0ef\"],[0.5,\"#f7f7f7\"],[0.6,\"#e6f5d0\"],[0.7,\"#b8e186\"],[0.8,\"#7fbc41\"],[0.9,\"#4d9221\"],[1,\"#276419\"]],\"sequential\":[[0.0,\"#0d0887\"],[0.1111111111111111,\"#46039f\"],[0.2222222222222222,\"#7201a8\"],[0.3333333333333333,\"#9c179e\"],[0.4444444444444444,\"#bd3786\"],[0.5555555555555556,\"#d8576b\"],[0.6666666666666666,\"#ed7953\"],[0.7777777777777778,\"#fb9f3a\"],[0.8888888888888888,\"#fdca26\"],[1.0,\"#f0f921\"]],\"sequentialminus\":[[0.0,\"#0d0887\"],[0.1111111111111111,\"#46039f\"],[0.2222222222222222,\"#7201a8\"],[0.3333333333333333,\"#9c179e\"],[0.4444444444444444,\"#bd3786\"],[0.5555555555555556,\"#d8576b\"],[0.6666666666666666,\"#ed7953\"],[0.7777777777777778,\"#fb9f3a\"],[0.8888888888888888,\"#fdca26\"],[1.0,\"#f0f921\"]]},\"colorway\":[\"#636efa\",\"#EF553B\",\"#00cc96\",\"#ab63fa\",\"#FFA15A\",\"#19d3f3\",\"#FF6692\",\"#B6E880\",\"#FF97FF\",\"#FECB52\"],\"font\":{\"color\":\"#2a3f5f\"},\"geo\":{\"bgcolor\":\"white\",\"lakecolor\":\"white\",\"landcolor\":\"#E5ECF6\",\"showlakes\":true,\"showland\":true,\"subunitcolor\":\"white\"},\"hoverlabel\":{\"align\":\"left\"},\"hovermode\":\"closest\",\"mapbox\":{\"style\":\"light\"},\"paper_bgcolor\":\"white\",\"plot_bgcolor\":\"#E5ECF6\",\"polar\":{\"angularaxis\":{\"gridcolor\":\"white\",\"linecolor\":\"white\",\"ticks\":\"\"},\"bgcolor\":\"#E5ECF6\",\"radialaxis\":{\"gridcolor\":\"white\",\"linecolor\":\"white\",\"ticks\":\"\"}},\"scene\":{\"xaxis\":{\"backgroundcolor\":\"#E5ECF6\",\"gridcolor\":\"white\",\"gridwidth\":2,\"linecolor\":\"white\",\"showbackground\":true,\"ticks\":\"\",\"zerolinecolor\":\"white\"},\"yaxis\":{\"backgroundcolor\":\"#E5ECF6\",\"gridcolor\":\"white\",\"gridwidth\":2,\"linecolor\":\"white\",\"showbackground\":true,\"ticks\":\"\",\"zerolinecolor\":\"white\"},\"zaxis\":{\"backgroundcolor\":\"#E5ECF6\",\"gridcolor\":\"white\",\"gridwidth\":2,\"linecolor\":\"white\",\"showbackground\":true,\"ticks\":\"\",\"zerolinecolor\":\"white\"}},\"shapedefaults\":{\"line\":{\"color\":\"#2a3f5f\"}},\"ternary\":{\"aaxis\":{\"gridcolor\":\"white\",\"linecolor\":\"white\",\"ticks\":\"\"},\"baxis\":{\"gridcolor\":\"white\",\"linecolor\":\"white\",\"ticks\":\"\"},\"bgcolor\":\"#E5ECF6\",\"caxis\":{\"gridcolor\":\"white\",\"linecolor\":\"white\",\"ticks\":\"\"}},\"title\":{\"x\":0.05},\"xaxis\":{\"automargin\":true,\"gridcolor\":\"white\",\"linecolor\":\"white\",\"ticks\":\"\",\"title\":{\"standoff\":15},\"zerolinecolor\":\"white\",\"zerolinewidth\":2},\"yaxis\":{\"automargin\":true,\"gridcolor\":\"white\",\"linecolor\":\"white\",\"ticks\":\"\",\"title\":{\"standoff\":15},\"zerolinecolor\":\"white\",\"zerolinewidth\":2}}},\"title\":{\"text\":\"General\"},\"width\":700,\"height\":700,\"xaxis\":{\"title\":{\"text\":\"\\u03a6\"},\"showline\":true,\"zeroline\":true,\"showgrid\":false,\"range\":[-180,180],\"zerolinewidth\":1,\"zerolinecolor\":\"grey\"},\"yaxis\":{\"title\":{\"text\":\"\\u03a8\"},\"showline\":true,\"zeroline\":true,\"showgrid\":false,\"range\":[-180,180],\"zerolinewidth\":1,\"zerolinecolor\":\"grey\"},\"plot_bgcolor\":\"black\"},                        {\"responsive\": true}                    ).then(function(){\n",
              "                            \n",
              "var gd = document.getElementById('0b658313-803c-49f1-89aa-e927fdc0713b');\n",
              "var x = new MutationObserver(function (mutations, observer) {{\n",
              "        var display = window.getComputedStyle(gd).display;\n",
              "        if (!display || display === 'none') {{\n",
              "            console.log([gd, 'removed!']);\n",
              "            Plotly.purge(gd);\n",
              "            observer.disconnect();\n",
              "        }}\n",
              "}});\n",
              "\n",
              "// Listen for the removal of the full notebook cells\n",
              "var notebookContainer = gd.closest('#notebook-container');\n",
              "if (notebookContainer) {{\n",
              "    x.observe(notebookContainer, {childList: true});\n",
              "}}\n",
              "\n",
              "// Listen for the clearing of the current output cell\n",
              "var outputEl = gd.closest('.output');\n",
              "if (outputEl) {{\n",
              "    x.observe(outputEl, {childList: true});\n",
              "}}\n",
              "\n",
              "                        })                };                            </script>        </div>\n",
              "</body>\n",
              "</html>"
            ]
          },
          "metadata": {}
        }
      ]
    },
    {
      "cell_type": "markdown",
      "source": [
        "# MDAnalysis Rama"
      ],
      "metadata": {
        "id": "uJNERAewdhV2"
      }
    },
    {
      "cell_type": "code",
      "source": [
        "!pip install -q condacolab\n",
        "import condacolab\n",
        "condacolab.install()"
      ],
      "metadata": {
        "colab": {
          "base_uri": "https://localhost:8080/"
        },
        "id": "wX3kq3wWdlEL",
        "outputId": "b88a9119-6a11-4d4f-843a-d6bf9228fabb"
      },
      "execution_count": 1,
      "outputs": [
        {
          "output_type": "stream",
          "name": "stdout",
          "text": [
            "⏬ Downloading https://github.com/jaimergp/miniforge/releases/latest/download/Mambaforge-colab-Linux-x86_64.sh...\n",
            "📦 Installing...\n",
            "📌 Adjusting configuration...\n",
            "🩹 Patching environment...\n",
            "⏲ Done in 0:00:26\n",
            "🔁 Restarting kernel...\n"
          ]
        }
      ]
    },
    {
      "cell_type": "code",
      "source": [
        "!conda install -c conda-forge mdanalysis\n"
      ],
      "metadata": {
        "colab": {
          "base_uri": "https://localhost:8080/"
        },
        "id": "A7gQuZ2eeRrv",
        "outputId": "167a75db-5684-4e47-b637-091f66b363cf"
      },
      "execution_count": 1,
      "outputs": [
        {
          "output_type": "stream",
          "name": "stdout",
          "text": [
            "Collecting package metadata (current_repodata.json): - \b\b\\ \b\b| \b\b/ \b\b- \b\b\\ \b\b| \b\b/ \b\b- \b\b\\ \b\b| \b\b/ \b\b- \b\b\\ \b\b| \b\b/ \b\b- \b\b\\ \b\b| \b\b/ \b\b- \b\b\\ \b\b| \b\b/ \b\b- \b\b\\ \b\b| \b\b/ \b\b- \b\b\\ \b\b| \b\b/ \b\b- \b\b\\ \b\b| \b\b/ \b\b- \b\b\\ \b\b| \b\b/ \b\b- \b\b\\ \b\b| \b\b/ \b\b- \b\b\\ \b\b| \b\b/ \b\b- \b\b\\ \b\b| \b\b/ \b\b- \b\b\\ \b\b| \b\b/ \b\b- \b\b\\ \b\b| \b\b/ \b\b- \b\b\\ \b\b| \b\b/ \b\b- \b\b\\ \b\b| \b\b/ \b\b- \b\b\\ \b\b| \b\b/ \b\b- \b\b\\ \b\b| \b\b/ \b\b- \b\b\\ \b\b| \b\b/ \b\b- \b\b\\ \b\b| \b\b/ \b\b- \b\b\\ \b\bdone\n",
            "Solving environment: / \b\b- \b\b\\ \b\b| \b\b/ \b\b- \b\b\\ \b\b| \b\b/ \b\b- \b\b\\ \b\b| \b\b/ \b\b- \b\b\\ \b\b| \b\b/ \b\b- \b\b\\ \b\b| \b\b/ \b\b- \b\b\\ \b\b| \b\b/ \b\b- \b\b\\ \b\b| \b\b/ \b\b- \b\b\\ \b\b| \b\b/ \b\b- \b\b\\ \b\b| \b\b/ \b\b- \b\b\\ \b\b| \b\b/ \b\b- \b\b\\ \b\b| \b\b/ \b\b- \b\b\\ \b\b| \b\b/ \b\b- \b\b\\ \b\b| \b\b/ \b\b- \b\b\\ \b\b| \b\b/ \b\b- \b\b\\ \b\b| \b\b/ \b\b- \b\b\\ \b\b| \b\b/ \b\b- \b\b\\ \b\b| \b\b/ \b\b- \b\b\\ \b\b| \b\b/ \b\b- \b\b\\ \b\b| \b\b/ \b\b- \b\b\\ \b\b| \b\b/ \b\b- \b\b\\ \b\bdone\n",
            "\n",
            "## Package Plan ##\n",
            "\n",
            "  environment location: /usr/local\n",
            "\n",
            "  added / updated specs:\n",
            "    - mdanalysis\n",
            "\n",
            "\n",
            "The following packages will be downloaded:\n",
            "\n",
            "    package                    |            build\n",
            "    ---------------------------|-----------------\n",
            "    biopython-1.79             |   py37h5e8e339_1         2.6 MB  conda-forge\n",
            "    ca-certificates-2021.10.8  |       ha878542_0         139 KB  conda-forge\n",
            "    certifi-2021.10.8          |   py37h89c1867_1         145 KB  conda-forge\n",
            "    cftime-1.6.0               |   py37h6c7ee08_0         211 KB  conda-forge\n",
            "    conda-4.11.0               |   py37h89c1867_2        16.9 MB  conda-forge\n",
            "    cudatoolkit-11.1.1         |      h6406543_10        1.20 GB  conda-forge\n",
            "    curl-7.78.0                |       h1ccaba5_0          94 KB\n",
            "    cycler-0.11.0              |     pyhd8ed1ab_0          10 KB  conda-forge\n",
            "    freetype-2.10.4            |       h0708190_1         890 KB  conda-forge\n",
            "    griddataformats-0.7.0      |     pyhd8ed1ab_0         2.2 MB  conda-forge\n",
            "    gsd-2.5.1                  |   py37hb1e94ed_0         131 KB  conda-forge\n",
            "    hdf4-4.2.15                |       h10796ff_3         950 KB  conda-forge\n",
            "    hdf5-1.12.1                |nompi_h2750804_100         3.5 MB  conda-forge\n",
            "    joblib-1.1.0               |     pyhd8ed1ab_0         210 KB  conda-forge\n",
            "    jpeg-9e                    |       h7f98852_0         269 KB  conda-forge\n",
            "    keyutils-1.6.1             |       h166bdaf_0         115 KB  conda-forge\n",
            "    kiwisolver-1.3.2           |   py37h2527ec5_1          78 KB  conda-forge\n",
            "    krb5-1.19.2                |       h3790be6_4         1.5 MB  conda-forge\n",
            "    libblas-3.9.0              |13_linux64_openblas          12 KB  conda-forge\n",
            "    libcblas-3.9.0             |13_linux64_openblas          12 KB  conda-forge\n",
            "    libcurl-7.78.0             |       h0b77cf5_0         338 KB\n",
            "    libgcc-ng-11.2.0           |      h1d223b6_13         906 KB  conda-forge\n",
            "    libgfortran-ng-11.2.0      |      h69a702a_13          19 KB  conda-forge\n",
            "    libgfortran5-11.2.0        |      h5c6108e_13         1.7 MB  conda-forge\n",
            "    libgomp-11.2.0             |      h1d223b6_13         428 KB  conda-forge\n",
            "    liblapack-3.9.0            |13_linux64_openblas          12 KB  conda-forge\n",
            "    libnetcdf-4.8.1            |nompi_hb3fd0d9_101         1.5 MB  conda-forge\n",
            "    libopenblas-0.3.18         |pthreads_h8fe5266_0         9.6 MB  conda-forge\n",
            "    libpng-1.6.37              |       h21135ba_2         306 KB  conda-forge\n",
            "    libstdcxx-ng-11.2.0        |      he4da1e4_13         4.2 MB  conda-forge\n",
            "    libtiff-4.0.10             |    hc3755c2_1005         602 KB  conda-forge\n",
            "    libzip-1.8.0               |       h4de3113_1         126 KB  conda-forge\n",
            "    matplotlib-base-3.4.3      |   py37h1058ff1_0         7.2 MB  conda-forge\n",
            "    mdanalysis-2.1.0           |   py37hd23a5d3_0         2.1 MB  conda-forge\n",
            "    mmtf-python-1.1.2          |             py_0          21 KB  conda-forge\n",
            "    mrcfile-1.3.0              |     pyh44b312d_0          32 KB  conda-forge\n",
            "    msgpack-python-1.0.3       |   py37h2527ec5_0          91 KB  conda-forge\n",
            "    netcdf4-1.5.8              |nompi_py37hf784469_101         525 KB  conda-forge\n",
            "    networkx-2.7.1             |     pyhd8ed1ab_0         1.5 MB  conda-forge\n",
            "    numpy-1.21.5               |   py37hf2998dd_0         6.1 MB  conda-forge\n",
            "    olefile-0.46               |     pyh9f0ad1d_1          32 KB  conda-forge\n",
            "    openssl-1.1.1l             |       h7f98852_0         2.1 MB  conda-forge\n",
            "    packaging-21.3             |     pyhd8ed1ab_0          36 KB  conda-forge\n",
            "    pandas-1.3.5               |   py37he8f5f7f_0        12.7 MB  conda-forge\n",
            "    patsy-0.5.2                |     pyhd8ed1ab_0         188 KB  conda-forge\n",
            "    pillow-6.2.1               |   py37h6b7be26_0         637 KB  conda-forge\n",
            "    pyparsing-3.0.7            |     pyhd8ed1ab_0          79 KB  conda-forge\n",
            "    python-dateutil-2.8.2      |     pyhd8ed1ab_0         240 KB  conda-forge\n",
            "    python_abi-3.7             |          2_cp37m           4 KB  conda-forge\n",
            "    pytz-2021.3                |     pyhd8ed1ab_0         242 KB  conda-forge\n",
            "    scikit-learn-1.0.2         |   py37hf9e9bfc_0         7.8 MB  conda-forge\n",
            "    scipy-1.7.3                |   py37hf2a6cf1_0        21.8 MB  conda-forge\n",
            "    seaborn-0.11.2             |       hd8ed1ab_0           4 KB  conda-forge\n",
            "    seaborn-base-0.11.2        |     pyhd8ed1ab_0         223 KB  conda-forge\n",
            "    statsmodels-0.13.2         |   py37hb1e94ed_0        11.4 MB  conda-forge\n",
            "    threadpoolctl-3.1.0        |     pyh8a188c0_0          18 KB  conda-forge\n",
            "    tornado-6.1                |   py37h5e8e339_2         642 KB  conda-forge\n",
            "    ------------------------------------------------------------\n",
            "                                           Total:        1.33 GB\n",
            "\n",
            "The following NEW packages will be INSTALLED:\n",
            "\n",
            "  biopython          conda-forge/linux-64::biopython-1.79-py37h5e8e339_1\n",
            "  cftime             conda-forge/linux-64::cftime-1.6.0-py37h6c7ee08_0\n",
            "  cudatoolkit        conda-forge/linux-64::cudatoolkit-11.1.1-h6406543_10\n",
            "  curl               pkgs/main/linux-64::curl-7.78.0-h1ccaba5_0\n",
            "  cycler             conda-forge/noarch::cycler-0.11.0-pyhd8ed1ab_0\n",
            "  freetype           conda-forge/linux-64::freetype-2.10.4-h0708190_1\n",
            "  griddataformats    conda-forge/noarch::griddataformats-0.7.0-pyhd8ed1ab_0\n",
            "  gsd                conda-forge/linux-64::gsd-2.5.1-py37hb1e94ed_0\n",
            "  hdf4               conda-forge/linux-64::hdf4-4.2.15-h10796ff_3\n",
            "  hdf5               conda-forge/linux-64::hdf5-1.12.1-nompi_h2750804_100\n",
            "  joblib             conda-forge/noarch::joblib-1.1.0-pyhd8ed1ab_0\n",
            "  jpeg               conda-forge/linux-64::jpeg-9e-h7f98852_0\n",
            "  keyutils           conda-forge/linux-64::keyutils-1.6.1-h166bdaf_0\n",
            "  kiwisolver         conda-forge/linux-64::kiwisolver-1.3.2-py37h2527ec5_1\n",
            "  libblas            conda-forge/linux-64::libblas-3.9.0-13_linux64_openblas\n",
            "  libcblas           conda-forge/linux-64::libcblas-3.9.0-13_linux64_openblas\n",
            "  libgfortran-ng     conda-forge/linux-64::libgfortran-ng-11.2.0-h69a702a_13\n",
            "  libgfortran5       conda-forge/linux-64::libgfortran5-11.2.0-h5c6108e_13\n",
            "  liblapack          conda-forge/linux-64::liblapack-3.9.0-13_linux64_openblas\n",
            "  libnetcdf          conda-forge/linux-64::libnetcdf-4.8.1-nompi_hb3fd0d9_101\n",
            "  libopenblas        conda-forge/linux-64::libopenblas-0.3.18-pthreads_h8fe5266_0\n",
            "  libpng             conda-forge/linux-64::libpng-1.6.37-h21135ba_2\n",
            "  libtiff            conda-forge/linux-64::libtiff-4.0.10-hc3755c2_1005\n",
            "  libzip             conda-forge/linux-64::libzip-1.8.0-h4de3113_1\n",
            "  matplotlib-base    conda-forge/linux-64::matplotlib-base-3.4.3-py37h1058ff1_0\n",
            "  mdanalysis         conda-forge/linux-64::mdanalysis-2.1.0-py37hd23a5d3_0\n",
            "  mmtf-python        conda-forge/noarch::mmtf-python-1.1.2-py_0\n",
            "  mrcfile            conda-forge/noarch::mrcfile-1.3.0-pyh44b312d_0\n",
            "  msgpack-python     conda-forge/linux-64::msgpack-python-1.0.3-py37h2527ec5_0\n",
            "  netcdf4            conda-forge/linux-64::netcdf4-1.5.8-nompi_py37hf784469_101\n",
            "  networkx           conda-forge/noarch::networkx-2.7.1-pyhd8ed1ab_0\n",
            "  numpy              conda-forge/linux-64::numpy-1.21.5-py37hf2998dd_0\n",
            "  olefile            conda-forge/noarch::olefile-0.46-pyh9f0ad1d_1\n",
            "  packaging          conda-forge/noarch::packaging-21.3-pyhd8ed1ab_0\n",
            "  pandas             conda-forge/linux-64::pandas-1.3.5-py37he8f5f7f_0\n",
            "  patsy              conda-forge/noarch::patsy-0.5.2-pyhd8ed1ab_0\n",
            "  pillow             conda-forge/linux-64::pillow-6.2.1-py37h6b7be26_0\n",
            "  pyparsing          conda-forge/noarch::pyparsing-3.0.7-pyhd8ed1ab_0\n",
            "  python-dateutil    conda-forge/noarch::python-dateutil-2.8.2-pyhd8ed1ab_0\n",
            "  pytz               conda-forge/noarch::pytz-2021.3-pyhd8ed1ab_0\n",
            "  scikit-learn       conda-forge/linux-64::scikit-learn-1.0.2-py37hf9e9bfc_0\n",
            "  scipy              conda-forge/linux-64::scipy-1.7.3-py37hf2a6cf1_0\n",
            "  seaborn            conda-forge/noarch::seaborn-0.11.2-hd8ed1ab_0\n",
            "  seaborn-base       conda-forge/noarch::seaborn-base-0.11.2-pyhd8ed1ab_0\n",
            "  statsmodels        conda-forge/linux-64::statsmodels-0.13.2-py37hb1e94ed_0\n",
            "  threadpoolctl      conda-forge/noarch::threadpoolctl-3.1.0-pyh8a188c0_0\n",
            "  tornado            conda-forge/linux-64::tornado-6.1-py37h5e8e339_2\n",
            "\n",
            "The following packages will be UPDATED:\n",
            "\n",
            "  ca-certificates                      2020.12.5-ha878542_0 --> 2021.10.8-ha878542_0\n",
            "  certifi                          2020.12.5-py37h89c1867_1 --> 2021.10.8-py37h89c1867_1\n",
            "  conda                                4.9.2-py37h89c1867_0 --> 4.11.0-py37h89c1867_2\n",
            "  krb5                                    1.17.2-h926e7f8_0 --> 1.19.2-h3790be6_4\n",
            "  libcurl            conda-forge::libcurl-7.75.0-hc4aaa36_0 --> pkgs/main::libcurl-7.78.0-h0b77cf5_0\n",
            "  libgcc-ng                               9.3.0-h2828fa1_18 --> 11.2.0-h1d223b6_13\n",
            "  libgomp                                 9.3.0-h2828fa1_18 --> 11.2.0-h1d223b6_13\n",
            "  libstdcxx-ng                            9.3.0-h6de172a_18 --> 11.2.0-he4da1e4_13\n",
            "  openssl                                 1.1.1j-h7f98852_0 --> 1.1.1l-h7f98852_0\n",
            "  python_abi                                    3.7-1_cp37m --> 3.7-2_cp37m\n",
            "\n",
            "\n",
            "\n",
            "Downloading and Extracting Packages\n",
            "python-dateutil-2.8. | 240 KB    | : 100% 1.0/1 [00:00<00:00,  8.93it/s]\n",
            "tornado-6.1          | 642 KB    | : 100% 1.0/1 [00:00<00:00,  5.34it/s]\n",
            "griddataformats-0.7. | 2.2 MB    | : 100% 1.0/1 [00:00<00:00,  3.80it/s]\n",
            "networkx-2.7.1       | 1.5 MB    | : 100% 1.0/1 [00:00<00:00,  2.91it/s]\n",
            "freetype-2.10.4      | 890 KB    | : 100% 1.0/1 [00:00<00:00,  5.46it/s]\n",
            "hdf5-1.12.1          | 3.5 MB    | : 100% 1.0/1 [00:00<00:00,  1.95it/s]\n",
            "hdf4-4.2.15          | 950 KB    | : 100% 1.0/1 [00:00<00:00,  5.76it/s]\n",
            "libcurl-7.78.0       | 338 KB    | : 100% 1.0/1 [00:00<00:00,  4.54it/s]                \n",
            "cftime-1.6.0         | 211 KB    | : 100% 1.0/1 [00:00<00:00, 15.95it/s]\n",
            "mrcfile-1.3.0        | 32 KB     | : 100% 1.0/1 [00:00<00:00, 18.57it/s]\n",
            "kiwisolver-1.3.2     | 78 KB     | : 100% 1.0/1 [00:00<00:00, 23.29it/s]\n",
            "pandas-1.3.5         | 12.7 MB   | : 100% 1.0/1 [00:02<00:00,  2.58s/it]\n",
            "matplotlib-base-3.4. | 7.2 MB    | : 100% 1.0/1 [00:01<00:00,  1.08s/it]\n",
            "libcblas-3.9.0       | 12 KB     | : 100% 1.0/1 [00:00<00:00, 25.98it/s]\n",
            "cycler-0.11.0        | 10 KB     | : 100% 1.0/1 [00:00<00:00, 27.99it/s]\n",
            "olefile-0.46         | 32 KB     | : 100% 1.0/1 [00:00<00:00, 23.96it/s]\n",
            "seaborn-base-0.11.2  | 223 KB    | : 100% 1.0/1 [00:00<00:00,  9.59it/s]\n",
            "libblas-3.9.0        | 12 KB     | : 100% 1.0/1 [00:00<00:00, 24.46it/s]\n",
            "libstdcxx-ng-11.2.0  | 4.2 MB    | : 100% 1.0/1 [00:00<00:00,  1.54it/s]\n",
            "jpeg-9e              | 269 KB    | : 100% 1.0/1 [00:00<00:00, 13.35it/s]\n",
            "scipy-1.7.3          | 21.8 MB   | : 100% 1.0/1 [00:03<00:00,  3.27s/it]\n",
            "msgpack-python-1.0.3 | 91 KB     | : 100% 1.0/1 [00:00<00:00, 20.00it/s]\n",
            "mdanalysis-2.1.0     | 2.1 MB    | : 100% 1.0/1 [00:00<00:00,  1.25it/s]\n",
            "krb5-1.19.2          | 1.5 MB    | : 100% 1.0/1 [00:00<00:00,  4.15it/s]\n",
            "libgomp-11.2.0       | 428 KB    | : 100% 1.0/1 [00:00<00:00, 10.52it/s]\n",
            "liblapack-3.9.0      | 12 KB     | : 100% 1.0/1 [00:00<00:00, 29.13it/s]\n",
            "ca-certificates-2021 | 139 KB    | : 100% 1.0/1 [00:00<00:00, 21.74it/s]\n",
            "mmtf-python-1.1.2    | 21 KB     | : 100% 1.0/1 [00:00<00:00, 25.78it/s]\n",
            "pillow-6.2.1         | 637 KB    | : 100% 1.0/1 [00:00<00:00,  7.33it/s]\n",
            "libtiff-4.0.10       | 602 KB    | : 100% 1.0/1 [00:00<00:00,  7.37it/s]\n",
            "pytz-2021.3          | 242 KB    | : 100% 1.0/1 [00:00<00:00,  9.08it/s]\n",
            "patsy-0.5.2          | 188 KB    | : 100% 1.0/1 [00:00<00:00, 14.96it/s]\n",
            "joblib-1.1.0         | 210 KB    | : 100% 1.0/1 [00:00<00:00, 13.33it/s]\n",
            "python_abi-3.7       | 4 KB      | : 100% 1.0/1 [00:00<00:00, 22.07it/s]\n",
            "numpy-1.21.5         | 6.1 MB    | : 100% 1.0/1 [00:01<00:00,  1.19s/it]\n",
            "cudatoolkit-11.1.1   | 1.20 GB   | : 100% 1.0/1 [02:21<00:00, 141.38s/it]              \n",
            "certifi-2021.10.8    | 145 KB    | : 100% 1.0/1 [00:00<00:00, 14.43it/s]\n",
            "curl-7.78.0          | 94 KB     | : 100% 1.0/1 [00:00<00:00,  4.05it/s]                \n",
            "libgcc-ng-11.2.0     | 906 KB    | : 100% 1.0/1 [00:00<00:00,  5.46it/s]\n",
            "libpng-1.6.37        | 306 KB    | : 100% 1.0/1 [00:00<00:00, 12.05it/s]\n",
            "libgfortran5-11.2.0  | 1.7 MB    | : 100% 1.0/1 [00:00<00:00,  3.23it/s]\n",
            "libopenblas-0.3.18   | 9.6 MB    | : 100% 1.0/1 [00:01<00:00,  1.52s/it]\n",
            "libzip-1.8.0         | 126 KB    | : 100% 1.0/1 [00:00<00:00, 14.14it/s]\n",
            "biopython-1.79       | 2.6 MB    | : 100% 1.0/1 [00:00<00:00,  1.59it/s]\n",
            "statsmodels-0.13.2   | 11.4 MB   | : 100% 1.0/1 [00:01<00:00,  1.99s/it]               \n",
            "seaborn-0.11.2       | 4 KB      | : 100% 1.0/1 [00:00<00:00, 26.98it/s]\n",
            "libgfortran-ng-11.2. | 19 KB     | : 100% 1.0/1 [00:00<00:00, 29.43it/s]\n",
            "openssl-1.1.1l       | 2.1 MB    | : 100% 1.0/1 [00:00<00:00,  3.62it/s]\n",
            "libnetcdf-4.8.1      | 1.5 MB    | : 100% 1.0/1 [00:00<00:00,  4.47it/s]\n",
            "conda-4.11.0         | 16.9 MB   | : 100% 1.0/1 [00:04<00:00,  4.04s/it]\n",
            "keyutils-1.6.1       | 115 KB    | : 100% 1.0/1 [00:00<00:00, 19.99it/s]\n",
            "scikit-learn-1.0.2   | 7.8 MB    | : 100% 1.0/1 [00:01<00:00,  1.41s/it]\n",
            "pyparsing-3.0.7      | 79 KB     | : 100% 1.0/1 [00:00<00:00, 22.39it/s]\n",
            "packaging-21.3       | 36 KB     | : 100% 1.0/1 [00:00<00:00, 29.74it/s]\n",
            "gsd-2.5.1            | 131 KB    | : 100% 1.0/1 [00:00<00:00, 17.49it/s]\n",
            "netcdf4-1.5.8        | 525 KB    | : 100% 1.0/1 [00:00<00:00,  9.31it/s]\n",
            "threadpoolctl-3.1.0  | 18 KB     | : 100% 1.0/1 [00:00<00:00, 18.10it/s]\n",
            "Preparing transaction: / \b\b- \b\b\\ \b\b| \b\b/ \b\bdone\n",
            "Verifying transaction: \\ \b\b| \b\b/ \b\b- \b\b\\ \b\b| \b\b/ \b\b- \b\b\\ \b\b| \b\b/ \b\b- \b\b\\ \b\b| \b\b/ \b\bdone\n",
            "Executing transaction: \\ \b\b| \b\b/ \b\b- \b\b\\ \b\b| \b\b/ \b\b- \b\b\\ \b\b| \b\b/ By downloading and using the CUDA Toolkit conda packages, you accept the terms and conditions of the CUDA End User License Agreement (EULA): https://docs.nvidia.com/cuda/eula/index.html\n",
            "\n",
            "\b\b- \b\b\\ \b\b| \b\b/ \b\b- \b\b\\ \b\b| \b\b/ \b\b- \b\b\\ \b\b| \b\b/ \b\b- \b\b\\ \b\b| \b\b/ \b\b- \b\b\\ \b\b| \b\bdone\n"
          ]
        }
      ]
    },
    {
      "cell_type": "code",
      "source": [
        "import MDAnalysis as mda\n",
        "from MDAnalysis.analysis.dihedrals import Dihedral\n",
        "from MDAnalysis.analysis.dihedrals import Ramachandran\n",
        "print(mda.__version__)"
      ],
      "metadata": {
        "colab": {
          "base_uri": "https://localhost:8080/"
        },
        "id": "49GnDYSxegVx",
        "outputId": "6777195e-04d7-4c42-fb7d-552c17a694c1"
      },
      "execution_count": 7,
      "outputs": [
        {
          "output_type": "stream",
          "name": "stdout",
          "text": [
            "2.1.0\n"
          ]
        }
      ]
    },
    {
      "cell_type": "code",
      "source": [
        "psf = mda.Universe(\"/content/drive/MyDrive/adk.psf\")\n"
      ],
      "metadata": {
        "colab": {
          "base_uri": "https://localhost:8080/"
        },
        "id": "ZZTRivn5f3xj",
        "outputId": "8fa6aacd-ebd7-4b1b-d0ac-c0fc2478f945"
      },
      "execution_count": 8,
      "outputs": [
        {
          "output_type": "stream",
          "name": "stderr",
          "text": [
            "/usr/local/lib/python3.7/site-packages/MDAnalysis/core/universe.py:148: UserWarning: No coordinate reader found for /content/drive/MyDrive/adk.psf. Skipping this file.\n",
            "  'this file.'.format(filename))\n"
          ]
        }
      ]
    },
    {
      "cell_type": "code",
      "source": [
        "print(psf)"
      ],
      "metadata": {
        "colab": {
          "base_uri": "https://localhost:8080/"
        },
        "id": "pG5qZLuVgJ8S",
        "outputId": "76358fd9-b0c5-4102-ebb9-71bc6d0b2f5d"
      },
      "execution_count": 9,
      "outputs": [
        {
          "output_type": "stream",
          "name": "stdout",
          "text": [
            "<Universe with 3341 atoms>\n"
          ]
        }
      ]
    },
    {
      "cell_type": "code",
      "source": [
        "u = mda.Universe(\"/content/drive/MyDrive/adk.psf\", \"/content/drive/MyDrive/adk_dims.dcd\")\n",
        "print(u)\n",
        "print(len(u.trajectory))"
      ],
      "metadata": {
        "colab": {
          "base_uri": "https://localhost:8080/"
        },
        "id": "1m4lu06OgniA",
        "outputId": "8bebde8a-3d5d-4fe6-b890-7048c7021799"
      },
      "execution_count": 10,
      "outputs": [
        {
          "output_type": "stream",
          "name": "stdout",
          "text": [
            "<Universe with 3341 atoms>\n",
            "98\n"
          ]
        }
      ]
    },
    {
      "cell_type": "code",
      "source": [
        "u.atoms"
      ],
      "metadata": {
        "colab": {
          "base_uri": "https://localhost:8080/"
        },
        "id": "Iyo4STyLg6DN",
        "outputId": "74d31343-d4db-4e8a-9e8b-aaff2c225344"
      },
      "execution_count": 11,
      "outputs": [
        {
          "output_type": "execute_result",
          "data": {
            "text/plain": [
              "<AtomGroup with 3341 atoms>"
            ]
          },
          "metadata": {},
          "execution_count": 11
        }
      ]
    },
    {
      "cell_type": "code",
      "source": [
        "protein = u.select_atoms('protein')\n",
        "print('There are {} residues in the protein'.format(len(protein.residues)))"
      ],
      "metadata": {
        "colab": {
          "base_uri": "https://localhost:8080/"
        },
        "id": "H9OYcakbhhPd",
        "outputId": "11f971bb-af4c-4ef9-cb49-e2da1c022808"
      },
      "execution_count": 12,
      "outputs": [
        {
          "output_type": "stream",
          "name": "stdout",
          "text": [
            "There are 214 residues in the protein\n"
          ]
        }
      ]
    },
    {
      "cell_type": "code",
      "source": [
        "omegas = [res.omega_selection() for res in protein.residues[5:10]]\n",
        "omegas[0].dihedral.value()"
      ],
      "metadata": {
        "colab": {
          "base_uri": "https://localhost:8080/"
        },
        "id": "iTrsTAHAhzHz",
        "outputId": "e43ca038-a7f5-42ee-f897-403af6fb2a8a"
      },
      "execution_count": 20,
      "outputs": [
        {
          "output_type": "execute_result",
          "data": {
            "text/plain": [
              "173.3997779543986"
            ]
          },
          "metadata": {},
          "execution_count": 20
        }
      ]
    },
    {
      "cell_type": "code",
      "source": [
        "r = Ramachandran(u.select_atoms(\"protein\"), check_protein=False).run()\n",
        "\n"
      ],
      "metadata": {
        "colab": {
          "base_uri": "https://localhost:8080/"
        },
        "id": "nUlZeVrnjMYp",
        "outputId": "428622be-ddac-48c0-a21e-ff8935aa7a20"
      },
      "execution_count": 13,
      "outputs": [
        {
          "output_type": "stream",
          "name": "stderr",
          "text": [
            "/usr/local/lib/python3.7/site-packages/MDAnalysis/analysis/dihedrals.py:432: UserWarning: Some residues in selection do not have phi or psi selections\n",
            "  warnings.warn(\"Some residues in selection do not have \"\n"
          ]
        }
      ]
    },
    {
      "cell_type": "code",
      "source": [
        "from MDAnalysis.analysis.base import Results\n",
        "print(r.results.angles)"
      ],
      "metadata": {
        "colab": {
          "base_uri": "https://localhost:8080/"
        },
        "id": "aqXG8s8-oNh2",
        "outputId": "1c21e8fb-b190-4909-dc3d-ab13855e9e60"
      },
      "execution_count": 14,
      "outputs": [
        {
          "output_type": "stream",
          "name": "stdout",
          "text": [
            "[[[-103.52371989  129.97374003]\n",
            "  [-127.41345798  131.99797348]\n",
            "  [-101.22956631  139.01118182]\n",
            "  ...\n",
            "  [ -55.36503514  -46.15269629]\n",
            "  [ -68.3059521   -35.93160727]\n",
            "  [ -82.39446913  -68.29687375]]\n",
            "\n",
            " [[-101.140083    131.28320079]\n",
            "  [-127.2286263   123.36634508]\n",
            "  [-100.42295089  127.41342403]\n",
            "  ...\n",
            "  [ -56.43926858  -30.62061947]\n",
            "  [ -81.92597937  -50.77547138]\n",
            "  [ -74.45797863  -48.7247066 ]]\n",
            "\n",
            " [[-126.99922311  128.83294423]\n",
            "  [-142.70339861  143.46664769]\n",
            "  [-118.95378056  135.49073127]\n",
            "  ...\n",
            "  [ -58.34101648  -40.24845627]\n",
            "  [ -76.22335305  -29.31211749]\n",
            "  [ -92.49748988  -64.32427808]]\n",
            "\n",
            " ...\n",
            "\n",
            " [[-113.25037947  119.10505256]\n",
            "  [-132.55558424  150.21343736]\n",
            "  [-123.87515567  121.58839284]\n",
            "  ...\n",
            "  [ -36.70180796  -51.55572685]\n",
            "  [ -86.72845962  -41.94075971]\n",
            "  [ -72.32358177  -61.95805576]]\n",
            "\n",
            " [[-115.72918245  116.15395114]\n",
            "  [-130.93826539  150.16488768]\n",
            "  [-102.37344624  126.15339438]\n",
            "  ...\n",
            "  [ -64.45133991  -43.64728993]\n",
            "  [ -82.69954916  -41.38594851]\n",
            "  [ -74.26600997  -56.35007236]]\n",
            "\n",
            " [[-109.08716935  108.39676645]\n",
            "  [-127.43751394  138.53621822]\n",
            "  [-103.67657149  135.08003929]\n",
            "  ...\n",
            "  [ -59.58018108  -34.51203395]\n",
            "  [ -99.87124287  -39.7481172 ]\n",
            "  [ -80.79789882  -52.825396  ]]]\n"
          ]
        }
      ]
    },
    {
      "cell_type": "code",
      "source": [
        "import pandas as pd \n",
        "import numpy as np\n",
        "\n",
        "# pd.DataFrame(r.results.angles)\n",
        "\n",
        "df = r.results.angles\n",
        "\n",
        "print(df)\n",
        "print(type(df))"
      ],
      "metadata": {
        "colab": {
          "base_uri": "https://localhost:8080/"
        },
        "id": "D-Rma6ErsAu-",
        "outputId": "d0dd0e17-dfbd-45a4-8cf8-39439f9d9bf3"
      },
      "execution_count": 8,
      "outputs": [
        {
          "output_type": "stream",
          "name": "stdout",
          "text": [
            "[[[-103.52371989  129.97374003]\n",
            "  [-127.41345798  131.99797348]\n",
            "  [-101.22956631  139.01118182]\n",
            "  ...\n",
            "  [ -55.36503514  -46.15269629]\n",
            "  [ -68.3059521   -35.93160727]\n",
            "  [ -82.39446913  -68.29687375]]\n",
            "\n",
            " [[-101.140083    131.28320079]\n",
            "  [-127.2286263   123.36634508]\n",
            "  [-100.42295089  127.41342403]\n",
            "  ...\n",
            "  [ -56.43926858  -30.62061947]\n",
            "  [ -81.92597937  -50.77547138]\n",
            "  [ -74.45797863  -48.7247066 ]]\n",
            "\n",
            " [[-126.99922311  128.83294423]\n",
            "  [-142.70339861  143.46664769]\n",
            "  [-118.95378056  135.49073127]\n",
            "  ...\n",
            "  [ -58.34101648  -40.24845627]\n",
            "  [ -76.22335305  -29.31211749]\n",
            "  [ -92.49748988  -64.32427808]]\n",
            "\n",
            " ...\n",
            "\n",
            " [[-113.25037947  119.10505256]\n",
            "  [-132.55558424  150.21343736]\n",
            "  [-123.87515567  121.58839284]\n",
            "  ...\n",
            "  [ -36.70180796  -51.55572685]\n",
            "  [ -86.72845962  -41.94075971]\n",
            "  [ -72.32358177  -61.95805576]]\n",
            "\n",
            " [[-115.72918245  116.15395114]\n",
            "  [-130.93826539  150.16488768]\n",
            "  [-102.37344624  126.15339438]\n",
            "  ...\n",
            "  [ -64.45133991  -43.64728993]\n",
            "  [ -82.69954916  -41.38594851]\n",
            "  [ -74.26600997  -56.35007236]]\n",
            "\n",
            " [[-109.08716935  108.39676645]\n",
            "  [-127.43751394  138.53621822]\n",
            "  [-103.67657149  135.08003929]\n",
            "  ...\n",
            "  [ -59.58018108  -34.51203395]\n",
            "  [ -99.87124287  -39.7481172 ]\n",
            "  [ -80.79789882  -52.825396  ]]]\n",
            "<class 'numpy.ndarray'>\n"
          ]
        }
      ]
    },
    {
      "cell_type": "markdown",
      "source": [
        "`n_frames×n_residues×2` `numpy.ndarray` with content `[[[phi, psi], [residue 2], ...], [time step 2], ...]`."
      ],
      "metadata": {
        "id": "g479Wn6N6gVs"
      }
    },
    {
      "cell_type": "code",
      "source": [
        "x3 = r.results.angles\n",
        "print(\"x3 ndim: \", x3.ndim)\n",
        "print(\"x3 shape:\", x3.shape)\n",
        "print(\"x3 size: \", x3.size)\n",
        "# only 212 amino acids because first and last do not have \n",
        "# both phi and psi angles"
      ],
      "metadata": {
        "colab": {
          "base_uri": "https://localhost:8080/"
        },
        "id": "PvTNOjAAA4SZ",
        "outputId": "37054be6-fcce-4600-ef93-c6788f926bbb"
      },
      "execution_count": 15,
      "outputs": [
        {
          "output_type": "stream",
          "name": "stdout",
          "text": [
            "x3 ndim:  3\n",
            "x3 shape: (98, 212, 2)\n",
            "x3 size:  41552\n"
          ]
        }
      ]
    },
    {
      "cell_type": "code",
      "source": [
        "print(\"x3 T:\", x3.T)"
      ],
      "metadata": {
        "colab": {
          "base_uri": "https://localhost:8080/"
        },
        "id": "nPBwbbcq9q4L",
        "outputId": "6ddd6676-69f9-493d-f9fb-58d4b6510333"
      },
      "execution_count": 14,
      "outputs": [
        {
          "output_type": "stream",
          "name": "stdout",
          "text": [
            "x3 T: [[[-103.52371989 -101.140083   -126.99922311 ... -113.25037947\n",
            "   -115.72918245 -109.08716935]\n",
            "  [-127.41345798 -127.2286263  -142.70339861 ... -132.55558424\n",
            "   -130.93826539 -127.43751394]\n",
            "  [-101.22956631 -100.42295089 -118.95378056 ... -123.87515567\n",
            "   -102.37344624 -103.67657149]\n",
            "  ...\n",
            "  [ -55.36503514  -56.43926858  -58.34101648 ...  -36.70180796\n",
            "    -64.45133991  -59.58018108]\n",
            "  [ -68.3059521   -81.92597937  -76.22335305 ...  -86.72845962\n",
            "    -82.69954916  -99.87124287]\n",
            "  [ -82.39446913  -74.45797863  -92.49748988 ...  -72.32358177\n",
            "    -74.26600997  -80.79789882]]\n",
            "\n",
            " [[ 129.97374003  131.28320079  128.83294423 ...  119.10505256\n",
            "    116.15395114  108.39676645]\n",
            "  [ 131.99797348  123.36634508  143.46664769 ...  150.21343736\n",
            "    150.16488768  138.53621822]\n",
            "  [ 139.01118182  127.41342403  135.49073127 ...  121.58839284\n",
            "    126.15339438  135.08003929]\n",
            "  ...\n",
            "  [ -46.15269629  -30.62061947  -40.24845627 ...  -51.55572685\n",
            "    -43.64728993  -34.51203395]\n",
            "  [ -35.93160727  -50.77547138  -29.31211749 ...  -41.94075971\n",
            "    -41.38594851  -39.7481172 ]\n",
            "  [ -68.29687375  -48.7247066   -64.32427808 ...  -61.95805576\n",
            "    -56.35007236  -52.825396  ]]]\n"
          ]
        }
      ]
    },
    {
      "cell_type": "code",
      "source": [
        "# Defined x3 as the numpy.ndarray of r.results.angles \n",
        "# There are 19 time points, 212 amino acids, 2 values (phi and psi)\n",
        "# Let's look at the first time point, first amino acid, second angle (psi)\n",
        "print(x3[0,0,1])"
      ],
      "metadata": {
        "colab": {
          "base_uri": "https://localhost:8080/"
        },
        "id": "9y5a6ewlB3dl",
        "outputId": "cc1f2bfd-2c84-4f04-ff5c-7bd112461c77"
      },
      "execution_count": 97,
      "outputs": [
        {
          "output_type": "stream",
          "name": "stdout",
          "text": [
            "131.2832007895829\n"
          ]
        }
      ]
    },
    {
      "cell_type": "code",
      "source": [
        "# x3[:first time point, :first amino acid, :two values (both phi and psi)]\n",
        "\n",
        "print(x3[:1, :1, :2])"
      ],
      "metadata": {
        "colab": {
          "base_uri": "https://localhost:8080/"
        },
        "id": "uRt4zxmVEkyP",
        "outputId": "ac01714d-1e68-4268-a96b-5bb86927d5ce"
      },
      "execution_count": 10,
      "outputs": [
        {
          "output_type": "stream",
          "name": "stdout",
          "text": [
            "[[[-103.52371989  129.97374003]]]\n"
          ]
        }
      ]
    },
    {
      "cell_type": "code",
      "source": [
        "# x3[:first 3 time points, :first 2 amino acids, :two values (both phi and psi)]\n",
        "\n",
        "print(x3[:3, :2, :2])"
      ],
      "metadata": {
        "colab": {
          "base_uri": "https://localhost:8080/"
        },
        "outputId": "ae673016-9a41-45cb-aff7-ea3a87247d22",
        "id": "ie91g6dY5awl"
      },
      "execution_count": 13,
      "outputs": [
        {
          "output_type": "stream",
          "name": "stdout",
          "text": [
            "[[[-103.52371989  129.97374003]\n",
            "  [-127.41345798  131.99797348]]\n",
            "\n",
            " [[-101.140083    131.28320079]\n",
            "  [-127.2286263   123.36634508]]\n",
            "\n",
            " [[-126.99922311  128.83294423]\n",
            "  [-142.70339861  143.46664769]]]\n"
          ]
        }
      ]
    },
    {
      "cell_type": "code",
      "source": [
        "y=output[:,0] , y=output[:,1], y=output[:,2]"
      ],
      "metadata": {
        "id": "pdKAxZnw4Mrw"
      },
      "execution_count": null,
      "outputs": []
    },
    {
      "cell_type": "code",
      "source": [
        "import plotly.express as px\n",
        "df2 = px.data.gapminder()\n",
        "print(df2)"
      ],
      "metadata": {
        "id": "XL2oEfOVw0Tm"
      },
      "execution_count": null,
      "outputs": []
    },
    {
      "cell_type": "code",
      "source": [
        "# just a test\n",
        "# abridged_data = {'wandered': [[2005, 5.807135648994622e-06], [2006, 5.7273128507756315e-06], [2007, 6.7032709205293806e-06], [2008, 8.777680961941695e-06]], 'airport': [[2007, 1.0841708003745173e-05], [2008, 8.89465511574262e-06]], 'request': [[2005, 4.479519997292191e-05], [2006, 4.427159014360846e-05], [2007, 4.3048248627066294e-05], [2008, 4.081853901820637e-05]]}\n",
        "# for key,value in abridged_data.items():\n",
        "#     x = value[:,0]\n",
        "#     y = value[:,1]\n",
        "#     plt.plot(x,y,label=key)\n",
        "# plt.show()"
      ],
      "metadata": {
        "id": "Gr15WH--3Wcr"
      },
      "execution_count": null,
      "outputs": []
    }
  ]
}