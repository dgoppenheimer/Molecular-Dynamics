{
  "nbformat": 4,
  "nbformat_minor": 0,
  "metadata": {
    "colab": {
      "name": "Lab01-intro-jupyter.ipynb",
      "provenance": [],
      "collapsed_sections": [],
      "mount_file_id": "1H8Wu_bgAB7-8rgOd_Lsp9JctpEpVhj4k",
      "authorship_tag": "ABX9TyNEgqa/0aHd6Ttl9AXdkInT",
      "include_colab_link": true
    },
    "kernelspec": {
      "name": "python3",
      "display_name": "Python 3"
    },
    "language_info": {
      "name": "python"
    }
  },
  "cells": [
    {
      "cell_type": "markdown",
      "metadata": {
        "id": "view-in-github",
        "colab_type": "text"
      },
      "source": [
        "<a href=\"https://colab.research.google.com/github/dgoppenheimer/Molecular-Dynamics/blob/main/Lab01_intro_jupyter.ipynb\" target=\"_parent\"><img src=\"https://colab.research.google.com/assets/colab-badge.svg\" alt=\"Open In Colab\"/></a>"
      ]
    },
    {
      "cell_type": "markdown",
      "source": [
        "# Lab 01: Introduction to Jupyter notebooks and Colab"
      ],
      "metadata": {
        "id": "P1L0uJOjaCO1"
      }
    },
    {
      "cell_type": "markdown",
      "source": [
        "## Lesson Summary\n",
        "In this exercise you will learn about Jupyter notebooks and Google Colaboratory (Colab). "
      ],
      "metadata": {
        "id": "MlrFrDoQaayH"
      }
    },
    {
      "cell_type": "markdown",
      "source": [
        "## Jupyter Notebooks"
      ],
      "metadata": {
        "id": "kMk5CU4Ma9FS"
      }
    },
    {
      "cell_type": "markdown",
      "source": [
        "[Jupyter](https://jupyter.org/) notebooks are documents that allow you to create, view, and run code. These notebooks are typically web-based and can contain code, text, equations, images, videos, and more. The document you are reading now is a Jupyter notebook. Importantly, these notebooks are interactive--you can change the code, run it and view the new output. Also, you can store the output of the code in the notebook and share it with others. This abilitly to document what code you executed, and the resulting output is important for recproducibility. \n",
        "\n",
        "Jupyter notebooks can be run locally on your own computer, and can use many different programming languages. However, we will be used a web-based notebook that uses the [python](https://www.python.org/) language."
      ],
      "metadata": {
        "id": "g3HMYN7mbDyz"
      }
    }
  ]
}