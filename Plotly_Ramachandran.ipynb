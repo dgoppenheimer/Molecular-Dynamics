{
  "nbformat": 4,
  "nbformat_minor": 0,
  "metadata": {
    "colab": {
      "name": "Plotly-Ramachandran.ipynb",
      "provenance": [],
      "collapsed_sections": [],
      "mount_file_id": "1llwjJ7XFm-UjCtqo1d09qxsPkv7--oUc",
      "authorship_tag": "ABX9TyNQeO/Ick/ReIJyS8tvxa+I",
      "include_colab_link": true
    },
    "kernelspec": {
      "name": "python3",
      "display_name": "Python 3"
    },
    "language_info": {
      "name": "python"
    }
  },
  "cells": [
    {
      "cell_type": "markdown",
      "metadata": {
        "id": "view-in-github",
        "colab_type": "text"
      },
      "source": [
        "<a href=\"https://colab.research.google.com/github/dgoppenheimer/Molecular-Dynamics/blob/main/Plotly_Ramachandran.ipynb\" target=\"_parent\"><img src=\"https://colab.research.google.com/assets/colab-badge.svg\" alt=\"Open In Colab\"/></a>"
      ]
    },
    {
      "cell_type": "markdown",
      "source": [
        "# Ramachandran Plots"
      ],
      "metadata": {
        "id": "O6m7RzqCjw9p"
      }
    },
    {
      "cell_type": "markdown",
      "source": [
        "## Introduction"
      ],
      "metadata": {
        "id": "GoGVRSF9uouC"
      }
    },
    {
      "cell_type": "markdown",
      "source": [
        "Ramachandran plots (or Ramachandran maps) are plots showing the dihedral angles between atoms in a protein backbone. This type of protein structure analysis was developed by G. N. Ramachandran, *et al*. in 1963<a name=\"cite_ref-1\"></a>[<sup>[1]</sup>](#cite_note-1). These angles are defined as &phi;, &psi;, and &omega;. Dihedral angles are angles between planes defined by 3 atoms as opposed to angles bewteen lines defined by 2 atoms (like bond angles). \n",
        "\n",
        "[<img src=\"https://github.com/dgoppenheimer/notebook-images/blob/main/protopedia-phi-psi-angles.png?raw=true\" alt=\"phi and psi angles in a peptide\" width=\"250\"/>](https://github.com/dgoppenheimer/notebook-images/blob/main/protopedia-phi-psi-angles.png?raw=true)\n",
        "\n",
        "\n",
        "It is the &phi; and &psi; angles in which we are most interested, because the &omega; angle is that of the mostly planar peptide bond and is usually near 180°.\n",
        "\n",
        "See the [Phi and Psi Angles Protopedia web page](https://proteopedia.org/wiki/index.php/Phi_and_Psi_Angles) for an explanation of how the angles are calculated.\n",
        "\n",
        "---\n",
        "<a name=\"cite_note-1\"></a>1. Ramachandran GN, Ramakrishnan C & Sassisekharan V (1963) Stereochemistry of polypeptide chain configurations. J Mol Biol 7: 95-99. DOI: [10.1016/s0022-2836(63)80023-6](https://doi.org/10.1016/s0022-2836(63)80023-6) [&#x21A9;](#cite_ref-1)\n",
        "\n"
      ],
      "metadata": {
        "id": "uk0JeKNYj3Jc"
      }
    },
    {
      "cell_type": "markdown",
      "source": [
        "## Learning Objectives"
      ],
      "metadata": {
        "id": "rfpmi5wCqSbB"
      }
    },
    {
      "cell_type": "markdown",
      "source": [
        "By the end of this exercise you will be able to do the following:\n",
        "\n",
        "1. Define dihedral angle.\n",
        "2. Describe the general characteristics of a Ramachandran plot.\n",
        "3. Explain the difference between favored and unfavored regions in the Ramachandran plot with respect to the structures of specific amino acid side chains.\n",
        "4. Create a Ramachandran plot of a protein and a trajectory.\n",
        "\n",
        "**Question**: Why are some regions of the plot not populated by any amino acids?\n"
      ],
      "metadata": {
        "id": "iDwtVk3mqWVN"
      }
    },
    {
      "cell_type": "markdown",
      "source": [
        "## Creating a Ramachandran Plot"
      ],
      "metadata": {
        "id": "ZDfgqR2cujcT"
      }
    },
    {
      "cell_type": "markdown",
      "source": [
        "There are many programs that can calculate the &phi; and &psi; angles for proteins and make basic Ramachandran plots. However, we want to incorporate our Ramachandran plots in the notebook so we can save them with the rest of our data. In addition, we want to leverage the features of Jupyter notebooks to make the plots interactive so we can easily look at which amino acids are in or out of the preferred regions.\n",
        "\n",
        "To accomplish this we will use [Plotly](https://plotly.com/python/), which comes installed on Google Colab. To create the traces of the preferred regions we will use the data derived from a prior analysis of a protein done using the tools on the [MolProbity](http://molprobity.biochem.duke.edu/) website. The allowed regions from the MolProbity website are derived from the \"Top8000\" dataset for proteins<a name=\"cite_ref-1\"></a>[<sup>[1]</sup>](#cite_note-1), which contains almost 8000 high quality protein structures solved at a resolution of less than 2.0Å. The data files produced by the MolProbity tools are `.kin` files, which need to be parsed and converted to `.csv` files before we can use them in our notebooks. \n",
        "\n",
        "### Allowable Regions\n",
        "\n",
        "This notebook already contains plots containing the allowable regions for &phi; and &psi; angles based on the Top8000 dataset. You only need to run the code in the cells to produce empty plots that show the regions. Then you add a scatter plot that contains your dihedral angle data. An example is provided below.\n",
        "\n",
        "---\n",
        "\n",
        "<a name=\"cite_note-1\"></a>1. Williams CJ, Headd JJ, Moriarty NW, Prisant MG, Videau LL, Deis LN et al. (2018) MolProbity: More and better reference data for improved all-atom structure validation. Protein Sci 27: 293-315. \n",
        " DOI: [10.1002/pro.3330](https://doi.org/10.1002/pro.3330) [&#x21A9;](#cite_ref-1)"
      ],
      "metadata": {
        "id": "cpzn7sAfu2Oe"
      }
    },
    {
      "cell_type": "markdown",
      "source": [
        "## Plots"
      ],
      "metadata": {
        "id": "Sdb_RuAb_yL6"
      }
    },
    {
      "cell_type": "markdown",
      "source": [
        "### Files Needed"
      ],
      "metadata": {
        "id": "AqG8ingYBEdq"
      }
    },
    {
      "cell_type": "markdown",
      "source": [
        "Below is a list of the files needed for the plots. Put these files in the following directory:\n",
        "\n",
        "```bash\n",
        "content/drive/MyDrive/files/\n",
        "```\n",
        "\n",
        "#### For General Plot\n",
        "\n",
        "```bash\n",
        "general-allowed1.csv\n",
        "general-allowed2.csv\n",
        "general-allowed3.csv\n",
        "general-allowed4.csv\n",
        "general-allowed5.csv\n",
        "general-allowed6.csv\n",
        "\n",
        "general-favored1.csv\n",
        "general-favored2.csv\n",
        "general-favored3.csv\n",
        "general-favored4.csv\n",
        "general-favored5.csv\n",
        "```\n",
        "\n",
        "#### For Glycine Plot\n",
        "\n",
        "\n",
        "#### For cis-Proline Plot\n",
        "\n",
        "\n",
        "#### For trans-Proline Plot\n",
        "\n",
        "\n",
        "#### For Ile-Val Plot"
      ],
      "metadata": {
        "id": "KCyZYieXBPGC"
      }
    },
    {
      "cell_type": "code",
      "source": [
        "#@title General\n",
        "import plotly.express as px\n",
        "import plotly.graph_objects as go\n",
        "import pandas as pd\n",
        "\n",
        "# Create dataframes for each file\n",
        "df1 = pd.read_csv('/content/drive/MyDrive/files/general-allowed1.csv')\n",
        "df2 = pd.read_csv('/content/drive/MyDrive/files/general-allowed2.csv')\n",
        "df3 = pd.read_csv('/content/drive/MyDrive/files/general-allowed3.csv')\n",
        "df4 = pd.read_csv('/content/drive/MyDrive/files/general-allowed4.csv')\n",
        "df5 = pd.read_csv('/content/drive/MyDrive/files/general-allowed5.csv')\n",
        "df6 = pd.read_csv('/content/drive/MyDrive/files/general-allowed6.csv')\n",
        "df7 = pd.read_csv('/content/drive/MyDrive/files/general-favored1.csv')\n",
        "df8 = pd.read_csv('/content/drive/MyDrive/files/general-favored2.csv')\n",
        "df9 = pd.read_csv('/content/drive/MyDrive/files/general-favored3.csv')\n",
        "df10 = pd.read_csv('/content/drive/MyDrive/files/general-favored4.csv')\n",
        "df11 = pd.read_csv('/content/drive/MyDrive/files/general-favored5.csv')\n",
        "df12 = pd.read_csv('/content/drive/MyDrive/files/general-data-good.csv')\n",
        "\n",
        "# create figures\n",
        "fig1 = px.line(df1, x=\"phi\", y=\"psi\",\n",
        "                 hover_name=\"number\" \n",
        "                 ) # x and y are the column names\n",
        "\n",
        "fig2 = px.line(df2, x=\"phi\", y=\"psi\",\n",
        "                 hover_name=\"number\" \n",
        "                 ) # x and y are the column names\n",
        "\n",
        "fig3 = px.line(df3, x=\"phi\", y=\"psi\",\n",
        "                 hover_name=\"number\" \n",
        "                 ) # x and y are the column names\n",
        "\n",
        "fig4 = px.line(df4, x=\"phi\", y=\"psi\",\n",
        "                 hover_name=\"number\" \n",
        "                 ) # x and y are the column names\n",
        "\n",
        "fig5 = px.line(df5, x=\"phi\", y=\"psi\",\n",
        "                 hover_name=\"number\" \n",
        "                 ) # x and y are the column names               \n",
        "\n",
        "fig5 = px.line(df6, x=\"phi\", y=\"psi\",\n",
        "                 hover_name=\"number\" \n",
        "                 ) # x and y are the column names\n",
        "\n",
        "fig6 = px.line(df6, x=\"phi\", y=\"psi\",\n",
        "                 hover_name=\"number\" \n",
        "                 ) # x and y are the column names\n",
        "\n",
        "fig7 = px.line(df7, x=\"phi\", y=\"psi\",\n",
        "                 hover_name=\"number\" \n",
        "                 ) # x and y are the column names\n",
        "\n",
        "fig8 = px.line(df8, x=\"phi\", y=\"psi\",\n",
        "                 hover_name=\"number\" \n",
        "                 ) # x and y are the column names\n",
        "\n",
        "fig9 = px.line(df9, x=\"phi\", y=\"psi\",\n",
        "                 hover_name=\"number\" \n",
        "                 ) # x and y are the column names\n",
        "\n",
        "fig10 = px.line(df10, x=\"phi\", y=\"psi\",\n",
        "                 hover_name=\"number\" \n",
        "                 ) # x and y are the column names\n",
        "\n",
        "fig11 = px.line(df11, x=\"phi\", y=\"psi\",\n",
        "                 hover_name=\"number\" \n",
        "                 ) # x and y are the column names\n",
        "\n",
        "fig12 = px.scatter(df12, x=\"phi\", y=\"psi\",\n",
        "                 hover_name=\"amino acid\" \n",
        "                 ) # x and y are the column names\n",
        "fig12.update_traces(marker=dict(color='white'))\n",
        "\n",
        "fig20 = go.Figure(data=\n",
        "                    fig1.data\n",
        "                  + fig2.data\n",
        "                  + fig3.data\n",
        "                  + fig4.data\n",
        "                  + fig5.data\n",
        "                  + fig6.data\n",
        "                  + fig7.data\n",
        "                  + fig8.data\n",
        "                  + fig9.data\n",
        "                  + fig10.data\n",
        "                  + fig11.data\n",
        "                  + fig12.data\n",
        "                  )               \n",
        "\n",
        "fig20.update_traces(showlegend=False)\n",
        "\n",
        "# change the graph width and add a graph title\n",
        "fig20.update_layout(width=700, height=700, title_text=\"test rama\")\n",
        "\n",
        "fig20.update_xaxes(showline=True,\n",
        "                  title_text=\"phi\",\n",
        "                  zeroline=True,\n",
        "                  showgrid=False, \n",
        "                  range=(-180,180),\n",
        "                  zerolinewidth=1,\n",
        "                  zerolinecolor='grey'\n",
        ")\n",
        "\n",
        "fig20.update_yaxes(showline=True,\n",
        "                   title_text=\"psi\",\n",
        "                   zeroline=True,\n",
        "                   showgrid=False, \n",
        "                   range=(-180,180),\n",
        "                   zerolinewidth=1,\n",
        "                   zerolinecolor='grey'\n",
        ")\n",
        "\n",
        "fig20.update_layout(\n",
        "                  plot_bgcolor=\"black\"\n",
        ")\n",
        "\n",
        "# This styles the line\n",
        "fig20.update_traces(line=dict(width=1, color=\"deepskyblue\"))\n",
        "\n",
        "# show the graph\n",
        "fig20.show()\n"
      ],
      "metadata": {
        "id": "AFNQ_dQTAHQy"
      },
      "execution_count": null,
      "outputs": []
    },
    {
      "cell_type": "markdown",
      "source": [
        "### General"
      ],
      "metadata": {
        "id": "uHidIyUj_6u8"
      }
    }
  ]
}