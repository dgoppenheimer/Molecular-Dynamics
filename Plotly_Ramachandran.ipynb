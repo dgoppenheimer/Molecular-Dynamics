{
  "nbformat": 4,
  "nbformat_minor": 0,
  "metadata": {
    "colab": {
      "name": "Plotly-Ramachandran.ipynb",
      "provenance": [],
      "collapsed_sections": [],
      "mount_file_id": "1llwjJ7XFm-UjCtqo1d09qxsPkv7--oUc",
      "authorship_tag": "ABX9TyM5TgEY/fT6HX8BeNf3RbwL",
      "include_colab_link": true
    },
    "kernelspec": {
      "name": "python3",
      "display_name": "Python 3"
    },
    "language_info": {
      "name": "python"
    }
  },
  "cells": [
    {
      "cell_type": "markdown",
      "metadata": {
        "id": "view-in-github",
        "colab_type": "text"
      },
      "source": [
        "<a href=\"https://colab.research.google.com/github/dgoppenheimer/Molecular-Dynamics/blob/main/Plotly_Ramachandran.ipynb\" target=\"_parent\"><img src=\"https://colab.research.google.com/assets/colab-badge.svg\" alt=\"Open In Colab\"/></a>"
      ]
    },
    {
      "cell_type": "markdown",
      "source": [
        "# Ramachandran Plots"
      ],
      "metadata": {
        "id": "O6m7RzqCjw9p"
      }
    },
    {
      "cell_type": "markdown",
      "source": [
        "## Introduction"
      ],
      "metadata": {
        "id": "GoGVRSF9uouC"
      }
    },
    {
      "cell_type": "markdown",
      "source": [
        "Ramachandran plots (or Ramachandran maps) are plots showing the dihedral angles between atoms in a protein backbone. This type of protein structure analysis was developed by G. N. Ramachandran, *et al*. in 1963<a name=\"cite_ref-1\"></a>[<sup>[1]</sup>](#cite_note-1). These angles are defined as &phi;, &psi;, and &omega;. Dihedral angles are angles between planes defined by 3 atoms as opposed to angles bewteen lines defined by 2 atoms (like bond angles). \n",
        "\n",
        "[<img src=\"https://github.com/dgoppenheimer/notebook-images/blob/main/protopedia-phi-psi-angles.png?raw=true\" alt=\"phi and psi angles in a peptide\" width=\"250\"/>](https://github.com/dgoppenheimer/notebook-images/blob/main/protopedia-phi-psi-angles.png?raw=true)\n",
        "\n",
        "\n",
        "It is the &phi; and &psi; angles in which we are most interested, because the &omega; angle is that of the mostly planar peptide bond and is usually near 180°.\n",
        "\n",
        "See the [Phi and Psi Angles Protopedia web page](https://proteopedia.org/wiki/index.php/Phi_and_Psi_Angles) for an explanation of how the angles are calculated.\n",
        "\n",
        "---\n",
        "<a name=\"cite_note-1\"></a>1. Ramachandran GN, Ramakrishnan C & Sassisekharan V (1963) Stereochemistry of polypeptide chain configurations. J Mol Biol 7: 95-99. DOI: [10.1016/s0022-2836(63)80023-6](https://doi.org/10.1016/s0022-2836(63)80023-6) [&#x21A9;](#cite_ref-1)\n",
        "\n"
      ],
      "metadata": {
        "id": "uk0JeKNYj3Jc"
      }
    },
    {
      "cell_type": "markdown",
      "source": [
        "## Learning Objectives"
      ],
      "metadata": {
        "id": "rfpmi5wCqSbB"
      }
    },
    {
      "cell_type": "markdown",
      "source": [
        "By the end of this exercise you will be able to do the following:\n",
        "\n",
        "1. Define dihedral angle.\n",
        "2. Describe the general characteristics of a Ramachandran plot.\n",
        "3. Explain the difference between favored and unfavored regions in the Ramachandran plot with respect to the structures of specific amino acid side chains.\n",
        "4. Create a Ramachandran plot of a protein and a trajectory.\n",
        "\n",
        "**Question**: Why are some regions of the plot not populated by any amino acids?\n"
      ],
      "metadata": {
        "id": "iDwtVk3mqWVN"
      }
    },
    {
      "cell_type": "markdown",
      "source": [
        "## Creating a Ramachandran Plot"
      ],
      "metadata": {
        "id": "ZDfgqR2cujcT"
      }
    },
    {
      "cell_type": "markdown",
      "source": [
        "There are many programs that can calculate the &phi; and &psi; angles for proteins and make basic Ramachandran plots. However, we want to incorporate our Ramachandran plots in the notebook so we can save them with the rest of our data. In addition, we want to leverage the features of Jupyter notebooks to make the plots interactive so we can easily look at which amino acids are in or out of the preferred regions.\n",
        "\n",
        "To accomplish this we will use [Plotly](https://plotly.com/python/), which comes installed on Google Colab. To create the traces of the preferred regions we will use the data derived from a prior analysis of a protein done using the tools on the [MolProbity](http://molprobity.biochem.duke.edu/) website. The allowed regions from the MolProbity website are derived from the \"Top8000\" dataset for proteins<a name=\"cite_ref-1\"></a>[<sup>[1]</sup>](#cite_note-1), which contains almost 8000 high quality protein structures solved at a resolution of less than 2.0Å. The data files produced by the MolProbity tools are `.kin` files, which need to be parsed and converted to `.csv` files before we can use them in our notebooks. \n",
        "\n",
        "### Allowable Regions\n",
        "\n",
        "This notebook already contains plots containing the allowable regions for &phi; and &psi; angles based on the Top8000 dataset. You only need to run the code in the cells to produce empty plots that show the regions. Then you add a scatter plot that contains your dihedral angle data. An example is provided below.\n",
        "\n",
        "---\n",
        "\n",
        "<a name=\"cite_note-1\"></a>1. Williams CJ, Headd JJ, Moriarty NW, Prisant MG, Videau LL, Deis LN et al. (2018) MolProbity: More and better reference data for improved all-atom structure validation. Protein Sci 27: 293-315. \n",
        " DOI: [10.1002/pro.3330](https://doi.org/10.1002/pro.3330) [&#x21A9;](#cite_ref-1)"
      ],
      "metadata": {
        "id": "cpzn7sAfu2Oe"
      }
    }
  ]
}