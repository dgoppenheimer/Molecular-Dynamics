{
  "nbformat": 4,
  "nbformat_minor": 0,
  "metadata": {
    "colab": {
      "name": "Part-00.ipynb",
      "provenance": [],
      "collapsed_sections": [
        "3NjTzzRpPSjr"
      ],
      "mount_file_id": "1mDOb_uulfEqU3V9Ha35Bw1urjmkX07m_",
      "authorship_tag": "ABX9TyPFQ/Ph5mqwel+y7tO+JvGH"
    },
    "kernelspec": {
      "name": "python3",
      "display_name": "Python 3"
    },
    "language_info": {
      "name": "python"
    }
  },
  "cells": [
    {
      "cell_type": "markdown",
      "metadata": {
        "id": "D96_S8ew0HcS"
      },
      "source": [
        "# Introduction\n",
        "\n",
        "<p><img alt=\"Colaboratory logo\" height=\"35px\" src=\"https://drive.google.com/uc?export=view&id=1-JE5lbCK4Amelom8clmAyXUOAoyHhfiq\" align=\"left\" hspace=\"10px\" vspace=\"0px\"> </p>\n",
        "\n",
        "<h2>Welcome to Google Colaboratory!</h2>\n",
        "\n",
        "[Google Colaboratory](https://colab.research.google.com/) (hereafter referred to as \"colab\") is a cloud-based platform that allows users to run software on high-performance computer clusters for free. Colab uses the [Jupyter notebook](https://jupyter.org/) format, which allows users to create and store code, computing output, visualizations, and text within a web browser. What you are viewing now is a Jupyter notebook.\n",
        "\n",
        "Let's get started!\n",
        "\n",
        "## Requirements\n",
        "\n",
        "To complete this introductory assignment (Part-00) you will need the following:\n",
        "\n",
        "1. A UF Google account so that you can save your work to the UF G-drive, which has unlimited storage. To access your UF Google account, see the [USING YOUR UF GOOGLE ACCOUNT](https://cloud.it.ufl.edu/faqs/using-your-uf-google-account/) page under *ACCESSING YOUR ACCOUNT*. You can switch between your personal and UF accounts by clicking the profile icon at the top right of the window. **Always use your UF Google account to complete these assignments**.\n",
        "\n",
        "2. A [Chrome](https://www.google.com/chrome/) web browser. Working with colab and G-drive works best in the Chrome browser. If you don't already have it installed, go to [the Chrome download page](https://www.google.com/chrome/) to download and install Chrome on your computer.\n",
        "\n"
      ]
    },
    {
      "cell_type": "markdown",
      "metadata": {
        "id": "ZeL0xCD_4o_T"
      },
      "source": [
        "## Switch to your UFL Google account (if needed)"
      ]
    },
    {
      "cell_type": "markdown",
      "metadata": {
        "id": "xeBYgemS4moh"
      },
      "source": [
        "1. In the upper right corner of the page, click on the profile icon.\n",
        "2. Change to your UFL Google account (if needed) and follow the login instructions.\n",
        "\n",
        "![Checking your profile](https://drive.google.com/uc?export=view&id=1--MCNI4AC7N_LXdl2rAC8gFolNzeqajz)\n"
      ]
    },
    {
      "cell_type": "markdown",
      "metadata": {
        "id": "uI6ZQ5gT5M84"
      },
      "source": [
        "## Using Jupyter notebooks\n",
        "\n",
        "Here is a nice 3 min video on [Get started with Google Colaboratory](https://www.youtube.com/watch?v=inN8seMm7UI)."
      ]
    },
    {
      "cell_type": "markdown",
      "metadata": {
        "id": "IgoVj8N65YTI"
      },
      "source": [
        "### Cells\n",
        "\n",
        "Jupyter notebooks are composed of two types of cells--text or executable code and its output. To select a cell, click on it. The cell you are reading now is a **text** cell. The next cell is a **code** cell. The code cell contains a short Python script that computes a value, stores it in a variable, and prints the result. You can run the cell by clicking the \"run\" icon at the left edge of the cell that is visible when select the cell by clicking on it, or when you hover over it. When you click run, the output of the code cell will be printed below the cell. "
      ]
    },
    {
      "cell_type": "code",
      "metadata": {
        "colab": {
          "base_uri": "https://localhost:8080/"
        },
        "id": "-YuKGTJ_9Csy",
        "outputId": "4b84b225-0d29-45da-d745-6f1a98c8b684"
      },
      "source": [
        "#code cell\n",
        "seconds_in_a_day = 24 * 60 * 60\n",
        "seconds_in_a_day"
      ],
      "execution_count": 4,
      "outputs": [
        {
          "output_type": "execute_result",
          "data": {
            "text/plain": [
              "86400"
            ]
          },
          "metadata": {},
          "execution_count": 4
        }
      ]
    },
    {
      "cell_type": "code",
      "metadata": {
        "id": "yStT7ezZDVP4"
      },
      "source": [
        "# Try it yourself! Fill in the appropriate numbers below,\n",
        "# then run the cell\n",
        "seconds_in_an_hour = \n",
        "seconds_in_an_hour"
      ],
      "execution_count": null,
      "outputs": []
    },
    {
      "cell_type": "markdown",
      "metadata": {
        "id": "jXCL0f-zBnbQ"
      },
      "source": [
        "## Mount your Google drive\n",
        "\n",
        "One of the code cells that you will use often is the code to mount your Google drive. Do the following:\n",
        "\n",
        "1. Run the code cell, below.\n",
        "2. Click the link in the output.\n",
        "3. Copy the authorization code for your account.\n",
        "4. Return to the output of the cell below, and paste the authorization code into the box.\n",
        "5. Click enter and your drive will be mounted. \n",
        "\n",
        "You can see your mounted drive in the left menu by clicking the folder icon on the left side of the page. The contents of your drive will be located in the `drive/MyDrive` directory. \n"
      ]
    },
    {
      "cell_type": "code",
      "metadata": {
        "colab": {
          "base_uri": "https://localhost:8080/"
        },
        "id": "F7A7ie34BtK0",
        "outputId": "cfe1adb5-04bc-409a-da7a-9bf2cede64f4"
      },
      "source": [
        "from google.colab import drive\n",
        "drive.mount('/content/drive')"
      ],
      "execution_count": 1,
      "outputs": [
        {
          "output_type": "stream",
          "name": "stdout",
          "text": [
            "Mounted at /content/drive\n"
          ]
        }
      ]
    },
    {
      "cell_type": "markdown",
      "metadata": {
        "id": "3NjTzzRpPSjr"
      },
      "source": [
        "## Save a copy of this notebook to your drive"
      ]
    },
    {
      "cell_type": "markdown",
      "metadata": {
        "id": "1qfLzIwaFwBI"
      },
      "source": [
        "Once your drive is mounted, go to *File* &#8594; *Save a Copy in Drive* to save a copy of this notebook in your Google Drive. Your copy should be in the `drive/MyDrive/Colab Notebooks` directory. \n",
        "\n",
        "### Rename your copy of this notebook\n",
        "\n",
        "You will submit your notebook on Canvas as you complete the assignments. \n",
        "\n",
        "1. To rename your copy of the notebook, click the name of the notebook in the upper left of the browser window (right above the menu bar). \n",
        "2. Rename the notebook with your last name as a suffix before the file extension. For example, I would rename my copy of this notebook as:\n",
        "\n",
        "```\n",
        "Part-00-oppenheimer.ipynb\n",
        "```\n",
        "\n",
        "Great! Now as you work on the assignment, your copy will be updated on your Google Drive.\n",
        "\n",
        "**NOTE:** After a period of inactivity, you may be disconnected from colab. Don't worry, just click *Connect* or *Reconnect* in the menu bar on the upper right side of the browser window. \n",
        "\n",
        "![Connect](https://drive.google.com/uc?export=view&id=1-OTa92XpTyo2CnHYuiZjGRzrGIOchn9G)\n",
        "\n"
      ]
    },
    {
      "cell_type": "markdown",
      "metadata": {
        "id": "EULh7Hg0O4La"
      },
      "source": [
        "## Working with markdown\n",
        "\n"
      ]
    },
    {
      "cell_type": "markdown",
      "metadata": {
        "id": "6AHnK-aIPbDp"
      },
      "source": [
        "Markdown is a simple markup language that is used to style text in plain text documents. It is used for text formatting in Jupyter notebooks. It can also be used for many other writing projects. See this page on [Getting Started with Markdown](https://www.markdownguide.org/getting-started/), which gives a nice overview of Markdown. \n",
        "\n",
        "### Markdown basics\n",
        "\n",
        "Briefly, markdown is a way to style text in a plain text file that indicate how a word or phrase should be styled using `html` for web pages (or other things). It is designed so that you can still easily read the text even when the formatting is not applied. \n",
        "\n",
        "For example a hashtag, `#` before a word or phrase indicates that it is a heading. If you write the following:\n",
        "\n",
        "```md\n",
        "# Heading 1\n",
        "## Sub-heading or heading 2\n",
        "### Sub-sub-heading or heading 3\n",
        "and so on\n",
        "```\n",
        "\n",
        "It will be styled in your notebooks as:\n",
        "\n",
        "# Heading 1\n",
        "\n",
        "## Sub-heading or heading 2\n",
        "\n",
        "### Sub-sub-heading or heading 3\n",
        "\n",
        "If your want to make text bold, surround it with `**`. For example, when you write `This **word** is bold.` it will be rendered as:\n",
        "\n",
        "This **word** is bold.\n",
        "\n",
        "If you want to write text that is not styled, you should surround it with backticks (`).\n",
        "\n",
        "If you want to display a block of code, then use surround the block with three backticks or indent each line of code with 4 spaces.\n",
        "\n",
        "    this is a code block\n",
        "    with two lines of code\n",
        "\n",
        "\n",
        "See the [basic syntax guide](https://www.markdownguide.org/basic-syntax/) for additional information on how to style your text.\n",
        "\n",
        "\n",
        "\n"
      ]
    },
    {
      "cell_type": "markdown",
      "metadata": {
        "id": "6KhIkMTGSHqM"
      },
      "source": [
        "### Try it yourself!\n",
        "\n",
        "Double-click on the cell to edit the text.\n",
        "\n",
        "Make this a level 4 heading\n",
        "\n",
        "Create a list of items.\n",
        "\n",
        "Make this text bold.\n",
        "\n",
        "Make this text italics.\n",
        "\n",
        "Turn this sentence and the following sentence into a multi-paragragh block quote. This is the following sentence.\n",
        "\n",
        "Create a code block with several lines of code. (just use some sentences to represent your code)."
      ]
    }
  ]
}