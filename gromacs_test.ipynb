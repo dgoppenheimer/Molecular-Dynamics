{
  "nbformat": 4,
  "nbformat_minor": 0,
  "metadata": {
    "colab": {
      "name": "gromacs-test.ipynb",
      "provenance": [],
      "collapsed_sections": [
        "drjUjOxbMUh8",
        "fHWEeEMCvwL7"
      ],
      "mount_file_id": "1dvqQxnqshWdndyS6bs6Hp6TOsMXx43EU",
      "authorship_tag": "ABX9TyMa84e9WtEf3xNT26vim8Z0",
      "include_colab_link": true
    },
    "kernelspec": {
      "name": "python3",
      "display_name": "Python 3"
    },
    "language_info": {
      "name": "python"
    }
  },
  "cells": [
    {
      "cell_type": "markdown",
      "metadata": {
        "id": "view-in-github",
        "colab_type": "text"
      },
      "source": [
        "<a href=\"https://colab.research.google.com/github/dgoppenheimer/Molecular-Dynamics/blob/main/gromacs_test.ipynb\" target=\"_parent\"><img src=\"https://colab.research.google.com/assets/colab-badge.svg\" alt=\"Open In Colab\"/></a>"
      ]
    },
    {
      "cell_type": "markdown",
      "source": [
        "## Installation of GROMACS"
      ],
      "metadata": {
        "id": "QAlZWjc28b9n"
      }
    },
    {
      "cell_type": "markdown",
      "source": [
        "### Download GROMACS"
      ],
      "metadata": {
        "id": "iKRahtIG8rtE"
      }
    },
    {
      "cell_type": "markdown",
      "source": [
        "These instructions were largely adapted from [Installing Software on Google Colab for IBM3202 tutorials](https://colab.research.google.com/github/pb3lab/ibm3202/blob/master/tutorials/lab00_software.ipynb). I updated the GROMACS version, and to do that I needed to upgrade `cmake`.\n",
        "\n",
        "<mark>Installation of this software takes about 40 min.</mark> Therefore, we will save the compiled software on Google Drive to save time later.\n",
        "\n"
      ],
      "metadata": {
        "id": "shEWSzrI81rk"
      }
    },
    {
      "cell_type": "markdown",
      "source": [
        "<mark>**VERY IMPORTANT FIRST STEP:**</mark> Go to the Menu &#8594; *Runtime* &#8594; *Change Runtime Type* and choose GPU!\n",
        "\n",
        "**Note:** a page reload will be required. This is okay."
      ],
      "metadata": {
        "id": "hQyXMnCc_Bn-"
      }
    },
    {
      "cell_type": "markdown",
      "source": [
        "First, let's confirm that we are in the correct directory."
      ],
      "metadata": {
        "id": "huGay-vDIepe"
      }
    },
    {
      "cell_type": "code",
      "source": [
        "!pwd"
      ],
      "metadata": {
        "colab": {
          "base_uri": "https://localhost:8080/"
        },
        "id": "M-HbnMg8SxXq",
        "outputId": "bd1e505c-896b-468f-fde7-a8e814faf0bf"
      },
      "execution_count": null,
      "outputs": [
        {
          "output_type": "stream",
          "name": "stdout",
          "text": [
            "/content\n"
          ]
        }
      ]
    },
    {
      "cell_type": "code",
      "metadata": {
        "id": "H18SXwk5rikC",
        "colab": {
          "base_uri": "https://localhost:8080/"
        },
        "outputId": "eb5a1ee9-b94c-4926-c66a-6c47f2a50b72"
      },
      "source": [
        "#Download GROMACS 2021.5\n",
        "!wget https://ftp.gromacs.org/gromacs/gromacs-2021.5.tar.gz"
      ],
      "execution_count": null,
      "outputs": [
        {
          "output_type": "stream",
          "name": "stdout",
          "text": [
            "--2022-03-22 20:23:10--  https://ftp.gromacs.org/gromacs/gromacs-2021.5.tar.gz\n",
            "Resolving ftp.gromacs.org (ftp.gromacs.org)... 130.237.11.165, 2001:6b0:1:1191:216:3eff:fec7:6e30\n",
            "Connecting to ftp.gromacs.org (ftp.gromacs.org)|130.237.11.165|:443... connected.\n",
            "HTTP request sent, awaiting response... 200 OK\n",
            "Length: 38023772 (36M) [application/x-gzip]\n",
            "Saving to: ‘gromacs-2021.5.tar.gz’\n",
            "\n",
            "gromacs-2021.5.tar. 100%[===================>]  36.26M  19.4MB/s    in 1.9s    \n",
            "\n",
            "2022-03-22 20:23:13 (19.4 MB/s) - ‘gromacs-2021.5.tar.gz’ saved [38023772/38023772]\n",
            "\n"
          ]
        }
      ]
    },
    {
      "cell_type": "markdown",
      "source": [
        "### Install GROMACS"
      ],
      "metadata": {
        "id": "3hk0CS4_-c7m"
      }
    },
    {
      "cell_type": "markdown",
      "source": [
        "We will install the software into a pre-defined user directory that will not be deleted when we quit this notebook.\n",
        "\n",
        "Start a `bash` subshell to run several `bash` commands in the same code cell."
      ],
      "metadata": {
        "id": "Tb1NAV6DA57K"
      }
    },
    {
      "cell_type": "code",
      "source": [
        "%%bash\n",
        "# extracting the software\n",
        "tar xfz gromacs-2021.5.tar.gz\n",
        "echo \"GROMACS extraction completed\""
      ],
      "metadata": {
        "colab": {
          "base_uri": "https://localhost:8080/"
        },
        "id": "2-s3lxeEF5WI",
        "outputId": "63aa65c7-b7ca-4709-d509-4d66ea1c3e99"
      },
      "execution_count": null,
      "outputs": [
        {
          "output_type": "stream",
          "name": "stdout",
          "text": [
            "GROMACS extraction completed\n"
          ]
        },
        {
          "output_type": "stream",
          "name": "stderr",
          "text": [
            "tar (child): gromacs-2021.5.tar.gz: Cannot open: No such file or directory\n",
            "tar (child): Error is not recoverable: exiting now\n",
            "tar: Child returned status 2\n",
            "tar: Error is not recoverable: exiting now\n"
          ]
        }
      ]
    },
    {
      "cell_type": "code",
      "source": [
        "%%bash\n",
        "# create and enter the build directory\n",
        "cd gromacs-2021.5\n",
        "mkdir build\n",
        "cd build"
      ],
      "metadata": {
        "id": "mjcZA2s5GD4B",
        "colab": {
          "base_uri": "https://localhost:8080/"
        },
        "outputId": "62397978-744c-4b91-81a3-eea216f1561b"
      },
      "execution_count": null,
      "outputs": [
        {
          "output_type": "stream",
          "name": "stderr",
          "text": [
            "bash: line 1: cd: gromacs-2021.5: No such file or directory\n"
          ]
        }
      ]
    },
    {
      "cell_type": "code",
      "source": [
        "# check the cmake version\n",
        "!cmake --version"
      ],
      "metadata": {
        "colab": {
          "base_uri": "https://localhost:8080/"
        },
        "id": "XM7AKR4gQgks",
        "outputId": "68e61631-e735-454b-e70b-d50d1a32ab5a"
      },
      "execution_count": null,
      "outputs": [
        {
          "output_type": "stream",
          "name": "stdout",
          "text": [
            "cmake version 3.12.0\n",
            "\n",
            "CMake suite maintained and supported by Kitware (kitware.com/cmake).\n"
          ]
        }
      ]
    },
    {
      "cell_type": "code",
      "source": [
        "!apt remove cmake"
      ],
      "metadata": {
        "colab": {
          "base_uri": "https://localhost:8080/"
        },
        "id": "w5cyzVIWRnCR",
        "outputId": "8113dff7-2836-46bc-bf0b-1cc75676d5e3"
      },
      "execution_count": null,
      "outputs": [
        {
          "output_type": "stream",
          "name": "stdout",
          "text": [
            "Reading package lists... Done\n",
            "Building dependency tree       \n",
            "Reading state information... Done\n",
            "The following packages were automatically installed and are no longer required:\n",
            "  cmake-data libarchive13 liblzo2-2 librhash0 libuv1\n",
            "Use 'apt autoremove' to remove them.\n",
            "The following packages will be REMOVED:\n",
            "  cmake\n",
            "0 upgraded, 0 newly installed, 1 to remove and 39 not upgraded.\n",
            "After this operation, 17.5 MB disk space will be freed.\n",
            "(Reading database ... 155335 files and directories currently installed.)\n",
            "Removing cmake (3.10.2-1ubuntu2.18.04.2) ...\n",
            "Processing triggers for man-db (2.8.3-2ubuntu0.1) ...\n",
            "W: Operation was interrupted before it could finish\n"
          ]
        }
      ]
    },
    {
      "cell_type": "code",
      "source": [
        "!pip install cmake --upgrade"
      ],
      "metadata": {
        "colab": {
          "base_uri": "https://localhost:8080/"
        },
        "id": "EUBZtuiRRr66",
        "outputId": "a87da7df-c3a8-420e-af61-ac76c59bf807"
      },
      "execution_count": null,
      "outputs": [
        {
          "output_type": "stream",
          "name": "stdout",
          "text": [
            "\u001b[31mERROR: Operation cancelled by user\u001b[0m\n"
          ]
        }
      ]
    },
    {
      "cell_type": "code",
      "source": [
        "!cmake --version"
      ],
      "metadata": {
        "colab": {
          "base_uri": "https://localhost:8080/"
        },
        "id": "7M_55g7tR2zW",
        "outputId": "d51fd887-1813-425d-ce0c-be670e2d26db"
      },
      "execution_count": null,
      "outputs": [
        {
          "output_type": "stream",
          "name": "stdout",
          "text": [
            "cmake version 3.12.0\n",
            "\n",
            "CMake suite maintained and supported by Kitware (kitware.com/cmake).\n"
          ]
        }
      ]
    },
    {
      "cell_type": "code",
      "source": [
        "!pwd"
      ],
      "metadata": {
        "colab": {
          "base_uri": "https://localhost:8080/"
        },
        "id": "zgoXB3G0UX1O",
        "outputId": "7ac8d299-e814-4bc8-805a-2325e2969b77"
      },
      "execution_count": null,
      "outputs": [
        {
          "output_type": "stream",
          "name": "stdout",
          "text": [
            "/content\n"
          ]
        }
      ]
    },
    {
      "cell_type": "code",
      "source": [
        "%cd gromacs-2021.5/build/"
      ],
      "metadata": {
        "colab": {
          "base_uri": "https://localhost:8080/"
        },
        "id": "CyZr8uO0UbXH",
        "outputId": "737c5a0e-bd8b-4f09-bfdc-bc45637dc300"
      },
      "execution_count": null,
      "outputs": [
        {
          "output_type": "stream",
          "name": "stdout",
          "text": [
            "[Errno 2] No such file or directory: 'gromacs-2021.5/build/'\n",
            "/content\n"
          ]
        }
      ]
    },
    {
      "cell_type": "code",
      "source": [
        "!cmake --version"
      ],
      "metadata": {
        "colab": {
          "base_uri": "https://localhost:8080/"
        },
        "id": "moT_O0yNUsRW",
        "outputId": "580c2e23-5195-41fe-942b-f0faa3abf09e"
      },
      "execution_count": null,
      "outputs": [
        {
          "output_type": "stream",
          "name": "stdout",
          "text": [
            "cmake version 3.12.0\n",
            "\n",
            "CMake suite maintained and supported by Kitware (kitware.com/cmake).\n"
          ]
        }
      ]
    },
    {
      "cell_type": "code",
      "source": [
        "!apt remove cmake"
      ],
      "metadata": {
        "colab": {
          "base_uri": "https://localhost:8080/"
        },
        "id": "eWxtseBcUzSX",
        "outputId": "3fb40af7-0abb-4091-a69d-ff47a6eaebee"
      },
      "execution_count": null,
      "outputs": [
        {
          "output_type": "stream",
          "name": "stdout",
          "text": [
            "Reading package lists... Done\n",
            "Building dependency tree       \n",
            "Reading state information... Done\n",
            "Package 'cmake' is not installed, so not removed\n",
            "The following packages were automatically installed and are no longer required:\n",
            "  cmake-data libarchive13 liblzo2-2 librhash0 libuv1\n",
            "Use 'apt autoremove' to remove them.\n",
            "0 upgraded, 0 newly installed, 0 to remove and 39 not upgraded.\n"
          ]
        }
      ]
    },
    {
      "cell_type": "code",
      "source": [
        "!pip install cmake --upgrade"
      ],
      "metadata": {
        "colab": {
          "base_uri": "https://localhost:8080/"
        },
        "id": "XYqnQ4AaU75x",
        "outputId": "91256526-87b4-4f83-a4ff-62b6a2b83278"
      },
      "execution_count": null,
      "outputs": [
        {
          "output_type": "stream",
          "name": "stdout",
          "text": [
            "Requirement already satisfied: cmake in /usr/local/lib/python3.7/dist-packages (3.12.0)\n",
            "Collecting cmake\n",
            "  Downloading cmake-3.22.3-py2.py3-none-manylinux_2_17_x86_64.manylinux2014_x86_64.whl (22.5 MB)\n",
            "\u001b[K     |████████████████████████████████| 22.5 MB 6.2 MB/s \n",
            "\u001b[31mERROR: Operation cancelled by user\u001b[0m\n",
            "\u001b[?25h"
          ]
        }
      ]
    },
    {
      "cell_type": "code",
      "source": [
        "!cmake --version"
      ],
      "metadata": {
        "colab": {
          "base_uri": "https://localhost:8080/"
        },
        "id": "56O_7W2IVBFe",
        "outputId": "1e3d2495-cd4d-40f7-ad6a-464abed538c8"
      },
      "execution_count": null,
      "outputs": [
        {
          "output_type": "stream",
          "name": "stdout",
          "text": [
            "cmake version 3.12.0\n",
            "\n",
            "CMake suite maintained and supported by Kitware (kitware.com/cmake).\n"
          ]
        }
      ]
    },
    {
      "cell_type": "code",
      "source": [
        "#@title make\n",
        "%%bash\n",
        "# had to change -DGMX_GPU=on to -DGMX_GPU=CUDA.\n",
        "cmake .. -DGMX_BUILD_OWN_FFTW=ON -DGMX_GPU=CUDA -DCMAKE_INSTALL_PREFIX=/content/gromacs-2021"
      ],
      "metadata": {
        "colab": {
          "base_uri": "https://localhost:8080/"
        },
        "id": "KnHphphtHRn-",
        "outputId": "958a2c11-c32e-4402-f360-1a6ba3539ebc"
      },
      "execution_count": null,
      "outputs": [
        {
          "output_type": "stream",
          "name": "stderr",
          "text": [
            "CMake Error: The source directory \"/\" does not appear to contain CMakeLists.txt.\n",
            "Specify --help for usage, or press the help button on the CMake GUI.\n"
          ]
        }
      ]
    },
    {
      "cell_type": "code",
      "source": [
        "%%bash\n",
        "make\n",
        "# ~20 min?"
      ],
      "metadata": {
        "colab": {
          "base_uri": "https://localhost:8080/"
        },
        "id": "a99Qe0ogVhSf",
        "outputId": "8068afaa-2578-4b78-c1fc-0e2d5b2216e4"
      },
      "execution_count": null,
      "outputs": [
        {
          "output_type": "stream",
          "name": "stderr",
          "text": [
            "make: *** No targets specified and no makefile found.  Stop.\n"
          ]
        }
      ]
    },
    {
      "cell_type": "code",
      "source": [
        "%%bash\n",
        "make check\n",
        "# 31 min"
      ],
      "metadata": {
        "colab": {
          "base_uri": "https://localhost:8080/"
        },
        "id": "nd_00PnZcy2k",
        "outputId": "fab9a230-ff18-43dc-86ba-ecf7ec45bb2b"
      },
      "execution_count": null,
      "outputs": [
        {
          "output_type": "stream",
          "name": "stderr",
          "text": [
            "make: *** No rule to make target 'check'.  Stop.\n"
          ]
        }
      ]
    },
    {
      "cell_type": "code",
      "source": [
        "%%bash\n",
        "make install"
      ],
      "metadata": {
        "colab": {
          "base_uri": "https://localhost:8080/"
        },
        "id": "TqpFl_f3l1KO",
        "outputId": "f716b279-2773-4ac5-850a-47940269aace"
      },
      "execution_count": null,
      "outputs": [
        {
          "output_type": "stream",
          "name": "stderr",
          "text": [
            "make: *** No rule to make target 'install'.  Stop.\n"
          ]
        }
      ]
    },
    {
      "cell_type": "markdown",
      "metadata": {
        "id": "Iji7m0TCmZJJ"
      },
      "source": [
        "We now check that the installation was successful by loading the GROMACS PATH onto Google Colab."
      ]
    },
    {
      "cell_type": "code",
      "source": [
        "##Checking that GROMACS was successfully installed\n",
        "%%bash\n",
        "source /content/gromacs-2021/bin/GMXRC\n",
        "gmx -h"
      ],
      "metadata": {
        "colab": {
          "base_uri": "https://localhost:8080/"
        },
        "id": "YWrAiq7DmBIS",
        "outputId": "44ff5388-9836-492b-cf52-5300bd314713"
      },
      "execution_count": null,
      "outputs": [
        {
          "output_type": "stream",
          "name": "stderr",
          "text": [
            "bash: line 1: /content/gromacs-2021/bin/GMXRC: No such file or directory\n",
            "bash: line 2: gmx: command not found\n"
          ]
        }
      ]
    },
    {
      "cell_type": "markdown",
      "source": [
        "<mark>SWEET!</MARK>"
      ],
      "metadata": {
        "id": "f7AITKkAmJQ4"
      }
    },
    {
      "cell_type": "code",
      "source": [
        "!pwd"
      ],
      "metadata": {
        "colab": {
          "base_uri": "https://localhost:8080/"
        },
        "id": "JF5NIzZimzgE",
        "outputId": "dc080201-ec0e-403c-f47b-e507a3e175fd"
      },
      "execution_count": null,
      "outputs": [
        {
          "output_type": "stream",
          "name": "stdout",
          "text": [
            "/content\n"
          ]
        }
      ]
    },
    {
      "cell_type": "code",
      "source": [
        "%cd ../../drive/MyDrive"
      ],
      "metadata": {
        "id": "W9gkxBMTm2ep",
        "colab": {
          "base_uri": "https://localhost:8080/"
        },
        "outputId": "8ea155eb-7b57-4d71-accb-bcfeee351e12"
      },
      "execution_count": null,
      "outputs": [
        {
          "output_type": "stream",
          "name": "stdout",
          "text": [
            "[Errno 2] No such file or directory: '../../drive/MyDrive'\n",
            "/content\n"
          ]
        }
      ]
    },
    {
      "cell_type": "code",
      "metadata": {
        "id": "ERImL_mukPdk",
        "colab": {
          "base_uri": "https://localhost:8080/",
          "height": 374
        },
        "outputId": "1029a457-b455-46ce-aefa-5245b43fc8c7"
      },
      "source": [
        "#Copying your compiled GROMACS to your Google Drive\n",
        "#We will create and/or use the IBM3202 folder to create a folder for compiled programs\n",
        "import os\n",
        "import shutil\n",
        "from pathlib import Path \n",
        "IBM3202 = Path(\"/content/drive/MyDrive/IBM3202/\")\n",
        "if os.path.exists(IBM3202):\n",
        "  print(\"IBM3202 already exists\")\n",
        "if not os.path.exists(IBM3202):\n",
        "  os.mkdir(IBM3202)\n",
        "  print(\"IBM3202 did not exists and was succesfully created\")\n",
        "#Then, we will copy the compiled GROMACS to this folder\n",
        "shutil.copytree(str('/content/gromacs-2021'), str(IBM3202/'gromacs-2021'))\n",
        "#!cp -d -r /content/gromacs-2021 \"$IBM3202\"/gromacs-2021\n",
        "print(\"GROMACS successfully backed up!\")"
      ],
      "execution_count": null,
      "outputs": [
        {
          "output_type": "stream",
          "name": "stdout",
          "text": [
            "IBM3202 already exists\n"
          ]
        },
        {
          "output_type": "error",
          "ename": "FileNotFoundError",
          "evalue": "ignored",
          "traceback": [
            "\u001b[0;31m---------------------------------------------------------------------------\u001b[0m",
            "\u001b[0;31mFileNotFoundError\u001b[0m                         Traceback (most recent call last)",
            "\u001b[0;32m<ipython-input-20-9d1a8e2ea6c5>\u001b[0m in \u001b[0;36m<module>\u001b[0;34m()\u001b[0m\n\u001b[1;32m     11\u001b[0m   \u001b[0mprint\u001b[0m\u001b[0;34m(\u001b[0m\u001b[0;34m\"IBM3202 did not exists and was succesfully created\"\u001b[0m\u001b[0;34m)\u001b[0m\u001b[0;34m\u001b[0m\u001b[0;34m\u001b[0m\u001b[0m\n\u001b[1;32m     12\u001b[0m \u001b[0;31m#Then, we will copy the compiled GROMACS to this folder\u001b[0m\u001b[0;34m\u001b[0m\u001b[0;34m\u001b[0m\u001b[0;34m\u001b[0m\u001b[0m\n\u001b[0;32m---> 13\u001b[0;31m \u001b[0mshutil\u001b[0m\u001b[0;34m.\u001b[0m\u001b[0mcopytree\u001b[0m\u001b[0;34m(\u001b[0m\u001b[0mstr\u001b[0m\u001b[0;34m(\u001b[0m\u001b[0;34m'/content/gromacs-2021'\u001b[0m\u001b[0;34m)\u001b[0m\u001b[0;34m,\u001b[0m \u001b[0mstr\u001b[0m\u001b[0;34m(\u001b[0m\u001b[0mIBM3202\u001b[0m\u001b[0;34m/\u001b[0m\u001b[0;34m'gromacs-2021'\u001b[0m\u001b[0;34m)\u001b[0m\u001b[0;34m)\u001b[0m\u001b[0;34m\u001b[0m\u001b[0;34m\u001b[0m\u001b[0m\n\u001b[0m\u001b[1;32m     14\u001b[0m \u001b[0;31m#!cp -d -r /content/gromacs-2021 \"$IBM3202\"/gromacs-2021\u001b[0m\u001b[0;34m\u001b[0m\u001b[0;34m\u001b[0m\u001b[0;34m\u001b[0m\u001b[0m\n\u001b[1;32m     15\u001b[0m \u001b[0mprint\u001b[0m\u001b[0;34m(\u001b[0m\u001b[0;34m\"GROMACS successfully backed up!\"\u001b[0m\u001b[0;34m)\u001b[0m\u001b[0;34m\u001b[0m\u001b[0;34m\u001b[0m\u001b[0m\n",
            "\u001b[0;32m/usr/lib/python3.7/shutil.py\u001b[0m in \u001b[0;36mcopytree\u001b[0;34m(src, dst, symlinks, ignore, copy_function, ignore_dangling_symlinks)\u001b[0m\n\u001b[1;32m    316\u001b[0m \u001b[0;34m\u001b[0m\u001b[0m\n\u001b[1;32m    317\u001b[0m     \"\"\"\n\u001b[0;32m--> 318\u001b[0;31m     \u001b[0mnames\u001b[0m \u001b[0;34m=\u001b[0m \u001b[0mos\u001b[0m\u001b[0;34m.\u001b[0m\u001b[0mlistdir\u001b[0m\u001b[0;34m(\u001b[0m\u001b[0msrc\u001b[0m\u001b[0;34m)\u001b[0m\u001b[0;34m\u001b[0m\u001b[0;34m\u001b[0m\u001b[0m\n\u001b[0m\u001b[1;32m    319\u001b[0m     \u001b[0;32mif\u001b[0m \u001b[0mignore\u001b[0m \u001b[0;32mis\u001b[0m \u001b[0;32mnot\u001b[0m \u001b[0;32mNone\u001b[0m\u001b[0;34m:\u001b[0m\u001b[0;34m\u001b[0m\u001b[0;34m\u001b[0m\u001b[0m\n\u001b[1;32m    320\u001b[0m         \u001b[0mignored_names\u001b[0m \u001b[0;34m=\u001b[0m \u001b[0mignore\u001b[0m\u001b[0;34m(\u001b[0m\u001b[0msrc\u001b[0m\u001b[0;34m,\u001b[0m \u001b[0mnames\u001b[0m\u001b[0;34m)\u001b[0m\u001b[0;34m\u001b[0m\u001b[0;34m\u001b[0m\u001b[0m\n",
            "\u001b[0;31mFileNotFoundError\u001b[0m: [Errno 2] No such file or directory: '/content/gromacs-2021'"
          ]
        }
      ]
    },
    {
      "cell_type": "markdown",
      "source": [
        "## Important Code to Run"
      ],
      "metadata": {
        "id": "ifRa0BB8N3gn"
      }
    },
    {
      "cell_type": "markdown",
      "source": [
        "**Connect to a runtime**  \n",
        "The code cells below need to be run each time you return to Colab.  \n"
      ],
      "metadata": {
        "id": "_czdoLTkN8v1"
      }
    },
    {
      "cell_type": "code",
      "source": [
        "# This gets you into the correct directory\n",
        "%cd /content/drive/MyDrive/"
      ],
      "metadata": {
        "colab": {
          "base_uri": "https://localhost:8080/"
        },
        "outputId": "a1df7b45-de1c-4d56-c3e0-077a59f4948b",
        "id": "rCgLIRYmOOVz"
      },
      "execution_count": null,
      "outputs": [
        {
          "output_type": "stream",
          "name": "stdout",
          "text": [
            "/content/drive/MyDrive\n"
          ]
        }
      ]
    },
    {
      "cell_type": "code",
      "source": [
        "# Give permissions to run gmx\n",
        "!chmod 755 -R /content/drive/MyDrive/IBM3202/gromacs-2021"
      ],
      "metadata": {
        "id": "Uz55mD2FO9FG"
      },
      "execution_count": null,
      "outputs": []
    },
    {
      "cell_type": "code",
      "source": [
        "# Import stuff for graphing\n",
        "import pandas as pd\n",
        "import numpy as np\n",
        "import plotly.graph_objects as go\n",
        "import plotly.express as px\n",
        "from pathlib import Path"
      ],
      "metadata": {
        "id": "R7dcUk_XPNFY"
      },
      "execution_count": null,
      "outputs": []
    },
    {
      "cell_type": "markdown",
      "source": [
        "## Using GROMACS"
      ],
      "metadata": {
        "id": "fx-BrZBE35xY"
      }
    },
    {
      "cell_type": "code",
      "metadata": {
        "id": "tqvwCXoSt9rc",
        "colab": {
          "base_uri": "https://localhost:8080/"
        },
        "outputId": "ad477e4d-9dc0-4949-8a97-1da3ed028915"
      },
      "source": [
        "# Checking that our GROMACS works\n",
        "%%bash\n",
        "source /content/drive/MyDrive/IBM3202/gromacs-2021/bin/GMXRC\n",
        "gmx -h"
      ],
      "execution_count": null,
      "outputs": [
        {
          "output_type": "stream",
          "name": "stderr",
          "text": [
            "/content/drive/MyDrive/IBM3202/gromacs-2021/bin/GMXRC: line 13: /content/gromacs-2021/bin/GMXRC.bash: No such file or directory\n",
            "bash: line 2: gmx: command not found\n"
          ]
        }
      ]
    },
    {
      "cell_type": "markdown",
      "source": [
        "Need to change path in `GMXRC`. On line 13, change \n",
        "\n",
        "```bash\n",
        ". /content/gromacs-2021/bin/GMXRC.bash\n",
        "```\n",
        "to \n",
        "```bash\n",
        ". /content/drive/MyDrive/IBM3202/gromacs-2021/bin/GMXRC.bash\n",
        "```\n"
      ],
      "metadata": {
        "id": "v_9da5886G9m"
      }
    },
    {
      "cell_type": "code",
      "source": [
        "# Checking that our GROMACS works\n",
        "%%bash\n",
        "source /content/drive/MyDrive/IBM3202/gromacs-2021/bin/GMXRC\n",
        "gmx -h"
      ],
      "metadata": {
        "colab": {
          "base_uri": "https://localhost:8080/"
        },
        "id": "ieF_CEa-7LUP",
        "outputId": "d5033eaf-ba88-42c4-e8a2-91b284be5613"
      },
      "execution_count": null,
      "outputs": [
        {
          "output_type": "stream",
          "name": "stderr",
          "text": [
            "bash: line 2: gmx: command not found\n"
          ]
        }
      ]
    },
    {
      "cell_type": "markdown",
      "source": [
        "Need to fix the path in `GMXRC.bash`. Change line 53 to `GMXPREFIX=/content/drive/MyDrive/IBM3202/gromacs-2021`"
      ],
      "metadata": {
        "id": "T7rXLBEj8QTJ"
      }
    },
    {
      "cell_type": "code",
      "source": [
        "# Checking that our GROMACS works\n",
        "%%bash\n",
        "source /content/drive/MyDrive/IBM3202/gromacs-2021/bin/GMXRC\n",
        "gmx -h"
      ],
      "metadata": {
        "colab": {
          "base_uri": "https://localhost:8080/"
        },
        "outputId": "62f29420-4c79-448c-c9ca-c221591c6b6e",
        "id": "PdgLWRPH81vX"
      },
      "execution_count": null,
      "outputs": [
        {
          "output_type": "stream",
          "name": "stderr",
          "text": [
            "bash: line 2: /content/drive/MyDrive/IBM3202/gromacs-2021/bin/gmx: Permission denied\n"
          ]
        }
      ]
    },
    {
      "cell_type": "markdown",
      "source": [
        "Ouch! "
      ],
      "metadata": {
        "id": "Lrrf1Vhl9LEk"
      }
    },
    {
      "cell_type": "code",
      "source": [
        "!chmod 755 -R /content/drive/MyDrive/IBM3202/gromacs-2021"
      ],
      "metadata": {
        "id": "sBZMjG6-9O5e"
      },
      "execution_count": null,
      "outputs": []
    },
    {
      "cell_type": "code",
      "source": [
        "# Checking that our GROMACS works\n",
        "%%bash\n",
        "source /content/drive/MyDrive/IBM3202/gromacs-2021/bin/GMXRC\n",
        "gmx -h"
      ],
      "metadata": {
        "id": "CzHIIAIH9cM_"
      },
      "execution_count": null,
      "outputs": []
    },
    {
      "cell_type": "markdown",
      "source": [
        "<mark>SWEET! Finally!</mark>\n",
        "\n",
        "Okay, it looks like the saved GROMACS binary is working."
      ],
      "metadata": {
        "id": "y05dHr3Z9fi0"
      }
    },
    {
      "cell_type": "markdown",
      "source": [
        "For this test, we will follow the excellent tutorial by Justin Lemkul, [Lysozyme in water](http://www.mdtutorials.com/gmx/lysozyme/index.html), but we will use a different protein. Here we will use the human prion protein (RCSB ID: 1qLz)."
      ],
      "metadata": {
        "id": "YJDWcaVP3_Dd"
      }
    },
    {
      "cell_type": "code",
      "source": [
        "!wget https://www.rcsb.org/structure/1QLZ"
      ],
      "metadata": {
        "colab": {
          "base_uri": "https://localhost:8080/"
        },
        "id": "nqqP9HvQ_fZ1",
        "outputId": "9f6e65ee-4ca9-4b57-c646-946b9991b459"
      },
      "execution_count": null,
      "outputs": [
        {
          "output_type": "stream",
          "name": "stdout",
          "text": [
            "--2022-03-24 17:34:39--  https://www.rcsb.org/structure/1QLZ\n",
            "Resolving www.rcsb.org (www.rcsb.org)... 128.6.159.248\n",
            "Connecting to www.rcsb.org (www.rcsb.org)|128.6.159.248|:443... connected.\n",
            "HTTP request sent, awaiting response... 200 OK\n",
            "Length: 72560 (71K) [text/html]\n",
            "Saving to: ‘1QLZ’\n",
            "\n",
            "1QLZ                100%[===================>]  70.86K  --.-KB/s    in 0.08s   \n",
            "\n",
            "2022-03-24 17:34:39 (936 KB/s) - ‘1QLZ’ saved [72560/72560]\n",
            "\n"
          ]
        }
      ]
    },
    {
      "cell_type": "markdown",
      "source": [
        "## Preparing Structure Files"
      ],
      "metadata": {
        "id": "drjUjOxbMUh8"
      }
    },
    {
      "cell_type": "markdown",
      "source": [
        "The 1QLZ protein structure was solved by NMR, which means that 20 structures were deposited in one `.pdb` file. Here we will use the *stream editor*, `sed`, because `grep` is designed for use on lines of text and we want to collect a block of text<a name=\"cite_ref-1\"></a>[<sup>[1]</sup>](#cite_note-1).\n",
        "\n",
        "The `.pdb` file has the following format:\n",
        "\n",
        "```pdb\n",
        "MODEL        1                                                                  \n",
        "ATOM      1  N   LEU A 125       4.329 -12.012   2.376  1.00  0.00           N  \n",
        "ATOM      2  CA  LEU A 125       5.029 -10.769   2.674  1.00  0.00           C  \n",
        "...\n",
        "ENDMDL                                                                          \n",
        "MODEL        2                                                                  \n",
        "ATOM      1  N   LEU A 125       5.962 -12.281  -0.586  1.00  0.00           N  \n",
        "ATOM      2  CA  LEU A 125       6.228 -10.948  -0.052  1.00  0.00           C  \n",
        "...\n",
        "```\n",
        "\n",
        "Note that each model is preceded by a line that designates the model number (`MODEL 1`, `MODEL 2`, and so on) and ends with the line `ENDMDL`. We can use these as starting and stopping patterns for each model that we want to extract from this file.\n",
        "\n",
        "*Regex*, which is short for *Regular Expressions*<a name=\"cite_ref-2\"></a>[<sup>[2]</sup>](#cite_note-2) is used for search and replace of characters in certain text files (but cannot be used for `html` files--see [Stackoverflow](https://stackoverflow.com/questions/1732348/regex-match-open-tags-except-xhtml-self-contained-tags/1732454#1732454)). In our case we want to extract the text between the patterns `MODEL 1` and `ENDMDL` (including the patterns) into a new file. I got the code, below, from [Stackoverflow](https://stackoverflow.com/questions/4857424/extract-lines-between-2-tokens-in-a-text-file-using-bash), but had to modify it for using `sed` on Mac OSX (you need the `-E` option). The `-E` option may or may not be necessary for Colab.\n",
        "\n",
        "```bash\n",
        "# Here is the sed command\n",
        "sed -E -n '/^MODEL +1 /,/^ENDMDL/w 1qLz-model1.pdb' 1qlz.pdb\n",
        "```\n",
        "\n",
        "#### Explanation of command\n",
        "\n",
        "- `sed -E` use extended regular expressions  \n",
        "- `-n` do not echo every line to output  \n",
        "- `'/START/,/STOP/'` pattern to search for; we start at lines that begin with `MODEL 1` and end with lines that begin with `ENDMDL`  \n",
        "- `^` is Regex for the beginning of a line  \n",
        "- `<space> +` search for 1 or more spaces  \n",
        "- `1 <space>`, search for the number 1 followed by a space (or else you get model 19)  \n",
        "- `w 1qLz-model1.pdb` write the output to the file `1qLz-model1.pdb`  \n",
        "- `1qlz.pdb` is the input file\n",
        "\n",
        "---\n",
        "<a name=\"cite_note-1\"></a>1. It is possible to extract blocks of text using `grep` but it is not as easy as using `sed`.[&#8617;](#cite_ref-1)\n",
        "\n",
        "<a name=\"cite_note-2\"></a>2. The [Python Regex Cheat Sheet](https://www.geeksforgeeks.org/python-regex-cheat-sheet/) has a list of many common regular expressions and is a useful reference.[&#8617;](#cite_ref-2)\n",
        "\n"
      ],
      "metadata": {
        "id": "ToFRL7-rNYZE"
      }
    },
    {
      "cell_type": "markdown",
      "source": [
        "#### Questions\n",
        "\n",
        "Look at your single-model file. How many amino acids are in the protein? (Hint: you can use `grep` to quickly determine this)."
      ],
      "metadata": {
        "id": "TqnecKtgzdLY"
      }
    },
    {
      "cell_type": "code",
      "source": [
        ""
      ],
      "metadata": {
        "id": "JwVWrtlav7FH"
      },
      "execution_count": null,
      "outputs": []
    },
    {
      "cell_type": "markdown",
      "source": [
        "## Preparing the Simulation"
      ],
      "metadata": {
        "id": "u1R59j1dS6-S"
      }
    },
    {
      "cell_type": "markdown",
      "source": [
        "For this test, I will follow along with the [Molecular Modeling Practical](http://md.chem.rug.nl/~mdcourse/molmod2012/md.html) and with the [Lysozyme in water](http://www.mdtutorials.com/gmx/lysozyme/01_pdb2gmx.html) tutorial.\n",
        "\n",
        "Note that the protein structure file we are using has no missing loops or other problems."
      ],
      "metadata": {
        "id": "BwS4NP4CUoFi"
      }
    },
    {
      "cell_type": "markdown",
      "source": [
        "### Structure Conversion And Topology"
      ],
      "metadata": {
        "id": "EXdFw7Y9VdRR"
      }
    },
    {
      "cell_type": "markdown",
      "source": [
        "We want to use the GROMOS 45a3 force field and the SPC water model\n",
        "\n",
        "To make things easier, rename the `1qLz-model1.pdb` file to `protein.pdb`.\n",
        "\n"
      ],
      "metadata": {
        "id": "ypBCwYRGVqZa"
      }
    },
    {
      "cell_type": "code",
      "source": [
        "%cd /content/drive/MyDrive/"
      ],
      "metadata": {
        "colab": {
          "base_uri": "https://localhost:8080/"
        },
        "id": "LrvdKYWhUiVr",
        "outputId": "b7cd029d-5bb4-4a3a-fd06-34adb82aa41c"
      },
      "execution_count": null,
      "outputs": [
        {
          "output_type": "stream",
          "name": "stdout",
          "text": [
            "/content/drive/MyDrive\n"
          ]
        }
      ]
    },
    {
      "cell_type": "code",
      "source": [
        "!pwd"
      ],
      "metadata": {
        "colab": {
          "base_uri": "https://localhost:8080/"
        },
        "id": "kSZWdXGnWbXM",
        "outputId": "b99f2f60-2eb3-45ae-b696-0f23119172fc"
      },
      "execution_count": null,
      "outputs": [
        {
          "output_type": "stream",
          "name": "stdout",
          "text": [
            "/content/drive/MyDrive\n"
          ]
        }
      ]
    },
    {
      "cell_type": "code",
      "source": [
        "%mv 1qLz-model1.pdb protein.pdb"
      ],
      "metadata": {
        "id": "QkqXrs2PXpQ5"
      },
      "execution_count": null,
      "outputs": []
    },
    {
      "cell_type": "markdown",
      "source": [
        "Usually when running `pdb2gmx` we interactively select the force field, and the water model, but when using Colab, we have to specify them when running the command.\n",
        "\n",
        "\n",
        "```bash\n",
        "gmx pdb2gmx -f protein.pdb -o protein.gro -p protein.top -ignh -ff -water spce -ff amber99sb-ildn\n",
        "```"
      ],
      "metadata": {
        "id": "0TgrQ5svYAQj"
      }
    },
    {
      "cell_type": "code",
      "source": [
        "%%bash\n",
        "source /content/drive/MyDrive/IBM3202/gromacs-2021/bin/GMXRC\n",
        "gmx pdb2gmx -f protein.pdb -o protein.gro -p protein.top -ignh -water spce -ff oplsaa"
      ],
      "metadata": {
        "colab": {
          "base_uri": "https://localhost:8080/"
        },
        "id": "RsSXLTR6ZA8Q",
        "outputId": "098ec8a3-3249-4880-a20f-049427536a0a"
      },
      "execution_count": null,
      "outputs": [
        {
          "output_type": "stream",
          "name": "stdout",
          "text": [
            "Using the Oplsaa force field in directory oplsaa.ff\n",
            "\n",
            "going to rename oplsaa.ff/aminoacids.r2b\n",
            "Reading protein.pdb...\n",
            "Read '', 877 atoms\n",
            "\n",
            "Analyzing pdb file\n",
            "Splitting chemical chains based on TER records or chain id changing.\n",
            "\n",
            "There are 1 chains and 0 blocks of water and 104 residues with 877 atoms\n",
            "\n",
            "  chain  #res #atoms\n",
            "\n",
            "  1 'A'   104    877  \n",
            "\n",
            "All occupancies are one\n",
            "\n",
            "Reading residue database... (Oplsaa)\n",
            "\n",
            "Processing chain 1 'A' (877 atoms, 104 residues)\n",
            "\n",
            "Identified residue LEU125 as a starting terminus.\n",
            "\n",
            "Identified residue ARG228 as a ending terminus.\n",
            "Start terminus LEU-125: NH3+\n",
            "End terminus ARG-228: COO-\n",
            "\n",
            "Checking for duplicate atoms....\n",
            "\n",
            "Generating any missing hydrogen atoms and/or adding termini.\n",
            "\n",
            "Now there are 104 residues with 1694 atoms\n",
            "\n",
            "Making bonds...\n",
            "\n",
            "Number of bonds was 1715, now 1715\n",
            "\n",
            "Generating angles, dihedrals and pairs...\n",
            "\n",
            "Making cmap torsions...\n",
            "\n",
            "There are 4470 dihedrals,  381 impropers, 3053 angles\n",
            "          4393 pairs,     1715 bonds and     0 virtual sites\n",
            "\n",
            "Total mass 12539.970 a.m.u.\n",
            "\n",
            "Total charge -3.000 e\n",
            "\n",
            "Writing topology\n",
            "\n",
            "Writing coordinate file...\n",
            "\n",
            "\t\t--------- PLEASE NOTE ------------\n",
            "\n",
            "You have successfully generated a topology from: protein.pdb.\n",
            "\n",
            "The Oplsaa force field and the spce water model are used.\n",
            "\n",
            "\t\t--------- ETON ESAELP ------------\n"
          ]
        },
        {
          "output_type": "stream",
          "name": "stderr",
          "text": [
            "                     :-) GROMACS - gmx pdb2gmx, 2021.5 (-:\n",
            "\n",
            "                            GROMACS is written by:\n",
            "     Andrey Alekseenko              Emile Apol              Rossen Apostolov     \n",
            "         Paul Bauer           Herman J.C. Berendsen           Par Bjelkmar       \n",
            "       Christian Blau           Viacheslav Bolnykh             Kevin Boyd        \n",
            "     Aldert van Buuren           Rudi van Drunen             Anton Feenstra      \n",
            "    Gilles Gouaillardet             Alan Gray               Gerrit Groenhof      \n",
            "       Anca Hamuraru            Vincent Hindriksen          M. Eric Irrgang      \n",
            "      Aleksei Iupinov           Christoph Junghans             Joe Jordan        \n",
            "    Dimitrios Karkoulis            Peter Kasson                Jiri Kraus        \n",
            "      Carsten Kutzner              Per Larsson              Justin A. Lemkul     \n",
            "       Viveca Lindahl            Magnus Lundborg             Erik Marklund       \n",
            "        Pascal Merz             Pieter Meulenhoff            Teemu Murtola       \n",
            "        Szilard Pall               Sander Pronk              Roland Schulz       \n",
            "       Michael Shirts            Alexey Shvetsov             Alfons Sijbers      \n",
            "       Peter Tieleman              Jon Vincent              Teemu Virolainen     \n",
            "     Christian Wennberg            Maarten Wolf              Artem Zhmurov       \n",
            "                           and the project leaders:\n",
            "        Mark Abraham, Berk Hess, Erik Lindahl, and David van der Spoel\n",
            "\n",
            "Copyright (c) 1991-2000, University of Groningen, The Netherlands.\n",
            "Copyright (c) 2001-2019, The GROMACS development team at\n",
            "Uppsala University, Stockholm University and\n",
            "the Royal Institute of Technology, Sweden.\n",
            "check out http://www.gromacs.org for more information.\n",
            "\n",
            "GROMACS is free software; you can redistribute it and/or modify it\n",
            "under the terms of the GNU Lesser General Public License\n",
            "as published by the Free Software Foundation; either version 2.1\n",
            "of the License, or (at your option) any later version.\n",
            "\n",
            "GROMACS:      gmx pdb2gmx, version 2021.5\n",
            "Executable:   /content/drive/MyDrive/IBM3202/gromacs-2021/bin/gmx\n",
            "Data prefix:  /content/drive/MyDrive/IBM3202/gromacs-2021\n",
            "Working dir:  /content/drive/MyDrive\n",
            "Command line:\n",
            "  gmx pdb2gmx -f protein.pdb -o protein.gro -p protein.top -ignh -water spce -ff oplsaa\n",
            "\n",
            "Opening force field file /content/drive/MyDrive/IBM3202/gromacs-2021/share/gromacs/top/oplsaa.ff/aminoacids.r2b\n",
            "All occupancies are one\n",
            "Opening force field file /content/drive/MyDrive/IBM3202/gromacs-2021/share/gromacs/top/oplsaa.ff/atomtypes.atp\n",
            "Opening force field file /content/drive/MyDrive/IBM3202/gromacs-2021/share/gromacs/top/oplsaa.ff/aminoacids.rtp\n",
            "Opening force field file /content/drive/MyDrive/IBM3202/gromacs-2021/share/gromacs/top/oplsaa.ff/aminoacids.hdb\n",
            "Opening force field file /content/drive/MyDrive/IBM3202/gromacs-2021/share/gromacs/top/oplsaa.ff/aminoacids.n.tdb\n",
            "Opening force field file /content/drive/MyDrive/IBM3202/gromacs-2021/share/gromacs/top/oplsaa.ff/aminoacids.c.tdb\n",
            "Analysing hydrogen-bonding network for automated assignment of histidine\n",
            " protonation. 178 donors and 171 acceptors were found.\n",
            "There are 216 hydrogen bonds\n",
            "Will use HISE for residue 140\n",
            "Will use HISE for residue 155\n",
            "Will use HISE for residue 177\n",
            "Will use HISE for residue 187\n",
            "8 out of 8 lines of specbond.dat converted successfully\n",
            "Special Atom Distance matrix:\n",
            "                  MET129  MET134  HIS140  MET154  HIS155  MET166  HIS177\n",
            "                    SD35    SD66  NE2117   SD245  NE2256   SD359  NE2456\n",
            "  MET134    SD66   1.507\n",
            "  HIS140  NE2117   2.884   1.487\n",
            "  MET154   SD245   2.685   1.446   1.327\n",
            "  HIS155  NE2256   2.738   1.628   1.748   0.436\n",
            "  MET166   SD359   1.044   1.506   2.573   2.875   3.067\n",
            "  HIS177  NE2456   2.028   1.867   2.085   2.454   2.753   1.708\n",
            "  CYS179   SG470   1.199   1.044   1.912   2.063   2.290   1.025   0.968\n",
            "  HIS187  NE2536   1.872   1.547   2.217   1.414   1.410   2.399   1.887\n",
            "  MET205   SD673   2.769   1.814   1.391   1.108   1.420   2.830   1.760\n",
            "  MET206   SD681   2.144   1.549   1.819   1.267   1.430   2.419   1.546\n",
            "  MET213   SD741   1.544   0.446   1.497   1.186   1.355   1.715   1.729\n",
            "  CYS214   SG748   1.145   0.883   1.856   2.017   2.239   0.942   1.145\n",
            "                  CYS179  HIS187  MET205  MET206  MET213\n",
            "                   SG470  NE2536   SD673   SD681   SD741\n",
            "  HIS187  NE2536   1.516\n",
            "  MET205   SD673   1.835   1.326\n",
            "  MET206   SD681   1.420   0.601   0.777\n",
            "  MET213   SD741   0.999   1.112   1.470   1.122\n",
            "  CYS214   SG748   0.202   1.567   1.895   1.499   0.907\n",
            "Linking CYS-179 SG-470 and CYS-214 SG-748...\n",
            "Before cleaning: 4435 pairs\n",
            "Before cleaning: 4470 dihedrals\n",
            "Keeping all generated dihedrals\n",
            "\n",
            "GROMACS reminds you: \"Trying is the first step towards failure.\" (Homer Simpson)\n",
            "\n"
          ]
        }
      ]
    },
    {
      "cell_type": "markdown",
      "source": [
        "#### Questions"
      ],
      "metadata": {
        "id": "vgmGyIlvcLyx"
      }
    },
    {
      "cell_type": "markdown",
      "source": [
        "Write down the number of atoms before and after the conversion and explain the difference.\n",
        "\n",
        "List the atoms, atom types and charges from a tyrosine residue as given in the topology file"
      ],
      "metadata": {
        "id": "D6HeuU6fcPDu"
      }
    },
    {
      "cell_type": "markdown",
      "source": [
        "### Energy Minimization"
      ],
      "metadata": {
        "id": "7EsW0ZlVcWm4"
      }
    },
    {
      "cell_type": "markdown",
      "source": [
        "Use the `minim.mdp` file from [here](http://md.chem.rug.nl/~mdcourse/molmod2012/minim.mdp). Transfer it to your `/content/drive/MyDrive` directory.\n",
        "\n",
        "NOTE: this `.mdp` file causes a fatal error with the current version of GROMACS.\n",
        "\n",
        "```bash\n",
        "%%bash\n",
        "source /content/drive/MyDrive/IBM3202/gromacs-2021/bin/GMXRC\n",
        "gmx grompp -f minim.mdp -c protein.gro -p protein.top -o protein-EM-vacuum.tpr\n",
        "```\n",
        "\n"
      ],
      "metadata": {
        "id": "Grse9SUCcosZ"
      }
    },
    {
      "cell_type": "code",
      "source": [
        "%%bash\n",
        "# this had a fatal error\n",
        "source /content/drive/MyDrive/IBM3202/gromacs-2021/bin/GMXRC\n",
        "gmx grompp -f minim.mdp -c protein.gro -p protein.top -o protein-EM-vacuum.tpr"
      ],
      "metadata": {
        "id": "WWL-STCEeB0w"
      },
      "execution_count": null,
      "outputs": []
    },
    {
      "cell_type": "markdown",
      "source": [
        "### Solvation"
      ],
      "metadata": {
        "id": "SWB2ZbzYfdT2"
      }
    },
    {
      "cell_type": "markdown",
      "source": [
        "The below is from Justin Lemkul's [Lysozyme in water](http://www.mdtutorials.com/gmx/lysozyme/03_solvate.html) tutorial.\n",
        "\n",
        "```bash\n",
        "gmx editconf -f protein.gro -o protein_newbox.gro -c -d 1.0 -bt cubic\n",
        "```\n"
      ],
      "metadata": {
        "id": "HQ25ZH4lfqs-"
      }
    },
    {
      "cell_type": "code",
      "source": [
        "%%bash\n",
        "source /content/drive/MyDrive/IBM3202/gromacs-2021/bin/GMXRC\n",
        "gmx editconf -f protein.gro -o protein_newbox.gro -c -d 1.0 -bt cubic"
      ],
      "metadata": {
        "colab": {
          "base_uri": "https://localhost:8080/"
        },
        "id": "g7_hmHcEgEJY",
        "outputId": "2e896f83-ebb9-403e-fe80-93749b2483bc"
      },
      "execution_count": null,
      "outputs": [
        {
          "output_type": "stream",
          "name": "stdout",
          "text": [
            "Note that major changes are planned in future for editconf, to improve usability and utility.\n",
            "Read 1694 atoms\n",
            "Volume: 63.8311 nm^3, corresponds to roughly 28700 electrons\n",
            "No velocities found\n",
            "    system size :  4.966  3.770  3.410 (nm)\n",
            "    diameter    :  5.100               (nm)\n",
            "    center      : -0.395  0.122 -0.045 (nm)\n",
            "    box vectors :  4.966  3.770  3.410 (nm)\n",
            "    box angles  :  90.00  90.00  90.00 (degrees)\n",
            "    box volume  :  63.83               (nm^3)\n",
            "    shift       :  3.945  3.428  3.595 (nm)\n",
            "new center      :  3.550  3.550  3.550 (nm)\n",
            "new box vectors :  7.100  7.100  7.100 (nm)\n",
            "new box angles  :  90.00  90.00  90.00 (degrees)\n",
            "new box volume  : 357.96               (nm^3)\n"
          ]
        },
        {
          "output_type": "stream",
          "name": "stderr",
          "text": [
            "                     :-) GROMACS - gmx editconf, 2021.5 (-:\n",
            "\n",
            "                            GROMACS is written by:\n",
            "     Andrey Alekseenko              Emile Apol              Rossen Apostolov     \n",
            "         Paul Bauer           Herman J.C. Berendsen           Par Bjelkmar       \n",
            "       Christian Blau           Viacheslav Bolnykh             Kevin Boyd        \n",
            "     Aldert van Buuren           Rudi van Drunen             Anton Feenstra      \n",
            "    Gilles Gouaillardet             Alan Gray               Gerrit Groenhof      \n",
            "       Anca Hamuraru            Vincent Hindriksen          M. Eric Irrgang      \n",
            "      Aleksei Iupinov           Christoph Junghans             Joe Jordan        \n",
            "    Dimitrios Karkoulis            Peter Kasson                Jiri Kraus        \n",
            "      Carsten Kutzner              Per Larsson              Justin A. Lemkul     \n",
            "       Viveca Lindahl            Magnus Lundborg             Erik Marklund       \n",
            "        Pascal Merz             Pieter Meulenhoff            Teemu Murtola       \n",
            "        Szilard Pall               Sander Pronk              Roland Schulz       \n",
            "       Michael Shirts            Alexey Shvetsov             Alfons Sijbers      \n",
            "       Peter Tieleman              Jon Vincent              Teemu Virolainen     \n",
            "     Christian Wennberg            Maarten Wolf              Artem Zhmurov       \n",
            "                           and the project leaders:\n",
            "        Mark Abraham, Berk Hess, Erik Lindahl, and David van der Spoel\n",
            "\n",
            "Copyright (c) 1991-2000, University of Groningen, The Netherlands.\n",
            "Copyright (c) 2001-2019, The GROMACS development team at\n",
            "Uppsala University, Stockholm University and\n",
            "the Royal Institute of Technology, Sweden.\n",
            "check out http://www.gromacs.org for more information.\n",
            "\n",
            "GROMACS is free software; you can redistribute it and/or modify it\n",
            "under the terms of the GNU Lesser General Public License\n",
            "as published by the Free Software Foundation; either version 2.1\n",
            "of the License, or (at your option) any later version.\n",
            "\n",
            "GROMACS:      gmx editconf, version 2021.5\n",
            "Executable:   /content/drive/MyDrive/IBM3202/gromacs-2021/bin/gmx\n",
            "Data prefix:  /content/drive/MyDrive/IBM3202/gromacs-2021\n",
            "Working dir:  /content/drive/MyDrive\n",
            "Command line:\n",
            "  gmx editconf -f protein.gro -o protein_newbox.gro -c -d 1.0 -bt cubic\n",
            "\n",
            "\n",
            "GROMACS reminds you: \"Science is the record of dead religions.\" (Oscar Wilde)\n",
            "\n"
          ]
        }
      ]
    },
    {
      "cell_type": "code",
      "source": [
        "%%bash\n",
        "source /content/drive/MyDrive/IBM3202/gromacs-2021/bin/GMXRC\n",
        "gmx solvate -cp protein_newbox.gro -cs spc216.gro -o protein_solv.gro -p protein.top"
      ],
      "metadata": {
        "colab": {
          "base_uri": "https://localhost:8080/"
        },
        "id": "D5yfr1QtguLw",
        "outputId": "0e01e278-87b8-4004-e99b-162f86ffbf3d"
      },
      "execution_count": null,
      "outputs": [
        {
          "output_type": "stream",
          "name": "stdout",
          "text": [
            "\n",
            "WARNING: Masses and atomic (Van der Waals) radii will be guessed\n",
            "         based on residue and atom names, since they could not be\n",
            "         definitively assigned from the information in your input\n",
            "         files. These guessed numbers might deviate from the mass\n",
            "         and radius of the atom type. Please check the output\n",
            "         files if necessary.\n",
            "\n",
            "NOTE: From version 5.0 gmx solvate uses the Van der Waals radii\n",
            "from the source below. This means the results may be different\n",
            "compared to previous GROMACS versions.\n",
            "\n",
            "++++ PLEASE READ AND CITE THE FOLLOWING REFERENCE ++++\n",
            "A. Bondi\n",
            "van der Waals Volumes and Radii\n",
            "J. Phys. Chem. 68 (1964) pp. 441-451\n",
            "-------- -------- --- Thank You --- -------- --------\n",
            "\n",
            "Adding line for 11130 solvent molecules with resname (SOL) to topology file (protein.top)\n"
          ]
        },
        {
          "output_type": "stream",
          "name": "stderr",
          "text": [
            "                     :-) GROMACS - gmx solvate, 2021.5 (-:\n",
            "\n",
            "                            GROMACS is written by:\n",
            "     Andrey Alekseenko              Emile Apol              Rossen Apostolov     \n",
            "         Paul Bauer           Herman J.C. Berendsen           Par Bjelkmar       \n",
            "       Christian Blau           Viacheslav Bolnykh             Kevin Boyd        \n",
            "     Aldert van Buuren           Rudi van Drunen             Anton Feenstra      \n",
            "    Gilles Gouaillardet             Alan Gray               Gerrit Groenhof      \n",
            "       Anca Hamuraru            Vincent Hindriksen          M. Eric Irrgang      \n",
            "      Aleksei Iupinov           Christoph Junghans             Joe Jordan        \n",
            "    Dimitrios Karkoulis            Peter Kasson                Jiri Kraus        \n",
            "      Carsten Kutzner              Per Larsson              Justin A. Lemkul     \n",
            "       Viveca Lindahl            Magnus Lundborg             Erik Marklund       \n",
            "        Pascal Merz             Pieter Meulenhoff            Teemu Murtola       \n",
            "        Szilard Pall               Sander Pronk              Roland Schulz       \n",
            "       Michael Shirts            Alexey Shvetsov             Alfons Sijbers      \n",
            "       Peter Tieleman              Jon Vincent              Teemu Virolainen     \n",
            "     Christian Wennberg            Maarten Wolf              Artem Zhmurov       \n",
            "                           and the project leaders:\n",
            "        Mark Abraham, Berk Hess, Erik Lindahl, and David van der Spoel\n",
            "\n",
            "Copyright (c) 1991-2000, University of Groningen, The Netherlands.\n",
            "Copyright (c) 2001-2019, The GROMACS development team at\n",
            "Uppsala University, Stockholm University and\n",
            "the Royal Institute of Technology, Sweden.\n",
            "check out http://www.gromacs.org for more information.\n",
            "\n",
            "GROMACS is free software; you can redistribute it and/or modify it\n",
            "under the terms of the GNU Lesser General Public License\n",
            "as published by the Free Software Foundation; either version 2.1\n",
            "of the License, or (at your option) any later version.\n",
            "\n",
            "GROMACS:      gmx solvate, version 2021.5\n",
            "Executable:   /content/drive/MyDrive/IBM3202/gromacs-2021/bin/gmx\n",
            "Data prefix:  /content/drive/MyDrive/IBM3202/gromacs-2021\n",
            "Working dir:  /content/drive/MyDrive\n",
            "Command line:\n",
            "  gmx solvate -cp protein_newbox.gro -cs spc216.gro -o protein_solv.gro -p protein.top\n",
            "\n",
            "Reading solute configuration\n",
            "Reading solvent configuration\n",
            "\n",
            "Initialising inter-atomic distances...\n",
            "Generating solvent configuration\n",
            "Will generate new solvent configuration of 4x4x4 boxes\n",
            "Solvent box contains 40896 atoms in 13632 residues\n",
            "Removed 5838 solvent atoms due to solvent-solvent overlap\n",
            "Removed 1668 solvent atoms due to solute-solvent overlap\n",
            "Sorting configuration\n",
            "Found 1 molecule type:\n",
            "    SOL (   3 atoms): 11130 residues\n",
            "Generated solvent containing 33390 atoms in 11130 residues\n",
            "Writing generated configuration to protein_solv.gro\n",
            "\n",
            "Output configuration contains 35084 atoms in 11234 residues\n",
            "Volume                 :     357.959 (nm^3)\n",
            "Density                :     992.121 (g/l)\n",
            "Number of solvent molecules:  11130   \n",
            "\n",
            "Processing topology\n",
            "\n",
            "Back Off! I just backed up protein.top to ./#protein.top.1#\n",
            "\n",
            "GROMACS reminds you: \"If you know you are on the right track, if you have this inner knowledge, then nobody can turn you off... no matter what they say.\" (Barbara McClintock)\n",
            "\n"
          ]
        }
      ]
    },
    {
      "cell_type": "markdown",
      "source": [
        "### Adding Ions"
      ],
      "metadata": {
        "id": "RYCukHlRhdTN"
      }
    },
    {
      "cell_type": "markdown",
      "source": [
        "Use the `.mdp` file from [here](http://www.mdtutorials.com/gmx/lysozyme/Files/ions.mdp).\n",
        "\n",
        "```bash\n",
        "gmx grompp -f ions.mdp -c protein_solv.gro -p protein.top -o ions.tpr\n",
        "```"
      ],
      "metadata": {
        "id": "wKHFGZOhhgD8"
      }
    },
    {
      "cell_type": "code",
      "source": [
        "%%bash\n",
        "source /content/drive/MyDrive/IBM3202/gromacs-2021/bin/GMXRC\n",
        "gmx grompp -f ions.mdp -c protein_solv.gro -p protein.top -o ions.tpr"
      ],
      "metadata": {
        "colab": {
          "base_uri": "https://localhost:8080/"
        },
        "id": "WYAPRTPUjXh7",
        "outputId": "5183e030-4a3b-463c-dda6-d742be02574d"
      },
      "execution_count": null,
      "outputs": [
        {
          "output_type": "stream",
          "name": "stdout",
          "text": [
            "Setting the LD random seed to -1627914545\n",
            "\n",
            "Generated 330891 of the 330891 non-bonded parameter combinations\n",
            "\n",
            "Generated 330891 of the 330891 1-4 parameter combinations\n",
            "\n",
            "Excluding 3 bonded neighbours molecule type 'Protein_chain_A'\n",
            "\n",
            "Excluding 2 bonded neighbours molecule type 'SOL'\n",
            "Analysing residue names:\n",
            "There are:   104    Protein residues\n",
            "There are: 11130      Water residues\n",
            "Analysing Protein...\n",
            "\n",
            "This run will generate roughly 3 Mb of data\n"
          ]
        },
        {
          "output_type": "stream",
          "name": "stderr",
          "text": [
            "                      :-) GROMACS - gmx grompp, 2021.5 (-:\n",
            "\n",
            "                            GROMACS is written by:\n",
            "     Andrey Alekseenko              Emile Apol              Rossen Apostolov     \n",
            "         Paul Bauer           Herman J.C. Berendsen           Par Bjelkmar       \n",
            "       Christian Blau           Viacheslav Bolnykh             Kevin Boyd        \n",
            "     Aldert van Buuren           Rudi van Drunen             Anton Feenstra      \n",
            "    Gilles Gouaillardet             Alan Gray               Gerrit Groenhof      \n",
            "       Anca Hamuraru            Vincent Hindriksen          M. Eric Irrgang      \n",
            "      Aleksei Iupinov           Christoph Junghans             Joe Jordan        \n",
            "    Dimitrios Karkoulis            Peter Kasson                Jiri Kraus        \n",
            "      Carsten Kutzner              Per Larsson              Justin A. Lemkul     \n",
            "       Viveca Lindahl            Magnus Lundborg             Erik Marklund       \n",
            "        Pascal Merz             Pieter Meulenhoff            Teemu Murtola       \n",
            "        Szilard Pall               Sander Pronk              Roland Schulz       \n",
            "       Michael Shirts            Alexey Shvetsov             Alfons Sijbers      \n",
            "       Peter Tieleman              Jon Vincent              Teemu Virolainen     \n",
            "     Christian Wennberg            Maarten Wolf              Artem Zhmurov       \n",
            "                           and the project leaders:\n",
            "        Mark Abraham, Berk Hess, Erik Lindahl, and David van der Spoel\n",
            "\n",
            "Copyright (c) 1991-2000, University of Groningen, The Netherlands.\n",
            "Copyright (c) 2001-2019, The GROMACS development team at\n",
            "Uppsala University, Stockholm University and\n",
            "the Royal Institute of Technology, Sweden.\n",
            "check out http://www.gromacs.org for more information.\n",
            "\n",
            "GROMACS is free software; you can redistribute it and/or modify it\n",
            "under the terms of the GNU Lesser General Public License\n",
            "as published by the Free Software Foundation; either version 2.1\n",
            "of the License, or (at your option) any later version.\n",
            "\n",
            "GROMACS:      gmx grompp, version 2021.5\n",
            "Executable:   /content/drive/MyDrive/IBM3202/gromacs-2021/bin/gmx\n",
            "Data prefix:  /content/drive/MyDrive/IBM3202/gromacs-2021\n",
            "Working dir:  /content/drive/MyDrive\n",
            "Command line:\n",
            "  gmx grompp -f ions.mdp -c protein_solv.gro -p protein.top -o ions.tpr\n",
            "\n",
            "Ignoring obsolete mdp entry 'ns_type'\n",
            "\n",
            "NOTE 1 [file ions.mdp]:\n",
            "  With Verlet lists the optimal nstlist is >= 10, with GPUs >= 20. Note\n",
            "  that with the Verlet scheme, nstlist has no effect on the accuracy of\n",
            "  your simulation.\n",
            "\n",
            "Generating 1-4 interactions: fudge = 0.5\n",
            "\n",
            "NOTE 2 [file protein.top, line 15880]:\n",
            "  System has non-zero total charge: -3.000000\n",
            "  Total charge should normally be an integer. See\n",
            "  http://www.gromacs.org/Documentation/Floating_Point_Arithmetic\n",
            "  for discussion on how close it should be to an integer.\n",
            "  \n",
            "\n",
            "\n",
            "Number of degrees of freedom in T-Coupling group rest is 71859.00\n",
            "\n",
            "NOTE 3 [file ions.mdp]:\n",
            "  You are using a plain Coulomb cut-off, which might produce artifacts.\n",
            "  You might want to consider using PME electrostatics.\n",
            "\n",
            "\n",
            "\n",
            "There were 3 notes\n",
            "\n",
            "GROMACS reminds you: \"I originally implemented PME to prove that you didn't need it...\" (Erik Lindahl)\n",
            "\n"
          ]
        }
      ]
    },
    {
      "cell_type": "code",
      "source": [
        "%%bash\n",
        "source /content/drive/MyDrive/IBM3202/gromacs-2021/bin/GMXRC\n",
        "gmx genion -s ions.tpr -o protein_solv_ions.gro -p protein.top -pname NA -nname CL -neutral"
      ],
      "metadata": {
        "colab": {
          "base_uri": "https://localhost:8080/"
        },
        "id": "n981mY1Lj241",
        "outputId": "2f2cc7f8-6805-4726-e5f8-e647fba1b173"
      },
      "execution_count": null,
      "outputs": [
        {
          "output_type": "stream",
          "name": "stdout",
          "text": [
            "Will try to add 3 NA ions and 0 CL ions.\n",
            "Select a continuous group of solvent molecules\n"
          ]
        },
        {
          "output_type": "stream",
          "name": "stderr",
          "text": [
            "                      :-) GROMACS - gmx genion, 2021.5 (-:\n",
            "\n",
            "                            GROMACS is written by:\n",
            "     Andrey Alekseenko              Emile Apol              Rossen Apostolov     \n",
            "         Paul Bauer           Herman J.C. Berendsen           Par Bjelkmar       \n",
            "       Christian Blau           Viacheslav Bolnykh             Kevin Boyd        \n",
            "     Aldert van Buuren           Rudi van Drunen             Anton Feenstra      \n",
            "    Gilles Gouaillardet             Alan Gray               Gerrit Groenhof      \n",
            "       Anca Hamuraru            Vincent Hindriksen          M. Eric Irrgang      \n",
            "      Aleksei Iupinov           Christoph Junghans             Joe Jordan        \n",
            "    Dimitrios Karkoulis            Peter Kasson                Jiri Kraus        \n",
            "      Carsten Kutzner              Per Larsson              Justin A. Lemkul     \n",
            "       Viveca Lindahl            Magnus Lundborg             Erik Marklund       \n",
            "        Pascal Merz             Pieter Meulenhoff            Teemu Murtola       \n",
            "        Szilard Pall               Sander Pronk              Roland Schulz       \n",
            "       Michael Shirts            Alexey Shvetsov             Alfons Sijbers      \n",
            "       Peter Tieleman              Jon Vincent              Teemu Virolainen     \n",
            "     Christian Wennberg            Maarten Wolf              Artem Zhmurov       \n",
            "                           and the project leaders:\n",
            "        Mark Abraham, Berk Hess, Erik Lindahl, and David van der Spoel\n",
            "\n",
            "Copyright (c) 1991-2000, University of Groningen, The Netherlands.\n",
            "Copyright (c) 2001-2019, The GROMACS development team at\n",
            "Uppsala University, Stockholm University and\n",
            "the Royal Institute of Technology, Sweden.\n",
            "check out http://www.gromacs.org for more information.\n",
            "\n",
            "GROMACS is free software; you can redistribute it and/or modify it\n",
            "under the terms of the GNU Lesser General Public License\n",
            "as published by the Free Software Foundation; either version 2.1\n",
            "of the License, or (at your option) any later version.\n",
            "\n",
            "GROMACS:      gmx genion, version 2021.5\n",
            "Executable:   /content/drive/MyDrive/IBM3202/gromacs-2021/bin/gmx\n",
            "Data prefix:  /content/drive/MyDrive/IBM3202/gromacs-2021\n",
            "Working dir:  /content/drive/MyDrive\n",
            "Command line:\n",
            "  gmx genion -s ions.tpr -o protein_solv_ions.gro -p protein.top -pname NA -nname CL -neutral\n",
            "\n",
            "Reading file ions.tpr, VERSION 2021.5 (single precision)\n",
            "Reading file ions.tpr, VERSION 2021.5 (single precision)\n",
            "Group     0 (         System) has 35084 elements\n",
            "Group     1 (        Protein) has  1694 elements\n",
            "Group     2 (      Protein-H) has   878 elements\n",
            "Group     3 (        C-alpha) has   104 elements\n",
            "Group     4 (       Backbone) has   312 elements\n",
            "Group     5 (      MainChain) has   417 elements\n",
            "Group     6 (   MainChain+Cb) has   516 elements\n",
            "Group     7 (    MainChain+H) has   520 elements\n",
            "Group     8 (      SideChain) has  1174 elements\n",
            "Group     9 (    SideChain-H) has   461 elements\n",
            "Group    10 (    Prot-Masses) has  1694 elements\n",
            "Group    11 (    non-Protein) has 33390 elements\n",
            "Group    12 (          Water) has 33390 elements\n",
            "Group    13 (            SOL) has 33390 elements\n",
            "Group    14 (      non-Water) has  1694 elements\n",
            "Select a group: \n",
            "-------------------------------------------------------\n",
            "Program:     gmx genion, version 2021.5\n",
            "Source file: src/gromacs/topology/index.cpp (line 902)\n",
            "\n",
            "Fatal error:\n",
            "Cannot read from input\n",
            "\n",
            "For more information and tips for troubleshooting, please check the GROMACS\n",
            "website at http://www.gromacs.org/Documentation/Errors\n",
            "-------------------------------------------------------\n"
          ]
        }
      ]
    },
    {
      "cell_type": "markdown",
      "source": [
        "[Simulating User Interaction In Gromacs in Bash](https://stackoverflow.com/questions/45885541/simulating-user-interaction-in-gromacs-in-bash)\n",
        "\n",
        "Note the `echo 13 | gmx genion ...` should work too."
      ],
      "metadata": {
        "id": "9N__Z10TmeDU"
      }
    },
    {
      "cell_type": "code",
      "source": [
        "# try this\n",
        "%%bash\n",
        "source /content/drive/MyDrive/IBM3202/gromacs-2021/bin/GMXRC\n",
        "gmx genion -s ions.tpr -o protein_solv_ions.gro -p protein.top -pname NA -nname CL -neutral <<EOF\n",
        "13\n",
        "EOF"
      ],
      "metadata": {
        "colab": {
          "base_uri": "https://localhost:8080/"
        },
        "id": "y-bTw7R5mC9m",
        "outputId": "548f4ee7-cc89-438f-d5ac-baef60a517fc"
      },
      "execution_count": null,
      "outputs": [
        {
          "output_type": "stream",
          "name": "stdout",
          "text": [
            "Will try to add 3 NA ions and 0 CL ions.\n",
            "Select a continuous group of solvent molecules\n",
            "Selected 13: 'SOL'\n",
            "\n",
            "Processing topology\n",
            "Replacing 3 solute molecules in topology file (protein.top)  by 3 NA and 0 CL ions.\n"
          ]
        },
        {
          "output_type": "stream",
          "name": "stderr",
          "text": [
            "                      :-) GROMACS - gmx genion, 2021.5 (-:\n",
            "\n",
            "                            GROMACS is written by:\n",
            "     Andrey Alekseenko              Emile Apol              Rossen Apostolov     \n",
            "         Paul Bauer           Herman J.C. Berendsen           Par Bjelkmar       \n",
            "       Christian Blau           Viacheslav Bolnykh             Kevin Boyd        \n",
            "     Aldert van Buuren           Rudi van Drunen             Anton Feenstra      \n",
            "    Gilles Gouaillardet             Alan Gray               Gerrit Groenhof      \n",
            "       Anca Hamuraru            Vincent Hindriksen          M. Eric Irrgang      \n",
            "      Aleksei Iupinov           Christoph Junghans             Joe Jordan        \n",
            "    Dimitrios Karkoulis            Peter Kasson                Jiri Kraus        \n",
            "      Carsten Kutzner              Per Larsson              Justin A. Lemkul     \n",
            "       Viveca Lindahl            Magnus Lundborg             Erik Marklund       \n",
            "        Pascal Merz             Pieter Meulenhoff            Teemu Murtola       \n",
            "        Szilard Pall               Sander Pronk              Roland Schulz       \n",
            "       Michael Shirts            Alexey Shvetsov             Alfons Sijbers      \n",
            "       Peter Tieleman              Jon Vincent              Teemu Virolainen     \n",
            "     Christian Wennberg            Maarten Wolf              Artem Zhmurov       \n",
            "                           and the project leaders:\n",
            "        Mark Abraham, Berk Hess, Erik Lindahl, and David van der Spoel\n",
            "\n",
            "Copyright (c) 1991-2000, University of Groningen, The Netherlands.\n",
            "Copyright (c) 2001-2019, The GROMACS development team at\n",
            "Uppsala University, Stockholm University and\n",
            "the Royal Institute of Technology, Sweden.\n",
            "check out http://www.gromacs.org for more information.\n",
            "\n",
            "GROMACS is free software; you can redistribute it and/or modify it\n",
            "under the terms of the GNU Lesser General Public License\n",
            "as published by the Free Software Foundation; either version 2.1\n",
            "of the License, or (at your option) any later version.\n",
            "\n",
            "GROMACS:      gmx genion, version 2021.5\n",
            "Executable:   /content/drive/MyDrive/IBM3202/gromacs-2021/bin/gmx\n",
            "Data prefix:  /content/drive/MyDrive/IBM3202/gromacs-2021\n",
            "Working dir:  /content/drive/MyDrive\n",
            "Command line:\n",
            "  gmx genion -s ions.tpr -o protein_solv_ions.gro -p protein.top -pname NA -nname CL -neutral\n",
            "\n",
            "Reading file ions.tpr, VERSION 2021.5 (single precision)\n",
            "Reading file ions.tpr, VERSION 2021.5 (single precision)\n",
            "Group     0 (         System) has 35084 elements\n",
            "Group     1 (        Protein) has  1694 elements\n",
            "Group     2 (      Protein-H) has   878 elements\n",
            "Group     3 (        C-alpha) has   104 elements\n",
            "Group     4 (       Backbone) has   312 elements\n",
            "Group     5 (      MainChain) has   417 elements\n",
            "Group     6 (   MainChain+Cb) has   516 elements\n",
            "Group     7 (    MainChain+H) has   520 elements\n",
            "Group     8 (      SideChain) has  1174 elements\n",
            "Group     9 (    SideChain-H) has   461 elements\n",
            "Group    10 (    Prot-Masses) has  1694 elements\n",
            "Group    11 (    non-Protein) has 33390 elements\n",
            "Group    12 (          Water) has 33390 elements\n",
            "Group    13 (            SOL) has 33390 elements\n",
            "Group    14 (      non-Water) has  1694 elements\n",
            "Select a group: Number of (3-atomic) solvent molecules: 11130\n",
            "\n",
            "Back Off! I just backed up protein.top to ./#protein.top.2#\n",
            "Using random seed -67389445.\n",
            "Replacing solvent molecule 2356 (atom 8762) with NA\n",
            "Replacing solvent molecule 908 (atom 4418) with NA\n",
            "Replacing solvent molecule 458 (atom 3068) with NA\n",
            "\n",
            "\n",
            "GROMACS reminds you: \"Bum Stikkie Di Bum Stikkie Di Bum Stikkie Di Bum\" (R. Slijngaard)\n",
            "\n"
          ]
        }
      ]
    },
    {
      "cell_type": "markdown",
      "source": [
        "### Energy Minimization"
      ],
      "metadata": {
        "id": "6TCF1kfqnHSF"
      }
    },
    {
      "cell_type": "markdown",
      "source": [
        ""
      ],
      "metadata": {
        "id": "SuaUGqT2nK3m"
      }
    },
    {
      "cell_type": "code",
      "source": [
        "%%bash\n",
        "source /content/drive/MyDrive/IBM3202/gromacs-2021/bin/GMXRC\n",
        "gmx grompp -f minim.mdp -c protein_solv_ions.gro -p protein.top -o em.tpr"
      ],
      "metadata": {
        "colab": {
          "base_uri": "https://localhost:8080/"
        },
        "id": "T1xLBKf0nrWb",
        "outputId": "92ae1d7b-8ade-4131-c8da-88a4f2b37cbd"
      },
      "execution_count": null,
      "outputs": [
        {
          "output_type": "stream",
          "name": "stdout",
          "text": [
            "Setting the LD random seed to -537658913\n",
            "\n",
            "Generated 330891 of the 330891 non-bonded parameter combinations\n",
            "\n",
            "Generated 330891 of the 330891 1-4 parameter combinations\n",
            "\n",
            "Excluding 3 bonded neighbours molecule type 'Protein_chain_A'\n",
            "\n",
            "Excluding 2 bonded neighbours molecule type 'SOL'\n",
            "\n",
            "Excluding 1 bonded neighbours molecule type 'NA'\n",
            "Analysing residue names:\n",
            "There are:   104    Protein residues\n",
            "There are: 11127      Water residues\n",
            "There are:     3        Ion residues\n",
            "Analysing Protein...\n",
            "Analysing residues not classified as Protein/DNA/RNA/Water and splitting into groups...\n",
            "Calculating fourier grid dimensions for X Y Z\n",
            "Using a fourier grid of 60x60x60, spacing 0.118 0.118 0.118\n",
            "\n",
            "Estimate for the relative computational load of the PME mesh part: 0.26\n",
            "\n",
            "This run will generate roughly 3 Mb of data\n"
          ]
        },
        {
          "output_type": "stream",
          "name": "stderr",
          "text": [
            "                      :-) GROMACS - gmx grompp, 2021.5 (-:\n",
            "\n",
            "                            GROMACS is written by:\n",
            "     Andrey Alekseenko              Emile Apol              Rossen Apostolov     \n",
            "         Paul Bauer           Herman J.C. Berendsen           Par Bjelkmar       \n",
            "       Christian Blau           Viacheslav Bolnykh             Kevin Boyd        \n",
            "     Aldert van Buuren           Rudi van Drunen             Anton Feenstra      \n",
            "    Gilles Gouaillardet             Alan Gray               Gerrit Groenhof      \n",
            "       Anca Hamuraru            Vincent Hindriksen          M. Eric Irrgang      \n",
            "      Aleksei Iupinov           Christoph Junghans             Joe Jordan        \n",
            "    Dimitrios Karkoulis            Peter Kasson                Jiri Kraus        \n",
            "      Carsten Kutzner              Per Larsson              Justin A. Lemkul     \n",
            "       Viveca Lindahl            Magnus Lundborg             Erik Marklund       \n",
            "        Pascal Merz             Pieter Meulenhoff            Teemu Murtola       \n",
            "        Szilard Pall               Sander Pronk              Roland Schulz       \n",
            "       Michael Shirts            Alexey Shvetsov             Alfons Sijbers      \n",
            "       Peter Tieleman              Jon Vincent              Teemu Virolainen     \n",
            "     Christian Wennberg            Maarten Wolf              Artem Zhmurov       \n",
            "                           and the project leaders:\n",
            "        Mark Abraham, Berk Hess, Erik Lindahl, and David van der Spoel\n",
            "\n",
            "Copyright (c) 1991-2000, University of Groningen, The Netherlands.\n",
            "Copyright (c) 2001-2019, The GROMACS development team at\n",
            "Uppsala University, Stockholm University and\n",
            "the Royal Institute of Technology, Sweden.\n",
            "check out http://www.gromacs.org for more information.\n",
            "\n",
            "GROMACS is free software; you can redistribute it and/or modify it\n",
            "under the terms of the GNU Lesser General Public License\n",
            "as published by the Free Software Foundation; either version 2.1\n",
            "of the License, or (at your option) any later version.\n",
            "\n",
            "GROMACS:      gmx grompp, version 2021.5\n",
            "Executable:   /content/drive/MyDrive/IBM3202/gromacs-2021/bin/gmx\n",
            "Data prefix:  /content/drive/MyDrive/IBM3202/gromacs-2021\n",
            "Working dir:  /content/drive/MyDrive\n",
            "Command line:\n",
            "  gmx grompp -f minim.mdp -c protein_solv_ions.gro -p protein.top -o em.tpr\n",
            "\n",
            "Ignoring obsolete mdp entry 'ns_type'\n",
            "\n",
            "NOTE 1 [file minim.mdp]:\n",
            "  With Verlet lists the optimal nstlist is >= 10, with GPUs >= 20. Note\n",
            "  that with the Verlet scheme, nstlist has no effect on the accuracy of\n",
            "  your simulation.\n",
            "\n",
            "Generating 1-4 interactions: fudge = 0.5\n",
            "Number of degrees of freedom in T-Coupling group rest is 71850.00\n",
            "\n",
            "There was 1 note\n",
            "\n",
            "GROMACS reminds you: \"A computer without COBOL and FORTRAN is like a piece of chocolate cake without ketchup or mustard.\" (Unix fortune program)\n",
            "\n"
          ]
        }
      ]
    },
    {
      "cell_type": "code",
      "source": [
        "%%bash\n",
        "source /content/drive/MyDrive/IBM3202/gromacs-2021/bin/GMXRC\n",
        "gmx mdrun -v -deffnm em"
      ],
      "metadata": {
        "colab": {
          "base_uri": "https://localhost:8080/"
        },
        "id": "nux-DugyoISL",
        "outputId": "65e144ba-70dd-47f0-be22-82a069496e10"
      },
      "execution_count": null,
      "outputs": [
        {
          "output_type": "stream",
          "name": "stderr",
          "text": [
            "                      :-) GROMACS - gmx mdrun, 2021.5 (-:\n",
            "\n",
            "                            GROMACS is written by:\n",
            "     Andrey Alekseenko              Emile Apol              Rossen Apostolov     \n",
            "         Paul Bauer           Herman J.C. Berendsen           Par Bjelkmar       \n",
            "       Christian Blau           Viacheslav Bolnykh             Kevin Boyd        \n",
            "     Aldert van Buuren           Rudi van Drunen             Anton Feenstra      \n",
            "    Gilles Gouaillardet             Alan Gray               Gerrit Groenhof      \n",
            "       Anca Hamuraru            Vincent Hindriksen          M. Eric Irrgang      \n",
            "      Aleksei Iupinov           Christoph Junghans             Joe Jordan        \n",
            "    Dimitrios Karkoulis            Peter Kasson                Jiri Kraus        \n",
            "      Carsten Kutzner              Per Larsson              Justin A. Lemkul     \n",
            "       Viveca Lindahl            Magnus Lundborg             Erik Marklund       \n",
            "        Pascal Merz             Pieter Meulenhoff            Teemu Murtola       \n",
            "        Szilard Pall               Sander Pronk              Roland Schulz       \n",
            "       Michael Shirts            Alexey Shvetsov             Alfons Sijbers      \n",
            "       Peter Tieleman              Jon Vincent              Teemu Virolainen     \n",
            "     Christian Wennberg            Maarten Wolf              Artem Zhmurov       \n",
            "                           and the project leaders:\n",
            "        Mark Abraham, Berk Hess, Erik Lindahl, and David van der Spoel\n",
            "\n",
            "Copyright (c) 1991-2000, University of Groningen, The Netherlands.\n",
            "Copyright (c) 2001-2019, The GROMACS development team at\n",
            "Uppsala University, Stockholm University and\n",
            "the Royal Institute of Technology, Sweden.\n",
            "check out http://www.gromacs.org for more information.\n",
            "\n",
            "GROMACS is free software; you can redistribute it and/or modify it\n",
            "under the terms of the GNU Lesser General Public License\n",
            "as published by the Free Software Foundation; either version 2.1\n",
            "of the License, or (at your option) any later version.\n",
            "\n",
            "GROMACS:      gmx mdrun, version 2021.5\n",
            "Executable:   /content/drive/MyDrive/IBM3202/gromacs-2021/bin/gmx\n",
            "Data prefix:  /content/drive/MyDrive/IBM3202/gromacs-2021\n",
            "Working dir:  /content/drive/MyDrive\n",
            "Command line:\n",
            "  gmx mdrun -v -deffnm em\n",
            "\n",
            "Reading file em.tpr, VERSION 2021.5 (single precision)\n",
            "1 GPU selected for this run.\n",
            "Mapping of GPU IDs to the 1 GPU task in the 1 rank on this node:\n",
            "  PP:0\n",
            "PP tasks will do (non-perturbed) short-ranged interactions on the GPU\n",
            "PP task will update and constrain coordinates on the CPU\n",
            "Using 1 MPI thread\n",
            "Using 2 OpenMP threads \n",
            "\n",
            "\n",
            "Steepest Descents:\n",
            "   Tolerance (Fmax)   =  1.00000e+03\n",
            "   Number of steps    =        50000\n",
            "Step=    0, Dmax= 1.0e-02 nm, Epot= -3.36066e+05 Fmax= 2.37441e+05, atom= 751\n",
            "Step=    1, Dmax= 1.0e-02 nm, Epot= -3.58276e+05 Fmax= 8.16092e+04, atom= 754\n",
            "Step=    2, Dmax= 1.2e-02 nm, Epot= -3.89944e+05 Fmax= 3.15941e+04, atom= 7263\n",
            "Step=    3, Dmax= 1.4e-02 nm, Epot= -4.23501e+05 Fmax= 1.22118e+04, atom= 24993\n",
            "Step=    4, Dmax= 1.7e-02 nm, Epot= -4.54633e+05 Fmax= 8.79968e+03, atom= 1694\n",
            "Step=    5, Dmax= 2.1e-02 nm, Epot= -4.71419e+05 Fmax= 5.59178e+03, atom= 1693\n",
            "Step=    6, Dmax= 2.5e-02 nm, Epot= -4.83757e+05 Fmax= 2.82811e+04, atom= 1568\n",
            "Step=    7, Dmax= 3.0e-02 nm, Epot= -4.89574e+05 Fmax= 1.65709e+04, atom= 287\n",
            "Step=    8, Dmax= 3.6e-02 nm, Epot= -4.91625e+05 Fmax= 3.88773e+04, atom= 1568\n",
            "Step=    9, Dmax= 4.3e-02 nm, Epot= -4.95685e+05 Fmax= 2.54570e+04, atom= 1568\n",
            "Step=   10, Dmax= 5.2e-02 nm, Epot= -4.95764e+05 Fmax= 5.28881e+04, atom= 1568\n",
            "Step=   11, Dmax= 6.2e-02 nm, Epot= -4.99721e+05 Fmax= 3.84564e+04, atom= 1568\n",
            "Step=   12, Dmax= 7.4e-02 nm, Epot= -4.96847e+05 Fmax= 7.09159e+04, atom= 1568\rStep=   13, Dmax= 3.7e-02 nm, Epot= -5.03125e+05 Fmax= 1.68856e+04, atom= 1568\n",
            "Step=   14, Dmax= 4.5e-02 nm, Epot= -5.03507e+05 Fmax= 4.88156e+04, atom= 1568\n",
            "Step=   15, Dmax= 5.3e-02 nm, Epot= -5.07056e+05 Fmax= 3.12509e+04, atom= 1568\n",
            "Step=   16, Dmax= 6.4e-02 nm, Epot= -5.04502e+05 Fmax= 6.31014e+04, atom= 1568\rStep=   17, Dmax= 3.2e-02 nm, Epot= -5.09394e+05 Fmax= 1.61467e+04, atom= 287\n",
            "Step=   18, Dmax= 3.9e-02 nm, Epot= -5.09620e+05 Fmax= 4.23410e+04, atom= 1568\n",
            "Step=   19, Dmax= 4.6e-02 nm, Epot= -5.12496e+05 Fmax= 2.64971e+04, atom= 287\n",
            "Step=   20, Dmax= 5.5e-02 nm, Epot= -5.10166e+05 Fmax= 5.65421e+04, atom= 1568\rStep=   21, Dmax= 2.8e-02 nm, Epot= -5.14407e+05 Fmax= 1.52445e+04, atom= 1568\n",
            "Step=   22, Dmax= 3.3e-02 nm, Epot= -5.14807e+05 Fmax= 3.41370e+04, atom= 1568\n",
            "Step=   23, Dmax= 4.0e-02 nm, Epot= -5.16773e+05 Fmax= 2.61434e+04, atom= 1568\n",
            "Step=   24, Dmax= 4.8e-02 nm, Epot= -5.15693e+05 Fmax= 4.50358e+04, atom= 1568\rStep=   25, Dmax= 2.4e-02 nm, Epot= -5.18690e+05 Fmax= 9.82583e+03, atom= 287\n",
            "Step=   26, Dmax= 2.9e-02 nm, Epot= -5.19156e+05 Fmax= 3.37498e+04, atom= 1568\n",
            "Step=   27, Dmax= 3.5e-02 nm, Epot= -5.21540e+05 Fmax= 1.84135e+04, atom= 287\n",
            "Step=   28, Dmax= 4.1e-02 nm, Epot= -5.19949e+05 Fmax= 4.39765e+04, atom= 1568\rStep=   29, Dmax= 2.1e-02 nm, Epot= -5.22777e+05 Fmax= 1.29568e+04, atom= 1568\n",
            "Step=   30, Dmax= 2.5e-02 nm, Epot= -5.23310e+05 Fmax= 2.43504e+04, atom= 287\n",
            "Step=   31, Dmax= 3.0e-02 nm, Epot= -5.24532e+05 Fmax= 2.08926e+04, atom= 1568\n",
            "Step=   32, Dmax= 3.6e-02 nm, Epot= -5.24271e+05 Fmax= 3.30326e+04, atom= 440\rStep=   33, Dmax= 1.8e-02 nm, Epot= -5.25994e+05 Fmax= 6.21034e+03, atom= 440\n",
            "Step=   34, Dmax= 2.1e-02 nm, Epot= -5.26891e+05 Fmax= 2.78288e+04, atom= 440\n",
            "Step=   35, Dmax= 2.6e-02 nm, Epot= -5.28772e+05 Fmax= 1.14018e+04, atom= 440\n",
            "Step=   36, Dmax= 3.1e-02 nm, Epot= -5.28119e+05 Fmax= 3.67673e+04, atom= 440\rStep=   37, Dmax= 1.5e-02 nm, Epot= -5.29590e+05 Fmax= 1.26683e+04, atom= 440\n",
            "Step=   38, Dmax= 1.9e-02 nm, Epot= -5.30323e+05 Fmax= 1.53150e+04, atom= 440\n",
            "Step=   39, Dmax= 2.2e-02 nm, Epot= -5.30962e+05 Fmax= 1.91821e+04, atom= 440\n",
            "Step=   40, Dmax= 2.7e-02 nm, Epot= -5.31586e+05 Fmax= 2.12328e+04, atom= 440\n",
            "Step=   41, Dmax= 3.2e-02 nm, Epot= -5.31843e+05 Fmax= 2.80870e+04, atom= 440\n",
            "Step=   42, Dmax= 3.8e-02 nm, Epot= -5.32340e+05 Fmax= 2.99447e+04, atom= 440\n",
            "Step=   43, Dmax= 4.6e-02 nm, Epot= -5.31835e+05 Fmax= 4.02903e+04, atom= 440\rStep=   44, Dmax= 2.3e-02 nm, Epot= -5.34385e+05 Fmax= 5.32911e+03, atom= 440\n",
            "Step=   45, Dmax= 2.8e-02 nm, Epot= -5.34782e+05 Fmax= 3.57762e+04, atom= 440\n",
            "Step=   46, Dmax= 3.3e-02 nm, Epot= -5.37122e+05 Fmax= 1.54250e+04, atom= 440\n",
            "Step=   47, Dmax= 4.0e-02 nm, Epot= -5.35167e+05 Fmax= 4.45326e+04, atom= 440\rStep=   48, Dmax= 2.0e-02 nm, Epot= -5.37751e+05 Fmax= 1.46819e+04, atom= 440\n",
            "Step=   49, Dmax= 2.4e-02 nm, Epot= -5.38022e+05 Fmax= 2.23343e+04, atom= 440\n",
            "Step=   50, Dmax= 2.9e-02 nm, Epot= -5.38661e+05 Fmax= 2.10948e+04, atom= 440\n",
            "Step=   51, Dmax= 3.4e-02 nm, Epot= -5.38411e+05 Fmax= 3.17930e+04, atom= 440\rStep=   52, Dmax= 1.7e-02 nm, Epot= -5.39761e+05 Fmax= 5.39219e+03, atom= 440\n",
            "Step=   53, Dmax= 2.1e-02 nm, Epot= -5.40327e+05 Fmax= 2.52566e+04, atom= 440\n",
            "Step=   54, Dmax= 2.5e-02 nm, Epot= -5.41556e+05 Fmax= 1.29477e+04, atom= 440\n",
            "Step=   55, Dmax= 3.0e-02 nm, Epot= -5.40988e+05 Fmax= 3.18644e+04, atom= 440\rStep=   56, Dmax= 1.5e-02 nm, Epot= -5.42133e+05 Fmax= 9.50930e+03, atom= 440\n",
            "Step=   57, Dmax= 1.8e-02 nm, Epot= -5.42469e+05 Fmax= 1.83043e+04, atom= 440\n",
            "Step=   58, Dmax= 2.1e-02 nm, Epot= -5.43124e+05 Fmax= 1.41573e+04, atom= 440\n",
            "Step=   59, Dmax= 2.6e-02 nm, Epot= -5.43063e+05 Fmax= 2.55939e+04, atom= 440\rStep=   60, Dmax= 1.3e-02 nm, Epot= -5.43758e+05 Fmax= 5.72075e+03, atom= 440\n",
            "Step=   61, Dmax= 1.5e-02 nm, Epot= -5.44295e+05 Fmax= 1.72300e+04, atom= 440\n",
            "Step=   62, Dmax= 1.9e-02 nm, Epot= -5.44972e+05 Fmax= 1.13675e+04, atom= 440\n",
            "Step=   63, Dmax= 2.2e-02 nm, Epot= -5.45042e+05 Fmax= 2.21076e+04, atom= 440\n",
            "Step=   64, Dmax= 2.7e-02 nm, Epot= -5.45692e+05 Fmax= 1.88789e+04, atom= 440\n",
            "Step=   65, Dmax= 3.2e-02 nm, Epot= -5.45382e+05 Fmax= 2.94011e+04, atom= 440\rStep=   66, Dmax= 1.6e-02 nm, Epot= -5.46507e+05 Fmax= 5.35206e+03, atom= 440\n",
            "Step=   67, Dmax= 1.9e-02 nm, Epot= -5.46734e+05 Fmax= 2.49262e+04, atom= 440\n",
            "Step=   68, Dmax= 2.3e-02 nm, Epot= -5.47857e+05 Fmax= 1.01210e+04, atom= 440\n",
            "Step=   69, Dmax= 2.8e-02 nm, Epot= -5.47146e+05 Fmax= 3.28083e+04, atom= 440\rStep=   70, Dmax= 1.4e-02 nm, Epot= -5.48252e+05 Fmax= 1.13271e+04, atom= 440\n",
            "Step=   71, Dmax= 1.7e-02 nm, Epot= -5.48592e+05 Fmax= 1.36959e+04, atom= 440\n",
            "Step=   72, Dmax= 2.0e-02 nm, Epot= -5.48877e+05 Fmax= 1.70659e+04, atom= 440\n",
            "Step=   73, Dmax= 2.4e-02 nm, Epot= -5.49154e+05 Fmax= 1.90685e+04, atom= 440\n",
            "Step=   74, Dmax= 2.9e-02 nm, Epot= -5.49185e+05 Fmax= 2.49671e+04, atom= 440\n",
            "Step=   75, Dmax= 3.4e-02 nm, Epot= -5.49366e+05 Fmax= 2.69668e+04, atom= 440\n",
            "Step=   76, Dmax= 4.1e-02 nm, Epot= -5.48867e+05 Fmax= 3.58771e+04, atom= 440\rStep=   77, Dmax= 2.1e-02 nm, Epot= -5.50767e+05 Fmax= 4.55995e+03, atom= 440\n",
            "Step=   78, Dmax= 2.5e-02 nm, Epot= -5.50524e+05 Fmax= 3.22052e+04, atom= 440\rStep=   79, Dmax= 1.2e-02 nm, Epot= -5.51227e+05 Fmax= 1.36944e+04, atom= 440\n",
            "Step=   80, Dmax= 1.5e-02 nm, Epot= -5.51704e+05 Fmax= 9.24955e+03, atom= 440\n",
            "Step=   81, Dmax= 1.8e-02 nm, Epot= -5.51820e+05 Fmax= 1.75776e+04, atom= 440\n",
            "Step=   82, Dmax= 2.1e-02 nm, Epot= -5.52276e+05 Fmax= 1.53704e+04, atom= 440\n",
            "Step=   83, Dmax= 2.6e-02 nm, Epot= -5.52144e+05 Fmax= 2.34116e+04, atom= 440\rStep=   84, Dmax= 1.3e-02 nm, Epot= -5.52863e+05 Fmax= 4.06756e+03, atom= 440\n",
            "Step=   85, Dmax= 1.5e-02 nm, Epot= -5.53151e+05 Fmax= 2.03711e+04, atom= 440\n",
            "Step=   86, Dmax= 1.8e-02 nm, Epot= -5.53968e+05 Fmax= 7.74795e+03, atom= 440\n",
            "Step=   87, Dmax= 2.2e-02 nm, Epot= -5.53546e+05 Fmax= 2.68326e+04, atom= 440\rStep=   88, Dmax= 1.1e-02 nm, Epot= -5.54270e+05 Fmax= 9.52888e+03, atom= 440\n",
            "Step=   89, Dmax= 1.3e-02 nm, Epot= -5.54559e+05 Fmax= 1.05433e+04, atom= 440\n",
            "Step=   90, Dmax= 1.6e-02 nm, Epot= -5.54771e+05 Fmax= 1.42157e+04, atom= 440\n",
            "Step=   91, Dmax= 1.9e-02 nm, Epot= -5.55039e+05 Fmax= 1.47983e+04, atom= 440\n",
            "Step=   92, Dmax= 2.3e-02 nm, Epot= -5.55050e+05 Fmax= 2.06596e+04, atom= 440\n",
            "Step=   93, Dmax= 2.8e-02 nm, Epot= -5.55291e+05 Fmax= 2.11244e+04, atom= 440\n",
            "Step=   94, Dmax= 3.3e-02 nm, Epot= -5.54899e+05 Fmax= 2.95843e+04, atom= 440\rStep=   95, Dmax= 1.7e-02 nm, Epot= -5.56222e+05 Fmax= 4.26521e+03, atom= 440\n",
            "Step=   96, Dmax= 2.0e-02 nm, Epot= -5.56128e+05 Fmax= 2.52420e+04, atom= 440\rStep=   97, Dmax= 9.9e-03 nm, Epot= -5.56565e+05 Fmax= 1.04424e+04, atom= 440\n",
            "Step=   98, Dmax= 1.2e-02 nm, Epot= -5.56898e+05 Fmax= 8.02205e+03, atom= 440\n",
            "Step=   99, Dmax= 1.4e-02 nm, Epot= -5.57055e+05 Fmax= 1.35053e+04, atom= 1328\n",
            "Step=  100, Dmax= 1.7e-02 nm, Epot= -5.57356e+05 Fmax= 1.30047e+04, atom= 440\n",
            "Step=  101, Dmax= 2.1e-02 nm, Epot= -5.57378e+05 Fmax= 1.83458e+04, atom= 1328\n",
            "Step=  102, Dmax= 2.5e-02 nm, Epot= -5.57578e+05 Fmax= 1.94479e+04, atom= 440\n",
            "Step=  103, Dmax= 3.0e-02 nm, Epot= -5.57365e+05 Fmax= 2.59733e+04, atom= 1328\rStep=  104, Dmax= 1.5e-02 nm, Epot= -5.58390e+05 Fmax= 3.36581e+03, atom= 1328\n",
            "Step=  105, Dmax= 1.8e-02 nm, Epot= -5.58521e+05 Fmax= 2.32805e+04, atom= 1328\n",
            "Step=  106, Dmax= 2.1e-02 nm, Epot= -5.59473e+05 Fmax= 9.69786e+03, atom= 1328\n",
            "Step=  107, Dmax= 2.6e-02 nm, Epot= -5.58685e+05 Fmax= 2.92327e+04, atom= 1328\rStep=  108, Dmax= 1.3e-02 nm, Epot= -5.59716e+05 Fmax= 9.79526e+03, atom= 1328\n",
            "Step=  109, Dmax= 1.5e-02 nm, Epot= -5.59851e+05 Fmax= 1.40460e+04, atom= 1328\n",
            "Step=  110, Dmax= 1.8e-02 nm, Epot= -5.60085e+05 Fmax= 1.40854e+04, atom= 1328\n",
            "Step=  111, Dmax= 2.2e-02 nm, Epot= -5.60051e+05 Fmax= 2.00976e+04, atom= 1328\rStep=  112, Dmax= 1.1e-02 nm, Epot= -5.60542e+05 Fmax= 3.02453e+03, atom= 1328\n",
            "Step=  113, Dmax= 1.3e-02 nm, Epot= -5.60898e+05 Fmax= 1.67740e+04, atom= 1328\n",
            "Step=  114, Dmax= 1.6e-02 nm, Epot= -5.61418e+05 Fmax= 7.87833e+03, atom= 1328\n",
            "Step=  115, Dmax= 1.9e-02 nm, Epot= -5.61235e+05 Fmax= 2.11493e+04, atom= 1328\rStep=  116, Dmax= 9.6e-03 nm, Epot= -5.61649e+05 Fmax= 6.64606e+03, atom= 1328\n",
            "Step=  117, Dmax= 1.1e-02 nm, Epot= -5.61826e+05 Fmax= 1.12505e+04, atom= 1328\n",
            "Step=  118, Dmax= 1.4e-02 nm, Epot= -5.62076e+05 Fmax= 9.73626e+03, atom= 1328\n",
            "Step=  119, Dmax= 1.7e-02 nm, Epot= -5.62134e+05 Fmax= 1.59037e+04, atom= 1328\n",
            "Step=  120, Dmax= 2.0e-02 nm, Epot= -5.62403e+05 Fmax= 1.43496e+04, atom= 1328\n",
            "Step=  121, Dmax= 2.4e-02 nm, Epot= -5.62253e+05 Fmax= 2.23857e+04, atom= 1328\rStep=  122, Dmax= 1.2e-02 nm, Epot= -5.62822e+05 Fmax= 4.03657e+03, atom= 1328\n",
            "Step=  123, Dmax= 1.4e-02 nm, Epot= -5.62979e+05 Fmax= 1.73926e+04, atom= 1328\n",
            "Step=  124, Dmax= 1.7e-02 nm, Epot= -5.63458e+05 Fmax= 9.08823e+03, atom= 1328\n",
            "Step=  125, Dmax= 2.1e-02 nm, Epot= -5.63230e+05 Fmax= 2.21373e+04, atom= 1328\rStep=  126, Dmax= 1.0e-02 nm, Epot= -5.63686e+05 Fmax= 6.53689e+03, atom= 1328\n",
            "Step=  127, Dmax= 1.2e-02 nm, Epot= -5.63821e+05 Fmax= 1.27074e+04, atom= 1328\n",
            "Step=  128, Dmax= 1.5e-02 nm, Epot= -5.64082e+05 Fmax= 9.86155e+03, atom= 1328\n",
            "Step=  129, Dmax= 1.8e-02 nm, Epot= -5.64071e+05 Fmax= 1.76950e+04, atom= 1328\rStep=  130, Dmax= 8.9e-03 nm, Epot= -5.64337e+05 Fmax= 3.92245e+03, atom= 1328\n",
            "Step=  131, Dmax= 1.1e-02 nm, Epot= -5.64569e+05 Fmax= 1.20546e+04, atom= 1328\n",
            "Step=  132, Dmax= 1.3e-02 nm, Epot= -5.64845e+05 Fmax= 7.77117e+03, atom= 1328\n",
            "Step=  133, Dmax= 1.5e-02 nm, Epot= -5.64891e+05 Fmax= 1.55119e+04, atom= 1328\n",
            "Step=  134, Dmax= 1.8e-02 nm, Epot= -5.65169e+05 Fmax= 1.29530e+04, atom= 1328\n",
            "Step=  135, Dmax= 2.2e-02 nm, Epot= -5.65066e+05 Fmax= 2.06834e+04, atom= 1328\rStep=  136, Dmax= 1.1e-02 nm, Epot= -5.65487e+05 Fmax= 3.88888e+03, atom= 1328\n",
            "Step=  137, Dmax= 1.3e-02 nm, Epot= -5.65627e+05 Fmax= 1.70260e+04, atom= 1328\n",
            "Step=  138, Dmax= 1.6e-02 nm, Epot= -5.66055e+05 Fmax= 7.29344e+03, atom= 1328\n",
            "Step=  139, Dmax= 1.9e-02 nm, Epot= -5.65860e+05 Fmax= 2.24524e+04, atom= 1328\rStep=  140, Dmax= 9.6e-03 nm, Epot= -5.66235e+05 Fmax= 7.58062e+03, atom= 1328\n",
            "Step=  141, Dmax= 1.1e-02 nm, Epot= -5.66392e+05 Fmax= 9.79503e+03, atom= 1328\n",
            "Step=  142, Dmax= 1.4e-02 nm, Epot= -5.66542e+05 Fmax= 1.15507e+04, atom= 1328\n",
            "Step=  143, Dmax= 1.7e-02 nm, Epot= -5.66666e+05 Fmax= 1.35650e+04, atom= 1328\n",
            "Step=  144, Dmax= 2.0e-02 nm, Epot= -5.66740e+05 Fmax= 1.70475e+04, atom= 1328\n",
            "Step=  145, Dmax= 2.4e-02 nm, Epot= -5.66823e+05 Fmax= 1.91430e+04, atom= 1328\n",
            "Step=  146, Dmax= 2.9e-02 nm, Epot= -5.66733e+05 Fmax= 2.47116e+04, atom= 1328\rStep=  147, Dmax= 1.4e-02 nm, Epot= -5.67364e+05 Fmax= 2.83493e+03, atom= 1328\n",
            "Step=  148, Dmax= 1.7e-02 nm, Epot= -5.67548e+05 Fmax= 2.25173e+04, atom= 1328\n",
            "Step=  149, Dmax= 2.1e-02 nm, Epot= -5.68171e+05 Fmax= 9.22583e+03, atom= 1328\n",
            "Step=  150, Dmax= 2.5e-02 nm, Epot= -5.67669e+05 Fmax= 2.81342e+04, atom= 1328\rStep=  151, Dmax= 1.2e-02 nm, Epot= -5.68328e+05 Fmax= 9.48326e+03, atom= 1328\n",
            "Step=  152, Dmax= 1.5e-02 nm, Epot= -5.68423e+05 Fmax= 1.34771e+04, atom= 1328\n",
            "Step=  153, Dmax= 1.8e-02 nm, Epot= -5.68576e+05 Fmax= 1.35358e+04, atom= 1328\n",
            "Step=  154, Dmax= 2.1e-02 nm, Epot= -5.68555e+05 Fmax= 1.93668e+04, atom= 1328\rStep=  155, Dmax= 1.1e-02 nm, Epot= -5.68878e+05 Fmax= 2.93326e+03, atom= 1328\n",
            "Step=  156, Dmax= 1.3e-02 nm, Epot= -5.69121e+05 Fmax= 1.59923e+04, atom= 1328\n",
            "Step=  157, Dmax= 1.5e-02 nm, Epot= -5.69462e+05 Fmax= 7.72420e+03, atom= 1328\n",
            "Step=  158, Dmax= 1.8e-02 nm, Epot= -5.69349e+05 Fmax= 2.01279e+04, atom= 1328\rStep=  159, Dmax= 9.2e-03 nm, Epot= -5.69622e+05 Fmax= 6.21130e+03, atom= 1328\n",
            "Step=  160, Dmax= 1.1e-02 nm, Epot= -5.69740e+05 Fmax= 1.10357e+04, atom= 1328\n",
            "Step=  161, Dmax= 1.3e-02 nm, Epot= -5.69918e+05 Fmax= 9.11166e+03, atom= 1328\n",
            "Step=  162, Dmax= 1.6e-02 nm, Epot= -5.69950e+05 Fmax= 1.55757e+04, atom= 1328\n",
            "Step=  163, Dmax= 1.9e-02 nm, Epot= -5.70149e+05 Fmax= 1.34806e+04, atom= 1328\n",
            "Step=  164, Dmax= 2.3e-02 nm, Epot= -5.70028e+05 Fmax= 2.18715e+04, atom= 1328\rStep=  165, Dmax= 1.1e-02 nm, Epot= -5.70429e+05 Fmax= 4.21212e+03, atom= 1328\n",
            "Step=  166, Dmax= 1.4e-02 nm, Epot= -5.70522e+05 Fmax= 1.63484e+04, atom= 1328\n",
            "Step=  167, Dmax= 1.6e-02 nm, Epot= -5.70837e+05 Fmax= 9.11928e+03, atom= 1328\n",
            "Step=  168, Dmax= 2.0e-02 nm, Epot= -5.70692e+05 Fmax= 2.08593e+04, atom= 1328\rStep=  169, Dmax= 9.9e-03 nm, Epot= -5.71004e+05 Fmax= 5.88120e+03, atom= 1328\n",
            "Step=  170, Dmax= 1.2e-02 nm, Epot= -5.71095e+05 Fmax= 1.26696e+04, atom= 1328\n",
            "Step=  171, Dmax= 1.4e-02 nm, Epot= -5.71298e+05 Fmax= 9.00482e+03, atom= 1328\n",
            "Step=  172, Dmax= 1.7e-02 nm, Epot= -5.71270e+05 Fmax= 1.75273e+04, atom= 1328\rStep=  173, Dmax= 8.5e-03 nm, Epot= -5.71468e+05 Fmax= 4.26624e+03, atom= 1328\n",
            "Step=  174, Dmax= 1.0e-02 nm, Epot= -5.71613e+05 Fmax= 1.10860e+04, atom= 1328\n",
            "Step=  175, Dmax= 1.2e-02 nm, Epot= -5.71796e+05 Fmax= 7.98969e+03, atom= 1328\n",
            "Step=  176, Dmax= 1.5e-02 nm, Epot= -5.71839e+05 Fmax= 1.43695e+04, atom= 1328\n",
            "Step=  177, Dmax= 1.8e-02 nm, Epot= -5.72012e+05 Fmax= 1.30102e+04, atom= 1328\n",
            "Step=  178, Dmax= 2.1e-02 nm, Epot= -5.71965e+05 Fmax= 1.92990e+04, atom= 1328\rStep=  179, Dmax= 1.1e-02 nm, Epot= -5.72256e+05 Fmax= 3.16764e+03, atom= 1328\n",
            "Step=  180, Dmax= 1.3e-02 nm, Epot= -5.72390e+05 Fmax= 1.70864e+04, atom= 1328\n",
            "Step=  181, Dmax= 1.5e-02 nm, Epot= -5.72731e+05 Fmax= 6.28315e+03, atom= 1328\n",
            "Step=  182, Dmax= 1.8e-02 nm, Epot= -5.72568e+05 Fmax= 2.23927e+04, atom= 1328\rStep=  183, Dmax= 9.2e-03 nm, Epot= -5.72855e+05 Fmax= 8.05692e+03, atom= 1328\n",
            "Step=  184, Dmax= 1.1e-02 nm, Epot= -5.72979e+05 Fmax= 8.64255e+03, atom= 1328\n",
            "Step=  185, Dmax= 1.3e-02 nm, Epot= -5.73069e+05 Fmax= 1.19100e+04, atom= 1328\n",
            "Step=  186, Dmax= 1.6e-02 nm, Epot= -5.73188e+05 Fmax= 1.22217e+04, atom= 1328\n",
            "Step=  187, Dmax= 1.9e-02 nm, Epot= -5.73201e+05 Fmax= 1.72322e+04, atom= 1328\n",
            "Step=  188, Dmax= 2.3e-02 nm, Epot= -5.73311e+05 Fmax= 1.75441e+04, atom= 1328\n",
            "Step=  189, Dmax= 2.7e-02 nm, Epot= -5.73174e+05 Fmax= 2.46394e+04, atom= 1328\rStep=  190, Dmax= 1.4e-02 nm, Epot= -5.73683e+05 Fmax= 3.58649e+03, atom= 1328\n",
            "Step=  191, Dmax= 1.6e-02 nm, Epot= -5.73700e+05 Fmax= 2.09276e+04, atom= 1328\n",
            "Step=  192, Dmax= 2.0e-02 nm, Epot= -5.74135e+05 Fmax= 9.54420e+03, atom= 1328\n",
            "Step=  193, Dmax= 2.4e-02 nm, Epot= -5.73772e+05 Fmax= 2.63529e+04, atom= 1328\rStep=  194, Dmax= 1.2e-02 nm, Epot= -5.74268e+05 Fmax= 8.42272e+03, atom= 1328\n",
            "Step=  195, Dmax= 1.4e-02 nm, Epot= -5.74319e+05 Fmax= 1.36652e+04, atom= 1328\n",
            "Step=  196, Dmax= 1.7e-02 nm, Epot= -5.74464e+05 Fmax= 1.22861e+04, atom= 1328\n",
            "Step=  197, Dmax= 2.0e-02 nm, Epot= -5.74407e+05 Fmax= 1.93553e+04, atom= 1328\rStep=  198, Dmax= 1.0e-02 nm, Epot= -5.74678e+05 Fmax= 3.54900e+03, atom= 1328\n",
            "Step=  199, Dmax= 1.2e-02 nm, Epot= -5.74794e+05 Fmax= 1.47373e+04, atom= 1328\n",
            "Step=  200, Dmax= 1.5e-02 nm, Epot= -5.75035e+05 Fmax= 8.05221e+03, atom= 1328\n",
            "Step=  201, Dmax= 1.8e-02 nm, Epot= -5.74956e+05 Fmax= 1.87172e+04, atom= 1328\rStep=  202, Dmax= 8.8e-03 nm, Epot= -5.75166e+05 Fmax= 5.34058e+03, atom= 1328\n",
            "Step=  203, Dmax= 1.1e-02 nm, Epot= -5.75256e+05 Fmax= 1.12746e+04, atom= 1328\n",
            "Step=  204, Dmax= 1.3e-02 nm, Epot= -5.75410e+05 Fmax= 8.08715e+03, atom= 1328\n",
            "Step=  205, Dmax= 1.5e-02 nm, Epot= -5.75411e+05 Fmax= 1.56672e+04, atom= 1328\n",
            "Step=  206, Dmax= 1.8e-02 nm, Epot= -5.75598e+05 Fmax= 1.22567e+04, atom= 1328\n",
            "Step=  207, Dmax= 2.2e-02 nm, Epot= -5.75459e+05 Fmax= 2.17411e+04, atom= 1328\rStep=  208, Dmax= 1.1e-02 nm, Epot= -5.75800e+05 Fmax= 4.75574e+03, atom= 1328\n",
            "Step=  209, Dmax= 1.3e-02 nm, Epot= -5.75846e+05 Fmax= 1.50549e+04, atom= 1328\n",
            "Step=  210, Dmax= 1.6e-02 nm, Epot= -5.76070e+05 Fmax= 9.41972e+03, atom= 1328\n",
            "Step=  211, Dmax= 1.9e-02 nm, Epot= -5.75969e+05 Fmax= 1.93982e+04, atom= 1328\rStep=  212, Dmax= 9.5e-03 nm, Epot= -5.76214e+05 Fmax= 5.00017e+03, atom= 1328\n",
            "Step=  213, Dmax= 1.1e-02 nm, Epot= -5.76281e+05 Fmax= 1.28728e+04, atom= 1328\n",
            "Step=  214, Dmax= 1.4e-02 nm, Epot= -5.76461e+05 Fmax= 7.96134e+03, atom= 1328\n",
            "Step=  215, Dmax= 1.6e-02 nm, Epot= -5.76414e+05 Fmax= 1.75651e+04, atom= 1328\rStep=  216, Dmax= 8.2e-03 nm, Epot= -5.76588e+05 Fmax= 4.80579e+03, atom= 1328\n",
            "Step=  217, Dmax= 9.9e-03 nm, Epot= -5.76686e+05 Fmax= 9.99422e+03, atom= 1328\n",
            "Step=  218, Dmax= 1.2e-02 nm, Epot= -5.76816e+05 Fmax= 8.34549e+03, atom= 1328\n",
            "Step=  219, Dmax= 1.4e-02 nm, Epot= -5.76858e+05 Fmax= 1.31583e+04, atom= 1328\n",
            "Step=  220, Dmax= 1.7e-02 nm, Epot= -5.76970e+05 Fmax= 1.31590e+04, atom= 1328\n",
            "Step=  221, Dmax= 2.0e-02 nm, Epot= -5.76957e+05 Fmax= 1.79006e+04, atom= 1328\rStep=  222, Dmax= 1.0e-02 nm, Epot= -5.77183e+05 Fmax= 2.39470e+03, atom= 1328\n",
            "Step=  223, Dmax= 1.2e-02 nm, Epot= -5.77340e+05 Fmax= 1.72353e+04, atom= 1328\n",
            "Step=  224, Dmax= 1.5e-02 nm, Epot= -5.77648e+05 Fmax= 5.24208e+03, atom= 1328\n",
            "Step=  225, Dmax= 1.8e-02 nm, Epot= -5.77497e+05 Fmax= 2.23748e+04, atom= 1328\rStep=  226, Dmax= 8.8e-03 nm, Epot= -5.77742e+05 Fmax= 8.57204e+03, atom= 1328\n",
            "Step=  227, Dmax= 1.1e-02 nm, Epot= -5.77854e+05 Fmax= 7.50114e+03, atom= 1328\n",
            "Step=  228, Dmax= 1.3e-02 nm, Epot= -5.77907e+05 Fmax= 1.22690e+04, atom= 1328\n",
            "Step=  229, Dmax= 1.5e-02 nm, Epot= -5.78027e+05 Fmax= 1.09409e+04, atom= 1328\n",
            "Step=  230, Dmax= 1.8e-02 nm, Epot= -5.78000e+05 Fmax= 1.73751e+04, atom= 1328\rStep=  231, Dmax= 9.2e-03 nm, Epot= -5.78191e+05 Fmax= 3.22692e+03, atom= 1328\n",
            "Step=  232, Dmax= 1.1e-02 nm, Epot= -5.78310e+05 Fmax= 1.31136e+04, atom= 1328\n",
            "Step=  233, Dmax= 1.3e-02 nm, Epot= -5.78497e+05 Fmax= 7.26944e+03, atom= 1328\n",
            "Step=  234, Dmax= 1.6e-02 nm, Epot= -5.78459e+05 Fmax= 1.66639e+04, atom= 1328\rStep=  235, Dmax= 7.9e-03 nm, Epot= -5.78604e+05 Fmax= 4.70348e+03, atom= 1328\n",
            "Step=  236, Dmax= 9.5e-03 nm, Epot= -5.78690e+05 Fmax= 1.01656e+04, atom= 1328\n",
            "Step=  237, Dmax= 1.1e-02 nm, Epot= -5.78817e+05 Fmax= 7.14500e+03, atom= 1328\n",
            "Step=  238, Dmax= 1.4e-02 nm, Epot= -5.78834e+05 Fmax= 1.41062e+04, atom= 1328\n",
            "Step=  239, Dmax= 1.6e-02 nm, Epot= -5.78987e+05 Fmax= 1.08666e+04, atom= 1328\n",
            "Step=  240, Dmax= 2.0e-02 nm, Epot= -5.78896e+05 Fmax= 1.95514e+04, atom= 1328\rStep=  241, Dmax= 9.8e-03 nm, Epot= -5.79142e+05 Fmax= 4.35312e+03, atom= 1328\n",
            "Step=  242, Dmax= 1.2e-02 nm, Epot= -5.79202e+05 Fmax= 1.33622e+04, atom= 1328\n",
            "Step=  243, Dmax= 1.4e-02 nm, Epot= -5.79374e+05 Fmax= 8.52606e+03, atom= 1328\n",
            "Step=  244, Dmax= 1.7e-02 nm, Epot= -5.79322e+05 Fmax= 1.72489e+04, atom= 1328\rStep=  245, Dmax= 8.5e-03 nm, Epot= -5.79493e+05 Fmax= 4.36948e+03, atom= 1328\n",
            "Step=  246, Dmax= 1.0e-02 nm, Epot= -5.79565e+05 Fmax= 1.16209e+04, atom= 1328\n",
            "Step=  247, Dmax= 1.2e-02 nm, Epot= -5.79712e+05 Fmax= 7.01103e+03, atom= 1328\n",
            "Step=  248, Dmax= 1.5e-02 nm, Epot= -5.79694e+05 Fmax= 1.58188e+04, atom= 1328\rStep=  249, Dmax= 7.3e-03 nm, Epot= -5.79814e+05 Fmax= 4.40733e+03, atom= 1328\n",
            "Step=  250, Dmax= 8.8e-03 nm, Epot= -5.79904e+05 Fmax= 8.83388e+03, atom= 1328\n",
            "Step=  251, Dmax= 1.1e-02 nm, Epot= -5.80011e+05 Fmax= 7.56422e+03, atom= 1328\n",
            "Step=  252, Dmax= 1.3e-02 nm, Epot= -5.80059e+05 Fmax= 1.16708e+04, atom= 1328\n",
            "Step=  253, Dmax= 1.5e-02 nm, Epot= -5.80151e+05 Fmax= 1.18623e+04, atom= 1328\n",
            "Step=  254, Dmax= 1.8e-02 nm, Epot= -5.80158e+05 Fmax= 1.59264e+04, atom= 1328\n",
            "Step=  255, Dmax= 2.2e-02 nm, Epot= -5.80204e+05 Fmax= 1.78260e+04, atom= 1328\n",
            "Step=  256, Dmax= 2.6e-02 nm, Epot= -5.80149e+05 Fmax= 2.21825e+04, atom= 1328\rStep=  257, Dmax= 1.3e-02 nm, Epot= -5.80519e+05 Fmax= 2.23530e+03, atom= 1328\n",
            "Step=  258, Dmax= 1.6e-02 nm, Epot= -5.80569e+05 Fmax= 2.29348e+04, atom= 1328\n",
            "Step=  259, Dmax= 1.9e-02 nm, Epot= -5.81032e+05 Fmax= 6.11134e+03, atom= 1328\n",
            "Step=  260, Dmax= 2.3e-02 nm, Epot= -5.80603e+05 Fmax= 2.91877e+04, atom= 1328\rStep=  261, Dmax= 1.1e-02 nm, Epot= -5.81078e+05 Fmax= 1.15718e+04, atom= 1328\n",
            "Step=  262, Dmax= 1.4e-02 nm, Epot= -5.81194e+05 Fmax= 9.20854e+03, atom= 1328\n",
            "Step=  263, Dmax= 1.6e-02 nm, Epot= -5.81171e+05 Fmax= 1.61081e+04, atom= 1328\rStep=  264, Dmax= 8.2e-03 nm, Epot= -5.81318e+05 Fmax= 3.45647e+03, atom= 1328\n",
            "Step=  265, Dmax= 9.8e-03 nm, Epot= -5.81407e+05 Fmax= 1.12615e+04, atom= 1328\n",
            "Step=  266, Dmax= 1.2e-02 nm, Epot= -5.81544e+05 Fmax= 6.94950e+03, atom= 1328\n",
            "Step=  267, Dmax= 1.4e-02 nm, Epot= -5.81539e+05 Fmax= 1.44930e+04, atom= 1328\rStep=  268, Dmax= 7.1e-03 nm, Epot= -5.81636e+05 Fmax= 3.77666e+03, atom= 1328\n",
            "Step=  269, Dmax= 8.5e-03 nm, Epot= -5.81721e+05 Fmax= 9.51547e+03, atom= 1328\n",
            "Step=  270, Dmax= 1.0e-02 nm, Epot= -5.81834e+05 Fmax= 5.98246e+03, atom= 1328\n",
            "Step=  271, Dmax= 1.2e-02 nm, Epot= -5.81858e+05 Fmax= 1.30041e+04, atom= 1328\n",
            "Step=  272, Dmax= 1.5e-02 nm, Epot= -5.81992e+05 Fmax= 9.34796e+03, atom= 1328\n",
            "Step=  273, Dmax= 1.8e-02 nm, Epot= -5.81927e+05 Fmax= 1.78334e+04, atom= 1328\rStep=  274, Dmax= 8.8e-03 nm, Epot= -5.82113e+05 Fmax= 4.25088e+03, atom= 1328\n",
            "Step=  275, Dmax= 1.1e-02 nm, Epot= -5.82171e+05 Fmax= 1.16540e+04, atom= 1328\n",
            "Step=  276, Dmax= 1.3e-02 nm, Epot= -5.82301e+05 Fmax= 7.89901e+03, atom= 1328\n",
            "Step=  277, Dmax= 1.5e-02 nm, Epot= -5.82282e+05 Fmax= 1.51877e+04, atom= 1328\rStep=  278, Dmax= 7.6e-03 nm, Epot= -5.82402e+05 Fmax= 3.65037e+03, atom= 1328\n",
            "Step=  279, Dmax= 9.1e-03 nm, Epot= -5.82477e+05 Fmax= 1.06228e+04, atom= 1328\n",
            "Step=  280, Dmax= 1.1e-02 nm, Epot= -5.82603e+05 Fmax= 6.05630e+03, atom= 1328\n",
            "Step=  281, Dmax= 1.3e-02 nm, Epot= -5.82601e+05 Fmax= 1.43237e+04, atom= 1328\rStep=  282, Dmax= 6.6e-03 nm, Epot= -5.82686e+05 Fmax= 4.13679e+03, atom= 1328\n",
            "Step=  283, Dmax= 7.9e-03 nm, Epot= -5.82768e+05 Fmax= 7.74674e+03, atom= 1328\n",
            "Step=  284, Dmax= 9.5e-03 nm, Epot= -5.82854e+05 Fmax= 6.89162e+03, atom= 1328\n",
            "Step=  285, Dmax= 1.1e-02 nm, Epot= -5.82904e+05 Fmax= 1.03399e+04, atom= 1328\n",
            "Step=  286, Dmax= 1.4e-02 nm, Epot= -5.82980e+05 Fmax= 1.06752e+04, atom= 1328\n",
            "Step=  287, Dmax= 1.6e-02 nm, Epot= -5.82998e+05 Fmax= 1.42054e+04, atom= 1328\n",
            "Step=  288, Dmax= 2.0e-02 nm, Epot= -5.83042e+05 Fmax= 1.59531e+04, atom= 1328\n",
            "Step=  289, Dmax= 2.4e-02 nm, Epot= -5.83009e+05 Fmax= 1.98729e+04, atom= 1328\rStep=  290, Dmax= 1.2e-02 nm, Epot= -5.83287e+05 Fmax= 2.00048e+03, atom= 1328\n",
            "Step=  291, Dmax= 1.4e-02 nm, Epot= -5.83379e+05 Fmax= 2.03479e+04, atom= 1328\n",
            "Step=  292, Dmax= 1.7e-02 nm, Epot= -5.83731e+05 Fmax= 5.61968e+03, atom= 1328\n",
            "Step=  293, Dmax= 2.0e-02 nm, Epot= -5.83432e+05 Fmax= 2.58508e+04, atom= 1328\rStep=  294, Dmax= 1.0e-02 nm, Epot= -5.83780e+05 Fmax= 1.01395e+04, atom= 1328\n",
            "Step=  295, Dmax= 1.2e-02 nm, Epot= -5.83872e+05 Fmax= 8.46073e+03, atom= 1328\n",
            "Step=  296, Dmax= 1.5e-02 nm, Epot= -5.83874e+05 Fmax= 1.41277e+04, atom= 1328\n",
            "Step=  297, Dmax= 1.8e-02 nm, Epot= -5.83973e+05 Fmax= 1.26662e+04, atom= 1328\n",
            "Step=  298, Dmax= 2.1e-02 nm, Epot= -5.83886e+05 Fmax= 1.97259e+04, atom= 1328\rStep=  299, Dmax= 1.1e-02 nm, Epot= -5.84140e+05 Fmax= 3.54857e+03, atom= 1328\n",
            "Step=  300, Dmax= 1.3e-02 nm, Epot= -5.84158e+05 Fmax= 1.55282e+04, atom= 1328\n",
            "Step=  301, Dmax= 1.5e-02 nm, Epot= -5.84358e+05 Fmax= 7.81784e+03, atom= 1328\n",
            "Step=  302, Dmax= 1.8e-02 nm, Epot= -5.84218e+05 Fmax= 1.98813e+04, atom= 1328\rStep=  303, Dmax= 9.1e-03 nm, Epot= -5.84442e+05 Fmax= 6.03782e+03, atom= 1328\n",
            "Step=  304, Dmax= 1.1e-02 nm, Epot= -5.84479e+05 Fmax= 1.08597e+04, atom= 1328\n",
            "Step=  305, Dmax= 1.3e-02 nm, Epot= -5.84572e+05 Fmax= 9.13495e+03, atom= 1328\n",
            "Step=  306, Dmax= 1.6e-02 nm, Epot= -5.84553e+05 Fmax= 1.51028e+04, atom= 1328\rStep=  307, Dmax= 7.9e-03 nm, Epot= -5.84682e+05 Fmax= 2.99264e+03, atom= 1328\n",
            "Step=  308, Dmax= 9.4e-03 nm, Epot= -5.84760e+05 Fmax= 1.12258e+04, atom= 1328\n",
            "Step=  309, Dmax= 1.1e-02 nm, Epot= -5.84885e+05 Fmax= 6.22259e+03, atom= 1328\n",
            "Step=  310, Dmax= 1.4e-02 nm, Epot= -5.84867e+05 Fmax= 1.44456e+04, atom= 1328\rStep=  311, Dmax= 6.8e-03 nm, Epot= -5.84961e+05 Fmax= 4.11455e+03, atom= 1328\n",
            "Step=  312, Dmax= 8.2e-03 nm, Epot= -5.85026e+05 Fmax= 8.54229e+03, atom= 1328\n",
            "Step=  313, Dmax= 9.8e-03 nm, Epot= -5.85112e+05 Fmax= 6.38040e+03, atom= 1328\n",
            "Step=  314, Dmax= 1.2e-02 nm, Epot= -5.85135e+05 Fmax= 1.17578e+04, atom= 1328\n",
            "Step=  315, Dmax= 1.4e-02 nm, Epot= -5.85232e+05 Fmax= 9.75199e+03, atom= 1328\n",
            "Step=  316, Dmax= 1.7e-02 nm, Epot= -5.85191e+05 Fmax= 1.62679e+04, atom= 1328\rStep=  317, Dmax= 8.5e-03 nm, Epot= -5.85346e+05 Fmax= 3.26827e+03, atom= 1328\n",
            "Step=  318, Dmax= 1.0e-02 nm, Epot= -5.85403e+05 Fmax= 1.20657e+04, atom= 1328\n",
            "Step=  319, Dmax= 1.2e-02 nm, Epot= -5.85537e+05 Fmax= 6.67019e+03, atom= 1328\n",
            "Step=  320, Dmax= 1.5e-02 nm, Epot= -5.85494e+05 Fmax= 1.55712e+04, atom= 1328\rStep=  321, Dmax= 7.3e-03 nm, Epot= -5.85614e+05 Fmax= 4.45398e+03, atom= 1328\n",
            "Step=  322, Dmax= 8.8e-03 nm, Epot= -5.85668e+05 Fmax= 9.11802e+03, atom= 1328\n",
            "Step=  323, Dmax= 1.1e-02 nm, Epot= -5.85754e+05 Fmax= 6.93376e+03, atom= 1328\n",
            "Step=  324, Dmax= 1.3e-02 nm, Epot= -5.85764e+05 Fmax= 1.25294e+04, atom= 1328\n",
            "Step=  325, Dmax= 1.5e-02 nm, Epot= -5.85860e+05 Fmax= 1.05987e+04, atom= 1328\n",
            "Step=  326, Dmax= 1.8e-02 nm, Epot= -5.85801e+05 Fmax= 1.73315e+04, atom= 1328\rStep=  327, Dmax= 9.1e-03 nm, Epot= -5.85984e+05 Fmax= 3.37924e+03, atom= 1328\n",
            "Step=  328, Dmax= 1.1e-02 nm, Epot= -5.86022e+05 Fmax= 1.31336e+04, atom= 1328\n",
            "Step=  329, Dmax= 1.3e-02 nm, Epot= -5.86170e+05 Fmax= 6.98643e+03, atom= 1328\n",
            "Step=  330, Dmax= 1.6e-02 nm, Epot= -5.86096e+05 Fmax= 1.69387e+04, atom= 1328\rStep=  331, Dmax= 7.9e-03 nm, Epot= -5.86246e+05 Fmax= 4.97975e+03, atom= 1328\n",
            "Step=  332, Dmax= 9.4e-03 nm, Epot= -5.86290e+05 Fmax= 9.57500e+03, atom= 1328\n",
            "Step=  333, Dmax= 1.1e-02 nm, Epot= -5.86375e+05 Fmax= 7.68675e+03, atom= 1328\n",
            "Step=  334, Dmax= 1.4e-02 nm, Epot= -5.86373e+05 Fmax= 1.32005e+04, atom= 1328\rStep=  335, Dmax= 6.8e-03 nm, Epot= -5.86460e+05 Fmax= 2.76316e+03, atom= 1328\n",
            "Step=  336, Dmax= 8.1e-03 nm, Epot= -5.86540e+05 Fmax= 9.54908e+03, atom= 1328\n",
            "Step=  337, Dmax= 9.8e-03 nm, Epot= -5.86639e+05 Fmax= 5.48527e+03, atom= 1328\n",
            "Step=  338, Dmax= 1.2e-02 nm, Epot= -5.86648e+05 Fmax= 1.23688e+04, atom= 1328\n",
            "Step=  339, Dmax= 1.4e-02 nm, Epot= -5.86759e+05 Fmax= 9.24233e+03, atom= 1328\n",
            "Step=  340, Dmax= 1.7e-02 nm, Epot= -5.86700e+05 Fmax= 1.65105e+04, atom= 1328\rStep=  341, Dmax= 8.4e-03 nm, Epot= -5.86858e+05 Fmax= 3.64131e+03, atom= 1328\n",
            "Step=  342, Dmax= 1.0e-02 nm, Epot= -5.86891e+05 Fmax= 1.20259e+04, atom= 1328\n",
            "Step=  343, Dmax= 1.2e-02 nm, Epot= -5.87019e+05 Fmax= 6.55205e+03, atom= 1328\n",
            "Step=  344, Dmax= 1.5e-02 nm, Epot= -5.86964e+05 Fmax= 1.58985e+04, atom= 1328\rStep=  345, Dmax= 7.3e-03 nm, Epot= -5.87090e+05 Fmax= 4.67780e+03, atom= 1328\n",
            "Step=  346, Dmax= 8.8e-03 nm, Epot= -5.87139e+05 Fmax= 8.64328e+03, atom= 1328\n",
            "Step=  347, Dmax= 1.1e-02 nm, Epot= -5.87213e+05 Fmax= 7.50699e+03, atom= 1328\n",
            "Step=  348, Dmax= 1.3e-02 nm, Epot= -5.87229e+05 Fmax= 1.17211e+04, atom= 1328\n",
            "Step=  349, Dmax= 1.5e-02 nm, Epot= -5.87296e+05 Fmax= 1.14920e+04, atom= 1328\n",
            "Step=  350, Dmax= 1.8e-02 nm, Epot= -5.87268e+05 Fmax= 1.62036e+04, atom= 1328\rStep=  351, Dmax= 9.1e-03 nm, Epot= -5.87429e+05 Fmax= 2.36929e+03, atom= 1328\n",
            "Step=  352, Dmax= 1.1e-02 nm, Epot= -5.87489e+05 Fmax= 1.45236e+04, atom= 1328\n",
            "Step=  353, Dmax= 1.3e-02 nm, Epot= -5.87671e+05 Fmax= 5.47302e+03, atom= 1328\n",
            "Step=  354, Dmax= 1.6e-02 nm, Epot= -5.87561e+05 Fmax= 1.86602e+04, atom= 1328\rStep=  355, Dmax= 7.8e-03 nm, Epot= -5.87728e+05 Fmax= 6.59901e+03, atom= 1328\n",
            "Step=  356, Dmax= 9.4e-03 nm, Epot= -5.87780e+05 Fmax= 7.75946e+03, atom= 1328\n",
            "Step=  357, Dmax= 1.1e-02 nm, Epot= -5.87823e+05 Fmax= 9.59297e+03, atom= 1328\n",
            "Step=  358, Dmax= 1.4e-02 nm, Epot= -5.87864e+05 Fmax= 1.10986e+04, atom= 1328\n",
            "Step=  359, Dmax= 1.6e-02 nm, Epot= -5.87880e+05 Fmax= 1.38365e+04, atom= 1328\n",
            "Step=  360, Dmax= 2.0e-02 nm, Epot= -5.87897e+05 Fmax= 1.59409e+04, atom= 1328\n",
            "Step=  361, Dmax= 2.3e-02 nm, Epot= -5.87854e+05 Fmax= 1.98596e+04, atom= 1328\rStep=  362, Dmax= 1.2e-02 nm, Epot= -5.88120e+05 Fmax= 2.00199e+03, atom= 1328\n",
            "Step=  363, Dmax= 1.4e-02 nm, Epot= -5.88163e+05 Fmax= 1.92105e+04, atom= 1328\n",
            "Step=  364, Dmax= 1.7e-02 nm, Epot= -5.88448e+05 Fmax= 6.69000e+03, atom= 1328\n",
            "Step=  365, Dmax= 2.0e-02 nm, Epot= -5.88172e+05 Fmax= 2.41679e+04, atom= 1328\rStep=  366, Dmax= 1.0e-02 nm, Epot= -5.88490e+05 Fmax= 8.75455e+03, atom= 1328\n",
            "Step=  367, Dmax= 1.2e-02 nm, Epot= -5.88538e+05 Fmax= 9.88272e+03, atom= 1328\n",
            "Step=  368, Dmax= 1.5e-02 nm, Epot= -5.88559e+05 Fmax= 1.23632e+04, atom= 1328\n",
            "Step=  369, Dmax= 1.7e-02 nm, Epot= -5.88582e+05 Fmax= 1.44165e+04, atom= 1328\n",
            "Step=  370, Dmax= 2.1e-02 nm, Epot= -5.88566e+05 Fmax= 1.75842e+04, atom= 1328\rStep=  371, Dmax= 1.0e-02 nm, Epot= -5.88768e+05 Fmax= 1.61203e+03, atom= 1328\n",
            "Step=  372, Dmax= 1.3e-02 nm, Epot= -5.88872e+05 Fmax= 1.78971e+04, atom= 1328\n",
            "Step=  373, Dmax= 1.5e-02 nm, Epot= -5.89126e+05 Fmax= 5.26317e+03, atom= 1328\n",
            "Step=  374, Dmax= 1.8e-02 nm, Epot= -5.88917e+05 Fmax= 2.25466e+04, atom= 1328\rStep=  375, Dmax= 9.1e-03 nm, Epot= -5.89166e+05 Fmax= 8.66278e+03, atom= 1328\n",
            "Step=  376, Dmax= 1.1e-02 nm, Epot= -5.89227e+05 Fmax= 7.96361e+03, atom= 1328\n",
            "Step=  377, Dmax= 1.3e-02 nm, Epot= -5.89237e+05 Fmax= 1.20516e+04, atom= 1328\n",
            "Step=  378, Dmax= 1.6e-02 nm, Epot= -5.89295e+05 Fmax= 1.18762e+04, atom= 1328\n",
            "Step=  379, Dmax= 1.9e-02 nm, Epot= -5.89255e+05 Fmax= 1.68832e+04, atom= 1328\rStep=  380, Dmax= 9.4e-03 nm, Epot= -5.89427e+05 Fmax= 2.52204e+03, atom= 1328\n",
            "Step=  381, Dmax= 1.1e-02 nm, Epot= -5.89463e+05 Fmax= 1.46288e+04, atom= 1328\n",
            "Step=  382, Dmax= 1.4e-02 nm, Epot= -5.89631e+05 Fmax= 6.11710e+03, atom= 1328\n",
            "Step=  383, Dmax= 1.6e-02 nm, Epot= -5.89513e+05 Fmax= 1.86726e+04, atom= 1328\rStep=  384, Dmax= 8.1e-03 nm, Epot= -5.89685e+05 Fmax= 6.27975e+03, atom= 1328\n",
            "Step=  385, Dmax= 9.7e-03 nm, Epot= -5.89724e+05 Fmax= 8.66964e+03, atom= 1328\n",
            "Step=  386, Dmax= 1.2e-02 nm, Epot= -5.89770e+05 Fmax= 9.19422e+03, atom= 1328\n",
            "Step=  387, Dmax= 1.4e-02 nm, Epot= -5.89786e+05 Fmax= 1.23005e+04, atom= 1328\n",
            "Step=  388, Dmax= 1.7e-02 nm, Epot= -5.89821e+05 Fmax= 1.34108e+04, atom= 1328\n",
            "Step=  389, Dmax= 2.0e-02 nm, Epot= -5.89790e+05 Fmax= 1.74753e+04, atom= 1328\rStep=  390, Dmax= 1.0e-02 nm, Epot= -5.89980e+05 Fmax= 2.05917e+03, atom= 1328\n",
            "Step=  391, Dmax= 1.2e-02 nm, Epot= -5.90030e+05 Fmax= 1.63551e+04, atom= 1328\n",
            "Step=  392, Dmax= 1.5e-02 nm, Epot= -5.90234e+05 Fmax= 5.95256e+03, atom= 1328\n",
            "Step=  393, Dmax= 1.7e-02 nm, Epot= -5.90069e+05 Fmax= 2.07038e+04, atom= 1328\rStep=  394, Dmax= 8.7e-03 nm, Epot= -5.90279e+05 Fmax= 7.38086e+03, atom= 1328\n",
            "Step=  395, Dmax= 1.0e-02 nm, Epot= -5.90323e+05 Fmax= 8.67688e+03, atom= 1328\n",
            "Step=  396, Dmax= 1.3e-02 nm, Epot= -5.90353e+05 Fmax= 1.05289e+04, atom= 1328\n",
            "Step=  397, Dmax= 1.5e-02 nm, Epot= -5.90376e+05 Fmax= 1.25605e+04, atom= 1328\n",
            "Step=  398, Dmax= 1.8e-02 nm, Epot= -5.90381e+05 Fmax= 1.50738e+04, atom= 1328\n",
            "Step=  399, Dmax= 2.2e-02 nm, Epot= -5.90368e+05 Fmax= 1.80984e+04, atom= 1328\rStep=  400, Dmax= 1.1e-02 nm, Epot= -5.90573e+05 Fmax= 1.55236e+03, atom= 1328\n",
            "Step=  401, Dmax= 1.3e-02 nm, Epot= -5.90669e+05 Fmax= 1.81862e+04, atom= 1328\n",
            "Step=  402, Dmax= 1.6e-02 nm, Epot= -5.90912e+05 Fmax= 5.81948e+03, atom= 1328\n",
            "Step=  403, Dmax= 1.9e-02 nm, Epot= -5.90691e+05 Fmax= 2.28429e+04, atom= 1328\rStep=  404, Dmax= 9.4e-03 nm, Epot= -5.90949e+05 Fmax= 8.52952e+03, atom= 1328\n",
            "Step=  405, Dmax= 1.1e-02 nm, Epot= -5.90998e+05 Fmax= 8.72450e+03, atom= 1328\n",
            "Step=  406, Dmax= 1.4e-02 nm, Epot= -5.91009e+05 Fmax= 1.19279e+04, atom= 1328\n",
            "Step=  407, Dmax= 1.6e-02 nm, Epot= -5.91046e+05 Fmax= 1.28778e+04, atom= 1328\n",
            "Step=  408, Dmax= 1.9e-02 nm, Epot= -5.91018e+05 Fmax= 1.68251e+04, atom= 1328\rStep=  409, Dmax= 9.7e-03 nm, Epot= -5.91187e+05 Fmax= 1.99042e+03, atom= 1328\n",
            "Step=  410, Dmax= 1.2e-02 nm, Epot= -5.91234e+05 Fmax= 1.59531e+04, atom= 1328\n",
            "Step=  411, Dmax= 1.4e-02 nm, Epot= -5.91423e+05 Fmax= 5.49946e+03, atom= 1328\n",
            "Step=  412, Dmax= 1.7e-02 nm, Epot= -5.91274e+05 Fmax= 2.02350e+04, atom= 1328\rStep=  413, Dmax= 8.4e-03 nm, Epot= -5.91466e+05 Fmax= 7.37798e+03, atom= 1328\n",
            "Step=  414, Dmax= 1.0e-02 nm, Epot= -5.91508e+05 Fmax= 8.04710e+03, atom= 1328\n",
            "Step=  415, Dmax= 1.2e-02 nm, Epot= -5.91532e+05 Fmax= 1.04809e+04, atom= 1328\n",
            "Step=  416, Dmax= 1.5e-02 nm, Epot= -5.91564e+05 Fmax= 1.17196e+04, atom= 1328\n",
            "Step=  417, Dmax= 1.7e-02 nm, Epot= -5.91559e+05 Fmax= 1.49219e+04, atom= 1328\rStep=  418, Dmax= 8.7e-03 nm, Epot= -5.91686e+05 Fmax= 1.62075e+03, atom= 1328\n",
            "Step=  419, Dmax= 1.0e-02 nm, Epot= -5.91783e+05 Fmax= 1.43139e+04, atom= 1328\n",
            "Step=  420, Dmax= 1.3e-02 nm, Epot= -5.91940e+05 Fmax= 4.91956e+03, atom= 1328\n",
            "Step=  421, Dmax= 1.5e-02 nm, Epot= -5.91842e+05 Fmax= 1.81075e+04, atom= 1328\rStep=  422, Dmax= 7.5e-03 nm, Epot= -5.91981e+05 Fmax= 6.59786e+03, atom= 1328\n",
            "Step=  423, Dmax= 9.0e-03 nm, Epot= -5.92025e+05 Fmax= 7.24015e+03, atom= 1328\n",
            "Step=  424, Dmax= 1.1e-02 nm, Epot= -5.92054e+05 Fmax= 9.34391e+03, atom= 1328\n",
            "Step=  425, Dmax= 1.3e-02 nm, Epot= -5.92089e+05 Fmax= 1.05642e+04, atom= 1328\n",
            "Step=  426, Dmax= 1.6e-02 nm, Epot= -5.92096e+05 Fmax= 1.32988e+04, atom= 1328\n",
            "Step=  427, Dmax= 1.9e-02 nm, Epot= -5.92108e+05 Fmax= 1.53231e+04, atom= 1328\n",
            "Step=  428, Dmax= 2.2e-02 nm, Epot= -5.92071e+05 Fmax= 1.89739e+04, atom= 1328\rStep=  429, Dmax= 1.1e-02 nm, Epot= -5.92290e+05 Fmax= 1.85565e+03, atom= 1328\n",
            "Step=  430, Dmax= 1.3e-02 nm, Epot= -5.92310e+05 Fmax= 1.88107e+04, atom= 1328\n",
            "Step=  431, Dmax= 1.6e-02 nm, Epot= -5.92555e+05 Fmax= 6.00735e+03, atom= 1328\n",
            "Step=  432, Dmax= 1.9e-02 nm, Epot= -5.92313e+05 Fmax= 2.36772e+04, atom= 1328\rStep=  433, Dmax= 9.7e-03 nm, Epot= -5.92583e+05 Fmax= 8.85696e+03, atom= 1328\n",
            "Step=  434, Dmax= 1.2e-02 nm, Epot= -5.92627e+05 Fmax= 8.97891e+03, atom= 1328\n",
            "Step=  435, Dmax= 1.4e-02 nm, Epot= -5.92632e+05 Fmax= 1.24073e+04, atom= 1328\n",
            "Step=  436, Dmax= 1.7e-02 nm, Epot= -5.92663e+05 Fmax= 1.32449e+04, atom= 1328\n",
            "Step=  437, Dmax= 2.0e-02 nm, Epot= -5.92627e+05 Fmax= 1.74994e+04, atom= 1328\rStep=  438, Dmax= 1.0e-02 nm, Epot= -5.92804e+05 Fmax= 2.15365e+03, atom= 1328\n",
            "Step=  439, Dmax= 1.2e-02 nm, Epot= -5.92821e+05 Fmax= 1.63263e+04, atom= 1328\n",
            "Step=  440, Dmax= 1.4e-02 nm, Epot= -5.93006e+05 Fmax= 5.88166e+03, atom= 1328\n",
            "Step=  441, Dmax= 1.7e-02 nm, Epot= -5.92842e+05 Fmax= 2.07379e+04, atom= 1328\rStep=  442, Dmax= 8.7e-03 nm, Epot= -5.93043e+05 Fmax= 7.43149e+03, atom= 1328\n",
            "Step=  443, Dmax= 1.0e-02 nm, Epot= -5.93078e+05 Fmax= 8.54108e+03, atom= 1328\n",
            "Step=  444, Dmax= 1.3e-02 nm, Epot= -5.93099e+05 Fmax= 1.06233e+04, atom= 1328\n",
            "Step=  445, Dmax= 1.5e-02 nm, Epot= -5.93121e+05 Fmax= 1.23568e+04, atom= 1328\n",
            "Step=  446, Dmax= 1.8e-02 nm, Epot= -5.93119e+05 Fmax= 1.52065e+04, atom= 1328\rStep=  447, Dmax= 9.0e-03 nm, Epot= -5.93246e+05 Fmax= 1.44070e+03, atom= 1328\n",
            "Step=  448, Dmax= 1.1e-02 nm, Epot= -5.93346e+05 Fmax= 1.50999e+04, atom= 1328\n",
            "Step=  449, Dmax= 1.3e-02 nm, Epot= -5.93508e+05 Fmax= 4.81304e+03, atom= 1328\n",
            "Step=  450, Dmax= 1.6e-02 nm, Epot= -5.93392e+05 Fmax= 1.90040e+04, atom= 1328\rStep=  451, Dmax= 7.8e-03 nm, Epot= -5.93544e+05 Fmax= 7.10859e+03, atom= 1328\n",
            "Step=  452, Dmax= 9.4e-03 nm, Epot= -5.93586e+05 Fmax= 7.21453e+03, atom= 1328\n",
            "Step=  453, Dmax= 1.1e-02 nm, Epot= -5.93605e+05 Fmax= 9.94684e+03, atom= 1328\n",
            "Step=  454, Dmax= 1.3e-02 nm, Epot= -5.93640e+05 Fmax= 1.06591e+04, atom= 1328\n",
            "Step=  455, Dmax= 1.6e-02 nm, Epot= -5.93633e+05 Fmax= 1.40302e+04, atom= 1328\rStep=  456, Dmax= 8.1e-03 nm, Epot= -5.93736e+05 Fmax= 1.70109e+03, atom= 1328\n",
            "Step=  457, Dmax= 9.7e-03 nm, Epot= -5.93809e+05 Fmax= 1.31573e+04, atom= 1328\n",
            "Step=  458, Dmax= 1.2e-02 nm, Epot= -5.93936e+05 Fmax= 4.65855e+03, atom= 1328\n",
            "Step=  459, Dmax= 1.4e-02 nm, Epot= -5.93865e+05 Fmax= 1.67277e+04, atom= 1328\rStep=  460, Dmax= 7.0e-03 nm, Epot= -5.93975e+05 Fmax= 6.03605e+03, atom= 1328\n",
            "Step=  461, Dmax= 8.4e-03 nm, Epot= -5.94011e+05 Fmax= 6.77715e+03, atom= 1328\n",
            "Step=  462, Dmax= 1.0e-02 nm, Epot= -5.94041e+05 Fmax= 8.61654e+03, atom= 1328\n",
            "Step=  463, Dmax= 1.2e-02 nm, Epot= -5.94071e+05 Fmax= 9.82691e+03, atom= 1328\n",
            "Step=  464, Dmax= 1.4e-02 nm, Epot= -5.94080e+05 Fmax= 1.23191e+04, atom= 1328\n",
            "Step=  465, Dmax= 1.7e-02 nm, Epot= -5.94093e+05 Fmax= 1.42104e+04, atom= 1328\n",
            "Step=  466, Dmax= 2.1e-02 nm, Epot= -5.94069e+05 Fmax= 1.76208e+04, atom= 1328\rStep=  467, Dmax= 1.0e-02 nm, Epot= -5.94245e+05 Fmax= 1.72831e+03, atom= 1328\n",
            "Step=  468, Dmax= 1.3e-02 nm, Epot= -5.94280e+05 Fmax= 1.73500e+04, atom= 1328\n",
            "Step=  469, Dmax= 1.5e-02 nm, Epot= -5.94476e+05 Fmax= 5.66341e+03, atom= 1328\n",
            "Step=  470, Dmax= 1.8e-02 nm, Epot= -5.94291e+05 Fmax= 2.18308e+04, atom= 1328\rStep=  471, Dmax= 9.0e-03 nm, Epot= -5.94503e+05 Fmax= 8.10123e+03, atom= 1328\n",
            "Step=  472, Dmax= 1.1e-02 nm, Epot= -5.94541e+05 Fmax= 8.45066e+03, atom= 1328\n",
            "Step=  473, Dmax= 1.3e-02 nm, Epot= -5.94552e+05 Fmax= 1.13646e+04, atom= 1328\n",
            "Step=  474, Dmax= 1.6e-02 nm, Epot= -5.94576e+05 Fmax= 1.24398e+04, atom= 1328\n",
            "Step=  475, Dmax= 1.9e-02 nm, Epot= -5.94556e+05 Fmax= 1.60604e+04, atom= 1328\rStep=  476, Dmax= 9.3e-03 nm, Epot= -5.94695e+05 Fmax= 1.83364e+03, atom= 1328\n",
            "Step=  477, Dmax= 1.1e-02 nm, Epot= -5.94734e+05 Fmax= 1.53613e+04, atom= 1328\n",
            "Step=  478, Dmax= 1.3e-02 nm, Epot= -5.94892e+05 Fmax= 5.22457e+03, atom= 1328\n",
            "Step=  479, Dmax= 1.6e-02 nm, Epot= -5.94763e+05 Fmax= 1.94940e+04, atom= 1328\rStep=  480, Dmax= 8.1e-03 nm, Epot= -5.94924e+05 Fmax= 7.13810e+03, atom= 1328\n",
            "Step=  481, Dmax= 9.7e-03 nm, Epot= -5.94959e+05 Fmax= 7.65937e+03, atom= 1328\n",
            "Step=  482, Dmax= 1.2e-02 nm, Epot= -5.94976e+05 Fmax= 1.01290e+04, atom= 1328\n",
            "Step=  483, Dmax= 1.4e-02 nm, Epot= -5.95002e+05 Fmax= 1.11684e+04, atom= 1328\n",
            "Step=  484, Dmax= 1.7e-02 nm, Epot= -5.94995e+05 Fmax= 1.44121e+04, atom= 1328\rStep=  485, Dmax= 8.4e-03 nm, Epot= -5.95102e+05 Fmax= 1.63230e+03, atom= 1328\n",
            "Step=  486, Dmax= 1.0e-02 nm, Epot= -5.95168e+05 Fmax= 1.36496e+04, atom= 1328\n",
            "Step=  487, Dmax= 1.2e-02 nm, Epot= -5.95294e+05 Fmax= 4.80897e+03, atom= 1328\n",
            "Step=  488, Dmax= 1.4e-02 nm, Epot= -5.95211e+05 Fmax= 1.72509e+04, atom= 1328\rStep=  489, Dmax= 7.2e-03 nm, Epot= -5.95328e+05 Fmax= 6.22881e+03, atom= 1328\n",
            "Step=  490, Dmax= 8.7e-03 nm, Epot= -5.95362e+05 Fmax= 7.06265e+03, atom= 1328\n",
            "Step=  491, Dmax= 1.0e-02 nm, Epot= -5.95386e+05 Fmax= 8.83601e+03, atom= 1328\n",
            "Step=  492, Dmax= 1.2e-02 nm, Epot= -5.95410e+05 Fmax= 1.02849e+04, atom= 1328\n",
            "Step=  493, Dmax= 1.5e-02 nm, Epot= -5.95421e+05 Fmax= 1.25977e+04, atom= 1328\n",
            "Step=  494, Dmax= 1.8e-02 nm, Epot= -5.95422e+05 Fmax= 1.48925e+04, atom= 1328\n",
            "Step=  495, Dmax= 2.2e-02 nm, Epot= -5.95399e+05 Fmax= 1.80048e+04, atom= 1328\rStep=  496, Dmax= 1.1e-02 nm, Epot= -5.95579e+05 Fmax= 1.59613e+03, atom= 1328\n",
            "Step=  497, Dmax= 1.3e-02 nm, Epot= -5.95609e+05 Fmax= 1.82771e+04, atom= 1328\n",
            "Step=  498, Dmax= 1.6e-02 nm, Epot= -5.95819e+05 Fmax= 5.53748e+03, atom= 1328\n",
            "Step=  499, Dmax= 1.9e-02 nm, Epot= -5.95606e+05 Fmax= 2.30235e+04, atom= 1328\rStep=  500, Dmax= 9.3e-03 nm, Epot= -5.95837e+05 Fmax= 8.75933e+03, atom= 1328\n",
            "Step=  501, Dmax= 1.1e-02 nm, Epot= -5.95877e+05 Fmax= 8.33771e+03, atom= 1328\n",
            "Step=  502, Dmax= 1.3e-02 nm, Epot= -5.95873e+05 Fmax= 1.22180e+04, atom= 1328\rStep=  503, Dmax= 6.7e-03 nm, Epot= -5.95941e+05 Fmax= 1.94369e+03, atom= 1328\n",
            "Step=  504, Dmax= 8.1e-03 nm, Epot= -5.95992e+05 Fmax= 1.03186e+04, atom= 1328\n",
            "Step=  505, Dmax= 9.7e-03 nm, Epot= -5.96070e+05 Fmax= 4.49066e+03, atom= 1328\n",
            "Step=  506, Dmax= 1.2e-02 nm, Epot= -5.96049e+05 Fmax= 1.32062e+04, atom= 1328\rStep=  507, Dmax= 5.8e-03 nm, Epot= -5.96109e+05 Fmax= 4.36161e+03, atom= 1328\n",
            "Step=  508, Dmax= 7.0e-03 nm, Epot= -5.96141e+05 Fmax= 6.31539e+03, atom= 1328\n",
            "Step=  509, Dmax= 8.3e-03 nm, Epot= -5.96175e+05 Fmax= 6.43890e+03, atom= 1328\n",
            "Step=  510, Dmax= 1.0e-02 nm, Epot= -5.96196e+05 Fmax= 8.92107e+03, atom= 1328\n",
            "Step=  511, Dmax= 1.2e-02 nm, Epot= -5.96226e+05 Fmax= 9.44417e+03, atom= 1328\n",
            "Step=  512, Dmax= 1.4e-02 nm, Epot= -5.96227e+05 Fmax= 1.26452e+04, atom= 1328\n",
            "Step=  513, Dmax= 1.7e-02 nm, Epot= -5.96244e+05 Fmax= 1.37788e+04, atom= 1328\n",
            "Step=  514, Dmax= 2.1e-02 nm, Epot= -5.96204e+05 Fmax= 1.79633e+04, atom= 1328\rStep=  515, Dmax= 1.0e-02 nm, Epot= -5.96378e+05 Fmax= 2.11194e+03, atom= 1328\n",
            "Step=  516, Dmax= 1.2e-02 nm, Epot= -5.96369e+05 Fmax= 1.68498e+04, atom= 1328\rStep=  517, Dmax= 6.2e-03 nm, Epot= -5.96429e+05 Fmax= 7.35081e+03, atom= 1328\n",
            "Step=  518, Dmax= 7.5e-03 nm, Epot= -5.96479e+05 Fmax= 4.11442e+03, atom= 1328\n",
            "Step=  519, Dmax= 9.0e-03 nm, Epot= -5.96490e+05 Fmax= 9.57452e+03, atom= 1328\n",
            "Step=  520, Dmax= 1.1e-02 nm, Epot= -5.96548e+05 Fmax= 6.92636e+03, atom= 1328\n",
            "Step=  521, Dmax= 1.3e-02 nm, Epot= -5.96529e+05 Fmax= 1.27992e+04, atom= 1328\rStep=  522, Dmax= 6.5e-03 nm, Epot= -5.96597e+05 Fmax= 2.94230e+03, atom= 1328\n",
            "Step=  523, Dmax= 7.8e-03 nm, Epot= -5.96625e+05 Fmax= 8.97673e+03, atom= 1328\n",
            "Step=  524, Dmax= 9.3e-03 nm, Epot= -5.96684e+05 Fmax= 5.24208e+03, atom= 1328\n",
            "Step=  525, Dmax= 1.1e-02 nm, Epot= -5.96674e+05 Fmax= 1.18889e+04, atom= 1328\rStep=  526, Dmax= 5.6e-03 nm, Epot= -5.96722e+05 Fmax= 3.32418e+03, atom= 1328\n",
            "Step=  527, Dmax= 6.7e-03 nm, Epot= -5.96754e+05 Fmax= 6.88566e+03, atom= 1328\n",
            "Step=  528, Dmax= 8.0e-03 nm, Epot= -5.96796e+05 Fmax= 5.44430e+03, atom= 1328\n",
            "Step=  529, Dmax= 9.6e-03 nm, Epot= -5.96809e+05 Fmax= 9.27773e+03, atom= 1328\n",
            "Step=  530, Dmax= 1.2e-02 nm, Epot= -5.96850e+05 Fmax= 8.46077e+03, atom= 1328\n",
            "Step=  531, Dmax= 1.4e-02 nm, Epot= -5.96839e+05 Fmax= 1.27430e+04, atom= 1328\rStep=  532, Dmax= 6.9e-03 nm, Epot= -5.96913e+05 Fmax= 2.15041e+03, atom= 1328\n",
            "Step=  533, Dmax= 8.3e-03 nm, Epot= -5.96950e+05 Fmax= 1.06878e+04, atom= 1328\n",
            "Step=  534, Dmax= 1.0e-02 nm, Epot= -5.97028e+05 Fmax= 4.60261e+03, atom= 1328\n",
            "Step=  535, Dmax= 1.2e-02 nm, Epot= -5.96995e+05 Fmax= 1.38259e+04, atom= 1328\rStep=  536, Dmax= 6.0e-03 nm, Epot= -5.97062e+05 Fmax= 4.61190e+03, atom= 1328\n",
            "Step=  537, Dmax= 7.2e-03 nm, Epot= -5.97092e+05 Fmax= 6.37330e+03, atom= 1328\n",
            "Step=  538, Dmax= 8.6e-03 nm, Epot= -5.97123e+05 Fmax= 6.88435e+03, atom= 1328\n",
            "Step=  539, Dmax= 1.0e-02 nm, Epot= -5.97143e+05 Fmax= 8.94567e+03, atom= 1328\n",
            "Step=  540, Dmax= 1.2e-02 nm, Epot= -5.97166e+05 Fmax= 1.01227e+04, atom= 1328\n",
            "Step=  541, Dmax= 1.5e-02 nm, Epot= -5.97169e+05 Fmax= 1.26684e+04, atom= 1328\n",
            "Step=  542, Dmax= 1.8e-02 nm, Epot= -5.97171e+05 Fmax= 1.47420e+04, atom= 1328\n",
            "Step=  543, Dmax= 2.2e-02 nm, Epot= -5.97143e+05 Fmax= 1.80313e+04, atom= 1328\rStep=  544, Dmax= 1.1e-02 nm, Epot= -5.97318e+05 Fmax= 1.68309e+03, atom= 1328\n",
            "Step=  545, Dmax= 1.3e-02 nm, Epot= -5.97319e+05 Fmax= 1.81978e+04, atom= 1328\n",
            "Step=  546, Dmax= 1.5e-02 nm, Epot= -5.97520e+05 Fmax= 5.52220e+03, atom= 1328\n",
            "Step=  547, Dmax= 1.9e-02 nm, Epot= -5.97311e+05 Fmax= 2.29764e+04, atom= 1328\rStep=  548, Dmax= 9.3e-03 nm, Epot= -5.97535e+05 Fmax= 8.74105e+03, atom= 1328\n",
            "Step=  549, Dmax= 1.1e-02 nm, Epot= -5.97573e+05 Fmax= 8.28447e+03, atom= 1328\n",
            "Step=  550, Dmax= 1.3e-02 nm, Epot= -5.97566e+05 Fmax= 1.22174e+04, atom= 1328\rStep=  551, Dmax= 6.7e-03 nm, Epot= -5.97630e+05 Fmax= 1.97006e+03, atom= 1328\n",
            "Step=  552, Dmax= 8.0e-03 nm, Epot= -5.97674e+05 Fmax= 1.02088e+04, atom= 1328\n",
            "Step=  553, Dmax= 9.6e-03 nm, Epot= -5.97746e+05 Fmax= 4.55992e+03, atom= 1328\n",
            "Step=  554, Dmax= 1.2e-02 nm, Epot= -5.97722e+05 Fmax= 1.30518e+04, atom= 1328\rStep=  555, Dmax= 5.8e-03 nm, Epot= -5.97781e+05 Fmax= 4.24975e+03, atom= 1328\n",
            "Step=  556, Dmax= 6.9e-03 nm, Epot= -5.97808e+05 Fmax= 6.40822e+03, atom= 1328\n",
            "Step=  557, Dmax= 8.3e-03 nm, Epot= -5.97840e+05 Fmax= 6.29007e+03, atom= 1328\n",
            "Step=  558, Dmax= 1.0e-02 nm, Epot= -5.97855e+05 Fmax= 9.03474e+03, atom= 1328\n",
            "Step=  559, Dmax= 1.2e-02 nm, Epot= -5.97885e+05 Fmax= 9.25533e+03, atom= 1328\n",
            "Step=  560, Dmax= 1.4e-02 nm, Epot= -5.97879e+05 Fmax= 1.27758e+04, atom= 1328\rStep=  561, Dmax= 7.2e-03 nm, Epot= -5.97955e+05 Fmax= 1.76670e+03, atom= 1328\n",
            "Step=  562, Dmax= 8.6e-03 nm, Epot= -5.98002e+05 Fmax= 1.12881e+04, atom= 1328\n",
            "Step=  563, Dmax= 1.0e-02 nm, Epot= -5.98087e+05 Fmax= 4.59025e+03, atom= 1328\n",
            "Step=  564, Dmax= 1.2e-02 nm, Epot= -5.98044e+05 Fmax= 1.43310e+04, atom= 1328\rStep=  565, Dmax= 6.2e-03 nm, Epot= -5.98117e+05 Fmax= 4.87497e+03, atom= 1328\n",
            "Step=  566, Dmax= 7.5e-03 nm, Epot= -5.98144e+05 Fmax= 6.58041e+03, atom= 1328\n",
            "Step=  567, Dmax= 8.9e-03 nm, Epot= -5.98174e+05 Fmax= 7.06488e+03, atom= 1328\n",
            "Step=  568, Dmax= 1.1e-02 nm, Epot= -5.98188e+05 Fmax= 9.40530e+03, atom= 1328\n",
            "Step=  569, Dmax= 1.3e-02 nm, Epot= -5.98212e+05 Fmax= 1.02496e+04, atom= 1328\n",
            "Step=  570, Dmax= 1.5e-02 nm, Epot= -5.98203e+05 Fmax= 1.34256e+04, atom= 1328\rStep=  571, Dmax= 7.7e-03 nm, Epot= -5.98290e+05 Fmax= 1.59746e+03, atom= 1328\n",
            "Step=  572, Dmax= 9.3e-03 nm, Epot= -5.98342e+05 Fmax= 1.23986e+04, atom= 1328\n",
            "Step=  573, Dmax= 1.1e-02 nm, Epot= -5.98442e+05 Fmax= 4.67326e+03, atom= 1328\n",
            "Step=  574, Dmax= 1.3e-02 nm, Epot= -5.98378e+05 Fmax= 1.56567e+04, atom= 1328\rStep=  575, Dmax= 6.7e-03 nm, Epot= -5.98471e+05 Fmax= 5.49776e+03, atom= 1328\n",
            "Step=  576, Dmax= 8.0e-03 nm, Epot= -5.98497e+05 Fmax= 6.81484e+03, atom= 1328\n",
            "Step=  577, Dmax= 9.6e-03 nm, Epot= -5.98521e+05 Fmax= 7.84934e+03, atom= 1328\n",
            "Step=  578, Dmax= 1.2e-02 nm, Epot= -5.98535e+05 Fmax= 9.85191e+03, atom= 1328\n",
            "Step=  579, Dmax= 1.4e-02 nm, Epot= -5.98552e+05 Fmax= 1.12694e+04, atom= 1328\n",
            "Step=  580, Dmax= 1.7e-02 nm, Epot= -5.98545e+05 Fmax= 1.41713e+04, atom= 1328\rStep=  581, Dmax= 8.3e-03 nm, Epot= -5.98643e+05 Fmax= 1.46420e+03, atom= 1328\n",
            "Step=  582, Dmax= 1.0e-02 nm, Epot= -5.98698e+05 Fmax= 1.35358e+04, atom= 1328\n",
            "Step=  583, Dmax= 1.2e-02 nm, Epot= -5.98812e+05 Fmax= 4.82095e+03, atom= 1328\n",
            "Step=  584, Dmax= 1.4e-02 nm, Epot= -5.98726e+05 Fmax= 1.70229e+04, atom= 1328\rStep=  585, Dmax= 7.2e-03 nm, Epot= -5.98839e+05 Fmax= 6.10921e+03, atom= 1328\n",
            "Step=  586, Dmax= 8.6e-03 nm, Epot= -5.98865e+05 Fmax= 7.12524e+03, atom= 1328\n",
            "Step=  587, Dmax= 1.0e-02 nm, Epot= -5.98883e+05 Fmax= 8.63412e+03, atom= 1328\n",
            "Step=  588, Dmax= 1.2e-02 nm, Epot= -5.98897e+05 Fmax= 1.03903e+04, atom= 1328\n",
            "Step=  589, Dmax= 1.5e-02 nm, Epot= -5.98904e+05 Fmax= 1.23068e+04, atom= 1328\n",
            "Step=  590, Dmax= 1.8e-02 nm, Epot= -5.98895e+05 Fmax= 1.50304e+04, atom= 1328\rStep=  591, Dmax= 8.9e-03 nm, Epot= -5.99010e+05 Fmax= 1.37966e+03, atom= 1328\n",
            "Step=  592, Dmax= 1.1e-02 nm, Epot= -5.99065e+05 Fmax= 1.46936e+04, atom= 1328\n",
            "Step=  593, Dmax= 1.3e-02 nm, Epot= -5.99196e+05 Fmax= 5.04574e+03, atom= 1328\n",
            "Step=  594, Dmax= 1.5e-02 nm, Epot= -5.99083e+05 Fmax= 1.84247e+04, atom= 1328\rStep=  595, Dmax= 7.7e-03 nm, Epot= -5.99219e+05 Fmax= 6.70113e+03, atom= 1328\n",
            "Step=  596, Dmax= 9.3e-03 nm, Epot= -5.99245e+05 Fmax= 7.52526e+03, atom= 1328\n",
            "Step=  597, Dmax= 1.1e-02 nm, Epot= -5.99259e+05 Fmax= 9.41112e+03, atom= 1328\n",
            "Step=  598, Dmax= 1.3e-02 nm, Epot= -5.99274e+05 Fmax= 1.10355e+04, atom= 1328\n",
            "Step=  599, Dmax= 1.6e-02 nm, Epot= -5.99272e+05 Fmax= 1.33541e+04, atom= 1328\rStep=  600, Dmax= 8.0e-03 nm, Epot= -5.99359e+05 Fmax= 1.17882e+03, atom= 1328\n",
            "Step=  601, Dmax= 9.6e-03 nm, Epot= -5.99434e+05 Fmax= 1.37877e+04, atom= 1328\n",
            "Step=  602, Dmax= 1.2e-02 nm, Epot= -5.99555e+05 Fmax= 3.83327e+03, atom= 1328\n",
            "Step=  603, Dmax= 1.4e-02 nm, Epot= -5.99468e+05 Fmax= 1.74638e+04, atom= 1328\rStep=  604, Dmax= 6.9e-03 nm, Epot= -5.99577e+05 Fmax= 6.82293e+03, atom= 1328\n",
            "Step=  605, Dmax= 8.3e-03 nm, Epot= -5.99611e+05 Fmax= 5.82142e+03, atom= 1328\n",
            "Step=  606, Dmax= 1.0e-02 nm, Epot= -5.99618e+05 Fmax= 9.47996e+03, atom= 1328\n",
            "Step=  607, Dmax= 1.2e-02 nm, Epot= -5.99654e+05 Fmax= 8.73539e+03, atom= 1328\n",
            "Step=  608, Dmax= 1.4e-02 nm, Epot= -5.99632e+05 Fmax= 1.32468e+04, atom= 1328\rStep=  609, Dmax= 7.2e-03 nm, Epot= -5.99714e+05 Fmax= 2.26152e+03, atom= 1328\n",
            "Step=  610, Dmax= 8.6e-03 nm, Epot= -5.99734e+05 Fmax= 1.07311e+04, atom= 1328\n",
            "Step=  611, Dmax= 1.0e-02 nm, Epot= -5.99808e+05 Fmax= 5.10299e+03, atom= 1328\n",
            "Step=  612, Dmax= 1.2e-02 nm, Epot= -5.99766e+05 Fmax= 1.37294e+04, atom= 1328\rStep=  613, Dmax= 6.2e-03 nm, Epot= -5.99838e+05 Fmax= 4.31715e+03, atom= 1328\n",
            "Step=  614, Dmax= 7.4e-03 nm, Epot= -5.99858e+05 Fmax= 7.12660e+03, atom= 1328\n",
            "Step=  615, Dmax= 8.9e-03 nm, Epot= -5.99890e+05 Fmax= 6.45894e+03, atom= 1328\n",
            "Step=  616, Dmax= 1.1e-02 nm, Epot= -5.99894e+05 Fmax= 9.98087e+03, atom= 1328\n",
            "Step=  617, Dmax= 1.3e-02 nm, Epot= -5.99925e+05 Fmax= 9.59274e+03, atom= 1328\n",
            "Step=  618, Dmax= 1.5e-02 nm, Epot= -5.99900e+05 Fmax= 1.40263e+04, atom= 1328\rStep=  619, Dmax= 7.7e-03 nm, Epot= -5.99995e+05 Fmax= 2.22471e+03, atom= 1328\n",
            "Step=  620, Dmax= 9.2e-03 nm, Epot= -6.00008e+05 Fmax= 1.17248e+04, atom= 1328\n",
            "Step=  621, Dmax= 1.1e-02 nm, Epot= -6.00091e+05 Fmax= 5.29433e+03, atom= 1328\n",
            "Step=  622, Dmax= 1.3e-02 nm, Epot= -6.00031e+05 Fmax= 1.49438e+04, atom= 1328\rStep=  623, Dmax= 6.7e-03 nm, Epot= -6.00123e+05 Fmax= 4.82915e+03, atom= 1328\n",
            "Step=  624, Dmax= 8.0e-03 nm, Epot= -6.00138e+05 Fmax= 7.46723e+03, atom= 1328\n",
            "Step=  625, Dmax= 9.6e-03 nm, Epot= -6.00169e+05 Fmax= 7.13346e+03, atom= 1328\n",
            "Step=  626, Dmax= 1.2e-02 nm, Epot= -6.00169e+05 Fmax= 1.05325e+04, atom= 1328\rStep=  627, Dmax= 5.8e-03 nm, Epot= -6.00215e+05 Fmax= 1.70444e+03, atom= 1328\n",
            "Step=  628, Dmax= 6.9e-03 nm, Epot= -6.00261e+05 Fmax= 8.65216e+03, atom= 1328\n",
            "Step=  629, Dmax= 8.3e-03 nm, Epot= -6.00316e+05 Fmax= 4.06910e+03, atom= 1328\n",
            "Step=  630, Dmax= 9.9e-03 nm, Epot= -6.00306e+05 Fmax= 1.10128e+04, atom= 1328\rStep=  631, Dmax= 5.0e-03 nm, Epot= -6.00344e+05 Fmax= 3.47507e+03, atom= 1328\n",
            "Step=  632, Dmax= 6.0e-03 nm, Epot= -6.00369e+05 Fmax= 5.73221e+03, atom= 1328\n",
            "Step=  633, Dmax= 7.2e-03 nm, Epot= -6.00399e+05 Fmax= 5.15533e+03, atom= 1328\n",
            "Step=  634, Dmax= 8.6e-03 nm, Epot= -6.00413e+05 Fmax= 8.06309e+03, atom= 1328\n",
            "Step=  635, Dmax= 1.0e-02 nm, Epot= -6.00444e+05 Fmax= 7.63382e+03, atom= 1328\n",
            "Step=  636, Dmax= 1.2e-02 nm, Epot= -6.00437e+05 Fmax= 1.13526e+04, atom= 1328\rStep=  637, Dmax= 6.2e-03 nm, Epot= -6.00494e+05 Fmax= 1.86477e+03, atom= 1328\n",
            "Step=  638, Dmax= 7.4e-03 nm, Epot= -6.00528e+05 Fmax= 9.27959e+03, atom= 1328\n",
            "Step=  639, Dmax= 8.9e-03 nm, Epot= -6.00588e+05 Fmax= 4.39273e+03, atom= 1328\n",
            "Step=  640, Dmax= 1.1e-02 nm, Epot= -6.00566e+05 Fmax= 1.18232e+04, atom= 1328\rStep=  641, Dmax= 5.3e-03 nm, Epot= -6.00616e+05 Fmax= 3.71848e+03, atom= 1328\n",
            "Step=  642, Dmax= 6.4e-03 nm, Epot= -6.00639e+05 Fmax= 6.17580e+03, atom= 1328\n",
            "Step=  643, Dmax= 7.7e-03 nm, Epot= -6.00670e+05 Fmax= 5.52908e+03, atom= 1328\n",
            "Step=  644, Dmax= 9.2e-03 nm, Epot= -6.00678e+05 Fmax= 8.67575e+03, atom= 1328\n",
            "Step=  645, Dmax= 1.1e-02 nm, Epot= -6.00710e+05 Fmax= 8.19774e+03, atom= 1328\n",
            "Step=  646, Dmax= 1.3e-02 nm, Epot= -6.00696e+05 Fmax= 1.22047e+04, atom= 1328\rStep=  647, Dmax= 6.6e-03 nm, Epot= -6.00767e+05 Fmax= 2.00958e+03, atom= 1328\n",
            "Step=  648, Dmax= 8.0e-03 nm, Epot= -6.00790e+05 Fmax= 9.97891e+03, atom= 1328\n",
            "Step=  649, Dmax= 9.6e-03 nm, Epot= -6.00857e+05 Fmax= 4.71489e+03, atom= 1328\n",
            "Step=  650, Dmax= 1.1e-02 nm, Epot= -6.00823e+05 Fmax= 1.27193e+04, atom= 1328\rStep=  651, Dmax= 5.7e-03 nm, Epot= -6.00885e+05 Fmax= 4.00578e+03, atom= 1328\n",
            "Step=  652, Dmax= 6.9e-03 nm, Epot= -6.00905e+05 Fmax= 6.62536e+03, atom= 1328\n",
            "Step=  653, Dmax= 8.3e-03 nm, Epot= -6.00936e+05 Fmax= 5.95796e+03, atom= 1328\n",
            "Step=  654, Dmax= 9.9e-03 nm, Epot= -6.00940e+05 Fmax= 9.30582e+03, atom= 1328\n",
            "Step=  655, Dmax= 1.2e-02 nm, Epot= -6.00970e+05 Fmax= 8.83216e+03, atom= 1328\n",
            "Step=  656, Dmax= 1.4e-02 nm, Epot= -6.00948e+05 Fmax= 1.30902e+04, atom= 1328\rStep=  657, Dmax= 7.1e-03 nm, Epot= -6.01033e+05 Fmax= 2.13606e+03, atom= 1328\n",
            "Step=  658, Dmax= 8.6e-03 nm, Epot= -6.01048e+05 Fmax= 1.07585e+04, atom= 1328\n",
            "Step=  659, Dmax= 1.0e-02 nm, Epot= -6.01122e+05 Fmax= 5.03255e+03, atom= 1328\n",
            "Step=  660, Dmax= 1.2e-02 nm, Epot= -6.01070e+05 Fmax= 1.37118e+04, atom= 1328\rStep=  661, Dmax= 6.2e-03 nm, Epot= -6.01150e+05 Fmax= 4.34323e+03, atom= 1328\n",
            "Step=  662, Dmax= 7.4e-03 nm, Epot= -6.01165e+05 Fmax= 7.07836e+03, atom= 1328\n",
            "Step=  663, Dmax= 8.9e-03 nm, Epot= -6.01196e+05 Fmax= 6.44944e+03, atom= 1328\n",
            "Step=  664, Dmax= 1.1e-02 nm, Epot= -6.01195e+05 Fmax= 9.95058e+03, atom= 1328\rStep=  665, Dmax= 5.3e-03 nm, Epot= -6.01238e+05 Fmax= 1.75514e+03, atom= 1328\n",
            "Step=  666, Dmax= 6.4e-03 nm, Epot= -6.01276e+05 Fmax= 7.83003e+03, atom= 1328\n",
            "Step=  667, Dmax= 7.7e-03 nm, Epot= -6.01324e+05 Fmax= 3.97522e+03, atom= 1328\n",
            "Step=  668, Dmax= 9.2e-03 nm, Epot= -6.01317e+05 Fmax= 9.99391e+03, atom= 1328\rStep=  669, Dmax= 4.6e-03 nm, Epot= -6.01350e+05 Fmax= 3.01194e+03, atom= 1328\n",
            "Step=  670, Dmax= 5.5e-03 nm, Epot= -6.01375e+05 Fmax= 5.54716e+03, atom= 1328\n",
            "Step=  671, Dmax= 6.6e-03 nm, Epot= -6.01406e+05 Fmax= 4.54009e+03, atom= 1328\n",
            "Step=  672, Dmax= 8.0e-03 nm, Epot= -6.01414e+05 Fmax= 7.73632e+03, atom= 1328\n",
            "Step=  673, Dmax= 9.6e-03 nm, Epot= -6.01448e+05 Fmax= 6.81110e+03, atom= 1328\n",
            "Step=  674, Dmax= 1.1e-02 nm, Epot= -6.01438e+05 Fmax= 1.08130e+04, atom= 1328\rStep=  675, Dmax= 5.7e-03 nm, Epot= -6.01492e+05 Fmax= 2.00518e+03, atom= 1328\n",
            "Step=  676, Dmax= 6.9e-03 nm, Epot= -6.01519e+05 Fmax= 8.32682e+03, atom= 1328\n",
            "Step=  677, Dmax= 8.3e-03 nm, Epot= -6.01572e+05 Fmax= 4.35874e+03, atom= 1328\n",
            "Step=  678, Dmax= 9.9e-03 nm, Epot= -6.01555e+05 Fmax= 1.06683e+04, atom= 1328\rStep=  679, Dmax= 5.0e-03 nm, Epot= -6.01600e+05 Fmax= 3.15761e+03, atom= 1328\n",
            "Step=  680, Dmax= 5.9e-03 nm, Epot= -6.01620e+05 Fmax= 6.03767e+03, atom= 1328\n",
            "Step=  681, Dmax= 7.1e-03 nm, Epot= -6.01651e+05 Fmax= 4.81077e+03, atom= 1328\n",
            "Step=  682, Dmax= 8.6e-03 nm, Epot= -6.01657e+05 Fmax= 8.37869e+03, atom= 1328\n",
            "Step=  683, Dmax= 1.0e-02 nm, Epot= -6.01693e+05 Fmax= 7.26335e+03, atom= 1328\n",
            "Step=  684, Dmax= 1.2e-02 nm, Epot= -6.01671e+05 Fmax= 1.16721e+04, atom= 1328\rStep=  685, Dmax= 6.2e-03 nm, Epot= -6.01740e+05 Fmax= 2.20893e+03, atom= 1328\n",
            "Step=  686, Dmax= 7.4e-03 nm, Epot= -6.01756e+05 Fmax= 8.91854e+03, atom= 1328\n",
            "Step=  687, Dmax= 8.9e-03 nm, Epot= -6.01814e+05 Fmax= 4.71244e+03, atom= 1328\n",
            "Step=  688, Dmax= 1.1e-02 nm, Epot= -6.01787e+05 Fmax= 1.14516e+04, atom= 1328\rStep=  689, Dmax= 5.3e-03 nm, Epot= -6.01844e+05 Fmax= 3.37206e+03, atom= 1328\n",
            "Step=  690, Dmax= 6.4e-03 nm, Epot= -6.01860e+05 Fmax= 6.50369e+03, atom= 1328\n",
            "Step=  691, Dmax= 7.7e-03 nm, Epot= -6.01894e+05 Fmax= 5.16300e+03, atom= 1328\n",
            "Step=  692, Dmax= 9.2e-03 nm, Epot= -6.01892e+05 Fmax= 9.00513e+03, atom= 1328\rStep=  693, Dmax= 4.6e-03 nm, Epot= -6.01928e+05 Fmax= 1.92391e+03, atom= 1328\n",
            "Step=  694, Dmax= 5.5e-03 nm, Epot= -6.01958e+05 Fmax= 6.36444e+03, atom= 1328\n",
            "Step=  695, Dmax= 6.6e-03 nm, Epot= -6.01995e+05 Fmax= 3.82799e+03, atom= 1328\n",
            "Step=  696, Dmax= 7.9e-03 nm, Epot= -6.02000e+05 Fmax= 8.22222e+03, atom= 1328\n",
            "Step=  697, Dmax= 9.5e-03 nm, Epot= -6.02040e+05 Fmax= 6.43077e+03, atom= 1328\n",
            "Step=  698, Dmax= 1.1e-02 nm, Epot= -6.02020e+05 Fmax= 1.09798e+04, atom= 1328\rStep=  699, Dmax= 5.7e-03 nm, Epot= -6.02081e+05 Fmax= 2.27906e+03, atom= 1328\n",
            "Step=  700, Dmax= 6.9e-03 nm, Epot= -6.02094e+05 Fmax= 8.38231e+03, atom= 1328\n",
            "Step=  701, Dmax= 8.2e-03 nm, Epot= -6.02150e+05 Fmax= 4.17763e+03, atom= 1328\n",
            "Step=  702, Dmax= 9.9e-03 nm, Epot= -6.02123e+05 Fmax= 1.10727e+04, atom= 1328\rStep=  703, Dmax= 4.9e-03 nm, Epot= -6.02176e+05 Fmax= 3.44905e+03, atom= 1328\n",
            "Step=  704, Dmax= 5.9e-03 nm, Epot= -6.02196e+05 Fmax= 5.54088e+03, atom= 1328\n",
            "Step=  705, Dmax= 7.1e-03 nm, Epot= -6.02221e+05 Fmax= 5.41971e+03, atom= 1328\n",
            "Step=  706, Dmax= 8.5e-03 nm, Epot= -6.02232e+05 Fmax= 7.57140e+03, atom= 1328\n",
            "Step=  707, Dmax= 1.0e-02 nm, Epot= -6.02251e+05 Fmax= 8.17967e+03, atom= 1328\n",
            "Step=  708, Dmax= 1.2e-02 nm, Epot= -6.02247e+05 Fmax= 1.05574e+04, atom= 1328\rStep=  709, Dmax= 6.2e-03 nm, Epot= -6.02313e+05 Fmax= 1.19712e+03, atom= 1328\n",
            "Step=  710, Dmax= 7.4e-03 nm, Epot= -6.02353e+05 Fmax= 1.03853e+04, atom= 1328\n",
            "Step=  711, Dmax= 8.9e-03 nm, Epot= -6.02439e+05 Fmax= 3.13758e+03, atom= 1328\n",
            "Step=  712, Dmax= 1.1e-02 nm, Epot= -6.02378e+05 Fmax= 1.32908e+04, atom= 1328\rStep=  713, Dmax= 5.3e-03 nm, Epot= -6.02460e+05 Fmax= 5.07928e+03, atom= 1328\n",
            "Step=  714, Dmax= 6.4e-03 nm, Epot= -6.02485e+05 Fmax= 4.62154e+03, atom= 1328\n",
            "Step=  715, Dmax= 7.7e-03 nm, Epot= -6.02495e+05 Fmax= 7.16957e+03, atom= 1328\n",
            "Step=  716, Dmax= 9.2e-03 nm, Epot= -6.02520e+05 Fmax= 6.82143e+03, atom= 1328\n",
            "Step=  717, Dmax= 1.1e-02 nm, Epot= -6.02508e+05 Fmax= 1.01115e+04, atom= 1328\rStep=  718, Dmax= 5.5e-03 nm, Epot= -6.02570e+05 Fmax= 1.64936e+03, atom= 1328\n",
            "Step=  719, Dmax= 6.6e-03 nm, Epot= -6.02594e+05 Fmax= 8.27607e+03, atom= 1328\n",
            "Step=  720, Dmax= 7.9e-03 nm, Epot= -6.02654e+05 Fmax= 3.91401e+03, atom= 1328\n",
            "Step=  721, Dmax= 9.5e-03 nm, Epot= -6.02620e+05 Fmax= 1.05429e+04, atom= 1328\rStep=  722, Dmax= 4.8e-03 nm, Epot= -6.02679e+05 Fmax= 3.31616e+03, atom= 1328\n",
            "Step=  723, Dmax= 5.7e-03 nm, Epot= -6.02694e+05 Fmax= 5.50575e+03, atom= 1328\n",
            "Step=  724, Dmax= 6.9e-03 nm, Epot= -6.02724e+05 Fmax= 4.92994e+03, atom= 1328\n",
            "Step=  725, Dmax= 8.2e-03 nm, Epot= -6.02726e+05 Fmax= 7.73332e+03, atom= 1328\n",
            "Step=  726, Dmax= 9.9e-03 nm, Epot= -6.02753e+05 Fmax= 7.31342e+03, atom= 1328\n",
            "Step=  727, Dmax= 1.2e-02 nm, Epot= -6.02729e+05 Fmax= 1.08753e+04, atom= 1328\rStep=  728, Dmax= 5.9e-03 nm, Epot= -6.02810e+05 Fmax= 1.78575e+03, atom= 1328\n",
            "Step=  729, Dmax= 7.1e-03 nm, Epot= -6.02817e+05 Fmax= 8.91383e+03, atom= 1328\n",
            "Step=  730, Dmax= 8.5e-03 nm, Epot= -6.02889e+05 Fmax= 4.18246e+03, atom= 1328\n",
            "Step=  731, Dmax= 1.0e-02 nm, Epot= -6.02834e+05 Fmax= 1.13738e+04, atom= 1328\rStep=  732, Dmax= 5.1e-03 nm, Epot= -6.02915e+05 Fmax= 3.59709e+03, atom= 1328\n",
            "Step=  733, Dmax= 6.1e-03 nm, Epot= -6.02927e+05 Fmax= 5.87315e+03, atom= 1328\n",
            "Step=  734, Dmax= 7.4e-03 nm, Epot= -6.02954e+05 Fmax= 5.35209e+03, atom= 1328\n",
            "Step=  735, Dmax= 8.8e-03 nm, Epot= -6.02949e+05 Fmax= 8.24730e+03, atom= 1328\rStep=  736, Dmax= 4.4e-03 nm, Epot= -6.02993e+05 Fmax= 1.45015e+03, atom= 1328\n",
            "Step=  737, Dmax= 5.3e-03 nm, Epot= -6.03021e+05 Fmax= 6.51581e+03, atom= 1328\n",
            "Step=  738, Dmax= 6.4e-03 nm, Epot= -6.03070e+05 Fmax= 3.27078e+03, atom= 1328\n",
            "Step=  739, Dmax= 7.6e-03 nm, Epot= -6.03055e+05 Fmax= 8.32879e+03, atom= 1328\rStep=  740, Dmax= 3.8e-03 nm, Epot= -6.03095e+05 Fmax= 2.53015e+03, atom= 1328\n",
            "Step=  741, Dmax= 4.6e-03 nm, Epot= -6.03113e+05 Fmax= 4.55881e+03, atom= 1328\n",
            "Step=  742, Dmax= 5.5e-03 nm, Epot= -6.03139e+05 Fmax= 3.81471e+03, atom= 1328\n",
            "Step=  743, Dmax= 6.6e-03 nm, Epot= -6.03147e+05 Fmax= 6.35645e+03, atom= 1328\n",
            "Step=  744, Dmax= 7.9e-03 nm, Epot= -6.03176e+05 Fmax= 5.71919e+03, atom= 1328\n",
            "Step=  745, Dmax= 9.5e-03 nm, Epot= -6.03159e+05 Fmax= 8.88868e+03, atom= 1328\rStep=  746, Dmax= 4.8e-03 nm, Epot= -6.03222e+05 Fmax= 1.58744e+03, atom= 1328\n",
            "Step=  747, Dmax= 5.7e-03 nm, Epot= -6.03238e+05 Fmax= 7.00457e+03, atom= 1328\n",
            "Step=  748, Dmax= 6.8e-03 nm, Epot= -6.03292e+05 Fmax= 3.51033e+03, atom= 718\n",
            "Step=  749, Dmax= 8.2e-03 nm, Epot= -6.03261e+05 Fmax= 9.17346e+03, atom= 718\rStep=  750, Dmax= 4.1e-03 nm, Epot= -6.03318e+05 Fmax= 2.83259e+03, atom= 718\n",
            "Step=  751, Dmax= 4.9e-03 nm, Epot= -6.03335e+05 Fmax= 4.74257e+03, atom= 718\n",
            "Step=  752, Dmax= 5.9e-03 nm, Epot= -6.03360e+05 Fmax= 4.38556e+03, atom= 718\n",
            "Step=  753, Dmax= 7.1e-03 nm, Epot= -6.03367e+05 Fmax= 6.53199e+03, atom= 718\n",
            "Step=  754, Dmax= 8.5e-03 nm, Epot= -6.03390e+05 Fmax= 6.60302e+03, atom= 718\n",
            "Step=  755, Dmax= 1.0e-02 nm, Epot= -6.03380e+05 Fmax= 9.12132e+03, atom= 718\rStep=  756, Dmax= 5.1e-03 nm, Epot= -6.03445e+05 Fmax= 1.26029e+03, atom= 718\n",
            "Step=  757, Dmax= 6.1e-03 nm, Epot= -6.03469e+05 Fmax= 8.24428e+03, atom= 718\n",
            "Step=  758, Dmax= 7.4e-03 nm, Epot= -6.03539e+05 Fmax= 3.08644e+03, atom= 718\n",
            "Step=  759, Dmax= 8.8e-03 nm, Epot= -6.03499e+05 Fmax= 1.05487e+04, atom= 718\rStep=  760, Dmax= 4.4e-03 nm, Epot= -6.03560e+05 Fmax= 3.73273e+03, atom= 718\n",
            "Step=  761, Dmax= 5.3e-03 nm, Epot= -6.03581e+05 Fmax= 4.41674e+03, atom= 718\n",
            "Step=  762, Dmax= 6.4e-03 nm, Epot= -6.03598e+05 Fmax= 5.39475e+03, atom= 718\n",
            "Step=  763, Dmax= 7.6e-03 nm, Epot= -6.03612e+05 Fmax= 6.34552e+03, atom= 718\n",
            "Step=  764, Dmax= 9.2e-03 nm, Epot= -6.03621e+05 Fmax= 7.77130e+03, atom= 718\n",
            "Step=  765, Dmax= 1.1e-02 nm, Epot= -6.03627e+05 Fmax= 9.13368e+03, atom= 718\n",
            "Step=  766, Dmax= 1.3e-02 nm, Epot= -6.03618e+05 Fmax= 1.11739e+04, atom= 718\rStep=  767, Dmax= 6.6e-03 nm, Epot= -6.03710e+05 Fmax= 1.02746e+03, atom= 718\n",
            "Step=  768, Dmax= 7.9e-03 nm, Epot= -6.03747e+05 Fmax= 1.10984e+04, atom= 718\n",
            "Step=  769, Dmax= 9.5e-03 nm, Epot= -6.03851e+05 Fmax= 3.54990e+03, atom= 718\n",
            "Step=  770, Dmax= 1.1e-02 nm, Epot= -6.03762e+05 Fmax= 1.39686e+04, atom= 718\rStep=  771, Dmax= 5.7e-03 nm, Epot= -6.03866e+05 Fmax= 5.21224e+03, atom= 718\n",
            "Step=  772, Dmax= 6.8e-03 nm, Epot= -6.03886e+05 Fmax= 5.33202e+03, atom= 718\n",
            "Step=  773, Dmax= 8.2e-03 nm, Epot= -6.03894e+05 Fmax= 7.28967e+03, atom= 718\n",
            "Step=  774, Dmax= 9.8e-03 nm, Epot= -6.03913e+05 Fmax= 7.88158e+03, atom= 718\n",
            "Step=  775, Dmax= 1.2e-02 nm, Epot= -6.03904e+05 Fmax= 1.02906e+04, atom= 718\rStep=  776, Dmax= 5.9e-03 nm, Epot= -6.03970e+05 Fmax= 1.20698e+03, atom= 718\n",
            "Step=  777, Dmax= 7.1e-03 nm, Epot= -6.04002e+05 Fmax= 9.76651e+03, atom= 718\n",
            "Step=  778, Dmax= 8.5e-03 nm, Epot= -6.04079e+05 Fmax= 3.33187e+03, atom= 718\n",
            "Step=  779, Dmax= 1.0e-02 nm, Epot= -6.04029e+05 Fmax= 1.24121e+04, atom= 718\rStep=  780, Dmax= 5.1e-03 nm, Epot= -6.04098e+05 Fmax= 4.54294e+03, atom= 718\n",
            "Step=  781, Dmax= 6.1e-03 nm, Epot= -6.04118e+05 Fmax= 4.88011e+03, atom= 718\n",
            "Step=  782, Dmax= 7.3e-03 nm, Epot= -6.04132e+05 Fmax= 6.45080e+03, atom= 718\n",
            "Step=  783, Dmax= 8.8e-03 nm, Epot= -6.04147e+05 Fmax= 7.11956e+03, atom= 718\n",
            "Step=  784, Dmax= 1.1e-02 nm, Epot= -6.04149e+05 Fmax= 9.18414e+03, atom= 718\n",
            "Step=  785, Dmax= 1.3e-02 nm, Epot= -6.04158e+05 Fmax= 1.03505e+04, atom= 718\n",
            "Step=  786, Dmax= 1.5e-02 nm, Epot= -6.04140e+05 Fmax= 1.30991e+04, atom= 718\rStep=  787, Dmax= 7.6e-03 nm, Epot= -6.04242e+05 Fmax= 1.38510e+03, atom= 718\n",
            "Step=  788, Dmax= 9.1e-03 nm, Epot= -6.04249e+05 Fmax= 1.26652e+04, atom= 718\n",
            "Step=  789, Dmax= 1.1e-02 nm, Epot= -6.04356e+05 Fmax= 4.25538e+03, atom= 718\n",
            "Step=  790, Dmax= 1.3e-02 nm, Epot= -6.04255e+05 Fmax= 1.59985e+04, atom= 718\rStep=  791, Dmax= 6.6e-03 nm, Epot= -6.04372e+05 Fmax= 5.87439e+03, atom= 718\n",
            "Step=  792, Dmax= 7.9e-03 nm, Epot= -6.04392e+05 Fmax= 6.30219e+03, atom= 718\n",
            "Step=  793, Dmax= 9.5e-03 nm, Epot= -6.04397e+05 Fmax= 8.28544e+03, atom= 718\n",
            "Step=  794, Dmax= 1.1e-02 nm, Epot= -6.04409e+05 Fmax= 9.23528e+03, atom= 718\n",
            "Step=  795, Dmax= 1.4e-02 nm, Epot= -6.04400e+05 Fmax= 1.17610e+04, atom= 718\rStep=  796, Dmax= 6.8e-03 nm, Epot= -6.04474e+05 Fmax= 1.26724e+03, atom= 718\n",
            "Step=  797, Dmax= 8.2e-03 nm, Epot= -6.04503e+05 Fmax= 1.13946e+04, atom= 718\n",
            "Step=  798, Dmax= 9.8e-03 nm, Epot= -6.04590e+05 Fmax= 3.74634e+03, atom= 718\n",
            "Step=  799, Dmax= 1.2e-02 nm, Epot= -6.04521e+05 Fmax= 1.44324e+04, atom= 718\rStep=  800, Dmax= 5.9e-03 nm, Epot= -6.04607e+05 Fmax= 5.34720e+03, atom= 718\n",
            "Step=  801, Dmax= 7.1e-03 nm, Epot= -6.04626e+05 Fmax= 5.54604e+03, atom= 718\n",
            "Step=  802, Dmax= 8.5e-03 nm, Epot= -6.04634e+05 Fmax= 7.53979e+03, atom= 718\n",
            "Step=  803, Dmax= 1.0e-02 nm, Epot= -6.04652e+05 Fmax= 8.14341e+03, atom= 718\n",
            "Step=  804, Dmax= 1.2e-02 nm, Epot= -6.04649e+05 Fmax= 1.06851e+04, atom= 718\rStep=  805, Dmax= 6.1e-03 nm, Epot= -6.04704e+05 Fmax= 1.27581e+03, atom= 718\n",
            "Step=  806, Dmax= 7.3e-03 nm, Epot= -6.04739e+05 Fmax= 1.00059e+04, atom= 718\n",
            "Step=  807, Dmax= 8.8e-03 nm, Epot= -6.04805e+05 Fmax= 3.56737e+03, atom= 718\n",
            "Step=  808, Dmax= 1.1e-02 nm, Epot= -6.04765e+05 Fmax= 1.26920e+04, atom= 718\rStep=  809, Dmax= 5.3e-03 nm, Epot= -6.04824e+05 Fmax= 4.56297e+03, atom= 718\n",
            "Step=  810, Dmax= 6.3e-03 nm, Epot= -6.04844e+05 Fmax= 5.20867e+03, atom= 718\n",
            "Step=  811, Dmax= 7.6e-03 nm, Epot= -6.04858e+05 Fmax= 6.50079e+03, atom= 718\n",
            "Step=  812, Dmax= 9.1e-03 nm, Epot= -6.04873e+05 Fmax= 7.56260e+03, atom= 718\n",
            "Step=  813, Dmax= 1.1e-02 nm, Epot= -6.04879e+05 Fmax= 9.29539e+03, atom= 718\n",
            "Step=  814, Dmax= 1.3e-02 nm, Epot= -6.04881e+05 Fmax= 1.09386e+04, atom= 718\n",
            "Step=  815, Dmax= 1.6e-02 nm, Epot= -6.04871e+05 Fmax= 1.33171e+04, atom= 718\rStep=  816, Dmax= 7.9e-03 nm, Epot= -6.04962e+05 Fmax= 1.19794e+03, atom= 718\n",
            "Step=  817, Dmax= 9.5e-03 nm, Epot= -6.04988e+05 Fmax= 1.34129e+04, atom= 718\n",
            "Step=  818, Dmax= 1.1e-02 nm, Epot= -6.05093e+05 Fmax= 4.09506e+03, atom= 718\n",
            "Step=  819, Dmax= 1.4e-02 nm, Epot= -6.04995e+05 Fmax= 1.68943e+04, atom= 718\rStep=  820, Dmax= 6.8e-03 nm, Epot= -6.05107e+05 Fmax= 6.40865e+03, atom= 718\n",
            "Step=  821, Dmax= 8.2e-03 nm, Epot= -6.05128e+05 Fmax= 6.18312e+03, atom= 718\n",
            "Step=  822, Dmax= 9.8e-03 nm, Epot= -6.05131e+05 Fmax= 8.93140e+03, atom= 718\n",
            "Step=  823, Dmax= 1.2e-02 nm, Epot= -6.05148e+05 Fmax= 9.19179e+03, atom= 718\n",
            "Step=  824, Dmax= 1.4e-02 nm, Epot= -6.05132e+05 Fmax= 1.25518e+04, atom= 718\rStep=  825, Dmax= 7.1e-03 nm, Epot= -6.05206e+05 Fmax= 1.68763e+03, atom= 718\n",
            "Step=  826, Dmax= 8.5e-03 nm, Epot= -6.05216e+05 Fmax= 1.13678e+04, atom= 718\n",
            "Step=  827, Dmax= 1.0e-02 nm, Epot= -6.05291e+05 Fmax= 4.31089e+03, atom= 718\n",
            "Step=  828, Dmax= 1.2e-02 nm, Epot= -6.05231e+05 Fmax= 1.44833e+04, atom= 718\rStep=  829, Dmax= 6.1e-03 nm, Epot= -6.05308e+05 Fmax= 5.08688e+03, atom= 718\n",
            "Step=  830, Dmax= 7.3e-03 nm, Epot= -6.05325e+05 Fmax= 6.19834e+03, atom= 718\n",
            "Step=  831, Dmax= 8.8e-03 nm, Epot= -6.05337e+05 Fmax= 7.33380e+03, atom= 718\n",
            "Step=  832, Dmax= 1.1e-02 nm, Epot= -6.05347e+05 Fmax= 8.90874e+03, atom= 718\n",
            "Step=  833, Dmax= 1.3e-02 nm, Epot= -6.05353e+05 Fmax= 1.05684e+04, atom= 718\n",
            "Step=  834, Dmax= 1.5e-02 nm, Epot= -6.05346e+05 Fmax= 1.27972e+04, atom= 718\rStep=  835, Dmax= 7.6e-03 nm, Epot= -6.05424e+05 Fmax= 1.12626e+03, atom= 718\n",
            "Step=  836, Dmax= 9.1e-03 nm, Epot= -6.05461e+05 Fmax= 1.29060e+04, atom= 718\n",
            "Step=  837, Dmax= 1.1e-02 nm, Epot= -6.05553e+05 Fmax= 3.96309e+03, atom= 718\n",
            "Step=  838, Dmax= 1.3e-02 nm, Epot= -6.05473e+05 Fmax= 1.62367e+04, atom= 718\rStep=  839, Dmax= 6.6e-03 nm, Epot= -6.05567e+05 Fmax= 6.14221e+03, atom= 718\n",
            "Step=  840, Dmax= 7.9e-03 nm, Epot= -6.05588e+05 Fmax= 5.98992e+03, atom= 718\n",
            "Step=  841, Dmax= 9.4e-03 nm, Epot= -6.05591e+05 Fmax= 8.55818e+03, atom= 718\n",
            "Step=  842, Dmax= 1.1e-02 nm, Epot= -6.05610e+05 Fmax= 8.90022e+03, atom= 718\n",
            "Step=  843, Dmax= 1.4e-02 nm, Epot= -6.05600e+05 Fmax= 1.20359e+04, atom= 718\rStep=  844, Dmax= 6.8e-03 nm, Epot= -6.05663e+05 Fmax= 1.57132e+03, atom= 718\n",
            "Step=  845, Dmax= 8.2e-03 nm, Epot= -6.05679e+05 Fmax= 1.10161e+04, atom= 718\n",
            "Step=  846, Dmax= 9.8e-03 nm, Epot= -6.05748e+05 Fmax= 4.07494e+03, atom= 718\n",
            "Step=  847, Dmax= 1.2e-02 nm, Epot= -6.05696e+05 Fmax= 1.40291e+04, atom= 718\rStep=  848, Dmax= 5.9e-03 nm, Epot= -6.05765e+05 Fmax= 4.98003e+03, atom= 718\n",
            "Step=  849, Dmax= 7.1e-03 nm, Epot= -6.05781e+05 Fmax= 5.88244e+03, atom= 718\n",
            "Step=  850, Dmax= 8.5e-03 nm, Epot= -6.05795e+05 Fmax= 7.15292e+03, atom= 718\n",
            "Step=  851, Dmax= 1.0e-02 nm, Epot= -6.05805e+05 Fmax= 8.48506e+03, atom= 718\n",
            "Step=  852, Dmax= 1.2e-02 nm, Epot= -6.05809e+05 Fmax= 1.02747e+04, atom= 718\n",
            "Step=  853, Dmax= 1.5e-02 nm, Epot= -6.05808e+05 Fmax= 1.22269e+04, atom= 718\rStep=  854, Dmax= 7.3e-03 nm, Epot= -6.05875e+05 Fmax= 9.83031e+02, atom= 718\n",
            "\n",
            "writing lowest energy coordinates.\n",
            "\n",
            "Steepest Descents converged to Fmax < 1000 in 855 steps\n",
            "Potential Energy  = -6.0587500e+05\n",
            "Maximum force     =  9.8303131e+02 on atom 718\n",
            "Norm of force     =  2.1772869e+01\n",
            "\n",
            "GROMACS reminds you: \"When using an abacus, a human can achieve about 0.1 flops/watt. Super-computers achieve about 2 gigaflops/watt.\" (John Linford)\n",
            "\n"
          ]
        }
      ]
    },
    {
      "cell_type": "code",
      "source": [
        "%%bash\n",
        "source /content/drive/MyDrive/IBM3202/gromacs-2021/bin/GMXRC\n",
        "gmx energy -f em.edr -o potential.xvg <<EOF\n",
        "10 0\n",
        "EOF"
      ],
      "metadata": {
        "colab": {
          "base_uri": "https://localhost:8080/"
        },
        "id": "eKDeHQ_rpOPM",
        "outputId": "2aa05d62-1e75-499b-d690-cc583a48dec2"
      },
      "execution_count": null,
      "outputs": [
        {
          "output_type": "stream",
          "name": "stdout",
          "text": [
            "\n",
            "Statistics over 855 steps [ 0.0000 through 854.0000 ps ], 1 data sets\n",
            "All statistics are over 677 points (frames)\n",
            "\n",
            "Energy                      Average   Err.Est.       RMSD  Tot-Drift\n",
            "-------------------------------------------------------------------------------\n",
            "Potential                   -583233      11000    28087.3     -74421  (kJ/mol)\n"
          ]
        },
        {
          "output_type": "stream",
          "name": "stderr",
          "text": [
            "                      :-) GROMACS - gmx energy, 2021.5 (-:\n",
            "\n",
            "                            GROMACS is written by:\n",
            "     Andrey Alekseenko              Emile Apol              Rossen Apostolov     \n",
            "         Paul Bauer           Herman J.C. Berendsen           Par Bjelkmar       \n",
            "       Christian Blau           Viacheslav Bolnykh             Kevin Boyd        \n",
            "     Aldert van Buuren           Rudi van Drunen             Anton Feenstra      \n",
            "    Gilles Gouaillardet             Alan Gray               Gerrit Groenhof      \n",
            "       Anca Hamuraru            Vincent Hindriksen          M. Eric Irrgang      \n",
            "      Aleksei Iupinov           Christoph Junghans             Joe Jordan        \n",
            "    Dimitrios Karkoulis            Peter Kasson                Jiri Kraus        \n",
            "      Carsten Kutzner              Per Larsson              Justin A. Lemkul     \n",
            "       Viveca Lindahl            Magnus Lundborg             Erik Marklund       \n",
            "        Pascal Merz             Pieter Meulenhoff            Teemu Murtola       \n",
            "        Szilard Pall               Sander Pronk              Roland Schulz       \n",
            "       Michael Shirts            Alexey Shvetsov             Alfons Sijbers      \n",
            "       Peter Tieleman              Jon Vincent              Teemu Virolainen     \n",
            "     Christian Wennberg            Maarten Wolf              Artem Zhmurov       \n",
            "                           and the project leaders:\n",
            "        Mark Abraham, Berk Hess, Erik Lindahl, and David van der Spoel\n",
            "\n",
            "Copyright (c) 1991-2000, University of Groningen, The Netherlands.\n",
            "Copyright (c) 2001-2019, The GROMACS development team at\n",
            "Uppsala University, Stockholm University and\n",
            "the Royal Institute of Technology, Sweden.\n",
            "check out http://www.gromacs.org for more information.\n",
            "\n",
            "GROMACS is free software; you can redistribute it and/or modify it\n",
            "under the terms of the GNU Lesser General Public License\n",
            "as published by the Free Software Foundation; either version 2.1\n",
            "of the License, or (at your option) any later version.\n",
            "\n",
            "GROMACS:      gmx energy, version 2021.5\n",
            "Executable:   /content/drive/MyDrive/IBM3202/gromacs-2021/bin/gmx\n",
            "Data prefix:  /content/drive/MyDrive/IBM3202/gromacs-2021\n",
            "Working dir:  /content/drive/MyDrive\n",
            "Command line:\n",
            "  gmx energy -f em.edr -o potential.xvg\n",
            "\n",
            "Opened em.edr as single precision energy file\n",
            "\n",
            "Select the terms you want from the following list by\n",
            "selecting either (part of) the name or the number or a combination.\n",
            "End your selection with an empty line or a zero.\n",
            "-------------------------------------------------------------------\n",
            "  1  Bond             2  Angle            3  Proper-Dih.      4  Ryckaert-Bell.\n",
            "  5  LJ-14            6  Coulomb-14       7  LJ-(SR)          8  Coulomb-(SR)  \n",
            "  9  Coul.-recip.    10  Potential       11  Pressure        12  Vir-XX        \n",
            " 13  Vir-XY          14  Vir-XZ          15  Vir-YX          16  Vir-YY        \n",
            " 17  Vir-YZ          18  Vir-ZX          19  Vir-ZY          20  Vir-ZZ        \n",
            " 21  Pres-XX         22  Pres-XY         23  Pres-XZ         24  Pres-YX       \n",
            " 25  Pres-YY         26  Pres-YZ         27  Pres-ZX         28  Pres-ZY       \n",
            " 29  Pres-ZZ         30  #Surf*SurfTen   31  T-rest        \n",
            "\n",
            "\rReading energy frame      0 time    0.000         \rReading energy frame      1 time    1.000         \rReading energy frame      2 time    2.000         \rReading energy frame      3 time    3.000         \rReading energy frame      4 time    4.000         \rReading energy frame      5 time    5.000         \rReading energy frame      6 time    6.000         \rReading energy frame      7 time    7.000         \rReading energy frame      8 time    8.000         \rReading energy frame      9 time    9.000         \rReading energy frame     10 time   10.000         \rReading energy frame     11 time   11.000         \rReading energy frame     12 time   13.000         \rReading energy frame     13 time   14.000         \rReading energy frame     14 time   15.000         \rReading energy frame     15 time   17.000         \rReading energy frame     16 time   18.000         \rReading energy frame     17 time   19.000         \rReading energy frame     18 time   21.000         \rReading energy frame     19 time   22.000         \rReading energy frame     20 time   23.000         \rReading energy frame     30 time   37.000         \rReading energy frame     40 time   49.000         \rReading energy frame     50 time   62.000         \rReading energy frame     60 time   74.000         \rReading energy frame     70 time   88.000         \rReading energy frame     80 time  100.000         \rReading energy frame     90 time  113.000         \rReading energy frame    100 time  126.000         \rReading energy frame    110 time  138.000         \rReading energy frame    120 time  151.000         \rReading energy frame    130 time  163.000         \rReading energy frame    140 time  176.000         \rReading energy frame    150 time  188.000         \rReading energy frame    160 time  202.000         \rReading energy frame    170 time  214.000         \rReading energy frame    180 time  227.000         \rReading energy frame    190 time  239.000         \rReading energy frame    200 time  252.000         \rReading energy frame    300 time  378.000         \rReading energy frame    400 time  505.000         \rReading energy frame    500 time  632.000         \rReading energy frame    600 time  758.000         \rLast energy frame read 676 time  854.000         \n",
            "\n",
            "GROMACS reminds you: \"Don't Push Me, Cause I'm Close to the Edge\" (Grandmaster Flash)\n",
            "\n"
          ]
        }
      ]
    },
    {
      "cell_type": "markdown",
      "source": [
        "```py\n",
        "import numpy as np\n",
        "import matplotlib.pyplot as plt\n",
        "\n",
        "x, y = [], []\n",
        "\n",
        "with open(\"data.xvg\") as f:\n",
        "    for line in f:\n",
        "        cols = line.split()\n",
        "\n",
        "        if len(cols) == 2:\n",
        "            x.append(float(cols[0]))\n",
        "            y.append(float(cols[1]))\n",
        "\n",
        "\n",
        "fig = plt.figure()\n",
        "ax1 = fig.add_subplot(111)\n",
        "ax1.set_title(\"Plot title...\")    \n",
        "ax1.set_xlabel('your x label..')\n",
        "ax1.set_ylabel('your y label...')\n",
        "ax1.plot(x,y, c='r', label='the data')\n",
        "leg = ax1.legend()\n",
        "plt.show() \n",
        "```\n",
        "\n",
        "also\n",
        "\n",
        "```py\n",
        "x,y = np.loadtxt(\"file.xvg\",comments=\"@\",unpack=True)\n",
        "plt.plot(x,y)\n",
        "```"
      ],
      "metadata": {
        "id": "3YHsCUSgriFV"
      }
    },
    {
      "cell_type": "code",
      "source": [
        "%cd /content/drive/MyDrive/"
      ],
      "metadata": {
        "colab": {
          "base_uri": "https://localhost:8080/"
        },
        "id": "VC7AGWf7dOwI",
        "outputId": "17ea4e41-e943-4476-972e-8d8d3920cdb5"
      },
      "execution_count": null,
      "outputs": [
        {
          "output_type": "stream",
          "name": "stdout",
          "text": [
            "/content/drive/MyDrive\n"
          ]
        }
      ]
    },
    {
      "cell_type": "code",
      "source": [
        "# import stuff\n",
        "import plotly.graph_objects as go\n",
        "import pandas as pd\n",
        "import numpy as np\n",
        "import plotly.express as px\n",
        "from pathlib import Path"
      ],
      "metadata": {
        "id": "5pImz7SZc8PA"
      },
      "execution_count": null,
      "outputs": []
    },
    {
      "cell_type": "code",
      "source": [
        "# Remove the comments from the xvg file and write a new file\n",
        "!grep -v -e '\\#' -e '\\@' potential.xvg > potential.csv"
      ],
      "metadata": {
        "id": "f-noDWCafB-1"
      },
      "execution_count": null,
      "outputs": []
    },
    {
      "cell_type": "code",
      "source": [
        "# create the graph\n",
        "df = pd.read_csv('potential.csv',\n",
        "        sep='\\s\\s+', engine='python')\n",
        "df.columns = [\"Time (ps)\", \"kJ/mol\"] # add headers to columns\n",
        "fig = px.line(df, x=\"Time (ps)\", y=\"(kJ/mol)\")\n",
        "fig.update_layout(width=700, title_text=\"GROMACS Energies\")\n",
        "fig.show()"
      ],
      "metadata": {
        "colab": {
          "base_uri": "https://localhost:8080/",
          "height": 542
        },
        "id": "YoOXZN1PdV_N",
        "outputId": "70f86c5a-d5b4-4417-9c02-dc83858d7f1c"
      },
      "execution_count": null,
      "outputs": [
        {
          "output_type": "display_data",
          "data": {
            "text/html": [
              "<html>\n",
              "<head><meta charset=\"utf-8\" /></head>\n",
              "<body>\n",
              "    <div>            <script src=\"https://cdnjs.cloudflare.com/ajax/libs/mathjax/2.7.5/MathJax.js?config=TeX-AMS-MML_SVG\"></script><script type=\"text/javascript\">if (window.MathJax) {MathJax.Hub.Config({SVG: {font: \"STIX-Web\"}});}</script>                <script type=\"text/javascript\">window.PlotlyConfig = {MathJaxConfig: 'local'};</script>\n",
              "        <script src=\"https://cdn.plot.ly/plotly-2.8.3.min.js\"></script>                <div id=\"0bded069-625e-4468-9eb3-7d9f3fc4d339\" class=\"plotly-graph-div\" style=\"height:525px; width:700px;\"></div>            <script type=\"text/javascript\">                                    window.PLOTLYENV=window.PLOTLYENV || {};                                    if (document.getElementById(\"0bded069-625e-4468-9eb3-7d9f3fc4d339\")) {                    Plotly.newPlot(                        \"0bded069-625e-4468-9eb3-7d9f3fc4d339\",                        [{\"hovertemplate\":\"Time (ps)=%{x}<br>(kJ/mol)=%{y}<extra></extra>\",\"legendgroup\":\"\",\"line\":{\"color\":\"#636efa\",\"dash\":\"solid\"},\"marker\":{\"symbol\":\"circle\"},\"mode\":\"lines\",\"name\":\"\",\"orientation\":\"v\",\"showlegend\":false,\"x\":[1.0,2.0,3.0,4.0,5.0,6.0,7.0,8.0,9.0,10.0,11.0,13.0,14.0,15.0,17.0,18.0,19.0,21.0,22.0,23.0,25.0,26.0,27.0,29.0,30.0,31.0,33.0,34.0,35.0,37.0,38.0,39.0,40.0,41.0,42.0,44.0,45.0,46.0,48.0,49.0,50.0,52.0,53.0,54.0,56.0,57.0,58.0,60.0,61.0,62.0,63.0,64.0,66.0,67.0,68.0,70.0,71.0,72.0,73.0,74.0,75.0,77.0,79.0,80.0,81.0,82.0,84.0,85.0,86.0,88.0,89.0,90.0,91.0,92.0,93.0,95.0,97.0,98.0,99.0,100.0,101.0,102.0,104.0,105.0,106.0,108.0,109.0,110.0,112.0,113.0,114.0,116.0,117.0,118.0,119.0,120.0,122.0,123.0,124.0,126.0,127.0,128.0,130.0,131.0,132.0,133.0,134.0,136.0,137.0,138.0,140.0,141.0,142.0,143.0,144.0,145.0,147.0,148.0,149.0,151.0,152.0,153.0,155.0,156.0,157.0,159.0,160.0,161.0,162.0,163.0,165.0,166.0,167.0,169.0,170.0,171.0,173.0,174.0,175.0,176.0,177.0,179.0,180.0,181.0,183.0,184.0,185.0,186.0,187.0,188.0,190.0,191.0,192.0,194.0,195.0,196.0,198.0,199.0,200.0,202.0,203.0,204.0,205.0,206.0,208.0,209.0,210.0,212.0,213.0,214.0,216.0,217.0,218.0,219.0,220.0,222.0,223.0,224.0,226.0,227.0,228.0,229.0,231.0,232.0,233.0,235.0,236.0,237.0,238.0,239.0,241.0,242.0,243.0,245.0,246.0,247.0,249.0,250.0,251.0,252.0,253.0,254.0,255.0,257.0,258.0,259.0,261.0,262.0,264.0,265.0,266.0,268.0,269.0,270.0,271.0,272.0,274.0,275.0,276.0,278.0,279.0,280.0,282.0,283.0,284.0,285.0,286.0,287.0,288.0,290.0,291.0,292.0,294.0,295.0,296.0,297.0,299.0,300.0,301.0,303.0,304.0,305.0,307.0,308.0,309.0,311.0,312.0,313.0,314.0,315.0,317.0,318.0,319.0,321.0,322.0,323.0,324.0,325.0,327.0,328.0,329.0,331.0,332.0,333.0,335.0,336.0,337.0,338.0,339.0,341.0,342.0,343.0,345.0,346.0,347.0,348.0,349.0,351.0,352.0,353.0,355.0,356.0,357.0,358.0,359.0,360.0,362.0,363.0,364.0,366.0,367.0,368.0,369.0,371.0,372.0,373.0,375.0,376.0,377.0,378.0,380.0,381.0,382.0,384.0,385.0,386.0,387.0,388.0,390.0,391.0,392.0,394.0,395.0,396.0,397.0,398.0,400.0,401.0,402.0,404.0,405.0,406.0,407.0,409.0,410.0,411.0,413.0,414.0,415.0,416.0,418.0,419.0,420.0,422.0,423.0,424.0,425.0,426.0,427.0,429.0,430.0,431.0,433.0,434.0,435.0,436.0,438.0,439.0,440.0,442.0,443.0,444.0,445.0,447.0,448.0,449.0,451.0,452.0,453.0,454.0,456.0,457.0,458.0,460.0,461.0,462.0,463.0,464.0,465.0,467.0,468.0,469.0,471.0,472.0,473.0,474.0,476.0,477.0,478.0,480.0,481.0,482.0,483.0,485.0,486.0,487.0,489.0,490.0,491.0,492.0,493.0,494.0,496.0,497.0,498.0,500.0,501.0,503.0,504.0,505.0,507.0,508.0,509.0,510.0,511.0,512.0,513.0,515.0,517.0,518.0,519.0,520.0,522.0,523.0,524.0,526.0,527.0,528.0,529.0,530.0,532.0,533.0,534.0,536.0,537.0,538.0,539.0,540.0,541.0,542.0,544.0,545.0,546.0,548.0,549.0,551.0,552.0,553.0,555.0,556.0,557.0,558.0,559.0,561.0,562.0,563.0,565.0,566.0,567.0,568.0,569.0,571.0,572.0,573.0,575.0,576.0,577.0,578.0,579.0,581.0,582.0,583.0,585.0,586.0,587.0,588.0,589.0,591.0,592.0,593.0,595.0,596.0,597.0,598.0,600.0,601.0,602.0,604.0,605.0,606.0,607.0,609.0,610.0,611.0,613.0,614.0,615.0,616.0,617.0,619.0,620.0,621.0,623.0,624.0,625.0,627.0,628.0,629.0,631.0,632.0,633.0,634.0,635.0,637.0,638.0,639.0,641.0,642.0,643.0,644.0,645.0,647.0,648.0,649.0,651.0,652.0,653.0,654.0,655.0,657.0,658.0,659.0,661.0,662.0,663.0,665.0,666.0,667.0,669.0,670.0,671.0,672.0,673.0,675.0,676.0,677.0,679.0,680.0,681.0,682.0,683.0,685.0,686.0,687.0,689.0,690.0,691.0,693.0,694.0,695.0,696.0,697.0,699.0,700.0,701.0,703.0,704.0,705.0,706.0,707.0,709.0,710.0,711.0,713.0,714.0,715.0,716.0,718.0,719.0,720.0,722.0,723.0,724.0,725.0,726.0,728.0,729.0,730.0,732.0,733.0,734.0,736.0,737.0,738.0,740.0,741.0,742.0,743.0,744.0,746.0,747.0,748.0,750.0,751.0,752.0,753.0,754.0,756.0,757.0,758.0,760.0,761.0,762.0,763.0,764.0,765.0,767.0,768.0,769.0,771.0,772.0,773.0,774.0,776.0,777.0,778.0,780.0,781.0,782.0,783.0,784.0,785.0,787.0,788.0,789.0,791.0,792.0,793.0,794.0,796.0,797.0,798.0,800.0,801.0,802.0,803.0,805.0,806.0,807.0,809.0,810.0,811.0,812.0,813.0,814.0,816.0,817.0,818.0,820.0,821.0,822.0,823.0,825.0,826.0,827.0,829.0,830.0,831.0,832.0,833.0,835.0,836.0,837.0,839.0,840.0,841.0,842.0,844.0,845.0,846.0,848.0,849.0,850.0,851.0,852.0,854.0],\"xaxis\":\"x\",\"y\":[-358275.59375,-389943.625,-423500.6875,-454632.8125,-471418.65625,-483756.9375,-489573.625,-491625.25,-495685.21875,-495764.1875,-499720.59375,-503125.25,-503507.25,-507055.65625,-509393.90625,-509619.84375,-512495.96875,-514406.9375,-514807.25,-516772.75,-518690.125,-519156.5,-521540.5,-522776.71875,-523309.90625,-524531.5625,-525993.625,-526890.75,-528772.5,-529590.375,-530323.125,-530962.375,-531586.125,-531843.0625,-532339.9375,-534385.0,-534781.5,-537122.1875,-537750.8125,-538022.375,-538660.6875,-539760.625,-540327.0625,-541556.5,-542133.375,-542468.625,-543124.4375,-543757.5625,-544294.9375,-544972.125,-545041.5625,-545691.625,-546506.9375,-546734.0,-547857.25,-548251.75,-548592.3125,-548877.25,-549153.9375,-549184.75,-549366.0625,-550767.125,-551227.0,-551703.5625,-551820.0,-552276.3125,-552863.1875,-553151.25,-553968.375,-554269.8125,-554558.6875,-554771.0,-555038.875,-555050.5,-555290.75,-556222.375,-556565.3125,-556898.0625,-557054.75,-557356.3125,-557377.625,-557577.5625,-558390.1875,-558521.375,-559473.3125,-559716.0625,-559851.125,-560084.75,-560541.625,-560897.8125,-561417.625,-561649.125,-561825.75,-562076.125,-562133.8125,-562403.25,-562822.375,-562979.125,-563457.5625,-563685.5625,-563821.1875,-564082.4375,-564337.0625,-564569.3125,-564845.375,-564890.75,-565169.375,-565487.0625,-565626.9375,-566055.0,-566235.25,-566392.375,-566541.8125,-566665.9375,-566740.125,-566823.1875,-567363.9375,-567548.1875,-568170.75,-568328.4375,-568422.5625,-568576.4375,-568878.0625,-569120.625,-569461.625,-569621.875,-569740.5,-569918.5,-569950.25,-570148.875,-570429.4375,-570522.0,-570836.8125,-571004.0,-571094.9375,-571297.6875,-571467.9375,-571612.9375,-571796.375,-571838.9375,-572012.1875,-572255.875,-572390.125,-572730.75,-572855.375,-572978.75,-573068.8125,-573187.9375,-573200.5625,-573310.5625,-573683.125,-573700.375,-574135.3125,-574267.5625,-574319.0,-574464.1875,-574677.6875,-574794.3125,-575035.375,-575165.9375,-575255.625,-575409.625,-575410.8125,-575598.0,-575799.75,-575846.375,-576070.375,-576213.625,-576280.8125,-576461.0,-576587.625,-576686.0625,-576815.625,-576858.1875,-576970.0625,-577183.25,-577340.25,-577648.1875,-577741.75,-577853.875,-577906.75,-578026.8125,-578191.0,-578310.1875,-578496.625,-578603.5,-578689.5,-578816.5625,-578833.875,-578986.875,-579142.0625,-579202.1875,-579374.4375,-579492.8125,-579564.875,-579712.1875,-579814.375,-579904.4375,-580011.25,-580058.625,-580150.5625,-580158.375,-580203.8125,-580519.125,-580569.125,-581031.9375,-581078.1875,-581194.1875,-581317.5,-581407.4375,-581544.25,-581635.9375,-581721.25,-581834.0625,-581858.1875,-581992.25,-582113.4375,-582171.25,-582300.9375,-582402.25,-582477.1875,-582602.875,-582686.125,-582768.25,-582854.0625,-582903.625,-582979.875,-582998.125,-583041.8125,-583287.4375,-583379.3125,-583731.0,-583780.1875,-583872.5,-583873.625,-583973.4375,-584140.25,-584157.875,-584358.5,-584441.6875,-584479.25,-584572.0625,-584682.375,-584760.0,-584885.1875,-584961.0,-585025.5,-585111.875,-585135.4375,-585231.5,-585346.5,-585402.625,-585537.3125,-585613.8125,-585667.6875,-585754.1875,-585764.4375,-585860.4375,-585984.125,-586022.3125,-586170.4375,-586246.5,-586289.8125,-586375.25,-586459.5,-586539.6875,-586639.3125,-586647.8125,-586758.8125,-586858.25,-586891.0625,-587018.6875,-587090.5,-587138.6875,-587212.9375,-587228.5625,-587296.4375,-587429.1875,-587488.9375,-587670.5625,-587728.1875,-587780.25,-587822.6875,-587864.3125,-587880.25,-587896.625,-588120.4375,-588162.75,-588447.625,-588490.125,-588537.9375,-588558.875,-588582.0625,-588767.625,-588872.375,-589126.5,-589165.5,-589227.0625,-589236.6875,-589294.875,-589426.875,-589463.125,-589630.5625,-589685.3125,-589723.5625,-589770.5,-589785.9375,-589821.0625,-589980.5,-590030.125,-590234.375,-590279.1875,-590323.0,-590353.0625,-590376.375,-590381.4375,-590573.3125,-590669.0,-590912.4375,-590948.8125,-590997.625,-591008.9375,-591046.0,-591187.375,-591233.6875,-591423.0,-591465.625,-591508.1875,-591532.25,-591563.8125,-591686.3125,-591782.5625,-591939.625,-591981.4375,-592024.9375,-592054.0625,-592088.8125,-592096.375,-592107.8125,-592290.0,-592310.1875,-592554.875,-592582.8125,-592627.375,-592631.5625,-592663.1875,-592804.5,-592821.375,-593005.625,-593043.25,-593077.8125,-593099.4375,-593121.0625,-593245.8125,-593346.125,-593508.25,-593543.6875,-593586.1875,-593604.5625,-593640.1875,-593735.625,-593809.25,-593935.5,-593974.6875,-594011.3125,-594040.75,-594070.75,-594079.75,-594093.3125,-594244.875,-594279.8125,-594475.8125,-594502.9375,-594540.9375,-594551.8125,-594576.375,-594695.1875,-594734.3125,-594891.625,-594923.6875,-594959.1875,-594975.5625,-595001.5625,-595101.5,-595168.25,-595293.5625,-595327.75,-595362.375,-595386.5,-595410.1875,-595420.5625,-595422.5,-595579.3125,-595608.875,-595819.125,-595836.6875,-595877.125,-595940.5625,-595992.3125,-596070.375,-596108.8125,-596141.4375,-596175.375,-596196.0,-596225.875,-596226.9375,-596244.3125,-596378.0,-596428.8125,-596479.375,-596490.5,-596548.25,-596597.3125,-596624.8125,-596684.1875,-596722.25,-596754.375,-596796.5,-596809.1875,-596850.125,-596912.75,-596949.75,-597028.0625,-597062.0,-597091.75,-597123.1875,-597143.125,-597165.6875,-597169.3125,-597171.1875,-597318.25,-597318.875,-597519.625,-597535.375,-597572.6875,-597630.0625,-597673.5625,-597746.3125,-597781.0625,-597807.6875,-597839.8125,-597854.9375,-597885.3125,-597954.625,-598001.9375,-598087.4375,-598116.875,-598144.5,-598174.4375,-598188.5,-598211.5625,-598289.875,-598342.0625,-598441.9375,-598471.375,-598496.75,-598520.5625,-598534.9375,-598551.625,-598642.75,-598698.125,-598811.5,-598839.125,-598864.9375,-598882.6875,-598897.25,-598904.3125,-599009.6875,-599064.75,-599196.0,-599218.875,-599245.3125,-599258.8125,-599273.875,-599358.875,-599434.0625,-599554.6875,-599577.0625,-599610.9375,-599617.875,-599654.25,-599714.0,-599733.6875,-599807.625,-599838.3125,-599857.5,-599890.4375,-599894.1875,-599925.3125,-599995.125,-600007.6875,-600091.0,-600123.0,-600138.0,-600169.0625,-600214.6875,-600260.8125,-600315.9375,-600344.375,-600368.6875,-600398.5625,-600412.625,-600444.375,-600494.0625,-600528.125,-600587.5,-600616.375,-600639.3125,-600669.625,-600678.5,-600709.5625,-600766.875,-600789.625,-600856.625,-600885.1875,-600904.875,-600935.6875,-600940.125,-600970.125,-601032.5625,-601047.5,-601121.5,-601149.75,-601165.3125,-601195.875,-601237.5625,-601275.5,-601324.125,-601350.1875,-601374.8125,-601405.8125,-601414.5,-601447.8125,-601491.5,-601519.0,-601571.5,-601600.125,-601620.125,-601651.4375,-601656.6875,-601692.8125,-601740.125,-601756.4375,-601814.1875,-601844.375,-601860.5,-601893.9375,-601927.625,-601958.3125,-601995.3125,-601999.8125,-602039.875,-602081.125,-602093.5,-602150.1875,-602176.0,-602196.1875,-602221.0,-602231.5625,-602251.125,-602312.75,-602352.6875,-602438.5625,-602459.625,-602484.8125,-602494.9375,-602519.875,-602570.375,-602593.8125,-602653.5625,-602679.25,-602694.4375,-602723.875,-602725.625,-602753.0625,-602810.3125,-602817.0,-602889.0,-602915.0,-602926.8125,-602954.0,-602992.875,-603021.4375,-603069.5625,-603094.5625,-603112.9375,-603139.0,-603146.625,-603175.5625,-603221.875,-603237.5,-603292.4375,-603317.5625,-603335.25,-603360.5,-603366.6875,-603389.5,-603444.5625,-603468.625,-603538.875,-603560.375,-603580.5625,-603598.0,-603611.625,-603620.5625,-603626.6875,-603710.125,-603746.6875,-603851.0625,-603865.6875,-603885.875,-603894.0,-603912.875,-603970.25,-604002.375,-604078.625,-604098.25,-604118.375,-604131.5625,-604147.0,-604148.9375,-604157.75,-604242.25,-604249.25,-604356.4375,-604372.25,-604392.375,-604397.4375,-604409.375,-604473.625,-604503.1875,-604589.875,-604607.0625,-604626.1875,-604634.4375,-604651.5,-604703.875,-604738.625,-604805.375,-604824.4375,-604843.5,-604857.5,-604873.1875,-604879.25,-604881.125,-604961.5625,-604987.8125,-605093.3125,-605106.5625,-605127.5625,-605130.625,-605148.0625,-605206.5,-605215.75,-605291.3125,-605308.375,-605325.125,-605337.4375,-605346.9375,-605352.75,-605424.25,-605460.625,-605553.375,-605567.375,-605588.1875,-605591.1875,-605609.625,-605662.5625,-605678.625,-605748.25,-605765.3125,-605781.375,-605795.1875,-605804.875,-605809.0,-605875.0],\"yaxis\":\"y\",\"type\":\"scatter\"}],                        {\"template\":{\"data\":{\"bar\":[{\"error_x\":{\"color\":\"#2a3f5f\"},\"error_y\":{\"color\":\"#2a3f5f\"},\"marker\":{\"line\":{\"color\":\"#E5ECF6\",\"width\":0.5},\"pattern\":{\"fillmode\":\"overlay\",\"size\":10,\"solidity\":0.2}},\"type\":\"bar\"}],\"barpolar\":[{\"marker\":{\"line\":{\"color\":\"#E5ECF6\",\"width\":0.5},\"pattern\":{\"fillmode\":\"overlay\",\"size\":10,\"solidity\":0.2}},\"type\":\"barpolar\"}],\"carpet\":[{\"aaxis\":{\"endlinecolor\":\"#2a3f5f\",\"gridcolor\":\"white\",\"linecolor\":\"white\",\"minorgridcolor\":\"white\",\"startlinecolor\":\"#2a3f5f\"},\"baxis\":{\"endlinecolor\":\"#2a3f5f\",\"gridcolor\":\"white\",\"linecolor\":\"white\",\"minorgridcolor\":\"white\",\"startlinecolor\":\"#2a3f5f\"},\"type\":\"carpet\"}],\"choropleth\":[{\"colorbar\":{\"outlinewidth\":0,\"ticks\":\"\"},\"type\":\"choropleth\"}],\"contour\":[{\"colorbar\":{\"outlinewidth\":0,\"ticks\":\"\"},\"colorscale\":[[0.0,\"#0d0887\"],[0.1111111111111111,\"#46039f\"],[0.2222222222222222,\"#7201a8\"],[0.3333333333333333,\"#9c179e\"],[0.4444444444444444,\"#bd3786\"],[0.5555555555555556,\"#d8576b\"],[0.6666666666666666,\"#ed7953\"],[0.7777777777777778,\"#fb9f3a\"],[0.8888888888888888,\"#fdca26\"],[1.0,\"#f0f921\"]],\"type\":\"contour\"}],\"contourcarpet\":[{\"colorbar\":{\"outlinewidth\":0,\"ticks\":\"\"},\"type\":\"contourcarpet\"}],\"heatmap\":[{\"colorbar\":{\"outlinewidth\":0,\"ticks\":\"\"},\"colorscale\":[[0.0,\"#0d0887\"],[0.1111111111111111,\"#46039f\"],[0.2222222222222222,\"#7201a8\"],[0.3333333333333333,\"#9c179e\"],[0.4444444444444444,\"#bd3786\"],[0.5555555555555556,\"#d8576b\"],[0.6666666666666666,\"#ed7953\"],[0.7777777777777778,\"#fb9f3a\"],[0.8888888888888888,\"#fdca26\"],[1.0,\"#f0f921\"]],\"type\":\"heatmap\"}],\"heatmapgl\":[{\"colorbar\":{\"outlinewidth\":0,\"ticks\":\"\"},\"colorscale\":[[0.0,\"#0d0887\"],[0.1111111111111111,\"#46039f\"],[0.2222222222222222,\"#7201a8\"],[0.3333333333333333,\"#9c179e\"],[0.4444444444444444,\"#bd3786\"],[0.5555555555555556,\"#d8576b\"],[0.6666666666666666,\"#ed7953\"],[0.7777777777777778,\"#fb9f3a\"],[0.8888888888888888,\"#fdca26\"],[1.0,\"#f0f921\"]],\"type\":\"heatmapgl\"}],\"histogram\":[{\"marker\":{\"pattern\":{\"fillmode\":\"overlay\",\"size\":10,\"solidity\":0.2}},\"type\":\"histogram\"}],\"histogram2d\":[{\"colorbar\":{\"outlinewidth\":0,\"ticks\":\"\"},\"colorscale\":[[0.0,\"#0d0887\"],[0.1111111111111111,\"#46039f\"],[0.2222222222222222,\"#7201a8\"],[0.3333333333333333,\"#9c179e\"],[0.4444444444444444,\"#bd3786\"],[0.5555555555555556,\"#d8576b\"],[0.6666666666666666,\"#ed7953\"],[0.7777777777777778,\"#fb9f3a\"],[0.8888888888888888,\"#fdca26\"],[1.0,\"#f0f921\"]],\"type\":\"histogram2d\"}],\"histogram2dcontour\":[{\"colorbar\":{\"outlinewidth\":0,\"ticks\":\"\"},\"colorscale\":[[0.0,\"#0d0887\"],[0.1111111111111111,\"#46039f\"],[0.2222222222222222,\"#7201a8\"],[0.3333333333333333,\"#9c179e\"],[0.4444444444444444,\"#bd3786\"],[0.5555555555555556,\"#d8576b\"],[0.6666666666666666,\"#ed7953\"],[0.7777777777777778,\"#fb9f3a\"],[0.8888888888888888,\"#fdca26\"],[1.0,\"#f0f921\"]],\"type\":\"histogram2dcontour\"}],\"mesh3d\":[{\"colorbar\":{\"outlinewidth\":0,\"ticks\":\"\"},\"type\":\"mesh3d\"}],\"parcoords\":[{\"line\":{\"colorbar\":{\"outlinewidth\":0,\"ticks\":\"\"}},\"type\":\"parcoords\"}],\"pie\":[{\"automargin\":true,\"type\":\"pie\"}],\"scatter\":[{\"marker\":{\"colorbar\":{\"outlinewidth\":0,\"ticks\":\"\"}},\"type\":\"scatter\"}],\"scatter3d\":[{\"line\":{\"colorbar\":{\"outlinewidth\":0,\"ticks\":\"\"}},\"marker\":{\"colorbar\":{\"outlinewidth\":0,\"ticks\":\"\"}},\"type\":\"scatter3d\"}],\"scattercarpet\":[{\"marker\":{\"colorbar\":{\"outlinewidth\":0,\"ticks\":\"\"}},\"type\":\"scattercarpet\"}],\"scattergeo\":[{\"marker\":{\"colorbar\":{\"outlinewidth\":0,\"ticks\":\"\"}},\"type\":\"scattergeo\"}],\"scattergl\":[{\"marker\":{\"colorbar\":{\"outlinewidth\":0,\"ticks\":\"\"}},\"type\":\"scattergl\"}],\"scattermapbox\":[{\"marker\":{\"colorbar\":{\"outlinewidth\":0,\"ticks\":\"\"}},\"type\":\"scattermapbox\"}],\"scatterpolar\":[{\"marker\":{\"colorbar\":{\"outlinewidth\":0,\"ticks\":\"\"}},\"type\":\"scatterpolar\"}],\"scatterpolargl\":[{\"marker\":{\"colorbar\":{\"outlinewidth\":0,\"ticks\":\"\"}},\"type\":\"scatterpolargl\"}],\"scatterternary\":[{\"marker\":{\"colorbar\":{\"outlinewidth\":0,\"ticks\":\"\"}},\"type\":\"scatterternary\"}],\"surface\":[{\"colorbar\":{\"outlinewidth\":0,\"ticks\":\"\"},\"colorscale\":[[0.0,\"#0d0887\"],[0.1111111111111111,\"#46039f\"],[0.2222222222222222,\"#7201a8\"],[0.3333333333333333,\"#9c179e\"],[0.4444444444444444,\"#bd3786\"],[0.5555555555555556,\"#d8576b\"],[0.6666666666666666,\"#ed7953\"],[0.7777777777777778,\"#fb9f3a\"],[0.8888888888888888,\"#fdca26\"],[1.0,\"#f0f921\"]],\"type\":\"surface\"}],\"table\":[{\"cells\":{\"fill\":{\"color\":\"#EBF0F8\"},\"line\":{\"color\":\"white\"}},\"header\":{\"fill\":{\"color\":\"#C8D4E3\"},\"line\":{\"color\":\"white\"}},\"type\":\"table\"}]},\"layout\":{\"annotationdefaults\":{\"arrowcolor\":\"#2a3f5f\",\"arrowhead\":0,\"arrowwidth\":1},\"autotypenumbers\":\"strict\",\"coloraxis\":{\"colorbar\":{\"outlinewidth\":0,\"ticks\":\"\"}},\"colorscale\":{\"diverging\":[[0,\"#8e0152\"],[0.1,\"#c51b7d\"],[0.2,\"#de77ae\"],[0.3,\"#f1b6da\"],[0.4,\"#fde0ef\"],[0.5,\"#f7f7f7\"],[0.6,\"#e6f5d0\"],[0.7,\"#b8e186\"],[0.8,\"#7fbc41\"],[0.9,\"#4d9221\"],[1,\"#276419\"]],\"sequential\":[[0.0,\"#0d0887\"],[0.1111111111111111,\"#46039f\"],[0.2222222222222222,\"#7201a8\"],[0.3333333333333333,\"#9c179e\"],[0.4444444444444444,\"#bd3786\"],[0.5555555555555556,\"#d8576b\"],[0.6666666666666666,\"#ed7953\"],[0.7777777777777778,\"#fb9f3a\"],[0.8888888888888888,\"#fdca26\"],[1.0,\"#f0f921\"]],\"sequentialminus\":[[0.0,\"#0d0887\"],[0.1111111111111111,\"#46039f\"],[0.2222222222222222,\"#7201a8\"],[0.3333333333333333,\"#9c179e\"],[0.4444444444444444,\"#bd3786\"],[0.5555555555555556,\"#d8576b\"],[0.6666666666666666,\"#ed7953\"],[0.7777777777777778,\"#fb9f3a\"],[0.8888888888888888,\"#fdca26\"],[1.0,\"#f0f921\"]]},\"colorway\":[\"#636efa\",\"#EF553B\",\"#00cc96\",\"#ab63fa\",\"#FFA15A\",\"#19d3f3\",\"#FF6692\",\"#B6E880\",\"#FF97FF\",\"#FECB52\"],\"font\":{\"color\":\"#2a3f5f\"},\"geo\":{\"bgcolor\":\"white\",\"lakecolor\":\"white\",\"landcolor\":\"#E5ECF6\",\"showlakes\":true,\"showland\":true,\"subunitcolor\":\"white\"},\"hoverlabel\":{\"align\":\"left\"},\"hovermode\":\"closest\",\"mapbox\":{\"style\":\"light\"},\"paper_bgcolor\":\"white\",\"plot_bgcolor\":\"#E5ECF6\",\"polar\":{\"angularaxis\":{\"gridcolor\":\"white\",\"linecolor\":\"white\",\"ticks\":\"\"},\"bgcolor\":\"#E5ECF6\",\"radialaxis\":{\"gridcolor\":\"white\",\"linecolor\":\"white\",\"ticks\":\"\"}},\"scene\":{\"xaxis\":{\"backgroundcolor\":\"#E5ECF6\",\"gridcolor\":\"white\",\"gridwidth\":2,\"linecolor\":\"white\",\"showbackground\":true,\"ticks\":\"\",\"zerolinecolor\":\"white\"},\"yaxis\":{\"backgroundcolor\":\"#E5ECF6\",\"gridcolor\":\"white\",\"gridwidth\":2,\"linecolor\":\"white\",\"showbackground\":true,\"ticks\":\"\",\"zerolinecolor\":\"white\"},\"zaxis\":{\"backgroundcolor\":\"#E5ECF6\",\"gridcolor\":\"white\",\"gridwidth\":2,\"linecolor\":\"white\",\"showbackground\":true,\"ticks\":\"\",\"zerolinecolor\":\"white\"}},\"shapedefaults\":{\"line\":{\"color\":\"#2a3f5f\"}},\"ternary\":{\"aaxis\":{\"gridcolor\":\"white\",\"linecolor\":\"white\",\"ticks\":\"\"},\"baxis\":{\"gridcolor\":\"white\",\"linecolor\":\"white\",\"ticks\":\"\"},\"bgcolor\":\"#E5ECF6\",\"caxis\":{\"gridcolor\":\"white\",\"linecolor\":\"white\",\"ticks\":\"\"}},\"title\":{\"x\":0.05},\"xaxis\":{\"automargin\":true,\"gridcolor\":\"white\",\"linecolor\":\"white\",\"ticks\":\"\",\"title\":{\"standoff\":15},\"zerolinecolor\":\"white\",\"zerolinewidth\":2},\"yaxis\":{\"automargin\":true,\"gridcolor\":\"white\",\"linecolor\":\"white\",\"ticks\":\"\",\"title\":{\"standoff\":15},\"zerolinecolor\":\"white\",\"zerolinewidth\":2}}},\"xaxis\":{\"anchor\":\"y\",\"domain\":[0.0,1.0],\"title\":{\"text\":\"Time (ps)\"}},\"yaxis\":{\"anchor\":\"x\",\"domain\":[0.0,1.0],\"title\":{\"text\":\"(kJ/mol)\"}},\"legend\":{\"tracegroupgap\":0},\"margin\":{\"t\":60},\"title\":{\"text\":\"GROMACS Energies\"},\"width\":700},                        {\"responsive\": true}                    ).then(function(){\n",
              "                            \n",
              "var gd = document.getElementById('0bded069-625e-4468-9eb3-7d9f3fc4d339');\n",
              "var x = new MutationObserver(function (mutations, observer) {{\n",
              "        var display = window.getComputedStyle(gd).display;\n",
              "        if (!display || display === 'none') {{\n",
              "            console.log([gd, 'removed!']);\n",
              "            Plotly.purge(gd);\n",
              "            observer.disconnect();\n",
              "        }}\n",
              "}});\n",
              "\n",
              "// Listen for the removal of the full notebook cells\n",
              "var notebookContainer = gd.closest('#notebook-container');\n",
              "if (notebookContainer) {{\n",
              "    x.observe(notebookContainer, {childList: true});\n",
              "}}\n",
              "\n",
              "// Listen for the clearing of the current output cell\n",
              "var outputEl = gd.closest('.output');\n",
              "if (outputEl) {{\n",
              "    x.observe(outputEl, {childList: true});\n",
              "}}\n",
              "\n",
              "                        })                };                            </script>        </div>\n",
              "</body>\n",
              "</html>"
            ]
          },
          "metadata": {}
        }
      ]
    },
    {
      "cell_type": "markdown",
      "source": [
        "Let's see if I can do it another way.\n",
        "\n",
        "```py\n",
        "data = np.loadtxt('potential.xvg',comments=['#', '@'])\n",
        "```\n",
        "\n",
        "I want to try to import the data without having to `grep` it into a new file."
      ],
      "metadata": {
        "id": "rJjAM-MalSHl"
      }
    },
    {
      "cell_type": "code",
      "source": [
        "# create the graph\n",
        "import numpy as np\n",
        "import pandas as pd\n",
        "\n",
        "a = np.loadtxt('potential.xvg',comments=['#', '@']) # strip out the comments\n",
        "header = [\"x\", \"y\"] # add headers to columns\n",
        "frame = pd.DataFrame(a, columns=header)\n",
        "\n",
        "fig = px.line(frame, x=\"x\", y=\"y\")\n",
        "fig.update_xaxes(title_text=\"Time (ps)\") # label x-axis\n",
        "fig.update_yaxes(title_text=\"kJ/mol\") # label y-axis\n",
        "fig.update_layout(width=700, title_text=\"GROMACS Energies\")\n",
        "fig.show()"
      ],
      "metadata": {
        "colab": {
          "base_uri": "https://localhost:8080/",
          "height": 542
        },
        "outputId": "1f7621c7-d0de-46fe-f80f-91e9d420cc00",
        "id": "Xm7ld47qmQhR"
      },
      "execution_count": null,
      "outputs": [
        {
          "output_type": "display_data",
          "data": {
            "text/html": [
              "<html>\n",
              "<head><meta charset=\"utf-8\" /></head>\n",
              "<body>\n",
              "    <div>            <script src=\"https://cdnjs.cloudflare.com/ajax/libs/mathjax/2.7.5/MathJax.js?config=TeX-AMS-MML_SVG\"></script><script type=\"text/javascript\">if (window.MathJax) {MathJax.Hub.Config({SVG: {font: \"STIX-Web\"}});}</script>                <script type=\"text/javascript\">window.PlotlyConfig = {MathJaxConfig: 'local'};</script>\n",
              "        <script src=\"https://cdn.plot.ly/plotly-2.8.3.min.js\"></script>                <div id=\"d42efbe3-3a1d-41db-aa66-75c34d40717f\" class=\"plotly-graph-div\" style=\"height:525px; width:700px;\"></div>            <script type=\"text/javascript\">                                    window.PLOTLYENV=window.PLOTLYENV || {};                                    if (document.getElementById(\"d42efbe3-3a1d-41db-aa66-75c34d40717f\")) {                    Plotly.newPlot(                        \"d42efbe3-3a1d-41db-aa66-75c34d40717f\",                        [{\"hovertemplate\":\"x=%{x}<br>y=%{y}<extra></extra>\",\"legendgroup\":\"\",\"line\":{\"color\":\"#636efa\",\"dash\":\"solid\"},\"marker\":{\"symbol\":\"circle\"},\"mode\":\"lines\",\"name\":\"\",\"orientation\":\"v\",\"showlegend\":false,\"x\":[0.0,1.0,2.0,3.0,4.0,5.0,6.0,7.0,8.0,9.0,10.0,11.0,13.0,14.0,15.0,17.0,18.0,19.0,21.0,22.0,23.0,25.0,26.0,27.0,29.0,30.0,31.0,33.0,34.0,35.0,37.0,38.0,39.0,40.0,41.0,42.0,44.0,45.0,46.0,48.0,49.0,50.0,52.0,53.0,54.0,56.0,57.0,58.0,60.0,61.0,62.0,63.0,64.0,66.0,67.0,68.0,70.0,71.0,72.0,73.0,74.0,75.0,77.0,79.0,80.0,81.0,82.0,84.0,85.0,86.0,88.0,89.0,90.0,91.0,92.0,93.0,95.0,97.0,98.0,99.0,100.0,101.0,102.0,104.0,105.0,106.0,108.0,109.0,110.0,112.0,113.0,114.0,116.0,117.0,118.0,119.0,120.0,122.0,123.0,124.0,126.0,127.0,128.0,130.0,131.0,132.0,133.0,134.0,136.0,137.0,138.0,140.0,141.0,142.0,143.0,144.0,145.0,147.0,148.0,149.0,151.0,152.0,153.0,155.0,156.0,157.0,159.0,160.0,161.0,162.0,163.0,165.0,166.0,167.0,169.0,170.0,171.0,173.0,174.0,175.0,176.0,177.0,179.0,180.0,181.0,183.0,184.0,185.0,186.0,187.0,188.0,190.0,191.0,192.0,194.0,195.0,196.0,198.0,199.0,200.0,202.0,203.0,204.0,205.0,206.0,208.0,209.0,210.0,212.0,213.0,214.0,216.0,217.0,218.0,219.0,220.0,222.0,223.0,224.0,226.0,227.0,228.0,229.0,231.0,232.0,233.0,235.0,236.0,237.0,238.0,239.0,241.0,242.0,243.0,245.0,246.0,247.0,249.0,250.0,251.0,252.0,253.0,254.0,255.0,257.0,258.0,259.0,261.0,262.0,264.0,265.0,266.0,268.0,269.0,270.0,271.0,272.0,274.0,275.0,276.0,278.0,279.0,280.0,282.0,283.0,284.0,285.0,286.0,287.0,288.0,290.0,291.0,292.0,294.0,295.0,296.0,297.0,299.0,300.0,301.0,303.0,304.0,305.0,307.0,308.0,309.0,311.0,312.0,313.0,314.0,315.0,317.0,318.0,319.0,321.0,322.0,323.0,324.0,325.0,327.0,328.0,329.0,331.0,332.0,333.0,335.0,336.0,337.0,338.0,339.0,341.0,342.0,343.0,345.0,346.0,347.0,348.0,349.0,351.0,352.0,353.0,355.0,356.0,357.0,358.0,359.0,360.0,362.0,363.0,364.0,366.0,367.0,368.0,369.0,371.0,372.0,373.0,375.0,376.0,377.0,378.0,380.0,381.0,382.0,384.0,385.0,386.0,387.0,388.0,390.0,391.0,392.0,394.0,395.0,396.0,397.0,398.0,400.0,401.0,402.0,404.0,405.0,406.0,407.0,409.0,410.0,411.0,413.0,414.0,415.0,416.0,418.0,419.0,420.0,422.0,423.0,424.0,425.0,426.0,427.0,429.0,430.0,431.0,433.0,434.0,435.0,436.0,438.0,439.0,440.0,442.0,443.0,444.0,445.0,447.0,448.0,449.0,451.0,452.0,453.0,454.0,456.0,457.0,458.0,460.0,461.0,462.0,463.0,464.0,465.0,467.0,468.0,469.0,471.0,472.0,473.0,474.0,476.0,477.0,478.0,480.0,481.0,482.0,483.0,485.0,486.0,487.0,489.0,490.0,491.0,492.0,493.0,494.0,496.0,497.0,498.0,500.0,501.0,503.0,504.0,505.0,507.0,508.0,509.0,510.0,511.0,512.0,513.0,515.0,517.0,518.0,519.0,520.0,522.0,523.0,524.0,526.0,527.0,528.0,529.0,530.0,532.0,533.0,534.0,536.0,537.0,538.0,539.0,540.0,541.0,542.0,544.0,545.0,546.0,548.0,549.0,551.0,552.0,553.0,555.0,556.0,557.0,558.0,559.0,561.0,562.0,563.0,565.0,566.0,567.0,568.0,569.0,571.0,572.0,573.0,575.0,576.0,577.0,578.0,579.0,581.0,582.0,583.0,585.0,586.0,587.0,588.0,589.0,591.0,592.0,593.0,595.0,596.0,597.0,598.0,600.0,601.0,602.0,604.0,605.0,606.0,607.0,609.0,610.0,611.0,613.0,614.0,615.0,616.0,617.0,619.0,620.0,621.0,623.0,624.0,625.0,627.0,628.0,629.0,631.0,632.0,633.0,634.0,635.0,637.0,638.0,639.0,641.0,642.0,643.0,644.0,645.0,647.0,648.0,649.0,651.0,652.0,653.0,654.0,655.0,657.0,658.0,659.0,661.0,662.0,663.0,665.0,666.0,667.0,669.0,670.0,671.0,672.0,673.0,675.0,676.0,677.0,679.0,680.0,681.0,682.0,683.0,685.0,686.0,687.0,689.0,690.0,691.0,693.0,694.0,695.0,696.0,697.0,699.0,700.0,701.0,703.0,704.0,705.0,706.0,707.0,709.0,710.0,711.0,713.0,714.0,715.0,716.0,718.0,719.0,720.0,722.0,723.0,724.0,725.0,726.0,728.0,729.0,730.0,732.0,733.0,734.0,736.0,737.0,738.0,740.0,741.0,742.0,743.0,744.0,746.0,747.0,748.0,750.0,751.0,752.0,753.0,754.0,756.0,757.0,758.0,760.0,761.0,762.0,763.0,764.0,765.0,767.0,768.0,769.0,771.0,772.0,773.0,774.0,776.0,777.0,778.0,780.0,781.0,782.0,783.0,784.0,785.0,787.0,788.0,789.0,791.0,792.0,793.0,794.0,796.0,797.0,798.0,800.0,801.0,802.0,803.0,805.0,806.0,807.0,809.0,810.0,811.0,812.0,813.0,814.0,816.0,817.0,818.0,820.0,821.0,822.0,823.0,825.0,826.0,827.0,829.0,830.0,831.0,832.0,833.0,835.0,836.0,837.0,839.0,840.0,841.0,842.0,844.0,845.0,846.0,848.0,849.0,850.0,851.0,852.0,854.0],\"xaxis\":\"x\",\"y\":[-336066.4375,-358275.59375,-389943.625,-423500.6875,-454632.8125,-471418.65625,-483756.9375,-489573.625,-491625.25,-495685.21875,-495764.1875,-499720.59375,-503125.25,-503507.25,-507055.65625,-509393.90625,-509619.84375,-512495.96875,-514406.9375,-514807.25,-516772.75,-518690.125,-519156.5,-521540.5,-522776.71875,-523309.90625,-524531.5625,-525993.625,-526890.75,-528772.5,-529590.375,-530323.125,-530962.375,-531586.125,-531843.0625,-532339.9375,-534385.0,-534781.5,-537122.1875,-537750.8125,-538022.375,-538660.6875,-539760.625,-540327.0625,-541556.5,-542133.375,-542468.625,-543124.4375,-543757.5625,-544294.9375,-544972.125,-545041.5625,-545691.625,-546506.9375,-546734.0,-547857.25,-548251.75,-548592.3125,-548877.25,-549153.9375,-549184.75,-549366.0625,-550767.125,-551227.0,-551703.5625,-551820.0,-552276.3125,-552863.1875,-553151.25,-553968.375,-554269.8125,-554558.6875,-554771.0,-555038.875,-555050.5,-555290.75,-556222.375,-556565.3125,-556898.0625,-557054.75,-557356.3125,-557377.625,-557577.5625,-558390.1875,-558521.375,-559473.3125,-559716.0625,-559851.125,-560084.75,-560541.625,-560897.8125,-561417.625,-561649.125,-561825.75,-562076.125,-562133.8125,-562403.25,-562822.375,-562979.125,-563457.5625,-563685.5625,-563821.1875,-564082.4375,-564337.0625,-564569.3125,-564845.375,-564890.75,-565169.375,-565487.0625,-565626.9375,-566055.0,-566235.25,-566392.375,-566541.8125,-566665.9375,-566740.125,-566823.1875,-567363.9375,-567548.1875,-568170.75,-568328.4375,-568422.5625,-568576.4375,-568878.0625,-569120.625,-569461.625,-569621.875,-569740.5,-569918.5,-569950.25,-570148.875,-570429.4375,-570522.0,-570836.8125,-571004.0,-571094.9375,-571297.6875,-571467.9375,-571612.9375,-571796.375,-571838.9375,-572012.1875,-572255.875,-572390.125,-572730.75,-572855.375,-572978.75,-573068.8125,-573187.9375,-573200.5625,-573310.5625,-573683.125,-573700.375,-574135.3125,-574267.5625,-574319.0,-574464.1875,-574677.6875,-574794.3125,-575035.375,-575165.9375,-575255.625,-575409.625,-575410.8125,-575598.0,-575799.75,-575846.375,-576070.375,-576213.625,-576280.8125,-576461.0,-576587.625,-576686.0625,-576815.625,-576858.1875,-576970.0625,-577183.25,-577340.25,-577648.1875,-577741.75,-577853.875,-577906.75,-578026.8125,-578191.0,-578310.1875,-578496.625,-578603.5,-578689.5,-578816.5625,-578833.875,-578986.875,-579142.0625,-579202.1875,-579374.4375,-579492.8125,-579564.875,-579712.1875,-579814.375,-579904.4375,-580011.25,-580058.625,-580150.5625,-580158.375,-580203.8125,-580519.125,-580569.125,-581031.9375,-581078.1875,-581194.1875,-581317.5,-581407.4375,-581544.25,-581635.9375,-581721.25,-581834.0625,-581858.1875,-581992.25,-582113.4375,-582171.25,-582300.9375,-582402.25,-582477.1875,-582602.875,-582686.125,-582768.25,-582854.0625,-582903.625,-582979.875,-582998.125,-583041.8125,-583287.4375,-583379.3125,-583731.0,-583780.1875,-583872.5,-583873.625,-583973.4375,-584140.25,-584157.875,-584358.5,-584441.6875,-584479.25,-584572.0625,-584682.375,-584760.0,-584885.1875,-584961.0,-585025.5,-585111.875,-585135.4375,-585231.5,-585346.5,-585402.625,-585537.3125,-585613.8125,-585667.6875,-585754.1875,-585764.4375,-585860.4375,-585984.125,-586022.3125,-586170.4375,-586246.5,-586289.8125,-586375.25,-586459.5,-586539.6875,-586639.3125,-586647.8125,-586758.8125,-586858.25,-586891.0625,-587018.6875,-587090.5,-587138.6875,-587212.9375,-587228.5625,-587296.4375,-587429.1875,-587488.9375,-587670.5625,-587728.1875,-587780.25,-587822.6875,-587864.3125,-587880.25,-587896.625,-588120.4375,-588162.75,-588447.625,-588490.125,-588537.9375,-588558.875,-588582.0625,-588767.625,-588872.375,-589126.5,-589165.5,-589227.0625,-589236.6875,-589294.875,-589426.875,-589463.125,-589630.5625,-589685.3125,-589723.5625,-589770.5,-589785.9375,-589821.0625,-589980.5,-590030.125,-590234.375,-590279.1875,-590323.0,-590353.0625,-590376.375,-590381.4375,-590573.3125,-590669.0,-590912.4375,-590948.8125,-590997.625,-591008.9375,-591046.0,-591187.375,-591233.6875,-591423.0,-591465.625,-591508.1875,-591532.25,-591563.8125,-591686.3125,-591782.5625,-591939.625,-591981.4375,-592024.9375,-592054.0625,-592088.8125,-592096.375,-592107.8125,-592290.0,-592310.1875,-592554.875,-592582.8125,-592627.375,-592631.5625,-592663.1875,-592804.5,-592821.375,-593005.625,-593043.25,-593077.8125,-593099.4375,-593121.0625,-593245.8125,-593346.125,-593508.25,-593543.6875,-593586.1875,-593604.5625,-593640.1875,-593735.625,-593809.25,-593935.5,-593974.6875,-594011.3125,-594040.75,-594070.75,-594079.75,-594093.3125,-594244.875,-594279.8125,-594475.8125,-594502.9375,-594540.9375,-594551.8125,-594576.375,-594695.1875,-594734.3125,-594891.625,-594923.6875,-594959.1875,-594975.5625,-595001.5625,-595101.5,-595168.25,-595293.5625,-595327.75,-595362.375,-595386.5,-595410.1875,-595420.5625,-595422.5,-595579.3125,-595608.875,-595819.125,-595836.6875,-595877.125,-595940.5625,-595992.3125,-596070.375,-596108.8125,-596141.4375,-596175.375,-596196.0,-596225.875,-596226.9375,-596244.3125,-596378.0,-596428.8125,-596479.375,-596490.5,-596548.25,-596597.3125,-596624.8125,-596684.1875,-596722.25,-596754.375,-596796.5,-596809.1875,-596850.125,-596912.75,-596949.75,-597028.0625,-597062.0,-597091.75,-597123.1875,-597143.125,-597165.6875,-597169.3125,-597171.1875,-597318.25,-597318.875,-597519.625,-597535.375,-597572.6875,-597630.0625,-597673.5625,-597746.3125,-597781.0625,-597807.6875,-597839.8125,-597854.9375,-597885.3125,-597954.625,-598001.9375,-598087.4375,-598116.875,-598144.5,-598174.4375,-598188.5,-598211.5625,-598289.875,-598342.0625,-598441.9375,-598471.375,-598496.75,-598520.5625,-598534.9375,-598551.625,-598642.75,-598698.125,-598811.5,-598839.125,-598864.9375,-598882.6875,-598897.25,-598904.3125,-599009.6875,-599064.75,-599196.0,-599218.875,-599245.3125,-599258.8125,-599273.875,-599358.875,-599434.0625,-599554.6875,-599577.0625,-599610.9375,-599617.875,-599654.25,-599714.0,-599733.6875,-599807.625,-599838.3125,-599857.5,-599890.4375,-599894.1875,-599925.3125,-599995.125,-600007.6875,-600091.0,-600123.0,-600138.0,-600169.0625,-600214.6875,-600260.8125,-600315.9375,-600344.375,-600368.6875,-600398.5625,-600412.625,-600444.375,-600494.0625,-600528.125,-600587.5,-600616.375,-600639.3125,-600669.625,-600678.5,-600709.5625,-600766.875,-600789.625,-600856.625,-600885.1875,-600904.875,-600935.6875,-600940.125,-600970.125,-601032.5625,-601047.5,-601121.5,-601149.75,-601165.3125,-601195.875,-601237.5625,-601275.5,-601324.125,-601350.1875,-601374.8125,-601405.8125,-601414.5,-601447.8125,-601491.5,-601519.0,-601571.5,-601600.125,-601620.125,-601651.4375,-601656.6875,-601692.8125,-601740.125,-601756.4375,-601814.1875,-601844.375,-601860.5,-601893.9375,-601927.625,-601958.3125,-601995.3125,-601999.8125,-602039.875,-602081.125,-602093.5,-602150.1875,-602176.0,-602196.1875,-602221.0,-602231.5625,-602251.125,-602312.75,-602352.6875,-602438.5625,-602459.625,-602484.8125,-602494.9375,-602519.875,-602570.375,-602593.8125,-602653.5625,-602679.25,-602694.4375,-602723.875,-602725.625,-602753.0625,-602810.3125,-602817.0,-602889.0,-602915.0,-602926.8125,-602954.0,-602992.875,-603021.4375,-603069.5625,-603094.5625,-603112.9375,-603139.0,-603146.625,-603175.5625,-603221.875,-603237.5,-603292.4375,-603317.5625,-603335.25,-603360.5,-603366.6875,-603389.5,-603444.5625,-603468.625,-603538.875,-603560.375,-603580.5625,-603598.0,-603611.625,-603620.5625,-603626.6875,-603710.125,-603746.6875,-603851.0625,-603865.6875,-603885.875,-603894.0,-603912.875,-603970.25,-604002.375,-604078.625,-604098.25,-604118.375,-604131.5625,-604147.0,-604148.9375,-604157.75,-604242.25,-604249.25,-604356.4375,-604372.25,-604392.375,-604397.4375,-604409.375,-604473.625,-604503.1875,-604589.875,-604607.0625,-604626.1875,-604634.4375,-604651.5,-604703.875,-604738.625,-604805.375,-604824.4375,-604843.5,-604857.5,-604873.1875,-604879.25,-604881.125,-604961.5625,-604987.8125,-605093.3125,-605106.5625,-605127.5625,-605130.625,-605148.0625,-605206.5,-605215.75,-605291.3125,-605308.375,-605325.125,-605337.4375,-605346.9375,-605352.75,-605424.25,-605460.625,-605553.375,-605567.375,-605588.1875,-605591.1875,-605609.625,-605662.5625,-605678.625,-605748.25,-605765.3125,-605781.375,-605795.1875,-605804.875,-605809.0,-605875.0],\"yaxis\":\"y\",\"type\":\"scatter\"}],                        {\"template\":{\"data\":{\"bar\":[{\"error_x\":{\"color\":\"#2a3f5f\"},\"error_y\":{\"color\":\"#2a3f5f\"},\"marker\":{\"line\":{\"color\":\"#E5ECF6\",\"width\":0.5},\"pattern\":{\"fillmode\":\"overlay\",\"size\":10,\"solidity\":0.2}},\"type\":\"bar\"}],\"barpolar\":[{\"marker\":{\"line\":{\"color\":\"#E5ECF6\",\"width\":0.5},\"pattern\":{\"fillmode\":\"overlay\",\"size\":10,\"solidity\":0.2}},\"type\":\"barpolar\"}],\"carpet\":[{\"aaxis\":{\"endlinecolor\":\"#2a3f5f\",\"gridcolor\":\"white\",\"linecolor\":\"white\",\"minorgridcolor\":\"white\",\"startlinecolor\":\"#2a3f5f\"},\"baxis\":{\"endlinecolor\":\"#2a3f5f\",\"gridcolor\":\"white\",\"linecolor\":\"white\",\"minorgridcolor\":\"white\",\"startlinecolor\":\"#2a3f5f\"},\"type\":\"carpet\"}],\"choropleth\":[{\"colorbar\":{\"outlinewidth\":0,\"ticks\":\"\"},\"type\":\"choropleth\"}],\"contour\":[{\"colorbar\":{\"outlinewidth\":0,\"ticks\":\"\"},\"colorscale\":[[0.0,\"#0d0887\"],[0.1111111111111111,\"#46039f\"],[0.2222222222222222,\"#7201a8\"],[0.3333333333333333,\"#9c179e\"],[0.4444444444444444,\"#bd3786\"],[0.5555555555555556,\"#d8576b\"],[0.6666666666666666,\"#ed7953\"],[0.7777777777777778,\"#fb9f3a\"],[0.8888888888888888,\"#fdca26\"],[1.0,\"#f0f921\"]],\"type\":\"contour\"}],\"contourcarpet\":[{\"colorbar\":{\"outlinewidth\":0,\"ticks\":\"\"},\"type\":\"contourcarpet\"}],\"heatmap\":[{\"colorbar\":{\"outlinewidth\":0,\"ticks\":\"\"},\"colorscale\":[[0.0,\"#0d0887\"],[0.1111111111111111,\"#46039f\"],[0.2222222222222222,\"#7201a8\"],[0.3333333333333333,\"#9c179e\"],[0.4444444444444444,\"#bd3786\"],[0.5555555555555556,\"#d8576b\"],[0.6666666666666666,\"#ed7953\"],[0.7777777777777778,\"#fb9f3a\"],[0.8888888888888888,\"#fdca26\"],[1.0,\"#f0f921\"]],\"type\":\"heatmap\"}],\"heatmapgl\":[{\"colorbar\":{\"outlinewidth\":0,\"ticks\":\"\"},\"colorscale\":[[0.0,\"#0d0887\"],[0.1111111111111111,\"#46039f\"],[0.2222222222222222,\"#7201a8\"],[0.3333333333333333,\"#9c179e\"],[0.4444444444444444,\"#bd3786\"],[0.5555555555555556,\"#d8576b\"],[0.6666666666666666,\"#ed7953\"],[0.7777777777777778,\"#fb9f3a\"],[0.8888888888888888,\"#fdca26\"],[1.0,\"#f0f921\"]],\"type\":\"heatmapgl\"}],\"histogram\":[{\"marker\":{\"pattern\":{\"fillmode\":\"overlay\",\"size\":10,\"solidity\":0.2}},\"type\":\"histogram\"}],\"histogram2d\":[{\"colorbar\":{\"outlinewidth\":0,\"ticks\":\"\"},\"colorscale\":[[0.0,\"#0d0887\"],[0.1111111111111111,\"#46039f\"],[0.2222222222222222,\"#7201a8\"],[0.3333333333333333,\"#9c179e\"],[0.4444444444444444,\"#bd3786\"],[0.5555555555555556,\"#d8576b\"],[0.6666666666666666,\"#ed7953\"],[0.7777777777777778,\"#fb9f3a\"],[0.8888888888888888,\"#fdca26\"],[1.0,\"#f0f921\"]],\"type\":\"histogram2d\"}],\"histogram2dcontour\":[{\"colorbar\":{\"outlinewidth\":0,\"ticks\":\"\"},\"colorscale\":[[0.0,\"#0d0887\"],[0.1111111111111111,\"#46039f\"],[0.2222222222222222,\"#7201a8\"],[0.3333333333333333,\"#9c179e\"],[0.4444444444444444,\"#bd3786\"],[0.5555555555555556,\"#d8576b\"],[0.6666666666666666,\"#ed7953\"],[0.7777777777777778,\"#fb9f3a\"],[0.8888888888888888,\"#fdca26\"],[1.0,\"#f0f921\"]],\"type\":\"histogram2dcontour\"}],\"mesh3d\":[{\"colorbar\":{\"outlinewidth\":0,\"ticks\":\"\"},\"type\":\"mesh3d\"}],\"parcoords\":[{\"line\":{\"colorbar\":{\"outlinewidth\":0,\"ticks\":\"\"}},\"type\":\"parcoords\"}],\"pie\":[{\"automargin\":true,\"type\":\"pie\"}],\"scatter\":[{\"marker\":{\"colorbar\":{\"outlinewidth\":0,\"ticks\":\"\"}},\"type\":\"scatter\"}],\"scatter3d\":[{\"line\":{\"colorbar\":{\"outlinewidth\":0,\"ticks\":\"\"}},\"marker\":{\"colorbar\":{\"outlinewidth\":0,\"ticks\":\"\"}},\"type\":\"scatter3d\"}],\"scattercarpet\":[{\"marker\":{\"colorbar\":{\"outlinewidth\":0,\"ticks\":\"\"}},\"type\":\"scattercarpet\"}],\"scattergeo\":[{\"marker\":{\"colorbar\":{\"outlinewidth\":0,\"ticks\":\"\"}},\"type\":\"scattergeo\"}],\"scattergl\":[{\"marker\":{\"colorbar\":{\"outlinewidth\":0,\"ticks\":\"\"}},\"type\":\"scattergl\"}],\"scattermapbox\":[{\"marker\":{\"colorbar\":{\"outlinewidth\":0,\"ticks\":\"\"}},\"type\":\"scattermapbox\"}],\"scatterpolar\":[{\"marker\":{\"colorbar\":{\"outlinewidth\":0,\"ticks\":\"\"}},\"type\":\"scatterpolar\"}],\"scatterpolargl\":[{\"marker\":{\"colorbar\":{\"outlinewidth\":0,\"ticks\":\"\"}},\"type\":\"scatterpolargl\"}],\"scatterternary\":[{\"marker\":{\"colorbar\":{\"outlinewidth\":0,\"ticks\":\"\"}},\"type\":\"scatterternary\"}],\"surface\":[{\"colorbar\":{\"outlinewidth\":0,\"ticks\":\"\"},\"colorscale\":[[0.0,\"#0d0887\"],[0.1111111111111111,\"#46039f\"],[0.2222222222222222,\"#7201a8\"],[0.3333333333333333,\"#9c179e\"],[0.4444444444444444,\"#bd3786\"],[0.5555555555555556,\"#d8576b\"],[0.6666666666666666,\"#ed7953\"],[0.7777777777777778,\"#fb9f3a\"],[0.8888888888888888,\"#fdca26\"],[1.0,\"#f0f921\"]],\"type\":\"surface\"}],\"table\":[{\"cells\":{\"fill\":{\"color\":\"#EBF0F8\"},\"line\":{\"color\":\"white\"}},\"header\":{\"fill\":{\"color\":\"#C8D4E3\"},\"line\":{\"color\":\"white\"}},\"type\":\"table\"}]},\"layout\":{\"annotationdefaults\":{\"arrowcolor\":\"#2a3f5f\",\"arrowhead\":0,\"arrowwidth\":1},\"autotypenumbers\":\"strict\",\"coloraxis\":{\"colorbar\":{\"outlinewidth\":0,\"ticks\":\"\"}},\"colorscale\":{\"diverging\":[[0,\"#8e0152\"],[0.1,\"#c51b7d\"],[0.2,\"#de77ae\"],[0.3,\"#f1b6da\"],[0.4,\"#fde0ef\"],[0.5,\"#f7f7f7\"],[0.6,\"#e6f5d0\"],[0.7,\"#b8e186\"],[0.8,\"#7fbc41\"],[0.9,\"#4d9221\"],[1,\"#276419\"]],\"sequential\":[[0.0,\"#0d0887\"],[0.1111111111111111,\"#46039f\"],[0.2222222222222222,\"#7201a8\"],[0.3333333333333333,\"#9c179e\"],[0.4444444444444444,\"#bd3786\"],[0.5555555555555556,\"#d8576b\"],[0.6666666666666666,\"#ed7953\"],[0.7777777777777778,\"#fb9f3a\"],[0.8888888888888888,\"#fdca26\"],[1.0,\"#f0f921\"]],\"sequentialminus\":[[0.0,\"#0d0887\"],[0.1111111111111111,\"#46039f\"],[0.2222222222222222,\"#7201a8\"],[0.3333333333333333,\"#9c179e\"],[0.4444444444444444,\"#bd3786\"],[0.5555555555555556,\"#d8576b\"],[0.6666666666666666,\"#ed7953\"],[0.7777777777777778,\"#fb9f3a\"],[0.8888888888888888,\"#fdca26\"],[1.0,\"#f0f921\"]]},\"colorway\":[\"#636efa\",\"#EF553B\",\"#00cc96\",\"#ab63fa\",\"#FFA15A\",\"#19d3f3\",\"#FF6692\",\"#B6E880\",\"#FF97FF\",\"#FECB52\"],\"font\":{\"color\":\"#2a3f5f\"},\"geo\":{\"bgcolor\":\"white\",\"lakecolor\":\"white\",\"landcolor\":\"#E5ECF6\",\"showlakes\":true,\"showland\":true,\"subunitcolor\":\"white\"},\"hoverlabel\":{\"align\":\"left\"},\"hovermode\":\"closest\",\"mapbox\":{\"style\":\"light\"},\"paper_bgcolor\":\"white\",\"plot_bgcolor\":\"#E5ECF6\",\"polar\":{\"angularaxis\":{\"gridcolor\":\"white\",\"linecolor\":\"white\",\"ticks\":\"\"},\"bgcolor\":\"#E5ECF6\",\"radialaxis\":{\"gridcolor\":\"white\",\"linecolor\":\"white\",\"ticks\":\"\"}},\"scene\":{\"xaxis\":{\"backgroundcolor\":\"#E5ECF6\",\"gridcolor\":\"white\",\"gridwidth\":2,\"linecolor\":\"white\",\"showbackground\":true,\"ticks\":\"\",\"zerolinecolor\":\"white\"},\"yaxis\":{\"backgroundcolor\":\"#E5ECF6\",\"gridcolor\":\"white\",\"gridwidth\":2,\"linecolor\":\"white\",\"showbackground\":true,\"ticks\":\"\",\"zerolinecolor\":\"white\"},\"zaxis\":{\"backgroundcolor\":\"#E5ECF6\",\"gridcolor\":\"white\",\"gridwidth\":2,\"linecolor\":\"white\",\"showbackground\":true,\"ticks\":\"\",\"zerolinecolor\":\"white\"}},\"shapedefaults\":{\"line\":{\"color\":\"#2a3f5f\"}},\"ternary\":{\"aaxis\":{\"gridcolor\":\"white\",\"linecolor\":\"white\",\"ticks\":\"\"},\"baxis\":{\"gridcolor\":\"white\",\"linecolor\":\"white\",\"ticks\":\"\"},\"bgcolor\":\"#E5ECF6\",\"caxis\":{\"gridcolor\":\"white\",\"linecolor\":\"white\",\"ticks\":\"\"}},\"title\":{\"x\":0.05},\"xaxis\":{\"automargin\":true,\"gridcolor\":\"white\",\"linecolor\":\"white\",\"ticks\":\"\",\"title\":{\"standoff\":15},\"zerolinecolor\":\"white\",\"zerolinewidth\":2},\"yaxis\":{\"automargin\":true,\"gridcolor\":\"white\",\"linecolor\":\"white\",\"ticks\":\"\",\"title\":{\"standoff\":15},\"zerolinecolor\":\"white\",\"zerolinewidth\":2}}},\"xaxis\":{\"anchor\":\"y\",\"domain\":[0.0,1.0],\"title\":{\"text\":\"Time (ps)\"}},\"yaxis\":{\"anchor\":\"x\",\"domain\":[0.0,1.0],\"title\":{\"text\":\"kJ/mol\"}},\"legend\":{\"tracegroupgap\":0},\"margin\":{\"t\":60},\"title\":{\"text\":\"GROMACS Energies\"},\"width\":700},                        {\"responsive\": true}                    ).then(function(){\n",
              "                            \n",
              "var gd = document.getElementById('d42efbe3-3a1d-41db-aa66-75c34d40717f');\n",
              "var x = new MutationObserver(function (mutations, observer) {{\n",
              "        var display = window.getComputedStyle(gd).display;\n",
              "        if (!display || display === 'none') {{\n",
              "            console.log([gd, 'removed!']);\n",
              "            Plotly.purge(gd);\n",
              "            observer.disconnect();\n",
              "        }}\n",
              "}});\n",
              "\n",
              "// Listen for the removal of the full notebook cells\n",
              "var notebookContainer = gd.closest('#notebook-container');\n",
              "if (notebookContainer) {{\n",
              "    x.observe(notebookContainer, {childList: true});\n",
              "}}\n",
              "\n",
              "// Listen for the clearing of the current output cell\n",
              "var outputEl = gd.closest('.output');\n",
              "if (outputEl) {{\n",
              "    x.observe(outputEl, {childList: true});\n",
              "}}\n",
              "\n",
              "                        })                };                            </script>        </div>\n",
              "</body>\n",
              "</html>"
            ]
          },
          "metadata": {}
        }
      ]
    },
    {
      "cell_type": "markdown",
      "source": [
        "## Equilibration"
      ],
      "metadata": {
        "id": "fHWEeEMCvwL7"
      }
    },
    {
      "cell_type": "markdown",
      "source": [
        "Upload the `nvt.mdp` file to Colab."
      ],
      "metadata": {
        "id": "oyJ0ZrRowlDw"
      }
    },
    {
      "cell_type": "code",
      "source": [
        "!chmod 755 -R /content/drive/MyDrive/IBM3202/gromacs-2021"
      ],
      "metadata": {
        "id": "wD-bgq0vxMtl"
      },
      "execution_count": null,
      "outputs": []
    },
    {
      "cell_type": "code",
      "source": [
        "%%bash\n",
        "source /content/drive/MyDrive/IBM3202/gromacs-2021/bin/GMXRC\n",
        "gmx grompp -f nvt.mdp -c em.gro -r em.gro -p protein.top -o nvt.tpr"
      ],
      "metadata": {
        "colab": {
          "base_uri": "https://localhost:8080/"
        },
        "id": "GACTYvWbwul-",
        "outputId": "77cdb5a7-be3f-486b-e4ae-17e84b671402"
      },
      "execution_count": null,
      "outputs": [
        {
          "output_type": "stream",
          "name": "stdout",
          "text": [
            "Setting the LD random seed to -403963915\n",
            "\n",
            "Generated 330891 of the 330891 non-bonded parameter combinations\n",
            "\n",
            "Generated 330891 of the 330891 1-4 parameter combinations\n",
            "\n",
            "Excluding 3 bonded neighbours molecule type 'Protein_chain_A'\n",
            "\n",
            "turning H bonds into constraints...\n",
            "\n",
            "Excluding 2 bonded neighbours molecule type 'SOL'\n",
            "\n",
            "turning H bonds into constraints...\n",
            "\n",
            "Excluding 1 bonded neighbours molecule type 'NA'\n",
            "\n",
            "turning H bonds into constraints...\n",
            "\n",
            "Setting gen_seed to -13296898\n",
            "\n",
            "Velocities were taken from a Maxwell distribution at 300 K\n",
            "Analysing residue names:\n",
            "There are:   104    Protein residues\n",
            "There are: 11127      Water residues\n",
            "There are:     3        Ion residues\n",
            "Analysing Protein...\n",
            "Analysing residues not classified as Protein/DNA/RNA/Water and splitting into groups...\n",
            "\n",
            "Determining Verlet buffer for a tolerance of 0.005 kJ/mol/ps at 300 K\n",
            "\n",
            "Calculated rlist for 1x1 atom pair-list as 1.035 nm, buffer size 0.035 nm\n",
            "\n",
            "Set rlist, assuming 4x4 atom pair-list, to 1.000 nm, buffer size 0.000 nm\n",
            "\n",
            "Note that mdrun will redetermine rlist based on the actual pair-list setup\n",
            "Calculating fourier grid dimensions for X Y Z\n",
            "Using a fourier grid of 48x48x48, spacing 0.148 0.148 0.148\n",
            "\n",
            "Estimate for the relative computational load of the PME mesh part: 0.23\n",
            "\n",
            "This run will generate roughly 84 Mb of data\n"
          ]
        },
        {
          "output_type": "stream",
          "name": "stderr",
          "text": [
            "                      :-) GROMACS - gmx grompp, 2021.5 (-:\n",
            "\n",
            "                            GROMACS is written by:\n",
            "     Andrey Alekseenko              Emile Apol              Rossen Apostolov     \n",
            "         Paul Bauer           Herman J.C. Berendsen           Par Bjelkmar       \n",
            "       Christian Blau           Viacheslav Bolnykh             Kevin Boyd        \n",
            "     Aldert van Buuren           Rudi van Drunen             Anton Feenstra      \n",
            "    Gilles Gouaillardet             Alan Gray               Gerrit Groenhof      \n",
            "       Anca Hamuraru            Vincent Hindriksen          M. Eric Irrgang      \n",
            "      Aleksei Iupinov           Christoph Junghans             Joe Jordan        \n",
            "    Dimitrios Karkoulis            Peter Kasson                Jiri Kraus        \n",
            "      Carsten Kutzner              Per Larsson              Justin A. Lemkul     \n",
            "       Viveca Lindahl            Magnus Lundborg             Erik Marklund       \n",
            "        Pascal Merz             Pieter Meulenhoff            Teemu Murtola       \n",
            "        Szilard Pall               Sander Pronk              Roland Schulz       \n",
            "       Michael Shirts            Alexey Shvetsov             Alfons Sijbers      \n",
            "       Peter Tieleman              Jon Vincent              Teemu Virolainen     \n",
            "     Christian Wennberg            Maarten Wolf              Artem Zhmurov       \n",
            "                           and the project leaders:\n",
            "        Mark Abraham, Berk Hess, Erik Lindahl, and David van der Spoel\n",
            "\n",
            "Copyright (c) 1991-2000, University of Groningen, The Netherlands.\n",
            "Copyright (c) 2001-2019, The GROMACS development team at\n",
            "Uppsala University, Stockholm University and\n",
            "the Royal Institute of Technology, Sweden.\n",
            "check out http://www.gromacs.org for more information.\n",
            "\n",
            "GROMACS is free software; you can redistribute it and/or modify it\n",
            "under the terms of the GNU Lesser General Public License\n",
            "as published by the Free Software Foundation; either version 2.1\n",
            "of the License, or (at your option) any later version.\n",
            "\n",
            "GROMACS:      gmx grompp, version 2021.5\n",
            "Executable:   /content/drive/MyDrive/IBM3202/gromacs-2021/bin/gmx\n",
            "Data prefix:  /content/drive/MyDrive/IBM3202/gromacs-2021\n",
            "Working dir:  /content/drive/MyDrive\n",
            "Command line:\n",
            "  gmx grompp -f nvt.mdp -c em.gro -r em.gro -p protein.top -o nvt.tpr\n",
            "\n",
            "Ignoring obsolete mdp entry 'title'\n",
            "Ignoring obsolete mdp entry 'ns_type'\n",
            "Generating 1-4 interactions: fudge = 0.5\n",
            "Number of degrees of freedom in T-Coupling group Protein is 4265.82\n",
            "Number of degrees of freedom in T-Coupling group non-Protein is 66768.18\n",
            "\n",
            "NOTE 1 [file nvt.mdp]:\n",
            "  Removing center of mass motion in the presence of position restraints\n",
            "  might cause artifacts. When you are using position restraints to\n",
            "  equilibrate a macro-molecule, the artifacts are usually negligible.\n",
            "\n",
            "\n",
            "There was 1 note\n",
            "\n",
            "GROMACS reminds you: \"Space May Be the Final Frontier, But It's Made in a Hollywood Basement\" (Red Hot Chili Peppers)\n",
            "\n"
          ]
        }
      ]
    },
    {
      "cell_type": "code",
      "source": [
        "%%bash\n",
        "source /content/drive/MyDrive/IBM3202/gromacs-2021/bin/GMXRC\n",
        "gmx mdrun -deffnm nvt\n",
        "\n",
        "# this took 1 min to run instead of 1 hr"
      ],
      "metadata": {
        "colab": {
          "base_uri": "https://localhost:8080/"
        },
        "id": "p_6Yz1XpxVIT",
        "outputId": "1406ca09-e396-4c35-bd89-972506aabebf"
      },
      "execution_count": null,
      "outputs": [
        {
          "output_type": "stream",
          "name": "stderr",
          "text": [
            "                      :-) GROMACS - gmx mdrun, 2021.5 (-:\n",
            "\n",
            "                            GROMACS is written by:\n",
            "     Andrey Alekseenko              Emile Apol              Rossen Apostolov     \n",
            "         Paul Bauer           Herman J.C. Berendsen           Par Bjelkmar       \n",
            "       Christian Blau           Viacheslav Bolnykh             Kevin Boyd        \n",
            "     Aldert van Buuren           Rudi van Drunen             Anton Feenstra      \n",
            "    Gilles Gouaillardet             Alan Gray               Gerrit Groenhof      \n",
            "       Anca Hamuraru            Vincent Hindriksen          M. Eric Irrgang      \n",
            "      Aleksei Iupinov           Christoph Junghans             Joe Jordan        \n",
            "    Dimitrios Karkoulis            Peter Kasson                Jiri Kraus        \n",
            "      Carsten Kutzner              Per Larsson              Justin A. Lemkul     \n",
            "       Viveca Lindahl            Magnus Lundborg             Erik Marklund       \n",
            "        Pascal Merz             Pieter Meulenhoff            Teemu Murtola       \n",
            "        Szilard Pall               Sander Pronk              Roland Schulz       \n",
            "       Michael Shirts            Alexey Shvetsov             Alfons Sijbers      \n",
            "       Peter Tieleman              Jon Vincent              Teemu Virolainen     \n",
            "     Christian Wennberg            Maarten Wolf              Artem Zhmurov       \n",
            "                           and the project leaders:\n",
            "        Mark Abraham, Berk Hess, Erik Lindahl, and David van der Spoel\n",
            "\n",
            "Copyright (c) 1991-2000, University of Groningen, The Netherlands.\n",
            "Copyright (c) 2001-2019, The GROMACS development team at\n",
            "Uppsala University, Stockholm University and\n",
            "the Royal Institute of Technology, Sweden.\n",
            "check out http://www.gromacs.org for more information.\n",
            "\n",
            "GROMACS is free software; you can redistribute it and/or modify it\n",
            "under the terms of the GNU Lesser General Public License\n",
            "as published by the Free Software Foundation; either version 2.1\n",
            "of the License, or (at your option) any later version.\n",
            "\n",
            "GROMACS:      gmx mdrun, version 2021.5\n",
            "Executable:   /content/drive/MyDrive/IBM3202/gromacs-2021/bin/gmx\n",
            "Data prefix:  /content/drive/MyDrive/IBM3202/gromacs-2021\n",
            "Working dir:  /content/drive/MyDrive\n",
            "Command line:\n",
            "  gmx mdrun -deffnm nvt\n",
            "\n",
            "Reading file nvt.tpr, VERSION 2021.5 (single precision)\n",
            "Changing nstlist from 10 to 100, rlist from 1 to 1.166\n",
            "\n",
            "1 GPU selected for this run.\n",
            "Mapping of GPU IDs to the 2 GPU tasks in the 1 rank on this node:\n",
            "  PP:0,PME:0\n",
            "PP tasks will do (non-perturbed) short-ranged interactions on the GPU\n",
            "PP task will update and constrain coordinates on the CPU\n",
            "PME tasks will do all aspects on the GPU\n",
            "Using 1 MPI thread\n",
            "Using 2 OpenMP threads \n",
            "\n",
            "starting mdrun 'Protein in water'\n",
            "50000 steps,    100.0 ps.\n",
            "\n",
            "Writing final coordinates.\n",
            "\n",
            "NOTE: 11 % of the run time was spent in pair search,\n",
            "      you might want to increase nstlist (this has no effect on accuracy)\n",
            "\n",
            "               Core t (s)   Wall t (s)        (%)\n",
            "       Time:      116.761       58.383      200.0\n",
            "                 (ns/day)    (hour/ns)\n",
            "Performance:      147.992        0.162\n",
            "\n",
            "GROMACS reminds you: \"I am driven by two main philosophies: know more today about the world than I knew yesterday and lessen the suffering of others. You'd be surprised how far that gets you.\" (Neil deGrasse Tyson)\n",
            "\n"
          ]
        }
      ]
    },
    {
      "cell_type": "markdown",
      "source": [
        "Plot the energy."
      ],
      "metadata": {
        "id": "1VSamgdR1LtA"
      }
    },
    {
      "cell_type": "code",
      "source": [
        "%%bash\n",
        "source /content/drive/MyDrive/IBM3202/gromacs-2021/bin/GMXRC\n",
        "gmx energy -f nvt.edr -o temperature.xvg  <<EOF\n",
        "16 0\n",
        "EOF"
      ],
      "metadata": {
        "colab": {
          "base_uri": "https://localhost:8080/"
        },
        "id": "Kq-T6im11OJ8",
        "outputId": "e09d3bfe-2fc9-4bea-8aa1-864a1a6b68ea"
      },
      "execution_count": null,
      "outputs": [
        {
          "output_type": "stream",
          "name": "stdout",
          "text": [
            "\n",
            "Statistics over 50001 steps [ 0.0000 through 100.0000 ps ], 1 data sets\n",
            "All statistics are over 501 points\n",
            "\n",
            "Energy                      Average   Err.Est.       RMSD  Tot-Drift\n",
            "-------------------------------------------------------------------------------\n",
            "Temperature                  300.08       0.19    2.90712   0.674016  (K)\n"
          ]
        },
        {
          "output_type": "stream",
          "name": "stderr",
          "text": [
            "                      :-) GROMACS - gmx energy, 2021.5 (-:\n",
            "\n",
            "                            GROMACS is written by:\n",
            "     Andrey Alekseenko              Emile Apol              Rossen Apostolov     \n",
            "         Paul Bauer           Herman J.C. Berendsen           Par Bjelkmar       \n",
            "       Christian Blau           Viacheslav Bolnykh             Kevin Boyd        \n",
            "     Aldert van Buuren           Rudi van Drunen             Anton Feenstra      \n",
            "    Gilles Gouaillardet             Alan Gray               Gerrit Groenhof      \n",
            "       Anca Hamuraru            Vincent Hindriksen          M. Eric Irrgang      \n",
            "      Aleksei Iupinov           Christoph Junghans             Joe Jordan        \n",
            "    Dimitrios Karkoulis            Peter Kasson                Jiri Kraus        \n",
            "      Carsten Kutzner              Per Larsson              Justin A. Lemkul     \n",
            "       Viveca Lindahl            Magnus Lundborg             Erik Marklund       \n",
            "        Pascal Merz             Pieter Meulenhoff            Teemu Murtola       \n",
            "        Szilard Pall               Sander Pronk              Roland Schulz       \n",
            "       Michael Shirts            Alexey Shvetsov             Alfons Sijbers      \n",
            "       Peter Tieleman              Jon Vincent              Teemu Virolainen     \n",
            "     Christian Wennberg            Maarten Wolf              Artem Zhmurov       \n",
            "                           and the project leaders:\n",
            "        Mark Abraham, Berk Hess, Erik Lindahl, and David van der Spoel\n",
            "\n",
            "Copyright (c) 1991-2000, University of Groningen, The Netherlands.\n",
            "Copyright (c) 2001-2019, The GROMACS development team at\n",
            "Uppsala University, Stockholm University and\n",
            "the Royal Institute of Technology, Sweden.\n",
            "check out http://www.gromacs.org for more information.\n",
            "\n",
            "GROMACS is free software; you can redistribute it and/or modify it\n",
            "under the terms of the GNU Lesser General Public License\n",
            "as published by the Free Software Foundation; either version 2.1\n",
            "of the License, or (at your option) any later version.\n",
            "\n",
            "GROMACS:      gmx energy, version 2021.5\n",
            "Executable:   /content/drive/MyDrive/IBM3202/gromacs-2021/bin/gmx\n",
            "Data prefix:  /content/drive/MyDrive/IBM3202/gromacs-2021\n",
            "Working dir:  /content/drive/MyDrive\n",
            "Command line:\n",
            "  gmx energy -f nvt.edr -o temperature.xvg\n",
            "\n",
            "Opened nvt.edr as single precision energy file\n",
            "\n",
            "Select the terms you want from the following list by\n",
            "selecting either (part of) the name or the number or a combination.\n",
            "End your selection with an empty line or a zero.\n",
            "-------------------------------------------------------------------\n",
            "  1  Bond             2  Angle            3  Proper-Dih.      4  Ryckaert-Bell.\n",
            "  5  LJ-14            6  Coulomb-14       7  LJ-(SR)          8  Disper.-corr. \n",
            "  9  Coulomb-(SR)    10  Coul.-recip.    11  Position-Rest.  12  Potential     \n",
            " 13  Kinetic-En.     14  Total-Energy    15  Conserved-En.   16  Temperature   \n",
            " 17  Pres.-DC        18  Pressure        19  Constr.-rmsd    20  Vir-XX        \n",
            " 21  Vir-XY          22  Vir-XZ          23  Vir-YX          24  Vir-YY        \n",
            " 25  Vir-YZ          26  Vir-ZX          27  Vir-ZY          28  Vir-ZZ        \n",
            " 29  Pres-XX         30  Pres-XY         31  Pres-XZ         32  Pres-YX       \n",
            " 33  Pres-YY         34  Pres-YZ         35  Pres-ZX         36  Pres-ZY       \n",
            " 37  Pres-ZZ         38  #Surf*SurfTen   39  T-Protein       40  T-non-Protein \n",
            " 41  Lamb-Protein                        42  Lamb-non-Protein                  \n",
            "\n",
            "\rReading energy frame      0 time    0.000         \rReading energy frame      1 time    1.000         \rReading energy frame      2 time    2.000         \rReading energy frame      3 time    3.000         \rReading energy frame      4 time    4.000         \rReading energy frame      5 time    5.000         \rReading energy frame      6 time    6.000         \rReading energy frame      7 time    7.000         \rReading energy frame      8 time    8.000         \rReading energy frame      9 time    9.000         \rReading energy frame     10 time   10.000         \rReading energy frame     11 time   11.000         \rReading energy frame     12 time   12.000         \rReading energy frame     13 time   13.000         \rReading energy frame     14 time   14.000         \rReading energy frame     15 time   15.000         \rReading energy frame     16 time   16.000         \rReading energy frame     17 time   17.000         \rReading energy frame     18 time   18.000         \rReading energy frame     19 time   19.000         \rReading energy frame     20 time   20.000         \rReading energy frame     30 time   30.000         \rReading energy frame     40 time   40.000         \rReading energy frame     50 time   50.000         \rReading energy frame     60 time   60.000         \rReading energy frame     70 time   70.000         \rReading energy frame     80 time   80.000         \rReading energy frame     90 time   90.000         \rReading energy frame    100 time  100.000         \rLast energy frame read 100 time  100.000         \n",
            "\n",
            "GROMACS reminds you: \"Hangout In the Suburbs If You've Got the Guts\" (Urban Dance Squad)\n",
            "\n"
          ]
        }
      ]
    },
    {
      "cell_type": "markdown",
      "source": [
        "Let's plot the temperature vs time. First we'll look at the file."
      ],
      "metadata": {
        "id": "bz8SsNTA3zCi"
      }
    },
    {
      "cell_type": "code",
      "source": [
        "# glance at the file\n",
        "!head -20 temperature.xvg"
      ],
      "metadata": {
        "colab": {
          "base_uri": "https://localhost:8080/"
        },
        "id": "jI30SDnU35US",
        "outputId": "2f4924ef-69ef-4367-a076-604f3099643b"
      },
      "execution_count": null,
      "outputs": [
        {
          "output_type": "stream",
          "name": "stdout",
          "text": [
            "# This file was created Thu Mar 31 16:37:17 2022\n",
            "# Created by:\n",
            "#                      :-) GROMACS - gmx energy, 2021.5 (-:\n",
            "# \n",
            "# Executable:   /content/drive/MyDrive/IBM3202/gromacs-2021/bin/gmx\n",
            "# Data prefix:  /content/drive/MyDrive/IBM3202/gromacs-2021\n",
            "# Working dir:  /content/drive/MyDrive\n",
            "# Command line:\n",
            "#   gmx energy -f nvt.edr -o temperature.xvg\n",
            "# gmx energy is part of G R O M A C S:\n",
            "#\n",
            "# GROup of MAchos and Cynical Suckers\n",
            "#\n",
            "@    title \"GROMACS Energies\"\n",
            "@    xaxis  label \"Time (ps)\"\n",
            "@    yaxis  label \"(K)\"\n",
            "@TYPE xy\n",
            "@ view 0.15, 0.15, 0.75, 0.85\n",
            "@ legend on\n",
            "@ legend box on\n"
          ]
        }
      ]
    },
    {
      "cell_type": "code",
      "source": [
        "# plot the graph\n",
        "b = np.loadtxt('temperature.xvg',comments=['#', '@']) # strip out the comments\n",
        "header = [\"x\", \"y\"] # add headers to columns\n",
        "frame2 = pd.DataFrame(b, columns=header)\n",
        "\n",
        "fig2 = px.line(frame2, x=\"x\", y=\"y\")\n",
        "fig2.update_xaxes(title_text=\"Time (ps)\") # label x-axis\n",
        "fig2.update_yaxes(title_text=\"K\") # label y-axis\n",
        "fig2.update_layout(width=700, title_text=\"GROMACS Energies\")\n",
        "fig2.show()"
      ],
      "metadata": {
        "colab": {
          "base_uri": "https://localhost:8080/",
          "height": 542
        },
        "id": "6s6SdYel5OU5",
        "outputId": "ee052cde-2907-4a41-da14-c1733de2d9e6"
      },
      "execution_count": null,
      "outputs": [
        {
          "output_type": "display_data",
          "data": {
            "text/html": [
              "<html>\n",
              "<head><meta charset=\"utf-8\" /></head>\n",
              "<body>\n",
              "    <div>            <script src=\"https://cdnjs.cloudflare.com/ajax/libs/mathjax/2.7.5/MathJax.js?config=TeX-AMS-MML_SVG\"></script><script type=\"text/javascript\">if (window.MathJax) {MathJax.Hub.Config({SVG: {font: \"STIX-Web\"}});}</script>                <script type=\"text/javascript\">window.PlotlyConfig = {MathJaxConfig: 'local'};</script>\n",
              "        <script src=\"https://cdn.plot.ly/plotly-2.8.3.min.js\"></script>                <div id=\"a59410a0-25e3-4e62-960e-aa0764ebc6fd\" class=\"plotly-graph-div\" style=\"height:525px; width:700px;\"></div>            <script type=\"text/javascript\">                                    window.PLOTLYENV=window.PLOTLYENV || {};                                    if (document.getElementById(\"a59410a0-25e3-4e62-960e-aa0764ebc6fd\")) {                    Plotly.newPlot(                        \"a59410a0-25e3-4e62-960e-aa0764ebc6fd\",                        [{\"hovertemplate\":\"x=%{x}<br>y=%{y}<extra></extra>\",\"legendgroup\":\"\",\"line\":{\"color\":\"#636efa\",\"dash\":\"solid\"},\"marker\":{\"symbol\":\"circle\"},\"mode\":\"lines\",\"name\":\"\",\"orientation\":\"v\",\"showlegend\":false,\"x\":[0.0,1.0,2.0,3.0,4.0,5.0,6.0,7.0,8.0,9.0,10.0,11.0,12.0,13.0,14.0,15.0,16.0,17.0,18.0,19.0,20.0,21.0,22.0,23.0,24.0,25.0,26.0,27.0,28.0,29.0,30.0,31.0,32.0,33.0,34.0,35.0,36.0,37.0,38.0,39.0,40.0,41.0,42.0,43.0,44.0,45.0,46.0,47.0,48.0,49.0,50.0,51.0,52.0,53.0,54.0,55.0,56.0,57.0,58.0,59.0,60.0,61.0,62.0,63.0,64.0,65.0,66.0,67.0,68.0,69.0,70.0,71.0,72.0,73.0,74.0,75.0,76.0,77.0,78.0,79.0,80.0,81.0,82.0,83.0,84.0,85.0,86.0,87.0,88.0,89.0,90.0,91.0,92.0,93.0,94.0,95.0,96.0,97.0,98.0,99.0,100.0],\"xaxis\":\"x\",\"y\":[301.447113,298.846924,300.638458,300.049988,301.341644,299.606445,300.077179,299.334534,298.969757,299.520966,301.891357,301.424194,297.719788,300.120575,299.481384,301.712128,301.685974,302.401062,301.787842,299.0784,297.811432,298.352783,301.35321,303.918457,299.194733,300.329956,300.799774,298.26355,299.439789,302.984222,300.423676,299.575073,302.125671,302.197876,297.962158,301.862152,301.058014,302.375824,299.469452,299.770081,299.721466,301.414307,298.942871,298.123901,300.115906,297.164185,300.648468,300.950653,296.603088,300.221344,296.991943,301.197571,300.087128,300.697052,301.636475,301.143921,301.36087,300.568787,301.18399,299.802795,303.18869,301.741516,297.858673,300.987091,301.400421,300.99939,302.346375,299.494598,299.465485,299.373505,297.51413,304.195953,300.606781,299.007141,300.822784,301.698303,301.026459,296.9487,300.334656,297.748138,301.753265,300.400452,302.31485,301.418365,298.540649,300.605927,299.878204,298.686798,301.946808,297.460175,299.401794,298.663452,298.635498,299.199127,301.843567,300.352295,302.981171,301.530853,300.716064,297.436737,298.464722],\"yaxis\":\"y\",\"type\":\"scatter\"}],                        {\"template\":{\"data\":{\"bar\":[{\"error_x\":{\"color\":\"#2a3f5f\"},\"error_y\":{\"color\":\"#2a3f5f\"},\"marker\":{\"line\":{\"color\":\"#E5ECF6\",\"width\":0.5},\"pattern\":{\"fillmode\":\"overlay\",\"size\":10,\"solidity\":0.2}},\"type\":\"bar\"}],\"barpolar\":[{\"marker\":{\"line\":{\"color\":\"#E5ECF6\",\"width\":0.5},\"pattern\":{\"fillmode\":\"overlay\",\"size\":10,\"solidity\":0.2}},\"type\":\"barpolar\"}],\"carpet\":[{\"aaxis\":{\"endlinecolor\":\"#2a3f5f\",\"gridcolor\":\"white\",\"linecolor\":\"white\",\"minorgridcolor\":\"white\",\"startlinecolor\":\"#2a3f5f\"},\"baxis\":{\"endlinecolor\":\"#2a3f5f\",\"gridcolor\":\"white\",\"linecolor\":\"white\",\"minorgridcolor\":\"white\",\"startlinecolor\":\"#2a3f5f\"},\"type\":\"carpet\"}],\"choropleth\":[{\"colorbar\":{\"outlinewidth\":0,\"ticks\":\"\"},\"type\":\"choropleth\"}],\"contour\":[{\"colorbar\":{\"outlinewidth\":0,\"ticks\":\"\"},\"colorscale\":[[0.0,\"#0d0887\"],[0.1111111111111111,\"#46039f\"],[0.2222222222222222,\"#7201a8\"],[0.3333333333333333,\"#9c179e\"],[0.4444444444444444,\"#bd3786\"],[0.5555555555555556,\"#d8576b\"],[0.6666666666666666,\"#ed7953\"],[0.7777777777777778,\"#fb9f3a\"],[0.8888888888888888,\"#fdca26\"],[1.0,\"#f0f921\"]],\"type\":\"contour\"}],\"contourcarpet\":[{\"colorbar\":{\"outlinewidth\":0,\"ticks\":\"\"},\"type\":\"contourcarpet\"}],\"heatmap\":[{\"colorbar\":{\"outlinewidth\":0,\"ticks\":\"\"},\"colorscale\":[[0.0,\"#0d0887\"],[0.1111111111111111,\"#46039f\"],[0.2222222222222222,\"#7201a8\"],[0.3333333333333333,\"#9c179e\"],[0.4444444444444444,\"#bd3786\"],[0.5555555555555556,\"#d8576b\"],[0.6666666666666666,\"#ed7953\"],[0.7777777777777778,\"#fb9f3a\"],[0.8888888888888888,\"#fdca26\"],[1.0,\"#f0f921\"]],\"type\":\"heatmap\"}],\"heatmapgl\":[{\"colorbar\":{\"outlinewidth\":0,\"ticks\":\"\"},\"colorscale\":[[0.0,\"#0d0887\"],[0.1111111111111111,\"#46039f\"],[0.2222222222222222,\"#7201a8\"],[0.3333333333333333,\"#9c179e\"],[0.4444444444444444,\"#bd3786\"],[0.5555555555555556,\"#d8576b\"],[0.6666666666666666,\"#ed7953\"],[0.7777777777777778,\"#fb9f3a\"],[0.8888888888888888,\"#fdca26\"],[1.0,\"#f0f921\"]],\"type\":\"heatmapgl\"}],\"histogram\":[{\"marker\":{\"pattern\":{\"fillmode\":\"overlay\",\"size\":10,\"solidity\":0.2}},\"type\":\"histogram\"}],\"histogram2d\":[{\"colorbar\":{\"outlinewidth\":0,\"ticks\":\"\"},\"colorscale\":[[0.0,\"#0d0887\"],[0.1111111111111111,\"#46039f\"],[0.2222222222222222,\"#7201a8\"],[0.3333333333333333,\"#9c179e\"],[0.4444444444444444,\"#bd3786\"],[0.5555555555555556,\"#d8576b\"],[0.6666666666666666,\"#ed7953\"],[0.7777777777777778,\"#fb9f3a\"],[0.8888888888888888,\"#fdca26\"],[1.0,\"#f0f921\"]],\"type\":\"histogram2d\"}],\"histogram2dcontour\":[{\"colorbar\":{\"outlinewidth\":0,\"ticks\":\"\"},\"colorscale\":[[0.0,\"#0d0887\"],[0.1111111111111111,\"#46039f\"],[0.2222222222222222,\"#7201a8\"],[0.3333333333333333,\"#9c179e\"],[0.4444444444444444,\"#bd3786\"],[0.5555555555555556,\"#d8576b\"],[0.6666666666666666,\"#ed7953\"],[0.7777777777777778,\"#fb9f3a\"],[0.8888888888888888,\"#fdca26\"],[1.0,\"#f0f921\"]],\"type\":\"histogram2dcontour\"}],\"mesh3d\":[{\"colorbar\":{\"outlinewidth\":0,\"ticks\":\"\"},\"type\":\"mesh3d\"}],\"parcoords\":[{\"line\":{\"colorbar\":{\"outlinewidth\":0,\"ticks\":\"\"}},\"type\":\"parcoords\"}],\"pie\":[{\"automargin\":true,\"type\":\"pie\"}],\"scatter\":[{\"marker\":{\"colorbar\":{\"outlinewidth\":0,\"ticks\":\"\"}},\"type\":\"scatter\"}],\"scatter3d\":[{\"line\":{\"colorbar\":{\"outlinewidth\":0,\"ticks\":\"\"}},\"marker\":{\"colorbar\":{\"outlinewidth\":0,\"ticks\":\"\"}},\"type\":\"scatter3d\"}],\"scattercarpet\":[{\"marker\":{\"colorbar\":{\"outlinewidth\":0,\"ticks\":\"\"}},\"type\":\"scattercarpet\"}],\"scattergeo\":[{\"marker\":{\"colorbar\":{\"outlinewidth\":0,\"ticks\":\"\"}},\"type\":\"scattergeo\"}],\"scattergl\":[{\"marker\":{\"colorbar\":{\"outlinewidth\":0,\"ticks\":\"\"}},\"type\":\"scattergl\"}],\"scattermapbox\":[{\"marker\":{\"colorbar\":{\"outlinewidth\":0,\"ticks\":\"\"}},\"type\":\"scattermapbox\"}],\"scatterpolar\":[{\"marker\":{\"colorbar\":{\"outlinewidth\":0,\"ticks\":\"\"}},\"type\":\"scatterpolar\"}],\"scatterpolargl\":[{\"marker\":{\"colorbar\":{\"outlinewidth\":0,\"ticks\":\"\"}},\"type\":\"scatterpolargl\"}],\"scatterternary\":[{\"marker\":{\"colorbar\":{\"outlinewidth\":0,\"ticks\":\"\"}},\"type\":\"scatterternary\"}],\"surface\":[{\"colorbar\":{\"outlinewidth\":0,\"ticks\":\"\"},\"colorscale\":[[0.0,\"#0d0887\"],[0.1111111111111111,\"#46039f\"],[0.2222222222222222,\"#7201a8\"],[0.3333333333333333,\"#9c179e\"],[0.4444444444444444,\"#bd3786\"],[0.5555555555555556,\"#d8576b\"],[0.6666666666666666,\"#ed7953\"],[0.7777777777777778,\"#fb9f3a\"],[0.8888888888888888,\"#fdca26\"],[1.0,\"#f0f921\"]],\"type\":\"surface\"}],\"table\":[{\"cells\":{\"fill\":{\"color\":\"#EBF0F8\"},\"line\":{\"color\":\"white\"}},\"header\":{\"fill\":{\"color\":\"#C8D4E3\"},\"line\":{\"color\":\"white\"}},\"type\":\"table\"}]},\"layout\":{\"annotationdefaults\":{\"arrowcolor\":\"#2a3f5f\",\"arrowhead\":0,\"arrowwidth\":1},\"autotypenumbers\":\"strict\",\"coloraxis\":{\"colorbar\":{\"outlinewidth\":0,\"ticks\":\"\"}},\"colorscale\":{\"diverging\":[[0,\"#8e0152\"],[0.1,\"#c51b7d\"],[0.2,\"#de77ae\"],[0.3,\"#f1b6da\"],[0.4,\"#fde0ef\"],[0.5,\"#f7f7f7\"],[0.6,\"#e6f5d0\"],[0.7,\"#b8e186\"],[0.8,\"#7fbc41\"],[0.9,\"#4d9221\"],[1,\"#276419\"]],\"sequential\":[[0.0,\"#0d0887\"],[0.1111111111111111,\"#46039f\"],[0.2222222222222222,\"#7201a8\"],[0.3333333333333333,\"#9c179e\"],[0.4444444444444444,\"#bd3786\"],[0.5555555555555556,\"#d8576b\"],[0.6666666666666666,\"#ed7953\"],[0.7777777777777778,\"#fb9f3a\"],[0.8888888888888888,\"#fdca26\"],[1.0,\"#f0f921\"]],\"sequentialminus\":[[0.0,\"#0d0887\"],[0.1111111111111111,\"#46039f\"],[0.2222222222222222,\"#7201a8\"],[0.3333333333333333,\"#9c179e\"],[0.4444444444444444,\"#bd3786\"],[0.5555555555555556,\"#d8576b\"],[0.6666666666666666,\"#ed7953\"],[0.7777777777777778,\"#fb9f3a\"],[0.8888888888888888,\"#fdca26\"],[1.0,\"#f0f921\"]]},\"colorway\":[\"#636efa\",\"#EF553B\",\"#00cc96\",\"#ab63fa\",\"#FFA15A\",\"#19d3f3\",\"#FF6692\",\"#B6E880\",\"#FF97FF\",\"#FECB52\"],\"font\":{\"color\":\"#2a3f5f\"},\"geo\":{\"bgcolor\":\"white\",\"lakecolor\":\"white\",\"landcolor\":\"#E5ECF6\",\"showlakes\":true,\"showland\":true,\"subunitcolor\":\"white\"},\"hoverlabel\":{\"align\":\"left\"},\"hovermode\":\"closest\",\"mapbox\":{\"style\":\"light\"},\"paper_bgcolor\":\"white\",\"plot_bgcolor\":\"#E5ECF6\",\"polar\":{\"angularaxis\":{\"gridcolor\":\"white\",\"linecolor\":\"white\",\"ticks\":\"\"},\"bgcolor\":\"#E5ECF6\",\"radialaxis\":{\"gridcolor\":\"white\",\"linecolor\":\"white\",\"ticks\":\"\"}},\"scene\":{\"xaxis\":{\"backgroundcolor\":\"#E5ECF6\",\"gridcolor\":\"white\",\"gridwidth\":2,\"linecolor\":\"white\",\"showbackground\":true,\"ticks\":\"\",\"zerolinecolor\":\"white\"},\"yaxis\":{\"backgroundcolor\":\"#E5ECF6\",\"gridcolor\":\"white\",\"gridwidth\":2,\"linecolor\":\"white\",\"showbackground\":true,\"ticks\":\"\",\"zerolinecolor\":\"white\"},\"zaxis\":{\"backgroundcolor\":\"#E5ECF6\",\"gridcolor\":\"white\",\"gridwidth\":2,\"linecolor\":\"white\",\"showbackground\":true,\"ticks\":\"\",\"zerolinecolor\":\"white\"}},\"shapedefaults\":{\"line\":{\"color\":\"#2a3f5f\"}},\"ternary\":{\"aaxis\":{\"gridcolor\":\"white\",\"linecolor\":\"white\",\"ticks\":\"\"},\"baxis\":{\"gridcolor\":\"white\",\"linecolor\":\"white\",\"ticks\":\"\"},\"bgcolor\":\"#E5ECF6\",\"caxis\":{\"gridcolor\":\"white\",\"linecolor\":\"white\",\"ticks\":\"\"}},\"title\":{\"x\":0.05},\"xaxis\":{\"automargin\":true,\"gridcolor\":\"white\",\"linecolor\":\"white\",\"ticks\":\"\",\"title\":{\"standoff\":15},\"zerolinecolor\":\"white\",\"zerolinewidth\":2},\"yaxis\":{\"automargin\":true,\"gridcolor\":\"white\",\"linecolor\":\"white\",\"ticks\":\"\",\"title\":{\"standoff\":15},\"zerolinecolor\":\"white\",\"zerolinewidth\":2}}},\"xaxis\":{\"anchor\":\"y\",\"domain\":[0.0,1.0],\"title\":{\"text\":\"Time (ps)\"}},\"yaxis\":{\"anchor\":\"x\",\"domain\":[0.0,1.0],\"title\":{\"text\":\"K\"}},\"legend\":{\"tracegroupgap\":0},\"margin\":{\"t\":60},\"title\":{\"text\":\"GROMACS Energies\"},\"width\":700},                        {\"responsive\": true}                    ).then(function(){\n",
              "                            \n",
              "var gd = document.getElementById('a59410a0-25e3-4e62-960e-aa0764ebc6fd');\n",
              "var x = new MutationObserver(function (mutations, observer) {{\n",
              "        var display = window.getComputedStyle(gd).display;\n",
              "        if (!display || display === 'none') {{\n",
              "            console.log([gd, 'removed!']);\n",
              "            Plotly.purge(gd);\n",
              "            observer.disconnect();\n",
              "        }}\n",
              "}});\n",
              "\n",
              "// Listen for the removal of the full notebook cells\n",
              "var notebookContainer = gd.closest('#notebook-container');\n",
              "if (notebookContainer) {{\n",
              "    x.observe(notebookContainer, {childList: true});\n",
              "}}\n",
              "\n",
              "// Listen for the clearing of the current output cell\n",
              "var outputEl = gd.closest('.output');\n",
              "if (outputEl) {{\n",
              "    x.observe(outputEl, {childList: true});\n",
              "}}\n",
              "\n",
              "                        })                };                            </script>        </div>\n",
              "</body>\n",
              "</html>"
            ]
          },
          "metadata": {}
        }
      ]
    },
    {
      "cell_type": "markdown",
      "source": [
        "## Equilibration Part 2"
      ],
      "metadata": {
        "id": "bKW6NIj25vHp"
      }
    },
    {
      "cell_type": "markdown",
      "source": [
        ""
      ],
      "metadata": {
        "id": "Uz1g5ois5zIW"
      }
    },
    {
      "cell_type": "code",
      "source": [
        "%%bash\n",
        "source /content/drive/MyDrive/IBM3202/gromacs-2021/bin/GMXRC\n",
        "gmx grompp -f npt.mdp -c nvt.gro -r nvt.gro -t nvt.cpt -p protein.top -o npt.tpr"
      ],
      "metadata": {
        "colab": {
          "base_uri": "https://localhost:8080/"
        },
        "id": "Xmj7aKmx6jSP",
        "outputId": "e9c65786-b278-4bbf-d563-e49081b58120"
      },
      "execution_count": null,
      "outputs": [
        {
          "output_type": "stream",
          "name": "stdout",
          "text": [
            "Setting the LD random seed to -1691751028\n",
            "\n",
            "Generated 330891 of the 330891 non-bonded parameter combinations\n",
            "\n",
            "Generated 330891 of the 330891 1-4 parameter combinations\n",
            "\n",
            "Excluding 3 bonded neighbours molecule type 'Protein_chain_A'\n",
            "\n",
            "turning H bonds into constraints...\n",
            "\n",
            "Excluding 2 bonded neighbours molecule type 'SOL'\n",
            "\n",
            "turning H bonds into constraints...\n",
            "\n",
            "Excluding 1 bonded neighbours molecule type 'NA'\n",
            "\n",
            "turning H bonds into constraints...\n",
            "\n",
            "The center of mass of the position restraint coord's is  3.566  3.563  3.553\n",
            "\n",
            "The center of mass of the position restraint coord's is  3.566  3.563  3.553\n",
            "Analysing residue names:\n",
            "There are:   104    Protein residues\n",
            "There are: 11127      Water residues\n",
            "There are:     3        Ion residues\n",
            "Analysing Protein...\n",
            "Analysing residues not classified as Protein/DNA/RNA/Water and splitting into groups...\n",
            "\n",
            "Determining Verlet buffer for a tolerance of 0.005 kJ/mol/ps at 300 K\n",
            "\n",
            "Calculated rlist for 1x1 atom pair-list as 1.035 nm, buffer size 0.035 nm\n",
            "\n",
            "Set rlist, assuming 4x4 atom pair-list, to 1.000 nm, buffer size 0.000 nm\n",
            "\n",
            "Note that mdrun will redetermine rlist based on the actual pair-list setup\n",
            "\n",
            "Reading Coordinates, Velocities and Box size from old trajectory\n",
            "\n",
            "Will read whole trajectory\n",
            "\n",
            "Using frame at t = 100 ps\n",
            "\n",
            "Starting time for run is 0 ps\n",
            "Calculating fourier grid dimensions for X Y Z\n",
            "Using a fourier grid of 48x48x48, spacing 0.148 0.148 0.148\n",
            "\n",
            "Estimate for the relative computational load of the PME mesh part: 0.23\n",
            "\n",
            "This run will generate roughly 84 Mb of data\n"
          ]
        },
        {
          "output_type": "stream",
          "name": "stderr",
          "text": [
            "                      :-) GROMACS - gmx grompp, 2021.5 (-:\n",
            "\n",
            "                            GROMACS is written by:\n",
            "     Andrey Alekseenko              Emile Apol              Rossen Apostolov     \n",
            "         Paul Bauer           Herman J.C. Berendsen           Par Bjelkmar       \n",
            "       Christian Blau           Viacheslav Bolnykh             Kevin Boyd        \n",
            "     Aldert van Buuren           Rudi van Drunen             Anton Feenstra      \n",
            "    Gilles Gouaillardet             Alan Gray               Gerrit Groenhof      \n",
            "       Anca Hamuraru            Vincent Hindriksen          M. Eric Irrgang      \n",
            "      Aleksei Iupinov           Christoph Junghans             Joe Jordan        \n",
            "    Dimitrios Karkoulis            Peter Kasson                Jiri Kraus        \n",
            "      Carsten Kutzner              Per Larsson              Justin A. Lemkul     \n",
            "       Viveca Lindahl            Magnus Lundborg             Erik Marklund       \n",
            "        Pascal Merz             Pieter Meulenhoff            Teemu Murtola       \n",
            "        Szilard Pall               Sander Pronk              Roland Schulz       \n",
            "       Michael Shirts            Alexey Shvetsov             Alfons Sijbers      \n",
            "       Peter Tieleman              Jon Vincent              Teemu Virolainen     \n",
            "     Christian Wennberg            Maarten Wolf              Artem Zhmurov       \n",
            "                           and the project leaders:\n",
            "        Mark Abraham, Berk Hess, Erik Lindahl, and David van der Spoel\n",
            "\n",
            "Copyright (c) 1991-2000, University of Groningen, The Netherlands.\n",
            "Copyright (c) 2001-2019, The GROMACS development team at\n",
            "Uppsala University, Stockholm University and\n",
            "the Royal Institute of Technology, Sweden.\n",
            "check out http://www.gromacs.org for more information.\n",
            "\n",
            "GROMACS is free software; you can redistribute it and/or modify it\n",
            "under the terms of the GNU Lesser General Public License\n",
            "as published by the Free Software Foundation; either version 2.1\n",
            "of the License, or (at your option) any later version.\n",
            "\n",
            "GROMACS:      gmx grompp, version 2021.5\n",
            "Executable:   /content/drive/MyDrive/IBM3202/gromacs-2021/bin/gmx\n",
            "Data prefix:  /content/drive/MyDrive/IBM3202/gromacs-2021\n",
            "Working dir:  /content/drive/MyDrive\n",
            "Command line:\n",
            "  gmx grompp -f npt.mdp -c nvt.gro -r nvt.gro -t nvt.cpt -p protein.top -o npt.tpr\n",
            "\n",
            "Ignoring obsolete mdp entry 'title'\n",
            "Ignoring obsolete mdp entry 'ns_type'\n",
            "Generating 1-4 interactions: fudge = 0.5\n",
            "\n",
            "NOTE 1 [file protein.top, line 15881]:\n",
            "  You are combining position restraints with Parrinello-Rahman pressure\n",
            "  coupling, which can lead to instabilities. If you really want to combine\n",
            "  position restraints with pressure coupling, we suggest to use Berendsen\n",
            "  pressure coupling instead.\n",
            "\n",
            "Number of degrees of freedom in T-Coupling group Protein is 4265.82\n",
            "Number of degrees of freedom in T-Coupling group non-Protein is 66768.18\n",
            "\n",
            "NOTE 2 [file npt.mdp]:\n",
            "  Removing center of mass motion in the presence of position restraints\n",
            "  might cause artifacts. When you are using position restraints to\n",
            "  equilibrate a macro-molecule, the artifacts are usually negligible.\n",
            "\n",
            "\rLast frame         -1 time  100.000   \n",
            "\n",
            "There were 2 notes\n",
            "\n",
            "GROMACS reminds you: \"My Heart is Just a Muscle In a Cavity\" (F. Black)\n",
            "\n"
          ]
        }
      ]
    },
    {
      "cell_type": "code",
      "source": [
        "%%bash\n",
        "source /content/drive/MyDrive/IBM3202/gromacs-2021/bin/GMXRC\n",
        "gmx mdrun -deffnm npt"
      ],
      "metadata": {
        "colab": {
          "base_uri": "https://localhost:8080/"
        },
        "id": "WJJipBgN6tnh",
        "outputId": "9d349ffc-d202-4d11-985a-37c04f3ede63"
      },
      "execution_count": null,
      "outputs": [
        {
          "output_type": "stream",
          "name": "stderr",
          "text": [
            "                      :-) GROMACS - gmx mdrun, 2021.5 (-:\n",
            "\n",
            "                            GROMACS is written by:\n",
            "     Andrey Alekseenko              Emile Apol              Rossen Apostolov     \n",
            "         Paul Bauer           Herman J.C. Berendsen           Par Bjelkmar       \n",
            "       Christian Blau           Viacheslav Bolnykh             Kevin Boyd        \n",
            "     Aldert van Buuren           Rudi van Drunen             Anton Feenstra      \n",
            "    Gilles Gouaillardet             Alan Gray               Gerrit Groenhof      \n",
            "       Anca Hamuraru            Vincent Hindriksen          M. Eric Irrgang      \n",
            "      Aleksei Iupinov           Christoph Junghans             Joe Jordan        \n",
            "    Dimitrios Karkoulis            Peter Kasson                Jiri Kraus        \n",
            "      Carsten Kutzner              Per Larsson              Justin A. Lemkul     \n",
            "       Viveca Lindahl            Magnus Lundborg             Erik Marklund       \n",
            "        Pascal Merz             Pieter Meulenhoff            Teemu Murtola       \n",
            "        Szilard Pall               Sander Pronk              Roland Schulz       \n",
            "       Michael Shirts            Alexey Shvetsov             Alfons Sijbers      \n",
            "       Peter Tieleman              Jon Vincent              Teemu Virolainen     \n",
            "     Christian Wennberg            Maarten Wolf              Artem Zhmurov       \n",
            "                           and the project leaders:\n",
            "        Mark Abraham, Berk Hess, Erik Lindahl, and David van der Spoel\n",
            "\n",
            "Copyright (c) 1991-2000, University of Groningen, The Netherlands.\n",
            "Copyright (c) 2001-2019, The GROMACS development team at\n",
            "Uppsala University, Stockholm University and\n",
            "the Royal Institute of Technology, Sweden.\n",
            "check out http://www.gromacs.org for more information.\n",
            "\n",
            "GROMACS is free software; you can redistribute it and/or modify it\n",
            "under the terms of the GNU Lesser General Public License\n",
            "as published by the Free Software Foundation; either version 2.1\n",
            "of the License, or (at your option) any later version.\n",
            "\n",
            "GROMACS:      gmx mdrun, version 2021.5\n",
            "Executable:   /content/drive/MyDrive/IBM3202/gromacs-2021/bin/gmx\n",
            "Data prefix:  /content/drive/MyDrive/IBM3202/gromacs-2021\n",
            "Working dir:  /content/drive/MyDrive\n",
            "Command line:\n",
            "  gmx mdrun -deffnm npt\n",
            "\n",
            "Reading file npt.tpr, VERSION 2021.5 (single precision)\n",
            "Changing nstlist from 10 to 100, rlist from 1 to 1.166\n",
            "\n",
            "1 GPU selected for this run.\n",
            "Mapping of GPU IDs to the 2 GPU tasks in the 1 rank on this node:\n",
            "  PP:0,PME:0\n",
            "PP tasks will do (non-perturbed) short-ranged interactions on the GPU\n",
            "PP task will update and constrain coordinates on the CPU\n",
            "PME tasks will do all aspects on the GPU\n",
            "Using 1 MPI thread\n",
            "Using 2 OpenMP threads \n",
            "\n",
            "starting mdrun 'Protein in water'\n",
            "50000 steps,    100.0 ps.\n",
            "\n",
            "Writing final coordinates.\n",
            "\n",
            "               Core t (s)   Wall t (s)        (%)\n",
            "       Time:      132.076       66.051      200.0\n",
            "                 (ns/day)    (hour/ns)\n",
            "Performance:      130.811        0.183\n",
            "\n",
            "GROMACS reminds you: \"The Poodle Chews It\" (F. Zappa)\n",
            "\n"
          ]
        }
      ]
    },
    {
      "cell_type": "code",
      "source": [
        "%%bash\n",
        "source /content/drive/MyDrive/IBM3202/gromacs-2021/bin/GMXRC\n",
        "gmx energy -f npt.edr -o pressure.xvg <<EOF\n",
        "18 0\n",
        "EOF"
      ],
      "metadata": {
        "colab": {
          "base_uri": "https://localhost:8080/"
        },
        "id": "oMW9p2P28MQw",
        "outputId": "e10d9b8d-382e-417c-cda9-c889adcb310d"
      },
      "execution_count": null,
      "outputs": [
        {
          "output_type": "stream",
          "name": "stdout",
          "text": [
            "\n",
            "Statistics over 50001 steps [ 0.0000 through 100.0000 ps ], 1 data sets\n",
            "All statistics are over 501 points\n",
            "\n",
            "Energy                      Average   Err.Est.       RMSD  Tot-Drift\n",
            "-------------------------------------------------------------------------------\n",
            "Pressure                   0.898809        4.4    164.802   -1.57823  (bar)\n"
          ]
        },
        {
          "output_type": "stream",
          "name": "stderr",
          "text": [
            "                      :-) GROMACS - gmx energy, 2021.5 (-:\n",
            "\n",
            "                            GROMACS is written by:\n",
            "     Andrey Alekseenko              Emile Apol              Rossen Apostolov     \n",
            "         Paul Bauer           Herman J.C. Berendsen           Par Bjelkmar       \n",
            "       Christian Blau           Viacheslav Bolnykh             Kevin Boyd        \n",
            "     Aldert van Buuren           Rudi van Drunen             Anton Feenstra      \n",
            "    Gilles Gouaillardet             Alan Gray               Gerrit Groenhof      \n",
            "       Anca Hamuraru            Vincent Hindriksen          M. Eric Irrgang      \n",
            "      Aleksei Iupinov           Christoph Junghans             Joe Jordan        \n",
            "    Dimitrios Karkoulis            Peter Kasson                Jiri Kraus        \n",
            "      Carsten Kutzner              Per Larsson              Justin A. Lemkul     \n",
            "       Viveca Lindahl            Magnus Lundborg             Erik Marklund       \n",
            "        Pascal Merz             Pieter Meulenhoff            Teemu Murtola       \n",
            "        Szilard Pall               Sander Pronk              Roland Schulz       \n",
            "       Michael Shirts            Alexey Shvetsov             Alfons Sijbers      \n",
            "       Peter Tieleman              Jon Vincent              Teemu Virolainen     \n",
            "     Christian Wennberg            Maarten Wolf              Artem Zhmurov       \n",
            "                           and the project leaders:\n",
            "        Mark Abraham, Berk Hess, Erik Lindahl, and David van der Spoel\n",
            "\n",
            "Copyright (c) 1991-2000, University of Groningen, The Netherlands.\n",
            "Copyright (c) 2001-2019, The GROMACS development team at\n",
            "Uppsala University, Stockholm University and\n",
            "the Royal Institute of Technology, Sweden.\n",
            "check out http://www.gromacs.org for more information.\n",
            "\n",
            "GROMACS is free software; you can redistribute it and/or modify it\n",
            "under the terms of the GNU Lesser General Public License\n",
            "as published by the Free Software Foundation; either version 2.1\n",
            "of the License, or (at your option) any later version.\n",
            "\n",
            "GROMACS:      gmx energy, version 2021.5\n",
            "Executable:   /content/drive/MyDrive/IBM3202/gromacs-2021/bin/gmx\n",
            "Data prefix:  /content/drive/MyDrive/IBM3202/gromacs-2021\n",
            "Working dir:  /content/drive/MyDrive\n",
            "Command line:\n",
            "  gmx energy -f npt.edr -o pressure.xvg\n",
            "\n",
            "Opened npt.edr as single precision energy file\n",
            "\n",
            "Select the terms you want from the following list by\n",
            "selecting either (part of) the name or the number or a combination.\n",
            "End your selection with an empty line or a zero.\n",
            "-------------------------------------------------------------------\n",
            "  1  Bond             2  Angle            3  Proper-Dih.      4  Ryckaert-Bell.\n",
            "  5  LJ-14            6  Coulomb-14       7  LJ-(SR)          8  Disper.-corr. \n",
            "  9  Coulomb-(SR)    10  Coul.-recip.    11  Position-Rest.  12  Potential     \n",
            " 13  Kinetic-En.     14  Total-Energy    15  Conserved-En.   16  Temperature   \n",
            " 17  Pres.-DC        18  Pressure        19  Constr.-rmsd    20  Box-X         \n",
            " 21  Box-Y           22  Box-Z           23  Volume          24  Density       \n",
            " 25  pV              26  Enthalpy        27  Vir-XX          28  Vir-XY        \n",
            " 29  Vir-XZ          30  Vir-YX          31  Vir-YY          32  Vir-YZ        \n",
            " 33  Vir-ZX          34  Vir-ZY          35  Vir-ZZ          36  Pres-XX       \n",
            " 37  Pres-XY         38  Pres-XZ         39  Pres-YX         40  Pres-YY       \n",
            " 41  Pres-YZ         42  Pres-ZX         43  Pres-ZY         44  Pres-ZZ       \n",
            " 45  #Surf*SurfTen   46  Box-Vel-XX      47  Box-Vel-YY      48  Box-Vel-ZZ    \n",
            " 49  T-Protein                           50  T-non-Protein                     \n",
            " 51  Lamb-Protein                        52  Lamb-non-Protein                  \n",
            "\n",
            "\rReading energy frame      0 time    0.000         \rReading energy frame      1 time    1.000         \rReading energy frame      2 time    2.000         \rReading energy frame      3 time    3.000         \rReading energy frame      4 time    4.000         \rReading energy frame      5 time    5.000         \rReading energy frame      6 time    6.000         \rReading energy frame      7 time    7.000         \rReading energy frame      8 time    8.000         \rReading energy frame      9 time    9.000         \rReading energy frame     10 time   10.000         \rReading energy frame     11 time   11.000         \rReading energy frame     12 time   12.000         \rReading energy frame     13 time   13.000         \rReading energy frame     14 time   14.000         \rReading energy frame     15 time   15.000         \rReading energy frame     16 time   16.000         \rReading energy frame     17 time   17.000         \rReading energy frame     18 time   18.000         \rReading energy frame     19 time   19.000         \rReading energy frame     20 time   20.000         \rReading energy frame     30 time   30.000         \rReading energy frame     40 time   40.000         \rReading energy frame     50 time   50.000         \rReading energy frame     60 time   60.000         \rReading energy frame     70 time   70.000         \rReading energy frame     80 time   80.000         \rReading energy frame     90 time   90.000         \rReading energy frame    100 time  100.000         \rLast energy frame read 100 time  100.000         \n",
            "\n",
            "GROMACS reminds you: \"There's a limit to how many times you can read how great you are and what an inspiration you are, but I'm not there yet.\" (Randy Pausch)\n",
            "\n"
          ]
        }
      ]
    },
    {
      "cell_type": "code",
      "source": [
        "!head -20 pressure.xvg"
      ],
      "metadata": {
        "id": "TDGqQfbN8rNp"
      },
      "execution_count": null,
      "outputs": []
    },
    {
      "cell_type": "code",
      "source": [
        "# plot the graph\n",
        "c = np.loadtxt('pressure.xvg',comments=['#', '@']) # strip out the comments\n",
        "header = [\"x\", \"y\"] # add headers to columns\n",
        "frame3 = pd.DataFrame(c, columns=header)\n",
        "\n",
        "fig3 = px.line(frame3, x=\"x\", y=\"y\")\n",
        "fig3.update_xaxes(title_text=\"Time (ps)\") # label x-axis\n",
        "fig3.update_yaxes(title_text=\"bar\") # label y-axis\n",
        "fig3.update_layout(width=700, title_text=\"GROMACS Energies\")\n",
        "fig3.show()"
      ],
      "metadata": {
        "colab": {
          "base_uri": "https://localhost:8080/",
          "height": 542
        },
        "id": "RHzOp-4R8y69",
        "outputId": "88a2d07e-52f9-41a1-8c57-480e4c8b6f81"
      },
      "execution_count": null,
      "outputs": [
        {
          "output_type": "display_data",
          "data": {
            "text/html": [
              "<html>\n",
              "<head><meta charset=\"utf-8\" /></head>\n",
              "<body>\n",
              "    <div>            <script src=\"https://cdnjs.cloudflare.com/ajax/libs/mathjax/2.7.5/MathJax.js?config=TeX-AMS-MML_SVG\"></script><script type=\"text/javascript\">if (window.MathJax) {MathJax.Hub.Config({SVG: {font: \"STIX-Web\"}});}</script>                <script type=\"text/javascript\">window.PlotlyConfig = {MathJaxConfig: 'local'};</script>\n",
              "        <script src=\"https://cdn.plot.ly/plotly-2.8.3.min.js\"></script>                <div id=\"9408b101-d34a-4f6c-b6ff-539fbf3f2d01\" class=\"plotly-graph-div\" style=\"height:525px; width:700px;\"></div>            <script type=\"text/javascript\">                                    window.PLOTLYENV=window.PLOTLYENV || {};                                    if (document.getElementById(\"9408b101-d34a-4f6c-b6ff-539fbf3f2d01\")) {                    Plotly.newPlot(                        \"9408b101-d34a-4f6c-b6ff-539fbf3f2d01\",                        [{\"hovertemplate\":\"x=%{x}<br>y=%{y}<extra></extra>\",\"legendgroup\":\"\",\"line\":{\"color\":\"#636efa\",\"dash\":\"solid\"},\"marker\":{\"symbol\":\"circle\"},\"mode\":\"lines\",\"name\":\"\",\"orientation\":\"v\",\"showlegend\":false,\"x\":[0.0,1.0,2.0,3.0,4.0,5.0,6.0,7.0,8.0,9.0,10.0,11.0,12.0,13.0,14.0,15.0,16.0,17.0,18.0,19.0,20.0,21.0,22.0,23.0,24.0,25.0,26.0,27.0,28.0,29.0,30.0,31.0,32.0,33.0,34.0,35.0,36.0,37.0,38.0,39.0,40.0,41.0,42.0,43.0,44.0,45.0,46.0,47.0,48.0,49.0,50.0,51.0,52.0,53.0,54.0,55.0,56.0,57.0,58.0,59.0,60.0,61.0,62.0,63.0,64.0,65.0,66.0,67.0,68.0,69.0,70.0,71.0,72.0,73.0,74.0,75.0,76.0,77.0,78.0,79.0,80.0,81.0,82.0,83.0,84.0,85.0,86.0,87.0,88.0,89.0,90.0,91.0,92.0,93.0,94.0,95.0,96.0,97.0,98.0,99.0,100.0],\"xaxis\":\"x\",\"y\":[-648.24054,145.740677,132.235245,-42.789265,109.52314,90.277527,25.613031,114.7257,284.98288,318.201813,143.174271,9.687711,106.338768,-134.544357,93.08149,121.955536,31.95105,14.945198,-49.611408,81.527,103.288063,-278.876617,26.409868,-172.013504,-143.103043,-157.585388,186.403992,233.223953,38.169312,-290.193787,151.830185,98.36734,266.538239,-206.576096,-337.746765,106.429955,251.990067,113.219025,-15.57542,194.383713,-56.259304,59.467945,186.879684,113.808693,148.910263,-65.380577,-113.491173,22.289146,183.830368,-104.602966,375.208008,45.54187,-245.522079,-180.20105,160.529739,25.048811,-113.183685,163.54808,-114.75692,-317.635834,-118.637825,-259.279266,93.240997,42.2803,160.714157,83.158134,50.888012,-87.315613,295.687347,3.554499,-272.976227,-60.285412,-174.426773,8.371701,-49.031479,-89.18261,110.530571,-20.127279,334.455872,-136.887634,-112.480309,254.733017,66.962433,-178.642761,-180.524307,32.577484,149.609756,-23.364611,-319.443237,177.277786,59.125015,59.279369,171.164169,97.375977,-39.437164,20.86764,160.234634,57.120586,-110.922424,-90.609138,-5.42597],\"yaxis\":\"y\",\"type\":\"scatter\"}],                        {\"template\":{\"data\":{\"bar\":[{\"error_x\":{\"color\":\"#2a3f5f\"},\"error_y\":{\"color\":\"#2a3f5f\"},\"marker\":{\"line\":{\"color\":\"#E5ECF6\",\"width\":0.5},\"pattern\":{\"fillmode\":\"overlay\",\"size\":10,\"solidity\":0.2}},\"type\":\"bar\"}],\"barpolar\":[{\"marker\":{\"line\":{\"color\":\"#E5ECF6\",\"width\":0.5},\"pattern\":{\"fillmode\":\"overlay\",\"size\":10,\"solidity\":0.2}},\"type\":\"barpolar\"}],\"carpet\":[{\"aaxis\":{\"endlinecolor\":\"#2a3f5f\",\"gridcolor\":\"white\",\"linecolor\":\"white\",\"minorgridcolor\":\"white\",\"startlinecolor\":\"#2a3f5f\"},\"baxis\":{\"endlinecolor\":\"#2a3f5f\",\"gridcolor\":\"white\",\"linecolor\":\"white\",\"minorgridcolor\":\"white\",\"startlinecolor\":\"#2a3f5f\"},\"type\":\"carpet\"}],\"choropleth\":[{\"colorbar\":{\"outlinewidth\":0,\"ticks\":\"\"},\"type\":\"choropleth\"}],\"contour\":[{\"colorbar\":{\"outlinewidth\":0,\"ticks\":\"\"},\"colorscale\":[[0.0,\"#0d0887\"],[0.1111111111111111,\"#46039f\"],[0.2222222222222222,\"#7201a8\"],[0.3333333333333333,\"#9c179e\"],[0.4444444444444444,\"#bd3786\"],[0.5555555555555556,\"#d8576b\"],[0.6666666666666666,\"#ed7953\"],[0.7777777777777778,\"#fb9f3a\"],[0.8888888888888888,\"#fdca26\"],[1.0,\"#f0f921\"]],\"type\":\"contour\"}],\"contourcarpet\":[{\"colorbar\":{\"outlinewidth\":0,\"ticks\":\"\"},\"type\":\"contourcarpet\"}],\"heatmap\":[{\"colorbar\":{\"outlinewidth\":0,\"ticks\":\"\"},\"colorscale\":[[0.0,\"#0d0887\"],[0.1111111111111111,\"#46039f\"],[0.2222222222222222,\"#7201a8\"],[0.3333333333333333,\"#9c179e\"],[0.4444444444444444,\"#bd3786\"],[0.5555555555555556,\"#d8576b\"],[0.6666666666666666,\"#ed7953\"],[0.7777777777777778,\"#fb9f3a\"],[0.8888888888888888,\"#fdca26\"],[1.0,\"#f0f921\"]],\"type\":\"heatmap\"}],\"heatmapgl\":[{\"colorbar\":{\"outlinewidth\":0,\"ticks\":\"\"},\"colorscale\":[[0.0,\"#0d0887\"],[0.1111111111111111,\"#46039f\"],[0.2222222222222222,\"#7201a8\"],[0.3333333333333333,\"#9c179e\"],[0.4444444444444444,\"#bd3786\"],[0.5555555555555556,\"#d8576b\"],[0.6666666666666666,\"#ed7953\"],[0.7777777777777778,\"#fb9f3a\"],[0.8888888888888888,\"#fdca26\"],[1.0,\"#f0f921\"]],\"type\":\"heatmapgl\"}],\"histogram\":[{\"marker\":{\"pattern\":{\"fillmode\":\"overlay\",\"size\":10,\"solidity\":0.2}},\"type\":\"histogram\"}],\"histogram2d\":[{\"colorbar\":{\"outlinewidth\":0,\"ticks\":\"\"},\"colorscale\":[[0.0,\"#0d0887\"],[0.1111111111111111,\"#46039f\"],[0.2222222222222222,\"#7201a8\"],[0.3333333333333333,\"#9c179e\"],[0.4444444444444444,\"#bd3786\"],[0.5555555555555556,\"#d8576b\"],[0.6666666666666666,\"#ed7953\"],[0.7777777777777778,\"#fb9f3a\"],[0.8888888888888888,\"#fdca26\"],[1.0,\"#f0f921\"]],\"type\":\"histogram2d\"}],\"histogram2dcontour\":[{\"colorbar\":{\"outlinewidth\":0,\"ticks\":\"\"},\"colorscale\":[[0.0,\"#0d0887\"],[0.1111111111111111,\"#46039f\"],[0.2222222222222222,\"#7201a8\"],[0.3333333333333333,\"#9c179e\"],[0.4444444444444444,\"#bd3786\"],[0.5555555555555556,\"#d8576b\"],[0.6666666666666666,\"#ed7953\"],[0.7777777777777778,\"#fb9f3a\"],[0.8888888888888888,\"#fdca26\"],[1.0,\"#f0f921\"]],\"type\":\"histogram2dcontour\"}],\"mesh3d\":[{\"colorbar\":{\"outlinewidth\":0,\"ticks\":\"\"},\"type\":\"mesh3d\"}],\"parcoords\":[{\"line\":{\"colorbar\":{\"outlinewidth\":0,\"ticks\":\"\"}},\"type\":\"parcoords\"}],\"pie\":[{\"automargin\":true,\"type\":\"pie\"}],\"scatter\":[{\"marker\":{\"colorbar\":{\"outlinewidth\":0,\"ticks\":\"\"}},\"type\":\"scatter\"}],\"scatter3d\":[{\"line\":{\"colorbar\":{\"outlinewidth\":0,\"ticks\":\"\"}},\"marker\":{\"colorbar\":{\"outlinewidth\":0,\"ticks\":\"\"}},\"type\":\"scatter3d\"}],\"scattercarpet\":[{\"marker\":{\"colorbar\":{\"outlinewidth\":0,\"ticks\":\"\"}},\"type\":\"scattercarpet\"}],\"scattergeo\":[{\"marker\":{\"colorbar\":{\"outlinewidth\":0,\"ticks\":\"\"}},\"type\":\"scattergeo\"}],\"scattergl\":[{\"marker\":{\"colorbar\":{\"outlinewidth\":0,\"ticks\":\"\"}},\"type\":\"scattergl\"}],\"scattermapbox\":[{\"marker\":{\"colorbar\":{\"outlinewidth\":0,\"ticks\":\"\"}},\"type\":\"scattermapbox\"}],\"scatterpolar\":[{\"marker\":{\"colorbar\":{\"outlinewidth\":0,\"ticks\":\"\"}},\"type\":\"scatterpolar\"}],\"scatterpolargl\":[{\"marker\":{\"colorbar\":{\"outlinewidth\":0,\"ticks\":\"\"}},\"type\":\"scatterpolargl\"}],\"scatterternary\":[{\"marker\":{\"colorbar\":{\"outlinewidth\":0,\"ticks\":\"\"}},\"type\":\"scatterternary\"}],\"surface\":[{\"colorbar\":{\"outlinewidth\":0,\"ticks\":\"\"},\"colorscale\":[[0.0,\"#0d0887\"],[0.1111111111111111,\"#46039f\"],[0.2222222222222222,\"#7201a8\"],[0.3333333333333333,\"#9c179e\"],[0.4444444444444444,\"#bd3786\"],[0.5555555555555556,\"#d8576b\"],[0.6666666666666666,\"#ed7953\"],[0.7777777777777778,\"#fb9f3a\"],[0.8888888888888888,\"#fdca26\"],[1.0,\"#f0f921\"]],\"type\":\"surface\"}],\"table\":[{\"cells\":{\"fill\":{\"color\":\"#EBF0F8\"},\"line\":{\"color\":\"white\"}},\"header\":{\"fill\":{\"color\":\"#C8D4E3\"},\"line\":{\"color\":\"white\"}},\"type\":\"table\"}]},\"layout\":{\"annotationdefaults\":{\"arrowcolor\":\"#2a3f5f\",\"arrowhead\":0,\"arrowwidth\":1},\"autotypenumbers\":\"strict\",\"coloraxis\":{\"colorbar\":{\"outlinewidth\":0,\"ticks\":\"\"}},\"colorscale\":{\"diverging\":[[0,\"#8e0152\"],[0.1,\"#c51b7d\"],[0.2,\"#de77ae\"],[0.3,\"#f1b6da\"],[0.4,\"#fde0ef\"],[0.5,\"#f7f7f7\"],[0.6,\"#e6f5d0\"],[0.7,\"#b8e186\"],[0.8,\"#7fbc41\"],[0.9,\"#4d9221\"],[1,\"#276419\"]],\"sequential\":[[0.0,\"#0d0887\"],[0.1111111111111111,\"#46039f\"],[0.2222222222222222,\"#7201a8\"],[0.3333333333333333,\"#9c179e\"],[0.4444444444444444,\"#bd3786\"],[0.5555555555555556,\"#d8576b\"],[0.6666666666666666,\"#ed7953\"],[0.7777777777777778,\"#fb9f3a\"],[0.8888888888888888,\"#fdca26\"],[1.0,\"#f0f921\"]],\"sequentialminus\":[[0.0,\"#0d0887\"],[0.1111111111111111,\"#46039f\"],[0.2222222222222222,\"#7201a8\"],[0.3333333333333333,\"#9c179e\"],[0.4444444444444444,\"#bd3786\"],[0.5555555555555556,\"#d8576b\"],[0.6666666666666666,\"#ed7953\"],[0.7777777777777778,\"#fb9f3a\"],[0.8888888888888888,\"#fdca26\"],[1.0,\"#f0f921\"]]},\"colorway\":[\"#636efa\",\"#EF553B\",\"#00cc96\",\"#ab63fa\",\"#FFA15A\",\"#19d3f3\",\"#FF6692\",\"#B6E880\",\"#FF97FF\",\"#FECB52\"],\"font\":{\"color\":\"#2a3f5f\"},\"geo\":{\"bgcolor\":\"white\",\"lakecolor\":\"white\",\"landcolor\":\"#E5ECF6\",\"showlakes\":true,\"showland\":true,\"subunitcolor\":\"white\"},\"hoverlabel\":{\"align\":\"left\"},\"hovermode\":\"closest\",\"mapbox\":{\"style\":\"light\"},\"paper_bgcolor\":\"white\",\"plot_bgcolor\":\"#E5ECF6\",\"polar\":{\"angularaxis\":{\"gridcolor\":\"white\",\"linecolor\":\"white\",\"ticks\":\"\"},\"bgcolor\":\"#E5ECF6\",\"radialaxis\":{\"gridcolor\":\"white\",\"linecolor\":\"white\",\"ticks\":\"\"}},\"scene\":{\"xaxis\":{\"backgroundcolor\":\"#E5ECF6\",\"gridcolor\":\"white\",\"gridwidth\":2,\"linecolor\":\"white\",\"showbackground\":true,\"ticks\":\"\",\"zerolinecolor\":\"white\"},\"yaxis\":{\"backgroundcolor\":\"#E5ECF6\",\"gridcolor\":\"white\",\"gridwidth\":2,\"linecolor\":\"white\",\"showbackground\":true,\"ticks\":\"\",\"zerolinecolor\":\"white\"},\"zaxis\":{\"backgroundcolor\":\"#E5ECF6\",\"gridcolor\":\"white\",\"gridwidth\":2,\"linecolor\":\"white\",\"showbackground\":true,\"ticks\":\"\",\"zerolinecolor\":\"white\"}},\"shapedefaults\":{\"line\":{\"color\":\"#2a3f5f\"}},\"ternary\":{\"aaxis\":{\"gridcolor\":\"white\",\"linecolor\":\"white\",\"ticks\":\"\"},\"baxis\":{\"gridcolor\":\"white\",\"linecolor\":\"white\",\"ticks\":\"\"},\"bgcolor\":\"#E5ECF6\",\"caxis\":{\"gridcolor\":\"white\",\"linecolor\":\"white\",\"ticks\":\"\"}},\"title\":{\"x\":0.05},\"xaxis\":{\"automargin\":true,\"gridcolor\":\"white\",\"linecolor\":\"white\",\"ticks\":\"\",\"title\":{\"standoff\":15},\"zerolinecolor\":\"white\",\"zerolinewidth\":2},\"yaxis\":{\"automargin\":true,\"gridcolor\":\"white\",\"linecolor\":\"white\",\"ticks\":\"\",\"title\":{\"standoff\":15},\"zerolinecolor\":\"white\",\"zerolinewidth\":2}}},\"xaxis\":{\"anchor\":\"y\",\"domain\":[0.0,1.0],\"title\":{\"text\":\"Time (ps)\"}},\"yaxis\":{\"anchor\":\"x\",\"domain\":[0.0,1.0],\"title\":{\"text\":\"bar\"}},\"legend\":{\"tracegroupgap\":0},\"margin\":{\"t\":60},\"title\":{\"text\":\"GROMACS Energies\"},\"width\":700},                        {\"responsive\": true}                    ).then(function(){\n",
              "                            \n",
              "var gd = document.getElementById('9408b101-d34a-4f6c-b6ff-539fbf3f2d01');\n",
              "var x = new MutationObserver(function (mutations, observer) {{\n",
              "        var display = window.getComputedStyle(gd).display;\n",
              "        if (!display || display === 'none') {{\n",
              "            console.log([gd, 'removed!']);\n",
              "            Plotly.purge(gd);\n",
              "            observer.disconnect();\n",
              "        }}\n",
              "}});\n",
              "\n",
              "// Listen for the removal of the full notebook cells\n",
              "var notebookContainer = gd.closest('#notebook-container');\n",
              "if (notebookContainer) {{\n",
              "    x.observe(notebookContainer, {childList: true});\n",
              "}}\n",
              "\n",
              "// Listen for the clearing of the current output cell\n",
              "var outputEl = gd.closest('.output');\n",
              "if (outputEl) {{\n",
              "    x.observe(outputEl, {childList: true});\n",
              "}}\n",
              "\n",
              "                        })                };                            </script>        </div>\n",
              "</body>\n",
              "</html>"
            ]
          },
          "metadata": {}
        }
      ]
    },
    {
      "cell_type": "markdown",
      "source": [
        "From [this site](https://stackoverflow.com/questions/55512643/set-up-multiple-subplots-with-moving-averages-using-cufflinks-and-plotly-offline)"
      ],
      "metadata": {
        "id": "Gpt6uKo-CUAD"
      }
    },
    {
      "cell_type": "markdown",
      "source": [
        "\n",
        "\n",
        "```py\n",
        "df = cf.datagen.lines().iloc[:,0:4]\n",
        "df.columns = ['StockA', 'StockB', 'StockC', 'StockD']\n",
        "\n",
        "# Function for moving averages\n",
        "def movingAvg(df, win, keepSource):\n",
        "    \"\"\"Add moving averages for all columns in a dataframe.\n",
        "\n",
        "    Arguments: \n",
        "    df -- pandas dataframe\n",
        "    win -- length of movingAvg estimation window\n",
        "    keepSource -- True or False for keep or drop source data in output dataframe\n",
        "\n",
        "\n",
        "```"
      ],
      "metadata": {
        "id": "Pz6yMl-eCd1E"
      }
    },
    {
      "cell_type": "code",
      "source": [
        "# Remove the comments from the xvg file and write a new file\n",
        "!grep -v -e '\\#' -e '\\@' pressure.xvg > pressure.csv"
      ],
      "metadata": {
        "id": "Odhymy6fPJxn"
      },
      "execution_count": null,
      "outputs": []
    },
    {
      "cell_type": "markdown",
      "source": [
        "From [this site](https://www.geeksforgeeks.org/how-to-calculate-moving-average-in-a-pandas-dataframe/)"
      ],
      "metadata": {
        "id": "1JRt9AU5Wpra"
      }
    },
    {
      "cell_type": "code",
      "source": [
        "# moving average\n",
        "c = np.loadtxt('pressure.xvg',comments=['#', '@']) # strip out the comments\n",
        "header = [\"x\", \"y\"] # add headers to columns\n",
        "frame3 = pd.DataFrame(c, columns=header)\n",
        "\n",
        "# updating our dataFrame to have only\n",
        "# one column 'Close' as rest all columns\n",
        "# are of no use for us at the moment\n",
        "# using .to_frame() to convert pandas series\n",
        "# into dataframe.\n",
        "frame3b = frame3['y'].to_frame()\n",
        "\n",
        "# calculating simple moving average\n",
        "# using .rolling(window).mean() ,\n",
        "# with window size = 30\n",
        "frame3b['ma10'] = frame3b['y'].rolling(10).mean()\n",
        "\n",
        "\n",
        "fig3 = px.line(frame3, x=\"x\", y=\"y\")\n",
        "fig3.update_traces(line=dict(color = 'dodgerblue'), \n",
        "                    name=\"pressure\")\n",
        "fig3b = px.line(frame3b, y=\"ma10\")\n",
        "fig3b.update_traces(line=dict(color = 'firebrick'), \n",
        "                    name=\"10ps average\")\n",
        "fig3c = go.Figure(data=fig3.data + fig3b.data)\n",
        "fig3c.update_layout(width=700, title_text=\"Pressure <br>NPT Equilibration\")\n",
        "fig3c.update_xaxes(title_text=\"Time (ps)\") # label x-axis\n",
        "fig3c.update_yaxes(title_text=\"bar\") # label y-axis\n",
        "fig3c.update_traces(showlegend=True)\n",
        "fig3c.show()"
      ],
      "metadata": {
        "colab": {
          "base_uri": "https://localhost:8080/",
          "height": 542
        },
        "outputId": "d85bf661-b4d1-4585-f415-f44709bce523",
        "id": "tqYNWvCZVrG0"
      },
      "execution_count": null,
      "outputs": [
        {
          "output_type": "display_data",
          "data": {
            "text/html": [
              "<html>\n",
              "<head><meta charset=\"utf-8\" /></head>\n",
              "<body>\n",
              "    <div>            <script src=\"https://cdnjs.cloudflare.com/ajax/libs/mathjax/2.7.5/MathJax.js?config=TeX-AMS-MML_SVG\"></script><script type=\"text/javascript\">if (window.MathJax) {MathJax.Hub.Config({SVG: {font: \"STIX-Web\"}});}</script>                <script type=\"text/javascript\">window.PlotlyConfig = {MathJaxConfig: 'local'};</script>\n",
              "        <script src=\"https://cdn.plot.ly/plotly-2.8.3.min.js\"></script>                <div id=\"940a8927-c19c-4f3f-80d2-c916ca1609d6\" class=\"plotly-graph-div\" style=\"height:525px; width:700px;\"></div>            <script type=\"text/javascript\">                                    window.PLOTLYENV=window.PLOTLYENV || {};                                    if (document.getElementById(\"940a8927-c19c-4f3f-80d2-c916ca1609d6\")) {                    Plotly.newPlot(                        \"940a8927-c19c-4f3f-80d2-c916ca1609d6\",                        [{\"hovertemplate\":\"x=%{x}<br>y=%{y}<extra></extra>\",\"legendgroup\":\"\",\"line\":{\"color\":\"dodgerblue\",\"dash\":\"solid\"},\"marker\":{\"symbol\":\"circle\"},\"mode\":\"lines\",\"name\":\"pressure\",\"orientation\":\"v\",\"showlegend\":true,\"x\":[0.0,1.0,2.0,3.0,4.0,5.0,6.0,7.0,8.0,9.0,10.0,11.0,12.0,13.0,14.0,15.0,16.0,17.0,18.0,19.0,20.0,21.0,22.0,23.0,24.0,25.0,26.0,27.0,28.0,29.0,30.0,31.0,32.0,33.0,34.0,35.0,36.0,37.0,38.0,39.0,40.0,41.0,42.0,43.0,44.0,45.0,46.0,47.0,48.0,49.0,50.0,51.0,52.0,53.0,54.0,55.0,56.0,57.0,58.0,59.0,60.0,61.0,62.0,63.0,64.0,65.0,66.0,67.0,68.0,69.0,70.0,71.0,72.0,73.0,74.0,75.0,76.0,77.0,78.0,79.0,80.0,81.0,82.0,83.0,84.0,85.0,86.0,87.0,88.0,89.0,90.0,91.0,92.0,93.0,94.0,95.0,96.0,97.0,98.0,99.0,100.0],\"xaxis\":\"x\",\"y\":[-648.24054,145.740677,132.235245,-42.789265,109.52314,90.277527,25.613031,114.7257,284.98288,318.201813,143.174271,9.687711,106.338768,-134.544357,93.08149,121.955536,31.95105,14.945198,-49.611408,81.527,103.288063,-278.876617,26.409868,-172.013504,-143.103043,-157.585388,186.403992,233.223953,38.169312,-290.193787,151.830185,98.36734,266.538239,-206.576096,-337.746765,106.429955,251.990067,113.219025,-15.57542,194.383713,-56.259304,59.467945,186.879684,113.808693,148.910263,-65.380577,-113.491173,22.289146,183.830368,-104.602966,375.208008,45.54187,-245.522079,-180.20105,160.529739,25.048811,-113.183685,163.54808,-114.75692,-317.635834,-118.637825,-259.279266,93.240997,42.2803,160.714157,83.158134,50.888012,-87.315613,295.687347,3.554499,-272.976227,-60.285412,-174.426773,8.371701,-49.031479,-89.18261,110.530571,-20.127279,334.455872,-136.887634,-112.480309,254.733017,66.962433,-178.642761,-180.524307,32.577484,149.609756,-23.364611,-319.443237,177.277786,59.125015,59.279369,171.164169,97.375977,-39.437164,20.86764,160.234634,57.120586,-110.922424,-90.609138,-5.42597],\"yaxis\":\"y\",\"type\":\"scatter\"},{\"hovertemplate\":\"index=%{x}<br>ma10=%{y}<extra></extra>\",\"legendgroup\":\"\",\"line\":{\"color\":\"firebrick\",\"dash\":\"solid\"},\"marker\":{\"symbol\":\"circle\"},\"mode\":\"lines\",\"name\":\"10ps average\",\"orientation\":\"v\",\"showlegend\":true,\"x\":[0,1,2,3,4,5,6,7,8,9,10,11,12,13,14,15,16,17,18,19,20,21,22,23,24,25,26,27,28,29,30,31,32,33,34,35,36,37,38,39,40,41,42,43,44,45,46,47,48,49,50,51,52,53,54,55,56,57,58,59,60,61,62,63,64,65,66,67,68,69,70,71,72,73,74,75,76,77,78,79,80,81,82,83,84,85,86,87,88,89,90,91,92,93,94,95,96,97,98,99,100],\"xaxis\":\"x\",\"y\":[null,null,null,null,null,null,null,null,null,53.0270208,132.16850190000002,118.5632053,115.9735576,106.7980484,105.1538834,108.32168430000002,108.9554862,98.977436,65.5180072,41.8505259,37.8619051,9.005472299999997,1.0125822999999978,-2.7343324000000053,-26.352785700000005,-54.306878100000006,-38.86158390000001,-17.03370840000001,-8.255636400000009,-45.42771510000001,-40.57350290000001,-2.8491072000000073,21.16372989999999,17.707470699999988,-1.7569015000000037,24.644632799999993,31.203240299999994,19.202747499999997,13.828274299999999,62.286024299999994,41.4770754,37.5871359,29.6212804,61.6597593,110.32546210000001,93.1444089,56.5962849,47.503296999999996,67.4438758,37.545207899999994,80.69193909999998,79.29933159999999,36.0591553,6.658180999999994,7.820128599999995,16.863067399999995,16.893816199999996,31.0197096,1.1609807999999973,-20.142306,-69.52688930000001,-100.00900290000001,-66.13269530000001,-43.884560300000004,-43.866118500000006,-38.0551862,-21.648016500000004,-46.734385800000005,-5.689959100000005,26.429074199999995,10.995234,30.8946194,4.1278424000000005,0.7369825000000004,-20.2375811,-37.471655500000004,-31.507399600000003,-24.7885662,-20.911713699999996,-34.955926999999996,-18.9063352,12.595507699999999,36.734428300000005,18.0329821,4.883699299999998,17.059708699999998,20.9676272,20.643893999999996,-44.74601690000001,-13.329474900000003,3.831057499999998,-15.714307300000002,-5.294133700000003,22.307740099999997,36.4164544,35.24547,36.3079578,44.3564775,65.2085588,38.419866400000004,31.9647679],\"yaxis\":\"y\",\"type\":\"scatter\"}],                        {\"template\":{\"data\":{\"bar\":[{\"error_x\":{\"color\":\"#2a3f5f\"},\"error_y\":{\"color\":\"#2a3f5f\"},\"marker\":{\"line\":{\"color\":\"#E5ECF6\",\"width\":0.5},\"pattern\":{\"fillmode\":\"overlay\",\"size\":10,\"solidity\":0.2}},\"type\":\"bar\"}],\"barpolar\":[{\"marker\":{\"line\":{\"color\":\"#E5ECF6\",\"width\":0.5},\"pattern\":{\"fillmode\":\"overlay\",\"size\":10,\"solidity\":0.2}},\"type\":\"barpolar\"}],\"carpet\":[{\"aaxis\":{\"endlinecolor\":\"#2a3f5f\",\"gridcolor\":\"white\",\"linecolor\":\"white\",\"minorgridcolor\":\"white\",\"startlinecolor\":\"#2a3f5f\"},\"baxis\":{\"endlinecolor\":\"#2a3f5f\",\"gridcolor\":\"white\",\"linecolor\":\"white\",\"minorgridcolor\":\"white\",\"startlinecolor\":\"#2a3f5f\"},\"type\":\"carpet\"}],\"choropleth\":[{\"colorbar\":{\"outlinewidth\":0,\"ticks\":\"\"},\"type\":\"choropleth\"}],\"contour\":[{\"colorbar\":{\"outlinewidth\":0,\"ticks\":\"\"},\"colorscale\":[[0.0,\"#0d0887\"],[0.1111111111111111,\"#46039f\"],[0.2222222222222222,\"#7201a8\"],[0.3333333333333333,\"#9c179e\"],[0.4444444444444444,\"#bd3786\"],[0.5555555555555556,\"#d8576b\"],[0.6666666666666666,\"#ed7953\"],[0.7777777777777778,\"#fb9f3a\"],[0.8888888888888888,\"#fdca26\"],[1.0,\"#f0f921\"]],\"type\":\"contour\"}],\"contourcarpet\":[{\"colorbar\":{\"outlinewidth\":0,\"ticks\":\"\"},\"type\":\"contourcarpet\"}],\"heatmap\":[{\"colorbar\":{\"outlinewidth\":0,\"ticks\":\"\"},\"colorscale\":[[0.0,\"#0d0887\"],[0.1111111111111111,\"#46039f\"],[0.2222222222222222,\"#7201a8\"],[0.3333333333333333,\"#9c179e\"],[0.4444444444444444,\"#bd3786\"],[0.5555555555555556,\"#d8576b\"],[0.6666666666666666,\"#ed7953\"],[0.7777777777777778,\"#fb9f3a\"],[0.8888888888888888,\"#fdca26\"],[1.0,\"#f0f921\"]],\"type\":\"heatmap\"}],\"heatmapgl\":[{\"colorbar\":{\"outlinewidth\":0,\"ticks\":\"\"},\"colorscale\":[[0.0,\"#0d0887\"],[0.1111111111111111,\"#46039f\"],[0.2222222222222222,\"#7201a8\"],[0.3333333333333333,\"#9c179e\"],[0.4444444444444444,\"#bd3786\"],[0.5555555555555556,\"#d8576b\"],[0.6666666666666666,\"#ed7953\"],[0.7777777777777778,\"#fb9f3a\"],[0.8888888888888888,\"#fdca26\"],[1.0,\"#f0f921\"]],\"type\":\"heatmapgl\"}],\"histogram\":[{\"marker\":{\"pattern\":{\"fillmode\":\"overlay\",\"size\":10,\"solidity\":0.2}},\"type\":\"histogram\"}],\"histogram2d\":[{\"colorbar\":{\"outlinewidth\":0,\"ticks\":\"\"},\"colorscale\":[[0.0,\"#0d0887\"],[0.1111111111111111,\"#46039f\"],[0.2222222222222222,\"#7201a8\"],[0.3333333333333333,\"#9c179e\"],[0.4444444444444444,\"#bd3786\"],[0.5555555555555556,\"#d8576b\"],[0.6666666666666666,\"#ed7953\"],[0.7777777777777778,\"#fb9f3a\"],[0.8888888888888888,\"#fdca26\"],[1.0,\"#f0f921\"]],\"type\":\"histogram2d\"}],\"histogram2dcontour\":[{\"colorbar\":{\"outlinewidth\":0,\"ticks\":\"\"},\"colorscale\":[[0.0,\"#0d0887\"],[0.1111111111111111,\"#46039f\"],[0.2222222222222222,\"#7201a8\"],[0.3333333333333333,\"#9c179e\"],[0.4444444444444444,\"#bd3786\"],[0.5555555555555556,\"#d8576b\"],[0.6666666666666666,\"#ed7953\"],[0.7777777777777778,\"#fb9f3a\"],[0.8888888888888888,\"#fdca26\"],[1.0,\"#f0f921\"]],\"type\":\"histogram2dcontour\"}],\"mesh3d\":[{\"colorbar\":{\"outlinewidth\":0,\"ticks\":\"\"},\"type\":\"mesh3d\"}],\"parcoords\":[{\"line\":{\"colorbar\":{\"outlinewidth\":0,\"ticks\":\"\"}},\"type\":\"parcoords\"}],\"pie\":[{\"automargin\":true,\"type\":\"pie\"}],\"scatter\":[{\"marker\":{\"colorbar\":{\"outlinewidth\":0,\"ticks\":\"\"}},\"type\":\"scatter\"}],\"scatter3d\":[{\"line\":{\"colorbar\":{\"outlinewidth\":0,\"ticks\":\"\"}},\"marker\":{\"colorbar\":{\"outlinewidth\":0,\"ticks\":\"\"}},\"type\":\"scatter3d\"}],\"scattercarpet\":[{\"marker\":{\"colorbar\":{\"outlinewidth\":0,\"ticks\":\"\"}},\"type\":\"scattercarpet\"}],\"scattergeo\":[{\"marker\":{\"colorbar\":{\"outlinewidth\":0,\"ticks\":\"\"}},\"type\":\"scattergeo\"}],\"scattergl\":[{\"marker\":{\"colorbar\":{\"outlinewidth\":0,\"ticks\":\"\"}},\"type\":\"scattergl\"}],\"scattermapbox\":[{\"marker\":{\"colorbar\":{\"outlinewidth\":0,\"ticks\":\"\"}},\"type\":\"scattermapbox\"}],\"scatterpolar\":[{\"marker\":{\"colorbar\":{\"outlinewidth\":0,\"ticks\":\"\"}},\"type\":\"scatterpolar\"}],\"scatterpolargl\":[{\"marker\":{\"colorbar\":{\"outlinewidth\":0,\"ticks\":\"\"}},\"type\":\"scatterpolargl\"}],\"scatterternary\":[{\"marker\":{\"colorbar\":{\"outlinewidth\":0,\"ticks\":\"\"}},\"type\":\"scatterternary\"}],\"surface\":[{\"colorbar\":{\"outlinewidth\":0,\"ticks\":\"\"},\"colorscale\":[[0.0,\"#0d0887\"],[0.1111111111111111,\"#46039f\"],[0.2222222222222222,\"#7201a8\"],[0.3333333333333333,\"#9c179e\"],[0.4444444444444444,\"#bd3786\"],[0.5555555555555556,\"#d8576b\"],[0.6666666666666666,\"#ed7953\"],[0.7777777777777778,\"#fb9f3a\"],[0.8888888888888888,\"#fdca26\"],[1.0,\"#f0f921\"]],\"type\":\"surface\"}],\"table\":[{\"cells\":{\"fill\":{\"color\":\"#EBF0F8\"},\"line\":{\"color\":\"white\"}},\"header\":{\"fill\":{\"color\":\"#C8D4E3\"},\"line\":{\"color\":\"white\"}},\"type\":\"table\"}]},\"layout\":{\"annotationdefaults\":{\"arrowcolor\":\"#2a3f5f\",\"arrowhead\":0,\"arrowwidth\":1},\"autotypenumbers\":\"strict\",\"coloraxis\":{\"colorbar\":{\"outlinewidth\":0,\"ticks\":\"\"}},\"colorscale\":{\"diverging\":[[0,\"#8e0152\"],[0.1,\"#c51b7d\"],[0.2,\"#de77ae\"],[0.3,\"#f1b6da\"],[0.4,\"#fde0ef\"],[0.5,\"#f7f7f7\"],[0.6,\"#e6f5d0\"],[0.7,\"#b8e186\"],[0.8,\"#7fbc41\"],[0.9,\"#4d9221\"],[1,\"#276419\"]],\"sequential\":[[0.0,\"#0d0887\"],[0.1111111111111111,\"#46039f\"],[0.2222222222222222,\"#7201a8\"],[0.3333333333333333,\"#9c179e\"],[0.4444444444444444,\"#bd3786\"],[0.5555555555555556,\"#d8576b\"],[0.6666666666666666,\"#ed7953\"],[0.7777777777777778,\"#fb9f3a\"],[0.8888888888888888,\"#fdca26\"],[1.0,\"#f0f921\"]],\"sequentialminus\":[[0.0,\"#0d0887\"],[0.1111111111111111,\"#46039f\"],[0.2222222222222222,\"#7201a8\"],[0.3333333333333333,\"#9c179e\"],[0.4444444444444444,\"#bd3786\"],[0.5555555555555556,\"#d8576b\"],[0.6666666666666666,\"#ed7953\"],[0.7777777777777778,\"#fb9f3a\"],[0.8888888888888888,\"#fdca26\"],[1.0,\"#f0f921\"]]},\"colorway\":[\"#636efa\",\"#EF553B\",\"#00cc96\",\"#ab63fa\",\"#FFA15A\",\"#19d3f3\",\"#FF6692\",\"#B6E880\",\"#FF97FF\",\"#FECB52\"],\"font\":{\"color\":\"#2a3f5f\"},\"geo\":{\"bgcolor\":\"white\",\"lakecolor\":\"white\",\"landcolor\":\"#E5ECF6\",\"showlakes\":true,\"showland\":true,\"subunitcolor\":\"white\"},\"hoverlabel\":{\"align\":\"left\"},\"hovermode\":\"closest\",\"mapbox\":{\"style\":\"light\"},\"paper_bgcolor\":\"white\",\"plot_bgcolor\":\"#E5ECF6\",\"polar\":{\"angularaxis\":{\"gridcolor\":\"white\",\"linecolor\":\"white\",\"ticks\":\"\"},\"bgcolor\":\"#E5ECF6\",\"radialaxis\":{\"gridcolor\":\"white\",\"linecolor\":\"white\",\"ticks\":\"\"}},\"scene\":{\"xaxis\":{\"backgroundcolor\":\"#E5ECF6\",\"gridcolor\":\"white\",\"gridwidth\":2,\"linecolor\":\"white\",\"showbackground\":true,\"ticks\":\"\",\"zerolinecolor\":\"white\"},\"yaxis\":{\"backgroundcolor\":\"#E5ECF6\",\"gridcolor\":\"white\",\"gridwidth\":2,\"linecolor\":\"white\",\"showbackground\":true,\"ticks\":\"\",\"zerolinecolor\":\"white\"},\"zaxis\":{\"backgroundcolor\":\"#E5ECF6\",\"gridcolor\":\"white\",\"gridwidth\":2,\"linecolor\":\"white\",\"showbackground\":true,\"ticks\":\"\",\"zerolinecolor\":\"white\"}},\"shapedefaults\":{\"line\":{\"color\":\"#2a3f5f\"}},\"ternary\":{\"aaxis\":{\"gridcolor\":\"white\",\"linecolor\":\"white\",\"ticks\":\"\"},\"baxis\":{\"gridcolor\":\"white\",\"linecolor\":\"white\",\"ticks\":\"\"},\"bgcolor\":\"#E5ECF6\",\"caxis\":{\"gridcolor\":\"white\",\"linecolor\":\"white\",\"ticks\":\"\"}},\"title\":{\"x\":0.05},\"xaxis\":{\"automargin\":true,\"gridcolor\":\"white\",\"linecolor\":\"white\",\"ticks\":\"\",\"title\":{\"standoff\":15},\"zerolinecolor\":\"white\",\"zerolinewidth\":2},\"yaxis\":{\"automargin\":true,\"gridcolor\":\"white\",\"linecolor\":\"white\",\"ticks\":\"\",\"title\":{\"standoff\":15},\"zerolinecolor\":\"white\",\"zerolinewidth\":2}}},\"title\":{\"text\":\"Pressure <br>NPT Equilibration\"},\"width\":700,\"xaxis\":{\"title\":{\"text\":\"Time (ps)\"}},\"yaxis\":{\"title\":{\"text\":\"bar\"}}},                        {\"responsive\": true}                    ).then(function(){\n",
              "                            \n",
              "var gd = document.getElementById('940a8927-c19c-4f3f-80d2-c916ca1609d6');\n",
              "var x = new MutationObserver(function (mutations, observer) {{\n",
              "        var display = window.getComputedStyle(gd).display;\n",
              "        if (!display || display === 'none') {{\n",
              "            console.log([gd, 'removed!']);\n",
              "            Plotly.purge(gd);\n",
              "            observer.disconnect();\n",
              "        }}\n",
              "}});\n",
              "\n",
              "// Listen for the removal of the full notebook cells\n",
              "var notebookContainer = gd.closest('#notebook-container');\n",
              "if (notebookContainer) {{\n",
              "    x.observe(notebookContainer, {childList: true});\n",
              "}}\n",
              "\n",
              "// Listen for the clearing of the current output cell\n",
              "var outputEl = gd.closest('.output');\n",
              "if (outputEl) {{\n",
              "    x.observe(outputEl, {childList: true});\n",
              "}}\n",
              "\n",
              "                        })                };                            </script>        </div>\n",
              "</body>\n",
              "</html>"
            ]
          },
          "metadata": {}
        }
      ]
    },
    {
      "cell_type": "markdown",
      "source": [
        "Let's look at density."
      ],
      "metadata": {
        "id": "03pfw2TDeZMP"
      }
    },
    {
      "cell_type": "code",
      "source": [
        "%%bash\n",
        "source /content/drive/MyDrive/IBM3202/gromacs-2021/bin/GMXRC\n",
        "gmx energy -f npt.edr -o density.xvg <<EOF\n",
        "24 0\n",
        "EOF"
      ],
      "metadata": {
        "colab": {
          "base_uri": "https://localhost:8080/"
        },
        "id": "RkUczL7qecOI",
        "outputId": "ddfe64d5-c92f-43d9-8228-57d85b85f0da"
      },
      "execution_count": null,
      "outputs": [
        {
          "output_type": "stream",
          "name": "stdout",
          "text": [
            "\n",
            "Statistics over 50001 steps [ 0.0000 through 100.0000 ps ], 1 data sets\n",
            "All statistics are over 501 points\n",
            "\n",
            "Energy                      Average   Err.Est.       RMSD  Tot-Drift\n",
            "-------------------------------------------------------------------------------\n",
            "Density                      1015.4        0.3    2.89136  -0.160947  (kg/m^3)\n"
          ]
        },
        {
          "output_type": "stream",
          "name": "stderr",
          "text": [
            "                      :-) GROMACS - gmx energy, 2021.5 (-:\n",
            "\n",
            "                            GROMACS is written by:\n",
            "     Andrey Alekseenko              Emile Apol              Rossen Apostolov     \n",
            "         Paul Bauer           Herman J.C. Berendsen           Par Bjelkmar       \n",
            "       Christian Blau           Viacheslav Bolnykh             Kevin Boyd        \n",
            "     Aldert van Buuren           Rudi van Drunen             Anton Feenstra      \n",
            "    Gilles Gouaillardet             Alan Gray               Gerrit Groenhof      \n",
            "       Anca Hamuraru            Vincent Hindriksen          M. Eric Irrgang      \n",
            "      Aleksei Iupinov           Christoph Junghans             Joe Jordan        \n",
            "    Dimitrios Karkoulis            Peter Kasson                Jiri Kraus        \n",
            "      Carsten Kutzner              Per Larsson              Justin A. Lemkul     \n",
            "       Viveca Lindahl            Magnus Lundborg             Erik Marklund       \n",
            "        Pascal Merz             Pieter Meulenhoff            Teemu Murtola       \n",
            "        Szilard Pall               Sander Pronk              Roland Schulz       \n",
            "       Michael Shirts            Alexey Shvetsov             Alfons Sijbers      \n",
            "       Peter Tieleman              Jon Vincent              Teemu Virolainen     \n",
            "     Christian Wennberg            Maarten Wolf              Artem Zhmurov       \n",
            "                           and the project leaders:\n",
            "        Mark Abraham, Berk Hess, Erik Lindahl, and David van der Spoel\n",
            "\n",
            "Copyright (c) 1991-2000, University of Groningen, The Netherlands.\n",
            "Copyright (c) 2001-2019, The GROMACS development team at\n",
            "Uppsala University, Stockholm University and\n",
            "the Royal Institute of Technology, Sweden.\n",
            "check out http://www.gromacs.org for more information.\n",
            "\n",
            "GROMACS is free software; you can redistribute it and/or modify it\n",
            "under the terms of the GNU Lesser General Public License\n",
            "as published by the Free Software Foundation; either version 2.1\n",
            "of the License, or (at your option) any later version.\n",
            "\n",
            "GROMACS:      gmx energy, version 2021.5\n",
            "Executable:   /content/drive/MyDrive/IBM3202/gromacs-2021/bin/gmx\n",
            "Data prefix:  /content/drive/MyDrive/IBM3202/gromacs-2021\n",
            "Working dir:  /content/drive/MyDrive\n",
            "Command line:\n",
            "  gmx energy -f npt.edr -o density.xvg\n",
            "\n",
            "Opened npt.edr as single precision energy file\n",
            "\n",
            "Select the terms you want from the following list by\n",
            "selecting either (part of) the name or the number or a combination.\n",
            "End your selection with an empty line or a zero.\n",
            "-------------------------------------------------------------------\n",
            "  1  Bond             2  Angle            3  Proper-Dih.      4  Ryckaert-Bell.\n",
            "  5  LJ-14            6  Coulomb-14       7  LJ-(SR)          8  Disper.-corr. \n",
            "  9  Coulomb-(SR)    10  Coul.-recip.    11  Position-Rest.  12  Potential     \n",
            " 13  Kinetic-En.     14  Total-Energy    15  Conserved-En.   16  Temperature   \n",
            " 17  Pres.-DC        18  Pressure        19  Constr.-rmsd    20  Box-X         \n",
            " 21  Box-Y           22  Box-Z           23  Volume          24  Density       \n",
            " 25  pV              26  Enthalpy        27  Vir-XX          28  Vir-XY        \n",
            " 29  Vir-XZ          30  Vir-YX          31  Vir-YY          32  Vir-YZ        \n",
            " 33  Vir-ZX          34  Vir-ZY          35  Vir-ZZ          36  Pres-XX       \n",
            " 37  Pres-XY         38  Pres-XZ         39  Pres-YX         40  Pres-YY       \n",
            " 41  Pres-YZ         42  Pres-ZX         43  Pres-ZY         44  Pres-ZZ       \n",
            " 45  #Surf*SurfTen   46  Box-Vel-XX      47  Box-Vel-YY      48  Box-Vel-ZZ    \n",
            " 49  T-Protein                           50  T-non-Protein                     \n",
            " 51  Lamb-Protein                        52  Lamb-non-Protein                  \n",
            "\n",
            "\rReading energy frame      0 time    0.000         \rReading energy frame      1 time    1.000         \rReading energy frame      2 time    2.000         \rReading energy frame      3 time    3.000         \rReading energy frame      4 time    4.000         \rReading energy frame      5 time    5.000         \rReading energy frame      6 time    6.000         \rReading energy frame      7 time    7.000         \rReading energy frame      8 time    8.000         \rReading energy frame      9 time    9.000         \rReading energy frame     10 time   10.000         \rReading energy frame     11 time   11.000         \rReading energy frame     12 time   12.000         \rReading energy frame     13 time   13.000         \rReading energy frame     14 time   14.000         \rReading energy frame     15 time   15.000         \rReading energy frame     16 time   16.000         \rReading energy frame     17 time   17.000         \rReading energy frame     18 time   18.000         \rReading energy frame     19 time   19.000         \rReading energy frame     20 time   20.000         \rReading energy frame     30 time   30.000         \rReading energy frame     40 time   40.000         \rReading energy frame     50 time   50.000         \rReading energy frame     60 time   60.000         \rReading energy frame     70 time   70.000         \rReading energy frame     80 time   80.000         \rReading energy frame     90 time   90.000         \rReading energy frame    100 time  100.000         \rLast energy frame read 100 time  100.000         \n",
            "\n",
            "GROMACS reminds you: \"I Need Love, Not Games\" (Iggy Pop & Kate Pierson)\n",
            "\n"
          ]
        }
      ]
    },
    {
      "cell_type": "code",
      "source": [
        "!head -20 density.xvg"
      ],
      "metadata": {
        "colab": {
          "base_uri": "https://localhost:8080/"
        },
        "id": "CExJjf0PgL77",
        "outputId": "3ad54434-752d-4d71-bc3e-cbade7e9f390"
      },
      "execution_count": null,
      "outputs": [
        {
          "output_type": "stream",
          "name": "stdout",
          "text": [
            "# This file was created Thu Mar 31 19:37:36 2022\n",
            "# Created by:\n",
            "#                      :-) GROMACS - gmx energy, 2021.5 (-:\n",
            "# \n",
            "# Executable:   /content/drive/MyDrive/IBM3202/gromacs-2021/bin/gmx\n",
            "# Data prefix:  /content/drive/MyDrive/IBM3202/gromacs-2021\n",
            "# Working dir:  /content/drive/MyDrive\n",
            "# Command line:\n",
            "#   gmx energy -f npt.edr -o density.xvg\n",
            "# gmx energy is part of G R O M A C S:\n",
            "#\n",
            "# GROwing Monsters And Cloning Shrimps\n",
            "#\n",
            "@    title \"GROMACS Energies\"\n",
            "@    xaxis  label \"Time (ps)\"\n",
            "@    yaxis  label \"(kg/m^3)\"\n",
            "@TYPE xy\n",
            "@ view 0.15, 0.15, 0.75, 0.85\n",
            "@ legend on\n",
            "@ legend box on\n"
          ]
        }
      ]
    },
    {
      "cell_type": "code",
      "source": [
        "# let's plot this\n",
        "# moving average\n",
        "c = np.loadtxt('density.xvg',comments=['#', '@']) # strip out the comments\n",
        "header = [\"x\", \"y\"] # add headers to columns\n",
        "frame4 = pd.DataFrame(c, columns=header)\n",
        "\n",
        "# updating our dataFrame to have only\n",
        "# one column 'Close' as rest all columns\n",
        "# are of no use for us at the moment\n",
        "# using .to_frame() to convert pandas series\n",
        "# into dataframe.\n",
        "# frame4b = frame4['y'].to_frame()\n",
        "\n",
        "# calculating simple moving average\n",
        "# using .rolling(window).mean() ,\n",
        "# with window size = 30\n",
        "frame4b['ma10'] = frame4b['y'].rolling(10).mean()\n",
        "\n",
        "\n",
        "fig4 = px.line(frame4, x=\"x\", y=\"y\")\n",
        "fig4.update_traces(line=dict(color = 'dodgerblue'), \n",
        "                    name=\"kg/m<sup>3</sup>\")\n",
        "\n",
        "fig4b = px.line(frame4b, y=\"ma10\")\n",
        "fig4b.update_traces(line=dict(color = 'firebrick'), \n",
        "                    name=\"10 ps running average\")\n",
        "fig4c = go.Figure(data=fig4.data + fig4b.data)\n",
        "fig4c.update_layout(width=700, title_text=\"Density<br>NPT Equilibration\")\n",
        "fig4c.update_xaxes(title_text=\"Time (ps)\") # label x-axis\n",
        "fig4c.update_yaxes(title_text=\"kg/m<sup>3</sup>\") # label y-axis\n",
        "fig4c.update_traces(showlegend=True)\n",
        "fig4c.show()"
      ],
      "metadata": {
        "colab": {
          "base_uri": "https://localhost:8080/",
          "height": 542
        },
        "id": "IBJl7j_EfBIF",
        "outputId": "79bc6c0a-c597-4387-f71b-2f839ff26f66"
      },
      "execution_count": null,
      "outputs": [
        {
          "output_type": "display_data",
          "data": {
            "text/html": [
              "<html>\n",
              "<head><meta charset=\"utf-8\" /></head>\n",
              "<body>\n",
              "    <div>            <script src=\"https://cdnjs.cloudflare.com/ajax/libs/mathjax/2.7.5/MathJax.js?config=TeX-AMS-MML_SVG\"></script><script type=\"text/javascript\">if (window.MathJax) {MathJax.Hub.Config({SVG: {font: \"STIX-Web\"}});}</script>                <script type=\"text/javascript\">window.PlotlyConfig = {MathJaxConfig: 'local'};</script>\n",
              "        <script src=\"https://cdn.plot.ly/plotly-2.8.3.min.js\"></script>                <div id=\"29a66dd8-2f16-4e0f-87a7-f31a9ec6d864\" class=\"plotly-graph-div\" style=\"height:525px; width:700px;\"></div>            <script type=\"text/javascript\">                                    window.PLOTLYENV=window.PLOTLYENV || {};                                    if (document.getElementById(\"29a66dd8-2f16-4e0f-87a7-f31a9ec6d864\")) {                    Plotly.newPlot(                        \"29a66dd8-2f16-4e0f-87a7-f31a9ec6d864\",                        [{\"hovertemplate\":\"x=%{x}<br>y=%{y}<extra></extra>\",\"legendgroup\":\"\",\"line\":{\"color\":\"dodgerblue\",\"dash\":\"solid\"},\"marker\":{\"symbol\":\"circle\"},\"mode\":\"lines\",\"name\":\"kg/m<sup>3</sup>\",\"orientation\":\"v\",\"showlegend\":true,\"x\":[0.0,1.0,2.0,3.0,4.0,5.0,6.0,7.0,8.0,9.0,10.0,11.0,12.0,13.0,14.0,15.0,16.0,17.0,18.0,19.0,20.0,21.0,22.0,23.0,24.0,25.0,26.0,27.0,28.0,29.0,30.0,31.0,32.0,33.0,34.0,35.0,36.0,37.0,38.0,39.0,40.0,41.0,42.0,43.0,44.0,45.0,46.0,47.0,48.0,49.0,50.0,51.0,52.0,53.0,54.0,55.0,56.0,57.0,58.0,59.0,60.0,61.0,62.0,63.0,64.0,65.0,66.0,67.0,68.0,69.0,70.0,71.0,72.0,73.0,74.0,75.0,76.0,77.0,78.0,79.0,80.0,81.0,82.0,83.0,84.0,85.0,86.0,87.0,88.0,89.0,90.0,91.0,92.0,93.0,94.0,95.0,96.0,97.0,98.0,99.0,100.0],\"xaxis\":\"x\",\"y\":[988.394043,1015.968384,1014.686584,1014.860718,1020.230713,1016.446533,1017.019043,1014.169556,1021.128052,1017.103088,1017.393799,1018.678894,1017.089661,1012.632263,1014.799011,1018.247009,1012.890625,1012.531006,1013.740784,1015.267273,1020.245056,1014.704102,1012.308838,1013.210205,1014.268738,1015.297363,1017.610107,1013.642822,1013.629395,1008.697876,1015.31012,1015.44281,1017.681091,1014.731201,1012.28125,1016.149048,1014.92627,1016.394043,1014.594849,1015.480652,1019.255432,1018.263245,1017.769287,1016.893738,1017.08429,1019.858948,1017.978027,1016.443237,1016.086548,1013.161682,1016.145752,1015.445068,1017.8526,1017.015381,1018.438599,1013.205078,1011.862854,1013.542114,1013.433228,1013.272156,1018.862366,1009.879883,1018.179565,1018.890808,1014.487183,1016.344604,1016.491333,1015.464111,1021.400696,1013.716858,1014.972473,1015.273926,1015.425476,1017.614929,1016.815308,1013.405151,1017.882446,1015.069702,1015.521118,1013.653687,1015.262024,1017.057495,1017.724426,1016.630127,1012.53949,1016.198303,1017.72644,1013.209839,1011.750854,1014.727478,1014.830383,1015.453918,1014.010681,1014.258972,1013.713074,1017.750061,1015.667419,1018.017029,1013.556091,1009.944153,1016.226624],\"yaxis\":\"y\",\"type\":\"scatter\"},{\"hovertemplate\":\"index=%{x}<br>ma10=%{y}<extra></extra>\",\"legendgroup\":\"\",\"line\":{\"color\":\"firebrick\",\"dash\":\"solid\"},\"marker\":{\"symbol\":\"circle\"},\"mode\":\"lines\",\"name\":\"10 ps running average\",\"orientation\":\"v\",\"showlegend\":true,\"x\":[0,1,2,3,4,5,6,7,8,9,10,11,12,13,14,15,16,17,18,19,20,21,22,23,24,25,26,27,28,29,30,31,32,33,34,35,36,37,38,39,40,41,42,43,44,45,46,47,48,49,50,51,52,53,54,55,56,57,58,59,60,61,62,63,64,65,66,67,68,69,70,71,72,73,74,75,76,77,78,79,80,81,82,83,84,85,86,87,88,89,90,91,92,93,94,95,96,97,98,99,100],\"xaxis\":\"x\",\"y\":[null,null,null,null,null,null,null,null,null,1014.0006713999999,1016.900647,1017.1716979999999,1017.4120056999998,1017.1891602,1016.64599,1016.8260376000001,1016.4131958,1016.2493408,1015.510614,1015.3270325000001,1015.6121582,1015.214679,1014.7365967000002,1014.7943908999999,1014.7413636000001,1014.446399,1014.9183472000001,1015.0295288000001,1015.0183899000001,1014.3614502,1013.8679565999998,1013.9418274,1014.4790526999999,1014.6311523,1014.4324035,1014.517572,1014.2491882999999,1014.5243103999999,1014.6208558000001,1015.2991333999998,1015.6936646000001,1015.9757081,1015.9845277000001,1016.2007814000001,1016.6810853999999,1017.0520754000001,1017.3572511,1017.3621704999999,1017.5113404,1017.2794434000001,1016.9684754000002,1016.6866577000001,1016.694989,1016.7071533000001,1016.8425842,1016.1771971999999,1015.5656799000001,1015.2755676,1015.0102356,1015.021283,1015.2929443999999,1014.7364259,1014.7691224,1014.9566651000001,1014.5615234999999,1014.8754761,1015.338324,1015.5305237,1016.3272704999999,1016.3717407,1015.9827514000001,1016.5221557000001,1016.2467467999999,1016.1191589,1016.3519714,1016.0580261000001,1016.1971374000001,1016.1576965,1015.5697387,1015.5634216000001,1015.5923766999998,1015.7707336,1016.0006286,1015.9021483999999,1015.4745666000001,1015.7538817999999,1015.7382812,1015.5522948999999,1015.1752684999999,1015.2826476,1015.2394835000001,1015.0791257999999,1014.7077513,1014.4706358000001,1014.5879941999999,1014.7431700000001,1014.5372679,1015.0179869000001,1015.1985106,1014.7201781,1014.8598022],\"yaxis\":\"y\",\"type\":\"scatter\"}],                        {\"template\":{\"data\":{\"bar\":[{\"error_x\":{\"color\":\"#2a3f5f\"},\"error_y\":{\"color\":\"#2a3f5f\"},\"marker\":{\"line\":{\"color\":\"#E5ECF6\",\"width\":0.5},\"pattern\":{\"fillmode\":\"overlay\",\"size\":10,\"solidity\":0.2}},\"type\":\"bar\"}],\"barpolar\":[{\"marker\":{\"line\":{\"color\":\"#E5ECF6\",\"width\":0.5},\"pattern\":{\"fillmode\":\"overlay\",\"size\":10,\"solidity\":0.2}},\"type\":\"barpolar\"}],\"carpet\":[{\"aaxis\":{\"endlinecolor\":\"#2a3f5f\",\"gridcolor\":\"white\",\"linecolor\":\"white\",\"minorgridcolor\":\"white\",\"startlinecolor\":\"#2a3f5f\"},\"baxis\":{\"endlinecolor\":\"#2a3f5f\",\"gridcolor\":\"white\",\"linecolor\":\"white\",\"minorgridcolor\":\"white\",\"startlinecolor\":\"#2a3f5f\"},\"type\":\"carpet\"}],\"choropleth\":[{\"colorbar\":{\"outlinewidth\":0,\"ticks\":\"\"},\"type\":\"choropleth\"}],\"contour\":[{\"colorbar\":{\"outlinewidth\":0,\"ticks\":\"\"},\"colorscale\":[[0.0,\"#0d0887\"],[0.1111111111111111,\"#46039f\"],[0.2222222222222222,\"#7201a8\"],[0.3333333333333333,\"#9c179e\"],[0.4444444444444444,\"#bd3786\"],[0.5555555555555556,\"#d8576b\"],[0.6666666666666666,\"#ed7953\"],[0.7777777777777778,\"#fb9f3a\"],[0.8888888888888888,\"#fdca26\"],[1.0,\"#f0f921\"]],\"type\":\"contour\"}],\"contourcarpet\":[{\"colorbar\":{\"outlinewidth\":0,\"ticks\":\"\"},\"type\":\"contourcarpet\"}],\"heatmap\":[{\"colorbar\":{\"outlinewidth\":0,\"ticks\":\"\"},\"colorscale\":[[0.0,\"#0d0887\"],[0.1111111111111111,\"#46039f\"],[0.2222222222222222,\"#7201a8\"],[0.3333333333333333,\"#9c179e\"],[0.4444444444444444,\"#bd3786\"],[0.5555555555555556,\"#d8576b\"],[0.6666666666666666,\"#ed7953\"],[0.7777777777777778,\"#fb9f3a\"],[0.8888888888888888,\"#fdca26\"],[1.0,\"#f0f921\"]],\"type\":\"heatmap\"}],\"heatmapgl\":[{\"colorbar\":{\"outlinewidth\":0,\"ticks\":\"\"},\"colorscale\":[[0.0,\"#0d0887\"],[0.1111111111111111,\"#46039f\"],[0.2222222222222222,\"#7201a8\"],[0.3333333333333333,\"#9c179e\"],[0.4444444444444444,\"#bd3786\"],[0.5555555555555556,\"#d8576b\"],[0.6666666666666666,\"#ed7953\"],[0.7777777777777778,\"#fb9f3a\"],[0.8888888888888888,\"#fdca26\"],[1.0,\"#f0f921\"]],\"type\":\"heatmapgl\"}],\"histogram\":[{\"marker\":{\"pattern\":{\"fillmode\":\"overlay\",\"size\":10,\"solidity\":0.2}},\"type\":\"histogram\"}],\"histogram2d\":[{\"colorbar\":{\"outlinewidth\":0,\"ticks\":\"\"},\"colorscale\":[[0.0,\"#0d0887\"],[0.1111111111111111,\"#46039f\"],[0.2222222222222222,\"#7201a8\"],[0.3333333333333333,\"#9c179e\"],[0.4444444444444444,\"#bd3786\"],[0.5555555555555556,\"#d8576b\"],[0.6666666666666666,\"#ed7953\"],[0.7777777777777778,\"#fb9f3a\"],[0.8888888888888888,\"#fdca26\"],[1.0,\"#f0f921\"]],\"type\":\"histogram2d\"}],\"histogram2dcontour\":[{\"colorbar\":{\"outlinewidth\":0,\"ticks\":\"\"},\"colorscale\":[[0.0,\"#0d0887\"],[0.1111111111111111,\"#46039f\"],[0.2222222222222222,\"#7201a8\"],[0.3333333333333333,\"#9c179e\"],[0.4444444444444444,\"#bd3786\"],[0.5555555555555556,\"#d8576b\"],[0.6666666666666666,\"#ed7953\"],[0.7777777777777778,\"#fb9f3a\"],[0.8888888888888888,\"#fdca26\"],[1.0,\"#f0f921\"]],\"type\":\"histogram2dcontour\"}],\"mesh3d\":[{\"colorbar\":{\"outlinewidth\":0,\"ticks\":\"\"},\"type\":\"mesh3d\"}],\"parcoords\":[{\"line\":{\"colorbar\":{\"outlinewidth\":0,\"ticks\":\"\"}},\"type\":\"parcoords\"}],\"pie\":[{\"automargin\":true,\"type\":\"pie\"}],\"scatter\":[{\"marker\":{\"colorbar\":{\"outlinewidth\":0,\"ticks\":\"\"}},\"type\":\"scatter\"}],\"scatter3d\":[{\"line\":{\"colorbar\":{\"outlinewidth\":0,\"ticks\":\"\"}},\"marker\":{\"colorbar\":{\"outlinewidth\":0,\"ticks\":\"\"}},\"type\":\"scatter3d\"}],\"scattercarpet\":[{\"marker\":{\"colorbar\":{\"outlinewidth\":0,\"ticks\":\"\"}},\"type\":\"scattercarpet\"}],\"scattergeo\":[{\"marker\":{\"colorbar\":{\"outlinewidth\":0,\"ticks\":\"\"}},\"type\":\"scattergeo\"}],\"scattergl\":[{\"marker\":{\"colorbar\":{\"outlinewidth\":0,\"ticks\":\"\"}},\"type\":\"scattergl\"}],\"scattermapbox\":[{\"marker\":{\"colorbar\":{\"outlinewidth\":0,\"ticks\":\"\"}},\"type\":\"scattermapbox\"}],\"scatterpolar\":[{\"marker\":{\"colorbar\":{\"outlinewidth\":0,\"ticks\":\"\"}},\"type\":\"scatterpolar\"}],\"scatterpolargl\":[{\"marker\":{\"colorbar\":{\"outlinewidth\":0,\"ticks\":\"\"}},\"type\":\"scatterpolargl\"}],\"scatterternary\":[{\"marker\":{\"colorbar\":{\"outlinewidth\":0,\"ticks\":\"\"}},\"type\":\"scatterternary\"}],\"surface\":[{\"colorbar\":{\"outlinewidth\":0,\"ticks\":\"\"},\"colorscale\":[[0.0,\"#0d0887\"],[0.1111111111111111,\"#46039f\"],[0.2222222222222222,\"#7201a8\"],[0.3333333333333333,\"#9c179e\"],[0.4444444444444444,\"#bd3786\"],[0.5555555555555556,\"#d8576b\"],[0.6666666666666666,\"#ed7953\"],[0.7777777777777778,\"#fb9f3a\"],[0.8888888888888888,\"#fdca26\"],[1.0,\"#f0f921\"]],\"type\":\"surface\"}],\"table\":[{\"cells\":{\"fill\":{\"color\":\"#EBF0F8\"},\"line\":{\"color\":\"white\"}},\"header\":{\"fill\":{\"color\":\"#C8D4E3\"},\"line\":{\"color\":\"white\"}},\"type\":\"table\"}]},\"layout\":{\"annotationdefaults\":{\"arrowcolor\":\"#2a3f5f\",\"arrowhead\":0,\"arrowwidth\":1},\"autotypenumbers\":\"strict\",\"coloraxis\":{\"colorbar\":{\"outlinewidth\":0,\"ticks\":\"\"}},\"colorscale\":{\"diverging\":[[0,\"#8e0152\"],[0.1,\"#c51b7d\"],[0.2,\"#de77ae\"],[0.3,\"#f1b6da\"],[0.4,\"#fde0ef\"],[0.5,\"#f7f7f7\"],[0.6,\"#e6f5d0\"],[0.7,\"#b8e186\"],[0.8,\"#7fbc41\"],[0.9,\"#4d9221\"],[1,\"#276419\"]],\"sequential\":[[0.0,\"#0d0887\"],[0.1111111111111111,\"#46039f\"],[0.2222222222222222,\"#7201a8\"],[0.3333333333333333,\"#9c179e\"],[0.4444444444444444,\"#bd3786\"],[0.5555555555555556,\"#d8576b\"],[0.6666666666666666,\"#ed7953\"],[0.7777777777777778,\"#fb9f3a\"],[0.8888888888888888,\"#fdca26\"],[1.0,\"#f0f921\"]],\"sequentialminus\":[[0.0,\"#0d0887\"],[0.1111111111111111,\"#46039f\"],[0.2222222222222222,\"#7201a8\"],[0.3333333333333333,\"#9c179e\"],[0.4444444444444444,\"#bd3786\"],[0.5555555555555556,\"#d8576b\"],[0.6666666666666666,\"#ed7953\"],[0.7777777777777778,\"#fb9f3a\"],[0.8888888888888888,\"#fdca26\"],[1.0,\"#f0f921\"]]},\"colorway\":[\"#636efa\",\"#EF553B\",\"#00cc96\",\"#ab63fa\",\"#FFA15A\",\"#19d3f3\",\"#FF6692\",\"#B6E880\",\"#FF97FF\",\"#FECB52\"],\"font\":{\"color\":\"#2a3f5f\"},\"geo\":{\"bgcolor\":\"white\",\"lakecolor\":\"white\",\"landcolor\":\"#E5ECF6\",\"showlakes\":true,\"showland\":true,\"subunitcolor\":\"white\"},\"hoverlabel\":{\"align\":\"left\"},\"hovermode\":\"closest\",\"mapbox\":{\"style\":\"light\"},\"paper_bgcolor\":\"white\",\"plot_bgcolor\":\"#E5ECF6\",\"polar\":{\"angularaxis\":{\"gridcolor\":\"white\",\"linecolor\":\"white\",\"ticks\":\"\"},\"bgcolor\":\"#E5ECF6\",\"radialaxis\":{\"gridcolor\":\"white\",\"linecolor\":\"white\",\"ticks\":\"\"}},\"scene\":{\"xaxis\":{\"backgroundcolor\":\"#E5ECF6\",\"gridcolor\":\"white\",\"gridwidth\":2,\"linecolor\":\"white\",\"showbackground\":true,\"ticks\":\"\",\"zerolinecolor\":\"white\"},\"yaxis\":{\"backgroundcolor\":\"#E5ECF6\",\"gridcolor\":\"white\",\"gridwidth\":2,\"linecolor\":\"white\",\"showbackground\":true,\"ticks\":\"\",\"zerolinecolor\":\"white\"},\"zaxis\":{\"backgroundcolor\":\"#E5ECF6\",\"gridcolor\":\"white\",\"gridwidth\":2,\"linecolor\":\"white\",\"showbackground\":true,\"ticks\":\"\",\"zerolinecolor\":\"white\"}},\"shapedefaults\":{\"line\":{\"color\":\"#2a3f5f\"}},\"ternary\":{\"aaxis\":{\"gridcolor\":\"white\",\"linecolor\":\"white\",\"ticks\":\"\"},\"baxis\":{\"gridcolor\":\"white\",\"linecolor\":\"white\",\"ticks\":\"\"},\"bgcolor\":\"#E5ECF6\",\"caxis\":{\"gridcolor\":\"white\",\"linecolor\":\"white\",\"ticks\":\"\"}},\"title\":{\"x\":0.05},\"xaxis\":{\"automargin\":true,\"gridcolor\":\"white\",\"linecolor\":\"white\",\"ticks\":\"\",\"title\":{\"standoff\":15},\"zerolinecolor\":\"white\",\"zerolinewidth\":2},\"yaxis\":{\"automargin\":true,\"gridcolor\":\"white\",\"linecolor\":\"white\",\"ticks\":\"\",\"title\":{\"standoff\":15},\"zerolinecolor\":\"white\",\"zerolinewidth\":2}}},\"title\":{\"text\":\"Density<br>NPT Equilibration\"},\"width\":700,\"xaxis\":{\"title\":{\"text\":\"Time (ps)\"}},\"yaxis\":{\"title\":{\"text\":\"kg/m<sup>3</sup>\"}}},                        {\"responsive\": true}                    ).then(function(){\n",
              "                            \n",
              "var gd = document.getElementById('29a66dd8-2f16-4e0f-87a7-f31a9ec6d864');\n",
              "var x = new MutationObserver(function (mutations, observer) {{\n",
              "        var display = window.getComputedStyle(gd).display;\n",
              "        if (!display || display === 'none') {{\n",
              "            console.log([gd, 'removed!']);\n",
              "            Plotly.purge(gd);\n",
              "            observer.disconnect();\n",
              "        }}\n",
              "}});\n",
              "\n",
              "// Listen for the removal of the full notebook cells\n",
              "var notebookContainer = gd.closest('#notebook-container');\n",
              "if (notebookContainer) {{\n",
              "    x.observe(notebookContainer, {childList: true});\n",
              "}}\n",
              "\n",
              "// Listen for the clearing of the current output cell\n",
              "var outputEl = gd.closest('.output');\n",
              "if (outputEl) {{\n",
              "    x.observe(outputEl, {childList: true});\n",
              "}}\n",
              "\n",
              "                        })                };                            </script>        </div>\n",
              "</body>\n",
              "</html>"
            ]
          },
          "metadata": {}
        }
      ]
    },
    {
      "cell_type": "markdown",
      "source": [
        "## Production MD Simulation"
      ],
      "metadata": {
        "id": "c7K_ZkDlkUa1"
      }
    },
    {
      "cell_type": "markdown",
      "source": [
        ""
      ],
      "metadata": {
        "id": "1IT9_cf0mMkJ"
      }
    },
    {
      "cell_type": "code",
      "source": [
        "%%bash\n",
        "source /content/drive/MyDrive/IBM3202/gromacs-2021/bin/GMXRC\n",
        "gmx grompp -f md.mdp -c npt.gro -t npt.cpt -p protein.top -o md_0_1.tpr"
      ],
      "metadata": {
        "colab": {
          "base_uri": "https://localhost:8080/"
        },
        "id": "QqkvLI9XmoAp",
        "outputId": "0c82efc0-aaa9-4fd8-c3cb-253d1db421d9"
      },
      "execution_count": null,
      "outputs": [
        {
          "output_type": "stream",
          "name": "stdout",
          "text": [
            "Setting the LD random seed to 1056636799\n",
            "\n",
            "Generated 330891 of the 330891 non-bonded parameter combinations\n",
            "\n",
            "Generated 330891 of the 330891 1-4 parameter combinations\n",
            "\n",
            "Excluding 3 bonded neighbours molecule type 'Protein_chain_A'\n",
            "\n",
            "turning H bonds into constraints...\n",
            "\n",
            "Excluding 2 bonded neighbours molecule type 'SOL'\n",
            "\n",
            "turning H bonds into constraints...\n",
            "\n",
            "Excluding 1 bonded neighbours molecule type 'NA'\n",
            "\n",
            "turning H bonds into constraints...\n",
            "Analysing residue names:\n",
            "There are:   104    Protein residues\n",
            "There are: 11127      Water residues\n",
            "There are:     3        Ion residues\n",
            "Analysing Protein...\n",
            "Analysing residues not classified as Protein/DNA/RNA/Water and splitting into groups...\n",
            "\n",
            "Determining Verlet buffer for a tolerance of 0.005 kJ/mol/ps at 300 K\n",
            "\n",
            "Calculated rlist for 1x1 atom pair-list as 1.036 nm, buffer size 0.036 nm\n",
            "\n",
            "Set rlist, assuming 4x4 atom pair-list, to 1.000 nm, buffer size 0.000 nm\n",
            "\n",
            "Note that mdrun will redetermine rlist based on the actual pair-list setup\n",
            "\n",
            "Reading Coordinates, Velocities and Box size from old trajectory\n",
            "\n",
            "Will read whole trajectory\n",
            "\n",
            "Using frame at t = 100 ps\n",
            "\n",
            "Starting time for run is 0 ps\n",
            "Calculating fourier grid dimensions for X Y Z\n",
            "Using a fourier grid of 44x44x44, spacing 0.160 0.160 0.160\n",
            "\n",
            "Estimate for the relative computational load of the PME mesh part: 0.22\n",
            "\n",
            "This run will generate roughly 20 Mb of data\n"
          ]
        },
        {
          "output_type": "stream",
          "name": "stderr",
          "text": [
            "                      :-) GROMACS - gmx grompp, 2021.5 (-:\n",
            "\n",
            "                            GROMACS is written by:\n",
            "     Andrey Alekseenko              Emile Apol              Rossen Apostolov     \n",
            "         Paul Bauer           Herman J.C. Berendsen           Par Bjelkmar       \n",
            "       Christian Blau           Viacheslav Bolnykh             Kevin Boyd        \n",
            "     Aldert van Buuren           Rudi van Drunen             Anton Feenstra      \n",
            "    Gilles Gouaillardet             Alan Gray               Gerrit Groenhof      \n",
            "       Anca Hamuraru            Vincent Hindriksen          M. Eric Irrgang      \n",
            "      Aleksei Iupinov           Christoph Junghans             Joe Jordan        \n",
            "    Dimitrios Karkoulis            Peter Kasson                Jiri Kraus        \n",
            "      Carsten Kutzner              Per Larsson              Justin A. Lemkul     \n",
            "       Viveca Lindahl            Magnus Lundborg             Erik Marklund       \n",
            "        Pascal Merz             Pieter Meulenhoff            Teemu Murtola       \n",
            "        Szilard Pall               Sander Pronk              Roland Schulz       \n",
            "       Michael Shirts            Alexey Shvetsov             Alfons Sijbers      \n",
            "       Peter Tieleman              Jon Vincent              Teemu Virolainen     \n",
            "     Christian Wennberg            Maarten Wolf              Artem Zhmurov       \n",
            "                           and the project leaders:\n",
            "        Mark Abraham, Berk Hess, Erik Lindahl, and David van der Spoel\n",
            "\n",
            "Copyright (c) 1991-2000, University of Groningen, The Netherlands.\n",
            "Copyright (c) 2001-2019, The GROMACS development team at\n",
            "Uppsala University, Stockholm University and\n",
            "the Royal Institute of Technology, Sweden.\n",
            "check out http://www.gromacs.org for more information.\n",
            "\n",
            "GROMACS is free software; you can redistribute it and/or modify it\n",
            "under the terms of the GNU Lesser General Public License\n",
            "as published by the Free Software Foundation; either version 2.1\n",
            "of the License, or (at your option) any later version.\n",
            "\n",
            "GROMACS:      gmx grompp, version 2021.5\n",
            "Executable:   /content/drive/MyDrive/IBM3202/gromacs-2021/bin/gmx\n",
            "Data prefix:  /content/drive/MyDrive/IBM3202/gromacs-2021\n",
            "Working dir:  /content/drive/MyDrive\n",
            "Command line:\n",
            "  gmx grompp -f md.mdp -c npt.gro -t npt.cpt -p protein.top -o md_0_1.tpr\n",
            "\n",
            "Ignoring obsolete mdp entry 'title'\n",
            "Ignoring obsolete mdp entry 'ns_type'\n",
            "Generating 1-4 interactions: fudge = 0.5\n",
            "Number of degrees of freedom in T-Coupling group Protein is 4265.82\n",
            "Number of degrees of freedom in T-Coupling group non-Protein is 66768.18\n",
            "\rLast frame         -1 time  100.000   \n",
            "\n",
            "GROMACS reminds you: \"Science, my lad, is made up of mistakes, but they are mistakes which it is useful to make, because they lead little by little to the truth.\" (Jules Verne)\n",
            "\n"
          ]
        }
      ]
    },
    {
      "cell_type": "code",
      "source": [
        "%%bash\n",
        "source /content/drive/MyDrive/IBM3202/gromacs-2021/bin/GMXRC\n",
        "gmx mdrun -deffnm md_0_1 -nb gpu"
      ],
      "metadata": {
        "colab": {
          "base_uri": "https://localhost:8080/"
        },
        "id": "eVG6ZhQOotc7",
        "outputId": "f0d39248-8127-4e48-b7ac-666cc811218d"
      },
      "execution_count": null,
      "outputs": [
        {
          "output_type": "stream",
          "name": "stderr",
          "text": [
            "                      :-) GROMACS - gmx mdrun, 2021.5 (-:\n",
            "\n",
            "                            GROMACS is written by:\n",
            "     Andrey Alekseenko              Emile Apol              Rossen Apostolov     \n",
            "         Paul Bauer           Herman J.C. Berendsen           Par Bjelkmar       \n",
            "       Christian Blau           Viacheslav Bolnykh             Kevin Boyd        \n",
            "     Aldert van Buuren           Rudi van Drunen             Anton Feenstra      \n",
            "    Gilles Gouaillardet             Alan Gray               Gerrit Groenhof      \n",
            "       Anca Hamuraru            Vincent Hindriksen          M. Eric Irrgang      \n",
            "      Aleksei Iupinov           Christoph Junghans             Joe Jordan        \n",
            "    Dimitrios Karkoulis            Peter Kasson                Jiri Kraus        \n",
            "      Carsten Kutzner              Per Larsson              Justin A. Lemkul     \n",
            "       Viveca Lindahl            Magnus Lundborg             Erik Marklund       \n",
            "        Pascal Merz             Pieter Meulenhoff            Teemu Murtola       \n",
            "        Szilard Pall               Sander Pronk              Roland Schulz       \n",
            "       Michael Shirts            Alexey Shvetsov             Alfons Sijbers      \n",
            "       Peter Tieleman              Jon Vincent              Teemu Virolainen     \n",
            "     Christian Wennberg            Maarten Wolf              Artem Zhmurov       \n",
            "                           and the project leaders:\n",
            "        Mark Abraham, Berk Hess, Erik Lindahl, and David van der Spoel\n",
            "\n",
            "Copyright (c) 1991-2000, University of Groningen, The Netherlands.\n",
            "Copyright (c) 2001-2019, The GROMACS development team at\n",
            "Uppsala University, Stockholm University and\n",
            "the Royal Institute of Technology, Sweden.\n",
            "check out http://www.gromacs.org for more information.\n",
            "\n",
            "GROMACS is free software; you can redistribute it and/or modify it\n",
            "under the terms of the GNU Lesser General Public License\n",
            "as published by the Free Software Foundation; either version 2.1\n",
            "of the License, or (at your option) any later version.\n",
            "\n",
            "GROMACS:      gmx mdrun, version 2021.5\n",
            "Executable:   /content/drive/MyDrive/IBM3202/gromacs-2021/bin/gmx\n",
            "Data prefix:  /content/drive/MyDrive/IBM3202/gromacs-2021\n",
            "Working dir:  /content/drive/MyDrive\n",
            "Command line:\n",
            "  gmx mdrun -deffnm md_0_1 -nb gpu\n",
            "\n",
            "Reading file md_0_1.tpr, VERSION 2021.5 (single precision)\n",
            "Changing nstlist from 10 to 100, rlist from 1 to 1.167\n",
            "\n",
            "1 GPU selected for this run.\n",
            "Mapping of GPU IDs to the 2 GPU tasks in the 1 rank on this node:\n",
            "  PP:0,PME:0\n",
            "PP tasks will do (non-perturbed) short-ranged interactions on the GPU\n",
            "PP task will update and constrain coordinates on the CPU\n",
            "PME tasks will do all aspects on the GPU\n",
            "Using 1 MPI thread\n",
            "Using 2 OpenMP threads \n",
            "\n",
            "starting mdrun 'Protein in water'\n",
            "500000 steps,   1000.0 ps.\n",
            "\n",
            "Writing final coordinates.\n",
            "\n",
            "NOTE: 10 % of the run time was spent in pair search,\n",
            "      you might want to increase nstlist (this has no effect on accuracy)\n",
            "\n",
            "               Core t (s)   Wall t (s)        (%)\n",
            "       Time:     1321.708      660.857      200.0\n",
            "                 (ns/day)    (hour/ns)\n",
            "Performance:      130.740        0.184\n",
            "\n",
            "GROMACS reminds you: \"Interfacing Space and Beyond...\" (P. J. Harvey)\n",
            "\n"
          ]
        }
      ]
    },
    {
      "cell_type": "markdown",
      "source": [
        "## Analysis"
      ],
      "metadata": {
        "id": "3zKrI-AWsbQx"
      }
    },
    {
      "cell_type": "markdown",
      "source": [
        "1000 ps took 11 min."
      ],
      "metadata": {
        "id": "cjUwzTfKsdsd"
      }
    },
    {
      "cell_type": "code",
      "source": [
        "%%bash\n",
        "source /content/drive/MyDrive/IBM3202/gromacs-2021/bin/GMXRC\n",
        "gmx trjconv -s md_0_1.tpr -f md_0_1.xtc -o md_0_1_noPBC.xtc -pbc mol -center <<EOF\n",
        "1\n",
        "0\n",
        "EOF"
      ],
      "metadata": {
        "colab": {
          "base_uri": "https://localhost:8080/"
        },
        "id": "XQTmX44CstCz",
        "outputId": "dddf521b-e019-4548-dada-d66e2dab19c8"
      },
      "execution_count": null,
      "outputs": [
        {
          "output_type": "stream",
          "name": "stdout",
          "text": [
            "Note that major changes are planned in future for trjconv, to improve usability and utility.\n",
            "Select group for centering\n",
            "Selected 1: 'Protein'\n",
            "Select group for output\n",
            "Selected 0: 'System'\n"
          ]
        },
        {
          "output_type": "stream",
          "name": "stderr",
          "text": [
            "                     :-) GROMACS - gmx trjconv, 2021.5 (-:\n",
            "\n",
            "                            GROMACS is written by:\n",
            "     Andrey Alekseenko              Emile Apol              Rossen Apostolov     \n",
            "         Paul Bauer           Herman J.C. Berendsen           Par Bjelkmar       \n",
            "       Christian Blau           Viacheslav Bolnykh             Kevin Boyd        \n",
            "     Aldert van Buuren           Rudi van Drunen             Anton Feenstra      \n",
            "    Gilles Gouaillardet             Alan Gray               Gerrit Groenhof      \n",
            "       Anca Hamuraru            Vincent Hindriksen          M. Eric Irrgang      \n",
            "      Aleksei Iupinov           Christoph Junghans             Joe Jordan        \n",
            "    Dimitrios Karkoulis            Peter Kasson                Jiri Kraus        \n",
            "      Carsten Kutzner              Per Larsson              Justin A. Lemkul     \n",
            "       Viveca Lindahl            Magnus Lundborg             Erik Marklund       \n",
            "        Pascal Merz             Pieter Meulenhoff            Teemu Murtola       \n",
            "        Szilard Pall               Sander Pronk              Roland Schulz       \n",
            "       Michael Shirts            Alexey Shvetsov             Alfons Sijbers      \n",
            "       Peter Tieleman              Jon Vincent              Teemu Virolainen     \n",
            "     Christian Wennberg            Maarten Wolf              Artem Zhmurov       \n",
            "                           and the project leaders:\n",
            "        Mark Abraham, Berk Hess, Erik Lindahl, and David van der Spoel\n",
            "\n",
            "Copyright (c) 1991-2000, University of Groningen, The Netherlands.\n",
            "Copyright (c) 2001-2019, The GROMACS development team at\n",
            "Uppsala University, Stockholm University and\n",
            "the Royal Institute of Technology, Sweden.\n",
            "check out http://www.gromacs.org for more information.\n",
            "\n",
            "GROMACS is free software; you can redistribute it and/or modify it\n",
            "under the terms of the GNU Lesser General Public License\n",
            "as published by the Free Software Foundation; either version 2.1\n",
            "of the License, or (at your option) any later version.\n",
            "\n",
            "GROMACS:      gmx trjconv, version 2021.5\n",
            "Executable:   /content/drive/MyDrive/IBM3202/gromacs-2021/bin/gmx\n",
            "Data prefix:  /content/drive/MyDrive/IBM3202/gromacs-2021\n",
            "Working dir:  /content/drive/MyDrive\n",
            "Command line:\n",
            "  gmx trjconv -s md_0_1.tpr -f md_0_1.xtc -o md_0_1_noPBC.xtc -pbc mol -center\n",
            "\n",
            "Will write xtc: Compressed trajectory (portable xdr format): xtc\n",
            "Reading file md_0_1.tpr, VERSION 2021.5 (single precision)\n",
            "Reading file md_0_1.tpr, VERSION 2021.5 (single precision)\n",
            "Group     0 (         System) has 35078 elements\n",
            "Group     1 (        Protein) has  1694 elements\n",
            "Group     2 (      Protein-H) has   878 elements\n",
            "Group     3 (        C-alpha) has   104 elements\n",
            "Group     4 (       Backbone) has   312 elements\n",
            "Group     5 (      MainChain) has   417 elements\n",
            "Group     6 (   MainChain+Cb) has   516 elements\n",
            "Group     7 (    MainChain+H) has   520 elements\n",
            "Group     8 (      SideChain) has  1174 elements\n",
            "Group     9 (    SideChain-H) has   461 elements\n",
            "Group    10 (    Prot-Masses) has  1694 elements\n",
            "Group    11 (    non-Protein) has 33384 elements\n",
            "Group    12 (          Water) has 33381 elements\n",
            "Group    13 (            SOL) has 33381 elements\n",
            "Group    14 (      non-Water) has  1697 elements\n",
            "Group    15 (            Ion) has     3 elements\n",
            "Group    16 (             NA) has     3 elements\n",
            "Group    17 ( Water_and_ions) has 33384 elements\n",
            "Select a group: Group     0 (         System) has 35078 elements\n",
            "Group     1 (        Protein) has  1694 elements\n",
            "Group     2 (      Protein-H) has   878 elements\n",
            "Group     3 (        C-alpha) has   104 elements\n",
            "Group     4 (       Backbone) has   312 elements\n",
            "Group     5 (      MainChain) has   417 elements\n",
            "Group     6 (   MainChain+Cb) has   516 elements\n",
            "Group     7 (    MainChain+H) has   520 elements\n",
            "Group     8 (      SideChain) has  1174 elements\n",
            "Group     9 (    SideChain-H) has   461 elements\n",
            "Group    10 (    Prot-Masses) has  1694 elements\n",
            "Group    11 (    non-Protein) has 33384 elements\n",
            "Group    12 (          Water) has 33381 elements\n",
            "Group    13 (            SOL) has 33381 elements\n",
            "Group    14 (      non-Water) has  1697 elements\n",
            "Group    15 (            Ion) has     3 elements\n",
            "Group    16 (             NA) has     3 elements\n",
            "Group    17 ( Water_and_ions) has 33384 elements\n",
            "Select a group: \rReading frame       0 time    0.000   \n",
            "Precision of md_0_1.xtc is 0.001 (nm)\n",
            "Using output precision of 0.001 (nm)\n",
            " ->  frame      0 time    0.000      \r\rReading frame       1 time   10.000    ->  frame      1 time   10.000      \r\rReading frame       2 time   20.000    ->  frame      2 time   20.000      \r\rReading frame       3 time   30.000    ->  frame      3 time   30.000      \r\rReading frame       4 time   40.000    ->  frame      4 time   40.000      \r\rReading frame       5 time   50.000    ->  frame      5 time   50.000      \r\rReading frame       6 time   60.000    ->  frame      6 time   60.000      \r\rReading frame       7 time   70.000    ->  frame      7 time   70.000      \r\rReading frame       8 time   80.000    ->  frame      8 time   80.000      \r\rReading frame       9 time   90.000    ->  frame      9 time   90.000      \r\rReading frame      10 time  100.000    ->  frame     10 time  100.000      \r\rReading frame      11 time  110.000   \rReading frame      12 time  120.000   \rReading frame      13 time  130.000   \rReading frame      14 time  140.000   \rReading frame      15 time  150.000   \rReading frame      16 time  160.000   \rReading frame      17 time  170.000   \rReading frame      18 time  180.000   \rReading frame      19 time  190.000   \rReading frame      20 time  200.000    ->  frame     20 time  200.000      \r\rReading frame      30 time  300.000    ->  frame     30 time  300.000      \r\rReading frame      40 time  400.000    ->  frame     40 time  400.000      \r\rReading frame      50 time  500.000    ->  frame     50 time  500.000      \r\rReading frame      60 time  600.000    ->  frame     60 time  600.000      \r\rReading frame      70 time  700.000    ->  frame     70 time  700.000      \r\rReading frame      80 time  800.000    ->  frame     80 time  800.000      \r\rReading frame      90 time  900.000    ->  frame     90 time  900.000      \r\rReading frame     100 time 1000.000    ->  frame    100 time 1000.000      \r\rLast frame        100 time 1000.000   \n",
            "\n",
            "\n",
            "GROMACS reminds you: \"Life need not be easy, provided only that it is not empty.\" (Lise Meitner)\n",
            "\n"
          ]
        }
      ]
    },
    {
      "cell_type": "markdown",
      "source": [
        "### RMSD"
      ],
      "metadata": {
        "id": "9ebpL4ieQWTs"
      }
    },
    {
      "cell_type": "code",
      "source": [
        "%%bash\n",
        "source /content/drive/MyDrive/IBM3202/gromacs-2021/bin/GMXRC\n",
        "gmx rms -s md_0_1.tpr -f md_0_1_noPBC.xtc -o rmsd.xvg -tu ns <<EOF\n",
        "4\n",
        "4\n",
        "EOF"
      ],
      "metadata": {
        "colab": {
          "base_uri": "https://localhost:8080/"
        },
        "id": "5Gwu5mTPt-VC",
        "outputId": "6f773339-4de6-4eb4-e3a8-ea3de3f12957"
      },
      "execution_count": null,
      "outputs": [
        {
          "output_type": "stream",
          "name": "stdout",
          "text": [
            "Selected 4: 'Backbone'\n",
            "Selected 4: 'Backbone'\n"
          ]
        },
        {
          "output_type": "stream",
          "name": "stderr",
          "text": [
            "                       :-) GROMACS - gmx rms, 2021.5 (-:\n",
            "\n",
            "                            GROMACS is written by:\n",
            "     Andrey Alekseenko              Emile Apol              Rossen Apostolov     \n",
            "         Paul Bauer           Herman J.C. Berendsen           Par Bjelkmar       \n",
            "       Christian Blau           Viacheslav Bolnykh             Kevin Boyd        \n",
            "     Aldert van Buuren           Rudi van Drunen             Anton Feenstra      \n",
            "    Gilles Gouaillardet             Alan Gray               Gerrit Groenhof      \n",
            "       Anca Hamuraru            Vincent Hindriksen          M. Eric Irrgang      \n",
            "      Aleksei Iupinov           Christoph Junghans             Joe Jordan        \n",
            "    Dimitrios Karkoulis            Peter Kasson                Jiri Kraus        \n",
            "      Carsten Kutzner              Per Larsson              Justin A. Lemkul     \n",
            "       Viveca Lindahl            Magnus Lundborg             Erik Marklund       \n",
            "        Pascal Merz             Pieter Meulenhoff            Teemu Murtola       \n",
            "        Szilard Pall               Sander Pronk              Roland Schulz       \n",
            "       Michael Shirts            Alexey Shvetsov             Alfons Sijbers      \n",
            "       Peter Tieleman              Jon Vincent              Teemu Virolainen     \n",
            "     Christian Wennberg            Maarten Wolf              Artem Zhmurov       \n",
            "                           and the project leaders:\n",
            "        Mark Abraham, Berk Hess, Erik Lindahl, and David van der Spoel\n",
            "\n",
            "Copyright (c) 1991-2000, University of Groningen, The Netherlands.\n",
            "Copyright (c) 2001-2019, The GROMACS development team at\n",
            "Uppsala University, Stockholm University and\n",
            "the Royal Institute of Technology, Sweden.\n",
            "check out http://www.gromacs.org for more information.\n",
            "\n",
            "GROMACS is free software; you can redistribute it and/or modify it\n",
            "under the terms of the GNU Lesser General Public License\n",
            "as published by the Free Software Foundation; either version 2.1\n",
            "of the License, or (at your option) any later version.\n",
            "\n",
            "GROMACS:      gmx rms, version 2021.5\n",
            "Executable:   /content/drive/MyDrive/IBM3202/gromacs-2021/bin/gmx\n",
            "Data prefix:  /content/drive/MyDrive/IBM3202/gromacs-2021\n",
            "Working dir:  /content/drive/MyDrive\n",
            "Command line:\n",
            "  gmx rms -s md_0_1.tpr -f md_0_1_noPBC.xtc -o rmsd.xvg -tu ns\n",
            "\n",
            "Reading file md_0_1.tpr, VERSION 2021.5 (single precision)\n",
            "Reading file md_0_1.tpr, VERSION 2021.5 (single precision)\n",
            "Select group for least squares fit\n",
            "Group     0 (         System) has 35078 elements\n",
            "Group     1 (        Protein) has  1694 elements\n",
            "Group     2 (      Protein-H) has   878 elements\n",
            "Group     3 (        C-alpha) has   104 elements\n",
            "Group     4 (       Backbone) has   312 elements\n",
            "Group     5 (      MainChain) has   417 elements\n",
            "Group     6 (   MainChain+Cb) has   516 elements\n",
            "Group     7 (    MainChain+H) has   520 elements\n",
            "Group     8 (      SideChain) has  1174 elements\n",
            "Group     9 (    SideChain-H) has   461 elements\n",
            "Group    10 (    Prot-Masses) has  1694 elements\n",
            "Group    11 (    non-Protein) has 33384 elements\n",
            "Group    12 (          Water) has 33381 elements\n",
            "Group    13 (            SOL) has 33381 elements\n",
            "Group    14 (      non-Water) has  1697 elements\n",
            "Group    15 (            Ion) has     3 elements\n",
            "Group    16 (             NA) has     3 elements\n",
            "Group    17 ( Water_and_ions) has 33384 elements\n",
            "Select a group: Select group for RMSD calculation\n",
            "Group     0 (         System) has 35078 elements\n",
            "Group     1 (        Protein) has  1694 elements\n",
            "Group     2 (      Protein-H) has   878 elements\n",
            "Group     3 (        C-alpha) has   104 elements\n",
            "Group     4 (       Backbone) has   312 elements\n",
            "Group     5 (      MainChain) has   417 elements\n",
            "Group     6 (   MainChain+Cb) has   516 elements\n",
            "Group     7 (    MainChain+H) has   520 elements\n",
            "Group     8 (      SideChain) has  1174 elements\n",
            "Group     9 (    SideChain-H) has   461 elements\n",
            "Group    10 (    Prot-Masses) has  1694 elements\n",
            "Group    11 (    non-Protein) has 33384 elements\n",
            "Group    12 (          Water) has 33381 elements\n",
            "Group    13 (            SOL) has 33381 elements\n",
            "Group    14 (      non-Water) has  1697 elements\n",
            "Group    15 (            Ion) has     3 elements\n",
            "Group    16 (             NA) has     3 elements\n",
            "Group    17 ( Water_and_ions) has 33384 elements\n",
            "Select a group: \rReading frame       0 time    0.000   \rReading frame       1 time    0.010   \rReading frame       2 time    0.020   \rReading frame       3 time    0.030   \rReading frame       4 time    0.040   \rReading frame       5 time    0.050   \rReading frame       6 time    0.060   \rReading frame       7 time    0.070   \rReading frame       8 time    0.080   \rReading frame       9 time    0.090   \rReading frame      10 time    0.100   \rReading frame      11 time    0.110   \rReading frame      12 time    0.120   \rReading frame      13 time    0.130   \rReading frame      14 time    0.140   \rReading frame      15 time    0.150   \rReading frame      16 time    0.160   \rReading frame      17 time    0.170   \rReading frame      18 time    0.180   \rReading frame      19 time    0.190   \rReading frame      20 time    0.200   \rReading frame      30 time    0.300   \rReading frame      40 time    0.400   \rReading frame      50 time    0.500   \rReading frame      60 time    0.600   \rReading frame      70 time    0.700   \rReading frame      80 time    0.800   \rReading frame      90 time    0.900   \rReading frame     100 time    1.000   \rLast frame        100 time    1.000   \n",
            "\n",
            "GROMACS reminds you: \"You Fill Me With Inertia\" (The Long Blondes)\n",
            "\n"
          ]
        }
      ]
    },
    {
      "cell_type": "code",
      "source": [
        "!head -20 rmsd.xvg"
      ],
      "metadata": {
        "colab": {
          "base_uri": "https://localhost:8080/"
        },
        "id": "DMzdYj14u1Nh",
        "outputId": "57c37a63-2a40-4046-8fe9-ce82230dc1ea"
      },
      "execution_count": null,
      "outputs": [
        {
          "output_type": "stream",
          "name": "stdout",
          "text": [
            "# This file was created Thu Mar 31 20:44:15 2022\n",
            "# Created by:\n",
            "#                       :-) GROMACS - gmx rms, 2021.5 (-:\n",
            "# \n",
            "# Executable:   /content/drive/MyDrive/IBM3202/gromacs-2021/bin/gmx\n",
            "# Data prefix:  /content/drive/MyDrive/IBM3202/gromacs-2021\n",
            "# Working dir:  /content/drive/MyDrive\n",
            "# Command line:\n",
            "#   gmx rms -s md_0_1.tpr -f md_0_1_noPBC.xtc -o rmsd.xvg -tu ns\n",
            "# gmx rms is part of G R O M A C S:\n",
            "#\n",
            "# Great Red Oystrich Makes All Chemists Sane\n",
            "#\n",
            "@    title \"RMSD\"\n",
            "@    xaxis  label \"Time (ns)\"\n",
            "@    yaxis  label \"RMSD (nm)\"\n",
            "@TYPE xy\n",
            "@ subtitle \"Backbone after lsq fit to Backbone\"\n",
            "   0.0000000    0.0004943\n",
            "   0.0100000    0.0785261\n"
          ]
        }
      ]
    },
    {
      "cell_type": "code",
      "source": [
        "%cd /content/drive/MyDrive/"
      ],
      "metadata": {
        "colab": {
          "base_uri": "https://localhost:8080/"
        },
        "id": "g48FHkz3BLBS",
        "outputId": "3cfae4e9-ab41-4fe7-ca04-dc95cb154ce7"
      },
      "execution_count": null,
      "outputs": [
        {
          "output_type": "stream",
          "name": "stdout",
          "text": [
            "/content/drive/MyDrive\n"
          ]
        }
      ]
    },
    {
      "cell_type": "code",
      "source": [
        "# RMSD\n",
        "import plotly.graph_objects as go\n",
        "import pandas as pd\n",
        "import numpy as np\n",
        "import plotly.express as px\n",
        "from pathlib import Path\n",
        "c = np.loadtxt('rmsd.xvg',comments=['#', '@']) # strip out the comments\n",
        "header = [\"x\", \"y\"] # add headers to columns\n",
        "frame5a = pd.DataFrame(c, columns=header)\n",
        "\n",
        "d = np.loadtxt('rmsd_xtal.xvg',comments=['#', '@']) # strip out the comments\n",
        "header = [\"x\", \"y\"] # add headers to columns\n",
        "frame5b = pd.DataFrame(d, columns=header)\n",
        "\n",
        "fig5a = px.line(frame5a, x=\"x\", y=\"y\")\n",
        "fig5a.update_traces(line=dict(color = 'dodgerblue'), \n",
        "                    name=\"RMSD\")\n",
        "\n",
        "fig5b = px.line(frame5b, x=\"x\", y=\"y\")\n",
        "fig5b.update_traces(line=dict(color = 'firebrick'), \n",
        "                    name=\"crystal RMSD\")\n",
        "fig5 = go.Figure(data=fig5a.data + fig5b.data)\n",
        "fig5.update_layout(width=700, title_text=\"RMSD\")\n",
        "fig5.update_xaxes(title_text=\"Time (ps)\") # label x-axis\n",
        "fig5.update_yaxes(title_text=\"RMSD\") # label y-axis\n",
        "fig5.update_traces(showlegend=True)\n",
        "fig5.show()"
      ],
      "metadata": {
        "colab": {
          "base_uri": "https://localhost:8080/",
          "height": 542
        },
        "outputId": "41062e8e-6afc-4453-ac06-1bcc5e5e266b",
        "id": "EjJNz98gAOK1"
      },
      "execution_count": null,
      "outputs": [
        {
          "output_type": "display_data",
          "data": {
            "text/html": [
              "<html>\n",
              "<head><meta charset=\"utf-8\" /></head>\n",
              "<body>\n",
              "    <div>            <script src=\"https://cdnjs.cloudflare.com/ajax/libs/mathjax/2.7.5/MathJax.js?config=TeX-AMS-MML_SVG\"></script><script type=\"text/javascript\">if (window.MathJax) {MathJax.Hub.Config({SVG: {font: \"STIX-Web\"}});}</script>                <script type=\"text/javascript\">window.PlotlyConfig = {MathJaxConfig: 'local'};</script>\n",
              "        <script src=\"https://cdn.plot.ly/plotly-2.8.3.min.js\"></script>                <div id=\"a80e81e8-646e-4051-bc6a-409d19fabb6a\" class=\"plotly-graph-div\" style=\"height:525px; width:700px;\"></div>            <script type=\"text/javascript\">                                    window.PLOTLYENV=window.PLOTLYENV || {};                                    if (document.getElementById(\"a80e81e8-646e-4051-bc6a-409d19fabb6a\")) {                    Plotly.newPlot(                        \"a80e81e8-646e-4051-bc6a-409d19fabb6a\",                        [{\"hovertemplate\":\"x=%{x}<br>y=%{y}<extra></extra>\",\"legendgroup\":\"\",\"line\":{\"color\":\"dodgerblue\",\"dash\":\"solid\"},\"marker\":{\"symbol\":\"circle\"},\"mode\":\"lines\",\"name\":\"RMSD\",\"orientation\":\"v\",\"showlegend\":true,\"x\":[0.0,0.01,0.02,0.03,0.04,0.05,0.06,0.07,0.08,0.09,0.1,0.11,0.12,0.13,0.14,0.15,0.16,0.17,0.18,0.19,0.2,0.21,0.22,0.23,0.24,0.25,0.26,0.27,0.28,0.29,0.3,0.31,0.32,0.33,0.34,0.35,0.36,0.37,0.38,0.39,0.4,0.41,0.42,0.43,0.44,0.45,0.46,0.47,0.48,0.49,0.5,0.5100001,0.52,0.53,0.54,0.55,0.56,0.5700001,0.58,0.59,0.6,0.61,0.62,0.6300001,0.64,0.65,0.66,0.67,0.68,0.6900001,0.7,0.71,0.72,0.73,0.74,0.7500001,0.7600001,0.77,0.78,0.79,0.8,0.8100001,0.8200001,0.83,0.84,0.85,0.86,0.8700001,0.8800001,0.89,0.9,0.91,0.92,0.9300001,0.9400001,0.95,0.96,0.97,0.98,0.9900001,1.0],\"xaxis\":\"x\",\"y\":[0.0004943,0.0785261,0.095961,0.1068052,0.1303372,0.1274066,0.1344273,0.1390637,0.139432,0.1457715,0.138468,0.1458231,0.1481464,0.1475093,0.1502,0.1682964,0.1572079,0.1693485,0.183751,0.1690078,0.1660104,0.1697862,0.1869211,0.1605791,0.1695612,0.1556513,0.1544599,0.1620662,0.1741956,0.1811835,0.1876013,0.168218,0.1518011,0.1701418,0.172222,0.1905637,0.1888274,0.173233,0.1663566,0.1673017,0.1467861,0.1647353,0.1587751,0.1562474,0.1750781,0.1688965,0.1720483,0.1714632,0.1813546,0.1844945,0.1729408,0.1581773,0.1661386,0.1721261,0.1730022,0.182071,0.1657881,0.1755789,0.169153,0.1703466,0.1609186,0.1718947,0.1570617,0.1639692,0.1705172,0.1889016,0.1740692,0.1722998,0.158998,0.1696892,0.1898101,0.1896114,0.1802289,0.1755597,0.1770656,0.1753198,0.1668216,0.1696352,0.1714437,0.1609294,0.1683253,0.1730781,0.1820439,0.1604658,0.1701075,0.1744241,0.1655273,0.1661042,0.1726095,0.1813052,0.154293,0.1618663,0.1481227,0.1421273,0.1445583,0.1573398,0.1715999,0.1736681,0.1820889,0.1619496,0.1581896],\"yaxis\":\"y\",\"type\":\"scatter\"},{\"hovertemplate\":\"x=%{x}<br>y=%{y}<extra></extra>\",\"legendgroup\":\"\",\"line\":{\"color\":\"firebrick\",\"dash\":\"solid\"},\"marker\":{\"symbol\":\"circle\"},\"mode\":\"lines\",\"name\":\"crystal RMSD\",\"orientation\":\"v\",\"showlegend\":true,\"x\":[0.0,0.01,0.02,0.03,0.04,0.05,0.06,0.07,0.08,0.09,0.1,0.11,0.12,0.13,0.14,0.15,0.16,0.17,0.18,0.19,0.2,0.21,0.22,0.23,0.24,0.25,0.26,0.27,0.28,0.29,0.3,0.31,0.32,0.33,0.34,0.35,0.36,0.37,0.38,0.39,0.4,0.41,0.42,0.43,0.44,0.45,0.46,0.47,0.48,0.49,0.5,0.5100001,0.52,0.53,0.54,0.55,0.56,0.5700001,0.58,0.59,0.6,0.61,0.62,0.6300001,0.64,0.65,0.66,0.67,0.68,0.6900001,0.7,0.71,0.72,0.73,0.74,0.7500001,0.7600001,0.77,0.78,0.79,0.8,0.8100001,0.8200001,0.83,0.84,0.85,0.86,0.8700001,0.8800001,0.89,0.9,0.91,0.92,0.9300001,0.9400001,0.95,0.96,0.97,0.98,0.9900001,1.0],\"xaxis\":\"x\",\"y\":[0.0398932,0.087494,0.1032838,0.1154277,0.1382406,0.1337446,0.1438071,0.1467785,0.1462355,0.1526955,0.1465584,0.1542425,0.1556939,0.1548832,0.1567096,0.1755447,0.1669528,0.1752243,0.189211,0.1756565,0.1717066,0.1748432,0.1925636,0.1669993,0.1768178,0.1640778,0.1634524,0.1689052,0.1819837,0.1874406,0.1936599,0.1755787,0.1576874,0.1766952,0.1780314,0.1966908,0.1948093,0.1776004,0.1719296,0.1730581,0.1527778,0.1726953,0.1658777,0.1645088,0.1827667,0.1767628,0.1807979,0.1788212,0.1891647,0.1923105,0.1815511,0.1651015,0.1740592,0.180888,0.1797485,0.1892345,0.1732883,0.1828642,0.1780817,0.1798774,0.1694896,0.1782227,0.1642828,0.1711705,0.1794086,0.1976584,0.1824019,0.1820066,0.1668243,0.1780336,0.1997522,0.1980559,0.1891802,0.1853315,0.1865365,0.1863609,0.176763,0.1798966,0.1824249,0.170479,0.1777495,0.1815872,0.1889526,0.1688844,0.1788318,0.1823851,0.1741585,0.1751463,0.1817249,0.191136,0.1642265,0.170816,0.156664,0.1518031,0.153998,0.1641574,0.1786675,0.1821056,0.1889965,0.1689239,0.1654382],\"yaxis\":\"y\",\"type\":\"scatter\"}],                        {\"template\":{\"data\":{\"bar\":[{\"error_x\":{\"color\":\"#2a3f5f\"},\"error_y\":{\"color\":\"#2a3f5f\"},\"marker\":{\"line\":{\"color\":\"#E5ECF6\",\"width\":0.5},\"pattern\":{\"fillmode\":\"overlay\",\"size\":10,\"solidity\":0.2}},\"type\":\"bar\"}],\"barpolar\":[{\"marker\":{\"line\":{\"color\":\"#E5ECF6\",\"width\":0.5},\"pattern\":{\"fillmode\":\"overlay\",\"size\":10,\"solidity\":0.2}},\"type\":\"barpolar\"}],\"carpet\":[{\"aaxis\":{\"endlinecolor\":\"#2a3f5f\",\"gridcolor\":\"white\",\"linecolor\":\"white\",\"minorgridcolor\":\"white\",\"startlinecolor\":\"#2a3f5f\"},\"baxis\":{\"endlinecolor\":\"#2a3f5f\",\"gridcolor\":\"white\",\"linecolor\":\"white\",\"minorgridcolor\":\"white\",\"startlinecolor\":\"#2a3f5f\"},\"type\":\"carpet\"}],\"choropleth\":[{\"colorbar\":{\"outlinewidth\":0,\"ticks\":\"\"},\"type\":\"choropleth\"}],\"contour\":[{\"colorbar\":{\"outlinewidth\":0,\"ticks\":\"\"},\"colorscale\":[[0.0,\"#0d0887\"],[0.1111111111111111,\"#46039f\"],[0.2222222222222222,\"#7201a8\"],[0.3333333333333333,\"#9c179e\"],[0.4444444444444444,\"#bd3786\"],[0.5555555555555556,\"#d8576b\"],[0.6666666666666666,\"#ed7953\"],[0.7777777777777778,\"#fb9f3a\"],[0.8888888888888888,\"#fdca26\"],[1.0,\"#f0f921\"]],\"type\":\"contour\"}],\"contourcarpet\":[{\"colorbar\":{\"outlinewidth\":0,\"ticks\":\"\"},\"type\":\"contourcarpet\"}],\"heatmap\":[{\"colorbar\":{\"outlinewidth\":0,\"ticks\":\"\"},\"colorscale\":[[0.0,\"#0d0887\"],[0.1111111111111111,\"#46039f\"],[0.2222222222222222,\"#7201a8\"],[0.3333333333333333,\"#9c179e\"],[0.4444444444444444,\"#bd3786\"],[0.5555555555555556,\"#d8576b\"],[0.6666666666666666,\"#ed7953\"],[0.7777777777777778,\"#fb9f3a\"],[0.8888888888888888,\"#fdca26\"],[1.0,\"#f0f921\"]],\"type\":\"heatmap\"}],\"heatmapgl\":[{\"colorbar\":{\"outlinewidth\":0,\"ticks\":\"\"},\"colorscale\":[[0.0,\"#0d0887\"],[0.1111111111111111,\"#46039f\"],[0.2222222222222222,\"#7201a8\"],[0.3333333333333333,\"#9c179e\"],[0.4444444444444444,\"#bd3786\"],[0.5555555555555556,\"#d8576b\"],[0.6666666666666666,\"#ed7953\"],[0.7777777777777778,\"#fb9f3a\"],[0.8888888888888888,\"#fdca26\"],[1.0,\"#f0f921\"]],\"type\":\"heatmapgl\"}],\"histogram\":[{\"marker\":{\"pattern\":{\"fillmode\":\"overlay\",\"size\":10,\"solidity\":0.2}},\"type\":\"histogram\"}],\"histogram2d\":[{\"colorbar\":{\"outlinewidth\":0,\"ticks\":\"\"},\"colorscale\":[[0.0,\"#0d0887\"],[0.1111111111111111,\"#46039f\"],[0.2222222222222222,\"#7201a8\"],[0.3333333333333333,\"#9c179e\"],[0.4444444444444444,\"#bd3786\"],[0.5555555555555556,\"#d8576b\"],[0.6666666666666666,\"#ed7953\"],[0.7777777777777778,\"#fb9f3a\"],[0.8888888888888888,\"#fdca26\"],[1.0,\"#f0f921\"]],\"type\":\"histogram2d\"}],\"histogram2dcontour\":[{\"colorbar\":{\"outlinewidth\":0,\"ticks\":\"\"},\"colorscale\":[[0.0,\"#0d0887\"],[0.1111111111111111,\"#46039f\"],[0.2222222222222222,\"#7201a8\"],[0.3333333333333333,\"#9c179e\"],[0.4444444444444444,\"#bd3786\"],[0.5555555555555556,\"#d8576b\"],[0.6666666666666666,\"#ed7953\"],[0.7777777777777778,\"#fb9f3a\"],[0.8888888888888888,\"#fdca26\"],[1.0,\"#f0f921\"]],\"type\":\"histogram2dcontour\"}],\"mesh3d\":[{\"colorbar\":{\"outlinewidth\":0,\"ticks\":\"\"},\"type\":\"mesh3d\"}],\"parcoords\":[{\"line\":{\"colorbar\":{\"outlinewidth\":0,\"ticks\":\"\"}},\"type\":\"parcoords\"}],\"pie\":[{\"automargin\":true,\"type\":\"pie\"}],\"scatter\":[{\"marker\":{\"colorbar\":{\"outlinewidth\":0,\"ticks\":\"\"}},\"type\":\"scatter\"}],\"scatter3d\":[{\"line\":{\"colorbar\":{\"outlinewidth\":0,\"ticks\":\"\"}},\"marker\":{\"colorbar\":{\"outlinewidth\":0,\"ticks\":\"\"}},\"type\":\"scatter3d\"}],\"scattercarpet\":[{\"marker\":{\"colorbar\":{\"outlinewidth\":0,\"ticks\":\"\"}},\"type\":\"scattercarpet\"}],\"scattergeo\":[{\"marker\":{\"colorbar\":{\"outlinewidth\":0,\"ticks\":\"\"}},\"type\":\"scattergeo\"}],\"scattergl\":[{\"marker\":{\"colorbar\":{\"outlinewidth\":0,\"ticks\":\"\"}},\"type\":\"scattergl\"}],\"scattermapbox\":[{\"marker\":{\"colorbar\":{\"outlinewidth\":0,\"ticks\":\"\"}},\"type\":\"scattermapbox\"}],\"scatterpolar\":[{\"marker\":{\"colorbar\":{\"outlinewidth\":0,\"ticks\":\"\"}},\"type\":\"scatterpolar\"}],\"scatterpolargl\":[{\"marker\":{\"colorbar\":{\"outlinewidth\":0,\"ticks\":\"\"}},\"type\":\"scatterpolargl\"}],\"scatterternary\":[{\"marker\":{\"colorbar\":{\"outlinewidth\":0,\"ticks\":\"\"}},\"type\":\"scatterternary\"}],\"surface\":[{\"colorbar\":{\"outlinewidth\":0,\"ticks\":\"\"},\"colorscale\":[[0.0,\"#0d0887\"],[0.1111111111111111,\"#46039f\"],[0.2222222222222222,\"#7201a8\"],[0.3333333333333333,\"#9c179e\"],[0.4444444444444444,\"#bd3786\"],[0.5555555555555556,\"#d8576b\"],[0.6666666666666666,\"#ed7953\"],[0.7777777777777778,\"#fb9f3a\"],[0.8888888888888888,\"#fdca26\"],[1.0,\"#f0f921\"]],\"type\":\"surface\"}],\"table\":[{\"cells\":{\"fill\":{\"color\":\"#EBF0F8\"},\"line\":{\"color\":\"white\"}},\"header\":{\"fill\":{\"color\":\"#C8D4E3\"},\"line\":{\"color\":\"white\"}},\"type\":\"table\"}]},\"layout\":{\"annotationdefaults\":{\"arrowcolor\":\"#2a3f5f\",\"arrowhead\":0,\"arrowwidth\":1},\"autotypenumbers\":\"strict\",\"coloraxis\":{\"colorbar\":{\"outlinewidth\":0,\"ticks\":\"\"}},\"colorscale\":{\"diverging\":[[0,\"#8e0152\"],[0.1,\"#c51b7d\"],[0.2,\"#de77ae\"],[0.3,\"#f1b6da\"],[0.4,\"#fde0ef\"],[0.5,\"#f7f7f7\"],[0.6,\"#e6f5d0\"],[0.7,\"#b8e186\"],[0.8,\"#7fbc41\"],[0.9,\"#4d9221\"],[1,\"#276419\"]],\"sequential\":[[0.0,\"#0d0887\"],[0.1111111111111111,\"#46039f\"],[0.2222222222222222,\"#7201a8\"],[0.3333333333333333,\"#9c179e\"],[0.4444444444444444,\"#bd3786\"],[0.5555555555555556,\"#d8576b\"],[0.6666666666666666,\"#ed7953\"],[0.7777777777777778,\"#fb9f3a\"],[0.8888888888888888,\"#fdca26\"],[1.0,\"#f0f921\"]],\"sequentialminus\":[[0.0,\"#0d0887\"],[0.1111111111111111,\"#46039f\"],[0.2222222222222222,\"#7201a8\"],[0.3333333333333333,\"#9c179e\"],[0.4444444444444444,\"#bd3786\"],[0.5555555555555556,\"#d8576b\"],[0.6666666666666666,\"#ed7953\"],[0.7777777777777778,\"#fb9f3a\"],[0.8888888888888888,\"#fdca26\"],[1.0,\"#f0f921\"]]},\"colorway\":[\"#636efa\",\"#EF553B\",\"#00cc96\",\"#ab63fa\",\"#FFA15A\",\"#19d3f3\",\"#FF6692\",\"#B6E880\",\"#FF97FF\",\"#FECB52\"],\"font\":{\"color\":\"#2a3f5f\"},\"geo\":{\"bgcolor\":\"white\",\"lakecolor\":\"white\",\"landcolor\":\"#E5ECF6\",\"showlakes\":true,\"showland\":true,\"subunitcolor\":\"white\"},\"hoverlabel\":{\"align\":\"left\"},\"hovermode\":\"closest\",\"mapbox\":{\"style\":\"light\"},\"paper_bgcolor\":\"white\",\"plot_bgcolor\":\"#E5ECF6\",\"polar\":{\"angularaxis\":{\"gridcolor\":\"white\",\"linecolor\":\"white\",\"ticks\":\"\"},\"bgcolor\":\"#E5ECF6\",\"radialaxis\":{\"gridcolor\":\"white\",\"linecolor\":\"white\",\"ticks\":\"\"}},\"scene\":{\"xaxis\":{\"backgroundcolor\":\"#E5ECF6\",\"gridcolor\":\"white\",\"gridwidth\":2,\"linecolor\":\"white\",\"showbackground\":true,\"ticks\":\"\",\"zerolinecolor\":\"white\"},\"yaxis\":{\"backgroundcolor\":\"#E5ECF6\",\"gridcolor\":\"white\",\"gridwidth\":2,\"linecolor\":\"white\",\"showbackground\":true,\"ticks\":\"\",\"zerolinecolor\":\"white\"},\"zaxis\":{\"backgroundcolor\":\"#E5ECF6\",\"gridcolor\":\"white\",\"gridwidth\":2,\"linecolor\":\"white\",\"showbackground\":true,\"ticks\":\"\",\"zerolinecolor\":\"white\"}},\"shapedefaults\":{\"line\":{\"color\":\"#2a3f5f\"}},\"ternary\":{\"aaxis\":{\"gridcolor\":\"white\",\"linecolor\":\"white\",\"ticks\":\"\"},\"baxis\":{\"gridcolor\":\"white\",\"linecolor\":\"white\",\"ticks\":\"\"},\"bgcolor\":\"#E5ECF6\",\"caxis\":{\"gridcolor\":\"white\",\"linecolor\":\"white\",\"ticks\":\"\"}},\"title\":{\"x\":0.05},\"xaxis\":{\"automargin\":true,\"gridcolor\":\"white\",\"linecolor\":\"white\",\"ticks\":\"\",\"title\":{\"standoff\":15},\"zerolinecolor\":\"white\",\"zerolinewidth\":2},\"yaxis\":{\"automargin\":true,\"gridcolor\":\"white\",\"linecolor\":\"white\",\"ticks\":\"\",\"title\":{\"standoff\":15},\"zerolinecolor\":\"white\",\"zerolinewidth\":2}}},\"title\":{\"text\":\"RMSD\"},\"width\":700,\"xaxis\":{\"title\":{\"text\":\"Time (ps)\"}},\"yaxis\":{\"title\":{\"text\":\"RMSD\"}}},                        {\"responsive\": true}                    ).then(function(){\n",
              "                            \n",
              "var gd = document.getElementById('a80e81e8-646e-4051-bc6a-409d19fabb6a');\n",
              "var x = new MutationObserver(function (mutations, observer) {{\n",
              "        var display = window.getComputedStyle(gd).display;\n",
              "        if (!display || display === 'none') {{\n",
              "            console.log([gd, 'removed!']);\n",
              "            Plotly.purge(gd);\n",
              "            observer.disconnect();\n",
              "        }}\n",
              "}});\n",
              "\n",
              "// Listen for the removal of the full notebook cells\n",
              "var notebookContainer = gd.closest('#notebook-container');\n",
              "if (notebookContainer) {{\n",
              "    x.observe(notebookContainer, {childList: true});\n",
              "}}\n",
              "\n",
              "// Listen for the clearing of the current output cell\n",
              "var outputEl = gd.closest('.output');\n",
              "if (outputEl) {{\n",
              "    x.observe(outputEl, {childList: true});\n",
              "}}\n",
              "\n",
              "                        })                };                            </script>        </div>\n",
              "</body>\n",
              "</html>"
            ]
          },
          "metadata": {}
        }
      ]
    },
    {
      "cell_type": "markdown",
      "source": [
        "#### Questions\n",
        "\n",
        "See [PHY542: MD analysis with VMD tutorial](https://becksteinlab.physics.asu.edu/pages/courses/2017/PHY542/practicals/md/dynamics/rmsd_fitting.html)  \n",
        "\n",
        "Questions:\n",
        "\n",
        "- What is the maximum RMSD?\n",
        "- How does the RMSD change when you include\n",
        "  - all atoms?\n",
        "  - all heavy atoms (i.e., do not use hydrogens)?\n",
        "- Does your RMSD result depend on the previous superposition step?\n",
        "- Is the result consistent with the previous result of your RMSD analysis of the static structures?"
      ],
      "metadata": {
        "id": "aIl_QgoO03XZ"
      }
    },
    {
      "cell_type": "code",
      "source": [
        "!chmod 755 -R /content/drive/MyDrive/IBM3202/gromacs-2021"
      ],
      "metadata": {
        "id": "XGR4tHHLvD7J"
      },
      "execution_count": null,
      "outputs": []
    },
    {
      "cell_type": "code",
      "source": [
        "%%bash\n",
        "source /content/drive/MyDrive/IBM3202/gromacs-2021/bin/GMXRC\n",
        "gmx rms -s em.tpr -f md_0_1_noPBC.xtc -o rmsd_xtal.xvg -tu ns <<EOF\n",
        "4\n",
        "4\n",
        "EOF"
      ],
      "metadata": {
        "colab": {
          "base_uri": "https://localhost:8080/"
        },
        "id": "DyiYINrWAL4u",
        "outputId": "28ba1c9f-7475-4484-bbb8-65b73991f4be"
      },
      "execution_count": null,
      "outputs": [
        {
          "output_type": "stream",
          "name": "stdout",
          "text": [
            "Selected 4: 'Backbone'\n",
            "Selected 4: 'Backbone'\n"
          ]
        },
        {
          "output_type": "stream",
          "name": "stderr",
          "text": [
            "                       :-) GROMACS - gmx rms, 2021.5 (-:\n",
            "\n",
            "                            GROMACS is written by:\n",
            "     Andrey Alekseenko              Emile Apol              Rossen Apostolov     \n",
            "         Paul Bauer           Herman J.C. Berendsen           Par Bjelkmar       \n",
            "       Christian Blau           Viacheslav Bolnykh             Kevin Boyd        \n",
            "     Aldert van Buuren           Rudi van Drunen             Anton Feenstra      \n",
            "    Gilles Gouaillardet             Alan Gray               Gerrit Groenhof      \n",
            "       Anca Hamuraru            Vincent Hindriksen          M. Eric Irrgang      \n",
            "      Aleksei Iupinov           Christoph Junghans             Joe Jordan        \n",
            "    Dimitrios Karkoulis            Peter Kasson                Jiri Kraus        \n",
            "      Carsten Kutzner              Per Larsson              Justin A. Lemkul     \n",
            "       Viveca Lindahl            Magnus Lundborg             Erik Marklund       \n",
            "        Pascal Merz             Pieter Meulenhoff            Teemu Murtola       \n",
            "        Szilard Pall               Sander Pronk              Roland Schulz       \n",
            "       Michael Shirts            Alexey Shvetsov             Alfons Sijbers      \n",
            "       Peter Tieleman              Jon Vincent              Teemu Virolainen     \n",
            "     Christian Wennberg            Maarten Wolf              Artem Zhmurov       \n",
            "                           and the project leaders:\n",
            "        Mark Abraham, Berk Hess, Erik Lindahl, and David van der Spoel\n",
            "\n",
            "Copyright (c) 1991-2000, University of Groningen, The Netherlands.\n",
            "Copyright (c) 2001-2019, The GROMACS development team at\n",
            "Uppsala University, Stockholm University and\n",
            "the Royal Institute of Technology, Sweden.\n",
            "check out http://www.gromacs.org for more information.\n",
            "\n",
            "GROMACS is free software; you can redistribute it and/or modify it\n",
            "under the terms of the GNU Lesser General Public License\n",
            "as published by the Free Software Foundation; either version 2.1\n",
            "of the License, or (at your option) any later version.\n",
            "\n",
            "GROMACS:      gmx rms, version 2021.5\n",
            "Executable:   /content/drive/MyDrive/IBM3202/gromacs-2021/bin/gmx\n",
            "Data prefix:  /content/drive/MyDrive/IBM3202/gromacs-2021\n",
            "Working dir:  /content/drive/MyDrive\n",
            "Command line:\n",
            "  gmx rms -s em.tpr -f md_0_1_noPBC.xtc -o rmsd_xtal.xvg -tu ns\n",
            "\n",
            "Reading file em.tpr, VERSION 2021.5 (single precision)\n",
            "Reading file em.tpr, VERSION 2021.5 (single precision)\n",
            "Select group for least squares fit\n",
            "Group     0 (         System) has 35078 elements\n",
            "Group     1 (        Protein) has  1694 elements\n",
            "Group     2 (      Protein-H) has   878 elements\n",
            "Group     3 (        C-alpha) has   104 elements\n",
            "Group     4 (       Backbone) has   312 elements\n",
            "Group     5 (      MainChain) has   417 elements\n",
            "Group     6 (   MainChain+Cb) has   516 elements\n",
            "Group     7 (    MainChain+H) has   520 elements\n",
            "Group     8 (      SideChain) has  1174 elements\n",
            "Group     9 (    SideChain-H) has   461 elements\n",
            "Group    10 (    Prot-Masses) has  1694 elements\n",
            "Group    11 (    non-Protein) has 33384 elements\n",
            "Group    12 (          Water) has 33381 elements\n",
            "Group    13 (            SOL) has 33381 elements\n",
            "Group    14 (      non-Water) has  1697 elements\n",
            "Group    15 (            Ion) has     3 elements\n",
            "Group    16 (             NA) has     3 elements\n",
            "Group    17 ( Water_and_ions) has 33384 elements\n",
            "Select a group: Select group for RMSD calculation\n",
            "Group     0 (         System) has 35078 elements\n",
            "Group     1 (        Protein) has  1694 elements\n",
            "Group     2 (      Protein-H) has   878 elements\n",
            "Group     3 (        C-alpha) has   104 elements\n",
            "Group     4 (       Backbone) has   312 elements\n",
            "Group     5 (      MainChain) has   417 elements\n",
            "Group     6 (   MainChain+Cb) has   516 elements\n",
            "Group     7 (    MainChain+H) has   520 elements\n",
            "Group     8 (      SideChain) has  1174 elements\n",
            "Group     9 (    SideChain-H) has   461 elements\n",
            "Group    10 (    Prot-Masses) has  1694 elements\n",
            "Group    11 (    non-Protein) has 33384 elements\n",
            "Group    12 (          Water) has 33381 elements\n",
            "Group    13 (            SOL) has 33381 elements\n",
            "Group    14 (      non-Water) has  1697 elements\n",
            "Group    15 (            Ion) has     3 elements\n",
            "Group    16 (             NA) has     3 elements\n",
            "Group    17 ( Water_and_ions) has 33384 elements\n",
            "Select a group: \rReading frame       0 time    0.000   \rReading frame       1 time    0.010   \rReading frame       2 time    0.020   \rReading frame       3 time    0.030   \rReading frame       4 time    0.040   \rReading frame       5 time    0.050   \rReading frame       6 time    0.060   \rReading frame       7 time    0.070   \rReading frame       8 time    0.080   \rReading frame       9 time    0.090   \rReading frame      10 time    0.100   \rReading frame      11 time    0.110   \rReading frame      12 time    0.120   \rReading frame      13 time    0.130   \rReading frame      14 time    0.140   \rReading frame      15 time    0.150   \rReading frame      16 time    0.160   \rReading frame      17 time    0.170   \rReading frame      18 time    0.180   \rReading frame      19 time    0.190   \rReading frame      20 time    0.200   \rReading frame      30 time    0.300   \rReading frame      40 time    0.400   \rReading frame      50 time    0.500   \rReading frame      60 time    0.600   \rReading frame      70 time    0.700   \rReading frame      80 time    0.800   \rReading frame      90 time    0.900   \rReading frame     100 time    1.000   \rLast frame        100 time    1.000   \n",
            "\n",
            "GROMACS reminds you: \"A method is more important than a discovery, since the right method will lead to new and even more important discoveries.\" (Lev Landau)\n",
            "\n"
          ]
        }
      ]
    },
    {
      "cell_type": "markdown",
      "source": [
        "### Radius of Gyration"
      ],
      "metadata": {
        "id": "77DXAEwIQe7O"
      }
    },
    {
      "cell_type": "code",
      "source": [
        "%%bash\n",
        "source /content/drive/MyDrive/IBM3202/gromacs-2021/bin/GMXRC\n",
        "gmx gyrate -s md_0_1.tpr -f md_0_1_noPBC.xtc -o gyrate.xvg <<EOF\n",
        "1\n",
        "EOF"
      ],
      "metadata": {
        "colab": {
          "base_uri": "https://localhost:8080/"
        },
        "id": "YGup94RnEuLI",
        "outputId": "cd7d5c54-a22c-4808-f6da-57f9f4b84da6"
      },
      "execution_count": null,
      "outputs": [
        {
          "output_type": "stream",
          "name": "stdout",
          "text": [
            "Selected 1: 'Protein'\n"
          ]
        },
        {
          "output_type": "stream",
          "name": "stderr",
          "text": [
            "                      :-) GROMACS - gmx gyrate, 2021.5 (-:\n",
            "\n",
            "                            GROMACS is written by:\n",
            "     Andrey Alekseenko              Emile Apol              Rossen Apostolov     \n",
            "         Paul Bauer           Herman J.C. Berendsen           Par Bjelkmar       \n",
            "       Christian Blau           Viacheslav Bolnykh             Kevin Boyd        \n",
            "     Aldert van Buuren           Rudi van Drunen             Anton Feenstra      \n",
            "    Gilles Gouaillardet             Alan Gray               Gerrit Groenhof      \n",
            "       Anca Hamuraru            Vincent Hindriksen          M. Eric Irrgang      \n",
            "      Aleksei Iupinov           Christoph Junghans             Joe Jordan        \n",
            "    Dimitrios Karkoulis            Peter Kasson                Jiri Kraus        \n",
            "      Carsten Kutzner              Per Larsson              Justin A. Lemkul     \n",
            "       Viveca Lindahl            Magnus Lundborg             Erik Marklund       \n",
            "        Pascal Merz             Pieter Meulenhoff            Teemu Murtola       \n",
            "        Szilard Pall               Sander Pronk              Roland Schulz       \n",
            "       Michael Shirts            Alexey Shvetsov             Alfons Sijbers      \n",
            "       Peter Tieleman              Jon Vincent              Teemu Virolainen     \n",
            "     Christian Wennberg            Maarten Wolf              Artem Zhmurov       \n",
            "                           and the project leaders:\n",
            "        Mark Abraham, Berk Hess, Erik Lindahl, and David van der Spoel\n",
            "\n",
            "Copyright (c) 1991-2000, University of Groningen, The Netherlands.\n",
            "Copyright (c) 2001-2019, The GROMACS development team at\n",
            "Uppsala University, Stockholm University and\n",
            "the Royal Institute of Technology, Sweden.\n",
            "check out http://www.gromacs.org for more information.\n",
            "\n",
            "GROMACS is free software; you can redistribute it and/or modify it\n",
            "under the terms of the GNU Lesser General Public License\n",
            "as published by the Free Software Foundation; either version 2.1\n",
            "of the License, or (at your option) any later version.\n",
            "\n",
            "GROMACS:      gmx gyrate, version 2021.5\n",
            "Executable:   /content/drive/MyDrive/IBM3202/gromacs-2021/bin/gmx\n",
            "Data prefix:  /content/drive/MyDrive/IBM3202/gromacs-2021\n",
            "Working dir:  /content/drive/MyDrive\n",
            "Command line:\n",
            "  gmx gyrate -s md_0_1.tpr -f md_0_1_noPBC.xtc -o gyrate.xvg\n",
            "\n",
            "Reading file md_0_1.tpr, VERSION 2021.5 (single precision)\n",
            "Reading file md_0_1.tpr, VERSION 2021.5 (single precision)\n",
            "Group     0 (         System) has 35078 elements\n",
            "Group     1 (        Protein) has  1694 elements\n",
            "Group     2 (      Protein-H) has   878 elements\n",
            "Group     3 (        C-alpha) has   104 elements\n",
            "Group     4 (       Backbone) has   312 elements\n",
            "Group     5 (      MainChain) has   417 elements\n",
            "Group     6 (   MainChain+Cb) has   516 elements\n",
            "Group     7 (    MainChain+H) has   520 elements\n",
            "Group     8 (      SideChain) has  1174 elements\n",
            "Group     9 (    SideChain-H) has   461 elements\n",
            "Group    10 (    Prot-Masses) has  1694 elements\n",
            "Group    11 (    non-Protein) has 33384 elements\n",
            "Group    12 (          Water) has 33381 elements\n",
            "Group    13 (            SOL) has 33381 elements\n",
            "Group    14 (      non-Water) has  1697 elements\n",
            "Group    15 (            Ion) has     3 elements\n",
            "Group    16 (             NA) has     3 elements\n",
            "Group    17 ( Water_and_ions) has 33384 elements\n",
            "Select a group: \rReading frame       0 time    0.000   \rReading frame       1 time   10.000   \rReading frame       2 time   20.000   \rReading frame       3 time   30.000   \rReading frame       4 time   40.000   \rReading frame       5 time   50.000   \rReading frame       6 time   60.000   \rReading frame       7 time   70.000   \rReading frame       8 time   80.000   \rReading frame       9 time   90.000   \rReading frame      10 time  100.000   \rReading frame      11 time  110.000   \rReading frame      12 time  120.000   \rReading frame      13 time  130.000   \rReading frame      14 time  140.000   \rReading frame      15 time  150.000   \rReading frame      16 time  160.000   \rReading frame      17 time  170.000   \rReading frame      18 time  180.000   \rReading frame      19 time  190.000   \rReading frame      20 time  200.000   \rReading frame      30 time  300.000   \rReading frame      40 time  400.000   \rReading frame      50 time  500.000   \rReading frame      60 time  600.000   \rReading frame      70 time  700.000   \rReading frame      80 time  800.000   \rReading frame      90 time  900.000   \rReading frame     100 time 1000.000   \rLast frame        100 time 1000.000   \n",
            "\n",
            "GROMACS reminds you: \"Every Sperm is Sacred\" (Monty Python)\n",
            "\n"
          ]
        }
      ]
    },
    {
      "cell_type": "code",
      "source": [
        ""
      ],
      "metadata": {
        "id": "wN8s1AksFHRI"
      },
      "execution_count": null,
      "outputs": []
    },
    {
      "cell_type": "code",
      "source": [
        "#@title Radius of Gyration\n",
        "\n",
        "e = np.loadtxt('gyrate.xvg',comments=['#', '@']) # strip out the comments\n",
        "header = [\"t\", \"rg\", \"x\", \"y\", \"z\"] # add headers to columns\n",
        "frame6 = pd.DataFrame(e, columns=header)\n",
        "\n",
        "fig6 = px.line(frame6, x=\"t\", y=\"rg\")\n",
        "fig6.update_traces(line=dict(color = 'dodgerblue'), \n",
        "                    name=\"radius of gyration\"\n",
        "                   )\n",
        "\n",
        "fig6.update_layout(width=700, title_text=\"Radius of Gyration\")\n",
        "fig6.update_xaxes(title_text=\"Time (ps)\")\n",
        "fig6.update_yaxes(range=[1.40, 1.60])\n",
        "fig6.update_yaxes(title_text=\"R<sub>g</sub> (nm)\") # label y-axis\n",
        "fig6.update_traces(showlegend=True)\n",
        "fig6.show()"
      ],
      "metadata": {
        "colab": {
          "base_uri": "https://localhost:8080/",
          "height": 542
        },
        "outputId": "96b943ac-6868-441a-a4ee-1e6947f0412a",
        "id": "Mjd_HhzKFHqb"
      },
      "execution_count": null,
      "outputs": [
        {
          "output_type": "display_data",
          "data": {
            "text/html": [
              "<html>\n",
              "<head><meta charset=\"utf-8\" /></head>\n",
              "<body>\n",
              "    <div>            <script src=\"https://cdnjs.cloudflare.com/ajax/libs/mathjax/2.7.5/MathJax.js?config=TeX-AMS-MML_SVG\"></script><script type=\"text/javascript\">if (window.MathJax) {MathJax.Hub.Config({SVG: {font: \"STIX-Web\"}});}</script>                <script type=\"text/javascript\">window.PlotlyConfig = {MathJaxConfig: 'local'};</script>\n",
              "        <script src=\"https://cdn.plot.ly/plotly-2.8.3.min.js\"></script>                <div id=\"cdbd933b-712f-49c4-98a7-ed7f15326b2b\" class=\"plotly-graph-div\" style=\"height:525px; width:700px;\"></div>            <script type=\"text/javascript\">                                    window.PLOTLYENV=window.PLOTLYENV || {};                                    if (document.getElementById(\"cdbd933b-712f-49c4-98a7-ed7f15326b2b\")) {                    Plotly.newPlot(                        \"cdbd933b-712f-49c4-98a7-ed7f15326b2b\",                        [{\"hovertemplate\":\"t=%{x}<br>rg=%{y}<extra></extra>\",\"legendgroup\":\"\",\"line\":{\"color\":\"dodgerblue\",\"dash\":\"solid\"},\"marker\":{\"symbol\":\"circle\"},\"mode\":\"lines\",\"name\":\"radius of gyration\",\"orientation\":\"v\",\"showlegend\":true,\"x\":[0.0,10.0,20.0,30.0,40.0,50.0,60.0,70.0,80.0,90.0,100.0,110.0,120.0,130.0,140.0,150.0,160.0,170.0,180.0,190.0,200.0,210.0,220.0,230.0,240.0,250.0,260.0,270.0,280.0,290.0,300.0,310.0,320.0,330.0,340.0,350.0,360.0,370.0,380.0,390.0,400.0,410.0,420.0,430.0,440.0,450.0,460.0,470.0,480.0,490.0,500.0,510.0,520.0,530.0,540.0,550.0,560.0,570.0,580.0,590.0,600.0,610.0,620.0,630.0,640.0,650.0,660.0,670.0,680.0,690.0,700.0,710.0,720.0,730.0,740.0,750.0,760.0,770.0,780.0,790.0,800.0,810.0,820.0,830.0,840.0,850.0,860.0,870.0,880.0,890.0,900.0,910.0,920.0,930.0,940.0,950.0,960.0,970.0,980.0,990.0,1000.0],\"xaxis\":\"x\",\"y\":[1.47486,1.49046,1.4855,1.5044,1.51105,1.50397,1.50561,1.50494,1.50687,1.50524,1.50143,1.50246,1.50092,1.49712,1.49837,1.51488,1.49613,1.49585,1.49817,1.50716,1.49716,1.49417,1.50593,1.5034,1.49827,1.49129,1.49299,1.48405,1.49237,1.48578,1.47784,1.48678,1.49499,1.49616,1.50005,1.49335,1.48566,1.48982,1.48779,1.49138,1.49339,1.49884,1.50603,1.5031,1.48307,1.49737,1.49786,1.50715,1.50261,1.50811,1.50427,1.49899,1.4947,1.49743,1.4887,1.49523,1.49378,1.50285,1.49772,1.49391,1.49876,1.50139,1.50406,1.49432,1.49288,1.50248,1.50453,1.51667,1.51522,1.51099,1.51115,1.51302,1.50882,1.50276,1.51168,1.51095,1.50856,1.50432,1.50496,1.50627,1.50277,1.49931,1.50756,1.49689,1.50517,1.50692,1.50412,1.50147,1.49214,1.50363,1.49435,1.49322,1.4886,1.48802,1.49587,1.48963,1.49728,1.50579,1.49487,1.50276,1.48768],\"yaxis\":\"y\",\"type\":\"scatter\"}],                        {\"template\":{\"data\":{\"bar\":[{\"error_x\":{\"color\":\"#2a3f5f\"},\"error_y\":{\"color\":\"#2a3f5f\"},\"marker\":{\"line\":{\"color\":\"#E5ECF6\",\"width\":0.5},\"pattern\":{\"fillmode\":\"overlay\",\"size\":10,\"solidity\":0.2}},\"type\":\"bar\"}],\"barpolar\":[{\"marker\":{\"line\":{\"color\":\"#E5ECF6\",\"width\":0.5},\"pattern\":{\"fillmode\":\"overlay\",\"size\":10,\"solidity\":0.2}},\"type\":\"barpolar\"}],\"carpet\":[{\"aaxis\":{\"endlinecolor\":\"#2a3f5f\",\"gridcolor\":\"white\",\"linecolor\":\"white\",\"minorgridcolor\":\"white\",\"startlinecolor\":\"#2a3f5f\"},\"baxis\":{\"endlinecolor\":\"#2a3f5f\",\"gridcolor\":\"white\",\"linecolor\":\"white\",\"minorgridcolor\":\"white\",\"startlinecolor\":\"#2a3f5f\"},\"type\":\"carpet\"}],\"choropleth\":[{\"colorbar\":{\"outlinewidth\":0,\"ticks\":\"\"},\"type\":\"choropleth\"}],\"contour\":[{\"colorbar\":{\"outlinewidth\":0,\"ticks\":\"\"},\"colorscale\":[[0.0,\"#0d0887\"],[0.1111111111111111,\"#46039f\"],[0.2222222222222222,\"#7201a8\"],[0.3333333333333333,\"#9c179e\"],[0.4444444444444444,\"#bd3786\"],[0.5555555555555556,\"#d8576b\"],[0.6666666666666666,\"#ed7953\"],[0.7777777777777778,\"#fb9f3a\"],[0.8888888888888888,\"#fdca26\"],[1.0,\"#f0f921\"]],\"type\":\"contour\"}],\"contourcarpet\":[{\"colorbar\":{\"outlinewidth\":0,\"ticks\":\"\"},\"type\":\"contourcarpet\"}],\"heatmap\":[{\"colorbar\":{\"outlinewidth\":0,\"ticks\":\"\"},\"colorscale\":[[0.0,\"#0d0887\"],[0.1111111111111111,\"#46039f\"],[0.2222222222222222,\"#7201a8\"],[0.3333333333333333,\"#9c179e\"],[0.4444444444444444,\"#bd3786\"],[0.5555555555555556,\"#d8576b\"],[0.6666666666666666,\"#ed7953\"],[0.7777777777777778,\"#fb9f3a\"],[0.8888888888888888,\"#fdca26\"],[1.0,\"#f0f921\"]],\"type\":\"heatmap\"}],\"heatmapgl\":[{\"colorbar\":{\"outlinewidth\":0,\"ticks\":\"\"},\"colorscale\":[[0.0,\"#0d0887\"],[0.1111111111111111,\"#46039f\"],[0.2222222222222222,\"#7201a8\"],[0.3333333333333333,\"#9c179e\"],[0.4444444444444444,\"#bd3786\"],[0.5555555555555556,\"#d8576b\"],[0.6666666666666666,\"#ed7953\"],[0.7777777777777778,\"#fb9f3a\"],[0.8888888888888888,\"#fdca26\"],[1.0,\"#f0f921\"]],\"type\":\"heatmapgl\"}],\"histogram\":[{\"marker\":{\"pattern\":{\"fillmode\":\"overlay\",\"size\":10,\"solidity\":0.2}},\"type\":\"histogram\"}],\"histogram2d\":[{\"colorbar\":{\"outlinewidth\":0,\"ticks\":\"\"},\"colorscale\":[[0.0,\"#0d0887\"],[0.1111111111111111,\"#46039f\"],[0.2222222222222222,\"#7201a8\"],[0.3333333333333333,\"#9c179e\"],[0.4444444444444444,\"#bd3786\"],[0.5555555555555556,\"#d8576b\"],[0.6666666666666666,\"#ed7953\"],[0.7777777777777778,\"#fb9f3a\"],[0.8888888888888888,\"#fdca26\"],[1.0,\"#f0f921\"]],\"type\":\"histogram2d\"}],\"histogram2dcontour\":[{\"colorbar\":{\"outlinewidth\":0,\"ticks\":\"\"},\"colorscale\":[[0.0,\"#0d0887\"],[0.1111111111111111,\"#46039f\"],[0.2222222222222222,\"#7201a8\"],[0.3333333333333333,\"#9c179e\"],[0.4444444444444444,\"#bd3786\"],[0.5555555555555556,\"#d8576b\"],[0.6666666666666666,\"#ed7953\"],[0.7777777777777778,\"#fb9f3a\"],[0.8888888888888888,\"#fdca26\"],[1.0,\"#f0f921\"]],\"type\":\"histogram2dcontour\"}],\"mesh3d\":[{\"colorbar\":{\"outlinewidth\":0,\"ticks\":\"\"},\"type\":\"mesh3d\"}],\"parcoords\":[{\"line\":{\"colorbar\":{\"outlinewidth\":0,\"ticks\":\"\"}},\"type\":\"parcoords\"}],\"pie\":[{\"automargin\":true,\"type\":\"pie\"}],\"scatter\":[{\"marker\":{\"colorbar\":{\"outlinewidth\":0,\"ticks\":\"\"}},\"type\":\"scatter\"}],\"scatter3d\":[{\"line\":{\"colorbar\":{\"outlinewidth\":0,\"ticks\":\"\"}},\"marker\":{\"colorbar\":{\"outlinewidth\":0,\"ticks\":\"\"}},\"type\":\"scatter3d\"}],\"scattercarpet\":[{\"marker\":{\"colorbar\":{\"outlinewidth\":0,\"ticks\":\"\"}},\"type\":\"scattercarpet\"}],\"scattergeo\":[{\"marker\":{\"colorbar\":{\"outlinewidth\":0,\"ticks\":\"\"}},\"type\":\"scattergeo\"}],\"scattergl\":[{\"marker\":{\"colorbar\":{\"outlinewidth\":0,\"ticks\":\"\"}},\"type\":\"scattergl\"}],\"scattermapbox\":[{\"marker\":{\"colorbar\":{\"outlinewidth\":0,\"ticks\":\"\"}},\"type\":\"scattermapbox\"}],\"scatterpolar\":[{\"marker\":{\"colorbar\":{\"outlinewidth\":0,\"ticks\":\"\"}},\"type\":\"scatterpolar\"}],\"scatterpolargl\":[{\"marker\":{\"colorbar\":{\"outlinewidth\":0,\"ticks\":\"\"}},\"type\":\"scatterpolargl\"}],\"scatterternary\":[{\"marker\":{\"colorbar\":{\"outlinewidth\":0,\"ticks\":\"\"}},\"type\":\"scatterternary\"}],\"surface\":[{\"colorbar\":{\"outlinewidth\":0,\"ticks\":\"\"},\"colorscale\":[[0.0,\"#0d0887\"],[0.1111111111111111,\"#46039f\"],[0.2222222222222222,\"#7201a8\"],[0.3333333333333333,\"#9c179e\"],[0.4444444444444444,\"#bd3786\"],[0.5555555555555556,\"#d8576b\"],[0.6666666666666666,\"#ed7953\"],[0.7777777777777778,\"#fb9f3a\"],[0.8888888888888888,\"#fdca26\"],[1.0,\"#f0f921\"]],\"type\":\"surface\"}],\"table\":[{\"cells\":{\"fill\":{\"color\":\"#EBF0F8\"},\"line\":{\"color\":\"white\"}},\"header\":{\"fill\":{\"color\":\"#C8D4E3\"},\"line\":{\"color\":\"white\"}},\"type\":\"table\"}]},\"layout\":{\"annotationdefaults\":{\"arrowcolor\":\"#2a3f5f\",\"arrowhead\":0,\"arrowwidth\":1},\"autotypenumbers\":\"strict\",\"coloraxis\":{\"colorbar\":{\"outlinewidth\":0,\"ticks\":\"\"}},\"colorscale\":{\"diverging\":[[0,\"#8e0152\"],[0.1,\"#c51b7d\"],[0.2,\"#de77ae\"],[0.3,\"#f1b6da\"],[0.4,\"#fde0ef\"],[0.5,\"#f7f7f7\"],[0.6,\"#e6f5d0\"],[0.7,\"#b8e186\"],[0.8,\"#7fbc41\"],[0.9,\"#4d9221\"],[1,\"#276419\"]],\"sequential\":[[0.0,\"#0d0887\"],[0.1111111111111111,\"#46039f\"],[0.2222222222222222,\"#7201a8\"],[0.3333333333333333,\"#9c179e\"],[0.4444444444444444,\"#bd3786\"],[0.5555555555555556,\"#d8576b\"],[0.6666666666666666,\"#ed7953\"],[0.7777777777777778,\"#fb9f3a\"],[0.8888888888888888,\"#fdca26\"],[1.0,\"#f0f921\"]],\"sequentialminus\":[[0.0,\"#0d0887\"],[0.1111111111111111,\"#46039f\"],[0.2222222222222222,\"#7201a8\"],[0.3333333333333333,\"#9c179e\"],[0.4444444444444444,\"#bd3786\"],[0.5555555555555556,\"#d8576b\"],[0.6666666666666666,\"#ed7953\"],[0.7777777777777778,\"#fb9f3a\"],[0.8888888888888888,\"#fdca26\"],[1.0,\"#f0f921\"]]},\"colorway\":[\"#636efa\",\"#EF553B\",\"#00cc96\",\"#ab63fa\",\"#FFA15A\",\"#19d3f3\",\"#FF6692\",\"#B6E880\",\"#FF97FF\",\"#FECB52\"],\"font\":{\"color\":\"#2a3f5f\"},\"geo\":{\"bgcolor\":\"white\",\"lakecolor\":\"white\",\"landcolor\":\"#E5ECF6\",\"showlakes\":true,\"showland\":true,\"subunitcolor\":\"white\"},\"hoverlabel\":{\"align\":\"left\"},\"hovermode\":\"closest\",\"mapbox\":{\"style\":\"light\"},\"paper_bgcolor\":\"white\",\"plot_bgcolor\":\"#E5ECF6\",\"polar\":{\"angularaxis\":{\"gridcolor\":\"white\",\"linecolor\":\"white\",\"ticks\":\"\"},\"bgcolor\":\"#E5ECF6\",\"radialaxis\":{\"gridcolor\":\"white\",\"linecolor\":\"white\",\"ticks\":\"\"}},\"scene\":{\"xaxis\":{\"backgroundcolor\":\"#E5ECF6\",\"gridcolor\":\"white\",\"gridwidth\":2,\"linecolor\":\"white\",\"showbackground\":true,\"ticks\":\"\",\"zerolinecolor\":\"white\"},\"yaxis\":{\"backgroundcolor\":\"#E5ECF6\",\"gridcolor\":\"white\",\"gridwidth\":2,\"linecolor\":\"white\",\"showbackground\":true,\"ticks\":\"\",\"zerolinecolor\":\"white\"},\"zaxis\":{\"backgroundcolor\":\"#E5ECF6\",\"gridcolor\":\"white\",\"gridwidth\":2,\"linecolor\":\"white\",\"showbackground\":true,\"ticks\":\"\",\"zerolinecolor\":\"white\"}},\"shapedefaults\":{\"line\":{\"color\":\"#2a3f5f\"}},\"ternary\":{\"aaxis\":{\"gridcolor\":\"white\",\"linecolor\":\"white\",\"ticks\":\"\"},\"baxis\":{\"gridcolor\":\"white\",\"linecolor\":\"white\",\"ticks\":\"\"},\"bgcolor\":\"#E5ECF6\",\"caxis\":{\"gridcolor\":\"white\",\"linecolor\":\"white\",\"ticks\":\"\"}},\"title\":{\"x\":0.05},\"xaxis\":{\"automargin\":true,\"gridcolor\":\"white\",\"linecolor\":\"white\",\"ticks\":\"\",\"title\":{\"standoff\":15},\"zerolinecolor\":\"white\",\"zerolinewidth\":2},\"yaxis\":{\"automargin\":true,\"gridcolor\":\"white\",\"linecolor\":\"white\",\"ticks\":\"\",\"title\":{\"standoff\":15},\"zerolinecolor\":\"white\",\"zerolinewidth\":2}}},\"xaxis\":{\"anchor\":\"y\",\"domain\":[0.0,1.0],\"title\":{\"text\":\"Time (ps)\"}},\"yaxis\":{\"anchor\":\"x\",\"domain\":[0.0,1.0],\"title\":{\"text\":\"Rg (nm)\"},\"range\":[1.4,1.6]},\"legend\":{\"tracegroupgap\":0},\"margin\":{\"t\":60},\"title\":{\"text\":\"Radius of Gyration\"},\"width\":700},                        {\"responsive\": true}                    ).then(function(){\n",
              "                            \n",
              "var gd = document.getElementById('cdbd933b-712f-49c4-98a7-ed7f15326b2b');\n",
              "var x = new MutationObserver(function (mutations, observer) {{\n",
              "        var display = window.getComputedStyle(gd).display;\n",
              "        if (!display || display === 'none') {{\n",
              "            console.log([gd, 'removed!']);\n",
              "            Plotly.purge(gd);\n",
              "            observer.disconnect();\n",
              "        }}\n",
              "}});\n",
              "\n",
              "// Listen for the removal of the full notebook cells\n",
              "var notebookContainer = gd.closest('#notebook-container');\n",
              "if (notebookContainer) {{\n",
              "    x.observe(notebookContainer, {childList: true});\n",
              "}}\n",
              "\n",
              "// Listen for the clearing of the current output cell\n",
              "var outputEl = gd.closest('.output');\n",
              "if (outputEl) {{\n",
              "    x.observe(outputEl, {childList: true});\n",
              "}}\n",
              "\n",
              "                        })                };                            </script>        </div>\n",
              "</body>\n",
              "</html>"
            ]
          },
          "metadata": {}
        }
      ]
    },
    {
      "cell_type": "code",
      "source": [
        "!head -40 gyrate.xvg"
      ],
      "metadata": {
        "colab": {
          "base_uri": "https://localhost:8080/"
        },
        "id": "uQ_dKcorF2UI",
        "outputId": "ddec6ba4-9642-4446-b2f1-876c2e6064f3"
      },
      "execution_count": null,
      "outputs": [
        {
          "output_type": "stream",
          "name": "stdout",
          "text": [
            "# This file was created Fri Apr  1 12:22:26 2022\n",
            "# Created by:\n",
            "#                      :-) GROMACS - gmx gyrate, 2021.5 (-:\n",
            "# \n",
            "# Executable:   /content/drive/MyDrive/IBM3202/gromacs-2021/bin/gmx\n",
            "# Data prefix:  /content/drive/MyDrive/IBM3202/gromacs-2021\n",
            "# Working dir:  /content/drive/MyDrive\n",
            "# Command line:\n",
            "#   gmx gyrate -s md_0_1.tpr -f md_0_1_noPBC.xtc -o gyrate.xvg\n",
            "# gmx gyrate is part of G R O M A C S:\n",
            "#\n",
            "# GRowing Old MAkes el Chrono Sweat\n",
            "#\n",
            "@    title \"Radius of gyration (total and around axes)\"\n",
            "@    xaxis  label \"Time (ps)\"\n",
            "@    yaxis  label \"Rg (nm)\"\n",
            "@TYPE xy\n",
            "@ view 0.15, 0.15, 0.75, 0.85\n",
            "@ legend on\n",
            "@ legend box on\n",
            "@ legend loctype view\n",
            "@ legend 0.78, 0.8\n",
            "@ legend length 2\n",
            "@ s0 legend \"Rg\"\n",
            "@ s1 legend \"Rg\\sX\\N\"\n",
            "@ s2 legend \"Rg\\sY\\N\"\n",
            "@ s3 legend \"Rg\\sZ\\N\"\n",
            "         0     1.47486     1.00816     1.26001     1.32152\n",
            "        10     1.49046     1.00053      1.2713     1.35117\n",
            "        20      1.4855    0.995395     1.28199     1.33384\n",
            "        30      1.5044     1.00574     1.29379     1.35686\n",
            "        40     1.51105     1.02467     1.29809     1.35335\n",
            "        50     1.50397     1.01695       1.288     1.35305\n",
            "        60     1.50561     1.01598     1.28857     1.35687\n",
            "        70     1.50494     1.00049     1.29314     1.36253\n",
            "        80     1.50687    0.998384      1.3026     1.35932\n",
            "        90     1.50524    0.994873     1.30301     1.35791\n",
            "       100     1.50143    0.984768     1.30408     1.35581\n",
            "       110     1.50246    0.981318     1.31347     1.35152\n",
            "       120     1.50092    0.977755     1.31323     1.35092\n"
          ]
        }
      ]
    },
    {
      "cell_type": "markdown",
      "source": [
        "### Ramachandran"
      ],
      "metadata": {
        "id": "ORczByX-T3w2"
      }
    },
    {
      "cell_type": "code",
      "source": [
        "%%bash\n",
        "source /content/drive/MyDrive/IBM3202/gromacs-2021/bin/GMXRC\n",
        "gmx rama -s md_0_1.tpr -f md_0_1_noPBC.xtc -o rama.xvg"
      ],
      "metadata": {
        "id": "Tibi0uLCT9Hy"
      },
      "execution_count": null,
      "outputs": []
    },
    {
      "cell_type": "code",
      "source": [
        "%%bash\n",
        "source /content/drive/MyDrive/IBM3202/gromacs-2021/bin/GMXRC\n",
        "gmx chi -s md_0_1.tpr -f md_0_1_noPBC.xtc -rama -o chi.xvg"
      ],
      "metadata": {
        "colab": {
          "base_uri": "https://localhost:8080/"
        },
        "id": "q4_vm2X0JflH",
        "outputId": "4919c171-d83e-4bb0-d3b6-fe656c26407a"
      },
      "execution_count": null,
      "outputs": [
        {
          "output_type": "stream",
          "name": "stderr",
          "text": [
            "                       :-) GROMACS - gmx chi, 2021.5 (-:\n",
            "\n",
            "                            GROMACS is written by:\n",
            "     Andrey Alekseenko              Emile Apol              Rossen Apostolov     \n",
            "         Paul Bauer           Herman J.C. Berendsen           Par Bjelkmar       \n",
            "       Christian Blau           Viacheslav Bolnykh             Kevin Boyd        \n",
            "     Aldert van Buuren           Rudi van Drunen             Anton Feenstra      \n",
            "    Gilles Gouaillardet             Alan Gray               Gerrit Groenhof      \n",
            "       Anca Hamuraru            Vincent Hindriksen          M. Eric Irrgang      \n",
            "      Aleksei Iupinov           Christoph Junghans             Joe Jordan        \n",
            "    Dimitrios Karkoulis            Peter Kasson                Jiri Kraus        \n",
            "      Carsten Kutzner              Per Larsson              Justin A. Lemkul     \n",
            "       Viveca Lindahl            Magnus Lundborg             Erik Marklund       \n",
            "        Pascal Merz             Pieter Meulenhoff            Teemu Murtola       \n",
            "        Szilard Pall               Sander Pronk              Roland Schulz       \n",
            "       Michael Shirts            Alexey Shvetsov             Alfons Sijbers      \n",
            "       Peter Tieleman              Jon Vincent              Teemu Virolainen     \n",
            "     Christian Wennberg            Maarten Wolf              Artem Zhmurov       \n",
            "                           and the project leaders:\n",
            "        Mark Abraham, Berk Hess, Erik Lindahl, and David van der Spoel\n",
            "\n",
            "Copyright (c) 1991-2000, University of Groningen, The Netherlands.\n",
            "Copyright (c) 2001-2019, The GROMACS development team at\n",
            "Uppsala University, Stockholm University and\n",
            "the Royal Institute of Technology, Sweden.\n",
            "check out http://www.gromacs.org for more information.\n",
            "\n",
            "GROMACS is free software; you can redistribute it and/or modify it\n",
            "under the terms of the GNU Lesser General Public License\n",
            "as published by the Free Software Foundation; either version 2.1\n",
            "of the License, or (at your option) any later version.\n",
            "\n",
            "GROMACS:      gmx chi, version 2021.5\n",
            "Executable:   /content/drive/MyDrive/IBM3202/gromacs-2021/bin/gmx\n",
            "Data prefix:  /content/drive/MyDrive/IBM3202/gromacs-2021\n",
            "Working dir:  /content/drive/MyDrive\n",
            "Command line:\n",
            "  gmx chi -s md_0_1.tpr -f md_0_1_noPBC.xtc -rama -o chi.xvg\n",
            "\n",
            "\n",
            "Back Off! I just backed up chi.log to ./#chi.log.3#\n",
            "Reading file md_0_1.tpr, VERSION 2021.5 (single precision)\n",
            "Reading file md_0_1.tpr, VERSION 2021.5 (single precision)\n",
            "\n",
            "104 residues with dihedrals found\n",
            "527 dihedrals found\n",
            "\rReading frame       0 time    0.000   \rReading frame       1 time   10.000   \rReading frame       2 time   20.000   \rReading frame       3 time   30.000   \rReading frame       4 time   40.000   \rReading frame       5 time   50.000   \rReading frame       6 time   60.000   \rReading frame       7 time   70.000   \rReading frame       8 time   80.000   \rReading frame       9 time   90.000   \rReading frame      10 time  100.000   \rReading frame      11 time  110.000   \rReading frame      12 time  120.000   \rReading frame      13 time  130.000   \rReading frame      14 time  140.000   \rReading frame      15 time  150.000   \rReading frame      16 time  160.000   \rReading frame      17 time  170.000   \rReading frame      18 time  180.000   \rReading frame      19 time  190.000   \rReading frame      20 time  200.000   \rReading frame      30 time  300.000   \rReading frame      40 time  400.000   \rReading frame      50 time  500.000   \rReading frame      60 time  600.000   \rReading frame      70 time  700.000   \rReading frame      80 time  800.000   \rReading frame      90 time  900.000   \rReading frame     100 time 1000.000   \rLast frame        100 time 1000.000   \n",
            "j after resetting (nr. active dihedrals) = 311\n",
            "WARNING: not all dihedrals found in topology (only 311 out of 527)!\n",
            "Now calculating transitions...\n",
            "Total number of transitions:        108\n",
            "Time between transitions:      2908.426 ps\n",
            "\n",
            "Back Off! I just backed up chi.xvg to ./#chi.xvg.2#\n",
            "No chi1 & chi2 angle for GLY2\n",
            "No chi1 & chi2 angle for GLY3\n",
            "No chi1 & chi2 angle for GLY7\n",
            "No chi1 & chi2 angle for SER8\n",
            "No chi1 & chi2 angle for ALA9\n",
            "No chi1 & chi2 angle for SER11\n",
            "No chi1 & chi2 angle for GLY18\n",
            "No chi1 & chi2 angle for SER19\n",
            "No chi1 & chi2 angle for VAL37\n",
            "No chi1 & chi2 angle for SER46\n",
            "No chi1 & chi2 angle for VAL52\n",
            "No chi1 & chi2 angle for CYS55\n",
            "No chi1 & chi2 angle for VAL56\n",
            "No chi1 & chi2 angle for THR59\n",
            "No chi1 & chi2 angle for THR64\n",
            "No chi1 & chi2 angle for VAL65\n",
            "No chi1 & chi2 angle for THR66\n",
            "No chi1 & chi2 angle for THR67\n",
            "No chi1 & chi2 angle for THR68\n",
            "No chi1 & chi2 angle for THR69\n",
            "No chi1 & chi2 angle for GLY71\n",
            "No chi1 & chi2 angle for THR75\n",
            "No chi1 & chi2 angle for THR77\n",
            "No chi1 & chi2 angle for VAL79\n",
            "No chi1 & chi2 angle for VAL85\n",
            "No chi1 & chi2 angle for VAL86\n",
            "No chi1 & chi2 angle for CYS90\n",
            "No chi1 & chi2 angle for THR92\n",
            "No chi1 & chi2 angle for SER98\n",
            "No chi1 & chi2 angle for ALA100\n",
            "Now printing out transitions and OPs...\n",
            "Now printing out rotamer occupancies...\n",
            "\n",
            "GROMACS reminds you: \"Is That a Real Poncho ?\" (F. Zappa)\n",
            "\n"
          ]
        }
      ]
    },
    {
      "cell_type": "code",
      "source": [
        "!head -150 /content/drive/MyDrive/ramaPhiPsiVAL85.xvg"
      ],
      "metadata": {
        "colab": {
          "base_uri": "https://localhost:8080/"
        },
        "id": "pQmL1A2WKM1j",
        "outputId": "19e38f38-1752-4b1b-e919-6d079bf617b7"
      },
      "execution_count": null,
      "outputs": [
        {
          "output_type": "stream",
          "name": "stdout",
          "text": [
            "# This file was created Sat Apr  2 16:43:22 2022\n",
            "# Created by:\n",
            "#                       :-) GROMACS - gmx chi, 2021.5 (-:\n",
            "# \n",
            "# Executable:   /content/drive/MyDrive/IBM3202/gromacs-2021/bin/gmx\n",
            "# Data prefix:  /content/drive/MyDrive/IBM3202/gromacs-2021\n",
            "# Working dir:  /content/drive/MyDrive\n",
            "# Command line:\n",
            "#   gmx chi -s md_0_1.tpr -f md_0_1_noPBC.xtc -rama -o chi.xvg\n",
            "# gmx chi is part of G R O M A C S:\n",
            "#\n",
            "# Giant Rising Ordinary Mutants for A Clerical Setup\n",
            "#\n",
            "@    title \"Ramachandran Plot\"\n",
            "@    xaxis  label \"\\xf\\f{} (deg)\"\n",
            "@    yaxis  label \"\\xy\\f{} (deg)\"\n",
            "@TYPE xy\n",
            "@ with g0\n",
            "@ world xmin -180\n",
            "@ world ymin -180\n",
            "@ world xmax 180\n",
            "@ world ymax 180\n",
            "@ xaxis tick on\n",
            "@ xaxis tick major 90\n",
            "@ xaxis tick minor 30\n",
            "@ xaxis ticklabel prec 0\n",
            "@ yaxis tick on\n",
            "@ yaxis tick major 90\n",
            "@ yaxis tick minor 30\n",
            "@ yaxis ticklabel prec 0\n",
            "@    s0 type xy\n",
            "@    s0 symbol 2\n",
            "@    s0 symbol size 0.410000\n",
            "@    s0 symbol fill 1\n",
            "@    s0 symbol color 1\n",
            "@    s0 symbol linewidth 1\n",
            "@    s0 symbol linestyle 1\n",
            "@    s0 symbol center false\n",
            "@    s0 symbol char 0\n",
            "@    s0 skip 0\n",
            "@    s0 linestyle 0\n",
            "@    s0 linewidth 1\n",
            "@ type xy\n",
            "  -62.2583    -54.9409\n",
            "  -62.6091    -38.4552\n",
            "  -69.9518    -49.8015\n",
            "  -61.8204    -49.5549\n",
            "  -62.1603    -49.2242\n",
            "  -62.2581    -35.7597\n",
            "  -56.0372    -47.4738\n",
            "  -53.6454    -47.4839\n",
            "  -50.6972    -54.0674\n",
            "  -60.5513    -45.2793\n",
            "  -52.8718    -55.3591\n",
            "  -67.2435    -52.7281\n",
            "  -81.1362     -42.251\n",
            "  -47.2834    -58.4717\n",
            "  -58.5886     -48.684\n",
            "  -52.3458     -57.354\n",
            "   -75.753    -49.1454\n",
            "  -58.1969    -46.9115\n",
            "  -61.3697    -40.2395\n",
            "  -78.1419     -38.621\n",
            "  -55.4486    -56.1868\n",
            "  -59.0014    -58.5734\n",
            "  -70.7562    -60.4296\n",
            "  -57.6475    -45.7194\n",
            "  -71.5489    -43.5318\n",
            "  -62.6419    -41.5232\n",
            "  -88.1156    -46.5493\n",
            "  -67.8769    -43.6934\n",
            "  -84.7815    -39.4333\n",
            "  -83.8463    -50.8253\n",
            "  -87.7711     -34.322\n",
            "  -75.7202    -53.4443\n",
            "  -62.6699    -61.6467\n",
            "  -70.5622    -53.7205\n",
            "   -52.979    -54.4111\n",
            "  -52.5558    -65.7575\n",
            "   -78.186    -43.4278\n",
            "  -61.9106    -55.8785\n",
            "  -71.6906    -34.2669\n",
            "  -59.7358    -44.8802\n",
            "  -73.6554    -47.2967\n",
            "  -70.1319    -50.9202\n",
            "  -78.6376    -47.6312\n",
            "  -66.4642    -57.7927\n",
            "  -72.1268    -55.6942\n",
            "  -79.8313    -37.2781\n",
            "  -68.5011    -53.0455\n",
            "  -86.5768    -34.9203\n",
            "  -71.1368    -56.7966\n",
            "  -72.0246    -64.6832\n",
            "  -70.7099    -59.4001\n",
            "  -88.4261    -58.8713\n",
            "  -70.6241    -37.6712\n",
            "  -89.9463    -43.5494\n",
            "  -52.7042    -50.6322\n",
            "  -46.8152    -50.1761\n",
            "  -79.8654    -40.7814\n",
            "  -62.3692    -51.4443\n",
            "  -63.6356    -49.7326\n",
            "  -47.1723    -60.5641\n",
            "  -67.3263    -45.1793\n",
            "  -56.5946    -54.0833\n",
            "  -57.1664    -52.3002\n",
            "  -63.9693    -43.8343\n",
            "  -66.7603    -57.5202\n",
            "  -83.5497    -25.6703\n",
            "  -74.0984    -34.6165\n",
            "  -85.4338    -34.4247\n",
            "  -83.4327     -31.644\n",
            "  -72.8806    -53.8175\n",
            "  -46.3914    -59.8903\n",
            "    -58.01    -39.3233\n",
            "  -66.3999    -48.7102\n",
            "  -72.7976    -33.2236\n",
            "  -96.0791    -43.7985\n",
            "  -73.1355    -50.5457\n",
            "  -62.8895    -40.8998\n",
            "  -71.4906    -49.2725\n",
            "  -72.3142    -26.9405\n",
            "  -81.1933    -47.8566\n",
            "  -77.9105    -42.1514\n",
            "  -59.5497    -53.8474\n",
            "  -63.5835    -51.1646\n",
            "  -76.5494    -63.5698\n",
            "   -52.319    -70.7935\n",
            "  -68.7528    -39.2099\n",
            "  -65.7122    -51.4751\n",
            "  -53.0277    -57.6447\n",
            "  -39.7852    -65.9817\n",
            "   -62.285     -50.375\n",
            "  -60.4859    -61.9657\n",
            "  -71.6803    -53.3531\n",
            "  -62.5645    -49.1293\n",
            "  -73.4236    -51.4846\n",
            "  -58.7881    -51.3946\n",
            "   -60.519    -44.4764\n",
            "  -64.6078    -47.8938\n",
            "  -65.5339    -53.0432\n",
            "  -79.7489    -49.1129\n",
            "  -58.6078    -43.9447\n",
            "  -59.3817    -51.2296\n"
          ]
        }
      ]
    },
    {
      "cell_type": "code",
      "source": [
        "!head -40 rama.xvg"
      ],
      "metadata": {
        "colab": {
          "base_uri": "https://localhost:8080/"
        },
        "id": "8S3XOC_EUyIn",
        "outputId": "40dd6677-3028-46ea-8466-f6ee046d261f"
      },
      "execution_count": null,
      "outputs": [
        {
          "output_type": "stream",
          "name": "stdout",
          "text": [
            "# This file was created Sat Apr  2 16:17:13 2022\n",
            "# Created by:\n",
            "#                       :-) GROMACS - gmx rama, 2021.5 (-:\n",
            "# \n",
            "# Executable:   /content/drive/MyDrive/IBM3202/gromacs-2021/bin/gmx\n",
            "# Data prefix:  /content/drive/MyDrive/IBM3202/gromacs-2021\n",
            "# Working dir:  /content/drive/MyDrive\n",
            "# Command line:\n",
            "#   gmx rama -s md_0_1.tpr -f md_0_1_noPBC.xtc -b 1 -e 1000 -o rama.xvg\n",
            "# gmx rama is part of G R O M A C S:\n",
            "#\n",
            "# Guyana Rwanda Oman Macau Angola Cameroon Senegal\n",
            "#\n",
            "@    title \"Ramachandran Plot\"\n",
            "@    xaxis  label \"Phi\"\n",
            "@    yaxis  label \"Psi\"\n",
            "@TYPE xy\n",
            "@    with g0\n",
            "@    s0 linestyle 0\n",
            "@    s0 color 1\n",
            "@ view 0.2, 0.2, 0.8, 0.8\n",
            "@ world xmin -180\n",
            "@ world ymin -180\n",
            "@ world xmax 180\n",
            "@ world ymax 180\n",
            "@    xaxis  tick on\n",
            "@    xaxis  tick major 60\n",
            "@    xaxis  tick minor 30\n",
            "@    yaxis  tick on\n",
            "@    yaxis  tick major 60\n",
            "@    yaxis  tick minor 30\n",
            "@ s0 symbol 2\n",
            "@ s0 symbol size 0.4\n",
            "@ s0 symbol fill 1\n",
            "125.589  -57.6255  GLY-126\n",
            "-112.993  31.1285  GLY-127\n",
            "-136.399  139.094  TYR-128\n",
            "-107.063  154.714  MET-129\n",
            "-76.3517  147.53  LEU-130\n",
            "-118.058  132.451  GLY-131\n"
          ]
        }
      ]
    },
    {
      "cell_type": "code",
      "source": [
        "!head -150 rama.xvg"
      ],
      "metadata": {
        "colab": {
          "base_uri": "https://localhost:8080/"
        },
        "id": "g4-6YJsu0Xci",
        "outputId": "896b46b9-1458-4596-cfd6-a3e10e039d72"
      },
      "execution_count": null,
      "outputs": [
        {
          "output_type": "stream",
          "name": "stdout",
          "text": [
            "# This file was created Fri Apr  1 18:10:31 2022\n",
            "# Created by:\n",
            "#                       :-) GROMACS - gmx rama, 2021.5 (-:\n",
            "# \n",
            "# Executable:   /content/drive/MyDrive/IBM3202/gromacs-2021/bin/gmx\n",
            "# Data prefix:  /content/drive/MyDrive/IBM3202/gromacs-2021\n",
            "# Working dir:  /content/drive/MyDrive\n",
            "# Command line:\n",
            "#   gmx rama -s md_0_1.tpr -f md_0_1_noPBC.xtc -o rama.xvg\n",
            "# gmx rama is part of G R O M A C S:\n",
            "#\n",
            "# Gravel Rubs Often Many Awfully Cauterized Sores\n",
            "#\n",
            "@    title \"Ramachandran Plot\"\n",
            "@    xaxis  label \"Phi\"\n",
            "@    yaxis  label \"Psi\"\n",
            "@TYPE xy\n",
            "@    with g0\n",
            "@    s0 linestyle 0\n",
            "@    s0 color 1\n",
            "@ view 0.2, 0.2, 0.8, 0.8\n",
            "@ world xmin -180\n",
            "@ world ymin -180\n",
            "@ world xmax 180\n",
            "@ world ymax 180\n",
            "@    xaxis  tick on\n",
            "@    xaxis  tick major 60\n",
            "@    xaxis  tick minor 30\n",
            "@    yaxis  tick on\n",
            "@    yaxis  tick major 60\n",
            "@    yaxis  tick minor 30\n",
            "@ s0 symbol 2\n",
            "@ s0 symbol size 0.4\n",
            "@ s0 symbol fill 1\n",
            "132.867  -50.2001  GLY-126\n",
            "-92.3485  -44.8956  GLY-127\n",
            "-69.2231  135.079  TYR-128\n",
            "-144.455  172.195  MET-129\n",
            "-92.6489  148.354  LEU-130\n",
            "-110.731  -144.393  GLY-131\n",
            "-68.812  149.4  SER-132\n",
            "-70.7444  138.45  ALA-133\n",
            "-113.493  160.586  MET-134\n",
            "-64.517  138.532  SER-135\n",
            "-69.3713  119.317  ARG-136\n",
            "-72.6363  137.519  PRO-137\n",
            "-82.4852  92.1859  ILE-138\n",
            "-86.8656  136.254  ILE-139\n",
            "-106.115  94.1904  HIS-140\n",
            "-91.0299  -13.4655  PHE-141\n",
            "123.853  -53.968  GLY-142\n",
            "-79.3503  130.342  SER-143\n",
            "-49.0667  -34.2167  ASP-144\n",
            "-51.2043  -56.2972  TYR-145\n",
            "-55.8941  -20.265  GLU-146\n",
            "-86.7008  -53.538  ASP-147\n",
            "-51.315  -40.8482  ARG-148\n",
            "-66.4359  -29.1951  TYR-149\n",
            "-82.6078  -44.1511  TYR-150\n",
            "-67.7192  -29.6525  ARG-151\n",
            "-68.9818  -0.655994  GLU-152\n",
            "-144.824  19.2623  ASN-153\n",
            "-66.6877  -22.9082  MET-154\n",
            "-66.251  -26.6621  HIS-155\n",
            "-97.7959  -25.3432  ARG-156\n",
            "-63.6488  157.056  TYR-157\n",
            "-76.2468  146.985  PRO-158\n",
            "-130.556  5.84472  ASN-159\n",
            "-131.467  139.624  GLN-160\n",
            "-108.077  136.031  VAL-161\n",
            "-101.435  147.453  TYR-162\n",
            "-163.569  -168.721  TYR-163\n",
            "-143.643  159.14  ARG-164\n",
            "-77.9182  156.865  PRO-165\n",
            "-56.4486  -52.2709  MET-166\n",
            "61.2403  -58.4254  ASP-167\n",
            "-119.101  -28.0741  GLU-168\n",
            "-146.554  148.318  TYR-169\n",
            "-146.627  158.689  SER-170\n",
            "-158.533  144.844  ASN-171\n",
            "-76.9047  -24.5553  GLN-172\n",
            "-130.146  -26.665  ASN-173\n",
            "-61.5016  -37.386  ASN-174\n",
            "-68.8124  -35.912  PHE-175\n",
            "-64.6805  -27.2622  VAL-176\n",
            "-79.3326  -32.7382  HIS-177\n",
            "-63.8904  -48.5957  ASP-178\n",
            "-71.954  -36.1454  CYS-179\n",
            "-63.7868  -30.9634  VAL-180\n",
            "-68.2145  -53.9668  ASN-181\n",
            "-58.0332  -36.6215  ILE-182\n",
            "-84.6211  -39.2116  THR-183\n",
            "-71.1051  -34.7802  ILE-184\n",
            "-70.6136  -33.2557  LYS-185\n",
            "-68.9038  -58.361  GLN-186\n",
            "-50.7625  -47.3131  HIS-187\n",
            "-78.8403  5.69002  THR-188\n",
            "-116.455  -61.5402  VAL-189\n",
            "-68.8679  -33.4726  THR-190\n",
            "-82.2701  -40.5478  THR-191\n",
            "-73.785  -15.8478  THR-192\n",
            "-67.3288  -21.9723  THR-193\n",
            "-85.0649  -23.4676  LYS-194\n",
            "126.716  -24.1886  GLY-195\n",
            "-75.874  106.647  GLU-196\n",
            "-118.477  141.869  ASN-197\n",
            "-107.015  141.118  PHE-198\n",
            "-91.0725  166.875  THR-199\n",
            "-47.4104  -43.1855  GLU-200\n",
            "-55.1217  -43.6135  THR-201\n",
            "-63.7258  -55.9112  ASP-202\n",
            "-49.3006  -53.8203  VAL-203\n",
            "-56.7659  -40.0776  LYS-204\n",
            "-55.414  -58.4255  MET-205\n",
            "-56.0623  -51.872  MET-206\n",
            "-54.6721  -38.1018  GLU-207\n",
            "-81.7028  -31.8495  ARG-208\n",
            "-62.2583  -54.9409  VAL-209\n",
            "-56.0803  -35.7777  VAL-210\n",
            "-62.3873  -50.5611  GLU-211\n",
            "-56.4245  -46.3592  GLN-212\n",
            "-64.6293  -39.7768  MET-213\n",
            "-69.9003  -38.122  CYS-214\n",
            "-51.7879  -48.5242  ILE-215\n",
            "-60.4922  -51.9447  THR-216\n",
            "-61.3273  -41.2008  GLN-217\n",
            "-61.0615  -65.059  TYR-218\n",
            "-36.611  -59.1516  GLU-219\n",
            "-49.8955  -51.0809  ARG-220\n",
            "-81.6919  -20.1745  GLU-221\n",
            "-73.1762  -38.3003  SER-222\n",
            "-76.8851  -23.2282  GLN-223\n",
            "-68.7618  -18.6306  ALA-224\n",
            "-78.2848  -40.0821  TYR-225\n",
            "-70.7762  -16.1282  TYR-226\n",
            "-78.4549  22.6928  GLN-227\n",
            "125.589  -57.6255  GLY-126\n",
            "-112.993  31.1285  GLY-127\n",
            "-136.399  139.094  TYR-128\n",
            "-107.063  154.714  MET-129\n",
            "-76.3517  147.53  LEU-130\n",
            "-118.058  132.451  GLY-131\n",
            "-55.7674  150.508  SER-132\n",
            "-92.8424  164.786  ALA-133\n",
            "-121.869  178.618  MET-134\n",
            "-68.5255  146.468  SER-135\n",
            "-70.7212  120.545  ARG-136\n",
            "-69.2264  150.843  PRO-137\n",
            "-94.3276  137.696  ILE-138\n",
            "-116.447  147.039  ILE-139\n"
          ]
        }
      ]
    },
    {
      "cell_type": "code",
      "source": [
        "!grep -v -e '\\#' -e '\\@' rama.xvg > rama.txt"
      ],
      "metadata": {
        "id": "eleI_jvlt_8I"
      },
      "execution_count": null,
      "outputs": []
    },
    {
      "cell_type": "code",
      "source": [
        "!grep -v -e '\\#' -e '\\@' chi.xvg > chi.txt"
      ],
      "metadata": {
        "id": "r6TCojJLK2pk"
      },
      "execution_count": null,
      "outputs": []
    },
    {
      "cell_type": "code",
      "source": [
        "h = pd.read_csv('chi.txt', header=None, sep='\\s\\s+', engine='python')\n",
        "print(h)"
      ],
      "metadata": {
        "colab": {
          "base_uri": "https://localhost:8080/"
        },
        "id": "qZXXUIAKK92x",
        "outputId": "f946b15d-cd08-48c8-b7f0-81c4fd1d9a1e"
      },
      "execution_count": null,
      "outputs": [
        {
          "output_type": "stream",
          "name": "stdout",
          "text": [
            "       0      1      2      3      4      5\n",
            "0      1  0.101  0.808  0.101  0.808  0.000\n",
            "1      2  0.740  0.982  0.884  0.740  0.982\n",
            "2      3  0.815  0.980  0.953  0.815  0.980\n",
            "3      4  0.830  0.970  0.830  0.926  0.970\n",
            "4      5  0.907  0.981  0.907  0.957  0.981\n",
            "..   ...    ...    ...    ...    ...    ...\n",
            "99   100  0.933  0.987  0.953  0.933  0.987\n",
            "100  101  0.940  0.986  0.940  0.968  0.986\n",
            "101  102  0.832  0.989  0.952  0.832  0.989\n",
            "102  103  0.655  0.978  0.900  0.655  0.978\n",
            "103  104  0.017  0.976  0.808  0.017  0.976\n",
            "\n",
            "[104 rows x 6 columns]\n"
          ]
        }
      ]
    },
    {
      "cell_type": "code",
      "source": [
        "!head -5 rama.txt"
      ],
      "metadata": {
        "colab": {
          "base_uri": "https://localhost:8080/"
        },
        "id": "EpRLUw8muuM5",
        "outputId": "23058563-2c9b-4154-d0a7-a777c3b67bb2"
      },
      "execution_count": null,
      "outputs": [
        {
          "output_type": "stream",
          "name": "stdout",
          "text": [
            "132.867  -50.2001  GLY-126\n",
            "-92.3485  -44.8956  GLY-127\n",
            "-69.2231  135.079  TYR-128\n",
            "-144.455  172.195  MET-129\n",
            "-92.6489  148.354  LEU-130\n"
          ]
        }
      ]
    },
    {
      "cell_type": "code",
      "source": [
        "\n",
        "\n",
        "e = pd.read_csv('rama.txt', header=None, sep='\\s\\s+', engine='python')\n",
        "# e = pd.read_csv('rama.xvg',comments=['#', '@'])\n",
        "# e = np.loadtxt('rama.xvg',  \n",
        "#                comments=['#', '@'], # strip out the comments\n",
        "#                dtype='object') \n",
        "\n",
        "# e.columns=[\"phi\", \"psi\", \"aa\"]\n",
        "print(e)\n",
        "\n",
        "\n",
        "# header = [\"phi\", \"psi\", \"aa\"] # add headers to columns\n",
        "# frame7 = pd.DataFrame(e, columns=header)\n",
        "# e.columns = [\"phi\", \"psi\", \"aa\"]\n",
        "# e.head()\n",
        "\n",
        "# frame7 = pd.DataFrame(e.values, columns=header)\n",
        "# frame7\n",
        "# fig7 = px.scatter(frame7, x=\"phi\", y=\"psi\",\n",
        "#                  hover_name=\"aa\" \n",
        "#                  )\n",
        "\n",
        "# names = [_ for _ in 'abcdef']\n",
        "# df = pd.DataFrame(A, index=names, columns=names)\n",
        "\n",
        "# fig5b = px.line(frame5b, x=\"x\", y=\"y\")\n",
        "# fig5b.update_traces(line=dict(color = 'firebrick'), \n",
        "#                     name=\"crystal RMSD\")\n",
        "# fig5 = go.Figure(data=fig5a.data + fig5b.data)\n",
        "# fig5.update_layout(width=700, title_text=\"RMSD\")\n",
        "# fig7.update_xaxes(title_text=\"Phi\") # label x-axis\n",
        "# fig7.update_yaxes(title_text=\"Psi\") # label y-axis\n",
        "# fig7.update_traces(showlegend=True)\n",
        "# fig7.show()"
      ],
      "metadata": {
        "colab": {
          "base_uri": "https://localhost:8080/"
        },
        "id": "gwsLIc9LVVz_",
        "outputId": "51c3a60d-4f05-4443-cd80-3ee0591d0a8b"
      },
      "execution_count": null,
      "outputs": [
        {
          "output_type": "stream",
          "name": "stdout",
          "text": [
            "              0          1        2\n",
            "0      132.8670  -50.20010  GLY-126\n",
            "1      -92.3485  -44.89560  GLY-127\n",
            "2      -69.2231  135.07900  TYR-128\n",
            "3     -144.4550  172.19500  MET-129\n",
            "4      -92.6489  148.35400  LEU-130\n",
            "...         ...        ...      ...\n",
            "10297  -63.9506  -25.20160  GLN-223\n",
            "10298  -80.0791  -35.53770  ALA-224\n",
            "10299  -61.7054  -30.42300  TYR-225\n",
            "10300  -75.6890    2.99482  TYR-226\n",
            "10301  -96.1143   35.34090  GLN-227\n",
            "\n",
            "[10302 rows x 3 columns]\n"
          ]
        }
      ]
    },
    {
      "cell_type": "code",
      "source": [
        "!head -5 rama.txt"
      ],
      "metadata": {
        "colab": {
          "base_uri": "https://localhost:8080/"
        },
        "id": "AbACjablvSLY",
        "outputId": "812727a5-637f-4eb2-e29a-2349ad7e6bff"
      },
      "execution_count": null,
      "outputs": [
        {
          "output_type": "stream",
          "name": "stdout",
          "text": [
            "132.867  -50.2001  GLY-126\n",
            "-92.3485  -44.8956  GLY-127\n",
            "-69.2231  135.079  TYR-128\n",
            "-144.455  172.195  MET-129\n",
            "-92.6489  148.354  LEU-130\n"
          ]
        }
      ]
    },
    {
      "cell_type": "markdown",
      "source": [
        "All of the rama data for each time frame is in a single file with no demarkation for each time point. I can use `sed` to add a new column.\n",
        "\n",
        "I can use `sed` to identify the chunks that represent each time point. Start with `GLY-126` and end with `GLN-227`.\n",
        "\n",
        "UPDATE:\n",
        "\n",
        "I can use `gmx chi` to gather the `phi/psi` angles for each amino acid as a time series in a separate file. \n",
        "\n",
        "- I can move them all to their own directory.\n",
        "  - Or define the directory in the `-o` flag.\n",
        "- Concatenate them as I create a dataframe.\n",
        "- At some point I need to extract the amino acid number (from the filename) and put it into the file as a new column.\n",
        "- I also need to fix the amino acid numbers as they are offset by 126. The orginial protein starts at aa 126, but the `chi` command renumbered them as it created the filenames.\n",
        "- Then plot all of them on the same plot as a time series.\n",
        "\n",
        "This is better than trying to parse the `rama.xvg` file."
      ],
      "metadata": {
        "id": "6fT6z-kUWfDh"
      }
    },
    {
      "cell_type": "markdown",
      "source": [
        "Let's give it a whirl.\n",
        "\n",
        "```py\n",
        "\n",
        "files=(*.xvg)\n",
        "\n",
        "\n",
        "\n",
        "```\n",
        "\n",
        "`grep \"string\" \"${files[@]}\"`  \n",
        "will expand to:  \n",
        "`grep \"string\" \"1.txt\" \"2.txt\" \"3.txt\"`\n",
        "\n",
        "\n",
        "from [this site](https://unix.stackexchange.com/questions/550964/grep-over-multiple-files-redirecting-to-a-different-filename-each-time)\n",
        "\n",
        "```bash\n",
        "for f in *-QTR*.tsv\n",
        "do \n",
        "  grep 8-K < \"$f\" > \"${f:0:4}\"Q\"${f:8:1}\".txt\n",
        "done\n",
        "```\n",
        "\n",
        "- the first four characters of the filename -- the year\n",
        "- the letter Q\n",
        "- the 9th character of the filename -- the quarter\n",
        "\n",
        "In my case, I want to add part of the filename (the amino acid name and number) to a column in the table.\n",
        "\n",
        "From [this site](https://stackoverflow.com/questions/41857659/python-pandas-add-filename-column-csv)\n",
        "\n",
        "```py\n",
        "import os\n",
        "\n",
        "for csv in globbed_files:\n",
        "    frame = pd.read_csv(csv)\n",
        "    frame['filename'] = os.path.basename(csv)\n",
        "    data.append(frame)\n",
        "```\n",
        "\n",
        "from [this site](https://stackoverflow.com/questions/51845613/adding-columns-to-dataframe-based-on-file-name-in-python)\n",
        "\n",
        "```py\n",
        "import pandas as pd \n",
        "\n",
        "#load data files\n",
        "data1 = pd.read_csv('C:/file1_USA_Car_1d.txt')\n",
        "data2 = pd.read_csv('C:/file2_USA_Car_2d.txt')\n",
        "data3 = pd.read_csv('C:/file3_USA_Car_1m.txt')\n",
        "data4 = pd.read_csv('C:/file3_USA_Car_6m.txt')\n",
        "data5 = pd.read_csv('C:file3_USA_Car_1Y.txt')\n",
        "\n",
        "df = pd.DataFrame()\n",
        "\n",
        "print(df)\n",
        "\n",
        "df = data1\n",
        "\n",
        "---\n",
        "\n",
        "import glob\n",
        "import pandas as pd\n",
        "\n",
        "df_list = []\n",
        "for file in glob.glob('C:/file1_*_*_*.txt'):\n",
        "    # Tweak this to work for your actual filepaths, if needed.\n",
        "    country, typ, dur = file.split('.')[0].split('_')[1:]  \n",
        "    df = (pd.read_csv(file)\n",
        "            .assign(Country=country, Type=typ, duration=dur))\n",
        "    df_list.append(df)\n",
        "\n",
        "df = pd.concat(df_list)\n",
        "```\n",
        "\n",
        "Probably best to use `mv` to batch rename the files.\n",
        "\n",
        "from [this site](\n",
        "\n",
        "\n",
        "```bash\n",
        "rename -n 's/<search for>/<replace with>/' <target files>\n",
        "```\n",
        "\n",
        "`-n` perform a dry run and show what output would look like  \n",
        "`s/` perform a substitution  \n",
        "`<search for>` what you want to replace--can use regex  \n",
        "`<replace with>` self explanatory  \n",
        "`/'` need a closing slash and command needs to be wrapped in single or double quotes.  \n",
        "`<target files>` files to rename--can use wildcards.\n",
        "\n",
        "\n",
        "from [this site](https://stackoverflow.com/questions/32042019/ubuntu-bulk-file-rename)\n",
        "\n",
        "```bash\n",
        "rename -n \"s/ramaPhiPsi//\" ramaPhiPsi*\n",
        "```\n",
        "\n",
        "<mark>This works!</mark>\n",
        "\n",
        "Now we can use Pandas to put a column in each file that contains the filename, which we will use in plotly on hover.\n",
        "\n",
        "From [this site](https://stackoverflow.com/questions/42756696/read-multiple-csv-files-and-add-filename-as-new-column-in-pandas) we see how to add filenames to the `.xvg` files, then split off the `.xvg` extension leaving only the amino acid name and number.\n",
        "\n",
        "**Need to move files into their own directory first.**\n",
        "\n",
        "```bash\n",
        "%mkdir rama\n",
        "%mv ramaPhiPsi*.xvg rama/\n",
        "```bash\n",
        "files = glob.glob('samples_for_so/*.csv')\n",
        "print (files)\n",
        "#['samples_for_so\\\\a.csv', 'samples_for_so\\\\b.csv', 'samples_for_so\\\\c.csv']\n",
        "\n",
        "\n",
        "df = pd.concat([pd.read_csv(fp).assign(New=os.path.basename(fp)) for fp in files])\n",
        "```\n"
      ],
      "metadata": {
        "id": "N9R7wHWsRbbm"
      }
    },
    {
      "cell_type": "code",
      "source": [
        "!rename -n \"s/ramaPhiPsi//\" ramaPhiPsi*"
      ],
      "metadata": {
        "id": "5HnUP8bKaDC5"
      },
      "execution_count": null,
      "outputs": []
    },
    {
      "cell_type": "code",
      "source": [
        "# make a new directory\n",
        "%mkdir rama"
      ],
      "metadata": {
        "id": "kZ3QoRd3ketM"
      },
      "execution_count": null,
      "outputs": []
    },
    {
      "cell_type": "code",
      "source": [
        "# move all the rama files into the new directory\n",
        "%mv ramaPhiPsi*.xvg rama/"
      ],
      "metadata": {
        "id": "fm6G3rpNyMim"
      },
      "execution_count": null,
      "outputs": []
    },
    {
      "cell_type": "code",
      "source": [
        "# move into the new directory\n",
        "%cd rama"
      ],
      "metadata": {
        "colab": {
          "base_uri": "https://localhost:8080/"
        },
        "id": "Bcr7HbwYyh-T",
        "outputId": "2b3edeaf-1c1f-49c5-89e9-27f8755e39f6"
      },
      "execution_count": null,
      "outputs": [
        {
          "output_type": "stream",
          "name": "stdout",
          "text": [
            "/content/drive/MyDrive/rama\n"
          ]
        }
      ]
    },
    {
      "cell_type": "code",
      "source": [
        "# rename the files\n",
        "!rename \"s/ramaPhiPsi//\" ramaPhiPsi*"
      ],
      "metadata": {
        "id": "2rwq6trhyoz_"
      },
      "execution_count": null,
      "outputs": []
    },
    {
      "cell_type": "code",
      "source": [
        "%%bash\n",
        "for f in *.xvg\n",
        "do\n",
        "  base=${f%%.xvg}\n",
        "  grep -v -e '\\#' -e '\\@' \"$f\" > \"${base%%.*}\".csv\n",
        "done\n",
        "\n",
        "# This worked perfectly\n",
        "# ready for adding columns with filename and then splitting"
      ],
      "metadata": {
        "id": "yNZ3VxfLzUT_"
      },
      "execution_count": null,
      "outputs": []
    },
    {
      "cell_type": "code",
      "source": [
        "# get rid of the .xvg files\n",
        "%rm *.xvg"
      ],
      "metadata": {
        "id": "UTam280fOZ8c"
      },
      "execution_count": null,
      "outputs": []
    },
    {
      "cell_type": "markdown",
      "source": [
        "from [this site](https://tldp.org/LDP/abs/html/parameter-substitution.html)\n",
        "\n",
        ">`${var%%Pattern}` Remove from `$var` the longest part of `$Pattern` that matches the back end of `$var`.\n",
        "\n",
        "Wow. Is this not the most esoteric bash stuff?"
      ],
      "metadata": {
        "id": "69ydDW5RKOl0"
      }
    },
    {
      "cell_type": "code",
      "source": [
        "!head -10 ALA100.csv"
      ],
      "metadata": {
        "colab": {
          "base_uri": "https://localhost:8080/"
        },
        "id": "tnPWEUUa7P7q",
        "outputId": "8fd6266a-2c18-4416-aefb-3bc9c6e29d1d"
      },
      "execution_count": null,
      "outputs": [
        {
          "output_type": "stream",
          "name": "stdout",
          "text": [
            "  -68.7619    -18.6306\n",
            "  -72.5399    -34.9786\n",
            "  -71.3601    -42.1641\n",
            "   -81.947    -19.4706\n",
            "   -70.269    -26.1112\n",
            "  -90.7979    -34.7991\n",
            "  -94.7337    -29.3207\n",
            "  -78.0507    -15.2262\n",
            "  -62.4729    -51.2244\n",
            "   -88.934    -48.1266\n"
          ]
        }
      ]
    },
    {
      "cell_type": "code",
      "source": [
        "!head -50 ALA100.xvg"
      ],
      "metadata": {
        "id": "rPw4x8ExJRRn"
      },
      "execution_count": null,
      "outputs": []
    },
    {
      "cell_type": "code",
      "source": [
        "%rm ramaX1X2*.xvg"
      ],
      "metadata": {
        "id": "xh05l6t57a0d"
      },
      "execution_count": null,
      "outputs": []
    },
    {
      "cell_type": "markdown",
      "source": [
        "#### Adding filename column and splitting csv files\n",
        "\n",
        "from [this site](https://stackoverflow.com/questions/42756696/read-multiple-csv-files-and-add-filename-as-new-column-in-pandas)\n",
        "\n",
        "```py\n",
        "import pandas as pd\n",
        "import glob, os\n",
        "\n",
        "\n",
        "files = glob.glob('samples_for_so/*.csv')\n",
        "print (files)\n",
        "#['samples_for_so\\\\a.csv', 'samples_for_so\\\\b.csv', 'samples_for_so\\\\c.csv']\n",
        "\n",
        "\n",
        "df = pd.concat([pd.read_csv(fp).assign(New=os.path.basename(fp)) for fp in files])\n",
        "print (df)\n",
        "   a  b  c  d    New\n",
        "0  0  1  2  5  a.csv\n",
        "1  1  5  8  3  a.csv\n",
        "0  0  9  6  5  b.csv\n",
        "1  1  6  4  2  b.csv\n",
        "0  0  7  1  7  c.csv\n",
        "1  1  3  2  6  c.csv\n",
        "```\n",
        "\n",
        "This did not work well for my files. I think I need to add headers to my files at some point.\n",
        "\n",
        "But the splitting will probably work.\n",
        "\n",
        "Splitting:\n",
        "\n",
        "```py\n",
        "files = glob.glob('samples_for_so/*.csv')\n",
        "df = pd.concat([pd.read_csv(fp).assign(New=os.path.basename(fp).split('.')[0]) \n",
        "       for fp in files])\n",
        "print (df)\n",
        "   a  b  c  d New\n",
        "0  0  1  2  5   a\n",
        "1  1  5  8  3   a\n",
        "2  0  9  6  5   b\n",
        "3  1  6  4  2   b\n",
        "4  0  7  1  7   c\n",
        "5  1  3  2  6   c\n",
        "```\n",
        "\n"
      ],
      "metadata": {
        "id": "GJtJlRQvO3zg"
      }
    },
    {
      "cell_type": "code",
      "source": [
        "# adding filename column\n",
        "import pandas as pd\n",
        "import glob, os\n",
        "\n",
        "files = glob.glob('*.csv')\n",
        "# print (files)\n"
      ],
      "metadata": {
        "id": "eD3bYVKCPTnx"
      },
      "execution_count": null,
      "outputs": []
    },
    {
      "cell_type": "markdown",
      "source": [
        "Adding filenames as a column\n",
        "\n",
        "from [this site](https://stackoverflow.com/questions/41857659/python-pandas-add-filename-column-csv)\n",
        "\n",
        "```py\n",
        "import pandas as pd\n",
        "import glob\n",
        "\n",
        "globbed_files = glob.glob(\"*.csv\") #creates a list of all csv files\n",
        "\n",
        "for csv in globbed_files:\n",
        "    frame = pd.read_csv(csv, sep='^') # or other separator\n",
        "    frame['filename'] = os.path.basename(csv)\n",
        "    data.append(frame)\n",
        "```"
      ],
      "metadata": {
        "id": "oLOs1nXtRbpd"
      }
    },
    {
      "cell_type": "code",
      "source": [
        "import pandas as pd\n",
        "import glob\n",
        "\n",
        "globbed_files = glob.glob(\"*.csv\")\n",
        "# print(globbed_files)\n",
        "\n",
        "\n",
        "data = []\n",
        "for csv in globbed_files:\n",
        "    frame = pd.read_csv(csv, sep='\\s+') # or other separator\n",
        "    frame['filename'] = os.path.basename(csv)\n",
        "    data.append(frame)"
      ],
      "metadata": {
        "id": "DWqngsZRRan9"
      },
      "execution_count": null,
      "outputs": []
    },
    {
      "cell_type": "markdown",
      "source": [
        "#### Adding headers"
      ],
      "metadata": {
        "id": "XhCwojrQYbMW"
      }
    },
    {
      "cell_type": "markdown",
      "source": [
        "Try like earlier"
      ],
      "metadata": {
        "id": "W9j2QxI-YeAG"
      }
    },
    {
      "cell_type": "code",
      "source": [
        "import os\n",
        "import pandas as pd\n",
        "import glob\n",
        "\n",
        "globbed_files = glob.glob(\"ALA100.csv\")\n",
        "\n",
        "# print(globbed_files)\n",
        "\n",
        "for csv in globbed_files:\n",
        "    testframe = pd.read_csv(csv, header=None, sep='\\s\\s+', engine='python')\n",
        "    testframe.columns=[\"phi\", \"psi\"]\n",
        "    testframe['filename'] = os.path.basename(csv)\n",
        "    data.append(testframe)\n",
        "\n",
        "print(testframe)\n",
        "\n",
        "# worked like a charm!\n",
        "\n",
        "\n",
        "\n"
      ],
      "metadata": {
        "colab": {
          "base_uri": "https://localhost:8080/"
        },
        "id": "xpRsDUTSTnjd",
        "outputId": "7a7e1395-7faf-44fb-d676-b56a16a999f9"
      },
      "execution_count": null,
      "outputs": [
        {
          "output_type": "stream",
          "name": "stdout",
          "text": [
            "         phi      psi    filename\n",
            "0   -68.7619 -18.6306  ALA100.csv\n",
            "1   -72.5399 -34.9786  ALA100.csv\n",
            "2   -71.3601 -42.1641  ALA100.csv\n",
            "3   -81.9470 -19.4706  ALA100.csv\n",
            "4   -70.2690 -26.1112  ALA100.csv\n",
            "..       ...      ...         ...\n",
            "96  -96.7204 -22.3246  ALA100.csv\n",
            "97  -69.9809 -41.4373  ALA100.csv\n",
            "98  -70.1587 -29.2849  ALA100.csv\n",
            "99  -98.4556 -28.9369  ALA100.csv\n",
            "100 -80.0791 -35.5377  ALA100.csv\n",
            "\n",
            "[101 rows x 3 columns]\n"
          ]
        }
      ]
    },
    {
      "cell_type": "markdown",
      "source": [
        "#### Splitting filename"
      ],
      "metadata": {
        "id": "DRChC3BVeBN7"
      }
    },
    {
      "cell_type": "code",
      "source": [
        "# making a new dataframe from splitting the column\n",
        "\n",
        "testframe2 = testframe['filename'].str.split('.', expand = True)\n",
        "\n",
        "print(testframe2)"
      ],
      "metadata": {
        "colab": {
          "base_uri": "https://localhost:8080/"
        },
        "id": "EhkSm4M6eOVH",
        "outputId": "361029fd-666c-4d8c-f215-2cedb8cdc0cc"
      },
      "execution_count": null,
      "outputs": [
        {
          "output_type": "stream",
          "name": "stdout",
          "text": [
            "          0    1\n",
            "0    ALA100  csv\n",
            "1    ALA100  csv\n",
            "2    ALA100  csv\n",
            "3    ALA100  csv\n",
            "4    ALA100  csv\n",
            "..      ...  ...\n",
            "96   ALA100  csv\n",
            "97   ALA100  csv\n",
            "98   ALA100  csv\n",
            "99   ALA100  csv\n",
            "100  ALA100  csv\n",
            "\n",
            "[101 rows x 2 columns]\n"
          ]
        }
      ]
    },
    {
      "cell_type": "code",
      "source": [
        "# adding the separate amino acid column from the new data frame\n",
        "testframe[\"aa\"]= testframe2[0]\n",
        "print(testframe)\n"
      ],
      "metadata": {
        "colab": {
          "base_uri": "https://localhost:8080/"
        },
        "id": "m5f17cnpmTdx",
        "outputId": "7e4601d7-f208-4a31-e6cf-4d227f18ef94"
      },
      "execution_count": null,
      "outputs": [
        {
          "output_type": "stream",
          "name": "stdout",
          "text": [
            "         phi      psi      aa\n",
            "0   -68.7619 -18.6306  ALA100\n",
            "1   -72.5399 -34.9786  ALA100\n",
            "2   -71.3601 -42.1641  ALA100\n",
            "3   -81.9470 -19.4706  ALA100\n",
            "4   -70.2690 -26.1112  ALA100\n",
            "..       ...      ...     ...\n",
            "96  -96.7204 -22.3246  ALA100\n",
            "97  -69.9809 -41.4373  ALA100\n",
            "98  -70.1587 -29.2849  ALA100\n",
            "99  -98.4556 -28.9369  ALA100\n",
            "100 -80.0791 -35.5377  ALA100\n",
            "\n",
            "[101 rows x 3 columns]\n"
          ]
        }
      ]
    },
    {
      "cell_type": "markdown",
      "source": [
        "So far, so good.\n",
        "\n",
        "Next, see [this site](https://jonathansoma.com/lede/foundations-2017/classes/working-with-many-files/class/)."
      ],
      "metadata": {
        "id": "toJv8onMY-IM"
      }
    },
    {
      "cell_type": "code",
      "source": [
        "print(testframe)"
      ],
      "metadata": {
        "colab": {
          "base_uri": "https://localhost:8080/"
        },
        "id": "DumobL_H0b4l",
        "outputId": "e9988b26-94ce-454d-b05f-3b56bf539af4"
      },
      "execution_count": null,
      "outputs": [
        {
          "output_type": "stream",
          "name": "stdout",
          "text": [
            "         phi      psi      aa\n",
            "0   -68.7619 -18.6306  ALA100\n",
            "1   -72.5399 -34.9786  ALA100\n",
            "2   -71.3601 -42.1641  ALA100\n",
            "3   -81.9470 -19.4706  ALA100\n",
            "4   -70.2690 -26.1112  ALA100\n",
            "..       ...      ...     ...\n",
            "96  -96.7204 -22.3246  ALA100\n",
            "97  -69.9809 -41.4373  ALA100\n",
            "98  -70.1587 -29.2849  ALA100\n",
            "99  -98.4556 -28.9369  ALA100\n",
            "100 -80.0791 -35.5377  ALA100\n",
            "\n",
            "[101 rows x 3 columns]\n"
          ]
        }
      ]
    },
    {
      "cell_type": "code",
      "source": [
        "# Add new column to the DataFrame\n",
        "testframe['time'] = (range(0, 1010, 10)) # range starting at 0 ending at 1000 with a stepsize of 10.)\n",
        "\n",
        "print(testframe)"
      ],
      "metadata": {
        "colab": {
          "base_uri": "https://localhost:8080/"
        },
        "id": "4X1uRxYQz3ip",
        "outputId": "9a129045-ae2f-48e4-f1e2-881099cf6376"
      },
      "execution_count": null,
      "outputs": [
        {
          "output_type": "stream",
          "name": "stdout",
          "text": [
            "         phi      psi      aa  time\n",
            "0   -68.7619 -18.6306  ALA100     0\n",
            "1   -72.5399 -34.9786  ALA100    10\n",
            "2   -71.3601 -42.1641  ALA100    20\n",
            "3   -81.9470 -19.4706  ALA100    30\n",
            "4   -70.2690 -26.1112  ALA100    40\n",
            "..       ...      ...     ...   ...\n",
            "96  -96.7204 -22.3246  ALA100   960\n",
            "97  -69.9809 -41.4373  ALA100   970\n",
            "98  -70.1587 -29.2849  ALA100   980\n",
            "99  -98.4556 -28.9369  ALA100   990\n",
            "100 -80.0791 -35.5377  ALA100  1000\n",
            "\n",
            "[101 rows x 4 columns]\n"
          ]
        }
      ]
    },
    {
      "cell_type": "markdown",
      "source": [
        "### Creating the Ramachandran Plot"
      ],
      "metadata": {
        "id": "3t5E3D2gh_Pt"
      }
    },
    {
      "cell_type": "code",
      "source": [
        "#@title Ramachandran Plot\n",
        "import plotly.express as px\n",
        "import plotly.graph_objects as go\n",
        "import pandas as pd\n",
        "\n",
        "# Create dataframes for each file\n",
        "dfgenaLLowed1 = pd.read_csv('/content/drive/MyDrive/rama8000/generaL-aLLowed1.csv')\n",
        "dfgenaLLowed2 = pd.read_csv('/content/drive/MyDrive/rama8000/generaL-aLLowed2.csv')\n",
        "dfgenaLLowed3 = pd.read_csv('/content/drive/MyDrive/rama8000/generaL-aLLowed3.csv')\n",
        "dfgenaLLowed4 = pd.read_csv('/content/drive/MyDrive/rama8000/generaL-aLLowed4.csv')\n",
        "dfgenaLLowed5 = pd.read_csv('/content/drive/MyDrive/rama8000/generaL-aLLowed5.csv')\n",
        "dfgenaLLowed6 = pd.read_csv('/content/drive/MyDrive/rama8000/generaL-aLLowed6.csv')\n",
        "\n",
        "dfgenfavored1 = pd.read_csv('/content/drive/MyDrive/rama8000/generaL-favored1.csv')\n",
        "dfgenfavored2 = pd.read_csv('/content/drive/MyDrive/rama8000/generaL-favored2.csv')\n",
        "dfgenfavored3 = pd.read_csv('/content/drive/MyDrive/rama8000/generaL-favored3.csv')\n",
        "dfgenfavored4 = pd.read_csv('/content/drive/MyDrive/rama8000/generaL-favored4.csv')\n",
        "dfgenfavored5 = pd.read_csv('/content/drive/MyDrive/rama8000/generaL-favored5.csv')\n",
        "\n",
        "# ===== create figures =====\n",
        "# x and y are the column names\n",
        "figgenaLLowed1 = px.line(dfgenaLLowed1, x=\"phi\", y=\"psi\",\n",
        "                 hover_name=\"number\"\n",
        "                ) \n",
        "# add line color\n",
        "figgenaLLowed1.update_traces(line=dict(\n",
        "    color = 'deepskyblue',\n",
        "    width=1))\n",
        "\n",
        "figgenaLLowed2 = px.line(dfgenaLLowed2, x=\"phi\", y=\"psi\",\n",
        "                 hover_name=\"number\" \n",
        "                 ) \n",
        "figgenaLLowed2.update_traces(line=dict(\n",
        "    color = 'deepskyblue',\n",
        "    width=1))\n",
        "\n",
        "figgenaLLowed3 = px.line(dfgenaLLowed3, x=\"phi\", y=\"psi\",\n",
        "                 hover_name=\"number\" \n",
        "                 ) \n",
        "figgenaLLowed3.update_traces(line=dict(\n",
        "    color = 'deepskyblue',\n",
        "    width=1))\n",
        "\n",
        "figgenaLLowed4 = px.line(dfgenaLLowed4, x=\"phi\", y=\"psi\",\n",
        "                 hover_name=\"number\" \n",
        "                 ) \n",
        "figgenaLLowed4.update_traces(line=dict(\n",
        "    color = 'deepskyblue',\n",
        "    width=1))\n",
        "\n",
        "figgenaLLowed5 = px.line(dfgenaLLowed5, x=\"phi\", y=\"psi\",\n",
        "                 hover_name=\"number\" \n",
        "                 )                \n",
        "figgenaLLowed5.update_traces(line=dict(\n",
        "    color = 'deepskyblue',\n",
        "    width=1))\n",
        "\n",
        "figgenaLLowed6 = px.line(dfgenaLLowed6, x=\"phi\", y=\"psi\",\n",
        "                 hover_name=\"number\") \n",
        "figgenaLLowed6.update_traces(line=dict(\n",
        "    color = 'deepskyblue',\n",
        "    width=1))\n",
        "\n",
        "figgenfavored1 = px.line(dfgenfavored1, x=\"phi\", y=\"psi\",\n",
        "                 hover_name=\"number\") \n",
        "figgenfavored1.update_traces(line=dict(\n",
        "    color = 'deepskyblue',\n",
        "    width=2))\n",
        "\n",
        "figgenfavored2 = px.line(dfgenfavored2, x=\"phi\", y=\"psi\",\n",
        "                 hover_name=\"number\")\n",
        "figgenfavored2.update_traces(line=dict(\n",
        "    color = 'deepskyblue',\n",
        "    width=2)) \n",
        "\n",
        "figgenfavored3 = px.line(dfgenfavored3, x=\"phi\", y=\"psi\",\n",
        "                 hover_name=\"number\") \n",
        "figgenfavored3.update_traces(line=dict(\n",
        "    color = 'deepskyblue',\n",
        "    width=2))\n",
        "\n",
        "figgenfavored4 = px.line(dfgenfavored4, x=\"phi\", y=\"psi\",\n",
        "                 hover_name=\"number\") \n",
        "figgenfavored4.update_traces(line=dict(\n",
        "    color = 'deepskyblue',\n",
        "    width=2))\n",
        "\n",
        "figgenfavored5 = px.line(dfgenfavored5, x=\"phi\", y=\"psi\",\n",
        "                 hover_name=\"number\") \n",
        "figgenfavored5.update_traces(line=dict(\n",
        "    color = 'deepskyblue',\n",
        "    width=2))\n",
        "\n",
        "\n",
        "# figtestrama = px.scatter(testframe, x=\"phi\", y=\"psi\", animation_frame=\"time\", animation_group=\"aa\",\n",
        "          #  hover_name=\"aa\", range_x=[-180,180], range_y=[-180,180], color_discrete_sequence=['white'])\n",
        "\n",
        "# ==========================================\n",
        "#      Create a multi-aa plot \n",
        "# ==========================================\n",
        "\n",
        "figtestrama2 = px.scatter(bigframe, x=\"phi\", y=\"psi\", animation_frame=\"time\", animation_group=\"aa\",\n",
        "           hover_name=\"aa\", range_x=[-180,180], range_y=[-180,180], color_discrete_sequence=['white'])\n",
        "\n",
        "# ==========================================\n",
        "#      Add the plot for the allowed regions\n",
        "# ==========================================\n",
        "figtestrama2.add_trace(figgenaLLowed1.data[0])\n",
        "figtestrama2.add_trace(figgenaLLowed2.data[0])\n",
        "figtestrama2.add_trace(figgenaLLowed3.data[0])\n",
        "figtestrama2.add_trace(figgenaLLowed4.data[0])\n",
        "figtestrama2.add_trace(figgenaLLowed5.data[0])\n",
        "figtestrama2.add_trace(figgenaLLowed6.data[0])\n",
        "figtestrama2.add_trace(figgenfavored1.data[0])\n",
        "figtestrama2.add_trace(figgenfavored2.data[0])\n",
        "figtestrama2.add_trace(figgenfavored3.data[0])\n",
        "figtestrama2.add_trace(figgenfavored4.data[0])\n",
        "figtestrama2.add_trace(figgenfavored5.data[0])\n",
        "\n",
        "\n",
        "figtestrama2.update_layout(width=700, \n",
        "                         height=700, \n",
        "                         title_text=\"General\",\n",
        "                         # unicode for greek characters\n",
        "                         xaxis=dict(title=u\"\\u03A6\"),\n",
        "                         yaxis=dict(title=u\"\\u03A8\"),\n",
        "                         plot_bgcolor=\"black\"\n",
        "                         )\n",
        "figtestrama2.update_traces(showlegend=False)\n",
        "\n",
        "\n",
        "# update the axes\n",
        "figtestrama2.update_xaxes(showline=True,\n",
        "                  zeroline=True,\n",
        "                  showgrid=False,\n",
        "                  zerolinewidth=1,\n",
        "                  zerolinecolor='grey'\n",
        ")\n",
        "\n",
        "figtestrama2.update_yaxes(showline=True,\n",
        "                   zeroline=True,\n",
        "                   showgrid=False, \n",
        "                   zerolinewidth=1,\n",
        "                   zerolinecolor='grey'\n",
        ")\n",
        "\n",
        "\n",
        "# show the graph\n",
        "figtestrama2.show()\n",
        "\n",
        "# save it as html to share it on website\n",
        "figtestrama2.write_html(\"rama-arg.html\")"
      ],
      "metadata": {
        "colab": {
          "base_uri": "https://localhost:8080/",
          "height": 717
        },
        "id": "l37L0xULvwXg",
        "outputId": "3d247566-6b61-47d7-d29f-ce8a298f351f"
      },
      "execution_count": null,
      "outputs": [
        {
          "output_type": "display_data",
          "data": {
            "text/html": [
              "<html>\n",
              "<head><meta charset=\"utf-8\" /></head>\n",
              "<body>\n",
              "    <div>            <script src=\"https://cdnjs.cloudflare.com/ajax/libs/mathjax/2.7.5/MathJax.js?config=TeX-AMS-MML_SVG\"></script><script type=\"text/javascript\">if (window.MathJax) {MathJax.Hub.Config({SVG: {font: \"STIX-Web\"}});}</script>                <script type=\"text/javascript\">window.PlotlyConfig = {MathJaxConfig: 'local'};</script>\n",
              "        <script src=\"https://cdn.plot.ly/plotly-2.8.3.min.js\"></script>                <div id=\"b4f1f4fc-55e8-4de4-af23-9b3e970934c9\" class=\"plotly-graph-div\" style=\"height:700px; width:700px;\"></div>            <script type=\"text/javascript\">                                    window.PLOTLYENV=window.PLOTLYENV || {};                                    if (document.getElementById(\"b4f1f4fc-55e8-4de4-af23-9b3e970934c9\")) {                    Plotly.newPlot(                        \"b4f1f4fc-55e8-4de4-af23-9b3e970934c9\",                        [{\"hovertemplate\":\"<b>%{hovertext}</b><br><br>time=0<br>phi=%{x}<br>psi=%{y}<extra></extra>\",\"hovertext\":[\"ARG104\",\"ARG12\",\"ARG24\",\"ARG27\",\"ARG32\",\"ARG40\",\"ARG84\",\"ARG96\"],\"ids\":[\"ARG104\",\"ARG12\",\"ARG24\",\"ARG27\",\"ARG32\",\"ARG40\",\"ARG84\",\"ARG96\"],\"legendgroup\":\"\",\"marker\":{\"color\":\"white\",\"symbol\":\"circle\"},\"mode\":\"markers\",\"name\":\"\",\"orientation\":\"v\",\"showlegend\":false,\"x\":[-136.129,-69.3713,-51.315,-67.7192,-97.7959,-143.643,-81.7028,-49.8955],\"xaxis\":\"x\",\"y\":[179.416,119.317,-40.8482,-29.6525,-25.3432,159.14,-31.8495,-51.0809],\"yaxis\":\"y\",\"type\":\"scatter\"},{\"hovertemplate\":\"<b>%{hovertext}</b><br><br>phi=%{x}<br>psi=%{y}<extra></extra>\",\"hovertext\":[0.001,0.001,0.001,0.001,0.001,0.001,0.001,0.001,0.001,0.001,0.001,0.001,0.001,0.001,0.001,0.001,0.001,0.001,0.001,0.001,0.001,0.001,0.001,0.001,0.001,0.001,0.001,0.001,0.001,0.001,0.001,0.001,0.001,0.001,0.001,0.001,0.001,0.001,0.001,0.001,0.001,0.001,0.001,0.001,0.001,0.001,0.001,0.001,0.001,0.001,0.001,0.001,0.001,0.001,0.001,0.001,0.001,0.001,0.001,0.001,0.001,0.001,0.001,0.001,0.001,0.001,0.001,0.001,0.001,0.001,0.001,0.001,0.001,0.001,0.001,0.001,0.001,0.001,0.001,0.001,0.001,0.001,0.001,0.001,0.001,0.001,0.001,0.001,0.001,0.001,0.001,0.001,0.001,0.001,0.001,0.001,0.001,0.001,0.001,0.001,0.001,0.001,0.001,0.001,0.001,0.001,0.001,0.001,0.001,0.001,0.001,0.001,0.001,0.001,0.001,0.001,0.001,0.001,0.001,0.001,0.001,0.001,0.001,0.001,0.001,0.001,0.001,0.001,0.001,0.001,0.001,0.001,0.001,0.001,0.001,0.001,0.001,0.001,0.001,0.001,0.001,0.001,0.001,0.001,0.001,0.001,0.001,0.001,0.001,0.001,0.001,0.001,0.001,0.001,0.001,0.001,0.001,0.001,0.001,0.001,0.001,0.001,0.001,0.001,0.001,0.001,0.001,0.001,0.001,0.001,0.001,0.001,0.001,0.001,0.001,0.001,0.001,0.001,0.001,0.001,0.001,0.001,0.001,0.001,0.001,0.001,0.001,0.001,0.001,0.001,0.001,0.001,0.001,0.001,0.001,0.001,0.001,0.001,0.001,0.001,0.001,0.001,0.001,0.001,0.001,0.001,0.001,0.001,0.001,0.001,0.001,0.001,0.001,0.001,0.001,0.001,0.001,0.001,0.001,0.001,0.001,0.001,0.001,0.001,0.001,0.001,0.001,0.001,0.001,0.001,0.001,0.001,0.001,0.001,0.001,0.001,0.001,0.001,0.001,0.001,0.001,0.001,0.001,0.001,0.001,0.001,0.001,0.001,0.001,0.001,0.001,0.001,0.001,0.001,0.001,0.001,0.001,0.001,0.001,0.001,0.001,0.001,0.001,0.001,0.001,0.001,0.001,0.001,0.001,0.001,0.001,0.001,0.001,0.001,0.001,0.001,0.001,0.001,0.001,0.001,0.001,0.001,0.001,0.001,0.001,0.001,0.001,0.001,0.001,0.001,0.001,0.001,0.001,0.001,0.001,0.001,0.001,0.001,0.001,0.001,0.001,0.001,0.001,0.001,0.001,0.001,0.001,0.001,0.001,0.001,0.001],\"legendgroup\":\"\",\"line\":{\"color\":\"deepskyblue\",\"dash\":\"solid\",\"width\":1},\"marker\":{\"symbol\":\"circle\"},\"mode\":\"lines\",\"name\":\"\",\"orientation\":\"v\",\"showlegend\":false,\"x\":[57.094,56.934,56.907,56.753,56.552,56.155,56.103,56.074,56.0,55.424,55.245,54.907,54.842,54.575,54.381,54.0,53.687,53.566,53.232,53.075,52.769,52.481,52.0,51.773,51.672,51.367,51.104,50.783,50.494,50.0,49.834,49.757,49.543,49.159,48.866,48.571,48.115,48.068,48.048,48.0,47.332,47.099,46.734,46.546,46.349,46.231,46.0,45.439,45.204,44.747,44.537,44.317,44.2,44.0,43.391,43.118,42.682,42.406,42.235,42.149,42.0,41.344,41.053,40.658,40.343,40.199,40.124,40.0,39.28,38.95,38.577,38.046,38.024,38.014,38.0,37.07,36.633,36.389,36.0,35.586,35.355,34.79,34.563,34.301,34.205,34.0,33.392,33.12,32.79,32.643,32.428,32.326,32.0,31.806,31.742,31.683,31.428,31.332,31.25,31.187,31.105,31.109,31.115,31.119,31.203,31.29,31.376,31.468,31.89,31.915,31.935,32.0,32.462,32.69,33.054,33.191,33.593,33.732,34.0,34.58,35.08,35.439,36.0,36.422,36.887,37.376,38.0,38.474,39.11,39.535,40.0,40.692,41.714,41.854,42.0,42.97,43.003,44.0,44.201,44.483,45.256,46.0,46.446,47.064,47.507,48.0,48.681,49.712,49.851,50.0,50.549,51.108,52.0,52.462,53.442,53.773,54.0,54.434,55.307,56.0,56.999,57.001,58.0,58.89,59.115,60.0,60.946,61.091,62.0,62.557,63.551,63.853,64.0,64.716,65.063,66.0,66.166,66.279,67.055,67.238,67.741,67.862,68.0,68.677,68.963,69.297,69.645,69.791,69.864,70.0,70.486,70.63,70.892,70.949,71.178,71.406,71.64,71.75,71.815,72.0,72.369,72.466,72.612,72.796,72.953,73.064,73.072,73.17,73.256,73.286,73.36,73.369,73.367,73.376,73.332,73.3,73.254,73.147,73.126,73.005,72.853,72.74,72.584,72.457,72.0,71.895,71.867,71.813,71.498,71.334,71.161,71.12,70.908,70.83,70.781,70.703,70.705,70.695,70.697,70.777,70.829,70.91,71.061,71.082,71.225,71.383,71.602,71.698,71.758,72.0,72.191,72.234,72.293,72.583,72.686,72.841,72.9,73.049,73.227,73.29,73.427,73.554,73.858,73.894,73.916,74.0,74.424,74.519,74.659,74.806,74.953,75.134,75.177,75.33,75.469,75.67,75.745,75.791,76.0,76.242,76.296,76.39,76.676,76.813,77.012,77.017,77.204,77.404,77.711,77.8,77.852,78.0,78.51,78.683,79.051,79.092,79.395,79.599,80.0,80.319,80.45,80.803,80.933,81.271,81.538,82.0,82.261,82.379,82.675,82.889,83.212],\"xaxis\":\"x\",\"y\":[-180.0,-179.066,-178.907,-178.0,-177.448,-176.155,-176.0,-175.926,-175.718,-174.576,-174.0,-173.093,-172.842,-172.0,-171.619,-170.747,-170.313,-170.0,-169.232,-168.925,-168.0,-167.519,-166.499,-166.227,-166.0,-165.367,-164.896,-164.0,-163.506,-162.37,-162.166,-162.0,-161.543,-160.841,-160.0,-159.429,-158.115,-158.0,-157.952,-157.827,-156.668,-156.0,-155.266,-154.546,-154.0,-153.769,-153.267,-152.561,-152.0,-151.253,-150.537,-150.0,-149.8,-149.335,-148.609,-148.0,-147.318,-146.406,-146.0,-145.851,-145.468,-144.656,-144.0,-143.342,-142.343,-142.0,-141.876,-141.572,-140.72,-140.0,-139.423,-138.046,-138.0,-137.986,-137.957,-136.93,-136.0,-135.611,-134.812,-134.414,-134.0,-133.21,-132.563,-132.0,-131.795,-131.332,-130.608,-130.0,-129.21,-128.643,-128.0,-127.674,-126.544,-126.194,-126.0,-125.683,-124.572,-124.0,-123.25,-122.813,-122.0,-121.109,-120.885,-120.0,-119.203,-118.71,-118.0,-117.468,-116.11,-116.0,-115.935,-115.82,-114.462,-114.0,-113.054,-112.809,-112.0,-111.732,-111.469,-110.58,-110.0,-109.439,-108.958,-108.422,-108.0,-107.376,-106.933,-106.474,-106.0,-105.535,-105.265,-104.692,-104.0,-103.854,-103.774,-103.03,-103.004,-102.394,-102.201,-102.0,-101.256,-100.83,-100.446,-100.0,-99.507,-99.21,-98.681,-98.0,-97.851,-97.763,-97.451,-97.108,-96.697,-96.462,-96.0,-95.773,-95.682,-95.566,-95.307,-95.138,-95.001,-95.001,-94.871,-94.89,-94.885,-94.906,-95.054,-95.091,-95.259,-95.443,-96.0,-96.147,-96.235,-96.716,-96.937,-97.706,-97.834,-98.0,-98.945,-99.238,-100.0,-100.138,-100.37,-101.323,-102.0,-102.703,-103.645,-104.0,-104.136,-104.532,-105.514,-106.0,-106.892,-107.051,-108.0,-108.594,-109.64,-110.0,-110.185,-110.866,-111.631,-112.0,-112.612,-113.204,-114.0,-114.936,-115.072,-116.0,-116.744,-117.286,-118.0,-118.631,-119.367,-120.0,-120.668,-121.3,-122.0,-122.853,-123.126,-124.0,-124.853,-125.26,-126.0,-126.457,-127.472,-127.895,-128.0,-128.187,-129.498,-130.0,-130.839,-131.12,-132.0,-132.83,-133.219,-134.0,-134.705,-135.305,-136.0,-136.777,-137.171,-138.0,-138.939,-139.082,-140.0,-140.617,-141.602,-142.0,-142.242,-143.318,-143.809,-144.0,-144.293,-145.417,-146.0,-146.841,-147.1,-148.0,-148.773,-149.29,-150.0,-150.446,-151.858,-152.0,-152.084,-152.463,-153.576,-154.0,-154.659,-155.194,-156.0,-156.866,-157.177,-158.0,-158.531,-159.67,-160.0,-160.209,-161.138,-161.758,-162.0,-162.39,-163.324,-164.0,-164.988,-165.017,-166.0,-166.596,-167.711,-168.0,-168.148,-168.565,-169.49,-170.0,-170.949,-171.092,-172.0,-172.401,-173.253,-173.681,-174.0,-174.803,-175.067,-176.0,-176.462,-177.405,-177.739,-178.0,-178.675,-179.111,-180.0],\"yaxis\":\"y\",\"type\":\"scatter\"},{\"hovertemplate\":\"<b>%{hovertext}</b><br><br>phi=%{x}<br>psi=%{y}<extra></extra>\",\"hovertext\":[0.001,0.001,0.001,0.001,0.001,0.001,0.001,0.001,0.001,0.001,0.001,0.001,0.001,0.001,0.001,0.001,0.001,0.001,0.001,0.001,0.001,0.001,0.001,0.001,0.001,0.001,0.001,0.001,0.001,0.001,0.001,0.001,0.001,0.001,0.001,0.001,0.001,0.001,0.001,0.001,0.001,0.001,0.001,0.001,0.001,0.001,0.001,0.001,0.001,0.001,0.001,0.001,0.001,0.001,0.001,0.001,0.001,0.001,0.001,0.001,0.001,0.001,0.001,0.001,0.001,0.001,0.001,0.001,0.001,0.001,0.001,0.001,0.001,0.001,0.001,0.001,0.001,0.001,0.001,0.001,0.001,0.001,0.001,0.001,0.001,0.001,0.001,0.001,0.001,0.001,0.001,0.001,0.001,0.001,0.001,0.001,0.001,0.001,0.001,0.001,0.001,0.001,0.001,0.001,0.001,0.001,0.001,0.001,0.001,0.001,0.001,0.001,0.001,0.001,0.001,0.001,0.001,0.001,0.001,0.001,0.001,0.001,0.001,0.001,0.001,0.001,0.001,0.001,0.001,0.001,0.001,0.001,0.001,0.001,0.001,0.001,0.001,0.001,0.001,0.001,0.001,0.001,0.001,0.001,0.001,0.001,0.001,0.001,0.001,0.001,0.001,0.001,0.001,0.001,0.001,0.001,0.001,0.001,0.001,0.001,0.001,0.001,0.001,0.001,0.001,0.001,0.001,0.001,0.001,0.001,0.001,0.001,0.001,0.001,0.001,0.001,0.001,0.001,0.001,0.001,0.001,0.001,0.001,0.001,0.001,0.001,0.001,0.001,0.001,0.001,0.001,0.001,0.001,0.001,0.001,0.001,0.001,0.001,0.001,0.001,0.001,0.001,0.001,0.001,0.001,0.001,0.001,0.001,0.001,0.001,0.001,0.001,0.001,0.001,0.001,0.001,0.001,0.001,0.001,0.001,0.001,0.001,0.001,0.001,0.001,0.001,0.001,0.001,0.001,0.001,0.001,0.001,0.001,0.001,0.001,0.001,0.001,0.001,0.001,0.001,0.001,0.001,0.001,0.001,0.001,0.001,0.001,0.001,0.001,0.001,0.001,0.001,0.001,0.001,0.001,0.001,0.001,0.001,0.001,0.001,0.001,0.001,0.001,0.001,0.001,0.001,0.001,0.001,0.001,0.001,0.001,0.001,0.001,0.001,0.001,0.001,0.001,0.001,0.001,0.001,0.001,0.001,0.001,0.001,0.001,0.001,0.001,0.001,0.001,0.001,0.001,0.001,0.001,0.001,0.001,0.001,0.001,0.001,0.001,0.001,0.001,0.001,0.001,0.001,0.001,0.001,0.001,0.001,0.001,0.001,0.001,0.001,0.001,0.001,0.001,0.001,0.001,0.001,0.001,0.001,0.001,0.001,0.001,0.001,0.001,0.001,0.001,0.001,0.001,0.001,0.001,0.001,0.001,0.001,0.001,0.001,0.001,0.001,0.001,0.001,0.001,0.001,0.001,0.001,0.001,0.001,0.001,0.001,0.001,0.001,0.001,0.001,0.001,0.001,0.001,0.001,0.001,0.001,0.001,0.001,0.001,0.001,0.001,0.001,0.001,0.001,0.001,0.001,0.001,0.001,0.001,0.001,0.001,0.001,0.001,0.001,0.001,0.001,0.001,0.001,0.001,0.001,0.001,0.001,0.001,0.001,0.001,0.001,0.001,0.001,0.001,0.001,0.001,0.001,0.001,0.001,0.001,0.001,0.001,0.001,0.001,0.001,0.001,0.001,0.001,0.001,0.001,0.001,0.001,0.001,0.001,0.001,0.001,0.001,0.001,0.001,0.001,0.001,0.001,0.001,0.001,0.001,0.001,0.001,0.001,0.001,0.001,0.001,0.001,0.001,0.001,0.001,0.001,0.001,0.001,0.001,0.001,0.001,0.001,0.001,0.001,0.001,0.001,0.001,0.001,0.001,0.001,0.001,0.001,0.001,0.001,0.001,0.001,0.001,0.001,0.001,0.001],\"legendgroup\":\"\",\"line\":{\"color\":\"deepskyblue\",\"dash\":\"solid\",\"width\":1},\"marker\":{\"symbol\":\"circle\"},\"mode\":\"lines\",\"name\":\"\",\"orientation\":\"v\",\"showlegend\":false,\"x\":[-180.0,-179.298,-178.675,-178.458,-178.0,-177.666,-177.438,-177.098,-177.052,-176.611,-176.454,-176.0,-175.775,-175.652,-175.423,-175.206,-174.833,-174.613,-174.0,-173.882,-173.806,-173.621,-173.238,-172.8,-172.537,-172.0,-171.701,-171.466,-170.885,-170.0,-169.946,-169.891,-169.131,-169.01,-168.607,-168.0,-167.988,-167.972,-166.936,-166.0,-165.791,-165.524,-164.722,-164.0,-163.469,-162.664,-162.327,-162.0,-161.041,-160.877,-160.0,-159.737,-159.271,-158.545,-158.0,-157.22,-156.208,-156.0,-155.939,-155.825,-154.73,-154.0,-153.488,-152.814,-152.409,-152.0,-151.352,-150.804,-150.532,-150.0,-149.773,-149.679,-149.595,-149.385,-149.26,-149.184,-149.138,-149.066,-149.063,-149.061,-149.057,-149.106,-149.114,-149.161,-149.266,-149.336,-149.427,-149.517,-149.769,-149.813,-149.852,-150.0,-150.34,-150.411,-150.539,-150.739,-150.897,-151.149,-151.251,-151.459,-151.539,-151.825,-151.858,-151.88,-152.0,-152.242,-152.284,-152.317,-152.486,-152.531,-152.586,-152.647,-152.709,-152.739,-152.759,-152.789,-152.794,-152.794,-152.8,-152.794,-152.789,-152.783,-152.762,-152.738,-152.717,-152.707,-152.689,-152.679,-152.736,-152.762,-152.825,-153.031,-153.055,-153.279,-153.514,-154.0,-154.229,-154.331,-155.07,-155.47,-155.866,-155.931,-156.0,-156.898,-157.567,-157.76,-158.0,-158.681,-159.093,-159.444,-160.0,-160.26,-160.378,-160.659,-160.879,-161.193,-161.38,-161.774,-161.846,-161.884,-162.0,-162.346,-162.417,-162.463,-162.591,-162.646,-162.661,-162.68,-162.695,-162.678,-162.655,-162.638,-162.607,-162.525,-162.496,-162.44,-162.166,-162.142,-162.126,-162.0,-161.847,-161.818,-161.791,-161.603,-161.551,-161.509,-161.444,-161.395,-161.297,-161.246,-161.129,-160.999,-160.999,-160.871,-160.79,-160.733,-160.655,-160.585,-160.453,-160.397,-160.361,-160.175,-160.157,-160.15,-160.003,-160.003,-160.003,-160.035,-160.035,-160.037,-160.151,-160.155,-160.169,-160.343,-160.369,-160.412,-160.525,-160.58,-160.643,-160.722,-160.789,-160.877,-160.9,-160.989,-161.13,-161.167,-161.294,-161.358,-161.443,-161.499,-161.532,-161.594,-161.622,-161.646,-161.73,-161.748,-161.743,-161.684,-161.678,-161.658,-161.573,-161.548,-161.478,-161.34,-161.258,-161.147,-161.114,-160.997,-160.884,-160.852,-160.745,-160.707,-160.663,-160.626,-160.606,-160.584,-160.566,-160.566,-160.588,-160.588,-160.622,-160.668,-160.705,-160.791,-160.848,-160.931,-161.035,-161.042,-161.143,-161.262,-161.333,-161.433,-161.523,-161.716,-161.767,-161.806,-162.0,-162.17,-162.198,-162.228,-162.454,-162.509,-162.59,-162.708,-162.798,-162.971,-162.981,-163.142,-163.313,-163.43,-163.553,-163.649,-163.935,-163.951,-163.959,-164.0,-164.392,-164.457,-164.518,-164.655,-164.725,-164.809,-164.861,-164.941,-165.007,-165.007,-165.071,-165.148,-165.159,-165.228,-165.299,-165.343,-165.406,-165.449,-165.479,-165.517,-165.549,-165.6,-165.627,-165.642,-165.686,-165.698,-165.707,-165.755,-165.762,-165.77,-165.826,-165.832,-165.842,-165.977,-165.979,-165.981,-166.0,-166.304,-166.345,-166.395,-166.542,-166.608,-166.724,-166.815,-166.935,-167.057,-167.066,-167.176,-167.311,-167.381,-167.484,-167.566,-167.74,-167.784,-167.815,-168.0,-168.093,-168.107,-168.126,-168.429,-168.483,-168.549,-168.675,-168.749,-168.818,-168.852,-168.922,-168.992,-168.993,-169.064,-169.126,-169.145,-169.206,-169.265,-169.306,-169.361,-169.423,-169.539,-169.59,-169.638,-169.825,-169.848,-169.876,-170.0,-170.315,-170.376,-170.469,-170.682,-170.802,-171.005,-171.007,-171.186,-171.367,-171.497,-171.614,-171.69,-171.945,-171.957,-171.964,-172.0,-172.317,-172.355,-172.391,-172.53,-172.575,-172.658,-172.76,-172.845,-172.995,-172.997,-173.137,-173.346,-173.528,-173.656,-173.747,-174.0,-174.397,-174.539,-174.861,-174.948,-175.222,-175.431,-175.729,-175.814,-175.852,-176.0,-176.338,-176.421,-176.512,-176.693,-176.801,-176.874,-176.893,-176.968,-177.027,-177.031,-177.091,-177.141,-177.154,-177.201,-177.28,-177.32,-177.388,-177.493,-177.684,-177.745,-177.801,-178.0,-178.312,-178.394,-178.547,-178.785,-178.963,-179.164,-179.22,-179.381,-179.498,-179.693,-179.756,-179.79,-180.0],\"xaxis\":\"x\",\"y\":[-163.877,-162.702,-162.0,-161.542,-161.011,-160.334,-160.0,-159.098,-158.948,-158.0,-157.546,-156.8,-156.225,-156.0,-155.423,-154.794,-154.0,-153.387,-152.374,-152.118,-152.0,-151.621,-150.762,-150.0,-149.463,-148.776,-148.299,-148.0,-147.115,-146.122,-146.054,-146.0,-145.131,-144.99,-144.607,-144.027,-144.012,-144.0,-143.064,-142.408,-142.209,-142.0,-141.278,-140.881,-140.531,-140.0,-139.673,-139.492,-138.959,-138.877,-138.423,-138.263,-138.0,-137.455,-137.177,-136.78,-136.208,-136.094,-136.061,-136.0,-135.27,-134.823,-134.512,-134.0,-133.591,-133.273,-132.648,-132.0,-131.468,-130.614,-130.227,-130.0,-129.595,-128.615,-128.0,-127.184,-126.862,-126.0,-125.063,-124.939,-124.0,-123.106,-122.886,-122.0,-121.266,-120.664,-120.0,-119.517,-118.231,-118.0,-117.852,-117.375,-116.34,-116.0,-115.461,-114.739,-114.0,-113.149,-112.749,-112.0,-111.539,-110.175,-110.0,-109.88,-109.302,-108.242,-108.0,-107.683,-106.486,-106.0,-105.414,-104.647,-104.0,-103.261,-102.759,-102.0,-101.206,-100.794,-100.0,-99.206,-98.789,-98.0,-97.238,-96.738,-96.0,-95.293,-94.689,-94.0,-93.264,-92.762,-92.0,-91.031,-90.945,-90.0,-89.514,-88.606,-88.229,-88.0,-87.07,-86.53,-86.0,-85.931,-85.86,-84.898,-84.0,-83.76,-83.461,-82.681,-82.0,-81.444,-80.606,-80.26,-80.0,-79.341,-78.879,-78.0,-77.38,-76.226,-76.0,-75.884,-75.454,-74.346,-74.0,-73.537,-72.591,-72.0,-71.339,-70.68,-70.0,-69.322,-68.655,-68.0,-67.393,-66.525,-66.0,-65.56,-64.166,-64.0,-63.874,-63.186,-62.153,-62.0,-61.791,-60.397,-60.0,-59.509,-58.556,-58.0,-57.297,-56.754,-56.0,-55.001,-54.999,-54.0,-53.21,-52.733,-52.0,-51.415,-50.453,-50.0,-49.639,-48.175,-48.0,-47.85,-46.003,-46.0,-45.997,-44.035,-44.0,-43.963,-42.151,-42.0,-41.831,-40.343,-40.0,-39.588,-38.525,-38.0,-37.357,-36.722,-36.0,-35.123,-34.9,-34.0,-33.13,-32.833,-32.0,-31.358,-30.557,-30.0,-29.532,-28.406,-28.0,-27.646,-26.27,-26.0,-25.743,-24.316,-24.0,-23.658,-22.427,-22.0,-21.478,-20.66,-20.0,-19.147,-18.886,-18.0,-17.116,-16.852,-16.0,-15.293,-14.663,-14.0,-13.394,-12.584,-12.0,-11.434,-10.588,-10.0,-9.378,-8.668,-8.0,-7.209,-6.848,-6.0,-5.035,-4.958,-4.0,-3.262,-2.667,-2.0,-1.523,-0.284,0.0,0.194,1.258,1.83,2.0,2.228,3.546,4.0,4.59,5.292,6.0,6.971,7.019,8.0,8.687,9.43,10.0,10.351,11.935,12.0,12.041,12.279,13.608,14.0,14.518,15.345,16.0,16.809,17.139,18.0,18.993,19.007,20.0,20.852,21.159,22.0,22.701,23.343,24.0,24.551,25.479,26.0,26.451,27.6,28.0,28.358,29.686,30.0,30.293,31.755,32.0,32.23,33.826,34.0,34.158,35.977,36.0,36.019,36.178,37.696,38.0,38.395,39.458,40.0,40.724,41.185,42.0,42.943,43.066,44.0,44.689,45.381,46.0,46.434,47.74,48.0,48.185,49.553,49.907,50.0,50.126,51.571,52.0,52.549,53.325,54.0,54.818,55.148,56.0,56.992,57.007,58.0,58.874,59.145,60.0,60.735,61.306,62.0,62.577,63.539,64.0,64.362,65.825,66.0,66.124,66.718,67.685,68.0,68.469,69.318,70.0,70.995,71.007,72.0,72.633,73.497,74.0,74.31,75.945,76.0,76.036,76.319,77.683,78.0,78.391,79.47,80.0,80.658,81.24,82.0,82.995,83.003,84.0,84.654,85.528,86.0,86.253,86.981,87.603,88.0,88.861,89.052,90.0,90.569,91.729,92.0,92.148,92.796,93.662,94.0,94.512,95.307,96.0,96.874,97.107,98.0,98.973,99.031,100.0,100.859,101.154,102.0,102.72,103.32,104.0,104.507,105.684,106.0,106.199,106.996,107.688,108.0,108.547,109.215,110.0,110.836,111.22,112.0,112.502,113.693,114.0,114.21,115.633],\"yaxis\":\"y\",\"type\":\"scatter\"},{\"hovertemplate\":\"<b>%{hovertext}</b><br><br>phi=%{x}<br>psi=%{y}<extra></extra>\",\"hovertext\":[0.001,0.001,0.001,0.001,0.001,0.001,0.001,0.001,0.001,0.001,0.001,0.001,0.001,0.001,0.001,0.001,0.001,0.001,0.001,0.001,0.001,0.001,0.001,0.001,0.001,0.001,0.001,0.001,0.001,0.001,0.001,0.001,0.001,0.001,0.001,0.001,0.001,0.001,0.001,0.001,0.001,0.001,0.001,0.001,0.001,0.001,0.001,0.001,0.001,0.001,0.001,0.001,0.001,0.001,0.001,0.001,0.001,0.001,0.001,0.001,0.001,0.001,0.001,0.001,0.001,0.001,0.001,0.001,0.001,0.001,0.001,0.001,0.001,0.001,0.001,0.001,0.001,0.001,0.001,0.001,0.001,0.001,0.001,0.001,0.001,0.001,0.001,0.001,0.001,0.001,0.001,0.001,0.001,0.001,0.001,0.001,0.001,0.001,0.001,0.001,0.001,0.001,0.001,0.001,0.001,0.001,0.001,0.001,0.001,0.001,0.001,0.001,0.001,0.001,0.001,0.001,0.001,0.001,0.001,0.001,0.001,0.001,0.001,0.001,0.001,0.001,0.001,0.001,0.001,0.001,0.001,0.001,0.001,0.001,0.001,0.001,0.001,0.001,0.001,0.001,0.001,0.001,0.001,0.001,0.001,0.001,0.001,0.001,0.001,0.001,0.001,0.001,0.001,0.001,0.001,0.001,0.001,0.001,0.001,0.001,0.001,0.001,0.001,0.001,0.001,0.001,0.001,0.001,0.001,0.001,0.001,0.001,0.001,0.001,0.001,0.001,0.001,0.001,0.001,0.001,0.001,0.001,0.001,0.001,0.001,0.001,0.001,0.001,0.001,0.001,0.001,0.001,0.001,0.001,0.001,0.001,0.001,0.001,0.001,0.001,0.001,0.001,0.001,0.001,0.001,0.001,0.001,0.001,0.001,0.001,0.001,0.001,0.001,0.001,0.001,0.001,0.001,0.001,0.001,0.001,0.001,0.001,0.001,0.001,0.001,0.001,0.001,0.001,0.001,0.001,0.001,0.001,0.001,0.001,0.001,0.001,0.001,0.001,0.001,0.001,0.001,0.001,0.001,0.001,0.001,0.001,0.001,0.001,0.001,0.001,0.001,0.001,0.001,0.001,0.001,0.001,0.001,0.001,0.001,0.001,0.001,0.001,0.001,0.001,0.001,0.001,0.001,0.001,0.001,0.001,0.001,0.001,0.001,0.001,0.001,0.001,0.001,0.001,0.001,0.001,0.001,0.001,0.001,0.001,0.001,0.001,0.001,0.001,0.001,0.001,0.001,0.001,0.001,0.001,0.001,0.001,0.001,0.001,0.001,0.001,0.001,0.001,0.001,0.001,0.001,0.001,0.001,0.001,0.001,0.001,0.001,0.001,0.001,0.001,0.001,0.001,0.001,0.001,0.001,0.001,0.001,0.001,0.001,0.001,0.001,0.001,0.001,0.001,0.001,0.001,0.001,0.001,0.001,0.001,0.001,0.001,0.001,0.001,0.001,0.001,0.001,0.001,0.001,0.001,0.001,0.001,0.001,0.001,0.001,0.001,0.001,0.001,0.001,0.001,0.001,0.001,0.001,0.001,0.001,0.001,0.001,0.001,0.001,0.001,0.001,0.001,0.001,0.001,0.001,0.001,0.001,0.001,0.001,0.001,0.001,0.001,0.001,0.001,0.001,0.001,0.001,0.001,0.001,0.001,0.001,0.001,0.001,0.001,0.001,0.001,0.001,0.001,0.001,0.001,0.001,0.001,0.001,0.001,0.001,0.001,0.001,0.001,0.001,0.001,0.001,0.001,0.001,0.001,0.001,0.001,0.001,0.001,0.001,0.001,0.001,0.001,0.001,0.001,0.001,0.001,0.001,0.001,0.001,0.001,0.001,0.001,0.001,0.001,0.001,0.001,0.001,0.001,0.001,0.001,0.001,0.001,0.001,0.001,0.001,0.001,0.001,0.001,0.001,0.001,0.001,0.001,0.001,0.001,0.001,0.001,0.001,0.001,0.001,0.001,0.001,0.001,0.001,0.001,0.001,0.001,0.001,0.001,0.001,0.001,0.001,0.001,0.001,0.001,0.001,0.001,0.001,0.001,0.001,0.001,0.001,0.001,0.001,0.001,0.001,0.001,0.001,0.001,0.001,0.001,0.001,0.001,0.001,0.001,0.001,0.001,0.001,0.001,0.001,0.001,0.001,0.001,0.001,0.001,0.001,0.001,0.001,0.001,0.001,0.001,0.001,0.001,0.001,0.001,0.001,0.001,0.001,0.001,0.001,0.001,0.001,0.001,0.001,0.001,0.001,0.001,0.001,0.001,0.001,0.001,0.001,0.001,0.001,0.001,0.001,0.001,0.001,0.001,0.001,0.001,0.001,0.001,0.001,0.001,0.001,0.001,0.001,0.001,0.001,0.001,0.001,0.001,0.001,0.001,0.001,0.001,0.001,0.001,0.001,0.001,0.001,0.001,0.001,0.001,0.001,0.001,0.001,0.001,0.001,0.001,0.001,0.001,0.001,0.001,0.001,0.001,0.001,0.001,0.001,0.001,0.001,0.001,0.001,0.001,0.001,0.001,0.001,0.001,0.001,0.001,0.001,0.001,0.001,0.001,0.001,0.001,0.001,0.001,0.001,0.001,0.001,0.001,0.001,0.001,0.001,0.001,0.001,0.001,0.001,0.001,0.001,0.001,0.001,0.001,0.001,0.001,0.001,0.001,0.001,0.001,0.001,0.001,0.001,0.001,0.001,0.001,0.001,0.001,0.001,0.001,0.001,0.001,0.001,0.001,0.001,0.001,0.001,0.001,0.001,0.001,0.001,0.001,0.001,0.001,0.001,0.001,0.001,0.001,0.001,0.001,0.001,0.001,0.001,0.001,0.001,0.001,0.001,0.001,0.001,0.001,0.001,0.001,0.001,0.001,0.001,0.001,0.001,0.001,0.001,0.001,0.001,0.001,0.001,0.001,0.001,0.001,0.001,0.001,0.001,0.001,0.001,0.001,0.001,0.001,0.001,0.001,0.001,0.001,0.001,0.001,0.001,0.001,0.001,0.001,0.001,0.001,0.001,0.001,0.001,0.001,0.001,0.001,0.001,0.001,0.001,0.001,0.001,0.001,0.001,0.001,0.001,0.001,0.001,0.001,0.001,0.001,0.001,0.001,0.001,0.001,0.001],\"legendgroup\":\"\",\"line\":{\"color\":\"deepskyblue\",\"dash\":\"solid\",\"width\":1},\"marker\":{\"symbol\":\"circle\"},\"mode\":\"lines\",\"name\":\"\",\"orientation\":\"v\",\"showlegend\":false,\"x\":[81.167,81.642,82.0,82.637,83.031,83.376,84.0,84.153,84.206,84.337,84.714,84.984,85.14,85.195,85.337,85.373,85.402,85.435,85.396,85.342,85.301,85.156,85.104,84.961,84.738,84.498,84.345,84.249,84.0,83.537,83.305,82.898,82.777,82.461,82.336,82.0,81.614,81.427,81.189,81.094,80.858,80.702,80.569,80.451,80.403,80.303,80.269,80.263,80.263,80.256,80.258,80.342,80.344,80.346,80.42,80.423,80.412,80.418,80.408,80.376,80.242,80.221,80.189,80.0,79.858,79.84,79.805,79.55,79.472,79.345,79.233,79.084,78.938,78.91,78.76,78.646,78.406,78.324,78.26,78.0,77.777,77.716,77.609,77.387,77.197,76.975,76.955,76.715,76.605,76.339,76.269,76.225,76.0,75.875,75.864,75.866,75.819,75.82,75.831,75.88,75.887,75.895,76.0,76.043,76.047,76.052,76.306,76.333,76.375,76.52,76.575,76.722,76.832,76.984,77.304,77.542,77.707,77.809,78.0,78.626,78.891,79.328,79.699,79.836,79.893,80.0,80.679,80.938,81.299,81.491,81.674,81.762,82.0,82.425,82.579,82.93,82.975,83.248,83.436,83.668,83.76,83.809,84.0,84.368,84.489,84.737,84.887,85.135,85.399,85.694,85.8,85.852,86.0,86.489,86.649,86.945,86.975,87.232,87.431,87.711,87.797,87.845,88.0,88.374,88.475,88.645,88.822,89.001,89.224,89.3,89.461,89.587,89.923,89.944,89.956,90.0,90.525,90.657,90.961,90.984,91.218,91.457,91.706,91.8,91.86,92.0,92.617,92.851,93.261,93.449,93.659,93.767,94.0,94.58,94.837,95.241,95.47,95.684,95.777,96.0,96.514,96.724,97.071,97.116,97.387,97.554,98.0,98.064,98.086,98.112,98.523,98.627,98.73,98.814,98.918,98.933,98.934,98.949,98.884,98.853,98.784,98.683,98.496,98.412,98.327,98.0,97.772,97.675,97.451,97.21,96.837,96.572,96.0,95.722,95.484,94.861,94.0,93.847,93.659,92.872,92.0,91.774,91.47,90.736,90.0,89.55,88.931,88.521,88.0,87.495,87.002,86.651,86.0,85.807,85.7,85.596,85.338,85.177,85.131,85.112,85.067,85.105,85.103,85.137,85.237,85.246,85.327,85.429,85.496,85.571,85.64,85.83,85.859,85.879,86.0,86.266,86.311,86.369,86.598,86.679,86.761,86.82,86.902,87.017,87.019,87.12,87.146,87.149,87.174,87.149,87.143,87.117,87.022,87.02,86.915,86.827,86.758,86.668,86.564,86.183,86.141,86.111,86.0,85.686,85.609,85.463,85.33,85.089,84.843,84.544,84.328,84.229,84.0,83.516,83.19,82.832,82.0,81.971,81.947,81.838,81.194,80.44,80.273,80.0,79.221,78.11,78.062,78.0,77.707,76.873,76.0,75.463,74.109,74.0,73.933,73.407,72.214,72.0,71.788,70.801,70.108,70.0,69.79,68.638,68.0,67.291,66.514,66.2,66.0,65.136,64.471,64.224,64.0,63.314,63.003,62.599,62.0,61.955,61.937,61.889,61.268,61.048,60.757,60.653,60.468,60.363,60.0,59.959,59.948,59.935,59.557,59.484,59.408,59.278,59.198,59.104,59.077,58.99,58.914,58.908,58.839,58.789,58.781,58.735,58.687,58.665,58.621,58.584,58.546,58.512,58.472,58.401,58.368,58.342,58.195,58.18,58.172,58.051,58.049,58.048,58.0,57.916,57.91,57.91,57.935,57.935,57.942,58.0,58.137,58.154,58.183,58.377,58.44,58.573,58.683,58.88,59.097,59.207,59.439,59.572,60.0,60.207,60.301,60.469,60.718,61.022,61.245,61.665,61.793,61.842,62.0,62.374,62.508,62.613,62.721,62.847,62.878,62.888,62.919,62.866,62.857,62.807,62.656,62.547,62.439,62.324,62.0,61.837,61.791,61.661,61.243,61.02,60.67,60.408,60.252,60.172,60.0,59.45,59.257,58.862,58.8,58.55,58.382,58.0,57.78,57.699,57.416,57.109,56.819,56.575,56.363,56.251,56.155,56.0,55.439,55.231,54.752,54.575,54.345,54.177,54.0,53.25,52.868,52.463,52.0,51.77,51.651,50.918,50.849,50.466,50.265,50.0,49.484,49.247,48.753,48.591,48.357,48.204,48.0,47.437,47.203,46.768,46.646,46.416,46.243,46.0,45.605,45.446,44.914,44.875,44.569,44.326,44.0,43.775,43.675,42.899,42.817,42.444,42.225,42.0,41.272,40.863,40.457,40.0,39.836,39.758,38.999,38.999,38.604,38.384,38.0,37.977,37.968,37.909,37.132,36.816,36.494,36.254,36.161,36.093,36.0,35.216,34.879,34.582,34.358,34.235,34.144,34.0,33.299,32.973,32.588,32.151,32.083,32.046,32.0,31.027,30.503,30.29,30.0,29.446,29.137,28.686,28.346,28.189,28.123,28.0,27.309,26.981,26.643,26.297,26.177,26.137,26.0,25.431,25.215,25.001,25.0,24.804,24.723,24.664,24.592,24.629,24.626,24.668,24.771,24.792,24.921,25.138,25.317,25.532,25.666,26.0,26.416,26.701,27.206,28.0,28.19,28.411,29.184,30.0,30.357,30.979,31.549,32.0,32.898,33.234,34.0,34.275,35.042,35.665,36.0,36.619,37.175,38.0,38.766,39.368,40.0,40.339,41.58,41.861,42.0,42.285,43.276,44.0,44.742,45.554,46.0,46.167,46.487,47.317,48.0,48.552,49.41,49.692,50.0,50.784,51.852,51.918,52.0,52.914,53.939,54.0,54.004,54.011,55.0,56.0,56.085,56.194,57.094,58.0,58.191,58.418,59.174,60.0,60.286,60.659,61.32,62.0,62.45,62.997,63.458,64.0,64.549,65.076,65.448,66.0,66.375,66.631,67.004,67.008,67.325,67.397,67.508,67.567,67.614,67.788,67.814,67.833,68.0,68.06,68.066,68.083,68.422,68.505,68.659,68.79,68.973,69.213,69.395,69.578,69.696,70.0,70.457,70.715,71.178,71.666,71.858,71.908,72.0,72.865,73.545,73.741,74.0,74.832,75.805,75.901,76.0,76.314,77.287,78.0,78.916,79.104,80.0,80.525,81.167],\"xaxis\":\"x\",\"y\":[120.0,119.642,119.425,118.637,118.0,117.376,116.433,116.153,116.0,115.663,114.714,114.0,113.14,112.805,112.0,111.373,110.598,110.0,109.396,108.658,108.0,107.156,106.896,106.0,105.262,104.498,104.0,103.751,103.292,102.463,102.0,101.102,100.777,100.0,99.664,99.046,98.386,98.0,97.189,96.906,96.0,95.298,94.569,94.0,93.597,92.303,92.0,91.737,90.263,90.0,89.742,88.342,88.0,87.654,86.42,86.0,85.588,84.418,84.0,83.624,82.242,82.0,81.811,80.991,80.142,80.0,79.805,78.45,78.0,77.345,76.767,76.0,75.062,74.91,74.0,73.354,72.406,72.0,71.74,71.089,70.223,70.0,69.609,68.613,68.0,67.025,66.955,66.0,65.395,64.339,64.0,63.775,62.974,62.125,62.0,61.866,60.181,60.0,59.831,58.12,58.0,57.895,56.345,56.043,56.0,55.948,54.306,54.0,53.625,52.52,52.0,51.278,50.832,50.0,49.304,48.458,48.0,47.809,47.399,46.626,46.0,45.328,44.301,44.0,43.893,43.625,42.679,42.0,41.298,40.509,40.0,39.762,39.062,38.425,38.0,37.07,36.975,36.0,35.436,34.332,34.0,33.809,33.047,32.368,32.0,31.263,30.887,30.0,29.399,28.306,28.0,27.852,27.36,26.489,26.0,25.055,24.975,24.0,23.431,22.289,22.0,21.845,21.223,20.374,20.0,19.355,18.822,18.0,17.224,16.7,16.0,15.587,14.077,14.0,13.956,13.765,12.525,12.0,11.039,10.984,10.0,9.457,8.294,8.0,7.86,7.453,6.617,6.0,5.261,4.551,4.0,3.767,3.233,2.58,2.0,1.241,0.53,0.0,-0.223,-0.786,-1.486,-2.0,-2.929,-3.116,-4.0,-4.446,-5.831,-5.936,-6.0,-6.112,-7.477,-8.0,-8.73,-9.186,-10.0,-10.933,-11.066,-12.0,-12.884,-13.147,-14.0,-14.683,-15.504,-16.0,-16.327,-17.03,-17.772,-18.0,-18.549,-19.21,-20.0,-20.572,-21.267,-21.722,-22.0,-22.861,-23.655,-23.847,-24.0,-24.872,-25.528,-25.774,-26.0,-26.736,-27.161,-27.55,-28.0,-28.521,-28.909,-29.495,-30.0,-30.651,-31.46,-31.807,-32.0,-32.404,-33.338,-34.0,-34.869,-35.112,-36.0,-36.895,-37.103,-38.0,-38.763,-39.246,-40.0,-40.571,-41.496,-42.0,-42.36,-43.83,-44.0,-44.121,-44.887,-45.734,-46.0,-46.369,-47.402,-48.0,-48.761,-49.18,-50.0,-50.983,-51.019,-52.0,-52.854,-53.149,-54.0,-54.851,-55.143,-56.0,-56.978,-57.02,-58.0,-58.827,-59.242,-60.0,-60.564,-61.817,-62.0,-62.111,-62.34,-63.686,-64.0,-64.537,-65.33,-66.0,-66.843,-67.456,-68.0,-68.229,-68.512,-69.516,-70.0,-70.832,-71.925,-71.971,-72.0,-72.162,-73.194,-74.0,-74.273,-74.499,-75.221,-76.0,-76.062,-76.104,-76.293,-76.873,-77.295,-77.463,-77.891,-77.925,-77.933,-78.0,-78.214,-78.238,-78.212,-78.0,-77.892,-77.87,-77.79,-77.362,-77.108,-76.709,-76.0,-75.8,-75.615,-74.864,-74.0,-73.776,-73.486,-72.686,-72.0,-71.401,-70.101,-70.045,-70.0,-69.889,-68.732,-68.0,-67.243,-66.653,-66.0,-65.637,-64.129,-64.041,-64.0,-63.935,-62.443,-62.0,-61.408,-60.722,-60.0,-59.104,-58.923,-58.0,-57.086,-56.908,-56.0,-55.211,-54.781,-54.0,-53.313,-52.665,-52.0,-51.416,-50.546,-50.0,-49.528,-48.401,-48.0,-47.658,-46.195,-46.0,-45.828,-44.051,-44.0,-43.952,-42.97,-42.084,-42.0,-41.91,-40.065,-40.0,-39.942,-39.612,-38.137,-38.0,-37.817,-36.377,-36.0,-35.427,-34.683,-34.0,-33.097,-32.793,-32.0,-31.572,-30.793,-30.207,-30.0,-29.531,-28.718,-28.0,-27.245,-26.335,-26.0,-25.842,-25.536,-24.374,-24.0,-23.387,-22.721,-22.0,-21.122,-20.888,-20.0,-19.134,-18.857,-18.0,-17.344,-16.547,-16.0,-15.676,-14.477,-14.163,-14.0,-13.661,-12.757,-12.0,-11.33,-10.408,-10.0,-9.828,-9.391,-8.55,-8.0,-7.138,-6.8,-6.0,-5.618,-4.524,-4.22,-4.0,-3.416,-2.891,-2.0,-1.425,-0.363,0.0,0.155,0.674,1.439,2.0,2.752,3.425,4.0,4.177,4.548,5.25,6.0,6.463,7.552,7.77,8.0,8.918,9.151,10.0,10.265,10.948,11.484,12.0,12.753,13.409,14.0,14.204,14.807,15.437,16.0,16.768,17.354,18.0,18.243,19.131,19.605,20.0,20.914,21.125,22.0,22.326,23.532,23.775,24.0,24.899,25.183,26.0,26.225,26.707,27.272,28.0,28.457,29.678,29.836,30.0,30.999,31.001,32.0,32.384,33.949,33.977,34.0,34.091,35.132,36.0,36.494,37.746,38.0,38.093,38.42,39.216,40.0,40.582,41.642,42.0,42.144,42.555,43.299,44.0,44.588,45.849,46.0,46.046,46.137,47.027,48.0,48.29,48.93,49.446,50.0,50.686,51.654,52.0,52.123,52.449,53.309,54.0,54.643,55.703,56.0,56.137,56.532,57.431,58.0,58.999,59.0,60.0,60.723,61.336,62.0,62.629,63.374,64.0,64.771,65.208,66.0,66.862,67.317,68.0,68.334,68.784,69.584,70.0,70.794,71.586,71.81,72.0,72.816,73.362,73.643,74.0,74.451,74.654,75.102,75.234,75.565,75.725,76.0,76.335,76.44,76.619,76.825,77.014,77.234,77.368,77.532,77.661,78.0,78.139,78.18,78.285,78.724,78.936,79.258,79.554,79.729,79.833,80.0,80.683,81.021,81.448,82.0,82.308,82.496,83.216,84.0,84.082,84.14,85.086,85.939,85.991,85.996,86.0,87.0,87.826,87.915,88.0,88.906,89.616,89.809,90.0,90.826,91.47,91.714,92.0,92.68,93.192,93.55,94.0,94.542,95.011,95.451,96.0,96.552,97.228,97.625,98.0,98.996,99.008,100.0,100.603,101.508,102.0,102.386,103.788,104.0,104.167,105.491,105.94,106.0,106.083,107.578,108.0,108.659,109.21,110.0,110.787,111.395,112.0,112.304,112.831,113.543,114.0,114.822,115.666,116.0,116.092,116.208,117.135,118.0,118.259,118.551,119.168,120.0,120.099,120.192,120.314,120.713,120.972,120.916,120.896,120.837,120.525,120.0],\"yaxis\":\"y\",\"type\":\"scatter\"},{\"hovertemplate\":\"<b>%{hovertext}</b><br><br>phi=%{x}<br>psi=%{y}<extra></extra>\",\"hovertext\":[0.001,0.001,0.001,0.001,0.001,0.001,0.001,0.001,0.001,0.001,0.001,0.001,0.001,0.001,0.001,0.001,0.001,0.001,0.001,0.001,0.001,0.001,0.001,0.001,0.001,0.001,0.001,0.001,0.001,0.001,0.001,0.001,0.001,0.001,0.001,0.001,0.001,0.001,0.001,0.001,0.001,0.001,0.001,0.001,0.001,0.001,0.001,0.001,0.001,0.001,0.001,0.001,0.001,0.001,0.001,0.001,0.001,0.001,0.001,0.001,0.001,0.001,0.001,0.001,0.001,0.001,0.001,0.001,0.001,0.001,0.001,0.001,0.001,0.001,0.001,0.001,0.001,0.001,0.001,0.001,0.001,0.001,0.001,0.001,0.001,0.001,0.001,0.001,0.001,0.001,0.001,0.001,0.001,0.001,0.001,0.001,0.001,0.001,0.001,0.001,0.001,0.001,0.001,0.001,0.001],\"legendgroup\":\"\",\"line\":{\"color\":\"deepskyblue\",\"dash\":\"solid\",\"width\":1},\"marker\":{\"symbol\":\"circle\"},\"mode\":\"lines\",\"name\":\"\",\"orientation\":\"v\",\"showlegend\":false,\"x\":[180.0,179.92,179.905,179.888,179.588,179.533,179.482,179.364,179.307,179.206,179.145,179.047,178.898,178.879,178.752,178.599,178.41,178.316,178.256,178.0,177.787,177.73,177.639,177.338,177.195,176.985,176.978,176.779,176.619,176.403,176.305,176.245,176.0,175.841,175.805,175.759,175.482,175.391,175.301,175.216,175.123,174.988,174.985,174.858,174.686,174.553,174.431,174.291,174.0,173.667,173.558,173.2,173.064,172.736,172.46,172.0,171.759,171.658,171.435,171.16,170.896,170.63,170.325,170.211,170.155,170.0,169.581,169.471,169.357,169.215,169.098,169.051,169.045,168.999,169.015,169.016,169.032,169.071,169.079,169.118,169.192,169.259,169.335,169.365,169.422,169.451,169.463,169.48,169.492,169.494,169.498,169.501,169.511,169.548,169.558,169.599,169.831,169.85,169.872,170.0,170.206,170.256,170.353,170.58,170.77],\"xaxis\":\"x\",\"y\":[115.633,115.92,116.0,116.112,117.588,118.0,118.518,119.364,120.0,120.794,121.145,122.0,122.898,123.121,124.0,124.599,125.59,126.0,126.256,127.329,127.787,128.0,128.361,129.338,130.0,130.985,131.022,132.0,132.619,133.597,134.0,134.245,135.397,135.841,136.0,136.241,137.482,138.0,138.699,139.216,140.0,140.988,141.015,142.0,142.686,143.447,144.0,144.291,145.121,145.667,146.0,146.8,147.064,148.0,148.46,149.46,149.759,150.0,150.565,151.16,152.0,152.63,153.675,154.0,154.155,154.693,155.581,156.0,156.643,157.215,158.0,158.949,159.045,160.0,160.985,161.016,162.0,162.929,163.079,164.0,164.808,165.259,166.0,166.635,167.422,168.0,168.537,169.48,170.0,170.506,171.498,172.0,172.489,173.548,174.0,174.401,175.831,176.0,176.128,176.552,177.794,178.0,178.353,179.42,180.0],\"yaxis\":\"y\",\"type\":\"scatter\"},{\"hovertemplate\":\"<b>%{hovertext}</b><br><br>phi=%{x}<br>psi=%{y}<extra></extra>\",\"hovertext\":[0.001,0.001,0.001,0.001,0.001,0.001,0.001,0.001,0.001,0.001,0.001,0.001,0.001,0.001,0.001,0.001,0.001,0.001,0.001,0.001,0.001,0.001,0.001,0.001,0.001,0.001,0.001,0.001,0.001,0.001,0.001,0.001,0.001,0.001,0.001,0.001,0.001,0.001,0.001,0.001,0.001,0.001,0.001,0.001,0.001,0.001,0.001,0.001,0.001,0.001,0.001,0.001,0.001,0.001,0.001,0.001,0.001,0.001,0.001,0.001,0.001,0.001,0.001,0.001,0.001,0.001,0.001,0.001,0.001,0.001,0.001,0.001,0.001,0.001,0.001,0.001,0.001,0.001,0.001,0.001,0.001,0.001,0.001,0.001,0.001,0.001,0.001,0.001,0.001,0.001,0.001,0.001,0.001,0.001,0.001,0.001,0.001,0.001,0.001,0.001,0.001,0.001,0.001,0.001,0.001,0.001,0.001,0.001,0.001,0.001,0.001,0.001,0.001,0.001,0.001,0.001,0.001,0.001,0.001,0.001,0.001,0.001,0.001,0.001,0.001,0.001,0.001,0.001,0.001,0.001,0.001,0.001,0.001,0.001,0.001,0.001,0.001,0.001,0.001,0.001,0.001,0.001,0.001,0.001,0.001,0.001,0.001,0.001,0.001,0.001,0.001,0.001,0.001,0.001,0.001,0.001,0.001,0.001,0.001,0.001,0.001,0.001,0.001,0.001,0.001,0.001,0.001,0.001,0.001,0.001,0.001],\"legendgroup\":\"\",\"line\":{\"color\":\"deepskyblue\",\"dash\":\"solid\",\"width\":1},\"marker\":{\"symbol\":\"circle\"},\"mode\":\"lines\",\"name\":\"\",\"orientation\":\"v\",\"showlegend\":false,\"x\":[83.212,83.483,84.0,84.103,84.148,84.264,84.758,85.018,85.303,85.678,85.805,85.861,86.0,86.562,86.786,87.143,87.336,87.608,87.735,88.0,88.405,88.554,88.793,88.901,89.135,89.273,89.438,89.553,89.602,89.752,89.782,89.782,89.806,89.807,89.786,89.664,89.63,89.57,89.432,89.353,89.213,89.152,88.997,88.84,88.743,88.594,88.513,88.162,88.131,88.114,88.0,87.727,87.667,87.606,87.489,87.401,87.316,87.27,87.17,87.082,87.068,86.978,86.875,86.835,86.734,86.625,86.444,86.364,86.297,86.0,85.741,85.625,85.303,85.112,84.697,84.428,84.0,83.443,82.972,82.522,82.0,81.25,80.369,80.0,79.741,78.47,78.0,77.176,76.326,76.166,76.0,75.276,74.801,74.48,74.0,73.648,73.492,73.101,73.041,72.604,72.393,72.0,71.642,71.505,71.169,71.073,70.686,70.447,70.0,69.71,69.608,69.148,69.042,68.56,68.342,68.0,67.543,67.35,66.866,66.598,66.288,66.157,66.0,65.297,64.986,64.589,64.0,63.824,63.741,63.485,63.135,62.805,62.511,62.0,61.828,61.755,61.592,61.214,60.964,60.671,60.396,60.254,60.19,60.0,59.601,59.476,59.282,59.142,58.947,58.751,58.652,58.506,58.427,58.197,58.162,58.14,58.0,57.793,57.755,57.732,57.592,57.559,57.537,57.49,57.465,57.437,57.389,57.359,57.264,57.191,57.094],\"xaxis\":\"x\",\"y\":[180.0,179.483,178.247,178.103,178.0,177.736,176.758,176.0,175.303,174.322,174.0,173.861,173.518,172.562,172.0,171.143,170.664,170.0,169.735,169.115,168.405,168.0,167.207,166.901,166.0,165.273,164.562,164.0,163.602,162.248,162.0,161.782,160.194,160.0,159.786,158.336,158.0,157.57,156.568,156.0,155.213,154.848,154.0,153.16,152.743,152.0,151.487,150.162,150.0,149.886,149.46,148.273,148.0,147.606,146.511,146.0,145.316,144.73,144.0,143.082,142.932,142.0,141.125,140.835,140.0,139.375,138.444,138.0,137.703,136.847,136.259,136.0,135.303,134.888,134.0,133.572,133.046,132.557,132.0,131.478,131.028,130.75,130.369,130.22,130.259,130.47,130.539,131.176,132.0,132.166,132.29,133.276,134.0,134.48,135.063,135.648,136.0,136.899,137.041,138.0,138.393,138.994,139.642,140.0,140.831,141.073,142.0,142.447,143.178,143.71,144.0,144.852,145.042,146.0,146.342,146.87,147.543,148.0,148.866,149.402,150.0,150.157,150.378,151.297,152.0,152.589,153.62,153.824,154.0,154.515,155.135,156.0,156.511,157.592,157.828,158.0,158.408,159.214,160.0,160.671,161.604,162.0,162.19,162.793,163.601,164.0,164.718,165.142,166.0,166.751,167.348,168.0,168.427,169.803,170.0,170.14,171.028,171.793,172.0,172.268,173.592,174.0,174.463,175.49,176.0,176.563,177.389,178.0,178.736,179.191,180.0],\"yaxis\":\"y\",\"type\":\"scatter\"},{\"hovertemplate\":\"<b>%{hovertext}</b><br><br>phi=%{x}<br>psi=%{y}<extra></extra>\",\"hovertext\":[0.001,0.001,0.001,0.001,0.001,0.001,0.001,0.001,0.001,0.001,0.001,0.001,0.001,0.001,0.001,0.001,0.001,0.001,0.001,0.001,0.001,0.001,0.001,0.001,0.001,0.001,0.001,0.001,0.001,0.001,0.001,0.001,0.001,0.001,0.001,0.001,0.001,0.001,0.001,0.001,0.001,0.001,0.001,0.001,0.001,0.001,0.001,0.001,0.001,0.001,0.001,0.001,0.001,0.001,0.001,0.001,0.001,0.001,0.001,0.001,0.001,0.001,0.001,0.001,0.001,0.001,0.001,0.001,0.001,0.001,0.001,0.001,0.001,0.001,0.001,0.001,0.001,0.001,0.001,0.001,0.001,0.001,0.001,0.001,0.001,0.001,0.001,0.001,0.001,0.001,0.001,0.001,0.001,0.001,0.001,0.001,0.001,0.001,0.001,0.001,0.001,0.001,0.001,0.001,0.001,0.001,0.001,0.001,0.001,0.001,0.001,0.001,0.001,0.001,0.001,0.001,0.001,0.001,0.001,0.001,0.001,0.001,0.001,0.001,0.001,0.001,0.001,0.001,0.001,0.001,0.001,0.001,0.001,0.001,0.001,0.001,0.001,0.001,0.001,0.001,0.001,0.001,0.001,0.001,0.001,0.001,0.001,0.001,0.001,0.001,0.001,0.001,0.001,0.001,0.001,0.001,0.001,0.001,0.001,0.001,0.001,0.001,0.001,0.001,0.001,0.001,0.001,0.001,0.001,0.001,0.001,0.001,0.001,0.001,0.001,0.001,0.001,0.001,0.001,0.001,0.001,0.001,0.001,0.001,0.001,0.001,0.001,0.001,0.001,0.001,0.001,0.001,0.001,0.001,0.001,0.001,0.001,0.001,0.001,0.001,0.001,0.001,0.001,0.001,0.001,0.001,0.001,0.001,0.001,0.001,0.001,0.001,0.001,0.001,0.001,0.001,0.001,0.001,0.001,0.001,0.001,0.001,0.001,0.001,0.001,0.001,0.001,0.001,0.001,0.001,0.001,0.001,0.001,0.001,0.001,0.001,0.001,0.001,0.001,0.001,0.001,0.001,0.001,0.001,0.001,0.001,0.001,0.001,0.001,0.001,0.001,0.001,0.001,0.001,0.001,0.001,0.001,0.001,0.001,0.001,0.001,0.001,0.001,0.001,0.001,0.001,0.001,0.001,0.001,0.001,0.001,0.001,0.001,0.001,0.001,0.001,0.001,0.001,0.001,0.001,0.001,0.001,0.001,0.001,0.001,0.001,0.001,0.001,0.001,0.001,0.001,0.001,0.001,0.001,0.001,0.001,0.001,0.001,0.001,0.001,0.001,0.001,0.001,0.001,0.001,0.001,0.001,0.001,0.001,0.001,0.001,0.001,0.001,0.001,0.001,0.001,0.001,0.001,0.001,0.001,0.001,0.001,0.001,0.001,0.001,0.001,0.001,0.001,0.001,0.001,0.001,0.001,0.001,0.001,0.001,0.001,0.001,0.001,0.001,0.001,0.001,0.001,0.001,0.001,0.001,0.001,0.001,0.001,0.001,0.001,0.001,0.001,0.001,0.001,0.001,0.001,0.001,0.001,0.001,0.001,0.001,0.001,0.001,0.001,0.001,0.001,0.001,0.001,0.001,0.001,0.001,0.001,0.001,0.001,0.001,0.001,0.001,0.001,0.001,0.001,0.001,0.001,0.001,0.001,0.001,0.001,0.001,0.001,0.001,0.001,0.001,0.001,0.001,0.001,0.001,0.001,0.001,0.001,0.001,0.001,0.001,0.001,0.001,0.001,0.001,0.001,0.001,0.001,0.001,0.001,0.001,0.001,0.001,0.001,0.001,0.001,0.001,0.001,0.001,0.001,0.001,0.001,0.001,0.001,0.001,0.001,0.001,0.001,0.001,0.001,0.001,0.001,0.001,0.001,0.001,0.001,0.001,0.001,0.001,0.001,0.001,0.001,0.001,0.001,0.001,0.001,0.001,0.001,0.001,0.001,0.001,0.001,0.001,0.001,0.001,0.001,0.001,0.001,0.001,0.001,0.001,0.001,0.001,0.001,0.001,0.001,0.001,0.001,0.001,0.001,0.001,0.001,0.001,0.001,0.001,0.001,0.001,0.001,0.001,0.001,0.001,0.001,0.001,0.001,0.001,0.001,0.001,0.001,0.001,0.001,0.001,0.001,0.001,0.001,0.001,0.001,0.001,0.001,0.001,0.001,0.001,0.001,0.001,0.001,0.001,0.001,0.001,0.001,0.001,0.001,0.001,0.001,0.001,0.001,0.001,0.001,0.001,0.001,0.001,0.001,0.001,0.001,0.001,0.001,0.001,0.001,0.001,0.001,0.001,0.001,0.001,0.001,0.001,0.001,0.001,0.001,0.001,0.001,0.001,0.001,0.001,0.001,0.001,0.001,0.001,0.001,0.001,0.001,0.001,0.001,0.001,0.001,0.001,0.001,0.001,0.001,0.001,0.001,0.001,0.001,0.001,0.001,0.001,0.001,0.001,0.001,0.001,0.001,0.001,0.001,0.001,0.001,0.001,0.001,0.001,0.001,0.001,0.001,0.001,0.001,0.001,0.001,0.001,0.001,0.001,0.001,0.001,0.001,0.001,0.001,0.001,0.001,0.001,0.001,0.001,0.001,0.001,0.001,0.001,0.001,0.001,0.001,0.001,0.001,0.001,0.001,0.001,0.001,0.001,0.001,0.001,0.001,0.001,0.001,0.001,0.001,0.001,0.001,0.001,0.001,0.001,0.001,0.001,0.001,0.001,0.001,0.001,0.001,0.001,0.001,0.001,0.001,0.001,0.001,0.001,0.001,0.001,0.001,0.001,0.001,0.001,0.001,0.001,0.001,0.001,0.001,0.001,0.001,0.001,0.001,0.001,0.001,0.001,0.001,0.001,0.001,0.001,0.001,0.001,0.001,0.001,0.001,0.001,0.001,0.001,0.001,0.001,0.001,0.001,0.001,0.001,0.001,0.001,0.001,0.001,0.001,0.001,0.001,0.001,0.001,0.001,0.001,0.001,0.001,0.001,0.001,0.001,0.001,0.001,0.001,0.001,0.001,0.001,0.001,0.001,0.001,0.001,0.001,0.001,0.001,0.001,0.001,0.001,0.001,0.001],\"legendgroup\":\"\",\"line\":{\"color\":\"deepskyblue\",\"dash\":\"solid\",\"width\":1},\"marker\":{\"symbol\":\"circle\"},\"mode\":\"lines\",\"name\":\"\",\"orientation\":\"v\",\"showlegend\":false,\"x\":[-57.61,-56.811,-56.567,-56.265,-56.135,-56.0,-55.151,-54.716,-54.42,-54.0,-53.817,-53.728,-52.981,-52.969,-52.571,-52.343,-52.0,-51.633,-51.468,-50.846,-50.735,-50.425,-50.24,-50.0,-49.435,-49.143,-48.633,-48.221,-48.113,-48.054,-48.0,-47.045,-46.564,-46.316,-46.0,-45.511,-45.247,-44.746,-44.553,-44.324,-44.19,-44.0,-43.349,-43.008,-42.539,-42.0,-41.86,-41.79,-41.091,-41.008,-40.606,-40.39,-40.0,-39.81,-39.72,-39.2,-39.031,-38.642,-38.38,-38.0,-37.524,-37.24,-36.635,-36.0,-35.908,-35.856,-34.995,-34.99,-34.515,-34.304,-34.0,-33.484,-33.212,-32.722,-32.414,-32.223,-32.14,-32.0,-31.32,-31.002,-30.618,-30.169,-30.092,-30.06,-30.0,-29.213,-28.848,-28.511,-28.0,-27.798,-27.685,-27.2,-27.039,-26.629,-26.409,-26.0,-25.731,-25.608,-25.41,-25.176,-24.948,-24.795,-24.74,-24.615,-24.567,-24.476,-24.435,-24.484,-24.525,-24.585,-24.707,-24.77,-24.921,-25.178,-25.559,-25.748,-25.828,-26.0,-26.613,-27.118,-27.474,-28.0,-28.505,-29.175,-29.571,-30.0,-30.84,-31.366,-32.0,-32.217,-32.809,-33.56,-34.0,-34.76,-35.123,-36.0,-36.747,-37.341,-38.0,-38.414,-39.794,-40.0,-40.132,-40.806,-41.682,-42.0,-42.499,-43.259,-44.0,-44.885,-45.162,-46.0,-46.474,-47.85,-48.0,-48.076,-48.315,-49.417,-50.0,-50.919,-51.115,-52.0,-52.466,-53.915,-54.0,-54.041,-54.183,-55.353,-56.0,-56.692,-57.578,-58.0,-58.127,-58.316,-59.022,-60.0,-60.112,-60.207,-60.39,-60.718,-61.212,-61.457,-62.0,-62.205,-62.309,-62.458,-62.655,-62.942,-63.187,-63.523,-63.71,-63.789,-64.0,-64.296,-64.379,-64.448,-64.569,-64.664,-64.777,-64.813,-64.949,-64.998,-64.998,-65.049,-64.972,-64.971,-64.9,-64.84,-64.824,-64.767,-64.776,-64.772,-64.783,-64.884,-64.894,-65.015,-65.151,-65.265,-65.408,-65.506,-66.0,-66.027,-66.034,-66.042,-66.248,-66.309,-66.344,-66.431,-66.476,-66.524,-66.567,-66.624,-66.691,-66.718,-66.796,-66.864,-66.866,-66.945,-66.99,-66.99,-67.041,-67.031,-67.033,-67.023,-67.017,-67.017,-67.011,-67.067,-67.079,-67.137,-67.249,-67.392,-67.495,-67.597,-68.0,-68.125,-68.155,-68.218,-68.5,-68.675,-68.911,-68.935,-69.256,-69.409,-70.0,-70.043,-70.059,-70.08,-70.406,-70.532,-70.638,-70.693,-70.834,-70.901,-70.91,-70.982,-71.061,-71.079,-71.163,-71.254,-71.355,-71.441,-71.515,-71.859,-71.884,-71.9,-72.0,-72.184,-72.211,-72.218,-72.271,-72.279,-72.254,-72.208,-72.19,-72.15,-72.0,-71.727,-71.676,-71.529,-71.221,-71.038,-70.645,-70.303,-70.174,-70.095,-70.0,-69.141,-68.704,-68.334,-68.0,-67.335,-66.911,-66.411,-66.0,-65.443,-65.098,-64.526,-64.0,-63.715,-63.557,-62.802,-62.595,-62.298,-62.149,-62.0,-61.199,-60.806,-60.497,-60.068,-60.04,-60.021,-60.0,-59.082,-58.656,-58.34,-58.0,-57.544,-57.287,-56.64,-56.319,-56.163,-56.072,-56.0,-55.038,-54.518,-54.247,-54.0,-53.258,-52.822,-52.411,-52.0,-51.678,-51.505,-50.826,-50.708,-50.403,-50.232,-50.0,-49.466,-49.212,-48.717,-48.598,-48.379,-48.185,-48.0,-47.538,-47.373,-46.757,-46.705,-46.456,-46.228,-46.0,-45.595,-45.425,-44.695,-44.515,-44.284,-44.124,-44.0,-43.123,-42.669,-42.306,-42.0,-41.529,-41.295,-40.71,-40.545,-40.319,-40.191,-40.0,-39.443,-39.165,-38.624,-38.0,-37.999,-37.999,-36.944,-36.874,-36.399,-36.212,-36.0,-35.271,-34.891,-34.557,-34.214,-34.129,-34.081,-34.0,-33.193,-32.815,-32.514,-32.0,-31.896,-31.837,-31.193,-31.016,-30.554,-30.352,-30.0,-29.517,-29.264,-28.803,-28.655,-28.4,-28.272,-28.0,-27.484,-27.238,-26.83,-26.709,-26.453,-26.333,-26.0,-25.671,-25.527,-25.303,-25.137,-24.9,-24.715,-24.578,-24.443,-24.402,-24.223,-24.199,-24.206,-24.171,-24.178,-24.224,-24.395,-24.496,-24.735,-24.85,-25.168,-25.427,-26.0,-26.258,-26.489,-27.168,-28.0,-28.25,-28.615,-29.37,-30.0,-30.701,-31.654,-32.0,-32.135,-32.54,-33.524,-34.0,-34.751,-35.15,-36.0,-36.921,-37.086,-38.0,-38.793,-39.208,-40.0,-40.758,-41.234,-42.0,-42.836,-43.149,-44.0,-44.979,-45.027,-46.0,-46.785,-47.311,-48.0,-48.579,-49.497,-50.0,-50.511,-51.423,-52.0,-52.846,-53.08,-54.0,-54.541,-55.827,-55.924,-56.0,-56.248,-57.175,-58.0,-58.518,-59.635,-59.838,-60.0,-60.429,-61.187,-62.0,-62.616,-63.909,-64.0,-64.037,-64.138,-65.36,-66.0,-66.835,-67.348,-68.0,-68.275,-68.879,-69.556,-70.0,-70.897,-71.318,-72.0,-72.179,-72.414,-73.218,-74.0,-74.333,-74.657,-75.238,-76.0,-76.241,-76.461,-77.054,-77.313,-77.787,-77.862,-78.0,-78.681,-79.139,-79.427,-80.0,-80.256,-80.442,-80.9,-80.967,-81.482,-81.629,-82.0,-82.358,-82.538,-82.823,-82.914,-83.23,-83.365,-83.621,-83.708,-83.763,-84.0,-84.225,-84.277,-84.336,-84.561,-84.653,-84.82,-84.879,-85.062,-85.204,-85.302,-85.43,-85.54,-86.0,-86.053,-86.072,-86.101,-86.535,-86.672,-86.965,-86.98,-87.299,-87.442,-87.899,-87.929,-87.943,-88.0,-88.406,-88.507,-88.581,-88.699,-88.781,-88.787,-88.796,-88.802,-88.736,-88.673,-88.61,-88.475,-88.113,-88.082,-88.056,-88.0,-87.455,-87.292,-86.942,-86.888,-86.582,-86.383,-86.0,-85.69,-85.576,-85.344,-85.147,-84.886,-84.664,-84.375,-84.256,-84.178,-84.0,-83.541,-83.397,-83.132,-83.063,-82.813,-82.585,-82.122,-82.076,-82.055,-82.0,-81.448,-81.285,-80.991,-80.985,-80.717,-80.5,-80.0,-79.911,-79.879,-79.766,-79.224,-78.934,-78.613,-78.0,-77.932,-77.898,-77.727,-77.142,-76.723,-76.379,-76.0,-75.444,-75.138,-74.54,-74.0,-73.576,-73.329,-72.624,-72.0,-71.719,-71.558,-70.836,-70.633,-70.311,-70.179,-70.0,-69.305,-68.98,-68.54,-68.0,-67.877,-67.813,-66.935,-66.886,-66.479,-66.256,-66.0,-65.366,-65.039,-64.549,-64.0,-63.863,-63.794,-62.921,-62.83,-62.405,-62.208,-62.0,-61.212,-60.749,-60.38,-60.0,-59.489,-59.165,-58.575,-58.0,-57.758,-57.61],\"xaxis\":\"x\",\"y\":[180.0,179.189,178.567,178.0,177.865,177.613,176.849,176.0,175.58,174.365,174.183,174.0,173.019,172.969,172.0,171.657,170.746,170.367,170.0,169.154,168.735,168.0,167.76,167.125,166.565,166.0,165.367,164.221,164.0,163.946,163.833,162.955,162.0,161.684,160.932,160.489,160.0,159.254,158.553,158.0,157.81,157.311,156.651,156.0,155.461,154.282,154.14,154.0,153.091,152.992,152.0,151.61,150.404,150.19,150.0,149.2,148.969,148.0,147.62,146.874,146.476,146.0,145.365,144.179,144.092,144.0,143.005,142.99,142.0,141.696,141.031,140.516,140.0,139.278,138.414,138.0,137.86,137.522,136.68,136.0,135.382,134.169,134.0,133.94,133.796,132.787,132.0,131.489,130.404,130.202,130.0,129.2,128.961,128.0,127.591,126.597,126.269,126.0,125.41,124.824,124.0,123.205,122.74,122.0,121.433,120.476,120.0,119.516,118.525,118.0,117.293,116.77,116.0,115.178,114.441,114.0,113.828,113.643,112.613,112.0,111.474,111.062,110.505,110.0,109.571,109.339,108.84,108.634,108.342,108.217,108.0,107.56,107.428,107.24,107.123,106.945,106.747,106.659,106.514,106.414,106.206,106.163,106.132,106.0,105.682,105.619,105.501,105.259,105.118,104.885,104.838,104.648,104.474,104.15,104.105,104.076,104.0,103.417,103.25,102.919,102.885,102.644,102.466,102.085,102.057,102.041,102.0,101.353,101.132,100.692,100.422,100.244,100.127,100.0,99.022,98.285,98.112,98.0,97.61,96.718,96.0,95.457,94.77,94.205,94.0,93.542,92.655,92.0,91.187,90.477,90.0,89.789,89.475,88.296,88.0,87.552,86.569,86.0,85.223,84.813,84.0,83.002,82.998,82.0,81.028,80.971,80.0,79.16,78.824,78.0,77.224,76.772,76.0,75.116,74.894,74.0,73.151,72.735,72.0,71.506,70.21,70.027,70.0,69.958,68.248,68.0,67.656,66.431,66.0,65.476,64.567,64.0,63.309,62.718,62.0,61.136,60.866,60.0,59.01,58.99,58.0,57.031,56.967,56.0,55.017,54.983,54.0,53.067,52.921,52.0,51.249,50.608,50.0,49.597,48.67,48.125,48.0,47.782,46.5,46.0,45.089,44.935,44.0,43.409,42.188,42.043,42.0,41.92,40.406,40.0,39.362,38.693,38.0,37.099,36.91,36.0,35.061,34.921,34.0,33.254,32.645,32.0,31.515,30.141,30.0,29.9,29.491,28.184,28.0,27.782,26.271,26.0,25.746,24.208,24.0,23.85,23.052,22.273,22.0,21.529,20.779,20.0,19.355,18.303,18.0,17.905,17.731,16.859,16.0,15.666,15.191,14.665,14.0,13.589,13.001,12.557,12.0,11.474,10.543,10.285,10.0,9.198,8.595,8.0,7.851,7.55,6.801,6.0,5.503,4.068,4.0,3.979,3.92,2.918,2.0,1.66,0.841,0.456,0.0,-0.64,-1.681,-2.0,-2.072,-2.254,-3.038,-4.0,-4.247,-4.725,-5.258,-6.0,-6.411,-7.392,-7.678,-8.0,-8.826,-9.292,-10.0,-10.232,-10.932,-11.466,-12.0,-12.717,-13.402,-14.0,-14.185,-15.023,-15.538,-16.0,-16.757,-17.295,-18.0,-18.228,-19.221,-19.595,-20.0,-20.695,-21.485,-22.0,-22.124,-22.477,-23.123,-24.0,-24.306,-25.166,-25.529,-26.0,-26.71,-27.455,-28.0,-28.191,-28.897,-29.443,-30.0,-30.624,-31.999,-31.999,-32.0,-32.944,-33.126,-34.0,-34.212,-34.621,-35.271,-36.0,-36.557,-37.786,-38.0,-38.081,-38.297,-39.193,-40.0,-40.514,-41.795,-41.896,-42.0,-42.807,-43.016,-44.0,-44.352,-45.025,-45.517,-46.0,-46.803,-47.345,-48.0,-48.272,-48.879,-49.484,-50.0,-50.83,-51.291,-52.0,-52.333,-53.232,-53.671,-54.0,-54.697,-55.137,-56.0,-56.715,-57.422,-58.0,-58.402,-59.777,-60.0,-60.206,-61.829,-62.0,-62.224,-63.605,-64.0,-64.735,-65.15,-66.0,-66.573,-67.314,-67.742,-68.0,-68.832,-69.502,-69.75,-70.0,-70.63,-70.923,-71.299,-71.654,-71.804,-71.865,-72.0,-72.476,-72.605,-72.751,-72.85,-72.994,-73.079,-73.086,-73.163,-73.207,-73.208,-73.248,-73.242,-73.234,-73.228,-73.164,-73.149,-73.08,-72.979,-72.973,-72.867,-72.785,-72.689,-72.607,-72.579,-72.503,-72.477,-72.511,-72.577,-72.615,-72.846,-72.92,-73.144,-73.459,-74.0,-74.076,-74.11,-74.248,-74.825,-75.166,-75.482,-76.0,-76.162,-76.238,-76.429,-76.813,-77.104,-77.384,-77.909,-77.948,-77.963,-78.0,-78.64,-78.866,-79.165,-79.348,-79.581,-79.725,-80.0,-80.444,-80.639,-81.103,-81.318,-81.669,-81.821,-82.0,-82.782,-83.343,-83.667,-84.0,-84.762,-85.473,-85.759,-86.0,-86.946,-87.313,-88.0,-88.138,-88.291,-89.319,-90.0,-90.573,-91.337,-91.744,-92.0,-92.9,-93.033,-94.0,-94.371,-94.981,-95.642,-96.0,-96.823,-97.086,-98.0,-98.635,-99.621,-100.0,-100.237,-100.986,-101.775,-102.0,-102.336,-103.439,-104.0,-104.82,-105.121,-106.0,-106.796,-107.302,-108.0,-108.46,-109.784,-109.947,-110.0,-110.101,-111.465,-112.0,-112.965,-113.02,-114.0,-114.558,-115.899,-116.0,-116.057,-116.216,-117.594,-118.0,-118.581,-119.301,-120.0,-120.787,-121.204,-122.0,-122.736,-123.327,-124.0,-124.475,-125.887,-126.0,-126.056,-126.211,-127.455,-128.0,-128.942,-129.112,-130.0,-130.383,-131.2,-131.69,-132.0,-132.656,-133.147,-134.0,-134.664,-135.624,-136.0,-136.178,-136.663,-137.541,-138.0,-138.868,-139.063,-140.0,-140.585,-141.878,-142.0,-142.055,-142.22,-143.448,-144.0,-144.991,-145.015,-146.0,-146.5,-147.769,-147.911,-148.0,-148.234,-149.224,-150.0,-150.613,-151.85,-151.932,-152.0,-152.273,-153.142,-154.0,-154.379,-154.912,-155.444,-156.0,-156.54,-157.234,-157.576,-158.0,-158.624,-159.485,-159.719,-160.0,-160.836,-161.367,-162.0,-162.179,-162.536,-163.305,-164.0,-164.54,-165.752,-165.877,-166.0,-166.935,-167.114,-168.0,-168.256,-168.785,-169.366,-170.0,-170.549,-171.731,-171.863,-172.0,-172.921,-173.17,-174.0,-174.208,-174.575,-175.212,-176.0,-176.38,-177.071,-177.489,-178.0,-178.575,-179.55,-179.758,-180.0],\"yaxis\":\"y\",\"type\":\"scatter\"},{\"hovertemplate\":\"<b>%{hovertext}</b><br><br>phi=%{x}<br>psi=%{y}<extra></extra>\",\"hovertext\":[0.02,0.02,0.02,0.02,0.02,0.02,0.02,0.02,0.02,0.02,0.02,0.02,0.02,0.02,0.02,0.02,0.02,0.02,0.02,0.02,0.02,0.02,0.02,0.02,0.02,0.02,0.02,0.02,0.02,0.02,0.02,0.02,0.02,0.02,0.02,0.02,0.02,0.02,0.02,0.02,0.02,0.02,0.02,0.02,0.02,0.02,0.02,0.02,0.02,0.02,0.02,0.02,0.02,0.02,0.02,0.02,0.02,0.02,0.02,0.02,0.02,0.02,0.02,0.02,0.02,0.02,0.02,0.02,0.02,0.02,0.02,0.02,0.02,0.02,0.02,0.02,0.02,0.02,0.02,0.02,0.02,0.02,0.02,0.02,0.02,0.02,0.02,0.02,0.02,0.02,0.02,0.02,0.02,0.02,0.02,0.02,0.02,0.02,0.02,0.02,0.02,0.02,0.02,0.02,0.02,0.02,0.02,0.02,0.02,0.02,0.02,0.02,0.02,0.02,0.02,0.02,0.02,0.02,0.02,0.02,0.02,0.02,0.02,0.02,0.02,0.02,0.02,0.02,0.02,0.02,0.02,0.02,0.02,0.02,0.02,0.02,0.02,0.02,0.02,0.02,0.02,0.02,0.02,0.02,0.02,0.02,0.02,0.02,0.02,0.02,0.02,0.02,0.02,0.02,0.02,0.02,0.02,0.02,0.02,0.02,0.02,0.02,0.02,0.02,0.02,0.02,0.02,0.02,0.02,0.02,0.02,0.02,0.02,0.02,0.02,0.02,0.02,0.02,0.02,0.02],\"legendgroup\":\"\",\"line\":{\"color\":\"deepskyblue\",\"dash\":\"solid\",\"width\":2},\"marker\":{\"symbol\":\"circle\"},\"mode\":\"lines\",\"name\":\"\",\"orientation\":\"v\",\"showlegend\":false,\"x\":[-173.453,-172.887,-172.241,-172.067,-172.042,-172.0,-171.227,-170.548,-170.31,-170.0,-169.401,-168.773,-168.409,-168.0,-167.417,-166.689,-166.334,-166.0,-165.222,-164.007,-164.003,-164.0,-163.987,-162.791,-162.0,-161.542,-160.613,-160.233,-160.0,-159.154,-158.958,-158.0,-157.623,-156.66,-156.206,-156.0,-155.525,-154.772,-154.0,-153.226,-152.652,-152.0,-151.538,-150.367,-150.0,-149.661,-148.356,-148.0,-147.59,-146.505,-146.0,-145.315,-144.767,-144.0,-143.116,-142.798,-142.0,-141.522,-140.009,-140.002,-140.0,-139.996,-138.456,-138.0,-137.121,-136.927,-136.0,-135.378,-134.326,-134.0,-133.802,-132.991,-132.172,-132.0,-131.714,-130.547,-130.0,-129.157,-128.888,-128.0,-127.19,-126.739,-126.0,-125.468,-124.373,-124.0,-123.749,-122.555,-122.087,-122.0,-121.855,-120.506,-120.0,-119.164,-118.897,-118.0,-117.269,-116.585,-116.0,-115.627,-114.015,-114.0,-113.99,-113.92,-112.236,-112.0,-111.746,-110.286,-110.0,-109.736,-108.144,-108.0,-107.871,-106.018,-106.0,-105.984,-105.602,-104.084,-104.0,-103.893,-102.285,-102.0,-101.578,-100.66,-100.0,-99.107,-98.817,-98.0,-97.603,-96.283,-96.075,-96.0,-95.831,-94.706,-94.0,-93.248,-92.59,-92.0,-91.693,-90.017,-90.0,-89.989,-89.865,-88.175,-88.0,-87.829,-86.167,-86.0,-85.863,-84.783,-84.072,-84.0,-83.901,-82.429,-82.0,-81.105,-80.952,-80.0,-79.585,-78.957,-78.346,-78.0,-77.238,-76.475,-76.224,-76.0,-75.271,-74.714,-74.382,-74.0,-73.499,-73.13,-72.589,-72.0,-71.711,-71.513,-70.783,-70.0,-69.917,-69.862],\"xaxis\":\"x\",\"y\":[-180.0,-179.113,-178.241,-178.0,-177.958,-177.906,-176.773,-176.0,-175.69,-175.355,-174.599,-174.0,-173.591,-173.201,-172.583,-172.0,-171.666,-171.389,-170.778,-170.0,-169.997,-169.995,-169.987,-169.209,-168.719,-168.458,-168.0,-167.767,-167.623,-167.154,-167.042,-166.55,-166.377,-166.0,-165.794,-165.704,-165.525,-165.228,-164.951,-164.774,-164.652,-164.507,-164.462,-164.367,-164.332,-164.339,-164.356,-164.364,-164.41,-164.505,-164.565,-164.685,-164.767,-164.909,-165.116,-165.202,-165.401,-165.522,-166.0,-166.002,-166.003,-166.004,-166.456,-166.627,-166.879,-166.927,-167.222,-167.378,-167.674,-167.76,-167.802,-168.0,-168.172,-168.217,-168.286,-168.547,-168.685,-168.843,-168.888,-169.063,-169.19,-169.261,-169.376,-169.468,-169.627,-169.689,-169.749,-170.0,-170.087,-170.106,-170.145,-170.506,-170.642,-170.836,-170.897,-171.107,-171.269,-171.415,-171.543,-171.627,-171.985,-171.988,-171.99,-172.0,-172.236,-172.257,-172.254,-172.286,-172.283,-172.264,-172.144,-172.134,-172.129,-172.018,-172.017,-172.016,-172.0,-171.916,-171.907,-171.893,-171.715,-171.677,-171.578,-171.34,-171.194,-170.893,-170.817,-170.57,-170.397,-170.0,-169.925,-169.903,-169.831,-169.294,-169.045,-168.752,-168.59,-168.403,-168.307,-168.017,-168.013,-168.011,-168.0,-167.825,-167.82,-167.829,-167.833,-167.842,-167.863,-168.0,-168.072,-168.076,-168.099,-168.429,-168.532,-168.895,-168.952,-169.376,-169.585,-170.0,-170.346,-170.616,-171.238,-172.0,-172.224,-172.488,-173.271,-174.0,-174.382,-174.928,-175.499,-176.0,-176.589,-177.388,-177.711,-178.0,-178.783,-179.832,-179.917,-180.0],\"yaxis\":\"y\",\"type\":\"scatter\"},{\"hovertemplate\":\"<b>%{hovertext}</b><br><br>phi=%{x}<br>psi=%{y}<extra></extra>\",\"hovertext\":[0.02,0.02,0.02,0.02,0.02,0.02,0.02,0.02,0.02,0.02,0.02,0.02,0.02,0.02,0.02,0.02,0.02,0.02,0.02,0.02,0.02,0.02,0.02,0.02,0.02,0.02,0.02,0.02,0.02,0.02,0.02,0.02,0.02,0.02,0.02,0.02,0.02,0.02,0.02,0.02,0.02,0.02,0.02],\"legendgroup\":\"\",\"line\":{\"color\":\"deepskyblue\",\"dash\":\"solid\",\"width\":2},\"marker\":{\"symbol\":\"circle\"},\"mode\":\"lines\",\"name\":\"\",\"orientation\":\"v\",\"showlegend\":false,\"x\":[55.707,55.806,56.0,56.254,56.303,56.287,56.237,56.224,56.175,56.0,55.657,55.506,54.859,54.0,53.895,53.372,52.203,52.0,51.852,51.589,50.644,50.0,49.662,49.452,49.161,49.076,48.769,48.782,48.786,48.8,49.138,49.365,49.637,49.792,50.0,50.921,51.333,52.0,52.273,53.659,54.0,54.874,55.707],\"xaxis\":\"x\",\"y\":[-124.0,-124.194,-124.703,-125.746,-126.0,-126.287,-127.763,-128.0,-128.175,-128.822,-129.657,-130.0,-130.859,-131.87,-131.895,-132.0,-132.203,-132.232,-132.148,-132.0,-131.356,-130.871,-130.338,-130.0,-129.161,-128.924,-128.0,-127.218,-126.786,-126.0,-125.138,-124.635,-124.0,-123.792,-123.528,-122.921,-122.667,-122.248,-122.273,-122.341,-122.375,-123.126,-124.0],\"yaxis\":\"y\",\"type\":\"scatter\"},{\"hovertemplate\":\"<b>%{hovertext}</b><br><br>phi=%{x}<br>psi=%{y}<extra></extra>\",\"hovertext\":[0.02,0.02,0.02,0.02,0.02,0.02,0.02,0.02,0.02,0.02,0.02,0.02,0.02,0.02,0.02,0.02,0.02,0.02,0.02,0.02,0.02,0.02,0.02,0.02,0.02,0.02,0.02,0.02,0.02,0.02,0.02,0.02,0.02,0.02,0.02,0.02,0.02,0.02,0.02,0.02,0.02,0.02,0.02,0.02,0.02,0.02,0.02,0.02,0.02,0.02,0.02,0.02,0.02,0.02,0.02,0.02,0.02,0.02,0.02,0.02,0.02,0.02,0.02,0.02,0.02,0.02,0.02,0.02,0.02,0.02,0.02,0.02,0.02,0.02,0.02,0.02,0.02,0.02,0.02,0.02,0.02,0.02,0.02,0.02,0.02,0.02,0.02,0.02,0.02,0.02,0.02,0.02,0.02,0.02,0.02,0.02,0.02,0.02,0.02,0.02,0.02,0.02,0.02,0.02,0.02,0.02,0.02,0.02,0.02,0.02,0.02,0.02,0.02,0.02,0.02,0.02,0.02,0.02,0.02,0.02,0.02,0.02,0.02,0.02,0.02,0.02,0.02,0.02,0.02,0.02,0.02,0.02,0.02,0.02,0.02,0.02,0.02,0.02,0.02,0.02,0.02,0.02,0.02,0.02,0.02,0.02,0.02,0.02,0.02,0.02,0.02,0.02,0.02,0.02,0.02,0.02,0.02,0.02,0.02,0.02,0.02,0.02,0.02,0.02,0.02,0.02,0.02,0.02,0.02,0.02,0.02,0.02,0.02,0.02,0.02,0.02,0.02,0.02,0.02,0.02,0.02,0.02,0.02,0.02,0.02,0.02,0.02,0.02,0.02,0.02,0.02,0.02,0.02,0.02,0.02,0.02,0.02,0.02,0.02,0.02,0.02,0.02,0.02,0.02,0.02,0.02,0.02,0.02,0.02,0.02,0.02,0.02,0.02,0.02,0.02,0.02,0.02,0.02,0.02,0.02,0.02,0.02,0.02,0.02,0.02,0.02,0.02,0.02,0.02,0.02,0.02,0.02,0.02,0.02,0.02,0.02,0.02,0.02,0.02,0.02,0.02,0.02,0.02,0.02,0.02,0.02,0.02,0.02,0.02,0.02,0.02,0.02,0.02,0.02,0.02,0.02,0.02,0.02,0.02,0.02,0.02,0.02,0.02,0.02,0.02,0.02,0.02,0.02,0.02,0.02,0.02,0.02,0.02,0.02,0.02,0.02,0.02,0.02,0.02,0.02,0.02,0.02,0.02,0.02,0.02,0.02,0.02,0.02,0.02,0.02,0.02,0.02,0.02,0.02,0.02,0.02,0.02,0.02,0.02,0.02,0.02,0.02,0.02,0.02,0.02,0.02,0.02,0.02,0.02,0.02,0.02,0.02,0.02,0.02,0.02,0.02,0.02,0.02,0.02,0.02,0.02,0.02,0.02,0.02,0.02,0.02,0.02,0.02,0.02,0.02,0.02,0.02,0.02,0.02,0.02,0.02,0.02,0.02,0.02,0.02,0.02,0.02,0.02,0.02,0.02,0.02,0.02,0.02,0.02,0.02,0.02,0.02,0.02,0.02,0.02,0.02,0.02,0.02,0.02,0.02,0.02,0.02,0.02,0.02,0.02,0.02,0.02,0.02,0.02,0.02,0.02,0.02,0.02,0.02,0.02,0.02,0.02,0.02,0.02,0.02,0.02,0.02,0.02,0.02,0.02,0.02,0.02,0.02,0.02,0.02,0.02,0.02,0.02,0.02,0.02,0.02,0.02,0.02,0.02,0.02,0.02,0.02,0.02,0.02,0.02,0.02,0.02,0.02,0.02,0.02,0.02,0.02,0.02,0.02,0.02,0.02,0.02,0.02,0.02,0.02,0.02,0.02,0.02,0.02,0.02,0.02,0.02,0.02,0.02,0.02,0.02,0.02,0.02,0.02,0.02,0.02,0.02,0.02,0.02,0.02,0.02,0.02,0.02,0.02,0.02,0.02,0.02,0.02,0.02,0.02,0.02,0.02,0.02,0.02,0.02,0.02,0.02,0.02,0.02,0.02,0.02,0.02,0.02,0.02,0.02,0.02,0.02,0.02,0.02,0.02,0.02,0.02,0.02,0.02,0.02,0.02,0.02,0.02,0.02,0.02,0.02,0.02,0.02,0.02,0.02,0.02,0.02,0.02,0.02,0.02,0.02,0.02,0.02,0.02,0.02,0.02,0.02,0.02,0.02,0.02,0.02,0.02,0.02,0.02,0.02,0.02,0.02,0.02,0.02,0.02,0.02,0.02,0.02,0.02,0.02,0.02,0.02,0.02,0.02,0.02,0.02,0.02,0.02,0.02,0.02,0.02,0.02,0.02,0.02,0.02,0.02,0.02,0.02,0.02,0.02,0.02,0.02,0.02,0.02,0.02,0.02,0.02,0.02,0.02,0.02],\"legendgroup\":\"\",\"line\":{\"color\":\"deepskyblue\",\"dash\":\"solid\",\"width\":2},\"marker\":{\"symbol\":\"circle\"},\"mode\":\"lines\",\"name\":\"\",\"orientation\":\"v\",\"showlegend\":false,\"x\":[-129.271,-128.533,-128.0,-127.474,-126.969,-126.435,-126.0,-125.335,-124.451,-124.156,-124.0,-123.604,-122.764,-122.0,-121.323,-120.3,-120.0,-119.868,-119.564,-118.43,-118.0,-117.14,-116.246,-116.0,-115.952,-115.889,-114.779,-114.0,-113.658,-113.192,-112.469,-112.0,-111.241,-110.027,-110.0,-109.993,-109.976,-108.548,-108.0,-107.1,-106.771,-106.0,-105.651,-104.814,-104.195,-104.0,-103.524,-102.772,-102.0,-101.445,-100.609,-100.201,-100.0,-99.033,-98.039,-98.016,-98.0,-97.692,-96.956,-96.539,-96.082,-96.037,-96.0,-95.018,-94.19,-94.086,-94.0,-93.048,-92.184,-92.083,-92.0,-91.043,-90.191,-90.09,-90.0,-89.08,-88.302,-88.147,-88.0,-87.196,-86.58,-86.291,-86.0,-85.421,-85.052,-84.551,-84.0,-83.741,-83.59,-82.819,-82.0,-81.963,-81.939,-80.952,-80.556,-80.097,-80.045,-80.0,-79.012,-78.167,-78.071,-78.0,-77.358,-76.946,-76.0,-75.946,-75.899,-74.759,-74.0,-73.724,-73.497,-72.662,-72.0,-71.69,-71.46,-70.667,-70.0,-69.722,-69.519,-68.669,-68.0,-67.746,-67.581,-66.758,-66.012,-66.004,-66.002,-66.0,-65.043,-64.499,-64.245,-64.0,-63.35,-62.965,-62.476,-62.0,-61.656,-61.455,-60.733,-60.245,-60.102,-60.048,-60.0,-59.122,-58.664,-58.324,-58.0,-57.48,-57.183,-56.587,-56.0,-55.963,-55.945,-55.487,-55.02,-54.522,-54.253,-54.0,-53.426,-53.126,-52.612,-52.137,-52.068,-52.037,-52.0,-51.168,-50.802,-50.472,-50.0,-49.888,-49.835,-49.353,-49.039,-48.587,-48.345,-48.0,-47.711,-47.581,-46.963,-46.931,-46.539,-46.324,-46.0,-45.659,-45.517,-44.987,-44.977,-44.599,-44.401,-44.0,-43.832,-43.76,-43.476,-43.115,-42.761,-42.515,-42.072,-42.044,-42.032,-42.0,-41.394,-41.19,-40.866,-40.778,-40.536,-40.412,-40.109,-40.08,-40.066,-40.0,-39.647,-39.575,-39.502,-39.362,-39.271,-39.25,-39.26,-39.237,-39.301,-39.428,-39.489,-39.585,-40.0,-40.096,-40.142,-40.333,-40.78,-41.4,-41.656,-42.0,-42.694,-43.879,-43.95,-44.0,-44.127,-45.297,-46.0,-46.811,-47.27,-48.0,-48.459,-49.653,-50.0,-50.257,-51.818,-52.0,-52.159,-53.844,-54.0,-54.146,-55.896,-56.0,-56.088,-57.278,-57.914,-58.0,-58.098,-59.806,-60.0,-60.191,-61.989,-62.0,-62.009,-62.064,-63.837,-64.0,-64.232,-65.608,-66.0,-66.581,-67.341,-68.0,-68.91,-69.085,-70.0,-70.938,-71.075,-72.0,-72.988,-73.011,-74.0,-74.84,-75.211,-76.0,-76.643,-77.44,-78.0,-78.524,-79.474,-80.0,-80.636,-81.295,-82.0,-82.988,-83.022,-84.0,-84.661,-85.507,-86.0,-86.387,-87.724,-88.0,-88.243,-89.843,-90.0,-90.129,-90.985,-91.89,-92.0,-92.179,-93.501,-94.0,-94.899,-95.062,-96.0,-96.643,-97.602,-98.0,-98.273,-99.808,-99.976,-100.0,-100.035,-101.807,-102.0,-102.267,-103.692,-104.0,-104.361,-105.749,-106.0,-106.208,-107.064,-107.816,-108.0,-108.353,-109.312,-110.0,-110.854,-111.243,-112.0,-112.506,-113.635,-114.0,-114.388,-115.495,-116.0,-116.993,-117.024,-118.0,-118.307,-118.705,-119.386,-120.0,-120.286,-120.472,-120.929,-120.978,-121.391,-121.529,-121.897,-121.925,-121.942,-122.0,-122.389,-122.484,-122.723,-122.868,-123.136,-123.372,-123.767,-123.851,-123.889,-124.0,-124.389,-124.525,-124.9,-124.958,-125.363,-125.582,-126.0,-126.229,-126.323,-126.618,-126.873,-127.256,-127.49,-128.0,-128.042,-128.056,-128.086,-128.56,-128.751,-129.08,-129.159,-129.448,-129.588,-130.0,-130.096,-130.134,-130.24,-130.704,-131.016,-131.347,-131.871,-131.93,-131.952,-132.0,-132.526,-132.719,-133.045,-133.083,-133.376,-133.514,-133.841,-133.883,-133.909,-134.0,-134.279,-134.343,-134.474,-134.718,-134.902,-135.142,-135.231,-135.432,-135.54,-135.81,-135.852,-135.869,-136.0,-136.058,-136.066,-136.073,-136.215,-136.237,-136.268,-136.392,-136.44,-136.565,-136.717,-136.879,-137.178,-137.376,-137.601,-137.728,-138.0,-138.377,-138.564,-139.032,-139.086,-139.51,-139.641,-140.0,-140.141,-140.191,-140.272,-140.612,-140.793,-141.046,-141.076,-141.313,-141.437,-141.681,-141.751,-141.784,-142.0,-142.049,-142.058,-142.069,-142.282,-142.328,-142.372,-142.483,-142.543,-142.592,-142.637,-142.693,-142.711,-142.72,-142.738,-142.689,-142.646,-142.601,-142.486,-142.178,-142.137,-142.1,-142.0,-141.574,-141.43,-141.083,-141.037,-140.682,-140.525,-140.171,-140.122,-140.106,-140.0,-139.882,-139.864,-139.85,-139.737,-139.711,-139.707,-139.7,-139.695,-139.699,-139.746,-139.75,-139.748,-139.803,-139.802,-139.784,-139.758,-139.735,-139.672,-139.52,-139.411,-139.149,-139.092,-138.746,-138.559,-138.0,-137.977,-137.965,-137.942,-137.468,-137.212,-136.835,-136.368,-136.168,-136.113,-136.0,-135.058,-134.809,-134.0,-133.676,-132.429,-132.0,-131.133,-130.96,-130.0,-129.67,-129.271],\"xaxis\":\"x\",\"y\":[52.0,51.467,51.078,50.526,50.0,49.565,49.235,48.665,48.0,47.844,47.771,47.604,47.236,46.931,46.677,46.3,46.189,46.132,46.0,45.57,45.365,44.86,44.246,44.082,44.048,44.0,43.221,42.593,42.342,42.0,41.531,41.2,40.759,40.027,40.011,40.007,40.0,39.452,39.22,38.9,38.771,38.481,38.349,38.0,37.805,37.73,37.524,37.228,36.843,36.555,36.0,35.799,35.656,34.967,34.0,33.984,33.968,33.692,33.044,32.539,32.0,31.963,31.921,30.982,30.0,29.914,29.819,28.952,28.0,27.917,27.826,26.957,26.0,25.91,25.799,24.92,24.0,23.853,23.663,22.804,22.0,21.709,21.29,20.579,20.0,19.449,18.581,18.259,18.0,17.181,16.074,16.037,16.0,15.048,14.556,14.0,13.955,13.9,12.988,12.0,11.929,11.853,11.358,11.054,10.092,10.054,10.0,9.241,8.475,8.276,8.0,7.338,6.556,6.31,6.0,5.333,4.5,4.278,4.0,3.331,2.467,2.254,2.0,1.242,0.012,0.0,-0.002,-0.005,-1.043,-2.0,-2.245,-2.717,-3.35,-4.0,-4.476,-5.345,-5.656,-6.0,-6.733,-7.755,-8.0,-8.048,-8.164,-9.122,-10.0,-10.324,-11.013,-11.48,-12.0,-12.587,-13.924,-13.963,-14.0,-14.513,-15.02,-16.0,-16.253,-16.869,-17.426,-18.0,-18.612,-19.863,-20.0,-20.037,-20.152,-21.168,-22.0,-22.472,-23.763,-23.888,-24.0,-24.647,-25.039,-26.0,-26.345,-27.357,-27.711,-28.0,-28.963,-29.069,-30.0,-30.324,-31.227,-31.659,-32.0,-32.987,-33.023,-34.0,-34.401,-35.599,-35.832,-36.0,-36.524,-37.115,-38.0,-38.515,-39.928,-40.0,-40.032,-40.16,-41.394,-42.0,-42.866,-43.222,-44.0,-44.412,-45.891,-46.0,-46.066,-46.453,-47.647,-48.0,-48.498,-49.362,-50.0,-50.75,-51.26,-52.0,-52.699,-53.428,-54.0,-54.415,-55.554,-55.904,-56.0,-56.333,-57.22,-58.0,-58.344,-58.651,-59.306,-60.0,-60.05,-60.072,-60.127,-60.703,-60.949,-61.189,-61.27,-61.45,-61.541,-61.653,-61.711,-61.743,-61.818,-61.838,-61.841,-61.844,-61.848,-61.854,-61.896,-61.9,-61.912,-62.0,-62.086,-62.094,-62.098,-62.194,-62.203,-62.191,-62.011,-62.01,-62.009,-62.0,-61.837,-61.81,-61.768,-61.608,-61.523,-61.419,-61.341,-61.199,-61.09,-61.085,-60.95,-60.938,-60.925,-60.912,-60.988,-60.989,-61.069,-61.16,-61.211,-61.301,-61.357,-61.44,-61.491,-61.476,-61.474,-61.457,-61.364,-61.295,-61.181,-60.988,-60.978,-60.759,-60.661,-60.493,-60.413,-60.387,-60.276,-60.256,-60.243,-60.157,-60.148,-60.129,-60.0,-59.89,-59.871,-59.821,-59.501,-59.347,-59.101,-59.062,-58.779,-58.643,-58.398,-58.308,-58.273,-58.0,-57.976,-57.971,-57.965,-57.807,-57.769,-57.733,-57.692,-57.639,-57.639,-57.749,-57.749,-57.792,-58.0,-58.184,-58.235,-58.353,-58.688,-58.91,-59.146,-59.243,-59.444,-59.494,-59.635,-59.673,-59.612,-59.495,-59.405,-58.993,-58.976,-58.495,-58.307,-58.0,-57.386,-56.642,-56.286,-56.0,-55.071,-54.978,-54.0,-53.529,-52.103,-52.0,-51.942,-51.74,-50.389,-50.0,-49.277,-48.868,-48.0,-47.372,-46.233,-46.0,-45.889,-45.584,-44.389,-44.0,-43.1,-42.958,-42.0,-41.582,-40.762,-40.229,-40.0,-39.382,-38.873,-38.0,-37.49,-36.166,-36.042,-36.0,-35.914,-34.56,-34.0,-33.08,-32.841,-32.0,-31.588,-30.366,-30.096,-30.0,-29.76,-28.704,-28.0,-27.347,-26.129,-26.0,-25.952,-25.82,-24.526,-24.0,-23.045,-22.917,-22.0,-21.514,-20.159,-20.0,-19.909,-19.466,-18.279,-18.0,-17.526,-16.718,-16.0,-15.142,-14.769,-14.0,-13.54,-12.19,-12.0,-11.869,-10.535,-10.058,-10.0,-9.927,-8.215,-8.0,-7.732,-6.392,-6.0,-5.435,-4.717,-4.0,-3.178,-2.624,-2.0,-1.728,-1.122,-0.377,0.0,0.968,1.086,2.0,2.359,3.453,3.859,4.0,4.272,5.388,6.0,6.954,7.076,8.0,8.563,9.681,10.0,10.216,11.634,11.951,12.0,12.069,13.718,14.0,14.372,15.517,16.0,16.592,17.363,18.0,18.711,19.28,20.0,20.689,21.354,22.0,22.486,23.822,24.0,24.1,24.369,25.574,26.0,26.917,27.037,28.0,28.525,29.829,30.0,30.106,30.878,31.882,32.0,32.15,33.737,34.0,34.293,35.7,36.0,36.301,37.746,38.0,38.252,39.803,40.0,40.216,41.758,42.0,42.328,43.52,44.0,44.851,45.092,46.0,46.559,47.914,47.977,48.0,48.058,49.468,50.0,50.835,51.632,52.0,52.113,52.279,53.058,53.191,53.676,53.676,53.571,53.571,53.133,53.04,52.612,52.33,52.0],\"yaxis\":\"y\",\"type\":\"scatter\"},{\"hovertemplate\":\"<b>%{hovertext}</b><br><br>phi=%{x}<br>psi=%{y}<extra></extra>\",\"hovertext\":[0.02,0.02,0.02,0.02,0.02,0.02,0.02,0.02,0.02,0.02,0.02,0.02,0.02,0.02,0.02,0.02,0.02,0.02,0.02,0.02,0.02,0.02,0.02,0.02,0.02,0.02,0.02,0.02,0.02,0.02,0.02,0.02,0.02,0.02,0.02,0.02,0.02,0.02,0.02,0.02,0.02,0.02,0.02,0.02,0.02,0.02,0.02,0.02,0.02,0.02,0.02,0.02,0.02,0.02,0.02,0.02,0.02,0.02,0.02,0.02,0.02,0.02,0.02,0.02,0.02,0.02,0.02,0.02,0.02,0.02,0.02,0.02,0.02,0.02,0.02,0.02,0.02,0.02,0.02,0.02,0.02,0.02,0.02,0.02,0.02,0.02,0.02,0.02,0.02,0.02,0.02,0.02,0.02,0.02,0.02,0.02,0.02,0.02,0.02,0.02,0.02,0.02,0.02,0.02,0.02,0.02,0.02,0.02,0.02,0.02,0.02,0.02,0.02,0.02,0.02,0.02,0.02,0.02,0.02,0.02,0.02,0.02,0.02,0.02,0.02,0.02,0.02,0.02,0.02,0.02,0.02,0.02,0.02,0.02,0.02,0.02,0.02,0.02,0.02,0.02,0.02,0.02,0.02,0.02,0.02,0.02,0.02,0.02,0.02,0.02,0.02,0.02,0.02,0.02,0.02,0.02,0.02,0.02,0.02,0.02,0.02,0.02,0.02,0.02,0.02,0.02,0.02,0.02,0.02,0.02,0.02,0.02,0.02,0.02,0.02,0.02,0.02,0.02,0.02,0.02,0.02,0.02,0.02,0.02,0.02,0.02,0.02,0.02,0.02,0.02,0.02,0.02,0.02,0.02,0.02,0.02,0.02,0.02,0.02,0.02,0.02,0.02,0.02,0.02,0.02,0.02,0.02,0.02,0.02,0.02,0.02,0.02,0.02,0.02,0.02,0.02,0.02,0.02,0.02,0.02,0.02,0.02,0.02,0.02,0.02,0.02,0.02,0.02,0.02,0.02,0.02,0.02,0.02,0.02,0.02,0.02,0.02,0.02,0.02,0.02,0.02,0.02,0.02,0.02,0.02,0.02,0.02,0.02,0.02,0.02,0.02,0.02,0.02,0.02,0.02,0.02,0.02,0.02,0.02,0.02,0.02,0.02,0.02,0.02,0.02,0.02,0.02,0.02,0.02,0.02,0.02,0.02,0.02],\"legendgroup\":\"\",\"line\":{\"color\":\"deepskyblue\",\"dash\":\"solid\",\"width\":2},\"marker\":{\"symbol\":\"circle\"},\"mode\":\"lines\",\"name\":\"\",\"orientation\":\"v\",\"showlegend\":false,\"x\":[52.435,53.952,54.0,54.069,55.669,56.0,56.74,57.124,58.0,58.386,58.818,59.511,60.0,60.447,60.726,61.279,61.804,61.913,61.946,62.0,62.58,62.778,63.137,63.262,63.527,63.664,64.0,64.146,64.19,64.318,64.747,64.994,65.296,65.543,65.706,65.792,66.0,66.324,66.421,66.698,66.884,67.183,67.417,67.735,67.824,67.872,68.0,68.389,68.506,68.835,68.935,69.257,69.488,70.0,70.004,70.005,70.011,70.723,71.024,71.325,71.661,71.792,71.847,72.0,72.359,72.461,72.652,72.821,73.043,73.258,73.426,73.581,73.674,74.0,74.075,74.095,74.148,74.637,74.833,75.16,75.308,75.551,75.66,76.0,76.096,76.122,76.164,76.536,76.662,76.887,76.934,77.165,77.35,77.579,77.692,77.762,78.0,78.232,78.303,78.474,78.763,79.026,79.244,79.426,79.587,79.644,79.92,79.933,79.935,80.0,80.107,80.123,80.136,80.201,80.223,80.229,80.152,80.156,80.145,80.0,79.842,79.77,79.432,79.141,78.354,78.17,78.0,77.707,76.492,76.0,75.659,74.743,74.192,74.0,73.131,72.98,72.0,71.824,71.651,70.732,70.0,69.67,69.379,68.653,68.0,67.687,67.464,66.765,66.0,65.898,65.836,65.166,65.016,64.354,64.19,64.0,63.315,62.902,62.488,62.0,61.653,61.461,60.804,60.237,60.086,60.048,60.0,59.158,58.669,58.386,58.0,57.591,57.381,56.791,56.3,56.124,56.072,56.0,55.221,54.817,54.495,54.0,53.803,53.711,53.178,53.032,52.551,52.337,52.0,51.618,51.444,50.855,50.586,50.271,50.16,50.0,49.392,49.129,48.723,48.402,48.226,48.143,48.0,47.47,47.27,46.802,46.574,46.321,46.191,46.0,45.454,45.218,44.699,44.247,44.12,44.068,44.0,43.229,42.853,42.522,42.0,41.916,41.879,41.782,41.242,40.988,40.756,40.613,40.447,40.367,40.039,40.031,40.026,40.0,39.573,39.463,39.3,39.185,38.998,38.892,38.847,38.737,38.776,38.765,38.811,39.042,39.09,39.359,39.558,40.0,40.306,40.599,41.301,42.0,42.434,43.373,43.789,44.0,44.472,45.223,46.0,46.738,47.413,48.0,48.361,49.869,50.0,50.102,51.786,51.985,52.0,52.017,52.435],\"xaxis\":\"x\",\"y\":[64.0,63.952,63.947,63.931,63.669,63.574,63.26,63.124,62.652,62.386,62.0,61.511,60.971,60.447,60.0,59.279,58.196,58.0,57.946,57.808,56.58,56.0,55.137,54.738,54.0,53.664,52.494,52.146,52.0,51.682,50.747,50.0,49.296,48.457,48.0,47.792,47.069,46.324,46.0,45.302,44.884,44.0,43.417,42.265,42.0,41.872,41.343,40.389,40.0,39.165,38.935,38.0,37.488,36.01,36.004,36.0,35.989,34.723,34.0,33.325,32.339,32.0,31.847,31.284,30.359,30.0,29.348,28.821,28.0,27.258,26.574,26.0,25.674,24.296,24.075,24.0,23.852,22.637,22.0,21.16,20.692,20.0,19.66,18.357,18.096,18.0,17.836,16.536,16.0,15.113,14.934,14.0,13.35,12.421,12.0,11.762,10.888,10.232,10.0,9.526,8.763,8.0,7.244,6.574,6.0,5.644,4.08,4.0,3.935,3.173,2.107,2.0,1.864,0.201,0.0,-0.229,-1.848,-2.0,-2.145,-3.023,-3.842,-4.0,-4.568,-5.141,-6.0,-6.17,-6.281,-6.293,-6.492,-6.508,-6.341,-6.0,-5.808,-5.761,-5.131,-5.02,-4.349,-4.176,-4.0,-3.268,-2.658,-2.33,-2.0,-1.347,-0.647,-0.313,0.0,0.765,1.783,1.898,2.0,2.834,3.016,4.0,4.19,4.466,5.315,6.0,6.488,7.25,7.653,8.0,8.804,9.763,10.0,10.048,10.128,11.158,12.0,12.386,13.088,13.591,14.0,14.791,15.7,16.0,16.072,16.204,17.221,18.0,18.495,19.552,19.803,20.0,20.822,21.032,22.0,22.337,23.093,23.618,24.0,24.855,25.414,26.0,26.16,26.509,27.392,28.0,28.723,29.598,30.0,30.143,30.571,31.47,32.0,32.802,33.426,34.0,34.191,34.709,35.454,36.0,36.699,37.753,38.0,38.068,38.24,39.229,40.0,40.522,41.808,41.916,42.0,42.218,43.242,44.0,44.756,45.387,46.0,46.367,47.961,48.0,48.026,48.166,49.573,50.0,50.7,51.185,52.0,52.892,53.153,54.0,54.776,55.235,56.0,56.958,57.09,58.0,58.442,59.17,59.694,60.0,60.699,61.256,61.566,62.0,62.211,62.296,62.472,62.777,63.039,63.262,63.413,63.57,63.639,63.869,63.893,63.898,64.0,64.015,64.017,64.017,64.0],\"yaxis\":\"y\",\"type\":\"scatter\"},{\"hovertemplate\":\"<b>%{hovertext}</b><br><br>phi=%{x}<br>psi=%{y}<extra></extra>\",\"hovertext\":[0.02,0.02,0.02,0.02,0.02,0.02,0.02,0.02,0.02,0.02,0.02,0.02,0.02,0.02,0.02,0.02,0.02,0.02,0.02,0.02,0.02,0.02,0.02,0.02,0.02,0.02,0.02,0.02,0.02,0.02,0.02,0.02,0.02,0.02,0.02,0.02,0.02,0.02,0.02,0.02,0.02,0.02,0.02,0.02,0.02,0.02,0.02,0.02,0.02,0.02,0.02,0.02,0.02,0.02,0.02,0.02,0.02,0.02,0.02,0.02,0.02,0.02,0.02,0.02,0.02,0.02,0.02,0.02,0.02,0.02,0.02,0.02,0.02,0.02,0.02,0.02,0.02,0.02,0.02,0.02,0.02,0.02,0.02,0.02,0.02,0.02,0.02,0.02,0.02,0.02,0.02,0.02,0.02,0.02,0.02,0.02,0.02,0.02,0.02,0.02,0.02,0.02,0.02,0.02,0.02,0.02,0.02,0.02,0.02,0.02,0.02,0.02,0.02,0.02,0.02,0.02,0.02,0.02,0.02,0.02,0.02,0.02,0.02,0.02,0.02,0.02,0.02,0.02,0.02,0.02,0.02,0.02,0.02,0.02,0.02,0.02,0.02,0.02,0.02,0.02,0.02,0.02,0.02,0.02,0.02,0.02,0.02,0.02,0.02,0.02,0.02,0.02,0.02,0.02,0.02,0.02,0.02,0.02,0.02,0.02,0.02,0.02,0.02,0.02,0.02,0.02,0.02,0.02,0.02,0.02,0.02,0.02,0.02,0.02,0.02,0.02,0.02,0.02,0.02,0.02,0.02,0.02,0.02,0.02,0.02,0.02,0.02,0.02,0.02,0.02,0.02,0.02,0.02,0.02,0.02,0.02,0.02,0.02,0.02,0.02,0.02,0.02,0.02,0.02,0.02,0.02,0.02,0.02,0.02,0.02,0.02,0.02,0.02,0.02,0.02,0.02,0.02,0.02,0.02,0.02,0.02,0.02,0.02,0.02,0.02,0.02,0.02,0.02,0.02,0.02,0.02,0.02,0.02,0.02,0.02,0.02,0.02,0.02,0.02,0.02,0.02,0.02,0.02,0.02,0.02,0.02,0.02,0.02,0.02,0.02,0.02,0.02,0.02,0.02,0.02,0.02,0.02,0.02,0.02,0.02,0.02,0.02,0.02,0.02,0.02,0.02,0.02,0.02,0.02,0.02,0.02,0.02,0.02,0.02,0.02,0.02,0.02,0.02,0.02,0.02,0.02,0.02,0.02,0.02,0.02,0.02,0.02,0.02,0.02,0.02,0.02,0.02,0.02,0.02,0.02,0.02,0.02,0.02,0.02,0.02,0.02,0.02,0.02,0.02,0.02,0.02,0.02,0.02,0.02,0.02,0.02,0.02,0.02,0.02,0.02,0.02,0.02,0.02,0.02,0.02,0.02,0.02,0.02,0.02,0.02,0.02,0.02,0.02,0.02,0.02,0.02,0.02,0.02,0.02,0.02,0.02,0.02,0.02,0.02,0.02,0.02,0.02,0.02,0.02,0.02,0.02,0.02,0.02,0.02,0.02,0.02,0.02,0.02,0.02,0.02,0.02,0.02,0.02,0.02,0.02,0.02,0.02,0.02,0.02,0.02,0.02,0.02,0.02,0.02,0.02,0.02,0.02,0.02,0.02,0.02,0.02,0.02,0.02,0.02,0.02,0.02,0.02,0.02,0.02,0.02,0.02,0.02,0.02,0.02,0.02,0.02,0.02,0.02,0.02,0.02,0.02,0.02,0.02,0.02,0.02,0.02,0.02,0.02,0.02,0.02,0.02,0.02,0.02,0.02,0.02,0.02,0.02,0.02,0.02,0.02,0.02,0.02,0.02,0.02,0.02,0.02,0.02,0.02,0.02,0.02,0.02,0.02,0.02,0.02,0.02,0.02,0.02,0.02,0.02,0.02,0.02,0.02,0.02,0.02,0.02,0.02,0.02,0.02,0.02,0.02,0.02,0.02,0.02,0.02,0.02,0.02,0.02,0.02,0.02,0.02,0.02,0.02,0.02,0.02,0.02,0.02,0.02,0.02,0.02,0.02,0.02,0.02,0.02,0.02,0.02,0.02,0.02,0.02,0.02,0.02,0.02,0.02,0.02,0.02,0.02,0.02,0.02,0.02,0.02,0.02,0.02,0.02,0.02,0.02,0.02,0.02,0.02,0.02,0.02,0.02,0.02,0.02,0.02,0.02,0.02,0.02,0.02,0.02,0.02,0.02,0.02,0.02,0.02,0.02,0.02,0.02,0.02,0.02,0.02,0.02,0.02,0.02,0.02,0.02,0.02,0.02,0.02,0.02,0.02,0.02,0.02,0.02,0.02,0.02,0.02,0.02,0.02],\"legendgroup\":\"\",\"line\":{\"color\":\"deepskyblue\",\"dash\":\"solid\",\"width\":2},\"marker\":{\"symbol\":\"circle\"},\"mode\":\"lines\",\"name\":\"\",\"orientation\":\"v\",\"showlegend\":false,\"x\":[-69.862,-68.951,-68.646,-68.143,-68.07,-68.0,-67.105,-66.436,-66.215,-66.0,-65.284,-64.786,-64.384,-64.0,-63.452,-63.083,-62.54,-62.0,-61.653,-61.439,-60.775,-60.106,-60.037,-60.02,-60.0,-59.136,-58.643,-58.365,-58.0,-57.565,-57.332,-56.735,-56.019,-56.007,-56.004,-56.0,-55.129,-54.661,-54.413,-54.0,-53.765,-53.667,-53.166,-53.035,-52.587,-52.358,-52.0,-51.673,-51.523,-50.931,-50.832,-50.428,-50.266,-50.0,-49.587,-49.42,-48.848,-48.609,-48.299,-48.175,-48.0,-47.384,-47.098,-46.676,-46.197,-46.101,-46.061,-46.0,-45.25,-44.885,-44.536,-44.0,-43.852,-43.775,-43.335,-43.058,-42.579,-42.379,-42.0,-41.755,-41.653,-41.359,-41.12,-40.772,-40.583,-40.29,-40.205,-40.174,-40.0,-39.864,-39.838,-39.825,-39.732,-39.712,-39.733,-39.996,-39.997,-39.997,-40.0,-40.446,-40.685,-41.171,-42.0,-42.068,-42.14,-43.022,-44.0,-44.123,-44.316,-45.243,-46.0,-46.453,-47.456,-47.801,-48.0,-48.544,-49.135,-50.0,-50.559,-51.811,-52.0,-52.092,-52.423,-53.552,-54.0,-54.993,-55.017,-56.0,-56.404,-57.478,-57.825,-58.0,-58.516,-59.143,-60.0,-60.478,-61.539,-61.825,-62.0,-62.956,-63.355,-64.0,-64.066,-64.134,-64.856,-64.987,-65.916,-65.952,-66.0,-66.817,-67.537,-67.723,-68.0,-68.572,-69.032,-69.399,-70.0,-70.153,-70.237,-70.45,-70.792,-71.197,-71.43,-72.0,-72.057,-72.081,-72.127,-72.566,-72.788,-73.072,-73.138,-73.406,-73.513,-73.836,-73.874,-73.889,-74.0,-74.112,-74.124,-74.133,-74.257,-74.273,-74.286,-74.363,-74.38,-74.395,-74.448,-74.465,-74.481,-74.52,-74.537,-74.548,-74.575,-74.586,-74.584,-74.584,-74.582,-74.576,-74.564,-74.558,-74.556,-74.562,-74.561,-74.599,-74.653,-74.695,-74.809,-74.854,-74.978,-75.131,-75.201,-75.35,-75.46,-75.78,-75.829,-75.858,-76.0,-76.237,-76.3,-76.413,-76.629,-76.825,-77.096,-77.224,-77.495,-77.614,-78.0,-78.195,-78.297,-78.573,-78.826,-79.331,-79.55,-80.0,-80.34,-80.676,-81.267,-82.0,-82.28,-82.756,-83.468,-84.0,-84.822,-85.335,-86.0,-86.448,-87.574,-88.0,-88.62,-89.227,-90.0,-90.578,-91.296,-91.738,-92.0,-92.762,-93.348,-93.663,-94.0,-94.432,-94.645,-95.085,-95.176,-95.506,-95.628,-95.985,-95.989,-95.992,-96.0,-96.365,-96.44,-96.583,-96.761,-96.934,-97.153,-97.241,-97.427,-97.534,-97.806,-97.848,-97.871,-98.0,-98.187,-98.233,-98.285,-98.497,-98.59,-98.736,-98.819,-98.987,-99.178,-99.306,-99.476,-99.599,-100.0,-100.142,-100.223,-100.746,-100.955,-101.633,-101.796,-102.0,-102.701,-103.319,-103.663,-104.0,-104.73,-105.743,-105.901,-106.0,-106.233,-107.378,-108.0,-108.821,-109.156,-110.0,-110.785,-111.265,-112.0,-112.539,-113.729,-114.0,-114.175,-115.048,-115.832,-116.0,-116.25,-117.529,-118.0,-118.662,-119.258,-120.0,-120.956,-121.073,-122.0,-122.606,-123.765,-124.0,-124.155,-124.751,-125.7,-126.0,-126.639,-127.25,-128.0,-128.947,-129.07,-130.0,-130.581,-131.776,-131.937,-132.0,-132.134,-133.403,-134.0,-134.965,-135.056,-136.0,-136.596,-137.709,-138.0,-138.153,-138.434,-139.476,-140.0,-140.611,-141.22,-141.646,-142.0,-142.6,-143.065,-143.551,-144.0,-144.541,-145.062,-145.594,-146.0,-146.766,-147.863,-147.953,-148.0,-148.178,-149.223,-150.0,-150.418,-150.95,-151.571,-152.0,-152.645,-153.284,-153.636,-154.0,-154.539,-154.927,-155.339,-156.0,-156.026,-156.037,-156.057,-156.584,-156.773,-157.073,-157.123,-157.379,-157.532,-157.918,-157.942,-157.958,-158.0,-158.409,-158.517,-158.853,-158.939,-159.283,-159.51,-160.0,-160.074,-160.102,-160.165,-160.649,-160.875,-161.159,-161.288,-161.511,-161.627,-162.0,-162.008,-162.01,-162.015,-162.514,-162.667,-163.05,-163.098,-163.425,-163.605,-164.0,-164.154,-164.213,-164.379,-164.771,-165.082,-165.345,-165.648,-165.771,-165.837,-166.0,-166.335,-166.43,-166.699,-166.878,-167.179,-167.433,-167.847,-167.905,-167.932,-168.0,-168.467,-168.604,-168.913,-168.959,-169.262,-169.448,-169.789,-169.854,-169.891,-170.0,-170.396,-170.512,-170.797,-170.909,-171.21,-171.416,-171.722,-171.809,-171.851,-172.0,-172.283,-172.353,-172.493,-172.723,-172.923,-173.211,-173.406,-173.608,-173.729,-174.0,-174.309,-174.42,-174.753,-174.912,-175.272,-175.471,-175.841,-175.893,-175.916,-176.0,-176.346,-176.434,-176.623,-176.802,-177.038,-177.258,-177.443,-177.6,-177.67,-177.962,-177.97,-177.971,-178.0,-178.057,-178.059,-178.053,-178.0,-177.819,-177.786,-177.687,-177.393,-177.171,-176.848,-176.619,-176.366,-176.267,-176.0,-175.726,-175.609,-175.267,-175.106,-174.635,-174.418,-174.0,-173.679,-173.453],\"xaxis\":\"x\",\"y\":[180.0,179.049,178.646,178.0,177.93,177.842,176.895,176.0,175.785,175.488,174.716,174.0,173.616,173.087,172.548,172.0,171.46,170.681,170.347,170.0,169.225,168.106,168.0,167.98,167.943,166.864,166.0,165.635,164.957,164.435,164.0,163.265,162.019,162.0,161.996,161.988,160.871,160.0,159.587,158.585,158.235,158.0,157.166,156.965,156.0,155.642,154.778,154.327,154.0,153.069,152.832,152.0,151.734,151.053,150.413,150.0,149.152,148.609,148.0,147.825,147.434,146.616,146.0,145.324,144.197,144.0,143.939,143.79,142.75,142.0,141.464,140.32,140.148,140.0,139.335,138.942,138.0,137.621,136.64,136.245,136.0,135.359,134.88,134.0,133.417,132.29,132.0,131.826,130.721,130.136,130.0,129.825,128.268,128.0,127.733,126.004,126.0,125.997,125.99,124.446,124.0,123.171,122.173,122.068,122.0,121.022,120.242,120.123,120.0,119.243,118.776,118.453,118.0,117.801,117.722,117.456,117.135,116.793,116.559,116.189,116.122,116.092,116.0,115.552,115.409,114.993,114.983,114.588,114.404,114.0,113.825,113.753,113.484,113.143,112.735,112.478,112.0,111.825,111.731,110.956,110.645,110.14,110.066,110.0,109.144,108.987,108.0,107.952,107.903,106.817,106.0,105.723,105.388,104.572,104.0,103.399,102.462,102.153,102.0,101.55,100.792,100.0,99.43,98.208,98.057,98.0,97.873,96.566,96.0,95.072,94.862,94.0,93.513,92.164,92.0,91.889,91.091,90.112,90.0,89.867,88.257,88.0,87.714,86.363,86.0,85.605,84.448,84.0,83.519,82.52,82.0,81.452,80.575,80.0,79.416,78.584,78.0,77.424,76.564,76.0,75.444,74.562,74.0,73.401,72.653,72.0,71.191,70.854,70.0,69.131,68.799,68.0,67.46,66.22,66.0,65.858,65.373,64.237,64.0,63.587,62.629,62.0,61.096,60.776,60.0,59.614,58.732,58.195,58.0,57.427,56.826,56.0,55.55,54.845,54.34,54.0,53.267,52.5,52.28,52.0,51.468,51.107,50.822,50.665,50.448,50.448,50.426,50.426,50.62,50.773,51.063,51.421,52.0,52.262,52.491,53.238,54.0,54.337,54.884,55.568,56.0,56.915,57.176,58.0,58.372,59.985,60.0,60.008,60.059,61.635,62.0,62.583,63.239,64.0,64.847,65.241,66.0,66.466,67.806,68.0,68.129,68.967,69.813,70.0,70.285,71.503,72.0,72.736,73.181,74.0,74.822,75.306,76.0,76.401,77.572,77.858,78.0,78.746,79.045,80.0,80.204,80.482,81.299,82.0,82.337,82.685,83.27,84.0,84.099,84.162,84.233,84.622,84.791,84.821,84.844,84.873,84.785,84.735,84.653,84.539,84.271,84.213,84.175,84.0,83.832,83.796,83.75,83.529,83.441,83.338,83.258,83.137,82.956,82.927,82.733,82.606,82.235,82.176,82.155,82.0,81.7,81.538,81.361,81.25,80.98,81.053,81.07,81.15,81.419,82.0,82.063,82.087,82.134,82.597,82.804,83.035,83.056,83.28,83.404,83.709,83.777,83.847,84.0,84.524,84.863,85.389,86.0,86.354,86.705,87.4,88.0,88.449,88.889,89.459,90.0,90.406,90.693,91.234,92.0,92.047,92.072,92.178,92.777,93.288,93.582,94.0,94.429,94.785,95.355,96.0,96.364,96.809,97.461,98.0,98.661,99.925,99.974,100.0,100.057,101.416,102.0,102.927,103.123,104.0,104.468,105.918,106.0,106.042,106.192,107.591,108.0,108.853,109.061,110.0,110.49,111.744,111.926,112.0,112.165,113.351,114.0,114.841,115.288,116.0,116.373,117.959,117.992,118.0,118.015,119.486,120.0,120.95,121.098,122.0,122.395,123.494,123.846,124.0,124.379,125.229,126.0,126.655,127.648,128.0,128.163,128.715,129.665,130.0,130.699,131.122,132.0,132.567,133.847,134.0,134.068,134.292,135.533,136.0,136.913,137.041,138.0,138.552,139.789,140.0,140.109,140.498,141.604,142.0,142.797,143.091,144.0,144.584,145.722,146.0,146.149,146.798,147.717,148.0,148.493,149.277,150.0,150.789,151.406,152.0,152.271,153.042,153.691,154.0,154.753,155.088,156.0,156.529,157.841,158.0,158.084,158.473,159.654,160.0,160.623,161.198,162.0,162.742,163.443,164.0,164.33,165.962,166.0,166.029,166.773,167.943,168.0,168.053,168.399,169.819,170.0,170.313,171.393,172.0,172.848,173.381,174.0,174.267,174.91,175.726,176.0,176.733,177.106,178.0,178.418,179.086,179.679,180.0],\"yaxis\":\"y\",\"type\":\"scatter\"}],                        {\"template\":{\"data\":{\"bar\":[{\"error_x\":{\"color\":\"#2a3f5f\"},\"error_y\":{\"color\":\"#2a3f5f\"},\"marker\":{\"line\":{\"color\":\"#E5ECF6\",\"width\":0.5},\"pattern\":{\"fillmode\":\"overlay\",\"size\":10,\"solidity\":0.2}},\"type\":\"bar\"}],\"barpolar\":[{\"marker\":{\"line\":{\"color\":\"#E5ECF6\",\"width\":0.5},\"pattern\":{\"fillmode\":\"overlay\",\"size\":10,\"solidity\":0.2}},\"type\":\"barpolar\"}],\"carpet\":[{\"aaxis\":{\"endlinecolor\":\"#2a3f5f\",\"gridcolor\":\"white\",\"linecolor\":\"white\",\"minorgridcolor\":\"white\",\"startlinecolor\":\"#2a3f5f\"},\"baxis\":{\"endlinecolor\":\"#2a3f5f\",\"gridcolor\":\"white\",\"linecolor\":\"white\",\"minorgridcolor\":\"white\",\"startlinecolor\":\"#2a3f5f\"},\"type\":\"carpet\"}],\"choropleth\":[{\"colorbar\":{\"outlinewidth\":0,\"ticks\":\"\"},\"type\":\"choropleth\"}],\"contour\":[{\"colorbar\":{\"outlinewidth\":0,\"ticks\":\"\"},\"colorscale\":[[0.0,\"#0d0887\"],[0.1111111111111111,\"#46039f\"],[0.2222222222222222,\"#7201a8\"],[0.3333333333333333,\"#9c179e\"],[0.4444444444444444,\"#bd3786\"],[0.5555555555555556,\"#d8576b\"],[0.6666666666666666,\"#ed7953\"],[0.7777777777777778,\"#fb9f3a\"],[0.8888888888888888,\"#fdca26\"],[1.0,\"#f0f921\"]],\"type\":\"contour\"}],\"contourcarpet\":[{\"colorbar\":{\"outlinewidth\":0,\"ticks\":\"\"},\"type\":\"contourcarpet\"}],\"heatmap\":[{\"colorbar\":{\"outlinewidth\":0,\"ticks\":\"\"},\"colorscale\":[[0.0,\"#0d0887\"],[0.1111111111111111,\"#46039f\"],[0.2222222222222222,\"#7201a8\"],[0.3333333333333333,\"#9c179e\"],[0.4444444444444444,\"#bd3786\"],[0.5555555555555556,\"#d8576b\"],[0.6666666666666666,\"#ed7953\"],[0.7777777777777778,\"#fb9f3a\"],[0.8888888888888888,\"#fdca26\"],[1.0,\"#f0f921\"]],\"type\":\"heatmap\"}],\"heatmapgl\":[{\"colorbar\":{\"outlinewidth\":0,\"ticks\":\"\"},\"colorscale\":[[0.0,\"#0d0887\"],[0.1111111111111111,\"#46039f\"],[0.2222222222222222,\"#7201a8\"],[0.3333333333333333,\"#9c179e\"],[0.4444444444444444,\"#bd3786\"],[0.5555555555555556,\"#d8576b\"],[0.6666666666666666,\"#ed7953\"],[0.7777777777777778,\"#fb9f3a\"],[0.8888888888888888,\"#fdca26\"],[1.0,\"#f0f921\"]],\"type\":\"heatmapgl\"}],\"histogram\":[{\"marker\":{\"pattern\":{\"fillmode\":\"overlay\",\"size\":10,\"solidity\":0.2}},\"type\":\"histogram\"}],\"histogram2d\":[{\"colorbar\":{\"outlinewidth\":0,\"ticks\":\"\"},\"colorscale\":[[0.0,\"#0d0887\"],[0.1111111111111111,\"#46039f\"],[0.2222222222222222,\"#7201a8\"],[0.3333333333333333,\"#9c179e\"],[0.4444444444444444,\"#bd3786\"],[0.5555555555555556,\"#d8576b\"],[0.6666666666666666,\"#ed7953\"],[0.7777777777777778,\"#fb9f3a\"],[0.8888888888888888,\"#fdca26\"],[1.0,\"#f0f921\"]],\"type\":\"histogram2d\"}],\"histogram2dcontour\":[{\"colorbar\":{\"outlinewidth\":0,\"ticks\":\"\"},\"colorscale\":[[0.0,\"#0d0887\"],[0.1111111111111111,\"#46039f\"],[0.2222222222222222,\"#7201a8\"],[0.3333333333333333,\"#9c179e\"],[0.4444444444444444,\"#bd3786\"],[0.5555555555555556,\"#d8576b\"],[0.6666666666666666,\"#ed7953\"],[0.7777777777777778,\"#fb9f3a\"],[0.8888888888888888,\"#fdca26\"],[1.0,\"#f0f921\"]],\"type\":\"histogram2dcontour\"}],\"mesh3d\":[{\"colorbar\":{\"outlinewidth\":0,\"ticks\":\"\"},\"type\":\"mesh3d\"}],\"parcoords\":[{\"line\":{\"colorbar\":{\"outlinewidth\":0,\"ticks\":\"\"}},\"type\":\"parcoords\"}],\"pie\":[{\"automargin\":true,\"type\":\"pie\"}],\"scatter\":[{\"marker\":{\"colorbar\":{\"outlinewidth\":0,\"ticks\":\"\"}},\"type\":\"scatter\"}],\"scatter3d\":[{\"line\":{\"colorbar\":{\"outlinewidth\":0,\"ticks\":\"\"}},\"marker\":{\"colorbar\":{\"outlinewidth\":0,\"ticks\":\"\"}},\"type\":\"scatter3d\"}],\"scattercarpet\":[{\"marker\":{\"colorbar\":{\"outlinewidth\":0,\"ticks\":\"\"}},\"type\":\"scattercarpet\"}],\"scattergeo\":[{\"marker\":{\"colorbar\":{\"outlinewidth\":0,\"ticks\":\"\"}},\"type\":\"scattergeo\"}],\"scattergl\":[{\"marker\":{\"colorbar\":{\"outlinewidth\":0,\"ticks\":\"\"}},\"type\":\"scattergl\"}],\"scattermapbox\":[{\"marker\":{\"colorbar\":{\"outlinewidth\":0,\"ticks\":\"\"}},\"type\":\"scattermapbox\"}],\"scatterpolar\":[{\"marker\":{\"colorbar\":{\"outlinewidth\":0,\"ticks\":\"\"}},\"type\":\"scatterpolar\"}],\"scatterpolargl\":[{\"marker\":{\"colorbar\":{\"outlinewidth\":0,\"ticks\":\"\"}},\"type\":\"scatterpolargl\"}],\"scatterternary\":[{\"marker\":{\"colorbar\":{\"outlinewidth\":0,\"ticks\":\"\"}},\"type\":\"scatterternary\"}],\"surface\":[{\"colorbar\":{\"outlinewidth\":0,\"ticks\":\"\"},\"colorscale\":[[0.0,\"#0d0887\"],[0.1111111111111111,\"#46039f\"],[0.2222222222222222,\"#7201a8\"],[0.3333333333333333,\"#9c179e\"],[0.4444444444444444,\"#bd3786\"],[0.5555555555555556,\"#d8576b\"],[0.6666666666666666,\"#ed7953\"],[0.7777777777777778,\"#fb9f3a\"],[0.8888888888888888,\"#fdca26\"],[1.0,\"#f0f921\"]],\"type\":\"surface\"}],\"table\":[{\"cells\":{\"fill\":{\"color\":\"#EBF0F8\"},\"line\":{\"color\":\"white\"}},\"header\":{\"fill\":{\"color\":\"#C8D4E3\"},\"line\":{\"color\":\"white\"}},\"type\":\"table\"}]},\"layout\":{\"annotationdefaults\":{\"arrowcolor\":\"#2a3f5f\",\"arrowhead\":0,\"arrowwidth\":1},\"autotypenumbers\":\"strict\",\"coloraxis\":{\"colorbar\":{\"outlinewidth\":0,\"ticks\":\"\"}},\"colorscale\":{\"diverging\":[[0,\"#8e0152\"],[0.1,\"#c51b7d\"],[0.2,\"#de77ae\"],[0.3,\"#f1b6da\"],[0.4,\"#fde0ef\"],[0.5,\"#f7f7f7\"],[0.6,\"#e6f5d0\"],[0.7,\"#b8e186\"],[0.8,\"#7fbc41\"],[0.9,\"#4d9221\"],[1,\"#276419\"]],\"sequential\":[[0.0,\"#0d0887\"],[0.1111111111111111,\"#46039f\"],[0.2222222222222222,\"#7201a8\"],[0.3333333333333333,\"#9c179e\"],[0.4444444444444444,\"#bd3786\"],[0.5555555555555556,\"#d8576b\"],[0.6666666666666666,\"#ed7953\"],[0.7777777777777778,\"#fb9f3a\"],[0.8888888888888888,\"#fdca26\"],[1.0,\"#f0f921\"]],\"sequentialminus\":[[0.0,\"#0d0887\"],[0.1111111111111111,\"#46039f\"],[0.2222222222222222,\"#7201a8\"],[0.3333333333333333,\"#9c179e\"],[0.4444444444444444,\"#bd3786\"],[0.5555555555555556,\"#d8576b\"],[0.6666666666666666,\"#ed7953\"],[0.7777777777777778,\"#fb9f3a\"],[0.8888888888888888,\"#fdca26\"],[1.0,\"#f0f921\"]]},\"colorway\":[\"#636efa\",\"#EF553B\",\"#00cc96\",\"#ab63fa\",\"#FFA15A\",\"#19d3f3\",\"#FF6692\",\"#B6E880\",\"#FF97FF\",\"#FECB52\"],\"font\":{\"color\":\"#2a3f5f\"},\"geo\":{\"bgcolor\":\"white\",\"lakecolor\":\"white\",\"landcolor\":\"#E5ECF6\",\"showlakes\":true,\"showland\":true,\"subunitcolor\":\"white\"},\"hoverlabel\":{\"align\":\"left\"},\"hovermode\":\"closest\",\"mapbox\":{\"style\":\"light\"},\"paper_bgcolor\":\"white\",\"plot_bgcolor\":\"#E5ECF6\",\"polar\":{\"angularaxis\":{\"gridcolor\":\"white\",\"linecolor\":\"white\",\"ticks\":\"\"},\"bgcolor\":\"#E5ECF6\",\"radialaxis\":{\"gridcolor\":\"white\",\"linecolor\":\"white\",\"ticks\":\"\"}},\"scene\":{\"xaxis\":{\"backgroundcolor\":\"#E5ECF6\",\"gridcolor\":\"white\",\"gridwidth\":2,\"linecolor\":\"white\",\"showbackground\":true,\"ticks\":\"\",\"zerolinecolor\":\"white\"},\"yaxis\":{\"backgroundcolor\":\"#E5ECF6\",\"gridcolor\":\"white\",\"gridwidth\":2,\"linecolor\":\"white\",\"showbackground\":true,\"ticks\":\"\",\"zerolinecolor\":\"white\"},\"zaxis\":{\"backgroundcolor\":\"#E5ECF6\",\"gridcolor\":\"white\",\"gridwidth\":2,\"linecolor\":\"white\",\"showbackground\":true,\"ticks\":\"\",\"zerolinecolor\":\"white\"}},\"shapedefaults\":{\"line\":{\"color\":\"#2a3f5f\"}},\"ternary\":{\"aaxis\":{\"gridcolor\":\"white\",\"linecolor\":\"white\",\"ticks\":\"\"},\"baxis\":{\"gridcolor\":\"white\",\"linecolor\":\"white\",\"ticks\":\"\"},\"bgcolor\":\"#E5ECF6\",\"caxis\":{\"gridcolor\":\"white\",\"linecolor\":\"white\",\"ticks\":\"\"}},\"title\":{\"x\":0.05},\"xaxis\":{\"automargin\":true,\"gridcolor\":\"white\",\"linecolor\":\"white\",\"ticks\":\"\",\"title\":{\"standoff\":15},\"zerolinecolor\":\"white\",\"zerolinewidth\":2},\"yaxis\":{\"automargin\":true,\"gridcolor\":\"white\",\"linecolor\":\"white\",\"ticks\":\"\",\"title\":{\"standoff\":15},\"zerolinecolor\":\"white\",\"zerolinewidth\":2}}},\"xaxis\":{\"anchor\":\"y\",\"domain\":[0.0,1.0],\"title\":{\"text\":\"\\u03a6\"},\"range\":[-180,180],\"showline\":true,\"zeroline\":true,\"showgrid\":false,\"zerolinewidth\":1,\"zerolinecolor\":\"grey\"},\"yaxis\":{\"anchor\":\"x\",\"domain\":[0.0,1.0],\"title\":{\"text\":\"\\u03a8\"},\"range\":[-180,180],\"showline\":true,\"zeroline\":true,\"showgrid\":false,\"zerolinewidth\":1,\"zerolinecolor\":\"grey\"},\"legend\":{\"tracegroupgap\":0},\"margin\":{\"t\":60},\"updatemenus\":[{\"buttons\":[{\"args\":[null,{\"frame\":{\"duration\":500,\"redraw\":false},\"mode\":\"immediate\",\"fromcurrent\":true,\"transition\":{\"duration\":500,\"easing\":\"linear\"}}],\"label\":\"&#9654;\",\"method\":\"animate\"},{\"args\":[[null],{\"frame\":{\"duration\":0,\"redraw\":false},\"mode\":\"immediate\",\"fromcurrent\":true,\"transition\":{\"duration\":0,\"easing\":\"linear\"}}],\"label\":\"&#9724;\",\"method\":\"animate\"}],\"direction\":\"left\",\"pad\":{\"r\":10,\"t\":70},\"showactive\":false,\"type\":\"buttons\",\"x\":0.1,\"xanchor\":\"right\",\"y\":0,\"yanchor\":\"top\"}],\"sliders\":[{\"active\":0,\"currentvalue\":{\"prefix\":\"time=\"},\"len\":0.9,\"pad\":{\"b\":10,\"t\":60},\"steps\":[{\"args\":[[\"0\"],{\"frame\":{\"duration\":0,\"redraw\":false},\"mode\":\"immediate\",\"fromcurrent\":true,\"transition\":{\"duration\":0,\"easing\":\"linear\"}}],\"label\":\"0\",\"method\":\"animate\"},{\"args\":[[\"10\"],{\"frame\":{\"duration\":0,\"redraw\":false},\"mode\":\"immediate\",\"fromcurrent\":true,\"transition\":{\"duration\":0,\"easing\":\"linear\"}}],\"label\":\"10\",\"method\":\"animate\"},{\"args\":[[\"20\"],{\"frame\":{\"duration\":0,\"redraw\":false},\"mode\":\"immediate\",\"fromcurrent\":true,\"transition\":{\"duration\":0,\"easing\":\"linear\"}}],\"label\":\"20\",\"method\":\"animate\"},{\"args\":[[\"30\"],{\"frame\":{\"duration\":0,\"redraw\":false},\"mode\":\"immediate\",\"fromcurrent\":true,\"transition\":{\"duration\":0,\"easing\":\"linear\"}}],\"label\":\"30\",\"method\":\"animate\"},{\"args\":[[\"40\"],{\"frame\":{\"duration\":0,\"redraw\":false},\"mode\":\"immediate\",\"fromcurrent\":true,\"transition\":{\"duration\":0,\"easing\":\"linear\"}}],\"label\":\"40\",\"method\":\"animate\"},{\"args\":[[\"50\"],{\"frame\":{\"duration\":0,\"redraw\":false},\"mode\":\"immediate\",\"fromcurrent\":true,\"transition\":{\"duration\":0,\"easing\":\"linear\"}}],\"label\":\"50\",\"method\":\"animate\"},{\"args\":[[\"60\"],{\"frame\":{\"duration\":0,\"redraw\":false},\"mode\":\"immediate\",\"fromcurrent\":true,\"transition\":{\"duration\":0,\"easing\":\"linear\"}}],\"label\":\"60\",\"method\":\"animate\"},{\"args\":[[\"70\"],{\"frame\":{\"duration\":0,\"redraw\":false},\"mode\":\"immediate\",\"fromcurrent\":true,\"transition\":{\"duration\":0,\"easing\":\"linear\"}}],\"label\":\"70\",\"method\":\"animate\"},{\"args\":[[\"80\"],{\"frame\":{\"duration\":0,\"redraw\":false},\"mode\":\"immediate\",\"fromcurrent\":true,\"transition\":{\"duration\":0,\"easing\":\"linear\"}}],\"label\":\"80\",\"method\":\"animate\"},{\"args\":[[\"90\"],{\"frame\":{\"duration\":0,\"redraw\":false},\"mode\":\"immediate\",\"fromcurrent\":true,\"transition\":{\"duration\":0,\"easing\":\"linear\"}}],\"label\":\"90\",\"method\":\"animate\"},{\"args\":[[\"100\"],{\"frame\":{\"duration\":0,\"redraw\":false},\"mode\":\"immediate\",\"fromcurrent\":true,\"transition\":{\"duration\":0,\"easing\":\"linear\"}}],\"label\":\"100\",\"method\":\"animate\"},{\"args\":[[\"110\"],{\"frame\":{\"duration\":0,\"redraw\":false},\"mode\":\"immediate\",\"fromcurrent\":true,\"transition\":{\"duration\":0,\"easing\":\"linear\"}}],\"label\":\"110\",\"method\":\"animate\"},{\"args\":[[\"120\"],{\"frame\":{\"duration\":0,\"redraw\":false},\"mode\":\"immediate\",\"fromcurrent\":true,\"transition\":{\"duration\":0,\"easing\":\"linear\"}}],\"label\":\"120\",\"method\":\"animate\"},{\"args\":[[\"130\"],{\"frame\":{\"duration\":0,\"redraw\":false},\"mode\":\"immediate\",\"fromcurrent\":true,\"transition\":{\"duration\":0,\"easing\":\"linear\"}}],\"label\":\"130\",\"method\":\"animate\"},{\"args\":[[\"140\"],{\"frame\":{\"duration\":0,\"redraw\":false},\"mode\":\"immediate\",\"fromcurrent\":true,\"transition\":{\"duration\":0,\"easing\":\"linear\"}}],\"label\":\"140\",\"method\":\"animate\"},{\"args\":[[\"150\"],{\"frame\":{\"duration\":0,\"redraw\":false},\"mode\":\"immediate\",\"fromcurrent\":true,\"transition\":{\"duration\":0,\"easing\":\"linear\"}}],\"label\":\"150\",\"method\":\"animate\"},{\"args\":[[\"160\"],{\"frame\":{\"duration\":0,\"redraw\":false},\"mode\":\"immediate\",\"fromcurrent\":true,\"transition\":{\"duration\":0,\"easing\":\"linear\"}}],\"label\":\"160\",\"method\":\"animate\"},{\"args\":[[\"170\"],{\"frame\":{\"duration\":0,\"redraw\":false},\"mode\":\"immediate\",\"fromcurrent\":true,\"transition\":{\"duration\":0,\"easing\":\"linear\"}}],\"label\":\"170\",\"method\":\"animate\"},{\"args\":[[\"180\"],{\"frame\":{\"duration\":0,\"redraw\":false},\"mode\":\"immediate\",\"fromcurrent\":true,\"transition\":{\"duration\":0,\"easing\":\"linear\"}}],\"label\":\"180\",\"method\":\"animate\"},{\"args\":[[\"190\"],{\"frame\":{\"duration\":0,\"redraw\":false},\"mode\":\"immediate\",\"fromcurrent\":true,\"transition\":{\"duration\":0,\"easing\":\"linear\"}}],\"label\":\"190\",\"method\":\"animate\"},{\"args\":[[\"200\"],{\"frame\":{\"duration\":0,\"redraw\":false},\"mode\":\"immediate\",\"fromcurrent\":true,\"transition\":{\"duration\":0,\"easing\":\"linear\"}}],\"label\":\"200\",\"method\":\"animate\"},{\"args\":[[\"210\"],{\"frame\":{\"duration\":0,\"redraw\":false},\"mode\":\"immediate\",\"fromcurrent\":true,\"transition\":{\"duration\":0,\"easing\":\"linear\"}}],\"label\":\"210\",\"method\":\"animate\"},{\"args\":[[\"220\"],{\"frame\":{\"duration\":0,\"redraw\":false},\"mode\":\"immediate\",\"fromcurrent\":true,\"transition\":{\"duration\":0,\"easing\":\"linear\"}}],\"label\":\"220\",\"method\":\"animate\"},{\"args\":[[\"230\"],{\"frame\":{\"duration\":0,\"redraw\":false},\"mode\":\"immediate\",\"fromcurrent\":true,\"transition\":{\"duration\":0,\"easing\":\"linear\"}}],\"label\":\"230\",\"method\":\"animate\"},{\"args\":[[\"240\"],{\"frame\":{\"duration\":0,\"redraw\":false},\"mode\":\"immediate\",\"fromcurrent\":true,\"transition\":{\"duration\":0,\"easing\":\"linear\"}}],\"label\":\"240\",\"method\":\"animate\"},{\"args\":[[\"250\"],{\"frame\":{\"duration\":0,\"redraw\":false},\"mode\":\"immediate\",\"fromcurrent\":true,\"transition\":{\"duration\":0,\"easing\":\"linear\"}}],\"label\":\"250\",\"method\":\"animate\"},{\"args\":[[\"260\"],{\"frame\":{\"duration\":0,\"redraw\":false},\"mode\":\"immediate\",\"fromcurrent\":true,\"transition\":{\"duration\":0,\"easing\":\"linear\"}}],\"label\":\"260\",\"method\":\"animate\"},{\"args\":[[\"270\"],{\"frame\":{\"duration\":0,\"redraw\":false},\"mode\":\"immediate\",\"fromcurrent\":true,\"transition\":{\"duration\":0,\"easing\":\"linear\"}}],\"label\":\"270\",\"method\":\"animate\"},{\"args\":[[\"280\"],{\"frame\":{\"duration\":0,\"redraw\":false},\"mode\":\"immediate\",\"fromcurrent\":true,\"transition\":{\"duration\":0,\"easing\":\"linear\"}}],\"label\":\"280\",\"method\":\"animate\"},{\"args\":[[\"290\"],{\"frame\":{\"duration\":0,\"redraw\":false},\"mode\":\"immediate\",\"fromcurrent\":true,\"transition\":{\"duration\":0,\"easing\":\"linear\"}}],\"label\":\"290\",\"method\":\"animate\"},{\"args\":[[\"300\"],{\"frame\":{\"duration\":0,\"redraw\":false},\"mode\":\"immediate\",\"fromcurrent\":true,\"transition\":{\"duration\":0,\"easing\":\"linear\"}}],\"label\":\"300\",\"method\":\"animate\"},{\"args\":[[\"310\"],{\"frame\":{\"duration\":0,\"redraw\":false},\"mode\":\"immediate\",\"fromcurrent\":true,\"transition\":{\"duration\":0,\"easing\":\"linear\"}}],\"label\":\"310\",\"method\":\"animate\"},{\"args\":[[\"320\"],{\"frame\":{\"duration\":0,\"redraw\":false},\"mode\":\"immediate\",\"fromcurrent\":true,\"transition\":{\"duration\":0,\"easing\":\"linear\"}}],\"label\":\"320\",\"method\":\"animate\"},{\"args\":[[\"330\"],{\"frame\":{\"duration\":0,\"redraw\":false},\"mode\":\"immediate\",\"fromcurrent\":true,\"transition\":{\"duration\":0,\"easing\":\"linear\"}}],\"label\":\"330\",\"method\":\"animate\"},{\"args\":[[\"340\"],{\"frame\":{\"duration\":0,\"redraw\":false},\"mode\":\"immediate\",\"fromcurrent\":true,\"transition\":{\"duration\":0,\"easing\":\"linear\"}}],\"label\":\"340\",\"method\":\"animate\"},{\"args\":[[\"350\"],{\"frame\":{\"duration\":0,\"redraw\":false},\"mode\":\"immediate\",\"fromcurrent\":true,\"transition\":{\"duration\":0,\"easing\":\"linear\"}}],\"label\":\"350\",\"method\":\"animate\"},{\"args\":[[\"360\"],{\"frame\":{\"duration\":0,\"redraw\":false},\"mode\":\"immediate\",\"fromcurrent\":true,\"transition\":{\"duration\":0,\"easing\":\"linear\"}}],\"label\":\"360\",\"method\":\"animate\"},{\"args\":[[\"370\"],{\"frame\":{\"duration\":0,\"redraw\":false},\"mode\":\"immediate\",\"fromcurrent\":true,\"transition\":{\"duration\":0,\"easing\":\"linear\"}}],\"label\":\"370\",\"method\":\"animate\"},{\"args\":[[\"380\"],{\"frame\":{\"duration\":0,\"redraw\":false},\"mode\":\"immediate\",\"fromcurrent\":true,\"transition\":{\"duration\":0,\"easing\":\"linear\"}}],\"label\":\"380\",\"method\":\"animate\"},{\"args\":[[\"390\"],{\"frame\":{\"duration\":0,\"redraw\":false},\"mode\":\"immediate\",\"fromcurrent\":true,\"transition\":{\"duration\":0,\"easing\":\"linear\"}}],\"label\":\"390\",\"method\":\"animate\"},{\"args\":[[\"400\"],{\"frame\":{\"duration\":0,\"redraw\":false},\"mode\":\"immediate\",\"fromcurrent\":true,\"transition\":{\"duration\":0,\"easing\":\"linear\"}}],\"label\":\"400\",\"method\":\"animate\"},{\"args\":[[\"410\"],{\"frame\":{\"duration\":0,\"redraw\":false},\"mode\":\"immediate\",\"fromcurrent\":true,\"transition\":{\"duration\":0,\"easing\":\"linear\"}}],\"label\":\"410\",\"method\":\"animate\"},{\"args\":[[\"420\"],{\"frame\":{\"duration\":0,\"redraw\":false},\"mode\":\"immediate\",\"fromcurrent\":true,\"transition\":{\"duration\":0,\"easing\":\"linear\"}}],\"label\":\"420\",\"method\":\"animate\"},{\"args\":[[\"430\"],{\"frame\":{\"duration\":0,\"redraw\":false},\"mode\":\"immediate\",\"fromcurrent\":true,\"transition\":{\"duration\":0,\"easing\":\"linear\"}}],\"label\":\"430\",\"method\":\"animate\"},{\"args\":[[\"440\"],{\"frame\":{\"duration\":0,\"redraw\":false},\"mode\":\"immediate\",\"fromcurrent\":true,\"transition\":{\"duration\":0,\"easing\":\"linear\"}}],\"label\":\"440\",\"method\":\"animate\"},{\"args\":[[\"450\"],{\"frame\":{\"duration\":0,\"redraw\":false},\"mode\":\"immediate\",\"fromcurrent\":true,\"transition\":{\"duration\":0,\"easing\":\"linear\"}}],\"label\":\"450\",\"method\":\"animate\"},{\"args\":[[\"460\"],{\"frame\":{\"duration\":0,\"redraw\":false},\"mode\":\"immediate\",\"fromcurrent\":true,\"transition\":{\"duration\":0,\"easing\":\"linear\"}}],\"label\":\"460\",\"method\":\"animate\"},{\"args\":[[\"470\"],{\"frame\":{\"duration\":0,\"redraw\":false},\"mode\":\"immediate\",\"fromcurrent\":true,\"transition\":{\"duration\":0,\"easing\":\"linear\"}}],\"label\":\"470\",\"method\":\"animate\"},{\"args\":[[\"480\"],{\"frame\":{\"duration\":0,\"redraw\":false},\"mode\":\"immediate\",\"fromcurrent\":true,\"transition\":{\"duration\":0,\"easing\":\"linear\"}}],\"label\":\"480\",\"method\":\"animate\"},{\"args\":[[\"490\"],{\"frame\":{\"duration\":0,\"redraw\":false},\"mode\":\"immediate\",\"fromcurrent\":true,\"transition\":{\"duration\":0,\"easing\":\"linear\"}}],\"label\":\"490\",\"method\":\"animate\"},{\"args\":[[\"500\"],{\"frame\":{\"duration\":0,\"redraw\":false},\"mode\":\"immediate\",\"fromcurrent\":true,\"transition\":{\"duration\":0,\"easing\":\"linear\"}}],\"label\":\"500\",\"method\":\"animate\"},{\"args\":[[\"510\"],{\"frame\":{\"duration\":0,\"redraw\":false},\"mode\":\"immediate\",\"fromcurrent\":true,\"transition\":{\"duration\":0,\"easing\":\"linear\"}}],\"label\":\"510\",\"method\":\"animate\"},{\"args\":[[\"520\"],{\"frame\":{\"duration\":0,\"redraw\":false},\"mode\":\"immediate\",\"fromcurrent\":true,\"transition\":{\"duration\":0,\"easing\":\"linear\"}}],\"label\":\"520\",\"method\":\"animate\"},{\"args\":[[\"530\"],{\"frame\":{\"duration\":0,\"redraw\":false},\"mode\":\"immediate\",\"fromcurrent\":true,\"transition\":{\"duration\":0,\"easing\":\"linear\"}}],\"label\":\"530\",\"method\":\"animate\"},{\"args\":[[\"540\"],{\"frame\":{\"duration\":0,\"redraw\":false},\"mode\":\"immediate\",\"fromcurrent\":true,\"transition\":{\"duration\":0,\"easing\":\"linear\"}}],\"label\":\"540\",\"method\":\"animate\"},{\"args\":[[\"550\"],{\"frame\":{\"duration\":0,\"redraw\":false},\"mode\":\"immediate\",\"fromcurrent\":true,\"transition\":{\"duration\":0,\"easing\":\"linear\"}}],\"label\":\"550\",\"method\":\"animate\"},{\"args\":[[\"560\"],{\"frame\":{\"duration\":0,\"redraw\":false},\"mode\":\"immediate\",\"fromcurrent\":true,\"transition\":{\"duration\":0,\"easing\":\"linear\"}}],\"label\":\"560\",\"method\":\"animate\"},{\"args\":[[\"570\"],{\"frame\":{\"duration\":0,\"redraw\":false},\"mode\":\"immediate\",\"fromcurrent\":true,\"transition\":{\"duration\":0,\"easing\":\"linear\"}}],\"label\":\"570\",\"method\":\"animate\"},{\"args\":[[\"580\"],{\"frame\":{\"duration\":0,\"redraw\":false},\"mode\":\"immediate\",\"fromcurrent\":true,\"transition\":{\"duration\":0,\"easing\":\"linear\"}}],\"label\":\"580\",\"method\":\"animate\"},{\"args\":[[\"590\"],{\"frame\":{\"duration\":0,\"redraw\":false},\"mode\":\"immediate\",\"fromcurrent\":true,\"transition\":{\"duration\":0,\"easing\":\"linear\"}}],\"label\":\"590\",\"method\":\"animate\"},{\"args\":[[\"600\"],{\"frame\":{\"duration\":0,\"redraw\":false},\"mode\":\"immediate\",\"fromcurrent\":true,\"transition\":{\"duration\":0,\"easing\":\"linear\"}}],\"label\":\"600\",\"method\":\"animate\"},{\"args\":[[\"610\"],{\"frame\":{\"duration\":0,\"redraw\":false},\"mode\":\"immediate\",\"fromcurrent\":true,\"transition\":{\"duration\":0,\"easing\":\"linear\"}}],\"label\":\"610\",\"method\":\"animate\"},{\"args\":[[\"620\"],{\"frame\":{\"duration\":0,\"redraw\":false},\"mode\":\"immediate\",\"fromcurrent\":true,\"transition\":{\"duration\":0,\"easing\":\"linear\"}}],\"label\":\"620\",\"method\":\"animate\"},{\"args\":[[\"630\"],{\"frame\":{\"duration\":0,\"redraw\":false},\"mode\":\"immediate\",\"fromcurrent\":true,\"transition\":{\"duration\":0,\"easing\":\"linear\"}}],\"label\":\"630\",\"method\":\"animate\"},{\"args\":[[\"640\"],{\"frame\":{\"duration\":0,\"redraw\":false},\"mode\":\"immediate\",\"fromcurrent\":true,\"transition\":{\"duration\":0,\"easing\":\"linear\"}}],\"label\":\"640\",\"method\":\"animate\"},{\"args\":[[\"650\"],{\"frame\":{\"duration\":0,\"redraw\":false},\"mode\":\"immediate\",\"fromcurrent\":true,\"transition\":{\"duration\":0,\"easing\":\"linear\"}}],\"label\":\"650\",\"method\":\"animate\"},{\"args\":[[\"660\"],{\"frame\":{\"duration\":0,\"redraw\":false},\"mode\":\"immediate\",\"fromcurrent\":true,\"transition\":{\"duration\":0,\"easing\":\"linear\"}}],\"label\":\"660\",\"method\":\"animate\"},{\"args\":[[\"670\"],{\"frame\":{\"duration\":0,\"redraw\":false},\"mode\":\"immediate\",\"fromcurrent\":true,\"transition\":{\"duration\":0,\"easing\":\"linear\"}}],\"label\":\"670\",\"method\":\"animate\"},{\"args\":[[\"680\"],{\"frame\":{\"duration\":0,\"redraw\":false},\"mode\":\"immediate\",\"fromcurrent\":true,\"transition\":{\"duration\":0,\"easing\":\"linear\"}}],\"label\":\"680\",\"method\":\"animate\"},{\"args\":[[\"690\"],{\"frame\":{\"duration\":0,\"redraw\":false},\"mode\":\"immediate\",\"fromcurrent\":true,\"transition\":{\"duration\":0,\"easing\":\"linear\"}}],\"label\":\"690\",\"method\":\"animate\"},{\"args\":[[\"700\"],{\"frame\":{\"duration\":0,\"redraw\":false},\"mode\":\"immediate\",\"fromcurrent\":true,\"transition\":{\"duration\":0,\"easing\":\"linear\"}}],\"label\":\"700\",\"method\":\"animate\"},{\"args\":[[\"710\"],{\"frame\":{\"duration\":0,\"redraw\":false},\"mode\":\"immediate\",\"fromcurrent\":true,\"transition\":{\"duration\":0,\"easing\":\"linear\"}}],\"label\":\"710\",\"method\":\"animate\"},{\"args\":[[\"720\"],{\"frame\":{\"duration\":0,\"redraw\":false},\"mode\":\"immediate\",\"fromcurrent\":true,\"transition\":{\"duration\":0,\"easing\":\"linear\"}}],\"label\":\"720\",\"method\":\"animate\"},{\"args\":[[\"730\"],{\"frame\":{\"duration\":0,\"redraw\":false},\"mode\":\"immediate\",\"fromcurrent\":true,\"transition\":{\"duration\":0,\"easing\":\"linear\"}}],\"label\":\"730\",\"method\":\"animate\"},{\"args\":[[\"740\"],{\"frame\":{\"duration\":0,\"redraw\":false},\"mode\":\"immediate\",\"fromcurrent\":true,\"transition\":{\"duration\":0,\"easing\":\"linear\"}}],\"label\":\"740\",\"method\":\"animate\"},{\"args\":[[\"750\"],{\"frame\":{\"duration\":0,\"redraw\":false},\"mode\":\"immediate\",\"fromcurrent\":true,\"transition\":{\"duration\":0,\"easing\":\"linear\"}}],\"label\":\"750\",\"method\":\"animate\"},{\"args\":[[\"760\"],{\"frame\":{\"duration\":0,\"redraw\":false},\"mode\":\"immediate\",\"fromcurrent\":true,\"transition\":{\"duration\":0,\"easing\":\"linear\"}}],\"label\":\"760\",\"method\":\"animate\"},{\"args\":[[\"770\"],{\"frame\":{\"duration\":0,\"redraw\":false},\"mode\":\"immediate\",\"fromcurrent\":true,\"transition\":{\"duration\":0,\"easing\":\"linear\"}}],\"label\":\"770\",\"method\":\"animate\"},{\"args\":[[\"780\"],{\"frame\":{\"duration\":0,\"redraw\":false},\"mode\":\"immediate\",\"fromcurrent\":true,\"transition\":{\"duration\":0,\"easing\":\"linear\"}}],\"label\":\"780\",\"method\":\"animate\"},{\"args\":[[\"790\"],{\"frame\":{\"duration\":0,\"redraw\":false},\"mode\":\"immediate\",\"fromcurrent\":true,\"transition\":{\"duration\":0,\"easing\":\"linear\"}}],\"label\":\"790\",\"method\":\"animate\"},{\"args\":[[\"800\"],{\"frame\":{\"duration\":0,\"redraw\":false},\"mode\":\"immediate\",\"fromcurrent\":true,\"transition\":{\"duration\":0,\"easing\":\"linear\"}}],\"label\":\"800\",\"method\":\"animate\"},{\"args\":[[\"810\"],{\"frame\":{\"duration\":0,\"redraw\":false},\"mode\":\"immediate\",\"fromcurrent\":true,\"transition\":{\"duration\":0,\"easing\":\"linear\"}}],\"label\":\"810\",\"method\":\"animate\"},{\"args\":[[\"820\"],{\"frame\":{\"duration\":0,\"redraw\":false},\"mode\":\"immediate\",\"fromcurrent\":true,\"transition\":{\"duration\":0,\"easing\":\"linear\"}}],\"label\":\"820\",\"method\":\"animate\"},{\"args\":[[\"830\"],{\"frame\":{\"duration\":0,\"redraw\":false},\"mode\":\"immediate\",\"fromcurrent\":true,\"transition\":{\"duration\":0,\"easing\":\"linear\"}}],\"label\":\"830\",\"method\":\"animate\"},{\"args\":[[\"840\"],{\"frame\":{\"duration\":0,\"redraw\":false},\"mode\":\"immediate\",\"fromcurrent\":true,\"transition\":{\"duration\":0,\"easing\":\"linear\"}}],\"label\":\"840\",\"method\":\"animate\"},{\"args\":[[\"850\"],{\"frame\":{\"duration\":0,\"redraw\":false},\"mode\":\"immediate\",\"fromcurrent\":true,\"transition\":{\"duration\":0,\"easing\":\"linear\"}}],\"label\":\"850\",\"method\":\"animate\"},{\"args\":[[\"860\"],{\"frame\":{\"duration\":0,\"redraw\":false},\"mode\":\"immediate\",\"fromcurrent\":true,\"transition\":{\"duration\":0,\"easing\":\"linear\"}}],\"label\":\"860\",\"method\":\"animate\"},{\"args\":[[\"870\"],{\"frame\":{\"duration\":0,\"redraw\":false},\"mode\":\"immediate\",\"fromcurrent\":true,\"transition\":{\"duration\":0,\"easing\":\"linear\"}}],\"label\":\"870\",\"method\":\"animate\"},{\"args\":[[\"880\"],{\"frame\":{\"duration\":0,\"redraw\":false},\"mode\":\"immediate\",\"fromcurrent\":true,\"transition\":{\"duration\":0,\"easing\":\"linear\"}}],\"label\":\"880\",\"method\":\"animate\"},{\"args\":[[\"890\"],{\"frame\":{\"duration\":0,\"redraw\":false},\"mode\":\"immediate\",\"fromcurrent\":true,\"transition\":{\"duration\":0,\"easing\":\"linear\"}}],\"label\":\"890\",\"method\":\"animate\"},{\"args\":[[\"900\"],{\"frame\":{\"duration\":0,\"redraw\":false},\"mode\":\"immediate\",\"fromcurrent\":true,\"transition\":{\"duration\":0,\"easing\":\"linear\"}}],\"label\":\"900\",\"method\":\"animate\"},{\"args\":[[\"910\"],{\"frame\":{\"duration\":0,\"redraw\":false},\"mode\":\"immediate\",\"fromcurrent\":true,\"transition\":{\"duration\":0,\"easing\":\"linear\"}}],\"label\":\"910\",\"method\":\"animate\"},{\"args\":[[\"920\"],{\"frame\":{\"duration\":0,\"redraw\":false},\"mode\":\"immediate\",\"fromcurrent\":true,\"transition\":{\"duration\":0,\"easing\":\"linear\"}}],\"label\":\"920\",\"method\":\"animate\"},{\"args\":[[\"930\"],{\"frame\":{\"duration\":0,\"redraw\":false},\"mode\":\"immediate\",\"fromcurrent\":true,\"transition\":{\"duration\":0,\"easing\":\"linear\"}}],\"label\":\"930\",\"method\":\"animate\"},{\"args\":[[\"940\"],{\"frame\":{\"duration\":0,\"redraw\":false},\"mode\":\"immediate\",\"fromcurrent\":true,\"transition\":{\"duration\":0,\"easing\":\"linear\"}}],\"label\":\"940\",\"method\":\"animate\"},{\"args\":[[\"950\"],{\"frame\":{\"duration\":0,\"redraw\":false},\"mode\":\"immediate\",\"fromcurrent\":true,\"transition\":{\"duration\":0,\"easing\":\"linear\"}}],\"label\":\"950\",\"method\":\"animate\"},{\"args\":[[\"960\"],{\"frame\":{\"duration\":0,\"redraw\":false},\"mode\":\"immediate\",\"fromcurrent\":true,\"transition\":{\"duration\":0,\"easing\":\"linear\"}}],\"label\":\"960\",\"method\":\"animate\"},{\"args\":[[\"970\"],{\"frame\":{\"duration\":0,\"redraw\":false},\"mode\":\"immediate\",\"fromcurrent\":true,\"transition\":{\"duration\":0,\"easing\":\"linear\"}}],\"label\":\"970\",\"method\":\"animate\"},{\"args\":[[\"980\"],{\"frame\":{\"duration\":0,\"redraw\":false},\"mode\":\"immediate\",\"fromcurrent\":true,\"transition\":{\"duration\":0,\"easing\":\"linear\"}}],\"label\":\"980\",\"method\":\"animate\"},{\"args\":[[\"990\"],{\"frame\":{\"duration\":0,\"redraw\":false},\"mode\":\"immediate\",\"fromcurrent\":true,\"transition\":{\"duration\":0,\"easing\":\"linear\"}}],\"label\":\"990\",\"method\":\"animate\"},{\"args\":[[\"1000\"],{\"frame\":{\"duration\":0,\"redraw\":false},\"mode\":\"immediate\",\"fromcurrent\":true,\"transition\":{\"duration\":0,\"easing\":\"linear\"}}],\"label\":\"1000\",\"method\":\"animate\"}],\"x\":0.1,\"xanchor\":\"left\",\"y\":0,\"yanchor\":\"top\"}],\"title\":{\"text\":\"General\"},\"width\":700,\"height\":700,\"plot_bgcolor\":\"black\"},                        {\"responsive\": true}                    ).then(function(){\n",
              "                            Plotly.addFrames('b4f1f4fc-55e8-4de4-af23-9b3e970934c9', [{\"data\":[{\"hovertemplate\":\"<b>%{hovertext}</b><br><br>time=0<br>phi=%{x}<br>psi=%{y}<extra></extra>\",\"hovertext\":[\"ARG104\",\"ARG12\",\"ARG24\",\"ARG27\",\"ARG32\",\"ARG40\",\"ARG84\",\"ARG96\"],\"ids\":[\"ARG104\",\"ARG12\",\"ARG24\",\"ARG27\",\"ARG32\",\"ARG40\",\"ARG84\",\"ARG96\"],\"legendgroup\":\"\",\"marker\":{\"color\":\"white\",\"symbol\":\"circle\"},\"mode\":\"markers\",\"name\":\"\",\"orientation\":\"v\",\"showlegend\":false,\"x\":[-136.129,-69.3713,-51.315,-67.7192,-97.7959,-143.643,-81.7028,-49.8955],\"xaxis\":\"x\",\"y\":[179.416,119.317,-40.8482,-29.6525,-25.3432,159.14,-31.8495,-51.0809],\"yaxis\":\"y\",\"type\":\"scatter\"}],\"name\":\"0\"},{\"data\":[{\"hovertemplate\":\"<b>%{hovertext}</b><br><br>time=10<br>phi=%{x}<br>psi=%{y}<extra></extra>\",\"hovertext\":[\"ARG104\",\"ARG12\",\"ARG24\",\"ARG27\",\"ARG32\",\"ARG40\",\"ARG84\",\"ARG96\"],\"ids\":[\"ARG104\",\"ARG12\",\"ARG24\",\"ARG27\",\"ARG32\",\"ARG40\",\"ARG84\",\"ARG96\"],\"legendgroup\":\"\",\"marker\":{\"color\":\"white\",\"symbol\":\"circle\"},\"mode\":\"markers\",\"name\":\"\",\"orientation\":\"v\",\"showlegend\":false,\"x\":[-124.437,-70.7212,-67.933,-61.071,-92.7617,-112.186,-82.7982,-64.4558],\"xaxis\":\"x\",\"y\":[149.518,120.545,-34.5051,-13.8313,-1.99708,162.81,-30.6844,-44.0951],\"yaxis\":\"y\",\"type\":\"scatter\"}],\"name\":\"10\"},{\"data\":[{\"hovertemplate\":\"<b>%{hovertext}</b><br><br>time=20<br>phi=%{x}<br>psi=%{y}<extra></extra>\",\"hovertext\":[\"ARG104\",\"ARG12\",\"ARG24\",\"ARG27\",\"ARG32\",\"ARG40\",\"ARG84\",\"ARG96\"],\"ids\":[\"ARG104\",\"ARG12\",\"ARG24\",\"ARG27\",\"ARG32\",\"ARG40\",\"ARG84\",\"ARG96\"],\"legendgroup\":\"\",\"marker\":{\"color\":\"white\",\"symbol\":\"circle\"},\"mode\":\"markers\",\"name\":\"\",\"orientation\":\"v\",\"showlegend\":false,\"x\":[-143.429,-85.7106,-63.0858,-59.1881,-108.659,-104.63,-50.8784,-74.0163],\"xaxis\":\"x\",\"y\":[159.308,119.451,-46.9129,-34.5304,-17.018,164.629,-37.5155,-41.2077],\"yaxis\":\"y\",\"type\":\"scatter\"}],\"name\":\"20\"},{\"data\":[{\"hovertemplate\":\"<b>%{hovertext}</b><br><br>time=30<br>phi=%{x}<br>psi=%{y}<extra></extra>\",\"hovertext\":[\"ARG104\",\"ARG12\",\"ARG24\",\"ARG27\",\"ARG32\",\"ARG40\",\"ARG84\",\"ARG96\"],\"ids\":[\"ARG104\",\"ARG12\",\"ARG24\",\"ARG27\",\"ARG32\",\"ARG40\",\"ARG84\",\"ARG96\"],\"legendgroup\":\"\",\"marker\":{\"color\":\"white\",\"symbol\":\"circle\"},\"mode\":\"markers\",\"name\":\"\",\"orientation\":\"v\",\"showlegend\":false,\"x\":[-114.242,-71.0167,-55.1203,-36.6359,-76.6766,-125.798,-81.6786,-71.3195],\"xaxis\":\"x\",\"y\":[110.729,130.291,-40.4006,-33.6897,-14.693,149.664,-33.5716,-49.9687],\"yaxis\":\"y\",\"type\":\"scatter\"}],\"name\":\"30\"},{\"data\":[{\"hovertemplate\":\"<b>%{hovertext}</b><br><br>time=40<br>phi=%{x}<br>psi=%{y}<extra></extra>\",\"hovertext\":[\"ARG104\",\"ARG12\",\"ARG24\",\"ARG27\",\"ARG32\",\"ARG40\",\"ARG84\",\"ARG96\"],\"ids\":[\"ARG104\",\"ARG12\",\"ARG24\",\"ARG27\",\"ARG32\",\"ARG40\",\"ARG84\",\"ARG96\"],\"legendgroup\":\"\",\"marker\":{\"color\":\"white\",\"symbol\":\"circle\"},\"mode\":\"markers\",\"name\":\"\",\"orientation\":\"v\",\"showlegend\":false,\"x\":[-121.334,-71.5495,-63.2886,-57.6786,-85.7422,-129.164,-74.1354,-68.68],\"xaxis\":\"x\",\"y\":[130.179,113.017,-35.1573,-18.8332,-24.4747,143.271,-30.7282,-58.383],\"yaxis\":\"y\",\"type\":\"scatter\"}],\"name\":\"40\"},{\"data\":[{\"hovertemplate\":\"<b>%{hovertext}</b><br><br>time=50<br>phi=%{x}<br>psi=%{y}<extra></extra>\",\"hovertext\":[\"ARG104\",\"ARG12\",\"ARG24\",\"ARG27\",\"ARG32\",\"ARG40\",\"ARG84\",\"ARG96\"],\"ids\":[\"ARG104\",\"ARG12\",\"ARG24\",\"ARG27\",\"ARG32\",\"ARG40\",\"ARG84\",\"ARG96\"],\"legendgroup\":\"\",\"marker\":{\"color\":\"white\",\"symbol\":\"circle\"},\"mode\":\"markers\",\"name\":\"\",\"orientation\":\"v\",\"showlegend\":false,\"x\":[-114.854,-75.7087,-63.1861,-75.4087,-95.3981,-84.4661,-99.4173,-77.7156],\"xaxis\":\"x\",\"y\":[122.577,123.734,-18.496,-7.10404,2.632,162.925,-33.5576,-37.2741],\"yaxis\":\"y\",\"type\":\"scatter\"}],\"name\":\"50\"},{\"data\":[{\"hovertemplate\":\"<b>%{hovertext}</b><br><br>time=60<br>phi=%{x}<br>psi=%{y}<extra></extra>\",\"hovertext\":[\"ARG104\",\"ARG12\",\"ARG24\",\"ARG27\",\"ARG32\",\"ARG40\",\"ARG84\",\"ARG96\"],\"ids\":[\"ARG104\",\"ARG12\",\"ARG24\",\"ARG27\",\"ARG32\",\"ARG40\",\"ARG84\",\"ARG96\"],\"legendgroup\":\"\",\"marker\":{\"color\":\"white\",\"symbol\":\"circle\"},\"mode\":\"markers\",\"name\":\"\",\"orientation\":\"v\",\"showlegend\":false,\"x\":[-91.8932,-105.615,-71.8993,-76.4395,-104.659,-147.665,-79.8726,-103.109],\"xaxis\":\"x\",\"y\":[134.309,130.135,-31.9535,-9.87567,0.764589,164.33,-36.1539,-48.5134],\"yaxis\":\"y\",\"type\":\"scatter\"}],\"name\":\"60\"},{\"data\":[{\"hovertemplate\":\"<b>%{hovertext}</b><br><br>time=70<br>phi=%{x}<br>psi=%{y}<extra></extra>\",\"hovertext\":[\"ARG104\",\"ARG12\",\"ARG24\",\"ARG27\",\"ARG32\",\"ARG40\",\"ARG84\",\"ARG96\"],\"ids\":[\"ARG104\",\"ARG12\",\"ARG24\",\"ARG27\",\"ARG32\",\"ARG40\",\"ARG84\",\"ARG96\"],\"legendgroup\":\"\",\"marker\":{\"color\":\"white\",\"symbol\":\"circle\"},\"mode\":\"markers\",\"name\":\"\",\"orientation\":\"v\",\"showlegend\":false,\"x\":[-59.2533,-64.2142,-55.0691,-48.3321,-107.6,-106.707,-75.373,-102.826],\"xaxis\":\"x\",\"y\":[98.931,129.619,-35.7718,-13.9439,1.79149,146.699,-35.5555,-50.0474],\"yaxis\":\"y\",\"type\":\"scatter\"}],\"name\":\"70\"},{\"data\":[{\"hovertemplate\":\"<b>%{hovertext}</b><br><br>time=80<br>phi=%{x}<br>psi=%{y}<extra></extra>\",\"hovertext\":[\"ARG104\",\"ARG12\",\"ARG24\",\"ARG27\",\"ARG32\",\"ARG40\",\"ARG84\",\"ARG96\"],\"ids\":[\"ARG104\",\"ARG12\",\"ARG24\",\"ARG27\",\"ARG32\",\"ARG40\",\"ARG84\",\"ARG96\"],\"legendgroup\":\"\",\"marker\":{\"color\":\"white\",\"symbol\":\"circle\"},\"mode\":\"markers\",\"name\":\"\",\"orientation\":\"v\",\"showlegend\":false,\"x\":[-73.2371,-56.0276,-61.6269,-70.7231,-109.372,-158.286,-85.1221,-91.7246],\"xaxis\":\"x\",\"y\":[139.699,123.477,-26.7243,-9.66651,0.840397,161.029,-40.1066,-69.8045],\"yaxis\":\"y\",\"type\":\"scatter\"}],\"name\":\"80\"},{\"data\":[{\"hovertemplate\":\"<b>%{hovertext}</b><br><br>time=90<br>phi=%{x}<br>psi=%{y}<extra></extra>\",\"hovertext\":[\"ARG104\",\"ARG12\",\"ARG24\",\"ARG27\",\"ARG32\",\"ARG40\",\"ARG84\",\"ARG96\"],\"ids\":[\"ARG104\",\"ARG12\",\"ARG24\",\"ARG27\",\"ARG32\",\"ARG40\",\"ARG84\",\"ARG96\"],\"legendgroup\":\"\",\"marker\":{\"color\":\"white\",\"symbol\":\"circle\"},\"mode\":\"markers\",\"name\":\"\",\"orientation\":\"v\",\"showlegend\":false,\"x\":[-73.0599,-84.4132,-54.3575,-58.6769,-108.652,-147.832,-93.0316,-91.6242],\"xaxis\":\"x\",\"y\":[-174.147,110.853,-34.7199,-14.8221,6.21737,177.529,-35.6853,-35.1138],\"yaxis\":\"y\",\"type\":\"scatter\"}],\"name\":\"90\"},{\"data\":[{\"hovertemplate\":\"<b>%{hovertext}</b><br><br>time=100<br>phi=%{x}<br>psi=%{y}<extra></extra>\",\"hovertext\":[\"ARG104\",\"ARG12\",\"ARG24\",\"ARG27\",\"ARG32\",\"ARG40\",\"ARG84\",\"ARG96\"],\"ids\":[\"ARG104\",\"ARG12\",\"ARG24\",\"ARG27\",\"ARG32\",\"ARG40\",\"ARG84\",\"ARG96\"],\"legendgroup\":\"\",\"marker\":{\"color\":\"white\",\"symbol\":\"circle\"},\"mode\":\"markers\",\"name\":\"\",\"orientation\":\"v\",\"showlegend\":false,\"x\":[-106.366,-83.9633,-62.7515,-67.9893,-129.358,-155.0,-93.9567,-87.6724],\"xaxis\":\"x\",\"y\":[171.005,131.541,-42.3077,-9.87896,11.3708,152.393,-41.4124,-41.2032],\"yaxis\":\"y\",\"type\":\"scatter\"}],\"name\":\"100\"},{\"data\":[{\"hovertemplate\":\"<b>%{hovertext}</b><br><br>time=110<br>phi=%{x}<br>psi=%{y}<extra></extra>\",\"hovertext\":[\"ARG104\",\"ARG12\",\"ARG24\",\"ARG27\",\"ARG32\",\"ARG40\",\"ARG84\",\"ARG96\"],\"ids\":[\"ARG104\",\"ARG12\",\"ARG24\",\"ARG27\",\"ARG32\",\"ARG40\",\"ARG84\",\"ARG96\"],\"legendgroup\":\"\",\"marker\":{\"color\":\"white\",\"symbol\":\"circle\"},\"mode\":\"markers\",\"name\":\"\",\"orientation\":\"v\",\"showlegend\":false,\"x\":[-140.181,-75.9438,-87.7151,-64.7073,-103.651,-143.588,-85.5337,-83.3797],\"xaxis\":\"x\",\"y\":[-127.505,125.451,-31.4286,-15.6447,8.27481,147.452,-35.6796,-33.881],\"yaxis\":\"y\",\"type\":\"scatter\"}],\"name\":\"110\"},{\"data\":[{\"hovertemplate\":\"<b>%{hovertext}</b><br><br>time=120<br>phi=%{x}<br>psi=%{y}<extra></extra>\",\"hovertext\":[\"ARG104\",\"ARG12\",\"ARG24\",\"ARG27\",\"ARG32\",\"ARG40\",\"ARG84\",\"ARG96\"],\"ids\":[\"ARG104\",\"ARG12\",\"ARG24\",\"ARG27\",\"ARG32\",\"ARG40\",\"ARG84\",\"ARG96\"],\"legendgroup\":\"\",\"marker\":{\"color\":\"white\",\"symbol\":\"circle\"},\"mode\":\"markers\",\"name\":\"\",\"orientation\":\"v\",\"showlegend\":false,\"x\":[-101.534,-66.9335,-61.0937,-79.9054,-115.197,-105.519,-74.9443,-57.0287],\"xaxis\":\"x\",\"y\":[-66.5239,117.366,-35.2439,1.54749,2.94651,162.164,-23.9026,-54.8841],\"yaxis\":\"y\",\"type\":\"scatter\"}],\"name\":\"120\"},{\"data\":[{\"hovertemplate\":\"<b>%{hovertext}</b><br><br>time=130<br>phi=%{x}<br>psi=%{y}<extra></extra>\",\"hovertext\":[\"ARG104\",\"ARG12\",\"ARG24\",\"ARG27\",\"ARG32\",\"ARG40\",\"ARG84\",\"ARG96\"],\"ids\":[\"ARG104\",\"ARG12\",\"ARG24\",\"ARG27\",\"ARG32\",\"ARG40\",\"ARG84\",\"ARG96\"],\"legendgroup\":\"\",\"marker\":{\"color\":\"white\",\"symbol\":\"circle\"},\"mode\":\"markers\",\"name\":\"\",\"orientation\":\"v\",\"showlegend\":false,\"x\":[-95.1814,-84.1801,-43.375,-69.616,-111.35,-100.941,-75.1257,-66.0023],\"xaxis\":\"x\",\"y\":[-39.3383,106.889,-42.2806,-7.38424,10.0472,166.418,-44.6128,-44.715],\"yaxis\":\"y\",\"type\":\"scatter\"}],\"name\":\"130\"},{\"data\":[{\"hovertemplate\":\"<b>%{hovertext}</b><br><br>time=140<br>phi=%{x}<br>psi=%{y}<extra></extra>\",\"hovertext\":[\"ARG104\",\"ARG12\",\"ARG24\",\"ARG27\",\"ARG32\",\"ARG40\",\"ARG84\",\"ARG96\"],\"ids\":[\"ARG104\",\"ARG12\",\"ARG24\",\"ARG27\",\"ARG32\",\"ARG40\",\"ARG84\",\"ARG96\"],\"legendgroup\":\"\",\"marker\":{\"color\":\"white\",\"symbol\":\"circle\"},\"mode\":\"markers\",\"name\":\"\",\"orientation\":\"v\",\"showlegend\":false,\"x\":[-76.8109,-71.6908,-62.4503,-58.2832,-89.6822,-102.479,-74.0506,-77.8397],\"xaxis\":\"x\",\"y\":[-23.7582,116.777,-24.443,-25.8732,-11.3491,163.761,-40.6381,-60.5788],\"yaxis\":\"y\",\"type\":\"scatter\"}],\"name\":\"140\"},{\"data\":[{\"hovertemplate\":\"<b>%{hovertext}</b><br><br>time=150<br>phi=%{x}<br>psi=%{y}<extra></extra>\",\"hovertext\":[\"ARG104\",\"ARG12\",\"ARG24\",\"ARG27\",\"ARG32\",\"ARG40\",\"ARG84\",\"ARG96\"],\"ids\":[\"ARG104\",\"ARG12\",\"ARG24\",\"ARG27\",\"ARG32\",\"ARG40\",\"ARG84\",\"ARG96\"],\"legendgroup\":\"\",\"marker\":{\"color\":\"white\",\"symbol\":\"circle\"},\"mode\":\"markers\",\"name\":\"\",\"orientation\":\"v\",\"showlegend\":false,\"x\":[-82.5551,-97.9159,-66.8058,-54.808,-87.1324,-119.798,-68.4768,-92.7905],\"xaxis\":\"x\",\"y\":[-15.2405,115.439,-38.3178,-15.481,-7.22704,164.67,-47.8663,-56.1091],\"yaxis\":\"y\",\"type\":\"scatter\"}],\"name\":\"150\"},{\"data\":[{\"hovertemplate\":\"<b>%{hovertext}</b><br><br>time=160<br>phi=%{x}<br>psi=%{y}<extra></extra>\",\"hovertext\":[\"ARG104\",\"ARG12\",\"ARG24\",\"ARG27\",\"ARG32\",\"ARG40\",\"ARG84\",\"ARG96\"],\"ids\":[\"ARG104\",\"ARG12\",\"ARG24\",\"ARG27\",\"ARG32\",\"ARG40\",\"ARG84\",\"ARG96\"],\"legendgroup\":\"\",\"marker\":{\"color\":\"white\",\"symbol\":\"circle\"},\"mode\":\"markers\",\"name\":\"\",\"orientation\":\"v\",\"showlegend\":false,\"x\":[-78.1538,-89.6729,-65.6663,-40.5465,-94.3806,-118.931,-60.6137,-101.979],\"xaxis\":\"x\",\"y\":[-27.1452,125.172,-37.3083,-10.9826,-12.361,178.036,-37.2745,-36.2244],\"yaxis\":\"y\",\"type\":\"scatter\"}],\"name\":\"160\"},{\"data\":[{\"hovertemplate\":\"<b>%{hovertext}</b><br><br>time=170<br>phi=%{x}<br>psi=%{y}<extra></extra>\",\"hovertext\":[\"ARG104\",\"ARG12\",\"ARG24\",\"ARG27\",\"ARG32\",\"ARG40\",\"ARG84\",\"ARG96\"],\"ids\":[\"ARG104\",\"ARG12\",\"ARG24\",\"ARG27\",\"ARG32\",\"ARG40\",\"ARG84\",\"ARG96\"],\"legendgroup\":\"\",\"marker\":{\"color\":\"white\",\"symbol\":\"circle\"},\"mode\":\"markers\",\"name\":\"\",\"orientation\":\"v\",\"showlegend\":false,\"x\":[-92.6974,-79.7729,-65.4462,-56.6592,-101.275,-131.599,-86.0249,-92.7172],\"xaxis\":\"x\",\"y\":[-18.9275,120.089,-44.8938,-3.65537,-3.56767,166.586,-34.7201,-38.9226],\"yaxis\":\"y\",\"type\":\"scatter\"}],\"name\":\"170\"},{\"data\":[{\"hovertemplate\":\"<b>%{hovertext}</b><br><br>time=180<br>phi=%{x}<br>psi=%{y}<extra></extra>\",\"hovertext\":[\"ARG104\",\"ARG12\",\"ARG24\",\"ARG27\",\"ARG32\",\"ARG40\",\"ARG84\",\"ARG96\"],\"ids\":[\"ARG104\",\"ARG12\",\"ARG24\",\"ARG27\",\"ARG32\",\"ARG40\",\"ARG84\",\"ARG96\"],\"legendgroup\":\"\",\"marker\":{\"color\":\"white\",\"symbol\":\"circle\"},\"mode\":\"markers\",\"name\":\"\",\"orientation\":\"v\",\"showlegend\":false,\"x\":[-94.3282,-80.3713,-53.9537,-57.3071,-104.319,-95.9637,-80.6433,-98.7053],\"xaxis\":\"x\",\"y\":[25.2365,119.634,-46.8577,-18.0254,-17.1413,176.228,-33.1051,-36.1869],\"yaxis\":\"y\",\"type\":\"scatter\"}],\"name\":\"180\"},{\"data\":[{\"hovertemplate\":\"<b>%{hovertext}</b><br><br>time=190<br>phi=%{x}<br>psi=%{y}<extra></extra>\",\"hovertext\":[\"ARG104\",\"ARG12\",\"ARG24\",\"ARG27\",\"ARG32\",\"ARG40\",\"ARG84\",\"ARG96\"],\"ids\":[\"ARG104\",\"ARG12\",\"ARG24\",\"ARG27\",\"ARG32\",\"ARG40\",\"ARG84\",\"ARG96\"],\"legendgroup\":\"\",\"marker\":{\"color\":\"white\",\"symbol\":\"circle\"},\"mode\":\"markers\",\"name\":\"\",\"orientation\":\"v\",\"showlegend\":false,\"x\":[-119.804,-79.0202,-46.234,-72.81,-101.961,-146.736,-60.1007,-67.0831],\"xaxis\":\"x\",\"y\":[-46.6922,120.539,-48.9719,-6.64295,7.04114,159.135,-30.8176,-52.1942],\"yaxis\":\"y\",\"type\":\"scatter\"}],\"name\":\"190\"},{\"data\":[{\"hovertemplate\":\"<b>%{hovertext}</b><br><br>time=200<br>phi=%{x}<br>psi=%{y}<extra></extra>\",\"hovertext\":[\"ARG104\",\"ARG12\",\"ARG24\",\"ARG27\",\"ARG32\",\"ARG40\",\"ARG84\",\"ARG96\"],\"ids\":[\"ARG104\",\"ARG12\",\"ARG24\",\"ARG27\",\"ARG32\",\"ARG40\",\"ARG84\",\"ARG96\"],\"legendgroup\":\"\",\"marker\":{\"color\":\"white\",\"symbol\":\"circle\"},\"mode\":\"markers\",\"name\":\"\",\"orientation\":\"v\",\"showlegend\":false,\"x\":[-128.116,-93.1208,-63.2335,-53.1379,-94.7205,-137.46,-94.2639,-84.3109],\"xaxis\":\"x\",\"y\":[-8.91388,118.951,-37.2599,-14.9362,-12.4785,151.713,-37.4881,-53.2875],\"yaxis\":\"y\",\"type\":\"scatter\"}],\"name\":\"200\"},{\"data\":[{\"hovertemplate\":\"<b>%{hovertext}</b><br><br>time=210<br>phi=%{x}<br>psi=%{y}<extra></extra>\",\"hovertext\":[\"ARG104\",\"ARG12\",\"ARG24\",\"ARG27\",\"ARG32\",\"ARG40\",\"ARG84\",\"ARG96\"],\"ids\":[\"ARG104\",\"ARG12\",\"ARG24\",\"ARG27\",\"ARG32\",\"ARG40\",\"ARG84\",\"ARG96\"],\"legendgroup\":\"\",\"marker\":{\"color\":\"white\",\"symbol\":\"circle\"},\"mode\":\"markers\",\"name\":\"\",\"orientation\":\"v\",\"showlegend\":false,\"x\":[-86.2093,-75.1622,-71.2958,-69.905,-115.777,-124.341,-91.3064,-77.7755],\"xaxis\":\"x\",\"y\":[15.8274,109.979,-25.4087,-18.5952,3.04911,171.308,-36.7968,-46.6976],\"yaxis\":\"y\",\"type\":\"scatter\"}],\"name\":\"210\"},{\"data\":[{\"hovertemplate\":\"<b>%{hovertext}</b><br><br>time=220<br>phi=%{x}<br>psi=%{y}<extra></extra>\",\"hovertext\":[\"ARG104\",\"ARG12\",\"ARG24\",\"ARG27\",\"ARG32\",\"ARG40\",\"ARG84\",\"ARG96\"],\"ids\":[\"ARG104\",\"ARG12\",\"ARG24\",\"ARG27\",\"ARG32\",\"ARG40\",\"ARG84\",\"ARG96\"],\"legendgroup\":\"\",\"marker\":{\"color\":\"white\",\"symbol\":\"circle\"},\"mode\":\"markers\",\"name\":\"\",\"orientation\":\"v\",\"showlegend\":false,\"x\":[-72.7045,-82.5399,-60.4442,-65.7486,-85.7005,-114.76,-88.2321,-85.6088],\"xaxis\":\"x\",\"y\":[-36.9286,106.444,-26.575,-20.3384,-13.4756,150.494,-20.9384,-19.4877],\"yaxis\":\"y\",\"type\":\"scatter\"}],\"name\":\"220\"},{\"data\":[{\"hovertemplate\":\"<b>%{hovertext}</b><br><br>time=230<br>phi=%{x}<br>psi=%{y}<extra></extra>\",\"hovertext\":[\"ARG104\",\"ARG12\",\"ARG24\",\"ARG27\",\"ARG32\",\"ARG40\",\"ARG84\",\"ARG96\"],\"ids\":[\"ARG104\",\"ARG12\",\"ARG24\",\"ARG27\",\"ARG32\",\"ARG40\",\"ARG84\",\"ARG96\"],\"legendgroup\":\"\",\"marker\":{\"color\":\"white\",\"symbol\":\"circle\"},\"mode\":\"markers\",\"name\":\"\",\"orientation\":\"v\",\"showlegend\":false,\"x\":[-81.46,-77.0279,-76.8566,-52.3679,-112.135,-95.2843,-90.5242,-76.3885],\"xaxis\":\"x\",\"y\":[-141.549,110.369,-41.9756,-37.07,-9.52513,151.322,-32.3629,-24.5446],\"yaxis\":\"y\",\"type\":\"scatter\"}],\"name\":\"230\"},{\"data\":[{\"hovertemplate\":\"<b>%{hovertext}</b><br><br>time=240<br>phi=%{x}<br>psi=%{y}<extra></extra>\",\"hovertext\":[\"ARG104\",\"ARG12\",\"ARG24\",\"ARG27\",\"ARG32\",\"ARG40\",\"ARG84\",\"ARG96\"],\"ids\":[\"ARG104\",\"ARG12\",\"ARG24\",\"ARG27\",\"ARG32\",\"ARG40\",\"ARG84\",\"ARG96\"],\"legendgroup\":\"\",\"marker\":{\"color\":\"white\",\"symbol\":\"circle\"},\"mode\":\"markers\",\"name\":\"\",\"orientation\":\"v\",\"showlegend\":false,\"x\":[-66.7604,-85.13,-42.3034,-62.2509,-113.063,-95.458,-67.2699,-75.6309],\"xaxis\":\"x\",\"y\":[135.256,125.547,-41.8275,-21.4423,18.0058,139.028,-32.4943,-32.575],\"yaxis\":\"y\",\"type\":\"scatter\"}],\"name\":\"240\"},{\"data\":[{\"hovertemplate\":\"<b>%{hovertext}</b><br><br>time=250<br>phi=%{x}<br>psi=%{y}<extra></extra>\",\"hovertext\":[\"ARG104\",\"ARG12\",\"ARG24\",\"ARG27\",\"ARG32\",\"ARG40\",\"ARG84\",\"ARG96\"],\"ids\":[\"ARG104\",\"ARG12\",\"ARG24\",\"ARG27\",\"ARG32\",\"ARG40\",\"ARG84\",\"ARG96\"],\"legendgroup\":\"\",\"marker\":{\"color\":\"white\",\"symbol\":\"circle\"},\"mode\":\"markers\",\"name\":\"\",\"orientation\":\"v\",\"showlegend\":false,\"x\":[-151.843,-69.0643,-64.2298,-59.7716,-125.688,-108.422,-82.8075,-95.8376],\"xaxis\":\"x\",\"y\":[-179.239,113.345,-45.3021,-20.6231,7.67411,152.549,-37.5265,-34.6616],\"yaxis\":\"y\",\"type\":\"scatter\"}],\"name\":\"250\"},{\"data\":[{\"hovertemplate\":\"<b>%{hovertext}</b><br><br>time=260<br>phi=%{x}<br>psi=%{y}<extra></extra>\",\"hovertext\":[\"ARG104\",\"ARG12\",\"ARG24\",\"ARG27\",\"ARG32\",\"ARG40\",\"ARG84\",\"ARG96\"],\"ids\":[\"ARG104\",\"ARG12\",\"ARG24\",\"ARG27\",\"ARG32\",\"ARG40\",\"ARG84\",\"ARG96\"],\"legendgroup\":\"\",\"marker\":{\"color\":\"white\",\"symbol\":\"circle\"},\"mode\":\"markers\",\"name\":\"\",\"orientation\":\"v\",\"showlegend\":false,\"x\":[-140.911,-103.189,-46.1445,-72.8079,-95.8384,-107.049,-79.0092,-106.61],\"xaxis\":\"x\",\"y\":[-170.539,111.26,-51.8185,1.76852,4.11655,147.997,-16.0821,-38.9724],\"yaxis\":\"y\",\"type\":\"scatter\"}],\"name\":\"260\"},{\"data\":[{\"hovertemplate\":\"<b>%{hovertext}</b><br><br>time=270<br>phi=%{x}<br>psi=%{y}<extra></extra>\",\"hovertext\":[\"ARG104\",\"ARG12\",\"ARG24\",\"ARG27\",\"ARG32\",\"ARG40\",\"ARG84\",\"ARG96\"],\"ids\":[\"ARG104\",\"ARG12\",\"ARG24\",\"ARG27\",\"ARG32\",\"ARG40\",\"ARG84\",\"ARG96\"],\"legendgroup\":\"\",\"marker\":{\"color\":\"white\",\"symbol\":\"circle\"},\"mode\":\"markers\",\"name\":\"\",\"orientation\":\"v\",\"showlegend\":false,\"x\":[-126.53,-111.957,-67.0588,-38.6327,-101.316,-123.999,-84.2965,-87.2925],\"xaxis\":\"x\",\"y\":[-153.144,111.376,-22.8754,-18.4785,-14.7296,134.586,-25.8534,-45.4487],\"yaxis\":\"y\",\"type\":\"scatter\"}],\"name\":\"270\"},{\"data\":[{\"hovertemplate\":\"<b>%{hovertext}</b><br><br>time=280<br>phi=%{x}<br>psi=%{y}<extra></extra>\",\"hovertext\":[\"ARG104\",\"ARG12\",\"ARG24\",\"ARG27\",\"ARG32\",\"ARG40\",\"ARG84\",\"ARG96\"],\"ids\":[\"ARG104\",\"ARG12\",\"ARG24\",\"ARG27\",\"ARG32\",\"ARG40\",\"ARG84\",\"ARG96\"],\"legendgroup\":\"\",\"marker\":{\"color\":\"white\",\"symbol\":\"circle\"},\"mode\":\"markers\",\"name\":\"\",\"orientation\":\"v\",\"showlegend\":false,\"x\":[-146.817,-109.678,-61.0255,-69.7285,-107.313,-106.355,-76.9166,-106.564],\"xaxis\":\"x\",\"y\":[163.077,103.021,-36.6812,-23.9861,17.1288,150.563,-25.7944,-54.8039],\"yaxis\":\"y\",\"type\":\"scatter\"}],\"name\":\"280\"},{\"data\":[{\"hovertemplate\":\"<b>%{hovertext}</b><br><br>time=290<br>phi=%{x}<br>psi=%{y}<extra></extra>\",\"hovertext\":[\"ARG104\",\"ARG12\",\"ARG24\",\"ARG27\",\"ARG32\",\"ARG40\",\"ARG84\",\"ARG96\"],\"ids\":[\"ARG104\",\"ARG12\",\"ARG24\",\"ARG27\",\"ARG32\",\"ARG40\",\"ARG84\",\"ARG96\"],\"legendgroup\":\"\",\"marker\":{\"color\":\"white\",\"symbol\":\"circle\"},\"mode\":\"markers\",\"name\":\"\",\"orientation\":\"v\",\"showlegend\":false,\"x\":[-138.648,-72.0621,-82.6548,-65.0609,-124.123,-124.584,-82.034,-92.6609],\"xaxis\":\"x\",\"y\":[-169.434,116.367,-23.8964,-5.25353,2.14269,155.623,-14.7048,-55.4132],\"yaxis\":\"y\",\"type\":\"scatter\"}],\"name\":\"290\"},{\"data\":[{\"hovertemplate\":\"<b>%{hovertext}</b><br><br>time=300<br>phi=%{x}<br>psi=%{y}<extra></extra>\",\"hovertext\":[\"ARG104\",\"ARG12\",\"ARG24\",\"ARG27\",\"ARG32\",\"ARG40\",\"ARG84\",\"ARG96\"],\"ids\":[\"ARG104\",\"ARG12\",\"ARG24\",\"ARG27\",\"ARG32\",\"ARG40\",\"ARG84\",\"ARG96\"],\"legendgroup\":\"\",\"marker\":{\"color\":\"white\",\"symbol\":\"circle\"},\"mode\":\"markers\",\"name\":\"\",\"orientation\":\"v\",\"showlegend\":false,\"x\":[-133.487,-102.18,-66.2365,-61.8975,-102.742,-121.875,-69.5136,-102.094],\"xaxis\":\"x\",\"y\":[-164.401,109.64,-21.2875,-23.6496,5.72301,155.968,-23.8331,-32.4855],\"yaxis\":\"y\",\"type\":\"scatter\"}],\"name\":\"300\"},{\"data\":[{\"hovertemplate\":\"<b>%{hovertext}</b><br><br>time=310<br>phi=%{x}<br>psi=%{y}<extra></extra>\",\"hovertext\":[\"ARG104\",\"ARG12\",\"ARG24\",\"ARG27\",\"ARG32\",\"ARG40\",\"ARG84\",\"ARG96\"],\"ids\":[\"ARG104\",\"ARG12\",\"ARG24\",\"ARG27\",\"ARG32\",\"ARG40\",\"ARG84\",\"ARG96\"],\"legendgroup\":\"\",\"marker\":{\"color\":\"white\",\"symbol\":\"circle\"},\"mode\":\"markers\",\"name\":\"\",\"orientation\":\"v\",\"showlegend\":false,\"x\":[-129.005,-66.3826,-69.2418,-49.0863,-111.324,-144.596,-57.649,-87.7963],\"xaxis\":\"x\",\"y\":[-138.326,121.401,-38.6457,-37.3685,26.1337,153.897,-29.0963,-12.5621],\"yaxis\":\"y\",\"type\":\"scatter\"}],\"name\":\"310\"},{\"data\":[{\"hovertemplate\":\"<b>%{hovertext}</b><br><br>time=320<br>phi=%{x}<br>psi=%{y}<extra></extra>\",\"hovertext\":[\"ARG104\",\"ARG12\",\"ARG24\",\"ARG27\",\"ARG32\",\"ARG40\",\"ARG84\",\"ARG96\"],\"ids\":[\"ARG104\",\"ARG12\",\"ARG24\",\"ARG27\",\"ARG32\",\"ARG40\",\"ARG84\",\"ARG96\"],\"legendgroup\":\"\",\"marker\":{\"color\":\"white\",\"symbol\":\"circle\"},\"mode\":\"markers\",\"name\":\"\",\"orientation\":\"v\",\"showlegend\":false,\"x\":[-119.14,-83.478,-56.2589,-60.667,-110.12,-100.482,-67.7148,-66.9037],\"xaxis\":\"x\",\"y\":[-177.701,121.564,-40.7761,-14.7312,2.72526,150.682,-38.2372,-41.3853],\"yaxis\":\"y\",\"type\":\"scatter\"}],\"name\":\"320\"},{\"data\":[{\"hovertemplate\":\"<b>%{hovertext}</b><br><br>time=330<br>phi=%{x}<br>psi=%{y}<extra></extra>\",\"hovertext\":[\"ARG104\",\"ARG12\",\"ARG24\",\"ARG27\",\"ARG32\",\"ARG40\",\"ARG84\",\"ARG96\"],\"ids\":[\"ARG104\",\"ARG12\",\"ARG24\",\"ARG27\",\"ARG32\",\"ARG40\",\"ARG84\",\"ARG96\"],\"legendgroup\":\"\",\"marker\":{\"color\":\"white\",\"symbol\":\"circle\"},\"mode\":\"markers\",\"name\":\"\",\"orientation\":\"v\",\"showlegend\":false,\"x\":[-139.302,-98.6053,-44.1701,-65.2673,-130.255,-140.097,-68.9221,-59.9136],\"xaxis\":\"x\",\"y\":[176.886,106.337,-48.2846,-17.1354,13.6174,147.068,-28.9305,-61.0687],\"yaxis\":\"y\",\"type\":\"scatter\"}],\"name\":\"330\"},{\"data\":[{\"hovertemplate\":\"<b>%{hovertext}</b><br><br>time=340<br>phi=%{x}<br>psi=%{y}<extra></extra>\",\"hovertext\":[\"ARG104\",\"ARG12\",\"ARG24\",\"ARG27\",\"ARG32\",\"ARG40\",\"ARG84\",\"ARG96\"],\"ids\":[\"ARG104\",\"ARG12\",\"ARG24\",\"ARG27\",\"ARG32\",\"ARG40\",\"ARG84\",\"ARG96\"],\"legendgroup\":\"\",\"marker\":{\"color\":\"white\",\"symbol\":\"circle\"},\"mode\":\"markers\",\"name\":\"\",\"orientation\":\"v\",\"showlegend\":false,\"x\":[-145.978,-77.9172,-59.4461,-58.0906,-121.121,-129.287,-72.0934,-73.9032],\"xaxis\":\"x\",\"y\":[-178.011,116.111,-36.2122,-24.2508,6.34597,153.917,-40.9139,-38.7676],\"yaxis\":\"y\",\"type\":\"scatter\"}],\"name\":\"340\"},{\"data\":[{\"hovertemplate\":\"<b>%{hovertext}</b><br><br>time=350<br>phi=%{x}<br>psi=%{y}<extra></extra>\",\"hovertext\":[\"ARG104\",\"ARG12\",\"ARG24\",\"ARG27\",\"ARG32\",\"ARG40\",\"ARG84\",\"ARG96\"],\"ids\":[\"ARG104\",\"ARG12\",\"ARG24\",\"ARG27\",\"ARG32\",\"ARG40\",\"ARG84\",\"ARG96\"],\"legendgroup\":\"\",\"marker\":{\"color\":\"white\",\"symbol\":\"circle\"},\"mode\":\"markers\",\"name\":\"\",\"orientation\":\"v\",\"showlegend\":false,\"x\":[-131.72,-100.861,-63.0552,-53.0737,-93.6152,-143.491,-70.8075,-67.1443],\"xaxis\":\"x\",\"y\":[-129.35,99.4173,-31.4434,-19.2611,25.2933,157.966,-34.7478,-39.4193],\"yaxis\":\"y\",\"type\":\"scatter\"}],\"name\":\"350\"},{\"data\":[{\"hovertemplate\":\"<b>%{hovertext}</b><br><br>time=360<br>phi=%{x}<br>psi=%{y}<extra></extra>\",\"hovertext\":[\"ARG104\",\"ARG12\",\"ARG24\",\"ARG27\",\"ARG32\",\"ARG40\",\"ARG84\",\"ARG96\"],\"ids\":[\"ARG104\",\"ARG12\",\"ARG24\",\"ARG27\",\"ARG32\",\"ARG40\",\"ARG84\",\"ARG96\"],\"legendgroup\":\"\",\"marker\":{\"color\":\"white\",\"symbol\":\"circle\"},\"mode\":\"markers\",\"name\":\"\",\"orientation\":\"v\",\"showlegend\":false,\"x\":[-112.018,-96.0247,-55.1896,-45.2904,-112.307,-92.5655,-64.077,-82.8519],\"xaxis\":\"x\",\"y\":[-154.664,120.613,-41.0735,-32.3584,10.9433,143.029,-36.3998,-35.6027],\"yaxis\":\"y\",\"type\":\"scatter\"}],\"name\":\"360\"},{\"data\":[{\"hovertemplate\":\"<b>%{hovertext}</b><br><br>time=370<br>phi=%{x}<br>psi=%{y}<extra></extra>\",\"hovertext\":[\"ARG104\",\"ARG12\",\"ARG24\",\"ARG27\",\"ARG32\",\"ARG40\",\"ARG84\",\"ARG96\"],\"ids\":[\"ARG104\",\"ARG12\",\"ARG24\",\"ARG27\",\"ARG32\",\"ARG40\",\"ARG84\",\"ARG96\"],\"legendgroup\":\"\",\"marker\":{\"color\":\"white\",\"symbol\":\"circle\"},\"mode\":\"markers\",\"name\":\"\",\"orientation\":\"v\",\"showlegend\":false,\"x\":[-145.856,-85.5348,-76.4844,-38.5896,-108.829,-138.044,-88.3294,-79.09],\"xaxis\":\"x\",\"y\":[-160.717,112.248,-20.5454,-47.7209,1.25458,152.258,-30.0476,-32.8584],\"yaxis\":\"y\",\"type\":\"scatter\"}],\"name\":\"370\"},{\"data\":[{\"hovertemplate\":\"<b>%{hovertext}</b><br><br>time=380<br>phi=%{x}<br>psi=%{y}<extra></extra>\",\"hovertext\":[\"ARG104\",\"ARG12\",\"ARG24\",\"ARG27\",\"ARG32\",\"ARG40\",\"ARG84\",\"ARG96\"],\"ids\":[\"ARG104\",\"ARG12\",\"ARG24\",\"ARG27\",\"ARG32\",\"ARG40\",\"ARG84\",\"ARG96\"],\"legendgroup\":\"\",\"marker\":{\"color\":\"white\",\"symbol\":\"circle\"},\"mode\":\"markers\",\"name\":\"\",\"orientation\":\"v\",\"showlegend\":false,\"x\":[-139.492,-70.5813,-50.6473,-63.7814,-118.523,-151.354,-70.5923,-70.3808],\"xaxis\":\"x\",\"y\":[-173.215,124.465,-44.9543,-22.1145,19.0161,151.775,-35.2575,-34.462],\"yaxis\":\"y\",\"type\":\"scatter\"}],\"name\":\"380\"},{\"data\":[{\"hovertemplate\":\"<b>%{hovertext}</b><br><br>time=390<br>phi=%{x}<br>psi=%{y}<extra></extra>\",\"hovertext\":[\"ARG104\",\"ARG12\",\"ARG24\",\"ARG27\",\"ARG32\",\"ARG40\",\"ARG84\",\"ARG96\"],\"ids\":[\"ARG104\",\"ARG12\",\"ARG24\",\"ARG27\",\"ARG32\",\"ARG40\",\"ARG84\",\"ARG96\"],\"legendgroup\":\"\",\"marker\":{\"color\":\"white\",\"symbol\":\"circle\"},\"mode\":\"markers\",\"name\":\"\",\"orientation\":\"v\",\"showlegend\":false,\"x\":[-146.059,-84.0895,-60.9845,-51.2673,-95.386,-124.95,-70.6252,-83.5678],\"xaxis\":\"x\",\"y\":[125.227,117.447,-25.3353,-11.2737,-5.12919,152.022,-45.1089,-31.0357],\"yaxis\":\"y\",\"type\":\"scatter\"}],\"name\":\"390\"},{\"data\":[{\"hovertemplate\":\"<b>%{hovertext}</b><br><br>time=400<br>phi=%{x}<br>psi=%{y}<extra></extra>\",\"hovertext\":[\"ARG104\",\"ARG12\",\"ARG24\",\"ARG27\",\"ARG32\",\"ARG40\",\"ARG84\",\"ARG96\"],\"ids\":[\"ARG104\",\"ARG12\",\"ARG24\",\"ARG27\",\"ARG32\",\"ARG40\",\"ARG84\",\"ARG96\"],\"legendgroup\":\"\",\"marker\":{\"color\":\"white\",\"symbol\":\"circle\"},\"mode\":\"markers\",\"name\":\"\",\"orientation\":\"v\",\"showlegend\":false,\"x\":[-136.987,-82.0602,-56.8059,-57.3165,-85.3262,-128.238,-70.4563,-55.4571],\"xaxis\":\"x\",\"y\":[143.334,122.331,-44.2006,-32.8914,-4.36499,151.071,-32.7259,-42.5844],\"yaxis\":\"y\",\"type\":\"scatter\"}],\"name\":\"400\"},{\"data\":[{\"hovertemplate\":\"<b>%{hovertext}</b><br><br>time=410<br>phi=%{x}<br>psi=%{y}<extra></extra>\",\"hovertext\":[\"ARG104\",\"ARG12\",\"ARG24\",\"ARG27\",\"ARG32\",\"ARG40\",\"ARG84\",\"ARG96\"],\"ids\":[\"ARG104\",\"ARG12\",\"ARG24\",\"ARG27\",\"ARG32\",\"ARG40\",\"ARG84\",\"ARG96\"],\"legendgroup\":\"\",\"marker\":{\"color\":\"white\",\"symbol\":\"circle\"},\"mode\":\"markers\",\"name\":\"\",\"orientation\":\"v\",\"showlegend\":false,\"x\":[-142.421,-74.0507,-89.76,-63.2322,-96.4817,-128.654,-70.8708,-111.119],\"xaxis\":\"x\",\"y\":[-170.166,134.596,-23.1271,-21.0023,10.5856,151.354,-27.4155,-26.0853],\"yaxis\":\"y\",\"type\":\"scatter\"}],\"name\":\"410\"},{\"data\":[{\"hovertemplate\":\"<b>%{hovertext}</b><br><br>time=420<br>phi=%{x}<br>psi=%{y}<extra></extra>\",\"hovertext\":[\"ARG104\",\"ARG12\",\"ARG24\",\"ARG27\",\"ARG32\",\"ARG40\",\"ARG84\",\"ARG96\"],\"ids\":[\"ARG104\",\"ARG12\",\"ARG24\",\"ARG27\",\"ARG32\",\"ARG40\",\"ARG84\",\"ARG96\"],\"legendgroup\":\"\",\"marker\":{\"color\":\"white\",\"symbol\":\"circle\"},\"mode\":\"markers\",\"name\":\"\",\"orientation\":\"v\",\"showlegend\":false,\"x\":[-138.024,-79.1119,-55.9337,-59.339,-96.2188,-107.323,-74.6683,-88.8739],\"xaxis\":\"x\",\"y\":[-176.32,125.843,-49.51,-26.1461,-2.77105,149.48,-31.3607,-52.9589],\"yaxis\":\"y\",\"type\":\"scatter\"}],\"name\":\"420\"},{\"data\":[{\"hovertemplate\":\"<b>%{hovertext}</b><br><br>time=430<br>phi=%{x}<br>psi=%{y}<extra></extra>\",\"hovertext\":[\"ARG104\",\"ARG12\",\"ARG24\",\"ARG27\",\"ARG32\",\"ARG40\",\"ARG84\",\"ARG96\"],\"ids\":[\"ARG104\",\"ARG12\",\"ARG24\",\"ARG27\",\"ARG32\",\"ARG40\",\"ARG84\",\"ARG96\"],\"legendgroup\":\"\",\"marker\":{\"color\":\"white\",\"symbol\":\"circle\"},\"mode\":\"markers\",\"name\":\"\",\"orientation\":\"v\",\"showlegend\":false,\"x\":[-127.903,-76.6101,-67.9004,-75.398,-95.2345,-139.128,-58.9244,-87.8963],\"xaxis\":\"x\",\"y\":[-172.642,114.797,-29.4375,8.26011,6.99962,158.028,-49.195,-28.4513],\"yaxis\":\"y\",\"type\":\"scatter\"}],\"name\":\"430\"},{\"data\":[{\"hovertemplate\":\"<b>%{hovertext}</b><br><br>time=440<br>phi=%{x}<br>psi=%{y}<extra></extra>\",\"hovertext\":[\"ARG104\",\"ARG12\",\"ARG24\",\"ARG27\",\"ARG32\",\"ARG40\",\"ARG84\",\"ARG96\"],\"ids\":[\"ARG104\",\"ARG12\",\"ARG24\",\"ARG27\",\"ARG32\",\"ARG40\",\"ARG84\",\"ARG96\"],\"legendgroup\":\"\",\"marker\":{\"color\":\"white\",\"symbol\":\"circle\"},\"mode\":\"markers\",\"name\":\"\",\"orientation\":\"v\",\"showlegend\":false,\"x\":[-123.543,-106.646,-65.9886,-60.153,-120.945,-110.582,-66.0545,-71.575],\"xaxis\":\"x\",\"y\":[139.92,117.291,-39.7472,-4.67665,16.2666,145.562,-35.9206,-48.8185],\"yaxis\":\"y\",\"type\":\"scatter\"}],\"name\":\"440\"},{\"data\":[{\"hovertemplate\":\"<b>%{hovertext}</b><br><br>time=450<br>phi=%{x}<br>psi=%{y}<extra></extra>\",\"hovertext\":[\"ARG104\",\"ARG12\",\"ARG24\",\"ARG27\",\"ARG32\",\"ARG40\",\"ARG84\",\"ARG96\"],\"ids\":[\"ARG104\",\"ARG12\",\"ARG24\",\"ARG27\",\"ARG32\",\"ARG40\",\"ARG84\",\"ARG96\"],\"legendgroup\":\"\",\"marker\":{\"color\":\"white\",\"symbol\":\"circle\"},\"mode\":\"markers\",\"name\":\"\",\"orientation\":\"v\",\"showlegend\":false,\"x\":[-81.8876,-100.34,-76.5776,-40.8549,-89.6491,-118.698,-73.1536,-61.171],\"xaxis\":\"x\",\"y\":[148.554,116.641,-26.167,-18.7937,11.4825,163.211,-31.2876,-54.9932],\"yaxis\":\"y\",\"type\":\"scatter\"}],\"name\":\"450\"},{\"data\":[{\"hovertemplate\":\"<b>%{hovertext}</b><br><br>time=460<br>phi=%{x}<br>psi=%{y}<extra></extra>\",\"hovertext\":[\"ARG104\",\"ARG12\",\"ARG24\",\"ARG27\",\"ARG32\",\"ARG40\",\"ARG84\",\"ARG96\"],\"ids\":[\"ARG104\",\"ARG12\",\"ARG24\",\"ARG27\",\"ARG32\",\"ARG40\",\"ARG84\",\"ARG96\"],\"legendgroup\":\"\",\"marker\":{\"color\":\"white\",\"symbol\":\"circle\"},\"mode\":\"markers\",\"name\":\"\",\"orientation\":\"v\",\"showlegend\":false,\"x\":[-87.9535,-81.0413,-62.5825,-61.1116,-120.53,-85.8643,-61.1796,-86.3006],\"xaxis\":\"x\",\"y\":[-167.899,135.294,-38.2057,-24.1704,6.97249,139.954,-37.1963,-35.2676],\"yaxis\":\"y\",\"type\":\"scatter\"}],\"name\":\"460\"},{\"data\":[{\"hovertemplate\":\"<b>%{hovertext}</b><br><br>time=470<br>phi=%{x}<br>psi=%{y}<extra></extra>\",\"hovertext\":[\"ARG104\",\"ARG12\",\"ARG24\",\"ARG27\",\"ARG32\",\"ARG40\",\"ARG84\",\"ARG96\"],\"ids\":[\"ARG104\",\"ARG12\",\"ARG24\",\"ARG27\",\"ARG32\",\"ARG40\",\"ARG84\",\"ARG96\"],\"legendgroup\":\"\",\"marker\":{\"color\":\"white\",\"symbol\":\"circle\"},\"mode\":\"markers\",\"name\":\"\",\"orientation\":\"v\",\"showlegend\":false,\"x\":[-124.459,-86.7223,-63.1475,-28.568,-94.6336,-110.345,-73.2888,-76.0026],\"xaxis\":\"x\",\"y\":[-156.988,114.755,-24.8794,-39.2033,-21.4614,149.28,-18.8214,-21.212],\"yaxis\":\"y\",\"type\":\"scatter\"}],\"name\":\"470\"},{\"data\":[{\"hovertemplate\":\"<b>%{hovertext}</b><br><br>time=480<br>phi=%{x}<br>psi=%{y}<extra></extra>\",\"hovertext\":[\"ARG104\",\"ARG12\",\"ARG24\",\"ARG27\",\"ARG32\",\"ARG40\",\"ARG84\",\"ARG96\"],\"ids\":[\"ARG104\",\"ARG12\",\"ARG24\",\"ARG27\",\"ARG32\",\"ARG40\",\"ARG84\",\"ARG96\"],\"legendgroup\":\"\",\"marker\":{\"color\":\"white\",\"symbol\":\"circle\"},\"mode\":\"markers\",\"name\":\"\",\"orientation\":\"v\",\"showlegend\":false,\"x\":[-79.5569,-88.324,-67.1548,-63.4083,-108.62,-100.15,-57.9696,-76.3105],\"xaxis\":\"x\",\"y\":[161.768,116.543,-28.9682,-19.4798,-6.56546,141.821,-43.3331,-41.726],\"yaxis\":\"y\",\"type\":\"scatter\"}],\"name\":\"480\"},{\"data\":[{\"hovertemplate\":\"<b>%{hovertext}</b><br><br>time=490<br>phi=%{x}<br>psi=%{y}<extra></extra>\",\"hovertext\":[\"ARG104\",\"ARG12\",\"ARG24\",\"ARG27\",\"ARG32\",\"ARG40\",\"ARG84\",\"ARG96\"],\"ids\":[\"ARG104\",\"ARG12\",\"ARG24\",\"ARG27\",\"ARG32\",\"ARG40\",\"ARG84\",\"ARG96\"],\"legendgroup\":\"\",\"marker\":{\"color\":\"white\",\"symbol\":\"circle\"},\"mode\":\"markers\",\"name\":\"\",\"orientation\":\"v\",\"showlegend\":false,\"x\":[-83.5183,-83.8995,-62.8616,-61.5493,-85.7312,-151.798,-65.886,-77.7688],\"xaxis\":\"x\",\"y\":[160.632,103.861,-33.3106,-22.174,-8.19271,156.592,-42.0892,-49.173],\"yaxis\":\"y\",\"type\":\"scatter\"}],\"name\":\"490\"},{\"data\":[{\"hovertemplate\":\"<b>%{hovertext}</b><br><br>time=500<br>phi=%{x}<br>psi=%{y}<extra></extra>\",\"hovertext\":[\"ARG104\",\"ARG12\",\"ARG24\",\"ARG27\",\"ARG32\",\"ARG40\",\"ARG84\",\"ARG96\"],\"ids\":[\"ARG104\",\"ARG12\",\"ARG24\",\"ARG27\",\"ARG32\",\"ARG40\",\"ARG84\",\"ARG96\"],\"legendgroup\":\"\",\"marker\":{\"color\":\"white\",\"symbol\":\"circle\"},\"mode\":\"markers\",\"name\":\"\",\"orientation\":\"v\",\"showlegend\":false,\"x\":[-137.652,-91.4797,-67.2157,-57.032,-101.389,-132.093,-68.0609,-83.192],\"xaxis\":\"x\",\"y\":[148.867,124.717,-38.0559,-30.6494,-6.07482,142.236,-35.8856,-53.7116],\"yaxis\":\"y\",\"type\":\"scatter\"}],\"name\":\"500\"},{\"data\":[{\"hovertemplate\":\"<b>%{hovertext}</b><br><br>time=510<br>phi=%{x}<br>psi=%{y}<extra></extra>\",\"hovertext\":[\"ARG104\",\"ARG12\",\"ARG24\",\"ARG27\",\"ARG32\",\"ARG40\",\"ARG84\",\"ARG96\"],\"ids\":[\"ARG104\",\"ARG12\",\"ARG24\",\"ARG27\",\"ARG32\",\"ARG40\",\"ARG84\",\"ARG96\"],\"legendgroup\":\"\",\"marker\":{\"color\":\"white\",\"symbol\":\"circle\"},\"mode\":\"markers\",\"name\":\"\",\"orientation\":\"v\",\"showlegend\":false,\"x\":[-76.5816,-99.5099,-48.2598,-66.4458,-114.936,-135.241,-64.7728,-102.661],\"xaxis\":\"x\",\"y\":[130.784,108.268,-57.1374,-16.9967,-10.0335,152.541,-23.4363,-50.9257],\"yaxis\":\"y\",\"type\":\"scatter\"}],\"name\":\"510\"},{\"data\":[{\"hovertemplate\":\"<b>%{hovertext}</b><br><br>time=520<br>phi=%{x}<br>psi=%{y}<extra></extra>\",\"hovertext\":[\"ARG104\",\"ARG12\",\"ARG24\",\"ARG27\",\"ARG32\",\"ARG40\",\"ARG84\",\"ARG96\"],\"ids\":[\"ARG104\",\"ARG12\",\"ARG24\",\"ARG27\",\"ARG32\",\"ARG40\",\"ARG84\",\"ARG96\"],\"legendgroup\":\"\",\"marker\":{\"color\":\"white\",\"symbol\":\"circle\"},\"mode\":\"markers\",\"name\":\"\",\"orientation\":\"v\",\"showlegend\":false,\"x\":[-130.406,-59.4453,-59.7848,-55.3238,-101.778,-97.0694,-83.1422,-102.397],\"xaxis\":\"x\",\"y\":[88.1386,127.255,-47.494,-35.8715,4.06687,153.25,-37.3394,-39.2292],\"yaxis\":\"y\",\"type\":\"scatter\"}],\"name\":\"520\"},{\"data\":[{\"hovertemplate\":\"<b>%{hovertext}</b><br><br>time=530<br>phi=%{x}<br>psi=%{y}<extra></extra>\",\"hovertext\":[\"ARG104\",\"ARG12\",\"ARG24\",\"ARG27\",\"ARG32\",\"ARG40\",\"ARG84\",\"ARG96\"],\"ids\":[\"ARG104\",\"ARG12\",\"ARG24\",\"ARG27\",\"ARG32\",\"ARG40\",\"ARG84\",\"ARG96\"],\"legendgroup\":\"\",\"marker\":{\"color\":\"white\",\"symbol\":\"circle\"},\"mode\":\"markers\",\"name\":\"\",\"orientation\":\"v\",\"showlegend\":false,\"x\":[-124.333,-78.7339,-46.2507,-78.3919,-110.519,-131.945,-75.1157,-64.1779],\"xaxis\":\"x\",\"y\":[108.815,122.879,-47.585,-16.1833,-2.3755,146.821,-10.7415,-46.7919],\"yaxis\":\"y\",\"type\":\"scatter\"}],\"name\":\"530\"},{\"data\":[{\"hovertemplate\":\"<b>%{hovertext}</b><br><br>time=540<br>phi=%{x}<br>psi=%{y}<extra></extra>\",\"hovertext\":[\"ARG104\",\"ARG12\",\"ARG24\",\"ARG27\",\"ARG32\",\"ARG40\",\"ARG84\",\"ARG96\"],\"ids\":[\"ARG104\",\"ARG12\",\"ARG24\",\"ARG27\",\"ARG32\",\"ARG40\",\"ARG84\",\"ARG96\"],\"legendgroup\":\"\",\"marker\":{\"color\":\"white\",\"symbol\":\"circle\"},\"mode\":\"markers\",\"name\":\"\",\"orientation\":\"v\",\"showlegend\":false,\"x\":[-116.941,-68.6093,-47.9198,-48.9649,-93.9248,-93.2179,-101.248,-89.9319],\"xaxis\":\"x\",\"y\":[-178.768,125.669,-42.0011,-23.5576,-11.4678,150.216,-33.8191,-19.8526],\"yaxis\":\"y\",\"type\":\"scatter\"}],\"name\":\"540\"},{\"data\":[{\"hovertemplate\":\"<b>%{hovertext}</b><br><br>time=550<br>phi=%{x}<br>psi=%{y}<extra></extra>\",\"hovertext\":[\"ARG104\",\"ARG12\",\"ARG24\",\"ARG27\",\"ARG32\",\"ARG40\",\"ARG84\",\"ARG96\"],\"ids\":[\"ARG104\",\"ARG12\",\"ARG24\",\"ARG27\",\"ARG32\",\"ARG40\",\"ARG84\",\"ARG96\"],\"legendgroup\":\"\",\"marker\":{\"color\":\"white\",\"symbol\":\"circle\"},\"mode\":\"markers\",\"name\":\"\",\"orientation\":\"v\",\"showlegend\":false,\"x\":[-81.5776,-78.6222,-71.0588,-61.2751,-111.882,-126.296,-57.253,-70.8494],\"xaxis\":\"x\",\"y\":[141.304,107.729,-34.0778,-16.0856,-4.51792,147.576,-47.82,-31.923],\"yaxis\":\"y\",\"type\":\"scatter\"}],\"name\":\"550\"},{\"data\":[{\"hovertemplate\":\"<b>%{hovertext}</b><br><br>time=560<br>phi=%{x}<br>psi=%{y}<extra></extra>\",\"hovertext\":[\"ARG104\",\"ARG12\",\"ARG24\",\"ARG27\",\"ARG32\",\"ARG40\",\"ARG84\",\"ARG96\"],\"ids\":[\"ARG104\",\"ARG12\",\"ARG24\",\"ARG27\",\"ARG32\",\"ARG40\",\"ARG84\",\"ARG96\"],\"legendgroup\":\"\",\"marker\":{\"color\":\"white\",\"symbol\":\"circle\"},\"mode\":\"markers\",\"name\":\"\",\"orientation\":\"v\",\"showlegend\":false,\"x\":[-150.027,-62.7517,-66.2745,-42.7968,-100.623,-113.52,-91.8951,-84.126],\"xaxis\":\"x\",\"y\":[177.358,128.95,-27.6378,-27.2161,-16.4897,145.427,-14.3403,-49.3055],\"yaxis\":\"y\",\"type\":\"scatter\"}],\"name\":\"560\"},{\"data\":[{\"hovertemplate\":\"<b>%{hovertext}</b><br><br>time=570<br>phi=%{x}<br>psi=%{y}<extra></extra>\",\"hovertext\":[\"ARG104\",\"ARG12\",\"ARG24\",\"ARG27\",\"ARG32\",\"ARG40\",\"ARG84\",\"ARG96\"],\"ids\":[\"ARG104\",\"ARG12\",\"ARG24\",\"ARG27\",\"ARG32\",\"ARG40\",\"ARG84\",\"ARG96\"],\"legendgroup\":\"\",\"marker\":{\"color\":\"white\",\"symbol\":\"circle\"},\"mode\":\"markers\",\"name\":\"\",\"orientation\":\"v\",\"showlegend\":false,\"x\":[-142.735,-99.0648,-71.8721,-59.7109,-100.87,-137.336,-60.3111,-97.3349],\"xaxis\":\"x\",\"y\":[-171.268,119.98,-35.905,-19.7761,-5.14263,155.225,-52.8231,-46.1938],\"yaxis\":\"y\",\"type\":\"scatter\"}],\"name\":\"570\"},{\"data\":[{\"hovertemplate\":\"<b>%{hovertext}</b><br><br>time=580<br>phi=%{x}<br>psi=%{y}<extra></extra>\",\"hovertext\":[\"ARG104\",\"ARG12\",\"ARG24\",\"ARG27\",\"ARG32\",\"ARG40\",\"ARG84\",\"ARG96\"],\"ids\":[\"ARG104\",\"ARG12\",\"ARG24\",\"ARG27\",\"ARG32\",\"ARG40\",\"ARG84\",\"ARG96\"],\"legendgroup\":\"\",\"marker\":{\"color\":\"white\",\"symbol\":\"circle\"},\"mode\":\"markers\",\"name\":\"\",\"orientation\":\"v\",\"showlegend\":false,\"x\":[-114.211,-77.7845,-51.5456,-62.1918,-95.9831,-112.691,-89.3495,-102.173],\"xaxis\":\"x\",\"y\":[-90.545,126.326,-36.5997,-18.4708,5.41249,155.263,-36.2867,-32.1231],\"yaxis\":\"y\",\"type\":\"scatter\"}],\"name\":\"580\"},{\"data\":[{\"hovertemplate\":\"<b>%{hovertext}</b><br><br>time=590<br>phi=%{x}<br>psi=%{y}<extra></extra>\",\"hovertext\":[\"ARG104\",\"ARG12\",\"ARG24\",\"ARG27\",\"ARG32\",\"ARG40\",\"ARG84\",\"ARG96\"],\"ids\":[\"ARG104\",\"ARG12\",\"ARG24\",\"ARG27\",\"ARG32\",\"ARG40\",\"ARG84\",\"ARG96\"],\"legendgroup\":\"\",\"marker\":{\"color\":\"white\",\"symbol\":\"circle\"},\"mode\":\"markers\",\"name\":\"\",\"orientation\":\"v\",\"showlegend\":false,\"x\":[-135.908,-92.2831,-65.2093,-60.5619,-107.95,-93.0941,-92.961,-120.38],\"xaxis\":\"x\",\"y\":[-34.0409,114.814,-35.9503,-19.8179,3.68869,139.766,-36.3962,-47.5374],\"yaxis\":\"y\",\"type\":\"scatter\"}],\"name\":\"590\"},{\"data\":[{\"hovertemplate\":\"<b>%{hovertext}</b><br><br>time=600<br>phi=%{x}<br>psi=%{y}<extra></extra>\",\"hovertext\":[\"ARG104\",\"ARG12\",\"ARG24\",\"ARG27\",\"ARG32\",\"ARG40\",\"ARG84\",\"ARG96\"],\"ids\":[\"ARG104\",\"ARG12\",\"ARG24\",\"ARG27\",\"ARG32\",\"ARG40\",\"ARG84\",\"ARG96\"],\"legendgroup\":\"\",\"marker\":{\"color\":\"white\",\"symbol\":\"circle\"},\"mode\":\"markers\",\"name\":\"\",\"orientation\":\"v\",\"showlegend\":false,\"x\":[-151.325,-81.7547,-69.7377,-63.2543,-87.9121,-129.777,-92.4069,-58.2175],\"xaxis\":\"x\",\"y\":[-1.49739,109.069,-34.1367,-23.1057,-6.90217,150.885,-32.4966,-49.3712],\"yaxis\":\"y\",\"type\":\"scatter\"}],\"name\":\"600\"},{\"data\":[{\"hovertemplate\":\"<b>%{hovertext}</b><br><br>time=610<br>phi=%{x}<br>psi=%{y}<extra></extra>\",\"hovertext\":[\"ARG104\",\"ARG12\",\"ARG24\",\"ARG27\",\"ARG32\",\"ARG40\",\"ARG84\",\"ARG96\"],\"ids\":[\"ARG104\",\"ARG12\",\"ARG24\",\"ARG27\",\"ARG32\",\"ARG40\",\"ARG84\",\"ARG96\"],\"legendgroup\":\"\",\"marker\":{\"color\":\"white\",\"symbol\":\"circle\"},\"mode\":\"markers\",\"name\":\"\",\"orientation\":\"v\",\"showlegend\":false,\"x\":[-142.613,-82.5394,-76.74,-60.0789,-80.5397,-114.259,-77.8685,-117.312],\"xaxis\":\"x\",\"y\":[10.8591,123.834,-25.6999,-14.4307,-7.48315,147.347,-31.4336,-56.7648],\"yaxis\":\"y\",\"type\":\"scatter\"}],\"name\":\"610\"},{\"data\":[{\"hovertemplate\":\"<b>%{hovertext}</b><br><br>time=620<br>phi=%{x}<br>psi=%{y}<extra></extra>\",\"hovertext\":[\"ARG104\",\"ARG12\",\"ARG24\",\"ARG27\",\"ARG32\",\"ARG40\",\"ARG84\",\"ARG96\"],\"ids\":[\"ARG104\",\"ARG12\",\"ARG24\",\"ARG27\",\"ARG32\",\"ARG40\",\"ARG84\",\"ARG96\"],\"legendgroup\":\"\",\"marker\":{\"color\":\"white\",\"symbol\":\"circle\"},\"mode\":\"markers\",\"name\":\"\",\"orientation\":\"v\",\"showlegend\":false,\"x\":[-104.482,-95.0162,-62.7019,-69.2587,-96.0118,-115.265,-68.002,-68.6429],\"xaxis\":\"x\",\"y\":[22.6794,121.467,-25.1973,-10.8924,-11.4576,147.428,-43.8153,-52.1125],\"yaxis\":\"y\",\"type\":\"scatter\"}],\"name\":\"620\"},{\"data\":[{\"hovertemplate\":\"<b>%{hovertext}</b><br><br>time=630<br>phi=%{x}<br>psi=%{y}<extra></extra>\",\"hovertext\":[\"ARG104\",\"ARG12\",\"ARG24\",\"ARG27\",\"ARG32\",\"ARG40\",\"ARG84\",\"ARG96\"],\"ids\":[\"ARG104\",\"ARG12\",\"ARG24\",\"ARG27\",\"ARG32\",\"ARG40\",\"ARG84\",\"ARG96\"],\"legendgroup\":\"\",\"marker\":{\"color\":\"white\",\"symbol\":\"circle\"},\"mode\":\"markers\",\"name\":\"\",\"orientation\":\"v\",\"showlegend\":false,\"x\":[-79.1919,-80.3154,-76.0908,-73.5437,-82.745,-90.9414,-61.1153,-87.5174],\"xaxis\":\"x\",\"y\":[-54.2082,118.457,-24.0763,-9.80295,-16.5632,138.625,-40.752,-47.2919],\"yaxis\":\"y\",\"type\":\"scatter\"}],\"name\":\"630\"},{\"data\":[{\"hovertemplate\":\"<b>%{hovertext}</b><br><br>time=640<br>phi=%{x}<br>psi=%{y}<extra></extra>\",\"hovertext\":[\"ARG104\",\"ARG12\",\"ARG24\",\"ARG27\",\"ARG32\",\"ARG40\",\"ARG84\",\"ARG96\"],\"ids\":[\"ARG104\",\"ARG12\",\"ARG24\",\"ARG27\",\"ARG32\",\"ARG40\",\"ARG84\",\"ARG96\"],\"legendgroup\":\"\",\"marker\":{\"color\":\"white\",\"symbol\":\"circle\"},\"mode\":\"markers\",\"name\":\"\",\"orientation\":\"v\",\"showlegend\":false,\"x\":[-82.039,-70.4791,-71.4841,-61.8017,-104.729,-97.8755,-60.2361,-82.5064],\"xaxis\":\"x\",\"y\":[-41.227,106.787,-36.0701,-22.5176,12.2566,155.979,-30.3212,-34.9962],\"yaxis\":\"y\",\"type\":\"scatter\"}],\"name\":\"640\"},{\"data\":[{\"hovertemplate\":\"<b>%{hovertext}</b><br><br>time=650<br>phi=%{x}<br>psi=%{y}<extra></extra>\",\"hovertext\":[\"ARG104\",\"ARG12\",\"ARG24\",\"ARG27\",\"ARG32\",\"ARG40\",\"ARG84\",\"ARG96\"],\"ids\":[\"ARG104\",\"ARG12\",\"ARG24\",\"ARG27\",\"ARG32\",\"ARG40\",\"ARG84\",\"ARG96\"],\"legendgroup\":\"\",\"marker\":{\"color\":\"white\",\"symbol\":\"circle\"},\"mode\":\"markers\",\"name\":\"\",\"orientation\":\"v\",\"showlegend\":false,\"x\":[-135.056,-95.2566,-56.5013,-69.0361,-87.0265,-100.144,-79.3693,-65.019],\"xaxis\":\"x\",\"y\":[-17.0513,106.9,-46.1319,-19.0879,-10.9823,144.543,-32.0668,-35.586],\"yaxis\":\"y\",\"type\":\"scatter\"}],\"name\":\"650\"},{\"data\":[{\"hovertemplate\":\"<b>%{hovertext}</b><br><br>time=660<br>phi=%{x}<br>psi=%{y}<extra></extra>\",\"hovertext\":[\"ARG104\",\"ARG12\",\"ARG24\",\"ARG27\",\"ARG32\",\"ARG40\",\"ARG84\",\"ARG96\"],\"ids\":[\"ARG104\",\"ARG12\",\"ARG24\",\"ARG27\",\"ARG32\",\"ARG40\",\"ARG84\",\"ARG96\"],\"legendgroup\":\"\",\"marker\":{\"color\":\"white\",\"symbol\":\"circle\"},\"mode\":\"markers\",\"name\":\"\",\"orientation\":\"v\",\"showlegend\":false,\"x\":[-86.9836,-80.2763,-68.2325,-70.1545,-113.226,-103.251,-67.9788,-78.4154],\"xaxis\":\"x\",\"y\":[-21.0195,124.833,-42.5042,-19.2295,4.28013,125.298,-35.101,-44.2677],\"yaxis\":\"y\",\"type\":\"scatter\"}],\"name\":\"660\"},{\"data\":[{\"hovertemplate\":\"<b>%{hovertext}</b><br><br>time=670<br>phi=%{x}<br>psi=%{y}<extra></extra>\",\"hovertext\":[\"ARG104\",\"ARG12\",\"ARG24\",\"ARG27\",\"ARG32\",\"ARG40\",\"ARG84\",\"ARG96\"],\"ids\":[\"ARG104\",\"ARG12\",\"ARG24\",\"ARG27\",\"ARG32\",\"ARG40\",\"ARG84\",\"ARG96\"],\"legendgroup\":\"\",\"marker\":{\"color\":\"white\",\"symbol\":\"circle\"},\"mode\":\"markers\",\"name\":\"\",\"orientation\":\"v\",\"showlegend\":false,\"x\":[-107.389,-80.9085,-86.023,-51.1555,-109.468,-119.675,-62.5704,-88.5999],\"xaxis\":\"x\",\"y\":[3.02841,132.09,-46.221,-13.0653,9.30145,136.807,-27.5293,-39.594],\"yaxis\":\"y\",\"type\":\"scatter\"}],\"name\":\"670\"},{\"data\":[{\"hovertemplate\":\"<b>%{hovertext}</b><br><br>time=680<br>phi=%{x}<br>psi=%{y}<extra></extra>\",\"hovertext\":[\"ARG104\",\"ARG12\",\"ARG24\",\"ARG27\",\"ARG32\",\"ARG40\",\"ARG84\",\"ARG96\"],\"ids\":[\"ARG104\",\"ARG12\",\"ARG24\",\"ARG27\",\"ARG32\",\"ARG40\",\"ARG84\",\"ARG96\"],\"legendgroup\":\"\",\"marker\":{\"color\":\"white\",\"symbol\":\"circle\"},\"mode\":\"markers\",\"name\":\"\",\"orientation\":\"v\",\"showlegend\":false,\"x\":[-70.7644,-95.9523,-62.4778,-62.7301,-121.057,-123.927,-72.7857,-59.8743],\"xaxis\":\"x\",\"y\":[-51.416,127.49,-40.9993,-14.8093,6.70818,151.698,-18.2691,-37.7468],\"yaxis\":\"y\",\"type\":\"scatter\"}],\"name\":\"680\"},{\"data\":[{\"hovertemplate\":\"<b>%{hovertext}</b><br><br>time=690<br>phi=%{x}<br>psi=%{y}<extra></extra>\",\"hovertext\":[\"ARG104\",\"ARG12\",\"ARG24\",\"ARG27\",\"ARG32\",\"ARG40\",\"ARG84\",\"ARG96\"],\"ids\":[\"ARG104\",\"ARG12\",\"ARG24\",\"ARG27\",\"ARG32\",\"ARG40\",\"ARG84\",\"ARG96\"],\"legendgroup\":\"\",\"marker\":{\"color\":\"white\",\"symbol\":\"circle\"},\"mode\":\"markers\",\"name\":\"\",\"orientation\":\"v\",\"showlegend\":false,\"x\":[-78.3267,-79.1555,-66.0858,-66.8024,-92.8071,-93.0443,-64.2303,-67.1391],\"xaxis\":\"x\",\"y\":[-50.7049,132.201,-41.1405,-29.058,-0.284037,140.708,-34.8157,-41.8273],\"yaxis\":\"y\",\"type\":\"scatter\"}],\"name\":\"690\"},{\"data\":[{\"hovertemplate\":\"<b>%{hovertext}</b><br><br>time=700<br>phi=%{x}<br>psi=%{y}<extra></extra>\",\"hovertext\":[\"ARG104\",\"ARG12\",\"ARG24\",\"ARG27\",\"ARG32\",\"ARG40\",\"ARG84\",\"ARG96\"],\"ids\":[\"ARG104\",\"ARG12\",\"ARG24\",\"ARG27\",\"ARG32\",\"ARG40\",\"ARG84\",\"ARG96\"],\"legendgroup\":\"\",\"marker\":{\"color\":\"white\",\"symbol\":\"circle\"},\"mode\":\"markers\",\"name\":\"\",\"orientation\":\"v\",\"showlegend\":false,\"x\":[-110.007,-105.168,-73.0719,-48.1902,-103.513,-102.806,-69.769,-91.9769],\"xaxis\":\"x\",\"y\":[-23.7123,147.322,-35.0617,-41.7659,-8.01046,136.851,-55.0223,-61.5894],\"yaxis\":\"y\",\"type\":\"scatter\"}],\"name\":\"700\"},{\"data\":[{\"hovertemplate\":\"<b>%{hovertext}</b><br><br>time=710<br>phi=%{x}<br>psi=%{y}<extra></extra>\",\"hovertext\":[\"ARG104\",\"ARG12\",\"ARG24\",\"ARG27\",\"ARG32\",\"ARG40\",\"ARG84\",\"ARG96\"],\"ids\":[\"ARG104\",\"ARG12\",\"ARG24\",\"ARG27\",\"ARG32\",\"ARG40\",\"ARG84\",\"ARG96\"],\"legendgroup\":\"\",\"marker\":{\"color\":\"white\",\"symbol\":\"circle\"},\"mode\":\"markers\",\"name\":\"\",\"orientation\":\"v\",\"showlegend\":false,\"x\":[-102.377,-76.7298,-62.9138,-62.9262,-78.7972,-106.713,-63.5893,-84.0122],\"xaxis\":\"x\",\"y\":[-19.1422,131.06,-51.7428,-10.7555,-17.4579,147.863,-47.9217,-42.295],\"yaxis\":\"y\",\"type\":\"scatter\"}],\"name\":\"710\"},{\"data\":[{\"hovertemplate\":\"<b>%{hovertext}</b><br><br>time=720<br>phi=%{x}<br>psi=%{y}<extra></extra>\",\"hovertext\":[\"ARG104\",\"ARG12\",\"ARG24\",\"ARG27\",\"ARG32\",\"ARG40\",\"ARG84\",\"ARG96\"],\"ids\":[\"ARG104\",\"ARG12\",\"ARG24\",\"ARG27\",\"ARG32\",\"ARG40\",\"ARG84\",\"ARG96\"],\"legendgroup\":\"\",\"marker\":{\"color\":\"white\",\"symbol\":\"circle\"},\"mode\":\"markers\",\"name\":\"\",\"orientation\":\"v\",\"showlegend\":false,\"x\":[-109.257,-94.9297,-71.8916,-64.2479,-87.5094,-102.126,-83.3926,-80.3321],\"xaxis\":\"x\",\"y\":[-39.3544,134.858,-30.4173,-35.3789,2.11647,148.998,-34.198,-31.0733],\"yaxis\":\"y\",\"type\":\"scatter\"}],\"name\":\"720\"},{\"data\":[{\"hovertemplate\":\"<b>%{hovertext}</b><br><br>time=730<br>phi=%{x}<br>psi=%{y}<extra></extra>\",\"hovertext\":[\"ARG104\",\"ARG12\",\"ARG24\",\"ARG27\",\"ARG32\",\"ARG40\",\"ARG84\",\"ARG96\"],\"ids\":[\"ARG104\",\"ARG12\",\"ARG24\",\"ARG27\",\"ARG32\",\"ARG40\",\"ARG84\",\"ARG96\"],\"legendgroup\":\"\",\"marker\":{\"color\":\"white\",\"symbol\":\"circle\"},\"mode\":\"markers\",\"name\":\"\",\"orientation\":\"v\",\"showlegend\":false,\"x\":[-87.8136,-78.2278,-48.3857,-61.6781,-99.7854,-113.493,-71.2084,-70.4509],\"xaxis\":\"x\",\"y\":[-79.4125,121.715,-38.4667,-30.9637,-9.92346,147.197,-41.2674,-56.2144],\"yaxis\":\"y\",\"type\":\"scatter\"}],\"name\":\"730\"},{\"data\":[{\"hovertemplate\":\"<b>%{hovertext}</b><br><br>time=740<br>phi=%{x}<br>psi=%{y}<extra></extra>\",\"hovertext\":[\"ARG104\",\"ARG12\",\"ARG24\",\"ARG27\",\"ARG32\",\"ARG40\",\"ARG84\",\"ARG96\"],\"ids\":[\"ARG104\",\"ARG12\",\"ARG24\",\"ARG27\",\"ARG32\",\"ARG40\",\"ARG84\",\"ARG96\"],\"legendgroup\":\"\",\"marker\":{\"color\":\"white\",\"symbol\":\"circle\"},\"mode\":\"markers\",\"name\":\"\",\"orientation\":\"v\",\"showlegend\":false,\"x\":[-95.813,-93.3369,-51.9465,-49.1947,-86.7777,-126.494,-71.2505,-62.047],\"xaxis\":\"x\",\"y\":[-74.164,125.115,-38.0855,-36.741,-5.09645,159.204,-12.4975,-58.9969],\"yaxis\":\"y\",\"type\":\"scatter\"}],\"name\":\"740\"},{\"data\":[{\"hovertemplate\":\"<b>%{hovertext}</b><br><br>time=750<br>phi=%{x}<br>psi=%{y}<extra></extra>\",\"hovertext\":[\"ARG104\",\"ARG12\",\"ARG24\",\"ARG27\",\"ARG32\",\"ARG40\",\"ARG84\",\"ARG96\"],\"ids\":[\"ARG104\",\"ARG12\",\"ARG24\",\"ARG27\",\"ARG32\",\"ARG40\",\"ARG84\",\"ARG96\"],\"legendgroup\":\"\",\"marker\":{\"color\":\"white\",\"symbol\":\"circle\"},\"mode\":\"markers\",\"name\":\"\",\"orientation\":\"v\",\"showlegend\":false,\"x\":[-59.7479,-86.7455,-69.0658,-53.9001,-105.133,-132.49,-54.8074,-81.3817],\"xaxis\":\"x\",\"y\":[-35.8649,119.879,-52.6397,-23.8363,2.06343,144.923,-41.063,-44.5447],\"yaxis\":\"y\",\"type\":\"scatter\"}],\"name\":\"750\"},{\"data\":[{\"hovertemplate\":\"<b>%{hovertext}</b><br><br>time=760<br>phi=%{x}<br>psi=%{y}<extra></extra>\",\"hovertext\":[\"ARG104\",\"ARG12\",\"ARG24\",\"ARG27\",\"ARG32\",\"ARG40\",\"ARG84\",\"ARG96\"],\"ids\":[\"ARG104\",\"ARG12\",\"ARG24\",\"ARG27\",\"ARG32\",\"ARG40\",\"ARG84\",\"ARG96\"],\"legendgroup\":\"\",\"marker\":{\"color\":\"white\",\"symbol\":\"circle\"},\"mode\":\"markers\",\"name\":\"\",\"orientation\":\"v\",\"showlegend\":false,\"x\":[-78.5279,-94.0991,-58.0904,-59.0641,-88.1213,-103.118,-80.8116,-71.8546],\"xaxis\":\"x\",\"y\":[-26.0497,131.722,-40.6123,-29.6843,-19.3212,146.841,-61.8788,-45.8814],\"yaxis\":\"y\",\"type\":\"scatter\"}],\"name\":\"760\"},{\"data\":[{\"hovertemplate\":\"<b>%{hovertext}</b><br><br>time=770<br>phi=%{x}<br>psi=%{y}<extra></extra>\",\"hovertext\":[\"ARG104\",\"ARG12\",\"ARG24\",\"ARG27\",\"ARG32\",\"ARG40\",\"ARG84\",\"ARG96\"],\"ids\":[\"ARG104\",\"ARG12\",\"ARG24\",\"ARG27\",\"ARG32\",\"ARG40\",\"ARG84\",\"ARG96\"],\"legendgroup\":\"\",\"marker\":{\"color\":\"white\",\"symbol\":\"circle\"},\"mode\":\"markers\",\"name\":\"\",\"orientation\":\"v\",\"showlegend\":false,\"x\":[-99.6668,-80.2585,-64.7428,-68.2534,-104.237,-91.604,-78.5024,-53.5432],\"xaxis\":\"x\",\"y\":[-44.3013,110.773,-40.0816,-19.8401,-8.68549,135.549,-34.1266,-52.6852],\"yaxis\":\"y\",\"type\":\"scatter\"}],\"name\":\"770\"},{\"data\":[{\"hovertemplate\":\"<b>%{hovertext}</b><br><br>time=780<br>phi=%{x}<br>psi=%{y}<extra></extra>\",\"hovertext\":[\"ARG104\",\"ARG12\",\"ARG24\",\"ARG27\",\"ARG32\",\"ARG40\",\"ARG84\",\"ARG96\"],\"ids\":[\"ARG104\",\"ARG12\",\"ARG24\",\"ARG27\",\"ARG32\",\"ARG40\",\"ARG84\",\"ARG96\"],\"legendgroup\":\"\",\"marker\":{\"color\":\"white\",\"symbol\":\"circle\"},\"mode\":\"markers\",\"name\":\"\",\"orientation\":\"v\",\"showlegend\":false,\"x\":[-88.1059,-95.4379,-78.6306,-58.8455,-81.6007,-99.3981,-66.9882,-100.117],\"xaxis\":\"x\",\"y\":[-41.5342,121.848,-24.2472,-16.3922,12.2165,134.277,-46.4806,-40.5504],\"yaxis\":\"y\",\"type\":\"scatter\"}],\"name\":\"780\"},{\"data\":[{\"hovertemplate\":\"<b>%{hovertext}</b><br><br>time=790<br>phi=%{x}<br>psi=%{y}<extra></extra>\",\"hovertext\":[\"ARG104\",\"ARG12\",\"ARG24\",\"ARG27\",\"ARG32\",\"ARG40\",\"ARG84\",\"ARG96\"],\"ids\":[\"ARG104\",\"ARG12\",\"ARG24\",\"ARG27\",\"ARG32\",\"ARG40\",\"ARG84\",\"ARG96\"],\"legendgroup\":\"\",\"marker\":{\"color\":\"white\",\"symbol\":\"circle\"},\"mode\":\"markers\",\"name\":\"\",\"orientation\":\"v\",\"showlegend\":false,\"x\":[-113.614,-85.1083,-51.8884,-45.8569,-97.342,-121.723,-90.3179,-73.7499],\"xaxis\":\"x\",\"y\":[-43.3954,122.451,-40.8827,-31.618,3.05759,151.777,-30.1353,-48.6496],\"yaxis\":\"y\",\"type\":\"scatter\"}],\"name\":\"790\"},{\"data\":[{\"hovertemplate\":\"<b>%{hovertext}</b><br><br>time=800<br>phi=%{x}<br>psi=%{y}<extra></extra>\",\"hovertext\":[\"ARG104\",\"ARG12\",\"ARG24\",\"ARG27\",\"ARG32\",\"ARG40\",\"ARG84\",\"ARG96\"],\"ids\":[\"ARG104\",\"ARG12\",\"ARG24\",\"ARG27\",\"ARG32\",\"ARG40\",\"ARG84\",\"ARG96\"],\"legendgroup\":\"\",\"marker\":{\"color\":\"white\",\"symbol\":\"circle\"},\"mode\":\"markers\",\"name\":\"\",\"orientation\":\"v\",\"showlegend\":false,\"x\":[-72.3931,-87.42,-78.6227,-66.4404,-83.0233,-100.756,-93.0915,-76.0139],\"xaxis\":\"x\",\"y\":[-22.5603,125.71,-34.6981,-29.9158,-10.5929,136.28,-23.5721,-17.9691],\"yaxis\":\"y\",\"type\":\"scatter\"}],\"name\":\"800\"},{\"data\":[{\"hovertemplate\":\"<b>%{hovertext}</b><br><br>time=810<br>phi=%{x}<br>psi=%{y}<extra></extra>\",\"hovertext\":[\"ARG104\",\"ARG12\",\"ARG24\",\"ARG27\",\"ARG32\",\"ARG40\",\"ARG84\",\"ARG96\"],\"ids\":[\"ARG104\",\"ARG12\",\"ARG24\",\"ARG27\",\"ARG32\",\"ARG40\",\"ARG84\",\"ARG96\"],\"legendgroup\":\"\",\"marker\":{\"color\":\"white\",\"symbol\":\"circle\"},\"mode\":\"markers\",\"name\":\"\",\"orientation\":\"v\",\"showlegend\":false,\"x\":[-114.712,-79.1128,-65.6507,-65.9755,-97.0312,-103.177,-69.514,-88.7188],\"xaxis\":\"x\",\"y\":[-31.6726,106.002,-25.1058,-11.8277,-13.5739,151.639,-42.2547,-32.6554],\"yaxis\":\"y\",\"type\":\"scatter\"}],\"name\":\"810\"},{\"data\":[{\"hovertemplate\":\"<b>%{hovertext}</b><br><br>time=820<br>phi=%{x}<br>psi=%{y}<extra></extra>\",\"hovertext\":[\"ARG104\",\"ARG12\",\"ARG24\",\"ARG27\",\"ARG32\",\"ARG40\",\"ARG84\",\"ARG96\"],\"ids\":[\"ARG104\",\"ARG12\",\"ARG24\",\"ARG27\",\"ARG32\",\"ARG40\",\"ARG84\",\"ARG96\"],\"legendgroup\":\"\",\"marker\":{\"color\":\"white\",\"symbol\":\"circle\"},\"mode\":\"markers\",\"name\":\"\",\"orientation\":\"v\",\"showlegend\":false,\"x\":[-111.505,-88.2447,-68.2451,-45.5809,-90.3823,-81.1534,-82.4107,-59.9071],\"xaxis\":\"x\",\"y\":[-16.2675,125.385,-39.6075,-40.8762,-1.54038,154.688,-30.4712,-46.001],\"yaxis\":\"y\",\"type\":\"scatter\"}],\"name\":\"820\"},{\"data\":[{\"hovertemplate\":\"<b>%{hovertext}</b><br><br>time=830<br>phi=%{x}<br>psi=%{y}<extra></extra>\",\"hovertext\":[\"ARG104\",\"ARG12\",\"ARG24\",\"ARG27\",\"ARG32\",\"ARG40\",\"ARG84\",\"ARG96\"],\"ids\":[\"ARG104\",\"ARG12\",\"ARG24\",\"ARG27\",\"ARG32\",\"ARG40\",\"ARG84\",\"ARG96\"],\"legendgroup\":\"\",\"marker\":{\"color\":\"white\",\"symbol\":\"circle\"},\"mode\":\"markers\",\"name\":\"\",\"orientation\":\"v\",\"showlegend\":false,\"x\":[-90.4044,-68.7696,-58.931,-69.1965,-126.404,-108.318,-80.2451,-50.7225],\"xaxis\":\"x\",\"y\":[-93.1446,114.253,-49.6741,-11.6762,1.60129,141.607,-17.5418,-24.7203],\"yaxis\":\"y\",\"type\":\"scatter\"}],\"name\":\"830\"},{\"data\":[{\"hovertemplate\":\"<b>%{hovertext}</b><br><br>time=840<br>phi=%{x}<br>psi=%{y}<extra></extra>\",\"hovertext\":[\"ARG104\",\"ARG12\",\"ARG24\",\"ARG27\",\"ARG32\",\"ARG40\",\"ARG84\",\"ARG96\"],\"ids\":[\"ARG104\",\"ARG12\",\"ARG24\",\"ARG27\",\"ARG32\",\"ARG40\",\"ARG84\",\"ARG96\"],\"legendgroup\":\"\",\"marker\":{\"color\":\"white\",\"symbol\":\"circle\"},\"mode\":\"markers\",\"name\":\"\",\"orientation\":\"v\",\"showlegend\":false,\"x\":[-75.7319,-105.501,-72.411,-55.1586,-91.1189,-118.178,-66.8776,-57.8005],\"xaxis\":\"x\",\"y\":[-66.6936,114.731,-31.7502,-32.4059,-18.4212,157.244,-41.0354,-54.7089],\"yaxis\":\"y\",\"type\":\"scatter\"}],\"name\":\"840\"},{\"data\":[{\"hovertemplate\":\"<b>%{hovertext}</b><br><br>time=850<br>phi=%{x}<br>psi=%{y}<extra></extra>\",\"hovertext\":[\"ARG104\",\"ARG12\",\"ARG24\",\"ARG27\",\"ARG32\",\"ARG40\",\"ARG84\",\"ARG96\"],\"ids\":[\"ARG104\",\"ARG12\",\"ARG24\",\"ARG27\",\"ARG32\",\"ARG40\",\"ARG84\",\"ARG96\"],\"legendgroup\":\"\",\"marker\":{\"color\":\"white\",\"symbol\":\"circle\"},\"mode\":\"markers\",\"name\":\"\",\"orientation\":\"v\",\"showlegend\":false,\"x\":[-91.0319,-100.587,-81.5516,-59.1657,-90.1312,-113.522,-71.9974,-66.5904],\"xaxis\":\"x\",\"y\":[-6.21773,124.504,-25.7267,-14.5405,-4.17263,139.469,-44.2455,-46.2678],\"yaxis\":\"y\",\"type\":\"scatter\"}],\"name\":\"850\"},{\"data\":[{\"hovertemplate\":\"<b>%{hovertext}</b><br><br>time=860<br>phi=%{x}<br>psi=%{y}<extra></extra>\",\"hovertext\":[\"ARG104\",\"ARG12\",\"ARG24\",\"ARG27\",\"ARG32\",\"ARG40\",\"ARG84\",\"ARG96\"],\"ids\":[\"ARG104\",\"ARG12\",\"ARG24\",\"ARG27\",\"ARG32\",\"ARG40\",\"ARG84\",\"ARG96\"],\"legendgroup\":\"\",\"marker\":{\"color\":\"white\",\"symbol\":\"circle\"},\"mode\":\"markers\",\"name\":\"\",\"orientation\":\"v\",\"showlegend\":false,\"x\":[-71.4386,-77.6153,-75.9689,-62.5062,-86.9092,-112.233,-85.1027,-79.6603],\"xaxis\":\"x\",\"y\":[-5.67364,122.922,-37.2352,-10.7052,-14.8434,156.987,-30.3563,-24.5016],\"yaxis\":\"y\",\"type\":\"scatter\"}],\"name\":\"860\"},{\"data\":[{\"hovertemplate\":\"<b>%{hovertext}</b><br><br>time=870<br>phi=%{x}<br>psi=%{y}<extra></extra>\",\"hovertext\":[\"ARG104\",\"ARG12\",\"ARG24\",\"ARG27\",\"ARG32\",\"ARG40\",\"ARG84\",\"ARG96\"],\"ids\":[\"ARG104\",\"ARG12\",\"ARG24\",\"ARG27\",\"ARG32\",\"ARG40\",\"ARG84\",\"ARG96\"],\"legendgroup\":\"\",\"marker\":{\"color\":\"white\",\"symbol\":\"circle\"},\"mode\":\"markers\",\"name\":\"\",\"orientation\":\"v\",\"showlegend\":false,\"x\":[-78.3903,-82.4612,-66.811,-77.6368,-89.3107,-83.3937,-81.1715,-76.1802],\"xaxis\":\"x\",\"y\":[-33.9522,113.662,-34.6835,-3.47668,-5.36317,149.436,-49.8838,-45.4048],\"yaxis\":\"y\",\"type\":\"scatter\"}],\"name\":\"870\"},{\"data\":[{\"hovertemplate\":\"<b>%{hovertext}</b><br><br>time=880<br>phi=%{x}<br>psi=%{y}<extra></extra>\",\"hovertext\":[\"ARG104\",\"ARG12\",\"ARG24\",\"ARG27\",\"ARG32\",\"ARG40\",\"ARG84\",\"ARG96\"],\"ids\":[\"ARG104\",\"ARG12\",\"ARG24\",\"ARG27\",\"ARG32\",\"ARG40\",\"ARG84\",\"ARG96\"],\"legendgroup\":\"\",\"marker\":{\"color\":\"white\",\"symbol\":\"circle\"},\"mode\":\"markers\",\"name\":\"\",\"orientation\":\"v\",\"showlegend\":false,\"x\":[-112.261,-82.4542,-46.7597,-59.7387,-81.5906,-106.565,-67.9897,-78.8773],\"xaxis\":\"x\",\"y\":[-57.3567,122.767,-51.547,-20.2385,-8.32077,161.972,-57.0599,-39.4528],\"yaxis\":\"y\",\"type\":\"scatter\"}],\"name\":\"880\"},{\"data\":[{\"hovertemplate\":\"<b>%{hovertext}</b><br><br>time=890<br>phi=%{x}<br>psi=%{y}<extra></extra>\",\"hovertext\":[\"ARG104\",\"ARG12\",\"ARG24\",\"ARG27\",\"ARG32\",\"ARG40\",\"ARG84\",\"ARG96\"],\"ids\":[\"ARG104\",\"ARG12\",\"ARG24\",\"ARG27\",\"ARG32\",\"ARG40\",\"ARG84\",\"ARG96\"],\"legendgroup\":\"\",\"marker\":{\"color\":\"white\",\"symbol\":\"circle\"},\"mode\":\"markers\",\"name\":\"\",\"orientation\":\"v\",\"showlegend\":false,\"x\":[-71.4332,-84.5588,-73.6439,-49.6037,-98.426,-105.881,-72.4585,-79.3817],\"xaxis\":\"x\",\"y\":[-11.4278,110.189,-44.4272,-17.3626,7.02201,147.602,-41.9728,-21.3145],\"yaxis\":\"y\",\"type\":\"scatter\"}],\"name\":\"890\"},{\"data\":[{\"hovertemplate\":\"<b>%{hovertext}</b><br><br>time=900<br>phi=%{x}<br>psi=%{y}<extra></extra>\",\"hovertext\":[\"ARG104\",\"ARG12\",\"ARG24\",\"ARG27\",\"ARG32\",\"ARG40\",\"ARG84\",\"ARG96\"],\"ids\":[\"ARG104\",\"ARG12\",\"ARG24\",\"ARG27\",\"ARG32\",\"ARG40\",\"ARG84\",\"ARG96\"],\"legendgroup\":\"\",\"marker\":{\"color\":\"white\",\"symbol\":\"circle\"},\"mode\":\"markers\",\"name\":\"\",\"orientation\":\"v\",\"showlegend\":false,\"x\":[-91.2514,-96.1268,-43.5744,-51.5382,-102.538,-137.061,-74.5736,-75.6319],\"xaxis\":\"x\",\"y\":[-42.3979,116.05,-46.6124,-21.5521,-0.0637566,159.741,-40.2247,-34.3784],\"yaxis\":\"y\",\"type\":\"scatter\"}],\"name\":\"900\"},{\"data\":[{\"hovertemplate\":\"<b>%{hovertext}</b><br><br>time=910<br>phi=%{x}<br>psi=%{y}<extra></extra>\",\"hovertext\":[\"ARG104\",\"ARG12\",\"ARG24\",\"ARG27\",\"ARG32\",\"ARG40\",\"ARG84\",\"ARG96\"],\"ids\":[\"ARG104\",\"ARG12\",\"ARG24\",\"ARG27\",\"ARG32\",\"ARG40\",\"ARG84\",\"ARG96\"],\"legendgroup\":\"\",\"marker\":{\"color\":\"white\",\"symbol\":\"circle\"},\"mode\":\"markers\",\"name\":\"\",\"orientation\":\"v\",\"showlegend\":false,\"x\":[-88.8162,-71.1605,-69.6318,-48.6191,-88.772,-107.5,-59.5481,-80.707],\"xaxis\":\"x\",\"y\":[-28.2263,111.726,-30.4862,-29.8814,-5.16987,145.95,-29.0009,-39.9052],\"yaxis\":\"y\",\"type\":\"scatter\"}],\"name\":\"910\"},{\"data\":[{\"hovertemplate\":\"<b>%{hovertext}</b><br><br>time=920<br>phi=%{x}<br>psi=%{y}<extra></extra>\",\"hovertext\":[\"ARG104\",\"ARG12\",\"ARG24\",\"ARG27\",\"ARG32\",\"ARG40\",\"ARG84\",\"ARG96\"],\"ids\":[\"ARG104\",\"ARG12\",\"ARG24\",\"ARG27\",\"ARG32\",\"ARG40\",\"ARG84\",\"ARG96\"],\"legendgroup\":\"\",\"marker\":{\"color\":\"white\",\"symbol\":\"circle\"},\"mode\":\"markers\",\"name\":\"\",\"orientation\":\"v\",\"showlegend\":false,\"x\":[-77.1467,-86.5426,-60.8788,-64.1767,-106.434,-110.631,-79.9732,-84.0416],\"xaxis\":\"x\",\"y\":[-32.1193,129.97,-40.944,-21.816,0.0208831,127.833,-43.6175,-23.4093],\"yaxis\":\"y\",\"type\":\"scatter\"}],\"name\":\"920\"},{\"data\":[{\"hovertemplate\":\"<b>%{hovertext}</b><br><br>time=930<br>phi=%{x}<br>psi=%{y}<extra></extra>\",\"hovertext\":[\"ARG104\",\"ARG12\",\"ARG24\",\"ARG27\",\"ARG32\",\"ARG40\",\"ARG84\",\"ARG96\"],\"ids\":[\"ARG104\",\"ARG12\",\"ARG24\",\"ARG27\",\"ARG32\",\"ARG40\",\"ARG84\",\"ARG96\"],\"legendgroup\":\"\",\"marker\":{\"color\":\"white\",\"symbol\":\"circle\"},\"mode\":\"markers\",\"name\":\"\",\"orientation\":\"v\",\"showlegend\":false,\"x\":[-151.514,-86.6759,-61.0283,-65.417,-98.5978,-127.302,-89.3438,-86.706],\"xaxis\":\"x\",\"y\":[-15.1135,119.834,-40.9196,-17.2565,3.70832,149.51,-39.8172,-43.1269],\"yaxis\":\"y\",\"type\":\"scatter\"}],\"name\":\"930\"},{\"data\":[{\"hovertemplate\":\"<b>%{hovertext}</b><br><br>time=940<br>phi=%{x}<br>psi=%{y}<extra></extra>\",\"hovertext\":[\"ARG104\",\"ARG12\",\"ARG24\",\"ARG27\",\"ARG32\",\"ARG40\",\"ARG84\",\"ARG96\"],\"ids\":[\"ARG104\",\"ARG12\",\"ARG24\",\"ARG27\",\"ARG32\",\"ARG40\",\"ARG84\",\"ARG96\"],\"legendgroup\":\"\",\"marker\":{\"color\":\"white\",\"symbol\":\"circle\"},\"mode\":\"markers\",\"name\":\"\",\"orientation\":\"v\",\"showlegend\":false,\"x\":[-91.6027,-76.6833,-45.8632,-44.8049,-99.3045,-119.454,-51.7022,-62.5462],\"xaxis\":\"x\",\"y\":[-36.632,123.601,-39.4704,-42.2939,-1.71117,137.53,-58.2254,-38.1826],\"yaxis\":\"y\",\"type\":\"scatter\"}],\"name\":\"940\"},{\"data\":[{\"hovertemplate\":\"<b>%{hovertext}</b><br><br>time=950<br>phi=%{x}<br>psi=%{y}<extra></extra>\",\"hovertext\":[\"ARG104\",\"ARG12\",\"ARG24\",\"ARG27\",\"ARG32\",\"ARG40\",\"ARG84\",\"ARG96\"],\"ids\":[\"ARG104\",\"ARG12\",\"ARG24\",\"ARG27\",\"ARG32\",\"ARG40\",\"ARG84\",\"ARG96\"],\"legendgroup\":\"\",\"marker\":{\"color\":\"white\",\"symbol\":\"circle\"},\"mode\":\"markers\",\"name\":\"\",\"orientation\":\"v\",\"showlegend\":false,\"x\":[-93.7166,-89.2294,-47.0019,-80.4199,-105.577,-118.032,-69.4122,-75.3964],\"xaxis\":\"x\",\"y\":[-38.0472,126.748,-42.7656,-3.37274,-2.23346,133.441,-56.4776,-38.6906],\"yaxis\":\"y\",\"type\":\"scatter\"}],\"name\":\"950\"},{\"data\":[{\"hovertemplate\":\"<b>%{hovertext}</b><br><br>time=960<br>phi=%{x}<br>psi=%{y}<extra></extra>\",\"hovertext\":[\"ARG104\",\"ARG12\",\"ARG24\",\"ARG27\",\"ARG32\",\"ARG40\",\"ARG84\",\"ARG96\"],\"ids\":[\"ARG104\",\"ARG12\",\"ARG24\",\"ARG27\",\"ARG32\",\"ARG40\",\"ARG84\",\"ARG96\"],\"legendgroup\":\"\",\"marker\":{\"color\":\"white\",\"symbol\":\"circle\"},\"mode\":\"markers\",\"name\":\"\",\"orientation\":\"v\",\"showlegend\":false,\"x\":[-93.9031,-83.0504,-72.9776,-63.1525,-84.5838,-90.6229,-93.2152,-49.4732],\"xaxis\":\"x\",\"y\":[27.8447,124.091,-28.0429,6.21814,-14.3728,136.808,-45.0158,-45.9122],\"yaxis\":\"y\",\"type\":\"scatter\"}],\"name\":\"960\"},{\"data\":[{\"hovertemplate\":\"<b>%{hovertext}</b><br><br>time=970<br>phi=%{x}<br>psi=%{y}<extra></extra>\",\"hovertext\":[\"ARG104\",\"ARG12\",\"ARG24\",\"ARG27\",\"ARG32\",\"ARG40\",\"ARG84\",\"ARG96\"],\"ids\":[\"ARG104\",\"ARG12\",\"ARG24\",\"ARG27\",\"ARG32\",\"ARG40\",\"ARG84\",\"ARG96\"],\"legendgroup\":\"\",\"marker\":{\"color\":\"white\",\"symbol\":\"circle\"},\"mode\":\"markers\",\"name\":\"\",\"orientation\":\"v\",\"showlegend\":false,\"x\":[-120.921,-97.9708,-50.7468,-66.8891,-89.271,-95.3017,-78.7854,-68.9671],\"xaxis\":\"x\",\"y\":[48.4845,112.881,-58.0232,-22.5389,5.7813,130.263,-29.874,-30.8921],\"yaxis\":\"y\",\"type\":\"scatter\"}],\"name\":\"970\"},{\"data\":[{\"hovertemplate\":\"<b>%{hovertext}</b><br><br>time=980<br>phi=%{x}<br>psi=%{y}<extra></extra>\",\"hovertext\":[\"ARG104\",\"ARG12\",\"ARG24\",\"ARG27\",\"ARG32\",\"ARG40\",\"ARG84\",\"ARG96\"],\"ids\":[\"ARG104\",\"ARG12\",\"ARG24\",\"ARG27\",\"ARG32\",\"ARG40\",\"ARG84\",\"ARG96\"],\"legendgroup\":\"\",\"marker\":{\"color\":\"white\",\"symbol\":\"circle\"},\"mode\":\"markers\",\"name\":\"\",\"orientation\":\"v\",\"showlegend\":false,\"x\":[-67.7142,-87.4793,-69.5524,-55.3963,-97.4029,-94.8148,-66.1702,-65.6781],\"xaxis\":\"x\",\"y\":[115.157,108.323,-44.381,-22.5258,2.28865,122.915,-37.1833,-17.0645],\"yaxis\":\"y\",\"type\":\"scatter\"}],\"name\":\"980\"},{\"data\":[{\"hovertemplate\":\"<b>%{hovertext}</b><br><br>time=990<br>phi=%{x}<br>psi=%{y}<extra></extra>\",\"hovertext\":[\"ARG104\",\"ARG12\",\"ARG24\",\"ARG27\",\"ARG32\",\"ARG40\",\"ARG84\",\"ARG96\"],\"ids\":[\"ARG104\",\"ARG12\",\"ARG24\",\"ARG27\",\"ARG32\",\"ARG40\",\"ARG84\",\"ARG96\"],\"legendgroup\":\"\",\"marker\":{\"color\":\"white\",\"symbol\":\"circle\"},\"mode\":\"markers\",\"name\":\"\",\"orientation\":\"v\",\"showlegend\":false,\"x\":[-119.121,-88.6764,-54.2292,-62.8826,-98.7797,-104.085,-78.1815,-85.143],\"xaxis\":\"x\",\"y\":[158.568,108.02,-47.9017,4.22981,-11.7292,114.365,-38.7107,-29.5437],\"yaxis\":\"y\",\"type\":\"scatter\"}],\"name\":\"990\"},{\"data\":[{\"hovertemplate\":\"<b>%{hovertext}</b><br><br>time=1000<br>phi=%{x}<br>psi=%{y}<extra></extra>\",\"hovertext\":[\"ARG104\",\"ARG12\",\"ARG24\",\"ARG27\",\"ARG32\",\"ARG40\",\"ARG84\",\"ARG96\"],\"ids\":[\"ARG104\",\"ARG12\",\"ARG24\",\"ARG27\",\"ARG32\",\"ARG40\",\"ARG84\",\"ARG96\"],\"legendgroup\":\"\",\"marker\":{\"color\":\"white\",\"symbol\":\"circle\"},\"mode\":\"markers\",\"name\":\"\",\"orientation\":\"v\",\"showlegend\":false,\"x\":[-118.319,-77.7436,-72.3177,-70.848,-85.5151,-87.1323,-81.8942,-62.3135],\"xaxis\":\"x\",\"y\":[-54.391,119.584,-31.1123,-10.1791,-13.0517,126.452,-47.5341,-53.4847],\"yaxis\":\"y\",\"type\":\"scatter\"}],\"name\":\"1000\"}]);\n",
              "                        }).then(function(){\n",
              "                            \n",
              "var gd = document.getElementById('b4f1f4fc-55e8-4de4-af23-9b3e970934c9');\n",
              "var x = new MutationObserver(function (mutations, observer) {{\n",
              "        var display = window.getComputedStyle(gd).display;\n",
              "        if (!display || display === 'none') {{\n",
              "            console.log([gd, 'removed!']);\n",
              "            Plotly.purge(gd);\n",
              "            observer.disconnect();\n",
              "        }}\n",
              "}});\n",
              "\n",
              "// Listen for the removal of the full notebook cells\n",
              "var notebookContainer = gd.closest('#notebook-container');\n",
              "if (notebookContainer) {{\n",
              "    x.observe(notebookContainer, {childList: true});\n",
              "}}\n",
              "\n",
              "// Listen for the clearing of the current output cell\n",
              "var outputEl = gd.closest('.output');\n",
              "if (outputEl) {{\n",
              "    x.observe(outputEl, {childList: true});\n",
              "}}\n",
              "\n",
              "                        })                };                            </script>        </div>\n",
              "</body>\n",
              "</html>"
            ]
          },
          "metadata": {}
        }
      ]
    },
    {
      "cell_type": "markdown",
      "source": [
        "<mark>**Success!**</mark>\n",
        "\n",
        "Wow. This took a while. But the result is what I wanted. Each amino acid is in its own file, so I can add just the glycines to the glycine plot, etc. I could probably tweak a few more things, but I'll stop here for now. I will likely add more amino acids to this plot and set up separate plots for the glycines and the ILE-VALs.\n",
        "\n",
        "See [How to Save Plotly Animations: The Ultimate Guide](https://holypython.com/how-to-save-plotly-animations-the-ultimate-guide/) for how to save this animation on my MkDocs site.\n",
        "\n",
        ">In Github case you can simply start a public repository, upload your file to it, commit the file and then share its link in the `iframe`.\n",
        "\n",
        "```html\n",
        "<iframe width=\"900\" height=\"800\" frameborder=\"0\" scrollng=\"no\" src=\"https://holypython.github.io/holypython2/covid_cases.html\"></iframe>\n",
        "```"
      ],
      "metadata": {
        "id": "qpwsQpOk3-M2"
      }
    },
    {
      "cell_type": "markdown",
      "source": [
        "### Building Another Ramachandran Plot"
      ],
      "metadata": {
        "id": "7ammonej1_RH"
      }
    },
    {
      "cell_type": "markdown",
      "source": [
        "Let's try to add a few more amino acids to the General Ramachandran plot."
      ],
      "metadata": {
        "id": "dgqyqwoP1vJL"
      }
    },
    {
      "cell_type": "code",
      "source": [
        "# move into the directory with the files\n",
        "%cd rama"
      ],
      "metadata": {
        "id": "qZcLsFA54bmX",
        "colab": {
          "base_uri": "https://localhost:8080/"
        },
        "outputId": "67df94d1-7f46-4c37-b5bb-b64bdd3aeae8"
      },
      "execution_count": null,
      "outputs": [
        {
          "output_type": "stream",
          "name": "stdout",
          "text": [
            "/content/drive/MyDrive/rama\n"
          ]
        }
      ]
    },
    {
      "cell_type": "markdown",
      "source": [
        "#### Prepare the files"
      ],
      "metadata": {
        "id": "r8ejxJyX2KCd"
      }
    },
    {
      "cell_type": "code",
      "source": [
        "import os\n",
        "import pandas as pd\n",
        "import glob\n",
        "\n",
        "globbed_files = glob.glob(\"AR*.csv\")\n",
        "# print(globbed_files)\n",
        "# this worked"
      ],
      "metadata": {
        "id": "ubghn9eN2tDz"
      },
      "execution_count": null,
      "outputs": []
    },
    {
      "cell_type": "code",
      "source": [
        "# don't need this cell\n",
        "# the cell below worked\n",
        "list_of_dfs = [pd.read_csv(filename, \n",
        "                           header=None, \n",
        "                           sep='\\s\\s+', \n",
        "                           engine='python') \n",
        "for filename in globbed_files]\n",
        "print(list_of_dfs)\n",
        "# this worked"
      ],
      "metadata": {
        "id": "-sKGfRqB7k1_"
      },
      "execution_count": null,
      "outputs": []
    },
    {
      "cell_type": "markdown",
      "source": [
        "The most useful information was from this question/answer on Stackoverflow: [Python Pandas add Filename Column CSV](https://stackoverflow.com/questions/41857659/python-pandas-add-filename-column-csv)."
      ],
      "metadata": {
        "id": "uneJWy3BaN-J"
      }
    },
    {
      "cell_type": "code",
      "source": [
        "globbed_files = glob.glob(\"AR*.csv\") #creates a list of all csv files\n",
        "\n",
        "data = [] # pd.concat takes a list of dataframes as an agrument\n",
        "for csv in globbed_files:\n",
        "    frame = pd.read_csv(csv, header=None, sep='\\s\\s+', engine='python')\n",
        "    frame.columns=[\"phi\", \"psi\"]\n",
        "    frame['filename'] = os.path.basename(csv)\n",
        "    data.append(frame)\n",
        "    frame['time'] = (range(0, 1010, 10))\n",
        "    frame2 = frame['filename'].str.split('.', expand = True)\n",
        "    frame[\"aa\"]= frame2[0]\n",
        "    del frame[\"filename\"]\n",
        "\n",
        "# print(frame)\n",
        "\n",
        "# Add a time column to the DataFrame\n",
        "# frame['time'] = (range(0, 1010, 10)) # range starting at 0 ending at 1000 with a stepsize of 10.)\n",
        "\n",
        "# making a new dataframe from splitting the column\n",
        "# frame2 = frame['filename'].str.split('.', expand = True)\n",
        "\n",
        "# adding the separate amino acid column from the new data frame\n",
        "# frame[\"aa\"]= frame2[0]\n",
        "# delete the filename column\n",
        "# del frame[\"filename\"]\n",
        "# print(frame)\n",
        "\n",
        "bigframe = pd.concat(data, ignore_index=True) # dont want pandas to try an align row indexes\n",
        "print(bigframe)\n",
        "# bigframe.to_csv(\"Pandas_output2.csv\")\n",
        "# print(bigframe)\n",
        "# print(frame)\n",
        "# This worked to make a large .csv file"
      ],
      "metadata": {
        "colab": {
          "base_uri": "https://localhost:8080/"
        },
        "id": "hSBn1f139Jab",
        "outputId": "3b5e5bb0-8271-4b03-ba74-7dad75e45c25"
      },
      "execution_count": null,
      "outputs": [
        {
          "output_type": "stream",
          "name": "stdout",
          "text": [
            "          phi       psi  time      aa\n",
            "0   -136.1290  179.4160     0  ARG104\n",
            "1   -124.4370  149.5180    10  ARG104\n",
            "2   -143.4290  159.3080    20  ARG104\n",
            "3   -114.2420  110.7290    30  ARG104\n",
            "4   -121.3340  130.1790    40  ARG104\n",
            "..        ...       ...   ...     ...\n",
            "803  -49.4732  -45.9122   960   ARG96\n",
            "804  -68.9671  -30.8921   970   ARG96\n",
            "805  -65.6781  -17.0645   980   ARG96\n",
            "806  -85.1430  -29.5437   990   ARG96\n",
            "807  -62.3135  -53.4847  1000   ARG96\n",
            "\n",
            "[808 rows x 4 columns]\n"
          ]
        }
      ]
    },
    {
      "cell_type": "markdown",
      "source": [
        "Add the `bigframe` to the animated time series chart, above."
      ],
      "metadata": {
        "id": "I7cvrprfGAoy"
      }
    }
  ]
}