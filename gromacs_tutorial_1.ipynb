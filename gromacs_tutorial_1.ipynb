{
  "nbformat": 4,
  "nbformat_minor": 0,
  "metadata": {
    "colab": {
      "name": "gromacs-tutorial-1.ipynb",
      "provenance": [],
      "collapsed_sections": [],
      "include_colab_link": true
    },
    "kernelspec": {
      "name": "python3",
      "display_name": "Python 3"
    },
    "accelerator": "GPU"
  },
  "cells": [
    {
      "cell_type": "markdown",
      "metadata": {
        "id": "view-in-github",
        "colab_type": "text"
      },
      "source": [
        "<a href=\"https://colab.research.google.com/github/dgoppenheimer/PCB3109-Cancer-Biology/blob/main/gromacs_tutorial_1.ipynb\" target=\"_parent\"><img src=\"https://colab.research.google.com/assets/colab-badge.svg\" alt=\"Open In Colab\"/></a>"
      ]
    },
    {
      "cell_type": "markdown",
      "metadata": {
        "id": "WutUwTFo2e4j"
      },
      "source": [
        "#Lab.07 / IBM3202 – Molecular Dynamics on GROMACS"
      ]
    },
    {
      "cell_type": "markdown",
      "metadata": {
        "id": "FQMdCpigVK-X"
      },
      "source": [
        "###Theoretical aspects\n",
        "\n",
        "As we discussed in class, the core mechanism of **molecular dynamics (MD)** is **numerically solving Newton’s equation of motion** by deriving the **potential energy** (i.e. the energy of bonded and non-bonded interactions) for each atom during propagation of their changes in position upon time. These changes in position are the consequence of both **atom-atom interactions** and **thermal motions** (kinetic energy)."
      ]
    },
    {
      "cell_type": "markdown",
      "metadata": {
        "id": "mD5dj8UMSqEC"
      },
      "source": [
        "<figure>\n",
        "<center>\n",
        "<img src='https://raw.githubusercontent.com/pb3lab/ibm3202/master/images/MD_01.png'/>\n",
        "<figcaption>FIGURE 1. The performance (ns/day) of molecular dynamics simulations depend on (A) the number of atoms of the simulated system and (B) the use of CPU alone or combined with GPU nodes for performing the simulations. <br> Kutzner C et al (2014) <i> IOS Press, 722-730</i>; Kutzner C et al (2019) <i> J Comput Chem 40(27), 2418-2431</i></figcaption></center>\n",
        "</figure>"
      ]
    },
    {
      "cell_type": "markdown",
      "metadata": {
        "id": "A8w7VY84UDOc"
      },
      "source": [
        "As most of the potential energy is a pairwise calculation, with **most of these calculations corresponding to non-bonded interactions** (and requiring switching functions and distance cut-off strategies to reduce their computational costs), the **time required for solving these equations exponentially increases with the number of particles in the system**. In previous years, these computational needs were typically alleviated with costly hardware investments in CPU computing power. But during the last years, several MD simulation packages have been developed to compute most (if not all of) **non-bonded interactions** on consumer-grade GPUs, off-loading the CPU and generating significant speedups in affordable computers.\n",
        "\n",
        "Luckily for us, the advent of **cloud computing** and the emergence of **Google Colab** heavily relies on the use of GPUs. Thus, these cloud services can be efficiently use to perform **10 to 100 ns-long MD simulations**.\n",
        "\n"
      ]
    },
    {
      "cell_type": "markdown",
      "metadata": {
        "id": "eiopP7EdVjqt"
      },
      "source": [
        "##Experimental Overview"
      ]
    },
    {
      "cell_type": "markdown",
      "metadata": {
        "id": "4CMeTYlZVo6P"
      },
      "source": [
        "Inspired by the COVID-19 pandemic, in this laboratory session we will perfom an MD simulation of the **papain-like protease of SARS-CoV-2**, a current drug-design target to combat this virus.\n",
        "\n",
        "For our laboratory session, we will compile and install **GROMACS**, an MD simulation package that we will use to set-up and perform our simulations. We will visualize our protein structure using **py3Dmol**, while the simulation trajectories from our MD production runs will be visualized in a web version of **NGLview**. We will also analyze some parameters regarding the proper equilibration of our simulation system, but a deeper analysis of protein motions will take case in the next tutorial."
      ]
    },
    {
      "cell_type": "markdown",
      "metadata": {
        "id": "xkpCp93eQsUS"
      },
      "source": [
        "<figure>\n",
        "<center>\n",
        "<img src='https://raw.githubusercontent.com/pb3lab/ibm3202/master/images/MD_02.jpg' />\n",
        "<figcaption>FIGURE 2. General steps for performing MD simulations. Starting from a experimental or modelled protein structure, a simulation system is prepared by setting up a simulation box, solvating the protein with water and neutralizing the total charge of the system with counterions. Then, the simulations are performed, visualized and analyzed in terms of their protein motions and energetic features<br>Morgnanesi D et al (2015) <i>Antiviral Res 123, 204-215</i></figcaption></center>\n",
        "</figure>"
      ]
    },
    {
      "cell_type": "markdown",
      "metadata": {
        "id": "buTRd47h4QfK"
      },
      "source": [
        "#Part 0. Downloading and Installing the required software"
      ]
    },
    {
      "cell_type": "markdown",
      "metadata": {
        "id": "KSAoowL_4XIV"
      },
      "source": [
        "Before we start, you must:\n",
        "1. Remember to **start the hosted runtime** in Google Colab.\n",
        "2. **VERY IMPORTANT‼️** Go to *Runtime* -> *Change Runtime Type* and select GPU.\n",
        "\n",
        "Then, we must install three pieces of software to perform this tutorial. Namely:\n",
        "- **biopython** for manipulation of the PDB files\n",
        "- **py3Dmol** for visualization of the protein structure.\n",
        "- **GROMACS** for preparing our MD system and performing our MD simulations.\n",
        "\n",
        "\n",
        "For visualizing our MD trajectories, we will employ a web version of **NGLview**. This is due to the inability of Google Colab to handle a required python package for loading NGLview directly onto Google Colab. Hopefully this will change in the near future.\n",
        "The analysis of our trajectories will be mostly performed on the next laboratory session!\n",
        "\n",
        "1. We will first start by setting up **GROMACS** on Google Colab, based on a  previously compiled and installed GROMACS."
      ]
    },
    {
      "cell_type": "code",
      "metadata": {
        "id": "hLoWxW4grDM4"
      },
      "source": [
        "# Download and unzip the compressed folder of GROMACS 2020.6 version\n",
        "!wget https://raw.githubusercontent.com/pb3lab/ibm3202/master/software/gromacs.tar.gz\n",
        "!tar xzf gromacs.tar.gz"
      ],
      "execution_count": null,
      "outputs": []
    },
    {
      "cell_type": "code",
      "metadata": {
        "id": "MmJ7G3hnrYCD"
      },
      "source": [
        "# It is recommended (and required for GROMACS 2021) to upgrade cmake\n",
        "!pip install cmake --upgrade"
      ],
      "execution_count": null,
      "outputs": []
    },
    {
      "cell_type": "code",
      "metadata": {
        "id": "tqvwCXoSt9rc"
      },
      "source": [
        "# Checking that our GROMACS works\n",
        "%%bash\n",
        "source /content/gromacs/bin/GMXRC\n",
        "gmx -h"
      ],
      "execution_count": null,
      "outputs": []
    },
    {
      "cell_type": "markdown",
      "metadata": {
        "id": "Ez1xNIKSuCOq"
      },
      "source": [
        "2. Now, we will install **py3Dmol** as follows:"
      ]
    },
    {
      "cell_type": "code",
      "metadata": {
        "id": "mFxdeBHvatJY"
      },
      "source": [
        "#Installing py3Dmol using pip\n",
        "!pip install py3Dmol"
      ],
      "execution_count": null,
      "outputs": []
    },
    {
      "cell_type": "code",
      "metadata": {
        "id": "jS2vRGLx40Du"
      },
      "source": [
        "#Importing py3Dmol for safety\n",
        "import py3Dmol"
      ],
      "execution_count": null,
      "outputs": []
    },
    {
      "cell_type": "markdown",
      "metadata": {
        "id": "SZV00fbm-VbH"
      },
      "source": [
        "3. Finally, we will install **biopython**"
      ]
    },
    {
      "cell_type": "code",
      "metadata": {
        "id": "jGMa9FJWELAG"
      },
      "source": [
        "#Installing biopython using pip\n",
        "!pip install biopython"
      ],
      "execution_count": null,
      "outputs": []
    },
    {
      "cell_type": "markdown",
      "metadata": {
        "id": "5j24YCyD7Zlf"
      },
      "source": [
        "Once these software installation processes are completed, we are ready to perform our experiments"
      ]
    },
    {
      "cell_type": "markdown",
      "metadata": {
        "id": "hN3gmz4tibn1"
      },
      "source": [
        "# Part I – Setting up the MD simulation system"
      ]
    },
    {
      "cell_type": "markdown",
      "metadata": {
        "id": "DyUu89kziqAH"
      },
      "source": [
        "GROningen Machine for Chemical Simulations (**GROMACS**) is an open-source, free software developed by the University of Groningen with consistent and continuous support. It also has been optimized for calculations by maximizing the usage of all available computational resources (GPU and CPU). Once installed, you can access all the modules it has for setting up, running and analyzing MD simulations by just inputting:\n",
        "\n",
        "**`gmx [module]`**\n",
        "\n",
        "The list of modules can be displayed when **`[module]=help`**. Try it out here!"
      ]
    },
    {
      "cell_type": "code",
      "metadata": {
        "id": "qh8cactSNW09"
      },
      "source": [
        "#We will constantly need to source GMXRC for GROMACS to work\n",
        "%%bash\n",
        "source /content/gromacs/bin/GMXRC\n",
        "\n",
        "#Try gmx here!\n"
      ],
      "execution_count": null,
      "outputs": []
    },
    {
      "cell_type": "markdown",
      "metadata": {
        "id": "RBTOUZrsjEK8"
      },
      "source": [
        "The initial steps of setting up a system for MD simulations are:\n",
        "\n",
        "1. **Cleaning up** the input atomic coordinates\n",
        "2. **Parameterizing** the atoms building up our system\n",
        "3. **Solvating** our protein (and adding a lipid membrane in the case of membrane proteins)\n",
        "4. **Adding** counterions to neutralize the global charge of the system"
      ]
    },
    {
      "cell_type": "markdown",
      "metadata": {
        "id": "0W5ieq38OB_M"
      },
      "source": [
        "### Part I.1 – Cleaning up the input atomic coordinates"
      ]
    },
    {
      "cell_type": "markdown",
      "metadata": {
        "id": "1zUmEAtiQRi-"
      },
      "source": [
        "For this step, we first need an initial set of atomic coordinates, usually coming from a protein structure downloaded from the Protein Data Bank. Once download, these PDB files must be cleaned from water molecules (in the case of crystal structures) or a single model must be selected from the many solutions for a single set of chemical shifts (in the case of NMR structures).\n",
        "\n",
        "1. We will first start by making a folder for preparing our system and running our simulations, as we have done in the past (remember our Molecular Docking tutorial?)"
      ]
    },
    {
      "cell_type": "code",
      "metadata": {
        "id": "ADDcnBQQQxd4"
      },
      "source": [
        "#Let's make a folder first. We need to import the os and path library\n",
        "import os\n",
        "from pathlib import Path \n",
        "\n",
        "#Then, we define the path of the folder we want to create.\n",
        "#Notice that the HOME folder for a hosted runtime in colab is /content/\n",
        "mdpath = Path(\"/content/md01/\")\n",
        "\n",
        "#Now, we create the folder using the os.mkdir() command\n",
        "#The if conditional is just to check whether the folder already exists\n",
        "#In which case, python returns an error\n",
        "if os.path.exists(mdpath):\n",
        "  print(\"path already exists\")\n",
        "if not os.path.exists(mdpath):\n",
        "  os.mkdir(mdpath)\n",
        "  print(\"path was succesfully created\")"
      ],
      "execution_count": null,
      "outputs": []
    },
    {
      "cell_type": "markdown",
      "metadata": {
        "id": "t2ZYvNNIQ_JR"
      },
      "source": [
        "2. Then, we will change directory to this newly created folder and download the recently X-ray solved structure of the papain-like protease (PLpro) of SARS-CoV-2 (PDB 6WZU)."
      ]
    },
    {
      "cell_type": "code",
      "metadata": {
        "id": "ty_KzPx9RSmP"
      },
      "source": [
        "#First, we will change to the new folder. We will use python now :)\n",
        "os.chdir(mdpath)"
      ],
      "execution_count": null,
      "outputs": []
    },
    {
      "cell_type": "code",
      "metadata": {
        "id": "CNQQ8VEPRL-g"
      },
      "source": [
        "#Importing your PDB file using biopython\n",
        "import os\n",
        "from Bio.PDB import *\n",
        "pdbid = ['6wzu']\n",
        "pdbl = PDBList()\n",
        "for s in pdbid:\n",
        "  pdbl.retrieve_pdb_file(s, pdir='.', file_format =\"pdb\", overwrite=True)\n",
        "  os.rename(\"pdb\"+s+\".ent\", s+\".pdb\")"
      ],
      "execution_count": null,
      "outputs": []
    },
    {
      "cell_type": "markdown",
      "metadata": {
        "id": "SYlG6sYtEU23"
      },
      "source": [
        "3. This structure has a few residues in two different conformations (remember when we discussed **occupancy** in classes and during our second tutorial?). We can filter out one of them,  "
      ]
    },
    {
      "cell_type": "code",
      "metadata": {
        "id": "3FiWknMjYscK"
      },
      "source": [
        "#Here we set up a parser for our PDB\n",
        "parser = PDBParser()\n",
        "io=PDBIO()\n",
        "structure = parser.get_structure('X', '6wzu.pdb')\n",
        "#And here we set the residue conformation we want to keep\n",
        "keepAltID = \"A\"\n",
        "\n",
        "class KeepOneConfOnly(Select):  # Inherit methods from Select class\n",
        "    def accept_atom(self, atom):\n",
        "        if (not atom.is_disordered()) or atom.get_altloc() == keepAltID:\n",
        "            atom.set_altloc(\" \")  # Eliminate alt location ID before output.\n",
        "            return True\n",
        "        else:  # Alt location was not one to be output.\n",
        "            return False\n",
        "        # end of accept_atom()\n",
        "\n",
        "#This will keep only conformation for each residue\n",
        "io.set_structure(structure)\n",
        "io.save(\"6wzu_ready.pdb\", select=KeepOneConfOnly())\n",
        "print(\"Your PDB was processed. Alternative side chain conformations removed!\")"
      ],
      "execution_count": null,
      "outputs": []
    },
    {
      "cell_type": "markdown",
      "metadata": {
        "id": "p_sPjQAVU37A"
      },
      "source": [
        "4. Commonly, crystallographic waters and other solvent molecules are stripped from the experimentally solved structure before preparing the MD system. This is also useful for removing hydrogens, which are often found in NMR structures, as they are a nightmare to pass through the atomic conventions of a given force field. We can do this using `Dice` from **biopython** as show in the code cell bellow.\n",
        "\n",
        "❗️**NOTE:** This procedure is not universally appropriate. Some water molecules could be essential for the function of a protein and thus maintained in the simulation. Also, `Dice` removes ligands, which in some cases need to be maintained depending on the goal of your simulations and the ability to parameterize your ligands. Sometimes, it will be more useful to use `grep`. For example:\n",
        "\n",
        "  `!grep -v \"HOH\" 6WZU_ready.pdb > 6WZU_clean.pdb`\n",
        "  \n",
        "  This grep command would remove only water molecules from the PDB file."
      ]
    },
    {
      "cell_type": "code",
      "metadata": {
        "id": "ZSkY4VFofNsG"
      },
      "source": [
        "#Here we set up a parser for our PDB\n",
        "parser = PDBParser()\n",
        "io=PDBIO()\n",
        "structure = parser.get_structure('X', '6wzu_ready.pdb')\n",
        "#And here we remove hydrogens, waters and ligands using Dice\n",
        "io.set_structure(structure)\n",
        "sel = Dice.ChainSelector('A', 1, 5000)\n",
        "io.save(\"6wzu_clean.pdb\", sel)\n",
        "print(\"Your PDB was processed. Only the protein heavy atoms have been kept!\")"
      ],
      "execution_count": null,
      "outputs": []
    },
    {
      "cell_type": "markdown",
      "metadata": {
        "id": "0WrwCayRJ2_9"
      },
      "source": [
        "5. Let's load the protein that we are working with using py3dmol"
      ]
    },
    {
      "cell_type": "code",
      "metadata": {
        "id": "jBmmpirzJ--G"
      },
      "source": [
        "#First we assign the py3Dmol.view as view\n",
        "view=py3Dmol.view()\n",
        "#The following lines are used to add the addModel class\n",
        "#to read the PDB files\n",
        "view.addModel(open('6wzu_clean.pdb', 'r').read(),'pdb')\n",
        "#Here we set the background color as white\n",
        "view.setBackgroundColor('white')\n",
        "#Here we set the visualization style and color\n",
        "view.setStyle({'chain':'A'},{'cartoon': {'color':'spectrum'}})\n",
        "#Centering view on all visible atoms\n",
        "view.zoomTo()\n",
        "#And we finally visualize the structures using the command below\n",
        "view.show()"
      ],
      "execution_count": null,
      "outputs": []
    },
    {
      "cell_type": "markdown",
      "metadata": {
        "id": "FdT_B5KPLb9z"
      },
      "source": [
        "### Part I.2 – Parameterizing the atoms building up our system"
      ]
    },
    {
      "cell_type": "markdown",
      "metadata": {
        "id": "p_CQME7VLb91"
      },
      "source": [
        "Now, we will work with GROMACS to parameterize our protein, generating:\n",
        "\n",
        "*   A **.gro** or **.pdb** coordinate file that contains all the atom types as defined by a given force field (including hydrogens).\n",
        "*   A **.top** topology file containing the parameters for bonds, angles, dihedrals and non-bonded interactions defined by a given force field (potential energy function) to employ in our simulations.\n",
        "\n",
        "1. We will parameterize our protein using the **AMBER99SB-ILDN force field** on GROMACS and obtain these files using `gmx` as shown in the code cell below. This force field is extensively used in MD simulations and has parameters that well-represent the dynamics and flexibility of folded proteins. Notice that the dynamics of highly motile proteins or intrinsically disordered regions is not the main dataset for which this force field was parameterized, and other options may better suit such goals."
      ]
    },
    {
      "cell_type": "code",
      "metadata": {
        "id": "r2pXB2yBNitn"
      },
      "source": [
        "%%bash\n",
        "source /content/gromacs/bin/GMXRC\n",
        "\n",
        "#Using pdb2gmx to parameterize our PDB with the AMBER forcefield and SPC/E water\n",
        "gmx pdb2gmx -f 6wzu_clean.pdb -o 6wzu_processed.pdb -water spce -ignh -ff amber99sb-ildn"
      ],
      "execution_count": null,
      "outputs": []
    },
    {
      "cell_type": "markdown",
      "metadata": {
        "id": "DtipWVfITohN"
      },
      "source": [
        "When using this command, the `-f` option corresponds to the input file, the `-ff` option allows to define the force field to be used and the `-o` option provides the output name for the .coordinate file. The topology file receives a default `topol.top` name, although this can be altered with the `-p` option. \n",
        "\n",
        "We are also indicating the type of water molecule that we will be using in our simulations through the `-water` option. Yes, there are many water models, but their features are outside the scope of our tutorial. Our selected water model is SPC/E (simple point charge - extended), which models water molecules as a 3-point molecule, each with its own charge. TIP3P is a more common water model, similar to SPC/E but with slightly different parameters. The accuracy of the model used changes depending on the calculations that you will perform, as their dynamic and energetics will differ.\n",
        "\n",
        "❗️**NOTE:** When working with NMR files, it is useful to incorporate the `-ignh` option, that allows to ignore hydrogens contained in the PDB file. During parameterization, hydrogens are always added back by the force field, as it contains the typical distance parameters for all atoms based on experimental/quantum mechanics analysis."
      ]
    },
    {
      "cell_type": "markdown",
      "metadata": {
        "id": "WMzOCtaMBe04"
      },
      "source": [
        "### Part I.3 – Solvating our protein"
      ]
    },
    {
      "cell_type": "markdown",
      "metadata": {
        "id": "oURH0BYLBe05"
      },
      "source": [
        "We will now define a periodic box for our simulation system, in which our protein will be centered ,and then fill this box with water molecules, thus solvating our protein.\n",
        "\n",
        "Given the use of **periodic boundary conditions** and the computational costs of the evaluation of non-bonded interactions, it is imperative to properly define the distance of the periodic box such that it is large enough to avoid interactions between our molecule and its periodic images, while at the same time minimizing the number of water molecules (in essence, the number of non-bonded interactions to evaluate during the simulation).\n",
        "\n",
        "It is often recommended for globular proteins to have a **padding distance** between the furthest protein atom from the center of the periodic box and its edges of 1.0-1.5 nm. If your system has one dimension much larger than the others (i.e. fibrillar proteins) you may wish to draw this periodic box more carefully. \n",
        "\n",
        "1. First, we will generate a periodic box using `editconf` as follows:"
      ]
    },
    {
      "cell_type": "code",
      "metadata": {
        "id": "RuQ_SFwiCrqk"
      },
      "source": [
        "%%bash\n",
        "source /content/gromacs/bin/GMXRC\n",
        "\n",
        "#Using editconf to create a cubic box with 1.0 nm padding for our solvated system\n",
        "gmx editconf -f 6wzu_processed.pdb -o 6wzu_newbox.pdb -c -d 1.0 -bt cubic"
      ],
      "execution_count": null,
      "outputs": []
    },
    {
      "cell_type": "markdown",
      "metadata": {
        "id": "eHNCXWbMC7Uo"
      },
      "source": [
        "The options provided to `editconf` enable to center (`-c`) the atom coordinates of our protein (`-f`) in a cubic box (`-bt cubic`) with a padding distance of 1.0 nm from the box edge (`-d 1.0`).\n",
        "\n",
        "Given periodic boundary conditions, this means that the system will be at the closest 2.0 nm from itself, in which most of the non-bonded terms are out of range between periodic images due to the use of distance cut-offs. Thus, the only molecules that will be interacting between the edges of the periodic box are water molecules and ions. These new coordinates and simulation box are saved in a new coordinate file (`-o`)."
      ]
    },
    {
      "cell_type": "markdown",
      "metadata": {
        "id": "0NLGzonHDvjw"
      },
      "source": [
        "2. Once the periodic box is defined, we proceed to fill this box with water molecules using `solvate`. To do this, we execute:"
      ]
    },
    {
      "cell_type": "code",
      "metadata": {
        "id": "GfaabbTvD6xA"
      },
      "source": [
        "%%bash\n",
        "source /content/gromacs/bin/GMXRC\n",
        "\n",
        "#Using solvate to fill up our box with water molecules\n",
        "gmx solvate -cp 6wzu_newbox.pdb -o 6wzu_solv.pdb -p topol.top"
      ],
      "execution_count": null,
      "outputs": []
    },
    {
      "cell_type": "markdown",
      "metadata": {
        "id": "2H5OJEC7EC78"
      },
      "source": [
        "Please note that, given the addition of water molecules to our simulation system, we are generating **a new topology file** (`-p` option) and **a new coordinate file with added water molecules** (`-o` option).\n",
        "\n",
        "Whenever we write a new topology file (or any file with the same name), GROMACS backups the previous file by adding a `#` symbol (i.e. `#topol.top.1`) and then generates the new .top file. This way you do not have to worry about backing up the files."
      ]
    },
    {
      "cell_type": "markdown",
      "metadata": {
        "id": "AkXogUTpEiG2"
      },
      "source": [
        "**QUESTION❓:** From reading the output of the previous command, how many water molecules were added? "
      ]
    },
    {
      "cell_type": "markdown",
      "metadata": {
        "id": "_13vH8K-E6s5"
      },
      "source": [
        "3. Let's look at the solvated system using py3Dmol! How are the water molecules solvating the protein? Are the molecules homogeneously distributed?"
      ]
    },
    {
      "cell_type": "code",
      "metadata": {
        "id": "WRB_ek2VTnlP"
      },
      "source": [
        "#First we assign the py3Dmol.view as view\n",
        "view=py3Dmol.view()\n",
        "#The following lines are used to add the addModel class\n",
        "#to read the PDB files\n",
        "view.addModel(open('6wzu_solv.pdb', 'r').read(),'pdb')\n",
        "#Here we set the background color as white\n",
        "view.setBackgroundColor('white')\n",
        "#Here we set the visualization style and color\n",
        "view.setStyle({'cartoon': {'color':'green'}})\n",
        "#Here we add a style for showing the oxygen from water molecules\n",
        "view.addStyle({'atom':'OW'},{'sphere':{'radius':'0.2'}})\n",
        "#Centering the view on all visible atoms\n",
        "view.zoomTo()\n",
        "#And we finally visualize the structures using the command below\n",
        "view.show()"
      ],
      "execution_count": null,
      "outputs": []
    },
    {
      "cell_type": "markdown",
      "metadata": {
        "id": "OJkvYoHEPaXA"
      },
      "source": [
        "## Part I.4 – Adding counterions to neutralize the global charge of the system"
      ]
    },
    {
      "cell_type": "markdown",
      "metadata": {
        "id": "FawDoVp4P7zl"
      },
      "source": [
        "Now we have a solvated box, but our system has a **non-zero charge**. This is an issue, as each periodic box will have a formal charge, which would cause electrostatic potentials to become unrealistically high among periodic images. Thus, we need to neutralize the charges of our simulation system.\n",
        "\n",
        "1. Let's easily determine the absolute charge in our system by using `grep`"
      ]
    },
    {
      "cell_type": "code",
      "metadata": {
        "id": "sw_wHYRTQH2m"
      },
      "source": [
        "!grep \"qtot\" topol.top"
      ],
      "execution_count": null,
      "outputs": []
    },
    {
      "cell_type": "markdown",
      "metadata": {
        "id": "WKe8CNn0QmgM"
      },
      "source": [
        "**QUESTION❓:** What is the total charge of our system?"
      ]
    },
    {
      "cell_type": "markdown",
      "metadata": {
        "id": "IDdhklyOQ4A4"
      },
      "source": [
        "To neutralize the simulation system, we will replace water molecules with the counterions required to get the absolute charge of the system to **zero**. While this might be sufficient for globular proteins in water, in some cases you might find more useful to reach a particular salt concentration or generate charge differences, for example in the case of simulations of ion channels in a lipid bilayer."
      ]
    },
    {
      "cell_type": "markdown",
      "metadata": {
        "id": "Cx8YZh6OQyFV"
      },
      "source": [
        "2. The addition of counterions is achieved by building a **portable binary run input file for GROMACS**, or **.tpr file**. This file contains the information from the coordinates, topology/parameters and an **MD instruction file** (**.mdp**). This instruction file contains all the parameters that will be used for running different calculations, and you can input flags that will be read by those specific programs.\n",
        "\n",
        "  We will download and use a predefined **ions.mdp** file (**please take a look at it!**) onto our simulation folder and generate the .tpr run input file by executing the following command with the `grompp` module:"
      ]
    },
    {
      "cell_type": "code",
      "metadata": {
        "id": "UzCySYRYRpF1"
      },
      "source": [
        "%%bash\n",
        "wget https://raw.githubusercontent.com/pb3lab/ibm3202/master/files/ions.mdp\n",
        "source /content/gromacs/bin/GMXRC\n",
        "\n",
        "#Using grompp and an MD instruction file to add counterions to our system\n",
        "gmx grompp -f ions.mdp -c 6wzu_solv.pdb -p topol.top -o ions.tpr"
      ],
      "execution_count": null,
      "outputs": []
    },
    {
      "cell_type": "markdown",
      "metadata": {
        "id": "OY37dDfGR4SZ"
      },
      "source": [
        "Please note that, in the case of `grompp`, the `-f` option is now used for the .mdp file, while `-c` is used for the coordinates.\n",
        "\n",
        "3. Once this is done, run the `genion` module for randomly replacing water molecules in your simulation system with an appropriate number and type of counterions.\n",
        "\n",
        "❗️**NOTE:** Usually `gmx` would **interactively request us** to choose a group for this replacement (in our case, group 13 \"SOL\", corresponding to water molecules). Here, we are solving the impediment of doing this on Google Colab by **generating a text file with these options**, which then we pass onto `gmx` to be read"
      ]
    },
    {
      "cell_type": "code",
      "metadata": {
        "id": "oWsrn4L7SEWW"
      },
      "source": [
        "%%bash\n",
        "source /content/gromacs/bin/GMXRC\n",
        "\n",
        "#This is a trick to provide interactive options to gmx\n",
        "echo \"SOL\" > options\n",
        "echo \" \" >> options\n",
        "\n",
        "#Using genion and the tpr to add counterions to our solvated system\n",
        "gmx genion -s ions.tpr -o 6wzu_solv_ions.pdb -p topol.top -pname NA -nname CL -neutral < options"
      ],
      "execution_count": null,
      "outputs": []
    },
    {
      "cell_type": "markdown",
      "metadata": {
        "id": "dDzrzHtIbB8q"
      },
      "source": [
        "**QUESTION❓:** What type of monovalent ion was added? How many ions were added?"
      ]
    },
    {
      "cell_type": "markdown",
      "metadata": {
        "id": "2kaCHrZ2Rn8_"
      },
      "source": [
        "We have finalized preparing the simulation system with our protein in the center of a cubic box with 1.0 nm of padding, solvated in water molecules and neutralized with counterions. You can choose to visualize it using py3Dmol if you want!"
      ]
    },
    {
      "cell_type": "markdown",
      "metadata": {
        "id": "c6pJ51svIwvM"
      },
      "source": [
        "#Part II – Minimizing and Equilibrating the MD system"
      ]
    },
    {
      "cell_type": "markdown",
      "metadata": {
        "id": "2pau9_KLb8pY"
      },
      "source": [
        "Now, we are ready to perform the minimization of our system to eliminate the high energy and forces due to bad initial coordinates, and its equilibration at constant pressure and temperature (NPT ensemble)."
      ]
    },
    {
      "cell_type": "markdown",
      "metadata": {
        "id": "1cuS0d_oJGYk"
      },
      "source": [
        "1. We will start by downloading an MD instruction file that contains all of the parameters required for the minimization of our system. We will also print its contents for inspection."
      ]
    },
    {
      "cell_type": "code",
      "metadata": {
        "id": "fpc6RZfkd2i5"
      },
      "source": [
        "!wget https://raw.githubusercontent.com/pb3lab/ibm3202/master/files/em.mdp\n"
      ],
      "execution_count": null,
      "outputs": []
    },
    {
      "cell_type": "code",
      "metadata": {
        "id": "ytsgexktf0O-"
      },
      "source": [
        "#Check the content of the MDP file\n",
        "!paste em.mdp"
      ],
      "execution_count": null,
      "outputs": []
    },
    {
      "cell_type": "markdown",
      "metadata": {
        "id": "Ik60hrRCJ8gR"
      },
      "source": [
        "As you can see, the minimization process involves the use of a **steepest descent** (`steep`) integrator. This integrator, alongside conjugate gradient (`cg`) and a quasi-Newtonian method (`l-bfgs`), are **minimization algorithms** that instead of solving the positions for changes in the gradient (Newton’s equation of motion), look for changes in position that would **minimize the potential energy**.\n",
        "\n",
        "These minimization (sometimes referred to relaxation) protocols make sure that the **starting point from our simulations has a ΔU favorable enough** for Verlet and leapfrog algorithms (which enable the **propagation of changes in atom positions for each time step**) to be numerically integrable.\n",
        "\n",
        "In simpler words, this step is critical as starting from a high potential energy can generate from highly divergent simulations, in the mildest of cases, to energetic instabilities that would make our system impossible to numerically integrate (typically known as a **“system that explodes”**).\n"
      ]
    },
    {
      "cell_type": "markdown",
      "metadata": {
        "id": "P_xJRK0wLWrM"
      },
      "source": [
        "2. We will pre-process our files with `grompp` and then run our MD with `mdrun`. Check the resemblance (and also differences) of the use of `grompp` for adding neutralizing counterions and the system minimization."
      ]
    },
    {
      "cell_type": "code",
      "metadata": {
        "id": "P2usOEZ4J8Hh"
      },
      "source": [
        "%%bash\n",
        "source /content/gromacs/bin/GMXRC\n",
        "\n",
        "#Using grompp to prepare our minimization MD\n",
        "gmx grompp -f em.mdp -c 6wzu_solv_ions.pdb -p topol.top -o em.tpr\n",
        "\n",
        "#Run our minimization\n",
        "gmx mdrun -v -deffnm em -nb gpu"
      ],
      "execution_count": null,
      "outputs": []
    },
    {
      "cell_type": "markdown",
      "metadata": {
        "id": "bpXK8lq1L2yp"
      },
      "source": [
        "For `mdrun`, we are using the verbose option (`-v`) to output the changes in forces between atoms during the system minimization. As the system is minimized, these forces should be reduced when compared to the initial system.\n",
        "\n",
        "The `-deffnm` option simply states that all MD-generated files will have the same standard name (in this case, *em*) as the .tpr file generated with `grompp`\n",
        "\n",
        "**📚HOMEWORK:** Look up which files have been generated after `mdrun`. What is inside each generated file? If you do not know, **Google it!** This step is **obligatory**."
      ]
    },
    {
      "cell_type": "markdown",
      "metadata": {
        "id": "Q53wPzfStWAU"
      },
      "source": [
        "😱 **EMERGENCY BACKUP!** Ran out of time and could not minimize your system? Use the following code cell to download a readily minimized system:"
      ]
    },
    {
      "cell_type": "code",
      "metadata": {
        "id": "yIc8NdDZtlkv"
      },
      "source": [
        "#Use only in case of emergency\n",
        "!wget https://raw.githubusercontent.com/pb3lab/ibm3202/master/files/emergency_backup/lab07/6wzu_em.tar.gz\n",
        "!tar xzf 6wzu_em.tar.gz"
      ],
      "execution_count": null,
      "outputs": []
    },
    {
      "cell_type": "markdown",
      "metadata": {
        "id": "OzZMS778M9tn"
      },
      "source": [
        "3. Once our minimization is finished, we can check how the potential energy of the system changes over each minimization step. For this, we will use the `energy` module to extract the potential energy, and then we will plot it using **matplotlib**:"
      ]
    },
    {
      "cell_type": "code",
      "metadata": {
        "id": "6B29pBeTM8rY"
      },
      "source": [
        "%%bash\n",
        "source /content/gromacs/bin/GMXRC\n",
        "\n",
        "#This is a trick to provide interactive options to gmx\n",
        "echo \"Potential\" > options\n",
        "echo \" \" >> options\n",
        "\n",
        "#Using energy to extract the potential energy of the system\n",
        "gmx energy -f em.edr -o em_potential.xvg -xvg none < options"
      ],
      "execution_count": null,
      "outputs": []
    },
    {
      "cell_type": "code",
      "metadata": {
        "id": "4SdH8HvkN9Yp"
      },
      "source": [
        "#Plotting the potential energy of the system\n",
        "import matplotlib.pyplot as plt\n",
        "plt.style.use('seaborn-whitegrid')\n",
        "import numpy as np\n",
        "\n",
        "#Reading the text file containing this information\n",
        "data = np.loadtxt('em_potential.xvg')\n",
        "\n",
        "plt.title('Potential Energy during Minimization')\n",
        "plt.xlabel('Energy Minimization Step')\n",
        "plt.ylabel(r'E$_P$ [kJ•mol$^{-1}]$')\n",
        "plt.plot(data[:,0], data[:,1], linestyle='solid', linewidth='2', color='red') \n",
        "plt.show()"
      ],
      "execution_count": null,
      "outputs": []
    },
    {
      "cell_type": "markdown",
      "metadata": {
        "id": "SDRRj9gGQ2AC"
      },
      "source": [
        "Next, we will start our **equilibration**. This step is required given that we optimized the positions of the atoms according to our force field, but at no point we maximized the interactions between solvent and solute. We also have not established the **kinetic effect of temperature on atom motions** or the **pressure of our system**, thus making it unrelatable to experimental conditions.\n",
        "\n",
        "Thus, we will **equilibrate the energy and density of our system at constant temperature and pressure** before the MD production runs."
      ]
    },
    {
      "cell_type": "markdown",
      "metadata": {
        "id": "EF90ztD5R0n1"
      },
      "source": [
        "4. The first equilibration step is the **temperature**. Thus, we will start a MD simulation to equilibrate the system at a target temprature (in our case, 300K) using a thermal bath. The initial velocities for the atoms of our system at our target temperatureare obtained through a Maxwell distribution.\n",
        "\n",
        "  We will first download an appropriate MD instruction file and then run our simulation as we did before for the minimization. Also note that we are now using **GPU resources** for the non-bonded interactions."
      ]
    },
    {
      "cell_type": "code",
      "metadata": {
        "id": "6SFZAfVUfYAl"
      },
      "source": [
        "%%bash\n",
        "wget https://raw.githubusercontent.com/pb3lab/ibm3202/master/files/nvt.mdp\n",
        "\n",
        "#Using grompp to prepare our NVT equilibration MD\n",
        "source /content/gromacs/bin/GMXRC\n",
        "gmx grompp -f nvt.mdp -c em.gro -r em.gro -p topol.top -o nvt.tpr"
      ],
      "execution_count": null,
      "outputs": []
    },
    {
      "cell_type": "code",
      "metadata": {
        "id": "x2Z9izZA29kz"
      },
      "source": [
        "%%time\n",
        "%%bash\n",
        "#Run our NVT equilibration MD\n",
        "source /content/gromacs/bin/GMXRC\n",
        "gmx mdrun -deffnm nvt -nb gpu"
      ],
      "execution_count": null,
      "outputs": []
    },
    {
      "cell_type": "markdown",
      "metadata": {
        "id": "UfOPLXCMvLoq"
      },
      "source": [
        "😱 **EMERGENCY BACKUP!** Ran out of time and could not perform the NVT equilibration of your system? Use the following code cell to download a temperature-equilibrated system:"
      ]
    },
    {
      "cell_type": "code",
      "metadata": {
        "id": "-hl3i6Tbvdon"
      },
      "source": [
        "#Use only in case of emergency\n",
        "!wget https://raw.githubusercontent.com/pb3lab/ibm3202/master/files/emergency_backup/lab07/6wzu_nvt.tar.gz\n",
        "!tar xzf 6wzu_nvt.tar.gz"
      ],
      "execution_count": null,
      "outputs": []
    },
    {
      "cell_type": "markdown",
      "metadata": {
        "id": "mg3cVwBySkGl"
      },
      "source": [
        "If you take a look at the MD instruction file for this step, you will notice that we are now using a **leapfrog algorithm** (`md`) for propagation of the protein motions upon time.\n",
        "\n",
        " Among several parameters, we can read that the **hydrogen atoms are constrained**. This is because those nuclei have little mass and are commonly inside the Lennard-Jones radius of a molecule, lack any type of dihedral motions, and the distance of the bond is highly conserved. This is why constraint algorithms are used to simplify their movement equations, while keeping the effect they have on solvation and interactions. Given that the faster internal motions correspond to the bond vibrations between light atoms (such as hydrogen), their constraining enables the use of **higher timesteps** (in our case, we will use **2 fs**).\n",
        "\n",
        "Finally, in this equilibration step a **position restraining algorithm** is used to keep the heavy atoms of our protein in place. This is because we know our protein structure is mostly ideal (because it is modeled from experimental data), but our solvent molecules were just drawn around it. So, in this step we will keep our protein mostly in place and let the solvent rearrange around our protein as we would expect it to do at 300 K. This information is in the **posre.itp** (a position restrain file) that was generated at the beginning of the use of GROMACS. This restrain is performed via the `-r em.gro` option.\n"
      ]
    },
    {
      "cell_type": "markdown",
      "metadata": {
        "id": "bctYB0kwU_o3"
      },
      "source": [
        "5. What we just did corresponds to a simulation setup in which the number of atoms, the volume and the temperature are kept constant: **NVT ensemble**. Thus, the temperature of the system should oscillate around the desired temperature (in our case, 300 K). Let's check if this is true!"
      ]
    },
    {
      "cell_type": "code",
      "metadata": {
        "id": "onmMm5CJVb6x"
      },
      "source": [
        "%%bash\n",
        "source /content/gromacs/bin/GMXRC\n",
        "\n",
        "#This is a trick to provide interactive options to gmx\n",
        "echo \"Temperature\" > options\n",
        "echo \" \" >> options\n",
        "\n",
        "#Using energy to extract the temperature of the system during the NVT equil MD\n",
        "gmx energy -f nvt.edr -o nvt_temp.xvg -xvg none < options"
      ],
      "execution_count": null,
      "outputs": []
    },
    {
      "cell_type": "code",
      "metadata": {
        "id": "Gpn9-IoUVb65"
      },
      "source": [
        "#Plotting the temperature of the system\n",
        "import matplotlib.pyplot as plt\n",
        "plt.style.use('seaborn-whitegrid')\n",
        "import numpy as np\n",
        "\n",
        "#Reading the text file containing this information\n",
        "data = np.loadtxt('nvt_temp.xvg')\n",
        "\n",
        "plt.title('Temperature during 0.1 ns Equilibration (NVT)')\n",
        "plt.xlabel('Time (ps)')\n",
        "plt.ylabel('Temperature [K]')\n",
        "plt.plot(data[:,0], data[:,1], linestyle='solid', linewidth='2', color='red') \n",
        "plt.show()"
      ],
      "execution_count": null,
      "outputs": []
    },
    {
      "cell_type": "markdown",
      "metadata": {
        "id": "uzGjrmfZWIxz"
      },
      "source": [
        "6. The final equilibration step will allow us to implement **pressure regulation** to our system, which will maintain the density and pressure of our solvent constant so that it matches what we would expect for the SPC/E water model. Thus, in this case we will be using an ensemble in which the number of atoms, the pressure and the temperature of the system remain constant: **the NPT ensemble**.\n",
        "\n",
        "  We will perform the same steps we did before: download an MD instruction file, and then use `grompp` and `mdrun` to run the MD simulation. One big difference between this simulation phase and the previous ones is that we will employ a **checkpoint state file** (nvt.cpt), which allows for a numerical continuation of our simulations. This file constitutes a checkpoint of the previous NVT simulation, containing the potential energy of the system and the velocities."
      ]
    },
    {
      "cell_type": "code",
      "metadata": {
        "id": "L5XBoc3o3Iwd"
      },
      "source": [
        "%%bash\n",
        "wget https://raw.githubusercontent.com/pb3lab/ibm3202/master/files/npt.mdp\n",
        "\n",
        "#Using grompp to prepare our NPT equilibration MD\n",
        "source /content/gromacs/bin/GMXRC\n",
        "gmx grompp -f npt.mdp -c nvt.gro -r nvt.gro -t nvt.cpt -p topol.top -o npt.tpr"
      ],
      "execution_count": null,
      "outputs": []
    },
    {
      "cell_type": "code",
      "metadata": {
        "id": "5QtbiKZ83pff"
      },
      "source": [
        "%%time\n",
        "%%bash\n",
        "#Run our NPT equilibration MD\n",
        "source /content/gromacs/bin/GMXRC\n",
        "gmx mdrun -deffnm npt -nb gpu"
      ],
      "execution_count": null,
      "outputs": []
    },
    {
      "cell_type": "markdown",
      "metadata": {
        "id": "LZ0OyRHzmHbP"
      },
      "source": [
        "**⚠️CAUTION:** We used a Parrinello-Rahman barostat instead of Berendsen for the NPT equilibration. This should not be an issue if the system is adequately equilibrated, otherwise the combination of restraints and Parrinello-Rahman would be inappropriate as it could lead to instabilities."
      ]
    },
    {
      "cell_type": "markdown",
      "metadata": {
        "id": "-_AxopWHvW-m"
      },
      "source": [
        "😱 **EMERGENCY BACKUP!** Ran out of time and could not perform the NPT equilibration of your system? Use the following code cell to download a pressure-equilibrated system:"
      ]
    },
    {
      "cell_type": "code",
      "metadata": {
        "id": "tujkRQfcvhHR"
      },
      "source": [
        "#Use only in case of emergency\n",
        "!wget https://raw.githubusercontent.com/pb3lab/ibm3202/master/files/emergency_backup/lab07/6wzu_npt.tar.gz\n",
        "!tar xzf 6wzu_npt.tar.gz"
      ],
      "execution_count": null,
      "outputs": []
    },
    {
      "cell_type": "markdown",
      "metadata": {
        "id": "vuu5jtpYW3LH"
      },
      "source": [
        "7. Given that we are using an NPT ensemble to maintain our simulation at constant pressure and density, we should check if this is achieved."
      ]
    },
    {
      "cell_type": "code",
      "metadata": {
        "id": "sLsoQy0fXMCj"
      },
      "source": [
        "%%bash\n",
        "source /content/gromacs/bin/GMXRC\n",
        "\n",
        "#This is a trick to provide interactive options to gmx\n",
        "echo \"Pressure\" > options\n",
        "echo \"Density\" >> options\n",
        "echo \" \"\n",
        "\n",
        "#Using energy to extract the pressure and density of the system during the NPT equil MD\n",
        "gmx energy -f npt.edr -o npt_press_dens.xvg -xvg none < options"
      ],
      "execution_count": null,
      "outputs": []
    },
    {
      "cell_type": "code",
      "metadata": {
        "id": "aR-HxTtUXMCp"
      },
      "source": [
        "#Plotting the density of the system\n",
        "import matplotlib.pyplot as plt\n",
        "plt.style.use('seaborn-whitegrid')\n",
        "import numpy as np\n",
        "\n",
        "#Reading the text file containing this information\n",
        "data = np.loadtxt('npt_press_dens.xvg')\n",
        "\n",
        "plt.title('Pressure during 0.1 ns Equilibration (NPT)')\n",
        "plt.xlabel('Time (ps)')\n",
        "plt.ylabel('Pressure [bar]')\n",
        "plt.ylim(-250,250)\n",
        "\n",
        "#Smoothing using Savitzky-Golay\n",
        "from scipy.signal import savgol_filter\n",
        "yhat = savgol_filter(data[:,1], 21, 5)\n",
        "\n",
        "#Plot raw data and spline interpolation\n",
        "plt.plot(data[:,0], data[:,1], linestyle='solid', linewidth='2', color='red')\n",
        "plt.plot(data[:,0], yhat, linestyle='solid', linewidth='2', color='blue') \n",
        "plt.show()"
      ],
      "execution_count": null,
      "outputs": []
    },
    {
      "cell_type": "code",
      "metadata": {
        "id": "VexkxVcWX2Zn"
      },
      "source": [
        "#Plotting the pressure of the system\n",
        "import matplotlib.pyplot as plt\n",
        "plt.style.use('seaborn-whitegrid')\n",
        "import numpy as np\n",
        "\n",
        "#Reading the text file containing this information\n",
        "data = np.loadtxt('npt_press_dens.xvg')\n",
        "\n",
        "plt.title('Pressure during 0.1 ns Equilibration (NPT)')\n",
        "plt.xlabel('Time (ps)')\n",
        "plt.ylabel('Density [kg•m$^{-3}$]')\n",
        "plt.ylim(1000,1020)\n",
        "plt.plot(data[:,0], data[:,2], linestyle='solid', linewidth='2', color='red') \n",
        "plt.show()"
      ],
      "execution_count": null,
      "outputs": []
    },
    {
      "cell_type": "markdown",
      "metadata": {
        "id": "JcSVrpUNdLSZ"
      },
      "source": [
        "**QUESTION❓:** What is the average value of the density along the trajectory? Sounds familiar? \n",
        "\n",
        "Once this section is finished, we can move onto production MD simulations."
      ]
    },
    {
      "cell_type": "markdown",
      "metadata": {
        "id": "zJaUO1kDdSTG"
      },
      "source": [
        "#Part III – Obtain a production MD run and analyze the results"
      ]
    },
    {
      "cell_type": "markdown",
      "metadata": {
        "id": "OA-LlTAYdt1z"
      },
      "source": [
        "Now we are ready for running our MD simulations. If we are using a typical NPT ensemble, we can just continue our simulation similar to our second equilibration, but without having any position restraints (without the `-r` option).\n",
        "\n",
        "1. If you have paid attention to our previous MD runs, you will fully understand what is annotated in the following code cells. Due to time constraints and the size of the system, we are only generating **0.1 ns of production runs**, whilst you will find that simulations in current articles often correspond to hundreds of ns."
      ]
    },
    {
      "cell_type": "code",
      "metadata": {
        "id": "r2K3pzyn3q7G"
      },
      "source": [
        "%%bash\n",
        "wget https://raw.githubusercontent.com/pb3lab/ibm3202/master/files/md.mdp\n",
        "\n",
        "#Using grompp to prepare our production MD\n",
        "source /content/gromacs/bin/GMXRC\n",
        "gmx grompp -f md.mdp -c npt.gro -t npt.cpt -p topol.top -o md_1.tpr"
      ],
      "execution_count": null,
      "outputs": []
    },
    {
      "cell_type": "code",
      "metadata": {
        "id": "ZXMGhAGljiKO"
      },
      "source": [
        "#Check the content of the production MD file\n",
        "!paste md.mdp"
      ],
      "execution_count": null,
      "outputs": []
    },
    {
      "cell_type": "code",
      "metadata": {
        "id": "2uCHqEtG32wX"
      },
      "source": [
        "%%time\n",
        "%%bash\n",
        "#Run our production MD\n",
        "source /content/gromacs/bin/GMXRC\n",
        "gmx mdrun -deffnm md_1 -nb gpu"
      ],
      "execution_count": null,
      "outputs": []
    },
    {
      "cell_type": "markdown",
      "metadata": {
        "id": "5aPBlo6fp5xn"
      },
      "source": [
        "2. To finalize, we will visualize our simulation. For this, we will use the `trjconv` module to extract only the protein from our system and convert our trajectory into a PDB file.\n",
        "\n",
        "  Given that our protein may have drifted from the center of the box and reached its edges, we will also take the opportunity to recenter the periodic box on our protein such that its atoms do not stretch through the edges of the periodic boundary conditions using the `-pbc mol` and `-center` options."
      ]
    },
    {
      "cell_type": "code",
      "metadata": {
        "id": "OdH62ynFqRsc"
      },
      "source": [
        "%%bash\n",
        "source /content/gromacs/bin/GMXRC\n",
        "\n",
        "#This is a trick to provide interactive options to gmx\n",
        "echo \"Protein\" > options\n",
        "echo \"Protein\" >> options\n",
        "echo \" \"\n",
        "\n",
        "#Using trjconv to extract only the protein atoms from the simulation trajectory\n",
        "#and also recenter the protein if its atoms crossed the periodic boundaries\n",
        "gmx trjconv -s md_1.tpr -f md_1.xtc -o md_1_protPBC.pdb -pbc mol -center < options"
      ],
      "execution_count": null,
      "outputs": []
    },
    {
      "cell_type": "markdown",
      "metadata": {
        "id": "23m5RfV5tAoq"
      },
      "source": [
        "3. Now, you can download this new PDB file and load it onto [**NGLviewer**](http://nglviewer.org/ngl/) as a **trajectory** PDB file to visualize the protein motions explored within this short simulation time."
      ]
    },
    {
      "cell_type": "markdown",
      "metadata": {
        "id": "pDnk_ca3ydBI"
      },
      "source": [
        "😱 **EMERGENCY BACKUP!** If you did not obtain the production MD trajectory on time, you can download <a href=\"https://github.com/pb3lab/ibm3202/blob/master/files/emergency_backup/lab07/md_1_protPBC.pdb\" target=\"_blank\"/>this 0.2 ns trajectory</a> by clicking with the right button on *View Raw* and selecting to download it as a file."
      ]
    },
    {
      "cell_type": "markdown",
      "metadata": {
        "id": "ACJSETwdymVx"
      },
      "source": [
        "**And this is the end of the seventh tutorial!** On the next tutorial, we will learn how to perform some analysis of our MD production runs. \n",
        "\n",
        "If you want to download your results, you can perform the following commands:"
      ]
    },
    {
      "cell_type": "code",
      "metadata": {
        "id": "DPQP2YWD48xx"
      },
      "source": [
        "os.chdir(\"/content/\")\n",
        "!zip -r md.zip $mdpath\n",
        "from google.colab import files\n",
        "files.download(\"/content/md.zip\")\n",
        "os.chdir(mdpath)"
      ],
      "execution_count": null,
      "outputs": []
    },
    {
      "cell_type": "markdown",
      "metadata": {
        "id": "0v1n-Y8LwcUn"
      },
      "source": [
        "**📚HOMEWORK:** Once you got here, you can perform several exercises!\n",
        "\n",
        "1.\tTry to perform the equilibration without minimization of the simulation system (i.e. skip the use of em.mdp and go straight onto equilibration).\n",
        "2.\tChange the timestep from 2 fs to 4 fs or 5 fs, and check what happens with the simulation system in terms of stability. If you get some warnings and no .tpr file is compiled, you can add the `-maxwarn X` option, where `X` is the number of warnings from GROMACS that you will ignore.\n",
        "\n",
        "With these examples, it will be possible to better understand why defining the proper timestep and adequately minimize and equilibrate the system are important steps in all MD simulations.\n",
        "\n",
        "3. Run your simulation for a longer time (for example, 1 ns; ~ 1 h on Google Colab)."
      ]
    }
  ]
}