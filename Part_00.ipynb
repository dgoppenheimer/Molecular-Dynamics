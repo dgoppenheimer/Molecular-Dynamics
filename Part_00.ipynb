{
  "nbformat": 4,
  "nbformat_minor": 0,
  "metadata": {
    "colab": {
      "name": "Part.00.ipynb",
      "provenance": [],
      "collapsed_sections": [],
      "authorship_tag": "ABX9TyPHTxlP+HN3+LvMb2dDi4DT",
      "include_colab_link": true
    },
    "kernelspec": {
      "name": "python3",
      "display_name": "Python 3"
    },
    "language_info": {
      "name": "python"
    }
  },
  "cells": [
    {
      "cell_type": "markdown",
      "metadata": {
        "id": "view-in-github",
        "colab_type": "text"
      },
      "source": [
        "<a href=\"https://colab.research.google.com/github/dgoppenheimer/PCB3109-Cancer-Biology/blob/main/Part_00.ipynb\" target=\"_parent\"><img src=\"https://colab.research.google.com/assets/colab-badge.svg\" alt=\"Open In Colab\"/></a>"
      ]
    },
    {
      "cell_type": "markdown",
      "metadata": {
        "id": "9a9Rk6MA0DIL"
      },
      "source": [
        "# Introduction"
      ]
    },
    {
      "cell_type": "markdown",
      "metadata": {
        "id": "D96_S8ew0HcS"
      },
      "source": [
        "<p><img alt=\"Colaboratory logo\" height=\"45px\" src=\"/img/colab_favicon.ico\" align=\"left\" hspace=\"10px\" vspace=\"0px\"> </p>\n",
        "\n",
        "<h2>Welcome to Google Colaboratory!</h2>\n",
        "\n",
        "[Google Colaboratory](https://colab.research.google.com/) (hereafter referred to as \"colab\") is a cloud-based platform that allows users to run software on high-performance computer clusters for free. Colab uses the [Jupyter Notebook](https://jupyter.org/) format, which allows users to write and store code, computing output, visualizations, and text within a web browser.\n",
        "\n",
        "Let's get started!\n",
        "\n",
        "To complete this introductory assignment (Part.00) you will need the following:\n",
        "\n",
        "1. A UFL Google Account so that you can save your work to the UFL Google Drive (G-drive), which has unlimited storage. For help with G-Drive, visit the [Google Drive Help](https://support.google.com/drive/?hl=en#topic=14940) website.\n",
        "\n",
        "2. A [Chrome](https://www.google.com/chrome/) web browser. Working with colab and G-drive works best in Chrome, so if you don't already have it installed, go to [the Chrome download page](https://www.google.com/chrome/) to download and install Chrome on your computer.\n",
        "\n",
        "\n",
        "\n",
        "\n"
      ]
    }
  ]
}