{
  "nbformat": 4,
  "nbformat_minor": 0,
  "metadata": {
    "colab": {
      "name": "dgo-Analyzing-Proteins.ipynb",
      "provenance": [],
      "mount_file_id": "132iakz8KZqxtGsxPcU8Gcax_A6ZhA2ep",
      "authorship_tag": "ABX9TyODfyAmgtQux1sfRwdBfrmE",
      "include_colab_link": true
    },
    "kernelspec": {
      "name": "python3",
      "display_name": "Python 3"
    },
    "language_info": {
      "name": "python"
    }
  },
  "cells": [
    {
      "cell_type": "markdown",
      "metadata": {
        "id": "view-in-github",
        "colab_type": "text"
      },
      "source": [
        "<a href=\"https://colab.research.google.com/github/dgoppenheimer/Molecular-Dynamics/blob/main/dgo_Analyzing_Proteins.ipynb\" target=\"_parent\"><img src=\"https://colab.research.google.com/assets/colab-badge.svg\" alt=\"Open In Colab\"/></a>"
      ]
    },
    {
      "cell_type": "markdown",
      "source": [
        "# Introduction\n",
        "\n",
        "There are many reasons to examine and manipulate the `.pdb` structure files downloaded from the [RCSB database](https://www.rcsb.org/). The structure files contain more than just positional information about the atoms that make up the protein. To better understand the data contained in PDB files, see [Introduction to PDB Data](https://pdb101.rcsb.org/learn/guide-to-understanding-pdb-data/introduction) including the following left menu items:\n",
        "\n",
        "- [Biological Assemblies](https://pdb101.rcsb.org/learn/guide-to-understanding-pdb-data/biological-assemblies)\n",
        "- [Dealing with Coordinates](https://pdb101.rcsb.org/learn/guide-to-understanding-pdb-data/dealing-with-coordinates)\n",
        "- [Methods for Determining Atomic Structures](https://pdb101.rcsb.org/learn/guide-to-understanding-pdb-data/methods-for-determining-structure)\n",
        "- [Missing Coordinates and Biological Assemblies](https://pdb101.rcsb.org/learn/guide-to-understanding-pdb-data/missing-coordinates-and-biological-assemblies)\n",
        "- [Resolution](https://pdb101.rcsb.org/learn/guide-to-understanding-pdb-data/resolution)\n",
        "- [R-value and R-free](https://pdb101.rcsb.org/learn/guide-to-understanding-pdb-data/r-value-and-r-free)\n",
        "- [Primary Sequences and the PDB Format](https://pdb101.rcsb.org/learn/guide-to-understanding-pdb-data/primary-sequences-and-the-pdb-format)\n",
        "- [Small Molecule Ligands](https://pdb101.rcsb.org/learn/guide-to-understanding-pdb-data/small-molecule-ligands)\n",
        "- [Beginner’s Guide to PDB Structures and the PDBx/mmCIF Format](https://pdb101.rcsb.org/learn/guide-to-understanding-pdb-data/beginner%E2%80%99s-guide-to-pdb-structures-and-the-pdbx-mmcif-format)\n",
        "\n",
        "In this tutorial we will use the free, open-source, software, [MDAnalysis](https://www.mdanalysis.org/), to explore and analyze protein structure (`.pdb`) files. For more information on MDAnalysis installation and usage, visit the [MDAnalysis User Guide](https://userguide.mdanalysis.org/stable/index.html).\n",
        "\n",
        "This tutorial is largely based on the excellent [12. Analysing proteins using python](https://github.com/bigginlab/OxCompBio/blob/master/tutorials/Python/12_ProteinAnalysis/12_ProteinAnalysis.ipynb) tutorial by the [Biggin Laboratory](https://bigginlab.web.ox.ac.uk/) at the University of Oxford."
      ],
      "metadata": {
        "id": "ybG-3Q1NhRM1"
      }
    },
    {
      "cell_type": "markdown",
      "source": [
        ""
      ],
      "metadata": {
        "id": "6G4mT0jMu8sS"
      }
    },
    {
      "cell_type": "code",
      "execution_count": null,
      "metadata": {
        "id": "1FG7mLwuV-Fj"
      },
      "outputs": [],
      "source": [
        ""
      ]
    }
  ]
}